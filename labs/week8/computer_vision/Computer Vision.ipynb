{
 "cells": [
  {
   "cell_type": "markdown",
   "id": "adc48d9a",
   "metadata": {},
   "source": [
    "## In a jupyter notebook, using the appropriate markdown method include at least one link to a website, news article or blog which discusses ethical issues with computer vision applications and add your personal thoughts and interpretation of this issue. Here is an example if you are not sure what to look for."
   ]
  },
  {
   "cell_type": "markdown",
   "id": "b49bf7df",
   "metadata": {},
   "source": [
    "https://innodata.com/ethical-issues-in-computer-vision-and-strategies-for-success/#:~:text=Ethical%20Concerns%20in%20the%20Use,the%20lack%20of%20informed%20consent"
   ]
  },
  {
   "cell_type": "markdown",
   "id": "a5e89b10",
   "metadata": {},
   "source": [
    "In this article we can focus in the ethical issue about scrape facial images without the consent of the person involved. Some goverments use that data to train models in order to develope techniques for military or surveillance purposes. This is ethically reprehensible, so in this case, this ethical problem it becomes a political problem when the goverments are involved. So, in order to use computer vision and facial recognition ethically and responsibly the goverments should create by law some procedures to put all these techniques under government regulations, and institutional reviews. "
   ]
  },
  {
   "cell_type": "markdown",
   "id": "c251311d",
   "metadata": {},
   "source": [
    "## use the https://vision-explorer.allenai.org/text_to_image_generation to generate an image from a caption you provide (choosing a theme from the drop down list), which you should display inside your notebook with the caption you provided and an evaluation of how good a job you feel the machine has done-hint: you will need an image display method, for example"
   ]
  },
  {
   "cell_type": "markdown",
   "id": "4548c4e4",
   "metadata": {},
   "source": [
    "- Using the next captation: "
   ]
  },
  {
   "cell_type": "markdown",
   "id": "0a4b93ff",
   "metadata": {},
   "source": [
    "car in the forest"
   ]
  },
  {
   "cell_type": "markdown",
   "id": "a7cf8acd",
   "metadata": {},
   "source": [
    "- It displays the next image:"
   ]
  },
  {
   "cell_type": "code",
   "execution_count": 1,
   "id": "2d5e03bf",
   "metadata": {},
   "outputs": [],
   "source": [
    "from PIL import Image"
   ]
  },
  {
   "cell_type": "code",
   "execution_count": 6,
   "id": "2cde84b3",
   "metadata": {},
   "outputs": [],
   "source": [
    "im = Image.open(\"car_forest.png\")\n",
    "im.show()"
   ]
  },
  {
   "cell_type": "markdown",
   "id": "50445c2f",
   "metadata": {},
   "source": [
    "## read this blog article. Link the url to your notebook using the appropriate markdown technique and add a summary into your notebook (as markdown) of any image processing steps you saw the author employ."
   ]
  },
  {
   "cell_type": "markdown",
   "id": "35a92157",
   "metadata": {},
   "source": [
    "https://thedatafrog.com/en/articles/dogs-vs-cats/"
   ]
  },
  {
   "cell_type": "markdown",
   "id": "249c94ea",
   "metadata": {},
   "source": [
    "1- Show the images as plots.  \n",
    "2- Check the height and width of the image in pixels, as well as the maximum color level.  \n",
    "3- Cleaning steps in order to remove the images of dogs and cats that probably can not interpretate the machine correctly.  \n",
    "4- Using the ImageDataGenerator method from the API Keras library to turn the images into batches of data arrays in memory in order to fed the network during training.  \n",
    "5- ImageDataGenerator creates a label for each image depending on the directory.   \n",
    "6- One-hot encoding is used for the labels to proceed with a later classification.  \n",
    "7- Using batches, plot the images for validation in order to check if the labels encoded matches correctly with the images.  \n",
    "8- Creates a training dataset from a subset of the dog and cat images.  \n",
    "9- Avoid overfitting cause the network can lose the ability to classify an arbitrary image as a dog or cat image.   \n",
    "10- Creates a validation dataset to evaluate the performance of the network.  \n",
    "11- Generate a deep convolutional neural networks to classify images.  \n",
    "12- Use different layers and features for the convolutional neural networks, reviewing the accuracy, and check if the model is overfitting or underfitting.  \n",
    "13- Compile the model training the neural network using the optimizer AdaMax from Keras.  \n",
    "14- A function to plot the loss and the accuracy for both the training and validation datasets.  \n",
    "15- Using again ImageDataGenerator, is working in data augmentation to generate new training examples in order to increase artificially the size of the training sample.  \n",
    "16- Also is using some transformation as rotation etc.. with ImageDataGenerator.  \n",
    "17- Repeating the steps 12, 13 and 14.  \n",
    "18- Use a pre-trained model ResNet50 from ImageNet dataset.  \n",
    "19- Finally, define a function to evaluate the model on an input image.\n",
    "\n",
    "\n"
   ]
  },
  {
   "cell_type": "code",
   "execution_count": null,
   "id": "a8ab06b3",
   "metadata": {},
   "outputs": [],
   "source": []
  }
 ],
 "metadata": {
  "kernelspec": {
   "display_name": "Python 3 (ipykernel)",
   "language": "python",
   "name": "python3"
  },
  "language_info": {
   "codemirror_mode": {
    "name": "ipython",
    "version": 3
   },
   "file_extension": ".py",
   "mimetype": "text/x-python",
   "name": "python",
   "nbconvert_exporter": "python",
   "pygments_lexer": "ipython3",
   "version": "3.9.7"
  },
  "toc": {
   "base_numbering": 1,
   "nav_menu": {},
   "number_sections": true,
   "sideBar": true,
   "skip_h1_title": false,
   "title_cell": "Table of Contents",
   "title_sidebar": "Contents",
   "toc_cell": false,
   "toc_position": {},
   "toc_section_display": true,
   "toc_window_display": false
  },
  "varInspector": {
   "cols": {
    "lenName": 16,
    "lenType": 16,
    "lenVar": 40
   },
   "kernels_config": {
    "python": {
     "delete_cmd_postfix": "",
     "delete_cmd_prefix": "del ",
     "library": "var_list.py",
     "varRefreshCmd": "print(var_dic_list())"
    },
    "r": {
     "delete_cmd_postfix": ") ",
     "delete_cmd_prefix": "rm(",
     "library": "var_list.r",
     "varRefreshCmd": "cat(var_dic_list()) "
    }
   },
   "types_to_exclude": [
    "module",
    "function",
    "builtin_function_or_method",
    "instance",
    "_Feature"
   ],
   "window_display": false
  }
 },
 "nbformat": 4,
 "nbformat_minor": 5
}
