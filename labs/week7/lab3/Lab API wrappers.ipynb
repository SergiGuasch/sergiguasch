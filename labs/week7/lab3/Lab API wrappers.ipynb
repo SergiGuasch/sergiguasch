{
 "cells": [
  {
   "cell_type": "markdown",
   "id": "fc492fa9",
   "metadata": {},
   "source": [
    "# LAB Monday: Scrape the current top 100 songs and their respective artists, and put the information into a pandas dataframe."
   ]
  },
  {
   "cell_type": "code",
   "execution_count": 1,
   "id": "40ec80d5",
   "metadata": {},
   "outputs": [],
   "source": [
    "import requests\n",
    "from bs4 import BeautifulSoup"
   ]
  },
  {
   "cell_type": "code",
   "execution_count": 2,
   "id": "668d0849",
   "metadata": {},
   "outputs": [],
   "source": [
    "url='https://www.billboard.com/charts/hot-100/'"
   ]
  },
  {
   "cell_type": "code",
   "execution_count": 3,
   "id": "e538d16f",
   "metadata": {},
   "outputs": [],
   "source": [
    "results=requests.get(url, headers ={'Accept-Language':'en-US'})"
   ]
  },
  {
   "cell_type": "code",
   "execution_count": 4,
   "id": "d62f25c2",
   "metadata": {},
   "outputs": [],
   "source": [
    "soup = BeautifulSoup(results.content,'html.parser')"
   ]
  },
  {
   "cell_type": "raw",
   "id": "d3113dba",
   "metadata": {
    "scrolled": false
   },
   "source": [
    "print(soup.prettify())"
   ]
  },
  {
   "cell_type": "code",
   "execution_count": 5,
   "id": "c45fdab4",
   "metadata": {},
   "outputs": [
    {
     "data": {
      "text/plain": [
       "\"We Don't Talk About Bruno\""
      ]
     },
     "execution_count": 5,
     "metadata": {},
     "output_type": "execute_result"
    }
   ],
   "source": [
    "soup.select('h3.c-title.a-no-trucate')[0].get_text(strip=True)"
   ]
  },
  {
   "cell_type": "code",
   "execution_count": 6,
   "id": "1765018b",
   "metadata": {},
   "outputs": [
    {
     "data": {
      "text/plain": [
       "'Carolina Gaitan, Mauro Castillo, Adassa, Rhenzy Feliz, Diane Guerrero, Stephanie Beatriz & Encanto Cast'"
      ]
     },
     "execution_count": 6,
     "metadata": {},
     "output_type": "execute_result"
    }
   ],
   "source": [
    "soup.select('span.c-label.a-no-trucate')[0].get_text(strip=True)"
   ]
  },
  {
   "cell_type": "code",
   "execution_count": 7,
   "id": "9a42dff2",
   "metadata": {},
   "outputs": [],
   "source": [
    "title=[]\n",
    "artists=[]\n",
    "\n",
    "len_songs=len(soup.select('h3.c-title.a-no-trucate'))"
   ]
  },
  {
   "cell_type": "code",
   "execution_count": 8,
   "id": "ce85efec",
   "metadata": {},
   "outputs": [
    {
     "data": {
      "text/plain": [
       "100"
      ]
     },
     "execution_count": 8,
     "metadata": {},
     "output_type": "execute_result"
    }
   ],
   "source": [
    "len_songs"
   ]
  },
  {
   "cell_type": "raw",
   "id": "c17e1ef5",
   "metadata": {
    "scrolled": true
   },
   "source": [
    "for i in range(len_songs):\n",
    "    title.append(soup.select('h3.c-title.a-no-trucate')[i].get_text(strip=True))\n",
    "    artists.append(soup.select('span.c-label.a-no-trucate')[i].get_text(strip=True))"
   ]
  },
  {
   "cell_type": "code",
   "execution_count": 9,
   "id": "d103742f",
   "metadata": {},
   "outputs": [],
   "source": [
    "# title_df=[]\n",
    "# artist_df=[]\n",
    "\n",
    "# for songs in title:\n",
    "#     title_df.append(songs.replace('\\n', ''))\n",
    "\n",
    "# for songs in artists:\n",
    "#     artist_df.append(songs.replace('\\n', ''))\n",
    "\n",
    "\n",
    "# using strip=True in the step before it is not necessary to replace \\n"
   ]
  },
  {
   "cell_type": "code",
   "execution_count": 10,
   "id": "a3de6166",
   "metadata": {},
   "outputs": [
    {
     "data": {
      "text/plain": [
       "0"
      ]
     },
     "execution_count": 10,
     "metadata": {},
     "output_type": "execute_result"
    }
   ],
   "source": [
    "len(title)"
   ]
  },
  {
   "cell_type": "code",
   "execution_count": 11,
   "id": "237b649d",
   "metadata": {},
   "outputs": [
    {
     "data": {
      "text/plain": [
       "0"
      ]
     },
     "execution_count": 11,
     "metadata": {},
     "output_type": "execute_result"
    }
   ],
   "source": [
    "len(artists)"
   ]
  },
  {
   "cell_type": "code",
   "execution_count": 12,
   "id": "0fd6a2b9",
   "metadata": {},
   "outputs": [
    {
     "data": {
      "text/html": [
       "<div>\n",
       "<style scoped>\n",
       "    .dataframe tbody tr th:only-of-type {\n",
       "        vertical-align: middle;\n",
       "    }\n",
       "\n",
       "    .dataframe tbody tr th {\n",
       "        vertical-align: top;\n",
       "    }\n",
       "\n",
       "    .dataframe thead th {\n",
       "        text-align: right;\n",
       "    }\n",
       "</style>\n",
       "<table border=\"1\" class=\"dataframe\">\n",
       "  <thead>\n",
       "    <tr style=\"text-align: right;\">\n",
       "      <th></th>\n",
       "      <th>Song_title</th>\n",
       "      <th>Artists</th>\n",
       "    </tr>\n",
       "  </thead>\n",
       "  <tbody>\n",
       "  </tbody>\n",
       "</table>\n",
       "</div>"
      ],
      "text/plain": [
       "Empty DataFrame\n",
       "Columns: [Song_title, Artists]\n",
       "Index: []"
      ]
     },
     "execution_count": 12,
     "metadata": {},
     "output_type": "execute_result"
    }
   ],
   "source": [
    "import pandas as pd\n",
    "\n",
    "songs=pd.DataFrame({'Song_title':title, 'Artists':artists})\n",
    "songs"
   ]
  },
  {
   "cell_type": "code",
   "execution_count": 13,
   "id": "5576cd40",
   "metadata": {},
   "outputs": [],
   "source": [
    "import numpy as np\n",
    "songs['Rank']=np.arange(len(songs))+1"
   ]
  },
  {
   "cell_type": "code",
   "execution_count": 14,
   "id": "fe5fb667",
   "metadata": {},
   "outputs": [
    {
     "data": {
      "text/html": [
       "<div>\n",
       "<style scoped>\n",
       "    .dataframe tbody tr th:only-of-type {\n",
       "        vertical-align: middle;\n",
       "    }\n",
       "\n",
       "    .dataframe tbody tr th {\n",
       "        vertical-align: top;\n",
       "    }\n",
       "\n",
       "    .dataframe thead th {\n",
       "        text-align: right;\n",
       "    }\n",
       "</style>\n",
       "<table border=\"1\" class=\"dataframe\">\n",
       "  <thead>\n",
       "    <tr style=\"text-align: right;\">\n",
       "      <th></th>\n",
       "      <th>Song_title</th>\n",
       "      <th>Artists</th>\n",
       "      <th>Rank</th>\n",
       "    </tr>\n",
       "  </thead>\n",
       "  <tbody>\n",
       "  </tbody>\n",
       "</table>\n",
       "</div>"
      ],
      "text/plain": [
       "Empty DataFrame\n",
       "Columns: [Song_title, Artists, Rank]\n",
       "Index: []"
      ]
     },
     "execution_count": 14,
     "metadata": {},
     "output_type": "execute_result"
    }
   ],
   "source": [
    "songs"
   ]
  },
  {
   "cell_type": "markdown",
   "id": "53fcb022",
   "metadata": {},
   "source": [
    "# LAB Tuesday: Prototype with user input"
   ]
  },
  {
   "cell_type": "markdown",
   "id": "8da46363",
   "metadata": {},
   "source": [
    "- collect user input with a prompt eg. 'what song do you like?'\n"
   ]
  },
  {
   "cell_type": "raw",
   "id": "df83966c",
   "metadata": {},
   "source": [
    "input_song= input('what song do you like? ')\n",
    "\n",
    "if input_song in songs['Song_title'].values:\n",
    "    print ('The song exists')\n",
    "else:\n",
    "    print('The song does not match, try again')"
   ]
  },
  {
   "cell_type": "markdown",
   "id": "d2fa092d",
   "metadata": {},
   "source": [
    "- deal with at least one possible user input error / behaviour (you can add more issues and resolutions later) eg. standardise upper/lower case\n",
    "- look for what the user has input, against your 100 hot song collection (more flexible lookup can be added later)\n",
    "- feedback to user if their song is hot or not. "
   ]
  },
  {
   "cell_type": "raw",
   "id": "07205d39",
   "metadata": {},
   "source": [
    "input_song= input('what song do you like? ')\n",
    "lower_song=input_song.lower()\n",
    "\n",
    "df = songs.applymap(lambda s:s.lower() if type(s) == str else s)\n",
    "\n",
    "if lower_song in df['Song_title'].values:\n",
    "    print ('This is a hot song')\n",
    "else:\n",
    "    print('This is not a hot song or does not match with the top 100, try again')"
   ]
  },
  {
   "cell_type": "markdown",
   "id": "17d0b8dc",
   "metadata": {},
   "source": [
    "- provide a recommendation from the collection - potentially randomly"
   ]
  },
  {
   "cell_type": "raw",
   "id": "fb30e58d",
   "metadata": {},
   "source": [
    "from IPython.display import display\n",
    "\n",
    "input_song= input('what song do you like? ')\n",
    "lower_song=input_song.lower()\n",
    "\n",
    "df = songs.applymap(lambda s:s.lower() if type(s) == str else s)\n",
    "\n",
    "if lower_song in df['Song_title'].values:\n",
    "    print ('This is a hot song')\n",
    "else:\n",
    "    print('This is not a hot song or does not match with the top 100, but we suggest you these other hot songs: \\n')\n",
    "    display(songs[['Song_title','Rank']].sample(n=5, random_state=3))"
   ]
  },
  {
   "cell_type": "markdown",
   "id": "c71ab5eb",
   "metadata": {},
   "source": [
    "# LAB Wednesday: API wrappers - Create your collection of songs & audio features"
   ]
  },
  {
   "cell_type": "markdown",
   "id": "9f3de5a3",
   "metadata": {},
   "source": [
    "- Instructions\n",
    "\n",
    "To move forward with the project, you need to create a collection of songs with their audio features - as large as possible!\n",
    "\n",
    "These are the songs that we will cluster. And, later, when the user inputs a song, we will find the cluster to which the song belongs and recommend a song from the same cluster. The more songs you have, the more accurate and diverse recommendations you'll be able to give. Although... you might want to make sure the collected songs are \"curated\" in a certain way. Try to find playlists of songs that are diverse, but also that meet certain standards.\n",
    "\n",
    "The process of sending hundreds or thousands of requests can take some time - it's normal if you have to wait a few minutes (or, if you're ambitious, even hours) to get all the data you need.\n",
    "\n",
    "An idea for collecting as many songs as possible is to start with all the songs of a big, diverse playlist and then go to every artist present in the playlist and grab every song of every album of that artist. The amount of songs you'll be collecting per playlist will grow exponentially!"
   ]
  },
  {
   "cell_type": "code",
   "execution_count": 15,
   "id": "f27e8baf",
   "metadata": {},
   "outputs": [],
   "source": [
    "import spotipy # install if needed\n",
    "from spotipy.oauth2 import SpotifyClientCredentials\n",
    "import getpass"
   ]
  },
  {
   "cell_type": "code",
   "execution_count": 16,
   "id": "d9cfbcfc",
   "metadata": {
    "scrolled": true
   },
   "outputs": [
    {
     "name": "stdout",
     "output_type": "stream",
     "text": [
      "client_id?········\n",
      "client_secret?········\n"
     ]
    }
   ],
   "source": [
    "client_id = str(getpass.getpass('client_id?'))\n",
    "client_secret = str(getpass.getpass('client_secret?'))"
   ]
  },
  {
   "cell_type": "code",
   "execution_count": 17,
   "id": "c1b33c10",
   "metadata": {},
   "outputs": [],
   "source": [
    "client_credentials_manager = SpotifyClientCredentials(client_id, client_secret)\n",
    "sp = spotipy.Spotify(client_credentials_manager = client_credentials_manager)"
   ]
  },
  {
   "cell_type": "code",
   "execution_count": 18,
   "id": "6e9fb236",
   "metadata": {},
   "outputs": [],
   "source": [
    "playlist=sp.user_playlist_tracks('Bradnumber1','1YL4XoegERoragv0RK2RC9')"
   ]
  },
  {
   "cell_type": "code",
   "execution_count": 19,
   "id": "015de5ac",
   "metadata": {},
   "outputs": [
    {
     "data": {
      "text/plain": [
       "dict_keys(['href', 'items', 'limit', 'next', 'offset', 'previous', 'total'])"
      ]
     },
     "execution_count": 19,
     "metadata": {},
     "output_type": "execute_result"
    }
   ],
   "source": [
    "playlist.keys()"
   ]
  },
  {
   "cell_type": "code",
   "execution_count": 20,
   "id": "cd0ce1ba",
   "metadata": {},
   "outputs": [
    {
     "data": {
      "text/plain": [
       "'4QlBUvcyODBn0ukZoYb7v1'"
      ]
     },
     "execution_count": 20,
     "metadata": {},
     "output_type": "execute_result"
    }
   ],
   "source": [
    "playlist['items'][4]['track']['id']"
   ]
  },
  {
   "cell_type": "code",
   "execution_count": 21,
   "id": "451483fe",
   "metadata": {},
   "outputs": [
    {
     "data": {
      "text/plain": [
       "9974"
      ]
     },
     "execution_count": 21,
     "metadata": {},
     "output_type": "execute_result"
    }
   ],
   "source": [
    "playlist['total']"
   ]
  },
  {
   "cell_type": "code",
   "execution_count": 22,
   "id": "78698cae",
   "metadata": {},
   "outputs": [
    {
     "data": {
      "text/plain": [
       "100"
      ]
     },
     "execution_count": 22,
     "metadata": {},
     "output_type": "execute_result"
    }
   ],
   "source": [
    "len(playlist['items'])"
   ]
  },
  {
   "cell_type": "code",
   "execution_count": 23,
   "id": "80601d68",
   "metadata": {
    "scrolled": true
   },
   "outputs": [],
   "source": [
    "def get_playlist_tracks(user_id,playlist_id):\n",
    "    results = sp.user_playlist_tracks(user_id,playlist_id)\n",
    "    tracks = results['items']\n",
    "    while results['next']:\n",
    "        results = sp.next(results)\n",
    "    tracks.extend(results['items'])\n",
    "    return tracks"
   ]
  },
  {
   "cell_type": "code",
   "execution_count": 24,
   "id": "ee53c9a1",
   "metadata": {},
   "outputs": [],
   "source": [
    "full_track_ids=get_playlist_tracks('Bradnumber1','1YL4XoegERoragv0RK2RC9')"
   ]
  },
  {
   "cell_type": "code",
   "execution_count": 25,
   "id": "09b32817",
   "metadata": {},
   "outputs": [
    {
     "data": {
      "text/plain": [
       "174"
      ]
     },
     "execution_count": 25,
     "metadata": {},
     "output_type": "execute_result"
    }
   ],
   "source": [
    "len(full_track_ids)"
   ]
  },
  {
   "cell_type": "code",
   "execution_count": 26,
   "id": "850569f5",
   "metadata": {
    "scrolled": true
   },
   "outputs": [
    {
     "data": {
      "text/plain": [
       "dict_keys(['added_at', 'added_by', 'is_local', 'primary_color', 'track', 'video_thumbnail'])"
      ]
     },
     "execution_count": 26,
     "metadata": {},
     "output_type": "execute_result"
    }
   ],
   "source": [
    "full_track_ids[0].keys()"
   ]
  },
  {
   "cell_type": "code",
   "execution_count": 27,
   "id": "81addda9",
   "metadata": {
    "scrolled": true
   },
   "outputs": [
    {
     "data": {
      "text/plain": [
       "dict_keys(['album', 'artists', 'available_markets', 'disc_number', 'duration_ms', 'episode', 'explicit', 'external_ids', 'external_urls', 'href', 'id', 'is_local', 'name', 'popularity', 'preview_url', 'track', 'track_number', 'type', 'uri'])"
      ]
     },
     "execution_count": 27,
     "metadata": {},
     "output_type": "execute_result"
    }
   ],
   "source": [
    "full_track_ids[0]['track'].keys()"
   ]
  },
  {
   "cell_type": "code",
   "execution_count": 28,
   "id": "072ab988",
   "metadata": {},
   "outputs": [
    {
     "data": {
      "text/plain": [
       "'Seventh Son'"
      ]
     },
     "execution_count": 28,
     "metadata": {},
     "output_type": "execute_result"
    }
   ],
   "source": [
    "full_track_ids[0]['track']['name']"
   ]
  },
  {
   "cell_type": "code",
   "execution_count": 29,
   "id": "24dfa202",
   "metadata": {},
   "outputs": [
    {
     "data": {
      "text/plain": [
       "'Johnny Rivers'"
      ]
     },
     "execution_count": 29,
     "metadata": {},
     "output_type": "execute_result"
    }
   ],
   "source": [
    "full_track_ids[0]['track']['artists'][0]['name']"
   ]
  },
  {
   "cell_type": "code",
   "execution_count": 30,
   "id": "85e27110",
   "metadata": {},
   "outputs": [
    {
     "data": {
      "text/plain": [
       "'6LBueuTAVmHEEezP2cnnZB'"
      ]
     },
     "execution_count": 30,
     "metadata": {},
     "output_type": "execute_result"
    }
   ],
   "source": [
    "full_track_ids[0]['track']['id']"
   ]
  },
  {
   "cell_type": "code",
   "execution_count": 31,
   "id": "e31452ed",
   "metadata": {},
   "outputs": [],
   "source": [
    "title=[]\n",
    "artist=[]\n",
    "song_id=[]\n",
    "\n",
    "for i in full_track_ids:\n",
    "    title.append(i['track']['name'])\n",
    "    artist.append(i['track']['artists'][0]['name'])\n",
    "    song_id.append(i['track']['id'])"
   ]
  },
  {
   "cell_type": "code",
   "execution_count": 32,
   "id": "03abf35e",
   "metadata": {},
   "outputs": [],
   "source": [
    "playlist_df=pd.DataFrame({'title': title, 'artist': artist, 'song_id': song_id})"
   ]
  },
  {
   "cell_type": "code",
   "execution_count": 33,
   "id": "c23903be",
   "metadata": {},
   "outputs": [
    {
     "data": {
      "text/html": [
       "<div>\n",
       "<style scoped>\n",
       "    .dataframe tbody tr th:only-of-type {\n",
       "        vertical-align: middle;\n",
       "    }\n",
       "\n",
       "    .dataframe tbody tr th {\n",
       "        vertical-align: top;\n",
       "    }\n",
       "\n",
       "    .dataframe thead th {\n",
       "        text-align: right;\n",
       "    }\n",
       "</style>\n",
       "<table border=\"1\" class=\"dataframe\">\n",
       "  <thead>\n",
       "    <tr style=\"text-align: right;\">\n",
       "      <th></th>\n",
       "      <th>title</th>\n",
       "      <th>artist</th>\n",
       "      <th>song_id</th>\n",
       "    </tr>\n",
       "  </thead>\n",
       "  <tbody>\n",
       "    <tr>\n",
       "      <th>0</th>\n",
       "      <td>Seventh Son</td>\n",
       "      <td>Johnny Rivers</td>\n",
       "      <td>6LBueuTAVmHEEezP2cnnZB</td>\n",
       "    </tr>\n",
       "    <tr>\n",
       "      <th>1</th>\n",
       "      <td>Nobody's Child</td>\n",
       "      <td>Karen Young</td>\n",
       "      <td>0cA0t6FxX2FZkX0BKZnUTa</td>\n",
       "    </tr>\n",
       "    <tr>\n",
       "      <th>2</th>\n",
       "      <td>Mustang Sally</td>\n",
       "      <td>The Commitments</td>\n",
       "      <td>1XlCCgKKrQQfXaDyv4GrZe</td>\n",
       "    </tr>\n",
       "    <tr>\n",
       "      <th>3</th>\n",
       "      <td>Personality</td>\n",
       "      <td>Lloyd Price</td>\n",
       "      <td>5vjigjfoXuJEttqLB3HTAg</td>\n",
       "    </tr>\n",
       "    <tr>\n",
       "      <th>4</th>\n",
       "      <td>Good Morning Starshine</td>\n",
       "      <td>Oliver</td>\n",
       "      <td>4QlBUvcyODBn0ukZoYb7v1</td>\n",
       "    </tr>\n",
       "    <tr>\n",
       "      <th>...</th>\n",
       "      <td>...</td>\n",
       "      <td>...</td>\n",
       "      <td>...</td>\n",
       "    </tr>\n",
       "    <tr>\n",
       "      <th>169</th>\n",
       "      <td>Sick Cycle Carousel</td>\n",
       "      <td>Lifehouse</td>\n",
       "      <td>1IMi3chVPe4t5MUxIjn4Lk</td>\n",
       "    </tr>\n",
       "    <tr>\n",
       "      <th>170</th>\n",
       "      <td>Kings &amp; Queens</td>\n",
       "      <td>Ava Max</td>\n",
       "      <td>1InCpEliLCkWHOBdXW7XSx</td>\n",
       "    </tr>\n",
       "    <tr>\n",
       "      <th>171</th>\n",
       "      <td>Believer</td>\n",
       "      <td>Guy Sebastian</td>\n",
       "      <td>5CvWCItJ13iDRH2bEZhtjy</td>\n",
       "    </tr>\n",
       "    <tr>\n",
       "      <th>172</th>\n",
       "      <td>Aussie As</td>\n",
       "      <td>Matt Scullion</td>\n",
       "      <td>47DzE0bNSqWj4z3mrPU3gj</td>\n",
       "    </tr>\n",
       "    <tr>\n",
       "      <th>173</th>\n",
       "      <td>Better Days</td>\n",
       "      <td>Pete Murray</td>\n",
       "      <td>38ch7Tu4x3oMbmV2HjMG3q</td>\n",
       "    </tr>\n",
       "  </tbody>\n",
       "</table>\n",
       "<p>174 rows × 3 columns</p>\n",
       "</div>"
      ],
      "text/plain": [
       "                      title           artist                 song_id\n",
       "0               Seventh Son    Johnny Rivers  6LBueuTAVmHEEezP2cnnZB\n",
       "1            Nobody's Child      Karen Young  0cA0t6FxX2FZkX0BKZnUTa\n",
       "2             Mustang Sally  The Commitments  1XlCCgKKrQQfXaDyv4GrZe\n",
       "3               Personality      Lloyd Price  5vjigjfoXuJEttqLB3HTAg\n",
       "4    Good Morning Starshine           Oliver  4QlBUvcyODBn0ukZoYb7v1\n",
       "..                      ...              ...                     ...\n",
       "169     Sick Cycle Carousel        Lifehouse  1IMi3chVPe4t5MUxIjn4Lk\n",
       "170          Kings & Queens          Ava Max  1InCpEliLCkWHOBdXW7XSx\n",
       "171                Believer    Guy Sebastian  5CvWCItJ13iDRH2bEZhtjy\n",
       "172               Aussie As    Matt Scullion  47DzE0bNSqWj4z3mrPU3gj\n",
       "173             Better Days      Pete Murray  38ch7Tu4x3oMbmV2HjMG3q\n",
       "\n",
       "[174 rows x 3 columns]"
      ]
     },
     "execution_count": 33,
     "metadata": {},
     "output_type": "execute_result"
    }
   ],
   "source": [
    "playlist_df"
   ]
  },
  {
   "cell_type": "code",
   "execution_count": 34,
   "id": "6e7e333e",
   "metadata": {},
   "outputs": [],
   "source": [
    "spaceplaylist=[]\n",
    "for i in range(len(playlist_df)):\n",
    "    spaceplaylist.extend(sp.audio_features(tracks=playlist_df['song_id'][i]))"
   ]
  },
  {
   "cell_type": "raw",
   "id": "10b116c3",
   "metadata": {},
   "source": [
    "spaceplaylist"
   ]
  },
  {
   "cell_type": "code",
   "execution_count": 35,
   "id": "3cb5f5ff",
   "metadata": {},
   "outputs": [],
   "source": [
    "song_features=pd.DataFrame.from_dict(spaceplaylist)"
   ]
  },
  {
   "cell_type": "code",
   "execution_count": 36,
   "id": "9c4f80eb",
   "metadata": {},
   "outputs": [
    {
     "data": {
      "text/html": [
       "<div>\n",
       "<style scoped>\n",
       "    .dataframe tbody tr th:only-of-type {\n",
       "        vertical-align: middle;\n",
       "    }\n",
       "\n",
       "    .dataframe tbody tr th {\n",
       "        vertical-align: top;\n",
       "    }\n",
       "\n",
       "    .dataframe thead th {\n",
       "        text-align: right;\n",
       "    }\n",
       "</style>\n",
       "<table border=\"1\" class=\"dataframe\">\n",
       "  <thead>\n",
       "    <tr style=\"text-align: right;\">\n",
       "      <th></th>\n",
       "      <th>danceability</th>\n",
       "      <th>energy</th>\n",
       "      <th>key</th>\n",
       "      <th>loudness</th>\n",
       "      <th>mode</th>\n",
       "      <th>speechiness</th>\n",
       "      <th>acousticness</th>\n",
       "      <th>instrumentalness</th>\n",
       "      <th>liveness</th>\n",
       "      <th>valence</th>\n",
       "      <th>tempo</th>\n",
       "      <th>type</th>\n",
       "      <th>id</th>\n",
       "      <th>uri</th>\n",
       "      <th>track_href</th>\n",
       "      <th>analysis_url</th>\n",
       "      <th>duration_ms</th>\n",
       "      <th>time_signature</th>\n",
       "    </tr>\n",
       "  </thead>\n",
       "  <tbody>\n",
       "    <tr>\n",
       "      <th>0</th>\n",
       "      <td>0.462</td>\n",
       "      <td>0.714</td>\n",
       "      <td>9</td>\n",
       "      <td>-9.702</td>\n",
       "      <td>1</td>\n",
       "      <td>0.0706</td>\n",
       "      <td>0.58200</td>\n",
       "      <td>0.000002</td>\n",
       "      <td>0.7630</td>\n",
       "      <td>0.890</td>\n",
       "      <td>147.778</td>\n",
       "      <td>audio_features</td>\n",
       "      <td>6LBueuTAVmHEEezP2cnnZB</td>\n",
       "      <td>spotify:track:6LBueuTAVmHEEezP2cnnZB</td>\n",
       "      <td>https://api.spotify.com/v1/tracks/6LBueuTAVmHE...</td>\n",
       "      <td>https://api.spotify.com/v1/audio-analysis/6LBu...</td>\n",
       "      <td>173035</td>\n",
       "      <td>4</td>\n",
       "    </tr>\n",
       "    <tr>\n",
       "      <th>1</th>\n",
       "      <td>0.520</td>\n",
       "      <td>0.417</td>\n",
       "      <td>9</td>\n",
       "      <td>-10.809</td>\n",
       "      <td>1</td>\n",
       "      <td>0.0282</td>\n",
       "      <td>0.76200</td>\n",
       "      <td>0.000000</td>\n",
       "      <td>0.1790</td>\n",
       "      <td>0.667</td>\n",
       "      <td>106.230</td>\n",
       "      <td>audio_features</td>\n",
       "      <td>0cA0t6FxX2FZkX0BKZnUTa</td>\n",
       "      <td>spotify:track:0cA0t6FxX2FZkX0BKZnUTa</td>\n",
       "      <td>https://api.spotify.com/v1/tracks/0cA0t6FxX2FZ...</td>\n",
       "      <td>https://api.spotify.com/v1/audio-analysis/0cA0...</td>\n",
       "      <td>263347</td>\n",
       "      <td>4</td>\n",
       "    </tr>\n",
       "    <tr>\n",
       "      <th>2</th>\n",
       "      <td>0.744</td>\n",
       "      <td>0.735</td>\n",
       "      <td>1</td>\n",
       "      <td>-10.766</td>\n",
       "      <td>1</td>\n",
       "      <td>0.0587</td>\n",
       "      <td>0.01100</td>\n",
       "      <td>0.000000</td>\n",
       "      <td>0.0564</td>\n",
       "      <td>0.891</td>\n",
       "      <td>115.062</td>\n",
       "      <td>audio_features</td>\n",
       "      <td>1XlCCgKKrQQfXaDyv4GrZe</td>\n",
       "      <td>spotify:track:1XlCCgKKrQQfXaDyv4GrZe</td>\n",
       "      <td>https://api.spotify.com/v1/tracks/1XlCCgKKrQQf...</td>\n",
       "      <td>https://api.spotify.com/v1/audio-analysis/1XlC...</td>\n",
       "      <td>241867</td>\n",
       "      <td>4</td>\n",
       "    </tr>\n",
       "    <tr>\n",
       "      <th>3</th>\n",
       "      <td>0.591</td>\n",
       "      <td>0.454</td>\n",
       "      <td>5</td>\n",
       "      <td>-8.936</td>\n",
       "      <td>1</td>\n",
       "      <td>0.0322</td>\n",
       "      <td>0.74400</td>\n",
       "      <td>0.000000</td>\n",
       "      <td>0.0989</td>\n",
       "      <td>0.865</td>\n",
       "      <td>128.909</td>\n",
       "      <td>audio_features</td>\n",
       "      <td>5vjigjfoXuJEttqLB3HTAg</td>\n",
       "      <td>spotify:track:5vjigjfoXuJEttqLB3HTAg</td>\n",
       "      <td>https://api.spotify.com/v1/tracks/5vjigjfoXuJE...</td>\n",
       "      <td>https://api.spotify.com/v1/audio-analysis/5vji...</td>\n",
       "      <td>157733</td>\n",
       "      <td>4</td>\n",
       "    </tr>\n",
       "    <tr>\n",
       "      <th>4</th>\n",
       "      <td>0.648</td>\n",
       "      <td>0.560</td>\n",
       "      <td>3</td>\n",
       "      <td>-9.175</td>\n",
       "      <td>0</td>\n",
       "      <td>0.1470</td>\n",
       "      <td>0.49100</td>\n",
       "      <td>0.000000</td>\n",
       "      <td>0.3570</td>\n",
       "      <td>0.698</td>\n",
       "      <td>126.517</td>\n",
       "      <td>audio_features</td>\n",
       "      <td>4QlBUvcyODBn0ukZoYb7v1</td>\n",
       "      <td>spotify:track:4QlBUvcyODBn0ukZoYb7v1</td>\n",
       "      <td>https://api.spotify.com/v1/tracks/4QlBUvcyODBn...</td>\n",
       "      <td>https://api.spotify.com/v1/audio-analysis/4QlB...</td>\n",
       "      <td>218467</td>\n",
       "      <td>4</td>\n",
       "    </tr>\n",
       "    <tr>\n",
       "      <th>...</th>\n",
       "      <td>...</td>\n",
       "      <td>...</td>\n",
       "      <td>...</td>\n",
       "      <td>...</td>\n",
       "      <td>...</td>\n",
       "      <td>...</td>\n",
       "      <td>...</td>\n",
       "      <td>...</td>\n",
       "      <td>...</td>\n",
       "      <td>...</td>\n",
       "      <td>...</td>\n",
       "      <td>...</td>\n",
       "      <td>...</td>\n",
       "      <td>...</td>\n",
       "      <td>...</td>\n",
       "      <td>...</td>\n",
       "      <td>...</td>\n",
       "      <td>...</td>\n",
       "    </tr>\n",
       "    <tr>\n",
       "      <th>169</th>\n",
       "      <td>0.445</td>\n",
       "      <td>0.800</td>\n",
       "      <td>8</td>\n",
       "      <td>-5.228</td>\n",
       "      <td>0</td>\n",
       "      <td>0.0301</td>\n",
       "      <td>0.00168</td>\n",
       "      <td>0.000001</td>\n",
       "      <td>0.0802</td>\n",
       "      <td>0.470</td>\n",
       "      <td>95.481</td>\n",
       "      <td>audio_features</td>\n",
       "      <td>1IMi3chVPe4t5MUxIjn4Lk</td>\n",
       "      <td>spotify:track:1IMi3chVPe4t5MUxIjn4Lk</td>\n",
       "      <td>https://api.spotify.com/v1/tracks/1IMi3chVPe4t...</td>\n",
       "      <td>https://api.spotify.com/v1/audio-analysis/1IMi...</td>\n",
       "      <td>263400</td>\n",
       "      <td>4</td>\n",
       "    </tr>\n",
       "    <tr>\n",
       "      <th>170</th>\n",
       "      <td>0.637</td>\n",
       "      <td>0.690</td>\n",
       "      <td>1</td>\n",
       "      <td>-4.057</td>\n",
       "      <td>0</td>\n",
       "      <td>0.0405</td>\n",
       "      <td>0.00786</td>\n",
       "      <td>0.000000</td>\n",
       "      <td>0.1240</td>\n",
       "      <td>0.457</td>\n",
       "      <td>129.857</td>\n",
       "      <td>audio_features</td>\n",
       "      <td>1InCpEliLCkWHOBdXW7XSx</td>\n",
       "      <td>spotify:track:1InCpEliLCkWHOBdXW7XSx</td>\n",
       "      <td>https://api.spotify.com/v1/tracks/1InCpEliLCkW...</td>\n",
       "      <td>https://api.spotify.com/v1/audio-analysis/1InC...</td>\n",
       "      <td>162399</td>\n",
       "      <td>4</td>\n",
       "    </tr>\n",
       "    <tr>\n",
       "      <th>171</th>\n",
       "      <td>0.376</td>\n",
       "      <td>0.505</td>\n",
       "      <td>9</td>\n",
       "      <td>-5.534</td>\n",
       "      <td>1</td>\n",
       "      <td>0.0353</td>\n",
       "      <td>0.29600</td>\n",
       "      <td>0.000000</td>\n",
       "      <td>0.0846</td>\n",
       "      <td>0.299</td>\n",
       "      <td>177.794</td>\n",
       "      <td>audio_features</td>\n",
       "      <td>5CvWCItJ13iDRH2bEZhtjy</td>\n",
       "      <td>spotify:track:5CvWCItJ13iDRH2bEZhtjy</td>\n",
       "      <td>https://api.spotify.com/v1/tracks/5CvWCItJ13iD...</td>\n",
       "      <td>https://api.spotify.com/v1/audio-analysis/5CvW...</td>\n",
       "      <td>225493</td>\n",
       "      <td>3</td>\n",
       "    </tr>\n",
       "    <tr>\n",
       "      <th>172</th>\n",
       "      <td>0.530</td>\n",
       "      <td>0.340</td>\n",
       "      <td>2</td>\n",
       "      <td>-9.308</td>\n",
       "      <td>1</td>\n",
       "      <td>0.0279</td>\n",
       "      <td>0.57400</td>\n",
       "      <td>0.000002</td>\n",
       "      <td>0.1440</td>\n",
       "      <td>0.231</td>\n",
       "      <td>76.959</td>\n",
       "      <td>audio_features</td>\n",
       "      <td>47DzE0bNSqWj4z3mrPU3gj</td>\n",
       "      <td>spotify:track:47DzE0bNSqWj4z3mrPU3gj</td>\n",
       "      <td>https://api.spotify.com/v1/tracks/47DzE0bNSqWj...</td>\n",
       "      <td>https://api.spotify.com/v1/audio-analysis/47Dz...</td>\n",
       "      <td>219840</td>\n",
       "      <td>5</td>\n",
       "    </tr>\n",
       "    <tr>\n",
       "      <th>173</th>\n",
       "      <td>0.638</td>\n",
       "      <td>0.571</td>\n",
       "      <td>1</td>\n",
       "      <td>-7.311</td>\n",
       "      <td>1</td>\n",
       "      <td>0.0248</td>\n",
       "      <td>0.14100</td>\n",
       "      <td>0.000141</td>\n",
       "      <td>0.2750</td>\n",
       "      <td>0.339</td>\n",
       "      <td>113.978</td>\n",
       "      <td>audio_features</td>\n",
       "      <td>38ch7Tu4x3oMbmV2HjMG3q</td>\n",
       "      <td>spotify:track:38ch7Tu4x3oMbmV2HjMG3q</td>\n",
       "      <td>https://api.spotify.com/v1/tracks/38ch7Tu4x3oM...</td>\n",
       "      <td>https://api.spotify.com/v1/audio-analysis/38ch...</td>\n",
       "      <td>222987</td>\n",
       "      <td>4</td>\n",
       "    </tr>\n",
       "  </tbody>\n",
       "</table>\n",
       "<p>174 rows × 18 columns</p>\n",
       "</div>"
      ],
      "text/plain": [
       "     danceability  energy  key  loudness  mode  speechiness  acousticness  \\\n",
       "0           0.462   0.714    9    -9.702     1       0.0706       0.58200   \n",
       "1           0.520   0.417    9   -10.809     1       0.0282       0.76200   \n",
       "2           0.744   0.735    1   -10.766     1       0.0587       0.01100   \n",
       "3           0.591   0.454    5    -8.936     1       0.0322       0.74400   \n",
       "4           0.648   0.560    3    -9.175     0       0.1470       0.49100   \n",
       "..            ...     ...  ...       ...   ...          ...           ...   \n",
       "169         0.445   0.800    8    -5.228     0       0.0301       0.00168   \n",
       "170         0.637   0.690    1    -4.057     0       0.0405       0.00786   \n",
       "171         0.376   0.505    9    -5.534     1       0.0353       0.29600   \n",
       "172         0.530   0.340    2    -9.308     1       0.0279       0.57400   \n",
       "173         0.638   0.571    1    -7.311     1       0.0248       0.14100   \n",
       "\n",
       "     instrumentalness  liveness  valence    tempo            type  \\\n",
       "0            0.000002    0.7630    0.890  147.778  audio_features   \n",
       "1            0.000000    0.1790    0.667  106.230  audio_features   \n",
       "2            0.000000    0.0564    0.891  115.062  audio_features   \n",
       "3            0.000000    0.0989    0.865  128.909  audio_features   \n",
       "4            0.000000    0.3570    0.698  126.517  audio_features   \n",
       "..                ...       ...      ...      ...             ...   \n",
       "169          0.000001    0.0802    0.470   95.481  audio_features   \n",
       "170          0.000000    0.1240    0.457  129.857  audio_features   \n",
       "171          0.000000    0.0846    0.299  177.794  audio_features   \n",
       "172          0.000002    0.1440    0.231   76.959  audio_features   \n",
       "173          0.000141    0.2750    0.339  113.978  audio_features   \n",
       "\n",
       "                         id                                   uri  \\\n",
       "0    6LBueuTAVmHEEezP2cnnZB  spotify:track:6LBueuTAVmHEEezP2cnnZB   \n",
       "1    0cA0t6FxX2FZkX0BKZnUTa  spotify:track:0cA0t6FxX2FZkX0BKZnUTa   \n",
       "2    1XlCCgKKrQQfXaDyv4GrZe  spotify:track:1XlCCgKKrQQfXaDyv4GrZe   \n",
       "3    5vjigjfoXuJEttqLB3HTAg  spotify:track:5vjigjfoXuJEttqLB3HTAg   \n",
       "4    4QlBUvcyODBn0ukZoYb7v1  spotify:track:4QlBUvcyODBn0ukZoYb7v1   \n",
       "..                      ...                                   ...   \n",
       "169  1IMi3chVPe4t5MUxIjn4Lk  spotify:track:1IMi3chVPe4t5MUxIjn4Lk   \n",
       "170  1InCpEliLCkWHOBdXW7XSx  spotify:track:1InCpEliLCkWHOBdXW7XSx   \n",
       "171  5CvWCItJ13iDRH2bEZhtjy  spotify:track:5CvWCItJ13iDRH2bEZhtjy   \n",
       "172  47DzE0bNSqWj4z3mrPU3gj  spotify:track:47DzE0bNSqWj4z3mrPU3gj   \n",
       "173  38ch7Tu4x3oMbmV2HjMG3q  spotify:track:38ch7Tu4x3oMbmV2HjMG3q   \n",
       "\n",
       "                                            track_href  \\\n",
       "0    https://api.spotify.com/v1/tracks/6LBueuTAVmHE...   \n",
       "1    https://api.spotify.com/v1/tracks/0cA0t6FxX2FZ...   \n",
       "2    https://api.spotify.com/v1/tracks/1XlCCgKKrQQf...   \n",
       "3    https://api.spotify.com/v1/tracks/5vjigjfoXuJE...   \n",
       "4    https://api.spotify.com/v1/tracks/4QlBUvcyODBn...   \n",
       "..                                                 ...   \n",
       "169  https://api.spotify.com/v1/tracks/1IMi3chVPe4t...   \n",
       "170  https://api.spotify.com/v1/tracks/1InCpEliLCkW...   \n",
       "171  https://api.spotify.com/v1/tracks/5CvWCItJ13iD...   \n",
       "172  https://api.spotify.com/v1/tracks/47DzE0bNSqWj...   \n",
       "173  https://api.spotify.com/v1/tracks/38ch7Tu4x3oM...   \n",
       "\n",
       "                                          analysis_url  duration_ms  \\\n",
       "0    https://api.spotify.com/v1/audio-analysis/6LBu...       173035   \n",
       "1    https://api.spotify.com/v1/audio-analysis/0cA0...       263347   \n",
       "2    https://api.spotify.com/v1/audio-analysis/1XlC...       241867   \n",
       "3    https://api.spotify.com/v1/audio-analysis/5vji...       157733   \n",
       "4    https://api.spotify.com/v1/audio-analysis/4QlB...       218467   \n",
       "..                                                 ...          ...   \n",
       "169  https://api.spotify.com/v1/audio-analysis/1IMi...       263400   \n",
       "170  https://api.spotify.com/v1/audio-analysis/1InC...       162399   \n",
       "171  https://api.spotify.com/v1/audio-analysis/5CvW...       225493   \n",
       "172  https://api.spotify.com/v1/audio-analysis/47Dz...       219840   \n",
       "173  https://api.spotify.com/v1/audio-analysis/38ch...       222987   \n",
       "\n",
       "     time_signature  \n",
       "0                 4  \n",
       "1                 4  \n",
       "2                 4  \n",
       "3                 4  \n",
       "4                 4  \n",
       "..              ...  \n",
       "169               4  \n",
       "170               4  \n",
       "171               3  \n",
       "172               5  \n",
       "173               4  \n",
       "\n",
       "[174 rows x 18 columns]"
      ]
     },
     "execution_count": 36,
     "metadata": {},
     "output_type": "execute_result"
    }
   ],
   "source": [
    "song_features"
   ]
  },
  {
   "cell_type": "code",
   "execution_count": 37,
   "id": "dd9f98c8",
   "metadata": {},
   "outputs": [],
   "source": [
    "playlist_features = playlist_df.merge(song_features, left_on='song_id', right_on='id')"
   ]
  },
  {
   "cell_type": "code",
   "execution_count": 38,
   "id": "94a567ac",
   "metadata": {},
   "outputs": [
    {
     "data": {
      "text/html": [
       "<div>\n",
       "<style scoped>\n",
       "    .dataframe tbody tr th:only-of-type {\n",
       "        vertical-align: middle;\n",
       "    }\n",
       "\n",
       "    .dataframe tbody tr th {\n",
       "        vertical-align: top;\n",
       "    }\n",
       "\n",
       "    .dataframe thead th {\n",
       "        text-align: right;\n",
       "    }\n",
       "</style>\n",
       "<table border=\"1\" class=\"dataframe\">\n",
       "  <thead>\n",
       "    <tr style=\"text-align: right;\">\n",
       "      <th></th>\n",
       "      <th>title</th>\n",
       "      <th>artist</th>\n",
       "      <th>song_id</th>\n",
       "      <th>danceability</th>\n",
       "      <th>energy</th>\n",
       "      <th>key</th>\n",
       "      <th>loudness</th>\n",
       "      <th>mode</th>\n",
       "      <th>speechiness</th>\n",
       "      <th>acousticness</th>\n",
       "      <th>...</th>\n",
       "      <th>liveness</th>\n",
       "      <th>valence</th>\n",
       "      <th>tempo</th>\n",
       "      <th>type</th>\n",
       "      <th>id</th>\n",
       "      <th>uri</th>\n",
       "      <th>track_href</th>\n",
       "      <th>analysis_url</th>\n",
       "      <th>duration_ms</th>\n",
       "      <th>time_signature</th>\n",
       "    </tr>\n",
       "  </thead>\n",
       "  <tbody>\n",
       "    <tr>\n",
       "      <th>0</th>\n",
       "      <td>Seventh Son</td>\n",
       "      <td>Johnny Rivers</td>\n",
       "      <td>6LBueuTAVmHEEezP2cnnZB</td>\n",
       "      <td>0.462</td>\n",
       "      <td>0.714</td>\n",
       "      <td>9</td>\n",
       "      <td>-9.702</td>\n",
       "      <td>1</td>\n",
       "      <td>0.0706</td>\n",
       "      <td>0.58200</td>\n",
       "      <td>...</td>\n",
       "      <td>0.7630</td>\n",
       "      <td>0.890</td>\n",
       "      <td>147.778</td>\n",
       "      <td>audio_features</td>\n",
       "      <td>6LBueuTAVmHEEezP2cnnZB</td>\n",
       "      <td>spotify:track:6LBueuTAVmHEEezP2cnnZB</td>\n",
       "      <td>https://api.spotify.com/v1/tracks/6LBueuTAVmHE...</td>\n",
       "      <td>https://api.spotify.com/v1/audio-analysis/6LBu...</td>\n",
       "      <td>173035</td>\n",
       "      <td>4</td>\n",
       "    </tr>\n",
       "    <tr>\n",
       "      <th>1</th>\n",
       "      <td>Nobody's Child</td>\n",
       "      <td>Karen Young</td>\n",
       "      <td>0cA0t6FxX2FZkX0BKZnUTa</td>\n",
       "      <td>0.520</td>\n",
       "      <td>0.417</td>\n",
       "      <td>9</td>\n",
       "      <td>-10.809</td>\n",
       "      <td>1</td>\n",
       "      <td>0.0282</td>\n",
       "      <td>0.76200</td>\n",
       "      <td>...</td>\n",
       "      <td>0.1790</td>\n",
       "      <td>0.667</td>\n",
       "      <td>106.230</td>\n",
       "      <td>audio_features</td>\n",
       "      <td>0cA0t6FxX2FZkX0BKZnUTa</td>\n",
       "      <td>spotify:track:0cA0t6FxX2FZkX0BKZnUTa</td>\n",
       "      <td>https://api.spotify.com/v1/tracks/0cA0t6FxX2FZ...</td>\n",
       "      <td>https://api.spotify.com/v1/audio-analysis/0cA0...</td>\n",
       "      <td>263347</td>\n",
       "      <td>4</td>\n",
       "    </tr>\n",
       "    <tr>\n",
       "      <th>2</th>\n",
       "      <td>Mustang Sally</td>\n",
       "      <td>The Commitments</td>\n",
       "      <td>1XlCCgKKrQQfXaDyv4GrZe</td>\n",
       "      <td>0.744</td>\n",
       "      <td>0.735</td>\n",
       "      <td>1</td>\n",
       "      <td>-10.766</td>\n",
       "      <td>1</td>\n",
       "      <td>0.0587</td>\n",
       "      <td>0.01100</td>\n",
       "      <td>...</td>\n",
       "      <td>0.0564</td>\n",
       "      <td>0.891</td>\n",
       "      <td>115.062</td>\n",
       "      <td>audio_features</td>\n",
       "      <td>1XlCCgKKrQQfXaDyv4GrZe</td>\n",
       "      <td>spotify:track:1XlCCgKKrQQfXaDyv4GrZe</td>\n",
       "      <td>https://api.spotify.com/v1/tracks/1XlCCgKKrQQf...</td>\n",
       "      <td>https://api.spotify.com/v1/audio-analysis/1XlC...</td>\n",
       "      <td>241867</td>\n",
       "      <td>4</td>\n",
       "    </tr>\n",
       "    <tr>\n",
       "      <th>3</th>\n",
       "      <td>Personality</td>\n",
       "      <td>Lloyd Price</td>\n",
       "      <td>5vjigjfoXuJEttqLB3HTAg</td>\n",
       "      <td>0.591</td>\n",
       "      <td>0.454</td>\n",
       "      <td>5</td>\n",
       "      <td>-8.936</td>\n",
       "      <td>1</td>\n",
       "      <td>0.0322</td>\n",
       "      <td>0.74400</td>\n",
       "      <td>...</td>\n",
       "      <td>0.0989</td>\n",
       "      <td>0.865</td>\n",
       "      <td>128.909</td>\n",
       "      <td>audio_features</td>\n",
       "      <td>5vjigjfoXuJEttqLB3HTAg</td>\n",
       "      <td>spotify:track:5vjigjfoXuJEttqLB3HTAg</td>\n",
       "      <td>https://api.spotify.com/v1/tracks/5vjigjfoXuJE...</td>\n",
       "      <td>https://api.spotify.com/v1/audio-analysis/5vji...</td>\n",
       "      <td>157733</td>\n",
       "      <td>4</td>\n",
       "    </tr>\n",
       "    <tr>\n",
       "      <th>4</th>\n",
       "      <td>Good Morning Starshine</td>\n",
       "      <td>Oliver</td>\n",
       "      <td>4QlBUvcyODBn0ukZoYb7v1</td>\n",
       "      <td>0.648</td>\n",
       "      <td>0.560</td>\n",
       "      <td>3</td>\n",
       "      <td>-9.175</td>\n",
       "      <td>0</td>\n",
       "      <td>0.1470</td>\n",
       "      <td>0.49100</td>\n",
       "      <td>...</td>\n",
       "      <td>0.3570</td>\n",
       "      <td>0.698</td>\n",
       "      <td>126.517</td>\n",
       "      <td>audio_features</td>\n",
       "      <td>4QlBUvcyODBn0ukZoYb7v1</td>\n",
       "      <td>spotify:track:4QlBUvcyODBn0ukZoYb7v1</td>\n",
       "      <td>https://api.spotify.com/v1/tracks/4QlBUvcyODBn...</td>\n",
       "      <td>https://api.spotify.com/v1/audio-analysis/4QlB...</td>\n",
       "      <td>218467</td>\n",
       "      <td>4</td>\n",
       "    </tr>\n",
       "    <tr>\n",
       "      <th>...</th>\n",
       "      <td>...</td>\n",
       "      <td>...</td>\n",
       "      <td>...</td>\n",
       "      <td>...</td>\n",
       "      <td>...</td>\n",
       "      <td>...</td>\n",
       "      <td>...</td>\n",
       "      <td>...</td>\n",
       "      <td>...</td>\n",
       "      <td>...</td>\n",
       "      <td>...</td>\n",
       "      <td>...</td>\n",
       "      <td>...</td>\n",
       "      <td>...</td>\n",
       "      <td>...</td>\n",
       "      <td>...</td>\n",
       "      <td>...</td>\n",
       "      <td>...</td>\n",
       "      <td>...</td>\n",
       "      <td>...</td>\n",
       "      <td>...</td>\n",
       "    </tr>\n",
       "    <tr>\n",
       "      <th>169</th>\n",
       "      <td>Sick Cycle Carousel</td>\n",
       "      <td>Lifehouse</td>\n",
       "      <td>1IMi3chVPe4t5MUxIjn4Lk</td>\n",
       "      <td>0.445</td>\n",
       "      <td>0.800</td>\n",
       "      <td>8</td>\n",
       "      <td>-5.228</td>\n",
       "      <td>0</td>\n",
       "      <td>0.0301</td>\n",
       "      <td>0.00168</td>\n",
       "      <td>...</td>\n",
       "      <td>0.0802</td>\n",
       "      <td>0.470</td>\n",
       "      <td>95.481</td>\n",
       "      <td>audio_features</td>\n",
       "      <td>1IMi3chVPe4t5MUxIjn4Lk</td>\n",
       "      <td>spotify:track:1IMi3chVPe4t5MUxIjn4Lk</td>\n",
       "      <td>https://api.spotify.com/v1/tracks/1IMi3chVPe4t...</td>\n",
       "      <td>https://api.spotify.com/v1/audio-analysis/1IMi...</td>\n",
       "      <td>263400</td>\n",
       "      <td>4</td>\n",
       "    </tr>\n",
       "    <tr>\n",
       "      <th>170</th>\n",
       "      <td>Kings &amp; Queens</td>\n",
       "      <td>Ava Max</td>\n",
       "      <td>1InCpEliLCkWHOBdXW7XSx</td>\n",
       "      <td>0.637</td>\n",
       "      <td>0.690</td>\n",
       "      <td>1</td>\n",
       "      <td>-4.057</td>\n",
       "      <td>0</td>\n",
       "      <td>0.0405</td>\n",
       "      <td>0.00786</td>\n",
       "      <td>...</td>\n",
       "      <td>0.1240</td>\n",
       "      <td>0.457</td>\n",
       "      <td>129.857</td>\n",
       "      <td>audio_features</td>\n",
       "      <td>1InCpEliLCkWHOBdXW7XSx</td>\n",
       "      <td>spotify:track:1InCpEliLCkWHOBdXW7XSx</td>\n",
       "      <td>https://api.spotify.com/v1/tracks/1InCpEliLCkW...</td>\n",
       "      <td>https://api.spotify.com/v1/audio-analysis/1InC...</td>\n",
       "      <td>162399</td>\n",
       "      <td>4</td>\n",
       "    </tr>\n",
       "    <tr>\n",
       "      <th>171</th>\n",
       "      <td>Believer</td>\n",
       "      <td>Guy Sebastian</td>\n",
       "      <td>5CvWCItJ13iDRH2bEZhtjy</td>\n",
       "      <td>0.376</td>\n",
       "      <td>0.505</td>\n",
       "      <td>9</td>\n",
       "      <td>-5.534</td>\n",
       "      <td>1</td>\n",
       "      <td>0.0353</td>\n",
       "      <td>0.29600</td>\n",
       "      <td>...</td>\n",
       "      <td>0.0846</td>\n",
       "      <td>0.299</td>\n",
       "      <td>177.794</td>\n",
       "      <td>audio_features</td>\n",
       "      <td>5CvWCItJ13iDRH2bEZhtjy</td>\n",
       "      <td>spotify:track:5CvWCItJ13iDRH2bEZhtjy</td>\n",
       "      <td>https://api.spotify.com/v1/tracks/5CvWCItJ13iD...</td>\n",
       "      <td>https://api.spotify.com/v1/audio-analysis/5CvW...</td>\n",
       "      <td>225493</td>\n",
       "      <td>3</td>\n",
       "    </tr>\n",
       "    <tr>\n",
       "      <th>172</th>\n",
       "      <td>Aussie As</td>\n",
       "      <td>Matt Scullion</td>\n",
       "      <td>47DzE0bNSqWj4z3mrPU3gj</td>\n",
       "      <td>0.530</td>\n",
       "      <td>0.340</td>\n",
       "      <td>2</td>\n",
       "      <td>-9.308</td>\n",
       "      <td>1</td>\n",
       "      <td>0.0279</td>\n",
       "      <td>0.57400</td>\n",
       "      <td>...</td>\n",
       "      <td>0.1440</td>\n",
       "      <td>0.231</td>\n",
       "      <td>76.959</td>\n",
       "      <td>audio_features</td>\n",
       "      <td>47DzE0bNSqWj4z3mrPU3gj</td>\n",
       "      <td>spotify:track:47DzE0bNSqWj4z3mrPU3gj</td>\n",
       "      <td>https://api.spotify.com/v1/tracks/47DzE0bNSqWj...</td>\n",
       "      <td>https://api.spotify.com/v1/audio-analysis/47Dz...</td>\n",
       "      <td>219840</td>\n",
       "      <td>5</td>\n",
       "    </tr>\n",
       "    <tr>\n",
       "      <th>173</th>\n",
       "      <td>Better Days</td>\n",
       "      <td>Pete Murray</td>\n",
       "      <td>38ch7Tu4x3oMbmV2HjMG3q</td>\n",
       "      <td>0.638</td>\n",
       "      <td>0.571</td>\n",
       "      <td>1</td>\n",
       "      <td>-7.311</td>\n",
       "      <td>1</td>\n",
       "      <td>0.0248</td>\n",
       "      <td>0.14100</td>\n",
       "      <td>...</td>\n",
       "      <td>0.2750</td>\n",
       "      <td>0.339</td>\n",
       "      <td>113.978</td>\n",
       "      <td>audio_features</td>\n",
       "      <td>38ch7Tu4x3oMbmV2HjMG3q</td>\n",
       "      <td>spotify:track:38ch7Tu4x3oMbmV2HjMG3q</td>\n",
       "      <td>https://api.spotify.com/v1/tracks/38ch7Tu4x3oM...</td>\n",
       "      <td>https://api.spotify.com/v1/audio-analysis/38ch...</td>\n",
       "      <td>222987</td>\n",
       "      <td>4</td>\n",
       "    </tr>\n",
       "  </tbody>\n",
       "</table>\n",
       "<p>174 rows × 21 columns</p>\n",
       "</div>"
      ],
      "text/plain": [
       "                      title           artist                 song_id  \\\n",
       "0               Seventh Son    Johnny Rivers  6LBueuTAVmHEEezP2cnnZB   \n",
       "1            Nobody's Child      Karen Young  0cA0t6FxX2FZkX0BKZnUTa   \n",
       "2             Mustang Sally  The Commitments  1XlCCgKKrQQfXaDyv4GrZe   \n",
       "3               Personality      Lloyd Price  5vjigjfoXuJEttqLB3HTAg   \n",
       "4    Good Morning Starshine           Oliver  4QlBUvcyODBn0ukZoYb7v1   \n",
       "..                      ...              ...                     ...   \n",
       "169     Sick Cycle Carousel        Lifehouse  1IMi3chVPe4t5MUxIjn4Lk   \n",
       "170          Kings & Queens          Ava Max  1InCpEliLCkWHOBdXW7XSx   \n",
       "171                Believer    Guy Sebastian  5CvWCItJ13iDRH2bEZhtjy   \n",
       "172               Aussie As    Matt Scullion  47DzE0bNSqWj4z3mrPU3gj   \n",
       "173             Better Days      Pete Murray  38ch7Tu4x3oMbmV2HjMG3q   \n",
       "\n",
       "     danceability  energy  key  loudness  mode  speechiness  acousticness  \\\n",
       "0           0.462   0.714    9    -9.702     1       0.0706       0.58200   \n",
       "1           0.520   0.417    9   -10.809     1       0.0282       0.76200   \n",
       "2           0.744   0.735    1   -10.766     1       0.0587       0.01100   \n",
       "3           0.591   0.454    5    -8.936     1       0.0322       0.74400   \n",
       "4           0.648   0.560    3    -9.175     0       0.1470       0.49100   \n",
       "..            ...     ...  ...       ...   ...          ...           ...   \n",
       "169         0.445   0.800    8    -5.228     0       0.0301       0.00168   \n",
       "170         0.637   0.690    1    -4.057     0       0.0405       0.00786   \n",
       "171         0.376   0.505    9    -5.534     1       0.0353       0.29600   \n",
       "172         0.530   0.340    2    -9.308     1       0.0279       0.57400   \n",
       "173         0.638   0.571    1    -7.311     1       0.0248       0.14100   \n",
       "\n",
       "     ...  liveness  valence    tempo            type                      id  \\\n",
       "0    ...    0.7630    0.890  147.778  audio_features  6LBueuTAVmHEEezP2cnnZB   \n",
       "1    ...    0.1790    0.667  106.230  audio_features  0cA0t6FxX2FZkX0BKZnUTa   \n",
       "2    ...    0.0564    0.891  115.062  audio_features  1XlCCgKKrQQfXaDyv4GrZe   \n",
       "3    ...    0.0989    0.865  128.909  audio_features  5vjigjfoXuJEttqLB3HTAg   \n",
       "4    ...    0.3570    0.698  126.517  audio_features  4QlBUvcyODBn0ukZoYb7v1   \n",
       "..   ...       ...      ...      ...             ...                     ...   \n",
       "169  ...    0.0802    0.470   95.481  audio_features  1IMi3chVPe4t5MUxIjn4Lk   \n",
       "170  ...    0.1240    0.457  129.857  audio_features  1InCpEliLCkWHOBdXW7XSx   \n",
       "171  ...    0.0846    0.299  177.794  audio_features  5CvWCItJ13iDRH2bEZhtjy   \n",
       "172  ...    0.1440    0.231   76.959  audio_features  47DzE0bNSqWj4z3mrPU3gj   \n",
       "173  ...    0.2750    0.339  113.978  audio_features  38ch7Tu4x3oMbmV2HjMG3q   \n",
       "\n",
       "                                      uri  \\\n",
       "0    spotify:track:6LBueuTAVmHEEezP2cnnZB   \n",
       "1    spotify:track:0cA0t6FxX2FZkX0BKZnUTa   \n",
       "2    spotify:track:1XlCCgKKrQQfXaDyv4GrZe   \n",
       "3    spotify:track:5vjigjfoXuJEttqLB3HTAg   \n",
       "4    spotify:track:4QlBUvcyODBn0ukZoYb7v1   \n",
       "..                                    ...   \n",
       "169  spotify:track:1IMi3chVPe4t5MUxIjn4Lk   \n",
       "170  spotify:track:1InCpEliLCkWHOBdXW7XSx   \n",
       "171  spotify:track:5CvWCItJ13iDRH2bEZhtjy   \n",
       "172  spotify:track:47DzE0bNSqWj4z3mrPU3gj   \n",
       "173  spotify:track:38ch7Tu4x3oMbmV2HjMG3q   \n",
       "\n",
       "                                            track_href  \\\n",
       "0    https://api.spotify.com/v1/tracks/6LBueuTAVmHE...   \n",
       "1    https://api.spotify.com/v1/tracks/0cA0t6FxX2FZ...   \n",
       "2    https://api.spotify.com/v1/tracks/1XlCCgKKrQQf...   \n",
       "3    https://api.spotify.com/v1/tracks/5vjigjfoXuJE...   \n",
       "4    https://api.spotify.com/v1/tracks/4QlBUvcyODBn...   \n",
       "..                                                 ...   \n",
       "169  https://api.spotify.com/v1/tracks/1IMi3chVPe4t...   \n",
       "170  https://api.spotify.com/v1/tracks/1InCpEliLCkW...   \n",
       "171  https://api.spotify.com/v1/tracks/5CvWCItJ13iD...   \n",
       "172  https://api.spotify.com/v1/tracks/47DzE0bNSqWj...   \n",
       "173  https://api.spotify.com/v1/tracks/38ch7Tu4x3oM...   \n",
       "\n",
       "                                          analysis_url duration_ms  \\\n",
       "0    https://api.spotify.com/v1/audio-analysis/6LBu...      173035   \n",
       "1    https://api.spotify.com/v1/audio-analysis/0cA0...      263347   \n",
       "2    https://api.spotify.com/v1/audio-analysis/1XlC...      241867   \n",
       "3    https://api.spotify.com/v1/audio-analysis/5vji...      157733   \n",
       "4    https://api.spotify.com/v1/audio-analysis/4QlB...      218467   \n",
       "..                                                 ...         ...   \n",
       "169  https://api.spotify.com/v1/audio-analysis/1IMi...      263400   \n",
       "170  https://api.spotify.com/v1/audio-analysis/1InC...      162399   \n",
       "171  https://api.spotify.com/v1/audio-analysis/5CvW...      225493   \n",
       "172  https://api.spotify.com/v1/audio-analysis/47Dz...      219840   \n",
       "173  https://api.spotify.com/v1/audio-analysis/38ch...      222987   \n",
       "\n",
       "     time_signature  \n",
       "0                 4  \n",
       "1                 4  \n",
       "2                 4  \n",
       "3                 4  \n",
       "4                 4  \n",
       "..              ...  \n",
       "169               4  \n",
       "170               4  \n",
       "171               3  \n",
       "172               5  \n",
       "173               4  \n",
       "\n",
       "[174 rows x 21 columns]"
      ]
     },
     "execution_count": 38,
     "metadata": {},
     "output_type": "execute_result"
    }
   ],
   "source": [
    "playlist_features"
   ]
  },
  {
   "cell_type": "code",
   "execution_count": null,
   "id": "8f94834c",
   "metadata": {},
   "outputs": [],
   "source": []
  }
 ],
 "metadata": {
  "kernelspec": {
   "display_name": "Python 3 (ipykernel)",
   "language": "python",
   "name": "python3"
  },
  "language_info": {
   "codemirror_mode": {
    "name": "ipython",
    "version": 3
   },
   "file_extension": ".py",
   "mimetype": "text/x-python",
   "name": "python",
   "nbconvert_exporter": "python",
   "pygments_lexer": "ipython3",
   "version": "3.9.7"
  },
  "toc": {
   "base_numbering": 1,
   "nav_menu": {},
   "number_sections": true,
   "sideBar": true,
   "skip_h1_title": false,
   "title_cell": "Table of Contents",
   "title_sidebar": "Contents",
   "toc_cell": false,
   "toc_position": {},
   "toc_section_display": true,
   "toc_window_display": false
  },
  "varInspector": {
   "cols": {
    "lenName": 16,
    "lenType": 16,
    "lenVar": 40
   },
   "kernels_config": {
    "python": {
     "delete_cmd_postfix": "",
     "delete_cmd_prefix": "del ",
     "library": "var_list.py",
     "varRefreshCmd": "print(var_dic_list())"
    },
    "r": {
     "delete_cmd_postfix": ") ",
     "delete_cmd_prefix": "rm(",
     "library": "var_list.r",
     "varRefreshCmd": "cat(var_dic_list()) "
    }
   },
   "types_to_exclude": [
    "module",
    "function",
    "builtin_function_or_method",
    "instance",
    "_Feature"
   ],
   "window_display": false
  }
 },
 "nbformat": 4,
 "nbformat_minor": 5
}
