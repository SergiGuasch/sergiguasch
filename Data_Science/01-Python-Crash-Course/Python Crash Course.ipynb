{
 "cells": [
  {
   "cell_type": "markdown",
   "id": "250071cc",
   "metadata": {},
   "source": [
    "## Part 1"
   ]
  },
  {
   "cell_type": "code",
   "execution_count": 4,
   "id": "43f4fdfc",
   "metadata": {
    "ExecuteTime": {
     "end_time": "2023-01-03T13:55:08.178812Z",
     "start_time": "2023-01-03T13:55:08.168815Z"
    }
   },
   "outputs": [
    {
     "data": {
      "text/plain": [
       "2"
      ]
     },
     "execution_count": 4,
     "metadata": {},
     "output_type": "execute_result"
    }
   ],
   "source": [
    "1+1"
   ]
  },
  {
   "cell_type": "code",
   "execution_count": 1,
   "id": "cc6bc2e1",
   "metadata": {
    "ExecuteTime": {
     "end_time": "2023-01-03T14:21:21.294061Z",
     "start_time": "2023-01-03T14:21:21.269547Z"
    }
   },
   "outputs": [
    {
     "data": {
      "text/plain": [
       "3"
      ]
     },
     "execution_count": 1,
     "metadata": {},
     "output_type": "execute_result"
    }
   ],
   "source": [
    "1 * 3"
   ]
  },
  {
   "cell_type": "code",
   "execution_count": 3,
   "id": "ab26c7ae",
   "metadata": {
    "ExecuteTime": {
     "end_time": "2023-01-03T14:21:37.695204Z",
     "start_time": "2023-01-03T14:21:37.675838Z"
    }
   },
   "outputs": [
    {
     "data": {
      "text/plain": [
       "0.5"
      ]
     },
     "execution_count": 3,
     "metadata": {},
     "output_type": "execute_result"
    }
   ],
   "source": [
    "1 / 2.0"
   ]
  },
  {
   "cell_type": "code",
   "execution_count": 4,
   "id": "f2425197",
   "metadata": {
    "ExecuteTime": {
     "end_time": "2023-01-03T14:21:45.867693Z",
     "start_time": "2023-01-03T14:21:45.851673Z"
    }
   },
   "outputs": [
    {
     "data": {
      "text/plain": [
       "16"
      ]
     },
     "execution_count": 4,
     "metadata": {},
     "output_type": "execute_result"
    }
   ],
   "source": [
    "2 ** 4"
   ]
  },
  {
   "cell_type": "code",
   "execution_count": 5,
   "id": "8dac096a",
   "metadata": {
    "ExecuteTime": {
     "end_time": "2023-01-03T14:22:30.292685Z",
     "start_time": "2023-01-03T14:22:30.275683Z"
    }
   },
   "outputs": [
    {
     "data": {
      "text/plain": [
       "22"
      ]
     },
     "execution_count": 5,
     "metadata": {},
     "output_type": "execute_result"
    }
   ],
   "source": [
    "2 + 3 * 5 + 5"
   ]
  },
  {
   "cell_type": "code",
   "execution_count": 6,
   "id": "70eea097",
   "metadata": {
    "ExecuteTime": {
     "end_time": "2023-01-03T14:23:09.916434Z",
     "start_time": "2023-01-03T14:23:09.907435Z"
    }
   },
   "outputs": [
    {
     "data": {
      "text/plain": [
       "50"
      ]
     },
     "execution_count": 6,
     "metadata": {},
     "output_type": "execute_result"
    }
   ],
   "source": [
    "(2+3) * (5+5)"
   ]
  },
  {
   "cell_type": "code",
   "execution_count": 7,
   "id": "2830f97a",
   "metadata": {
    "ExecuteTime": {
     "end_time": "2023-01-03T14:23:34.220140Z",
     "start_time": "2023-01-03T14:23:34.206141Z"
    }
   },
   "outputs": [
    {
     "data": {
      "text/plain": [
       "0"
      ]
     },
     "execution_count": 7,
     "metadata": {},
     "output_type": "execute_result"
    }
   ],
   "source": [
    "4 % 2"
   ]
  },
  {
   "cell_type": "code",
   "execution_count": 8,
   "id": "3adfde2f",
   "metadata": {
    "ExecuteTime": {
     "end_time": "2023-01-03T14:23:43.654403Z",
     "start_time": "2023-01-03T14:23:43.635396Z"
    }
   },
   "outputs": [
    {
     "data": {
      "text/plain": [
       "1"
      ]
     },
     "execution_count": 8,
     "metadata": {},
     "output_type": "execute_result"
    }
   ],
   "source": [
    "5 % 2"
   ]
  },
  {
   "cell_type": "code",
   "execution_count": 9,
   "id": "20ecf692",
   "metadata": {
    "ExecuteTime": {
     "end_time": "2023-01-03T14:24:35.489902Z",
     "start_time": "2023-01-03T14:24:35.476902Z"
    }
   },
   "outputs": [],
   "source": [
    "var = 2"
   ]
  },
  {
   "cell_type": "code",
   "execution_count": 10,
   "id": "2be68ba1",
   "metadata": {
    "ExecuteTime": {
     "end_time": "2023-01-03T14:24:42.144313Z",
     "start_time": "2023-01-03T14:24:42.124314Z"
    }
   },
   "outputs": [
    {
     "data": {
      "text/plain": [
       "2"
      ]
     },
     "execution_count": 10,
     "metadata": {},
     "output_type": "execute_result"
    }
   ],
   "source": [
    "var"
   ]
  },
  {
   "cell_type": "code",
   "execution_count": 11,
   "id": "a5624880",
   "metadata": {
    "ExecuteTime": {
     "end_time": "2023-01-03T14:24:53.854375Z",
     "start_time": "2023-01-03T14:24:53.836377Z"
    }
   },
   "outputs": [],
   "source": [
    "x = 2\n",
    "y = 3"
   ]
  },
  {
   "cell_type": "code",
   "execution_count": 13,
   "id": "e592bcc2",
   "metadata": {
    "ExecuteTime": {
     "end_time": "2023-01-03T14:25:10.437553Z",
     "start_time": "2023-01-03T14:25:10.427549Z"
    }
   },
   "outputs": [
    {
     "data": {
      "text/plain": [
       "5"
      ]
     },
     "execution_count": 13,
     "metadata": {},
     "output_type": "execute_result"
    }
   ],
   "source": [
    "x + y"
   ]
  },
  {
   "cell_type": "code",
   "execution_count": 14,
   "id": "d2860c39",
   "metadata": {
    "ExecuteTime": {
     "end_time": "2023-01-03T14:25:28.080418Z",
     "start_time": "2023-01-03T14:25:28.075415Z"
    }
   },
   "outputs": [],
   "source": [
    "x = x + x"
   ]
  },
  {
   "cell_type": "code",
   "execution_count": 15,
   "id": "709ac64d",
   "metadata": {
    "ExecuteTime": {
     "end_time": "2023-01-03T14:25:33.243464Z",
     "start_time": "2023-01-03T14:25:33.236466Z"
    }
   },
   "outputs": [
    {
     "data": {
      "text/plain": [
       "4"
      ]
     },
     "execution_count": 15,
     "metadata": {},
     "output_type": "execute_result"
    }
   ],
   "source": [
    "x"
   ]
  },
  {
   "cell_type": "code",
   "execution_count": 16,
   "id": "83933f4f",
   "metadata": {
    "ExecuteTime": {
     "end_time": "2023-01-03T14:25:43.175149Z",
     "start_time": "2023-01-03T14:25:43.156147Z"
    }
   },
   "outputs": [],
   "source": [
    "x = x + x"
   ]
  },
  {
   "cell_type": "code",
   "execution_count": 17,
   "id": "15084244",
   "metadata": {
    "ExecuteTime": {
     "end_time": "2023-01-03T14:25:44.911735Z",
     "start_time": "2023-01-03T14:25:44.891705Z"
    }
   },
   "outputs": [
    {
     "data": {
      "text/plain": [
       "8"
      ]
     },
     "execution_count": 17,
     "metadata": {},
     "output_type": "execute_result"
    }
   ],
   "source": [
    "x"
   ]
  },
  {
   "cell_type": "code",
   "execution_count": 18,
   "id": "83aa765c",
   "metadata": {
    "ExecuteTime": {
     "end_time": "2023-01-03T14:26:50.069528Z",
     "start_time": "2023-01-03T14:26:50.059530Z"
    }
   },
   "outputs": [],
   "source": [
    "name_of_var = 12"
   ]
  },
  {
   "cell_type": "code",
   "execution_count": 19,
   "id": "6b2046b9",
   "metadata": {
    "ExecuteTime": {
     "end_time": "2023-01-03T14:27:11.179797Z",
     "start_time": "2023-01-03T14:27:11.171763Z"
    }
   },
   "outputs": [],
   "source": [
    "# Strings"
   ]
  },
  {
   "cell_type": "code",
   "execution_count": 20,
   "id": "7451162e",
   "metadata": {
    "ExecuteTime": {
     "end_time": "2023-01-03T14:27:28.026532Z",
     "start_time": "2023-01-03T14:27:28.011506Z"
    }
   },
   "outputs": [
    {
     "data": {
      "text/plain": [
       "'single quote'"
      ]
     },
     "execution_count": 20,
     "metadata": {},
     "output_type": "execute_result"
    }
   ],
   "source": [
    "'single quote'"
   ]
  },
  {
   "cell_type": "code",
   "execution_count": 21,
   "id": "c9a61e67",
   "metadata": {
    "ExecuteTime": {
     "end_time": "2023-01-03T14:27:38.661486Z",
     "start_time": "2023-01-03T14:27:38.644487Z"
    }
   },
   "outputs": [
    {
     "data": {
      "text/plain": [
       "'this is a string'"
      ]
     },
     "execution_count": 21,
     "metadata": {},
     "output_type": "execute_result"
    }
   ],
   "source": [
    "\"this is a string\""
   ]
  },
  {
   "cell_type": "code",
   "execution_count": 22,
   "id": "a7a41db0",
   "metadata": {
    "ExecuteTime": {
     "end_time": "2023-01-03T14:28:00.779105Z",
     "start_time": "2023-01-03T14:28:00.772138Z"
    }
   },
   "outputs": [
    {
     "data": {
      "text/plain": [
       "\"I can't go\""
      ]
     },
     "execution_count": 22,
     "metadata": {},
     "output_type": "execute_result"
    }
   ],
   "source": [
    "\"I can't go\""
   ]
  },
  {
   "cell_type": "code",
   "execution_count": 23,
   "id": "2b9e38d7",
   "metadata": {
    "ExecuteTime": {
     "end_time": "2023-01-03T14:28:18.584437Z",
     "start_time": "2023-01-03T14:28:18.580430Z"
    }
   },
   "outputs": [],
   "source": [
    "x = 'hello'"
   ]
  },
  {
   "cell_type": "code",
   "execution_count": 24,
   "id": "eb052c02",
   "metadata": {
    "ExecuteTime": {
     "end_time": "2023-01-03T14:28:20.183085Z",
     "start_time": "2023-01-03T14:28:20.165082Z"
    }
   },
   "outputs": [
    {
     "data": {
      "text/plain": [
       "'hello'"
      ]
     },
     "execution_count": 24,
     "metadata": {},
     "output_type": "execute_result"
    }
   ],
   "source": [
    "x"
   ]
  },
  {
   "cell_type": "code",
   "execution_count": 26,
   "id": "40fb5654",
   "metadata": {
    "ExecuteTime": {
     "end_time": "2023-01-03T14:28:48.997553Z",
     "start_time": "2023-01-03T14:28:48.979548Z"
    }
   },
   "outputs": [
    {
     "name": "stdout",
     "output_type": "stream",
     "text": [
      "hello\n"
     ]
    }
   ],
   "source": [
    "print(x)"
   ]
  },
  {
   "cell_type": "code",
   "execution_count": 27,
   "id": "03b0117b",
   "metadata": {
    "ExecuteTime": {
     "end_time": "2023-01-03T14:29:16.674252Z",
     "start_time": "2023-01-03T14:29:16.668250Z"
    }
   },
   "outputs": [],
   "source": [
    "num = 12\n",
    "name = 'Sam'"
   ]
  },
  {
   "cell_type": "code",
   "execution_count": 30,
   "id": "906392f6",
   "metadata": {
    "ExecuteTime": {
     "end_time": "2023-01-03T14:31:33.078716Z",
     "start_time": "2023-01-03T14:31:33.068715Z"
    }
   },
   "outputs": [
    {
     "name": "stdout",
     "output_type": "stream",
     "text": [
      "My number is 12 and my name is Sam\n"
     ]
    }
   ],
   "source": [
    "print(f'My number is {num} and my name is {name}')"
   ]
  },
  {
   "cell_type": "code",
   "execution_count": 32,
   "id": "08d2f528",
   "metadata": {
    "ExecuteTime": {
     "end_time": "2023-01-03T14:31:43.382320Z",
     "start_time": "2023-01-03T14:31:43.363550Z"
    }
   },
   "outputs": [
    {
     "name": "stdout",
     "output_type": "stream",
     "text": [
      "My number is 12 and my name is Sam\n"
     ]
    }
   ],
   "source": [
    "print('My number is {} and my name is {}'.format(num,name))"
   ]
  },
  {
   "cell_type": "code",
   "execution_count": 33,
   "id": "355e5cfa",
   "metadata": {
    "ExecuteTime": {
     "end_time": "2023-01-03T14:32:59.775433Z",
     "start_time": "2023-01-03T14:32:59.763410Z"
    }
   },
   "outputs": [
    {
     "name": "stdout",
     "output_type": "stream",
     "text": [
      "My number is 12 and my name is Sam\n"
     ]
    }
   ],
   "source": [
    "print('My number is {one} and my name is {two}'.format(one=num,two=name))"
   ]
  },
  {
   "cell_type": "code",
   "execution_count": 34,
   "id": "b291624a",
   "metadata": {
    "ExecuteTime": {
     "end_time": "2023-01-03T14:33:55.383134Z",
     "start_time": "2023-01-03T14:33:55.364169Z"
    }
   },
   "outputs": [
    {
     "name": "stdout",
     "output_type": "stream",
     "text": [
      "My number is 12 and my name is Sam, more 12\n"
     ]
    }
   ],
   "source": [
    "print('My number is {one} and my name is {two}, more {one}'.format(one=num,two=name))"
   ]
  },
  {
   "cell_type": "code",
   "execution_count": 35,
   "id": "ce7975c3",
   "metadata": {
    "ExecuteTime": {
     "end_time": "2023-01-03T14:34:47.081441Z",
     "start_time": "2023-01-03T14:34:47.070438Z"
    }
   },
   "outputs": [],
   "source": [
    "s = 'hello'"
   ]
  },
  {
   "cell_type": "code",
   "execution_count": 36,
   "id": "8466b790",
   "metadata": {
    "ExecuteTime": {
     "end_time": "2023-01-03T14:35:06.793454Z",
     "start_time": "2023-01-03T14:35:06.771455Z"
    }
   },
   "outputs": [
    {
     "data": {
      "text/plain": [
       "'h'"
      ]
     },
     "execution_count": 36,
     "metadata": {},
     "output_type": "execute_result"
    }
   ],
   "source": [
    "s[0]"
   ]
  },
  {
   "cell_type": "code",
   "execution_count": 37,
   "id": "0a03de81",
   "metadata": {
    "ExecuteTime": {
     "end_time": "2023-01-03T14:35:24.981309Z",
     "start_time": "2023-01-03T14:35:24.964309Z"
    }
   },
   "outputs": [
    {
     "data": {
      "text/plain": [
       "'o'"
      ]
     },
     "execution_count": 37,
     "metadata": {},
     "output_type": "execute_result"
    }
   ],
   "source": [
    "s[4]"
   ]
  },
  {
   "cell_type": "code",
   "execution_count": 38,
   "id": "ccfa0219",
   "metadata": {
    "ExecuteTime": {
     "end_time": "2023-01-03T14:36:10.781218Z",
     "start_time": "2023-01-03T14:36:10.764219Z"
    }
   },
   "outputs": [],
   "source": [
    "s = 'abcdefghigk'"
   ]
  },
  {
   "cell_type": "code",
   "execution_count": 39,
   "id": "0762bdfc",
   "metadata": {
    "ExecuteTime": {
     "end_time": "2023-01-03T14:36:17.685933Z",
     "start_time": "2023-01-03T14:36:17.675928Z"
    }
   },
   "outputs": [
    {
     "data": {
      "text/plain": [
       "'a'"
      ]
     },
     "execution_count": 39,
     "metadata": {},
     "output_type": "execute_result"
    }
   ],
   "source": [
    "s[0]"
   ]
  },
  {
   "cell_type": "code",
   "execution_count": 40,
   "id": "7aa58dd5",
   "metadata": {
    "ExecuteTime": {
     "end_time": "2023-01-03T14:36:43.034458Z",
     "start_time": "2023-01-03T14:36:43.020432Z"
    }
   },
   "outputs": [
    {
     "data": {
      "text/plain": [
       "'abcdefghigk'"
      ]
     },
     "execution_count": 40,
     "metadata": {},
     "output_type": "execute_result"
    }
   ],
   "source": [
    "s[0:]"
   ]
  },
  {
   "cell_type": "code",
   "execution_count": 41,
   "id": "85e74a29",
   "metadata": {
    "ExecuteTime": {
     "end_time": "2023-01-03T14:36:59.075539Z",
     "start_time": "2023-01-03T14:36:59.060540Z"
    }
   },
   "outputs": [
    {
     "data": {
      "text/plain": [
       "'abc'"
      ]
     },
     "execution_count": 41,
     "metadata": {},
     "output_type": "execute_result"
    }
   ],
   "source": [
    "s[:3]"
   ]
  },
  {
   "cell_type": "code",
   "execution_count": 42,
   "id": "750babf6",
   "metadata": {
    "ExecuteTime": {
     "end_time": "2023-01-03T14:37:53.387266Z",
     "start_time": "2023-01-03T14:37:53.372241Z"
    }
   },
   "outputs": [
    {
     "data": {
      "text/plain": [
       "'abc'"
      ]
     },
     "execution_count": 42,
     "metadata": {},
     "output_type": "execute_result"
    }
   ],
   "source": [
    "s[0:3]"
   ]
  },
  {
   "cell_type": "code",
   "execution_count": 43,
   "id": "95bfdabe",
   "metadata": {
    "ExecuteTime": {
     "end_time": "2023-01-03T14:38:23.146171Z",
     "start_time": "2023-01-03T14:38:23.125174Z"
    }
   },
   "outputs": [
    {
     "data": {
      "text/plain": [
       "'def'"
      ]
     },
     "execution_count": 43,
     "metadata": {},
     "output_type": "execute_result"
    }
   ],
   "source": [
    "s[3:6]"
   ]
  },
  {
   "cell_type": "code",
   "execution_count": 44,
   "id": "a785f503",
   "metadata": {
    "ExecuteTime": {
     "end_time": "2023-01-03T14:38:52.548632Z",
     "start_time": "2023-01-03T14:38:52.540600Z"
    }
   },
   "outputs": [
    {
     "data": {
      "text/plain": [
       "'g'"
      ]
     },
     "execution_count": 44,
     "metadata": {},
     "output_type": "execute_result"
    }
   ],
   "source": [
    "s[6]"
   ]
  },
  {
   "cell_type": "code",
   "execution_count": 45,
   "id": "54445e29",
   "metadata": {
    "ExecuteTime": {
     "end_time": "2023-01-03T14:39:05.416358Z",
     "start_time": "2023-01-03T14:39:05.396363Z"
    }
   },
   "outputs": [
    {
     "data": {
      "text/plain": [
       "[1, 2, 3]"
      ]
     },
     "execution_count": 45,
     "metadata": {},
     "output_type": "execute_result"
    }
   ],
   "source": [
    "[1,2,3]"
   ]
  },
  {
   "cell_type": "code",
   "execution_count": 47,
   "id": "811503c7",
   "metadata": {
    "ExecuteTime": {
     "end_time": "2023-01-03T14:39:23.056420Z",
     "start_time": "2023-01-03T14:39:23.035633Z"
    }
   },
   "outputs": [
    {
     "data": {
      "text/plain": [
       "['a', 'b', 'c']"
      ]
     },
     "execution_count": 47,
     "metadata": {},
     "output_type": "execute_result"
    }
   ],
   "source": [
    "['a','b','c']"
   ]
  },
  {
   "cell_type": "code",
   "execution_count": 51,
   "id": "338febe3",
   "metadata": {
    "ExecuteTime": {
     "end_time": "2023-01-03T14:40:22.680635Z",
     "start_time": "2023-01-03T14:40:22.675606Z"
    }
   },
   "outputs": [],
   "source": [
    "my_list = ['a','b','c']"
   ]
  },
  {
   "cell_type": "code",
   "execution_count": 52,
   "id": "5abf9910",
   "metadata": {
    "ExecuteTime": {
     "end_time": "2023-01-03T14:40:30.102872Z",
     "start_time": "2023-01-03T14:40:30.091874Z"
    }
   },
   "outputs": [
    {
     "data": {
      "text/plain": [
       "['a', 'b', 'c']"
      ]
     },
     "execution_count": 52,
     "metadata": {},
     "output_type": "execute_result"
    }
   ],
   "source": [
    "my_list"
   ]
  },
  {
   "cell_type": "code",
   "execution_count": 53,
   "id": "797109fb",
   "metadata": {
    "ExecuteTime": {
     "end_time": "2023-01-03T14:40:33.374242Z",
     "start_time": "2023-01-03T14:40:33.363229Z"
    }
   },
   "outputs": [],
   "source": [
    "my_list.append('d')"
   ]
  },
  {
   "cell_type": "code",
   "execution_count": 54,
   "id": "533c2aba",
   "metadata": {
    "ExecuteTime": {
     "end_time": "2023-01-03T14:40:38.901598Z",
     "start_time": "2023-01-03T14:40:38.883568Z"
    }
   },
   "outputs": [
    {
     "data": {
      "text/plain": [
       "['a', 'b', 'c', 'd']"
      ]
     },
     "execution_count": 54,
     "metadata": {},
     "output_type": "execute_result"
    }
   ],
   "source": [
    "my_list"
   ]
  },
  {
   "cell_type": "code",
   "execution_count": 55,
   "id": "06570a7b",
   "metadata": {
    "ExecuteTime": {
     "end_time": "2023-01-03T14:40:49.167838Z",
     "start_time": "2023-01-03T14:40:49.155837Z"
    }
   },
   "outputs": [
    {
     "data": {
      "text/plain": [
       "'a'"
      ]
     },
     "execution_count": 55,
     "metadata": {},
     "output_type": "execute_result"
    }
   ],
   "source": [
    "my_list[0]"
   ]
  },
  {
   "cell_type": "code",
   "execution_count": 56,
   "id": "aa976d98",
   "metadata": {
    "ExecuteTime": {
     "end_time": "2023-01-03T14:41:38.264189Z",
     "start_time": "2023-01-03T14:41:38.244190Z"
    }
   },
   "outputs": [
    {
     "data": {
      "text/plain": [
       "['b', 'c']"
      ]
     },
     "execution_count": 56,
     "metadata": {},
     "output_type": "execute_result"
    }
   ],
   "source": [
    "my_list[1:3]"
   ]
  },
  {
   "cell_type": "code",
   "execution_count": 57,
   "id": "c331725b",
   "metadata": {
    "ExecuteTime": {
     "end_time": "2023-01-03T14:42:13.833809Z",
     "start_time": "2023-01-03T14:42:13.820839Z"
    }
   },
   "outputs": [],
   "source": [
    "my_list[0] = 'NEW'"
   ]
  },
  {
   "cell_type": "code",
   "execution_count": 58,
   "id": "6fafbecc",
   "metadata": {
    "ExecuteTime": {
     "end_time": "2023-01-03T14:42:21.188118Z",
     "start_time": "2023-01-03T14:42:21.172120Z"
    }
   },
   "outputs": [
    {
     "data": {
      "text/plain": [
       "['NEW', 'b', 'c', 'd']"
      ]
     },
     "execution_count": 58,
     "metadata": {},
     "output_type": "execute_result"
    }
   ],
   "source": [
    "my_list"
   ]
  },
  {
   "cell_type": "code",
   "execution_count": 59,
   "id": "64bb7c9f",
   "metadata": {
    "ExecuteTime": {
     "end_time": "2023-01-03T14:42:56.880152Z",
     "start_time": "2023-01-03T14:42:56.860124Z"
    }
   },
   "outputs": [],
   "source": [
    "nest = [1,2,[3,4]]"
   ]
  },
  {
   "cell_type": "code",
   "execution_count": 60,
   "id": "eed749cd",
   "metadata": {
    "ExecuteTime": {
     "end_time": "2023-01-03T14:43:06.836013Z",
     "start_time": "2023-01-03T14:43:06.828014Z"
    }
   },
   "outputs": [
    {
     "data": {
      "text/plain": [
       "[1, 2, [3, 4]]"
      ]
     },
     "execution_count": 60,
     "metadata": {},
     "output_type": "execute_result"
    }
   ],
   "source": [
    "nest"
   ]
  },
  {
   "cell_type": "code",
   "execution_count": 63,
   "id": "b2f6418d",
   "metadata": {
    "ExecuteTime": {
     "end_time": "2023-01-03T14:43:27.836504Z",
     "start_time": "2023-01-03T14:43:27.828475Z"
    }
   },
   "outputs": [
    {
     "data": {
      "text/plain": [
       "[3, 4]"
      ]
     },
     "execution_count": 63,
     "metadata": {},
     "output_type": "execute_result"
    }
   ],
   "source": [
    "nest[2]"
   ]
  },
  {
   "cell_type": "code",
   "execution_count": 64,
   "id": "d6de069a",
   "metadata": {
    "ExecuteTime": {
     "end_time": "2023-01-03T14:43:43.317786Z",
     "start_time": "2023-01-03T14:43:43.299786Z"
    }
   },
   "outputs": [
    {
     "data": {
      "text/plain": [
       "4"
      ]
     },
     "execution_count": 64,
     "metadata": {},
     "output_type": "execute_result"
    }
   ],
   "source": [
    "nest[2][1]"
   ]
  },
  {
   "cell_type": "code",
   "execution_count": 65,
   "id": "4c86ae4c",
   "metadata": {
    "ExecuteTime": {
     "end_time": "2023-01-03T14:43:56.311149Z",
     "start_time": "2023-01-03T14:43:56.292117Z"
    }
   },
   "outputs": [
    {
     "data": {
      "text/plain": [
       "3"
      ]
     },
     "execution_count": 65,
     "metadata": {},
     "output_type": "execute_result"
    }
   ],
   "source": [
    "nest[2][0]"
   ]
  },
  {
   "cell_type": "code",
   "execution_count": 67,
   "id": "5492f593",
   "metadata": {
    "ExecuteTime": {
     "end_time": "2023-01-03T14:45:08.063926Z",
     "start_time": "2023-01-03T14:45:08.059926Z"
    }
   },
   "outputs": [],
   "source": [
    "nest_2 = [1,2,3,[4,5,['target']]]"
   ]
  },
  {
   "cell_type": "code",
   "execution_count": 69,
   "id": "4c76c0e4",
   "metadata": {
    "ExecuteTime": {
     "end_time": "2023-01-03T14:46:30.625915Z",
     "start_time": "2023-01-03T14:46:30.611893Z"
    }
   },
   "outputs": [
    {
     "name": "stdout",
     "output_type": "stream",
     "text": [
      "target\n"
     ]
    }
   ],
   "source": [
    "print(nest_2[3][2][0])"
   ]
  },
  {
   "cell_type": "markdown",
   "id": "85c7ecf0",
   "metadata": {},
   "source": [
    "## Part 2"
   ]
  },
  {
   "cell_type": "code",
   "execution_count": 70,
   "id": "a5518407",
   "metadata": {
    "ExecuteTime": {
     "end_time": "2023-01-03T15:00:38.647627Z",
     "start_time": "2023-01-03T15:00:38.628628Z"
    }
   },
   "outputs": [],
   "source": [
    "d = {'key1':'value','key2':123}"
   ]
  },
  {
   "cell_type": "code",
   "execution_count": 71,
   "id": "071d66d0",
   "metadata": {
    "ExecuteTime": {
     "end_time": "2023-01-03T15:00:40.995768Z",
     "start_time": "2023-01-03T15:00:40.980217Z"
    }
   },
   "outputs": [
    {
     "data": {
      "text/plain": [
       "{'key1': 'value', 'key2': 123}"
      ]
     },
     "execution_count": 71,
     "metadata": {},
     "output_type": "execute_result"
    }
   ],
   "source": [
    "d"
   ]
  },
  {
   "cell_type": "code",
   "execution_count": 72,
   "id": "8c20e1ae",
   "metadata": {
    "ExecuteTime": {
     "end_time": "2023-01-03T15:01:00.048470Z",
     "start_time": "2023-01-03T15:01:00.043450Z"
    }
   },
   "outputs": [
    {
     "data": {
      "text/plain": [
       "'value'"
      ]
     },
     "execution_count": 72,
     "metadata": {},
     "output_type": "execute_result"
    }
   ],
   "source": [
    "d['key1']"
   ]
  },
  {
   "cell_type": "code",
   "execution_count": 73,
   "id": "5f42fd50",
   "metadata": {
    "ExecuteTime": {
     "end_time": "2023-01-03T15:01:04.726662Z",
     "start_time": "2023-01-03T15:01:04.707662Z"
    }
   },
   "outputs": [
    {
     "data": {
      "text/plain": [
       "123"
      ]
     },
     "execution_count": 73,
     "metadata": {},
     "output_type": "execute_result"
    }
   ],
   "source": [
    "d['key2']"
   ]
  },
  {
   "cell_type": "code",
   "execution_count": 74,
   "id": "cb254654",
   "metadata": {
    "ExecuteTime": {
     "end_time": "2023-01-03T15:01:51.555587Z",
     "start_time": "2023-01-03T15:01:51.539587Z"
    }
   },
   "outputs": [],
   "source": [
    "d = {'k1':[1,2,3]}"
   ]
  },
  {
   "cell_type": "code",
   "execution_count": 75,
   "id": "7645edb0",
   "metadata": {
    "ExecuteTime": {
     "end_time": "2023-01-03T15:01:53.064269Z",
     "start_time": "2023-01-03T15:01:53.043268Z"
    }
   },
   "outputs": [
    {
     "data": {
      "text/plain": [
       "{'k1': [1, 2, 3]}"
      ]
     },
     "execution_count": 75,
     "metadata": {},
     "output_type": "execute_result"
    }
   ],
   "source": [
    "d"
   ]
  },
  {
   "cell_type": "code",
   "execution_count": 76,
   "id": "b440369c",
   "metadata": {
    "ExecuteTime": {
     "end_time": "2023-01-03T15:02:12.598537Z",
     "start_time": "2023-01-03T15:02:12.579537Z"
    }
   },
   "outputs": [
    {
     "data": {
      "text/plain": [
       "[1, 2, 3]"
      ]
     },
     "execution_count": 76,
     "metadata": {},
     "output_type": "execute_result"
    }
   ],
   "source": [
    "d['k1']"
   ]
  },
  {
   "cell_type": "code",
   "execution_count": 77,
   "id": "aa831dc2",
   "metadata": {
    "ExecuteTime": {
     "end_time": "2023-01-03T15:02:28.058535Z",
     "start_time": "2023-01-03T15:02:28.046555Z"
    }
   },
   "outputs": [
    {
     "data": {
      "text/plain": [
       "2"
      ]
     },
     "execution_count": 77,
     "metadata": {},
     "output_type": "execute_result"
    }
   ],
   "source": [
    "d['k1'][1]"
   ]
  },
  {
   "cell_type": "code",
   "execution_count": 78,
   "id": "56d0ef99",
   "metadata": {
    "ExecuteTime": {
     "end_time": "2023-01-03T15:03:01.363632Z",
     "start_time": "2023-01-03T15:03:01.347634Z"
    }
   },
   "outputs": [],
   "source": [
    "my_list = d['k1']"
   ]
  },
  {
   "cell_type": "code",
   "execution_count": 79,
   "id": "b291fecc",
   "metadata": {
    "ExecuteTime": {
     "end_time": "2023-01-03T15:03:23.155984Z",
     "start_time": "2023-01-03T15:03:23.140960Z"
    }
   },
   "outputs": [
    {
     "data": {
      "text/plain": [
       "2"
      ]
     },
     "execution_count": 79,
     "metadata": {},
     "output_type": "execute_result"
    }
   ],
   "source": [
    "my_list[1]"
   ]
  },
  {
   "cell_type": "code",
   "execution_count": 80,
   "id": "d7b09628",
   "metadata": {
    "ExecuteTime": {
     "end_time": "2023-01-03T15:05:13.248717Z",
     "start_time": "2023-01-03T15:05:13.235723Z"
    }
   },
   "outputs": [],
   "source": [
    " d = {'k1':{'innerkey':[1,2,3]}}"
   ]
  },
  {
   "cell_type": "code",
   "execution_count": 81,
   "id": "8a124872",
   "metadata": {
    "ExecuteTime": {
     "end_time": "2023-01-03T15:05:14.837309Z",
     "start_time": "2023-01-03T15:05:14.820309Z"
    }
   },
   "outputs": [
    {
     "data": {
      "text/plain": [
       "{'k1': {'innerkey': [1, 2, 3]}}"
      ]
     },
     "execution_count": 81,
     "metadata": {},
     "output_type": "execute_result"
    }
   ],
   "source": [
    "d"
   ]
  },
  {
   "cell_type": "code",
   "execution_count": 82,
   "id": "1dde414e",
   "metadata": {
    "ExecuteTime": {
     "end_time": "2023-01-03T15:05:59.985354Z",
     "start_time": "2023-01-03T15:05:59.979358Z"
    }
   },
   "outputs": [
    {
     "data": {
      "text/plain": [
       "2"
      ]
     },
     "execution_count": 82,
     "metadata": {},
     "output_type": "execute_result"
    }
   ],
   "source": [
    "d['k1']['innerkey'][1]"
   ]
  },
  {
   "cell_type": "code",
   "execution_count": 84,
   "id": "57c2fd6a",
   "metadata": {
    "ExecuteTime": {
     "end_time": "2023-01-03T15:11:00.903577Z",
     "start_time": "2023-01-03T15:11:00.883560Z"
    }
   },
   "outputs": [
    {
     "data": {
      "text/plain": [
       "True"
      ]
     },
     "execution_count": 84,
     "metadata": {},
     "output_type": "execute_result"
    }
   ],
   "source": [
    "True"
   ]
  },
  {
   "cell_type": "code",
   "execution_count": 85,
   "id": "b5683099",
   "metadata": {
    "ExecuteTime": {
     "end_time": "2023-01-03T15:11:04.821904Z",
     "start_time": "2023-01-03T15:11:04.811903Z"
    }
   },
   "outputs": [
    {
     "data": {
      "text/plain": [
       "False"
      ]
     },
     "execution_count": 85,
     "metadata": {},
     "output_type": "execute_result"
    }
   ],
   "source": [
    "False"
   ]
  },
  {
   "cell_type": "code",
   "execution_count": 92,
   "id": "b694ed18",
   "metadata": {
    "ExecuteTime": {
     "end_time": "2023-01-03T15:13:00.274813Z",
     "start_time": "2023-01-03T15:13:00.259785Z"
    }
   },
   "outputs": [],
   "source": [
    "my_list = [1,2,3]"
   ]
  },
  {
   "cell_type": "code",
   "execution_count": 87,
   "id": "9174a086",
   "metadata": {
    "ExecuteTime": {
     "end_time": "2023-01-03T15:11:40.442895Z",
     "start_time": "2023-01-03T15:11:40.427896Z"
    }
   },
   "outputs": [
    {
     "data": {
      "text/plain": [
       "1"
      ]
     },
     "execution_count": 87,
     "metadata": {},
     "output_type": "execute_result"
    }
   ],
   "source": [
    "my_list[0]"
   ]
  },
  {
   "cell_type": "code",
   "execution_count": 88,
   "id": "e32a320b",
   "metadata": {
    "ExecuteTime": {
     "end_time": "2023-01-03T15:11:53.568376Z",
     "start_time": "2023-01-03T15:11:53.555377Z"
    }
   },
   "outputs": [],
   "source": [
    "t = (1,2,3)"
   ]
  },
  {
   "cell_type": "code",
   "execution_count": 89,
   "id": "4ee9be80",
   "metadata": {
    "ExecuteTime": {
     "end_time": "2023-01-03T15:11:56.377218Z",
     "start_time": "2023-01-03T15:11:56.371218Z"
    }
   },
   "outputs": [
    {
     "data": {
      "text/plain": [
       "(1, 2, 3)"
      ]
     },
     "execution_count": 89,
     "metadata": {},
     "output_type": "execute_result"
    }
   ],
   "source": [
    "t"
   ]
  },
  {
   "cell_type": "code",
   "execution_count": 90,
   "id": "f858be59",
   "metadata": {
    "ExecuteTime": {
     "end_time": "2023-01-03T15:12:10.578307Z",
     "start_time": "2023-01-03T15:12:10.563336Z"
    }
   },
   "outputs": [
    {
     "data": {
      "text/plain": [
       "1"
      ]
     },
     "execution_count": 90,
     "metadata": {},
     "output_type": "execute_result"
    }
   ],
   "source": [
    "t[0]"
   ]
  },
  {
   "cell_type": "code",
   "execution_count": 93,
   "id": "7c940914",
   "metadata": {
    "ExecuteTime": {
     "end_time": "2023-01-03T15:13:07.836442Z",
     "start_time": "2023-01-03T15:13:07.827447Z"
    }
   },
   "outputs": [],
   "source": [
    "my_list[0] = 'NEW'"
   ]
  },
  {
   "cell_type": "code",
   "execution_count": 94,
   "id": "888ef13f",
   "metadata": {
    "ExecuteTime": {
     "end_time": "2023-01-03T15:13:16.612180Z",
     "start_time": "2023-01-03T15:13:16.604182Z"
    }
   },
   "outputs": [
    {
     "data": {
      "text/plain": [
       "['NEW', 2, 3]"
      ]
     },
     "execution_count": 94,
     "metadata": {},
     "output_type": "execute_result"
    }
   ],
   "source": [
    "my_list"
   ]
  },
  {
   "cell_type": "code",
   "execution_count": 96,
   "id": "a66627ac",
   "metadata": {
    "ExecuteTime": {
     "end_time": "2023-01-03T15:14:34.078987Z",
     "start_time": "2023-01-03T15:14:34.059991Z"
    }
   },
   "outputs": [],
   "source": [
    "# t[0] = 'NEW' with tuples is not possible to reasign variables, because tuples are immutable"
   ]
  },
  {
   "cell_type": "code",
   "execution_count": 97,
   "id": "f00cf5c7",
   "metadata": {
    "ExecuteTime": {
     "end_time": "2023-01-03T15:15:42.331253Z",
     "start_time": "2023-01-03T15:15:42.316257Z"
    }
   },
   "outputs": [
    {
     "data": {
      "text/plain": [
       "{1, 2, 3}"
      ]
     },
     "execution_count": 97,
     "metadata": {},
     "output_type": "execute_result"
    }
   ],
   "source": [
    "{1,2,3}"
   ]
  },
  {
   "cell_type": "code",
   "execution_count": 110,
   "id": "939b4a97",
   "metadata": {
    "ExecuteTime": {
     "end_time": "2023-01-03T15:18:56.460000Z",
     "start_time": "2023-01-03T15:18:56.444000Z"
    }
   },
   "outputs": [
    {
     "data": {
      "text/plain": [
       "{1, 2, 3}"
      ]
     },
     "execution_count": 110,
     "metadata": {},
     "output_type": "execute_result"
    }
   ],
   "source": [
    "{1,1,1,1,1,1,1,2,2,2,2,2,2,2,2,3,3,3,3,3} #set define the collection of unique elements"
   ]
  },
  {
   "cell_type": "code",
   "execution_count": 103,
   "id": "1935fa19",
   "metadata": {
    "ExecuteTime": {
     "end_time": "2023-01-03T15:17:21.338865Z",
     "start_time": "2023-01-03T15:17:21.323865Z"
    }
   },
   "outputs": [
    {
     "data": {
      "text/plain": [
       "{1, 2, 3}"
      ]
     },
     "execution_count": 103,
     "metadata": {},
     "output_type": "execute_result"
    }
   ],
   "source": [
    "set([1,1,1,1,1,1,1,2,2,2,2,2,2,2,2,3,3,3,3,3])"
   ]
  },
  {
   "cell_type": "code",
   "execution_count": 104,
   "id": "55bab585",
   "metadata": {
    "ExecuteTime": {
     "end_time": "2023-01-03T15:17:44.715910Z",
     "start_time": "2023-01-03T15:17:44.707918Z"
    }
   },
   "outputs": [],
   "source": [
    "s = {1,2,3}"
   ]
  },
  {
   "cell_type": "code",
   "execution_count": 105,
   "id": "bf8b8a1e",
   "metadata": {
    "ExecuteTime": {
     "end_time": "2023-01-03T15:17:46.272037Z",
     "start_time": "2023-01-03T15:17:46.260038Z"
    }
   },
   "outputs": [
    {
     "data": {
      "text/plain": [
       "{1, 2, 3}"
      ]
     },
     "execution_count": 105,
     "metadata": {},
     "output_type": "execute_result"
    }
   ],
   "source": [
    "s"
   ]
  },
  {
   "cell_type": "code",
   "execution_count": 106,
   "id": "19ed1abb",
   "metadata": {
    "ExecuteTime": {
     "end_time": "2023-01-03T15:18:11.034585Z",
     "start_time": "2023-01-03T15:18:11.019556Z"
    }
   },
   "outputs": [],
   "source": [
    "s.add(5)"
   ]
  },
  {
   "cell_type": "code",
   "execution_count": 107,
   "id": "2a935345",
   "metadata": {
    "ExecuteTime": {
     "end_time": "2023-01-03T15:18:12.584654Z",
     "start_time": "2023-01-03T15:18:12.571470Z"
    }
   },
   "outputs": [
    {
     "data": {
      "text/plain": [
       "{1, 2, 3, 5}"
      ]
     },
     "execution_count": 107,
     "metadata": {},
     "output_type": "execute_result"
    }
   ],
   "source": [
    "s"
   ]
  },
  {
   "cell_type": "code",
   "execution_count": 108,
   "id": "da254ca6",
   "metadata": {
    "ExecuteTime": {
     "end_time": "2023-01-03T15:18:24.796077Z",
     "start_time": "2023-01-03T15:18:24.780048Z"
    }
   },
   "outputs": [],
   "source": [
    "s.add(5)"
   ]
  },
  {
   "cell_type": "code",
   "execution_count": 109,
   "id": "50854cb0",
   "metadata": {
    "ExecuteTime": {
     "end_time": "2023-01-03T15:18:26.537013Z",
     "start_time": "2023-01-03T15:18:26.524012Z"
    }
   },
   "outputs": [
    {
     "data": {
      "text/plain": [
       "{1, 2, 3, 5}"
      ]
     },
     "execution_count": 109,
     "metadata": {},
     "output_type": "execute_result"
    }
   ],
   "source": [
    "s"
   ]
  },
  {
   "cell_type": "code",
   "execution_count": null,
   "id": "106c9eb4",
   "metadata": {},
   "outputs": [],
   "source": []
  },
  {
   "cell_type": "code",
   "execution_count": 111,
   "id": "ffe8ddb1",
   "metadata": {
    "ExecuteTime": {
     "end_time": "2023-01-03T15:24:06.831453Z",
     "start_time": "2023-01-03T15:24:06.819481Z"
    }
   },
   "outputs": [
    {
     "data": {
      "text/plain": [
       "False"
      ]
     },
     "execution_count": 111,
     "metadata": {},
     "output_type": "execute_result"
    }
   ],
   "source": [
    "1 > 2"
   ]
  },
  {
   "cell_type": "code",
   "execution_count": 112,
   "id": "6fa87e0f",
   "metadata": {
    "ExecuteTime": {
     "end_time": "2023-01-03T15:24:12.875637Z",
     "start_time": "2023-01-03T15:24:12.859634Z"
    }
   },
   "outputs": [
    {
     "data": {
      "text/plain": [
       "True"
      ]
     },
     "execution_count": 112,
     "metadata": {},
     "output_type": "execute_result"
    }
   ],
   "source": [
    "1 < 2"
   ]
  },
  {
   "cell_type": "code",
   "execution_count": 113,
   "id": "2aa9c12b",
   "metadata": {
    "ExecuteTime": {
     "end_time": "2023-01-03T15:24:20.592085Z",
     "start_time": "2023-01-03T15:24:20.581084Z"
    }
   },
   "outputs": [
    {
     "data": {
      "text/plain": [
       "False"
      ]
     },
     "execution_count": 113,
     "metadata": {},
     "output_type": "execute_result"
    }
   ],
   "source": [
    "1 >= 2"
   ]
  },
  {
   "cell_type": "code",
   "execution_count": 114,
   "id": "e0fe282c",
   "metadata": {
    "ExecuteTime": {
     "end_time": "2023-01-03T15:24:28.669700Z",
     "start_time": "2023-01-03T15:24:28.652700Z"
    }
   },
   "outputs": [
    {
     "data": {
      "text/plain": [
       "True"
      ]
     },
     "execution_count": 114,
     "metadata": {},
     "output_type": "execute_result"
    }
   ],
   "source": [
    "1 <= 1"
   ]
  },
  {
   "cell_type": "code",
   "execution_count": 115,
   "id": "e3c58aff",
   "metadata": {
    "ExecuteTime": {
     "end_time": "2023-01-03T15:24:33.261673Z",
     "start_time": "2023-01-03T15:24:33.251675Z"
    }
   },
   "outputs": [
    {
     "data": {
      "text/plain": [
       "False"
      ]
     },
     "execution_count": 115,
     "metadata": {},
     "output_type": "execute_result"
    }
   ],
   "source": [
    "1 == 2"
   ]
  },
  {
   "cell_type": "code",
   "execution_count": 116,
   "id": "da63cf7d",
   "metadata": {
    "ExecuteTime": {
     "end_time": "2023-01-03T15:24:40.518968Z",
     "start_time": "2023-01-03T15:24:40.500943Z"
    }
   },
   "outputs": [
    {
     "data": {
      "text/plain": [
       "True"
      ]
     },
     "execution_count": 116,
     "metadata": {},
     "output_type": "execute_result"
    }
   ],
   "source": [
    "1 == 1"
   ]
  },
  {
   "cell_type": "code",
   "execution_count": 118,
   "id": "d5a8bb56",
   "metadata": {
    "ExecuteTime": {
     "end_time": "2023-01-03T15:25:20.605057Z",
     "start_time": "2023-01-03T15:25:20.596052Z"
    }
   },
   "outputs": [],
   "source": [
    "# 1 = 1  just 1 equal is an assignment, so this make error"
   ]
  },
  {
   "cell_type": "code",
   "execution_count": 119,
   "id": "5a48e511",
   "metadata": {
    "ExecuteTime": {
     "end_time": "2023-01-03T15:25:35.469079Z",
     "start_time": "2023-01-03T15:25:35.461079Z"
    }
   },
   "outputs": [
    {
     "data": {
      "text/plain": [
       "True"
      ]
     },
     "execution_count": 119,
     "metadata": {},
     "output_type": "execute_result"
    }
   ],
   "source": [
    "1 != 3"
   ]
  },
  {
   "cell_type": "code",
   "execution_count": 120,
   "id": "9d1b24fe",
   "metadata": {
    "ExecuteTime": {
     "end_time": "2023-01-03T15:25:43.678532Z",
     "start_time": "2023-01-03T15:25:43.667497Z"
    }
   },
   "outputs": [
    {
     "data": {
      "text/plain": [
       "False"
      ]
     },
     "execution_count": 120,
     "metadata": {},
     "output_type": "execute_result"
    }
   ],
   "source": [
    "1 != 1"
   ]
  },
  {
   "cell_type": "code",
   "execution_count": 121,
   "id": "de73ade1",
   "metadata": {
    "ExecuteTime": {
     "end_time": "2023-01-03T15:26:03.392762Z",
     "start_time": "2023-01-03T15:26:03.380766Z"
    }
   },
   "outputs": [
    {
     "data": {
      "text/plain": [
       "True"
      ]
     },
     "execution_count": 121,
     "metadata": {},
     "output_type": "execute_result"
    }
   ],
   "source": [
    "'hi' != 'bye'"
   ]
  },
  {
   "cell_type": "code",
   "execution_count": 122,
   "id": "0f4219f1",
   "metadata": {
    "ExecuteTime": {
     "end_time": "2023-01-03T15:26:30.343937Z",
     "start_time": "2023-01-03T15:26:30.331968Z"
    }
   },
   "outputs": [
    {
     "data": {
      "text/plain": [
       "True"
      ]
     },
     "execution_count": 122,
     "metadata": {},
     "output_type": "execute_result"
    }
   ],
   "source": [
    "1 < 2 and 2 < 3"
   ]
  },
  {
   "cell_type": "code",
   "execution_count": 127,
   "id": "af3bd72b",
   "metadata": {
    "ExecuteTime": {
     "end_time": "2023-01-03T15:29:23.934298Z",
     "start_time": "2023-01-03T15:29:23.917298Z"
    }
   },
   "outputs": [
    {
     "data": {
      "text/plain": [
       "False"
      ]
     },
     "execution_count": 127,
     "metadata": {},
     "output_type": "execute_result"
    }
   ],
   "source": [
    "(1 < 2) and (2 > 3)          #True and False returns False... brackets are optional but recommended, is readable"
   ]
  },
  {
   "cell_type": "code",
   "execution_count": 128,
   "id": "0863c946",
   "metadata": {
    "ExecuteTime": {
     "end_time": "2023-01-03T15:29:25.173446Z",
     "start_time": "2023-01-03T15:29:25.164447Z"
    }
   },
   "outputs": [
    {
     "data": {
      "text/plain": [
       "True"
      ]
     },
     "execution_count": 128,
     "metadata": {},
     "output_type": "execute_result"
    }
   ],
   "source": [
    "(1 < 2) or (2 > 3)            #True or False returns True... just one has to be True."
   ]
  },
  {
   "cell_type": "code",
   "execution_count": 129,
   "id": "118a33e1",
   "metadata": {
    "ExecuteTime": {
     "end_time": "2023-01-03T15:29:59.776252Z",
     "start_time": "2023-01-03T15:29:59.764253Z"
    }
   },
   "outputs": [
    {
     "data": {
      "text/plain": [
       "True"
      ]
     },
     "execution_count": 129,
     "metadata": {},
     "output_type": "execute_result"
    }
   ],
   "source": [
    "(1 < 2) or (2 > 3) or (1 == 1)"
   ]
  },
  {
   "cell_type": "code",
   "execution_count": 130,
   "id": "2fd0cdbd",
   "metadata": {
    "ExecuteTime": {
     "end_time": "2023-01-03T15:30:16.295484Z",
     "start_time": "2023-01-03T15:30:16.275485Z"
    }
   },
   "outputs": [
    {
     "data": {
      "text/plain": [
       "True"
      ]
     },
     "execution_count": 130,
     "metadata": {},
     "output_type": "execute_result"
    }
   ],
   "source": [
    "True and True"
   ]
  },
  {
   "cell_type": "code",
   "execution_count": 131,
   "id": "c158754d",
   "metadata": {
    "ExecuteTime": {
     "end_time": "2023-01-03T15:30:29.846627Z",
     "start_time": "2023-01-03T15:30:29.835627Z"
    }
   },
   "outputs": [
    {
     "data": {
      "text/plain": [
       "False"
      ]
     },
     "execution_count": 131,
     "metadata": {},
     "output_type": "execute_result"
    }
   ],
   "source": [
    "True and False"
   ]
  },
  {
   "cell_type": "code",
   "execution_count": 132,
   "id": "6336908d",
   "metadata": {
    "ExecuteTime": {
     "end_time": "2023-01-03T15:30:45.508421Z",
     "start_time": "2023-01-03T15:30:45.492391Z"
    }
   },
   "outputs": [
    {
     "data": {
      "text/plain": [
       "True"
      ]
     },
     "execution_count": 132,
     "metadata": {},
     "output_type": "execute_result"
    }
   ],
   "source": [
    "True or False"
   ]
  },
  {
   "cell_type": "code",
   "execution_count": null,
   "id": "2be7f7aa",
   "metadata": {},
   "outputs": [],
   "source": []
  },
  {
   "cell_type": "code",
   "execution_count": 134,
   "id": "f8fe8b36",
   "metadata": {
    "ExecuteTime": {
     "end_time": "2023-01-03T15:31:46.758755Z",
     "start_time": "2023-01-03T15:31:46.747753Z"
    }
   },
   "outputs": [
    {
     "name": "stdout",
     "output_type": "stream",
     "text": [
      "yep!\n"
     ]
    }
   ],
   "source": [
    "if 1 < 2:\n",
    "    print('yep!')"
   ]
  },
  {
   "cell_type": "code",
   "execution_count": 139,
   "id": "d9e6e92f",
   "metadata": {
    "ExecuteTime": {
     "end_time": "2023-01-03T15:33:07.832373Z",
     "start_time": "2023-01-03T15:33:07.820381Z"
    }
   },
   "outputs": [],
   "source": [
    "if True:\n",
    "    x = 2+2"
   ]
  },
  {
   "cell_type": "code",
   "execution_count": 140,
   "id": "c72e0b57",
   "metadata": {
    "ExecuteTime": {
     "end_time": "2023-01-03T15:33:09.292010Z",
     "start_time": "2023-01-03T15:33:09.284009Z"
    }
   },
   "outputs": [
    {
     "data": {
      "text/plain": [
       "4"
      ]
     },
     "execution_count": 140,
     "metadata": {},
     "output_type": "execute_result"
    }
   ],
   "source": [
    "x"
   ]
  },
  {
   "cell_type": "code",
   "execution_count": 141,
   "id": "76c1616e",
   "metadata": {
    "ExecuteTime": {
     "end_time": "2023-01-03T15:33:54.504264Z",
     "start_time": "2023-01-03T15:33:54.484233Z"
    }
   },
   "outputs": [
    {
     "name": "stdout",
     "output_type": "stream",
     "text": [
      "Last\n"
     ]
    }
   ],
   "source": [
    "if 1 == 2:\n",
    "    print('First')\n",
    "else:\n",
    "    print('Last')"
   ]
  },
  {
   "cell_type": "code",
   "execution_count": 142,
   "id": "dbe7c889",
   "metadata": {
    "ExecuteTime": {
     "end_time": "2023-01-03T15:34:14.960449Z",
     "start_time": "2023-01-03T15:34:14.940422Z"
    }
   },
   "outputs": [
    {
     "name": "stdout",
     "output_type": "stream",
     "text": [
      "First\n"
     ]
    }
   ],
   "source": [
    "if 1 != 2:\n",
    "    print('First')\n",
    "else:\n",
    "    print('Last')"
   ]
  },
  {
   "cell_type": "code",
   "execution_count": 148,
   "id": "e86c7f33",
   "metadata": {
    "ExecuteTime": {
     "end_time": "2023-01-03T15:37:30.704714Z",
     "start_time": "2023-01-03T15:37:30.692717Z"
    }
   },
   "outputs": [
    {
     "name": "stdout",
     "output_type": "stream",
     "text": [
      "Middle\n"
     ]
    }
   ],
   "source": [
    "if 1 == 2:\n",
    "    print('First')\n",
    "elif 4 == 3:\n",
    "    print('Second')\n",
    "elif 3 == 3:\n",
    "    print('Middle')\n",
    "else:\n",
    "    print('Last') #just works the first instance where the condition is True"
   ]
  },
  {
   "cell_type": "markdown",
   "id": "50fd71f0",
   "metadata": {},
   "source": [
    "## Part 3"
   ]
  },
  {
   "cell_type": "code",
   "execution_count": 1,
   "id": "d666b015",
   "metadata": {
    "ExecuteTime": {
     "end_time": "2023-01-03T18:23:53.403442Z",
     "start_time": "2023-01-03T18:23:53.383439Z"
    }
   },
   "outputs": [],
   "source": [
    "seq = [1,2,3,4,5]"
   ]
  },
  {
   "cell_type": "code",
   "execution_count": 3,
   "id": "e527ad34",
   "metadata": {
    "ExecuteTime": {
     "end_time": "2023-01-03T18:25:16.282456Z",
     "start_time": "2023-01-03T18:25:16.271457Z"
    }
   },
   "outputs": [
    {
     "name": "stdout",
     "output_type": "stream",
     "text": [
      "1\n",
      "2\n",
      "3\n",
      "4\n",
      "5\n"
     ]
    }
   ],
   "source": [
    "for num in seq:\n",
    "    print(num)"
   ]
  },
  {
   "cell_type": "code",
   "execution_count": 4,
   "id": "cfbe714d",
   "metadata": {
    "ExecuteTime": {
     "end_time": "2023-01-03T18:25:38.990413Z",
     "start_time": "2023-01-03T18:25:38.975414Z"
    }
   },
   "outputs": [
    {
     "name": "stdout",
     "output_type": "stream",
     "text": [
      "hello\n",
      "hello\n",
      "hello\n",
      "hello\n",
      "hello\n"
     ]
    }
   ],
   "source": [
    "for num in seq:\n",
    "    print('hello')"
   ]
  },
  {
   "cell_type": "code",
   "execution_count": 7,
   "id": "47f1c360",
   "metadata": {
    "ExecuteTime": {
     "end_time": "2023-01-03T18:28:43.641996Z",
     "start_time": "2023-01-03T18:28:43.636994Z"
    }
   },
   "outputs": [
    {
     "name": "stdout",
     "output_type": "stream",
     "text": [
      "i is: 1\n",
      "i is: 2\n",
      "i is: 3\n",
      "i is: 4\n",
      "i is: 5\n"
     ]
    }
   ],
   "source": [
    "i = 1\n",
    "\n",
    "while i <= 5:\n",
    "    print('i is: {}'.format(i))\n",
    "    i = i+1"
   ]
  },
  {
   "cell_type": "code",
   "execution_count": 8,
   "id": "3e988ec4",
   "metadata": {
    "ExecuteTime": {
     "end_time": "2023-01-03T18:29:01.618440Z",
     "start_time": "2023-01-03T18:29:01.599442Z"
    }
   },
   "outputs": [
    {
     "name": "stdout",
     "output_type": "stream",
     "text": [
      "1\n",
      "2\n",
      "3\n",
      "4\n",
      "5\n"
     ]
    }
   ],
   "source": [
    "for x in seq:\n",
    "    print(x)"
   ]
  },
  {
   "cell_type": "code",
   "execution_count": 9,
   "id": "d5ec6209",
   "metadata": {
    "ExecuteTime": {
     "end_time": "2023-01-03T18:29:28.974890Z",
     "start_time": "2023-01-03T18:29:28.965893Z"
    }
   },
   "outputs": [
    {
     "data": {
      "text/plain": [
       "range(0, 5)"
      ]
     },
     "execution_count": 9,
     "metadata": {},
     "output_type": "execute_result"
    }
   ],
   "source": [
    "range(0,5)"
   ]
  },
  {
   "cell_type": "code",
   "execution_count": 10,
   "id": "2e95410d",
   "metadata": {
    "ExecuteTime": {
     "end_time": "2023-01-03T18:29:46.337589Z",
     "start_time": "2023-01-03T18:29:46.326588Z"
    }
   },
   "outputs": [
    {
     "name": "stdout",
     "output_type": "stream",
     "text": [
      "0\n",
      "1\n",
      "2\n",
      "3\n",
      "4\n"
     ]
    }
   ],
   "source": [
    "for x in range(0,5):\n",
    "    print(x)"
   ]
  },
  {
   "cell_type": "code",
   "execution_count": 12,
   "id": "4093e058",
   "metadata": {
    "ExecuteTime": {
     "end_time": "2023-01-03T18:30:29.658120Z",
     "start_time": "2023-01-03T18:30:29.639084Z"
    }
   },
   "outputs": [
    {
     "data": {
      "text/plain": [
       "[0, 1, 2, 3, 4]"
      ]
     },
     "execution_count": 12,
     "metadata": {},
     "output_type": "execute_result"
    }
   ],
   "source": [
    "list(range(0,5))"
   ]
  },
  {
   "cell_type": "code",
   "execution_count": 14,
   "id": "35999a09",
   "metadata": {
    "ExecuteTime": {
     "end_time": "2023-01-03T18:31:39.462280Z",
     "start_time": "2023-01-03T18:31:39.446277Z"
    }
   },
   "outputs": [
    {
     "data": {
      "text/plain": [
       "[0, 1, 2, 3, 4, 5, 6, 7, 8, 9]"
      ]
     },
     "execution_count": 14,
     "metadata": {},
     "output_type": "execute_result"
    }
   ],
   "source": [
    "list(range(10)) # By default the starting number is 0. Remember finis one before the last number"
   ]
  },
  {
   "cell_type": "code",
   "execution_count": 15,
   "id": "136c484f",
   "metadata": {
    "ExecuteTime": {
     "end_time": "2023-01-03T18:33:20.923730Z",
     "start_time": "2023-01-03T18:33:20.917727Z"
    }
   },
   "outputs": [],
   "source": [
    "x = [1,2,3,4]"
   ]
  },
  {
   "cell_type": "code",
   "execution_count": 18,
   "id": "b04e90f3",
   "metadata": {
    "ExecuteTime": {
     "end_time": "2023-01-03T18:34:36.365425Z",
     "start_time": "2023-01-03T18:34:36.359425Z"
    }
   },
   "outputs": [],
   "source": [
    "out = []\n",
    "\n",
    "for num in x:\n",
    "    out.append(num**2)"
   ]
  },
  {
   "cell_type": "code",
   "execution_count": 19,
   "id": "23cf990b",
   "metadata": {
    "ExecuteTime": {
     "end_time": "2023-01-03T18:34:37.245455Z",
     "start_time": "2023-01-03T18:34:37.230427Z"
    }
   },
   "outputs": [
    {
     "name": "stdout",
     "output_type": "stream",
     "text": [
      "[1, 4, 9, 16]\n"
     ]
    }
   ],
   "source": [
    "print(out)"
   ]
  },
  {
   "cell_type": "code",
   "execution_count": 20,
   "id": "1f0e35f4",
   "metadata": {
    "ExecuteTime": {
     "end_time": "2023-01-03T18:35:55.653077Z",
     "start_time": "2023-01-03T18:35:55.639078Z"
    }
   },
   "outputs": [
    {
     "data": {
      "text/plain": [
       "[1, 4, 9, 16]"
      ]
     },
     "execution_count": 20,
     "metadata": {},
     "output_type": "execute_result"
    }
   ],
   "source": [
    "[num**2 for num in x]"
   ]
  },
  {
   "cell_type": "code",
   "execution_count": 21,
   "id": "822805ca",
   "metadata": {
    "ExecuteTime": {
     "end_time": "2023-01-03T18:36:34.911001Z",
     "start_time": "2023-01-03T18:36:34.894967Z"
    }
   },
   "outputs": [],
   "source": [
    "out = [num**2 for num in x]"
   ]
  },
  {
   "cell_type": "code",
   "execution_count": 22,
   "id": "55d7cb31",
   "metadata": {
    "ExecuteTime": {
     "end_time": "2023-01-03T18:36:37.199597Z",
     "start_time": "2023-01-03T18:36:37.184597Z"
    }
   },
   "outputs": [
    {
     "data": {
      "text/plain": [
       "[1, 4, 9, 16]"
      ]
     },
     "execution_count": 22,
     "metadata": {},
     "output_type": "execute_result"
    }
   ],
   "source": [
    "out"
   ]
  },
  {
   "cell_type": "code",
   "execution_count": 23,
   "id": "d496d1bc",
   "metadata": {
    "ExecuteTime": {
     "end_time": "2023-01-03T18:42:04.237350Z",
     "start_time": "2023-01-03T18:42:04.222806Z"
    }
   },
   "outputs": [],
   "source": [
    "def my_func(param1):\n",
    "    print(param1)"
   ]
  },
  {
   "cell_type": "code",
   "execution_count": 25,
   "id": "a5ff0754",
   "metadata": {
    "ExecuteTime": {
     "end_time": "2023-01-03T18:42:19.982518Z",
     "start_time": "2023-01-03T18:42:19.967519Z"
    }
   },
   "outputs": [
    {
     "name": "stdout",
     "output_type": "stream",
     "text": [
      "hello\n"
     ]
    }
   ],
   "source": [
    "my_func('hello')"
   ]
  },
  {
   "cell_type": "code",
   "execution_count": 26,
   "id": "7f831538",
   "metadata": {
    "ExecuteTime": {
     "end_time": "2023-01-03T18:42:58.672645Z",
     "start_time": "2023-01-03T18:42:58.655652Z"
    }
   },
   "outputs": [],
   "source": [
    "def my_func(name):\n",
    "    print('hello ' + name)"
   ]
  },
  {
   "cell_type": "code",
   "execution_count": 27,
   "id": "2e9cbb39",
   "metadata": {
    "ExecuteTime": {
     "end_time": "2023-01-03T18:43:09.178735Z",
     "start_time": "2023-01-03T18:43:09.160736Z"
    }
   },
   "outputs": [
    {
     "name": "stdout",
     "output_type": "stream",
     "text": [
      "hello Jose\n"
     ]
    }
   ],
   "source": [
    "my_func('Jose')"
   ]
  },
  {
   "cell_type": "code",
   "execution_count": 28,
   "id": "5a113993",
   "metadata": {
    "ExecuteTime": {
     "end_time": "2023-01-03T18:43:48.352953Z",
     "start_time": "2023-01-03T18:43:48.336918Z"
    }
   },
   "outputs": [],
   "source": [
    "def my_func(name = 'Default Name'):\n",
    "    print('hello ' + name)                 #when you print you just print a value but you don't return or store in any variable"
   ]
  },
  {
   "cell_type": "code",
   "execution_count": 29,
   "id": "80d46f13",
   "metadata": {
    "ExecuteTime": {
     "end_time": "2023-01-03T18:44:01.684800Z",
     "start_time": "2023-01-03T18:44:01.679830Z"
    }
   },
   "outputs": [
    {
     "name": "stdout",
     "output_type": "stream",
     "text": [
      "hello Default Name\n"
     ]
    }
   ],
   "source": [
    "my_func()                   "
   ]
  },
  {
   "cell_type": "code",
   "execution_count": 30,
   "id": "78c060b3",
   "metadata": {
    "ExecuteTime": {
     "end_time": "2023-01-03T18:45:55.073712Z",
     "start_time": "2023-01-03T18:45:55.064711Z"
    }
   },
   "outputs": [],
   "source": [
    "def square(num):\n",
    "    return num**2                          #when you return you want to set it equal to a variable"
   ]
  },
  {
   "cell_type": "code",
   "execution_count": 31,
   "id": "4fb2a091",
   "metadata": {
    "ExecuteTime": {
     "end_time": "2023-01-03T18:46:06.349915Z",
     "start_time": "2023-01-03T18:46:06.334885Z"
    }
   },
   "outputs": [],
   "source": [
    "output = square(2)             "
   ]
  },
  {
   "cell_type": "code",
   "execution_count": 32,
   "id": "ee1f9764",
   "metadata": {
    "ExecuteTime": {
     "end_time": "2023-01-03T18:46:11.755245Z",
     "start_time": "2023-01-03T18:46:11.743247Z"
    }
   },
   "outputs": [
    {
     "data": {
      "text/plain": [
       "4"
      ]
     },
     "execution_count": 32,
     "metadata": {},
     "output_type": "execute_result"
    }
   ],
   "source": [
    "output"
   ]
  },
  {
   "cell_type": "code",
   "execution_count": 33,
   "id": "f331c911",
   "metadata": {
    "ExecuteTime": {
     "end_time": "2023-01-03T18:54:12.977483Z",
     "start_time": "2023-01-03T18:54:12.967482Z"
    }
   },
   "outputs": [],
   "source": [
    "def square(num):\n",
    "    '''\n",
    "    THIS IS A DOCSTRING.\n",
    "    CAN GO MULTIPLE LINES.\n",
    "    THIS FUNCTION SQAUARES A NUMBER.\n",
    "    '''\n",
    "    return num**2 "
   ]
  },
  {
   "cell_type": "code",
   "execution_count": 34,
   "id": "cf158fa6",
   "metadata": {
    "ExecuteTime": {
     "end_time": "2023-01-03T18:54:21.647429Z",
     "start_time": "2023-01-03T18:54:21.638398Z"
    }
   },
   "outputs": [],
   "source": [
    "output = square(2)  "
   ]
  },
  {
   "cell_type": "code",
   "execution_count": 35,
   "id": "1baf4b7f",
   "metadata": {
    "ExecuteTime": {
     "end_time": "2023-01-03T18:54:26.309611Z",
     "start_time": "2023-01-03T18:54:26.294612Z"
    }
   },
   "outputs": [
    {
     "data": {
      "text/plain": [
       "4"
      ]
     },
     "execution_count": 35,
     "metadata": {},
     "output_type": "execute_result"
    }
   ],
   "source": [
    "output"
   ]
  },
  {
   "cell_type": "code",
   "execution_count": 36,
   "id": "bac9204e",
   "metadata": {
    "ExecuteTime": {
     "end_time": "2023-01-03T18:56:46.778582Z",
     "start_time": "2023-01-03T18:56:46.766562Z"
    }
   },
   "outputs": [
    {
     "data": {
      "text/plain": [
       "<function __main__.square(num)>"
      ]
     },
     "execution_count": 36,
     "metadata": {},
     "output_type": "execute_result"
    }
   ],
   "source": [
    "square # shift + tab"
   ]
  },
  {
   "cell_type": "code",
   "execution_count": 37,
   "id": "2103ef8d",
   "metadata": {
    "ExecuteTime": {
     "end_time": "2023-01-03T18:56:57.186813Z",
     "start_time": "2023-01-03T18:56:57.174789Z"
    }
   },
   "outputs": [
    {
     "data": {
      "text/plain": [
       "range"
      ]
     },
     "execution_count": 37,
     "metadata": {},
     "output_type": "execute_result"
    }
   ],
   "source": [
    "range # shift + tab"
   ]
  },
  {
   "cell_type": "markdown",
   "id": "afce722e",
   "metadata": {},
   "source": [
    "## Part 4"
   ]
  },
  {
   "cell_type": "code",
   "execution_count": 1,
   "id": "00ebaa91",
   "metadata": {
    "ExecuteTime": {
     "end_time": "2023-01-04T13:31:31.471032Z",
     "start_time": "2023-01-04T13:31:31.449001Z"
    }
   },
   "outputs": [],
   "source": [
    "def times2(var):\n",
    "    return var*2"
   ]
  },
  {
   "cell_type": "code",
   "execution_count": 2,
   "id": "cca9847f",
   "metadata": {
    "ExecuteTime": {
     "end_time": "2023-01-04T13:31:38.565220Z",
     "start_time": "2023-01-04T13:31:38.541221Z"
    }
   },
   "outputs": [
    {
     "data": {
      "text/plain": [
       "10"
      ]
     },
     "execution_count": 2,
     "metadata": {},
     "output_type": "execute_result"
    }
   ],
   "source": [
    "times2(5)"
   ]
  },
  {
   "cell_type": "code",
   "execution_count": 3,
   "id": "7631d322",
   "metadata": {
    "ExecuteTime": {
     "end_time": "2023-01-04T13:31:46.323052Z",
     "start_time": "2023-01-04T13:31:46.317079Z"
    }
   },
   "outputs": [],
   "source": [
    "# map()"
   ]
  },
  {
   "cell_type": "code",
   "execution_count": 4,
   "id": "b7aed939",
   "metadata": {
    "ExecuteTime": {
     "end_time": "2023-01-04T13:32:01.912134Z",
     "start_time": "2023-01-04T13:32:01.894135Z"
    }
   },
   "outputs": [],
   "source": [
    "seq = [1,2,3,4,5]"
   ]
  },
  {
   "cell_type": "code",
   "execution_count": 7,
   "id": "03c61676",
   "metadata": {
    "ExecuteTime": {
     "end_time": "2023-01-04T13:33:12.448822Z",
     "start_time": "2023-01-04T13:33:12.429854Z"
    }
   },
   "outputs": [
    {
     "data": {
      "text/plain": [
       "[2, 4, 6, 8, 10]"
      ]
     },
     "execution_count": 7,
     "metadata": {},
     "output_type": "execute_result"
    }
   ],
   "source": [
    "list(map(times2,seq))"
   ]
  },
  {
   "cell_type": "code",
   "execution_count": 8,
   "id": "b87aca79",
   "metadata": {
    "ExecuteTime": {
     "end_time": "2023-01-04T13:34:20.273314Z",
     "start_time": "2023-01-04T13:34:20.269283Z"
    }
   },
   "outputs": [],
   "source": [
    "def times2(var):return var*2"
   ]
  },
  {
   "cell_type": "code",
   "execution_count": 9,
   "id": "e3013590",
   "metadata": {
    "ExecuteTime": {
     "end_time": "2023-01-04T13:35:21.010026Z",
     "start_time": "2023-01-04T13:35:20.997057Z"
    }
   },
   "outputs": [
    {
     "data": {
      "text/plain": [
       "<function __main__.<lambda>(var)>"
      ]
     },
     "execution_count": 9,
     "metadata": {},
     "output_type": "execute_result"
    }
   ],
   "source": [
    "lambda var:var*2"
   ]
  },
  {
   "cell_type": "code",
   "execution_count": 10,
   "id": "8331361d",
   "metadata": {
    "ExecuteTime": {
     "end_time": "2023-01-04T13:35:31.957860Z",
     "start_time": "2023-01-04T13:35:31.949868Z"
    }
   },
   "outputs": [],
   "source": [
    "t = lambda var:var*2"
   ]
  },
  {
   "cell_type": "code",
   "execution_count": 11,
   "id": "6d077bd4",
   "metadata": {
    "ExecuteTime": {
     "end_time": "2023-01-04T13:36:20.744580Z",
     "start_time": "2023-01-04T13:36:20.733608Z"
    }
   },
   "outputs": [
    {
     "data": {
      "text/plain": [
       "[2, 4, 6, 8, 10]"
      ]
     },
     "execution_count": 11,
     "metadata": {},
     "output_type": "execute_result"
    }
   ],
   "source": [
    "list(map(t,seq))"
   ]
  },
  {
   "cell_type": "code",
   "execution_count": 12,
   "id": "61d5c4e6",
   "metadata": {
    "ExecuteTime": {
     "end_time": "2023-01-04T13:36:38.496307Z",
     "start_time": "2023-01-04T13:36:38.485306Z"
    }
   },
   "outputs": [
    {
     "data": {
      "text/plain": [
       "[2, 4, 6, 8, 10]"
      ]
     },
     "execution_count": 12,
     "metadata": {},
     "output_type": "execute_result"
    }
   ],
   "source": [
    "list(map(lambda var:var*2,seq))"
   ]
  },
  {
   "cell_type": "code",
   "execution_count": 16,
   "id": "4cb3a184",
   "metadata": {
    "ExecuteTime": {
     "end_time": "2023-01-04T13:40:15.366609Z",
     "start_time": "2023-01-04T13:40:15.357637Z"
    }
   },
   "outputs": [],
   "source": [
    "# filter()"
   ]
  },
  {
   "cell_type": "code",
   "execution_count": 15,
   "id": "0a6fc783",
   "metadata": {
    "ExecuteTime": {
     "end_time": "2023-01-04T13:38:52.157959Z",
     "start_time": "2023-01-04T13:38:52.150945Z"
    }
   },
   "outputs": [
    {
     "data": {
      "text/plain": [
       "[2, 4]"
      ]
     },
     "execution_count": 15,
     "metadata": {},
     "output_type": "execute_result"
    }
   ],
   "source": [
    "list(filter(lambda num: num%2 == 0, seq))"
   ]
  },
  {
   "cell_type": "code",
   "execution_count": 17,
   "id": "a628bc0c",
   "metadata": {
    "ExecuteTime": {
     "end_time": "2023-01-04T13:40:46.393239Z",
     "start_time": "2023-01-04T13:40:46.382241Z"
    }
   },
   "outputs": [],
   "source": [
    "s = 'hello my name is Sam'"
   ]
  },
  {
   "cell_type": "code",
   "execution_count": 18,
   "id": "72ae96b1",
   "metadata": {
    "ExecuteTime": {
     "end_time": "2023-01-04T13:41:23.810657Z",
     "start_time": "2023-01-04T13:41:23.790629Z"
    }
   },
   "outputs": [
    {
     "data": {
      "text/plain": [
       "'hello my name is sam'"
      ]
     },
     "execution_count": 18,
     "metadata": {},
     "output_type": "execute_result"
    }
   ],
   "source": [
    "s.lower()"
   ]
  },
  {
   "cell_type": "code",
   "execution_count": 19,
   "id": "eb4f6620",
   "metadata": {
    "ExecuteTime": {
     "end_time": "2023-01-04T13:41:31.585836Z",
     "start_time": "2023-01-04T13:41:31.565808Z"
    }
   },
   "outputs": [
    {
     "data": {
      "text/plain": [
       "'HELLO MY NAME IS SAM'"
      ]
     },
     "execution_count": 19,
     "metadata": {},
     "output_type": "execute_result"
    }
   ],
   "source": [
    "s.upper()"
   ]
  },
  {
   "cell_type": "code",
   "execution_count": 21,
   "id": "346bbc18",
   "metadata": {
    "ExecuteTime": {
     "end_time": "2023-01-04T13:41:43.016339Z",
     "start_time": "2023-01-04T13:41:43.006340Z"
    }
   },
   "outputs": [
    {
     "data": {
      "text/plain": [
       "['hello', 'my', 'name', 'is', 'Sam']"
      ]
     },
     "execution_count": 21,
     "metadata": {},
     "output_type": "execute_result"
    }
   ],
   "source": [
    "s.split()"
   ]
  },
  {
   "cell_type": "code",
   "execution_count": 24,
   "id": "67f23974",
   "metadata": {
    "ExecuteTime": {
     "end_time": "2023-01-04T13:44:44.823934Z",
     "start_time": "2023-01-04T13:44:44.807938Z"
    }
   },
   "outputs": [],
   "source": [
    "tweet = 'Go Sports! #Sports'"
   ]
  },
  {
   "cell_type": "code",
   "execution_count": 25,
   "id": "28f31973",
   "metadata": {
    "ExecuteTime": {
     "end_time": "2023-01-04T13:44:45.604518Z",
     "start_time": "2023-01-04T13:44:45.589520Z"
    }
   },
   "outputs": [
    {
     "data": {
      "text/plain": [
       "['Go Sports! ', 'Sports']"
      ]
     },
     "execution_count": 25,
     "metadata": {},
     "output_type": "execute_result"
    }
   ],
   "source": [
    "tweet.split('#')"
   ]
  },
  {
   "cell_type": "code",
   "execution_count": 26,
   "id": "9083d5c2",
   "metadata": {
    "ExecuteTime": {
     "end_time": "2023-01-04T13:45:04.074718Z",
     "start_time": "2023-01-04T13:45:04.053719Z"
    }
   },
   "outputs": [
    {
     "data": {
      "text/plain": [
       "'Sports'"
      ]
     },
     "execution_count": 26,
     "metadata": {},
     "output_type": "execute_result"
    }
   ],
   "source": [
    "tweet.split('#')[1]"
   ]
  },
  {
   "cell_type": "code",
   "execution_count": 28,
   "id": "1ce86690",
   "metadata": {
    "ExecuteTime": {
     "end_time": "2023-01-04T13:46:14.669506Z",
     "start_time": "2023-01-04T13:46:14.661494Z"
    }
   },
   "outputs": [],
   "source": [
    "d = {'k1':{'innerkey':[1,2,3]}}"
   ]
  },
  {
   "cell_type": "code",
   "execution_count": 29,
   "id": "90c40e85",
   "metadata": {
    "ExecuteTime": {
     "end_time": "2023-01-04T13:46:35.404586Z",
     "start_time": "2023-01-04T13:46:35.390583Z"
    }
   },
   "outputs": [
    {
     "data": {
      "text/plain": [
       "{'k1': {'innerkey': [1, 2, 3]}}"
      ]
     },
     "execution_count": 29,
     "metadata": {},
     "output_type": "execute_result"
    }
   ],
   "source": [
    "d"
   ]
  },
  {
   "cell_type": "code",
   "execution_count": 30,
   "id": "18c8b8d4",
   "metadata": {
    "ExecuteTime": {
     "end_time": "2023-01-04T13:47:12.447332Z",
     "start_time": "2023-01-04T13:47:12.429363Z"
    }
   },
   "outputs": [],
   "source": [
    "d = {'k1': 1, 'k2': 2}"
   ]
  },
  {
   "cell_type": "code",
   "execution_count": 31,
   "id": "e39a1ee7",
   "metadata": {
    "ExecuteTime": {
     "end_time": "2023-01-04T13:47:27.150169Z",
     "start_time": "2023-01-04T13:47:27.142200Z"
    }
   },
   "outputs": [
    {
     "data": {
      "text/plain": [
       "dict_keys(['k1', 'k2'])"
      ]
     },
     "execution_count": 31,
     "metadata": {},
     "output_type": "execute_result"
    }
   ],
   "source": [
    "d.keys()"
   ]
  },
  {
   "cell_type": "code",
   "execution_count": 32,
   "id": "47c63f53",
   "metadata": {
    "ExecuteTime": {
     "end_time": "2023-01-04T13:47:35.797762Z",
     "start_time": "2023-01-04T13:47:35.781769Z"
    }
   },
   "outputs": [
    {
     "data": {
      "text/plain": [
       "dict_items([('k1', 1), ('k2', 2)])"
      ]
     },
     "execution_count": 32,
     "metadata": {},
     "output_type": "execute_result"
    }
   ],
   "source": [
    "d.items()"
   ]
  },
  {
   "cell_type": "code",
   "execution_count": 33,
   "id": "c815e8ef",
   "metadata": {
    "ExecuteTime": {
     "end_time": "2023-01-04T13:47:50.008428Z",
     "start_time": "2023-01-04T13:47:49.990430Z"
    }
   },
   "outputs": [
    {
     "data": {
      "text/plain": [
       "dict_values([1, 2])"
      ]
     },
     "execution_count": 33,
     "metadata": {},
     "output_type": "execute_result"
    }
   ],
   "source": [
    "d.values()"
   ]
  },
  {
   "cell_type": "code",
   "execution_count": 34,
   "id": "9589666f",
   "metadata": {
    "ExecuteTime": {
     "end_time": "2023-01-04T13:48:09.817131Z",
     "start_time": "2023-01-04T13:48:09.806105Z"
    }
   },
   "outputs": [],
   "source": [
    "lst = [1,2,3]"
   ]
  },
  {
   "cell_type": "code",
   "execution_count": 35,
   "id": "24cbcd4f",
   "metadata": {
    "ExecuteTime": {
     "end_time": "2023-01-04T13:48:18.820573Z",
     "start_time": "2023-01-04T13:48:18.814551Z"
    }
   },
   "outputs": [
    {
     "data": {
      "text/plain": [
       "3"
      ]
     },
     "execution_count": 35,
     "metadata": {},
     "output_type": "execute_result"
    }
   ],
   "source": [
    "lst.pop()"
   ]
  },
  {
   "cell_type": "code",
   "execution_count": 36,
   "id": "7a40d66c",
   "metadata": {
    "ExecuteTime": {
     "end_time": "2023-01-04T13:48:23.113978Z",
     "start_time": "2023-01-04T13:48:23.094946Z"
    }
   },
   "outputs": [
    {
     "data": {
      "text/plain": [
       "[1, 2]"
      ]
     },
     "execution_count": 36,
     "metadata": {},
     "output_type": "execute_result"
    }
   ],
   "source": [
    "lst"
   ]
  },
  {
   "cell_type": "code",
   "execution_count": 37,
   "id": "18949257",
   "metadata": {
    "ExecuteTime": {
     "end_time": "2023-01-04T13:48:40.898337Z",
     "start_time": "2023-01-04T13:48:40.880309Z"
    }
   },
   "outputs": [],
   "source": [
    "lst = [1,2,3,4,5]"
   ]
  },
  {
   "cell_type": "code",
   "execution_count": 38,
   "id": "1ad6a763",
   "metadata": {
    "ExecuteTime": {
     "end_time": "2023-01-04T13:48:54.539043Z",
     "start_time": "2023-01-04T13:48:54.526066Z"
    }
   },
   "outputs": [],
   "source": [
    "item = lst.pop()"
   ]
  },
  {
   "cell_type": "code",
   "execution_count": 39,
   "id": "9aa9737b",
   "metadata": {
    "ExecuteTime": {
     "end_time": "2023-01-04T13:48:58.340016Z",
     "start_time": "2023-01-04T13:48:58.325017Z"
    }
   },
   "outputs": [
    {
     "data": {
      "text/plain": [
       "[1, 2, 3, 4]"
      ]
     },
     "execution_count": 39,
     "metadata": {},
     "output_type": "execute_result"
    }
   ],
   "source": [
    "lst"
   ]
  },
  {
   "cell_type": "code",
   "execution_count": 40,
   "id": "17a4cb04",
   "metadata": {
    "ExecuteTime": {
     "end_time": "2023-01-04T13:49:11.476026Z",
     "start_time": "2023-01-04T13:49:11.461996Z"
    }
   },
   "outputs": [
    {
     "data": {
      "text/plain": [
       "5"
      ]
     },
     "execution_count": 40,
     "metadata": {},
     "output_type": "execute_result"
    }
   ],
   "source": [
    "item"
   ]
  },
  {
   "cell_type": "code",
   "execution_count": 41,
   "id": "d1320595",
   "metadata": {
    "ExecuteTime": {
     "end_time": "2023-01-04T13:49:47.022710Z",
     "start_time": "2023-01-04T13:49:47.007696Z"
    }
   },
   "outputs": [],
   "source": [
    "first = lst.pop(0)"
   ]
  },
  {
   "cell_type": "code",
   "execution_count": 42,
   "id": "1adf8af3",
   "metadata": {
    "ExecuteTime": {
     "end_time": "2023-01-04T13:49:49.141966Z",
     "start_time": "2023-01-04T13:49:49.133965Z"
    }
   },
   "outputs": [
    {
     "data": {
      "text/plain": [
       "[2, 3, 4]"
      ]
     },
     "execution_count": 42,
     "metadata": {},
     "output_type": "execute_result"
    }
   ],
   "source": [
    "lst"
   ]
  },
  {
   "cell_type": "code",
   "execution_count": 43,
   "id": "b1df7be8",
   "metadata": {
    "ExecuteTime": {
     "end_time": "2023-01-04T13:49:53.524973Z",
     "start_time": "2023-01-04T13:49:53.509973Z"
    }
   },
   "outputs": [
    {
     "data": {
      "text/plain": [
       "1"
      ]
     },
     "execution_count": 43,
     "metadata": {},
     "output_type": "execute_result"
    }
   ],
   "source": [
    "first"
   ]
  },
  {
   "cell_type": "code",
   "execution_count": 44,
   "id": "75eaf171",
   "metadata": {
    "ExecuteTime": {
     "end_time": "2023-01-04T13:50:18.348789Z",
     "start_time": "2023-01-04T13:50:18.334781Z"
    }
   },
   "outputs": [],
   "source": [
    "lst.append('NEW')"
   ]
  },
  {
   "cell_type": "code",
   "execution_count": 45,
   "id": "8274d4f1",
   "metadata": {
    "ExecuteTime": {
     "end_time": "2023-01-04T13:50:20.221313Z",
     "start_time": "2023-01-04T13:50:20.214312Z"
    }
   },
   "outputs": [
    {
     "data": {
      "text/plain": [
       "[2, 3, 4, 'NEW']"
      ]
     },
     "execution_count": 45,
     "metadata": {},
     "output_type": "execute_result"
    }
   ],
   "source": [
    "lst"
   ]
  },
  {
   "cell_type": "code",
   "execution_count": 46,
   "id": "da954572",
   "metadata": {
    "ExecuteTime": {
     "end_time": "2023-01-04T13:50:43.645773Z",
     "start_time": "2023-01-04T13:50:43.638771Z"
    }
   },
   "outputs": [
    {
     "data": {
      "text/plain": [
       "False"
      ]
     },
     "execution_count": 46,
     "metadata": {},
     "output_type": "execute_result"
    }
   ],
   "source": [
    "'x' in  [1,2,3]"
   ]
  },
  {
   "cell_type": "code",
   "execution_count": 48,
   "id": "7dad25ab",
   "metadata": {
    "ExecuteTime": {
     "end_time": "2023-01-04T13:51:17.630159Z",
     "start_time": "2023-01-04T13:51:17.617157Z"
    }
   },
   "outputs": [
    {
     "data": {
      "text/plain": [
       "True"
      ]
     },
     "execution_count": 48,
     "metadata": {},
     "output_type": "execute_result"
    }
   ],
   "source": [
    "'x' in ['x','y','z']"
   ]
  },
  {
   "cell_type": "code",
   "execution_count": 50,
   "id": "0d5ab0c1",
   "metadata": {
    "ExecuteTime": {
     "end_time": "2023-01-04T13:51:40.532790Z",
     "start_time": "2023-01-04T13:51:40.517819Z"
    }
   },
   "outputs": [
    {
     "data": {
      "text/plain": [
       "True"
      ]
     },
     "execution_count": 50,
     "metadata": {},
     "output_type": "execute_result"
    }
   ],
   "source": [
    "1 in [1,2,3]"
   ]
  },
  {
   "cell_type": "code",
   "execution_count": 51,
   "id": "eeee8813",
   "metadata": {
    "ExecuteTime": {
     "end_time": "2023-01-04T13:53:10.549467Z",
     "start_time": "2023-01-04T13:53:10.534467Z"
    }
   },
   "outputs": [],
   "source": [
    " x = [(1,2),(3,4),(5,6)]"
   ]
  },
  {
   "cell_type": "code",
   "execution_count": 52,
   "id": "05d36c22",
   "metadata": {
    "ExecuteTime": {
     "end_time": "2023-01-04T13:53:12.151547Z",
     "start_time": "2023-01-04T13:53:12.133547Z"
    }
   },
   "outputs": [
    {
     "data": {
      "text/plain": [
       "[(1, 2), (3, 4), (5, 6)]"
      ]
     },
     "execution_count": 52,
     "metadata": {},
     "output_type": "execute_result"
    }
   ],
   "source": [
    "x"
   ]
  },
  {
   "cell_type": "code",
   "execution_count": 53,
   "id": "75ad3aa4",
   "metadata": {
    "ExecuteTime": {
     "end_time": "2023-01-04T13:53:20.244752Z",
     "start_time": "2023-01-04T13:53:20.229752Z"
    }
   },
   "outputs": [
    {
     "data": {
      "text/plain": [
       "(1, 2)"
      ]
     },
     "execution_count": 53,
     "metadata": {},
     "output_type": "execute_result"
    }
   ],
   "source": [
    "x[0]"
   ]
  },
  {
   "cell_type": "code",
   "execution_count": 54,
   "id": "dc6b38c9",
   "metadata": {
    "ExecuteTime": {
     "end_time": "2023-01-04T13:53:30.496158Z",
     "start_time": "2023-01-04T13:53:30.477127Z"
    }
   },
   "outputs": [
    {
     "data": {
      "text/plain": [
       "2"
      ]
     },
     "execution_count": 54,
     "metadata": {},
     "output_type": "execute_result"
    }
   ],
   "source": [
    "x[0][1]"
   ]
  },
  {
   "cell_type": "code",
   "execution_count": 55,
   "id": "2355a189",
   "metadata": {
    "ExecuteTime": {
     "end_time": "2023-01-04T13:53:48.966298Z",
     "start_time": "2023-01-04T13:53:48.957303Z"
    }
   },
   "outputs": [],
   "source": [
    "# tuple and packing"
   ]
  },
  {
   "cell_type": "code",
   "execution_count": 56,
   "id": "96ad68bd",
   "metadata": {
    "ExecuteTime": {
     "end_time": "2023-01-04T13:54:14.426174Z",
     "start_time": "2023-01-04T13:54:14.414209Z"
    }
   },
   "outputs": [
    {
     "name": "stdout",
     "output_type": "stream",
     "text": [
      "(1, 2)\n",
      "(3, 4)\n",
      "(5, 6)\n"
     ]
    }
   ],
   "source": [
    "for item in x:\n",
    "    print(item)"
   ]
  },
  {
   "cell_type": "code",
   "execution_count": 57,
   "id": "c2e57560",
   "metadata": {
    "ExecuteTime": {
     "end_time": "2023-01-04T13:54:47.417994Z",
     "start_time": "2023-01-04T13:54:47.406992Z"
    }
   },
   "outputs": [
    {
     "name": "stdout",
     "output_type": "stream",
     "text": [
      "1\n",
      "3\n",
      "5\n"
     ]
    }
   ],
   "source": [
    "for (a,b) in x:\n",
    "    print(a)"
   ]
  },
  {
   "cell_type": "code",
   "execution_count": 60,
   "id": "bf366b5a",
   "metadata": {
    "ExecuteTime": {
     "end_time": "2023-01-04T13:55:47.403005Z",
     "start_time": "2023-01-04T13:55:47.398004Z"
    }
   },
   "outputs": [
    {
     "name": "stdout",
     "output_type": "stream",
     "text": [
      "2\n",
      "4\n",
      "6\n"
     ]
    }
   ],
   "source": [
    "for a,b in x: # parenthesis are optional\n",
    "    print(b)"
   ]
  },
  {
   "cell_type": "code",
   "execution_count": 61,
   "id": "97e1d6ff",
   "metadata": {
    "ExecuteTime": {
     "end_time": "2023-01-04T13:56:22.690011Z",
     "start_time": "2023-01-04T13:56:22.671012Z"
    }
   },
   "outputs": [
    {
     "name": "stdout",
     "output_type": "stream",
     "text": [
      "1\n",
      "2\n",
      "3\n",
      "4\n",
      "5\n",
      "6\n"
     ]
    }
   ],
   "source": [
    "for a,b in x: # parenthesis are optional\n",
    "    print(a)\n",
    "    print(b)"
   ]
  },
  {
   "cell_type": "code",
   "execution_count": null,
   "id": "1a78bbd7",
   "metadata": {},
   "outputs": [],
   "source": []
  }
 ],
 "metadata": {
  "kernelspec": {
   "display_name": "Python 3 (ipykernel)",
   "language": "python",
   "name": "python3"
  },
  "language_info": {
   "codemirror_mode": {
    "name": "ipython",
    "version": 3
   },
   "file_extension": ".py",
   "mimetype": "text/x-python",
   "name": "python",
   "nbconvert_exporter": "python",
   "pygments_lexer": "ipython3",
   "version": "3.9.15"
  },
  "toc": {
   "base_numbering": 1,
   "nav_menu": {},
   "number_sections": true,
   "sideBar": true,
   "skip_h1_title": false,
   "title_cell": "Table of Contents",
   "title_sidebar": "Contents",
   "toc_cell": false,
   "toc_position": {},
   "toc_section_display": true,
   "toc_window_display": false
  }
 },
 "nbformat": 4,
 "nbformat_minor": 5
}
