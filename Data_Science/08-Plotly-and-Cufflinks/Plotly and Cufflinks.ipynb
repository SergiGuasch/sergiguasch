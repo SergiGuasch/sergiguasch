{
 "cells": [
  {
   "cell_type": "code",
   "execution_count": 1,
   "id": "e94ddccf",
   "metadata": {
    "ExecuteTime": {
     "end_time": "2023-01-12T15:32:37.035577Z",
     "start_time": "2023-01-12T15:32:37.025385Z"
    }
   },
   "outputs": [],
   "source": [
    "#Cufflinks is the library that connects Plotly with Pandas"
   ]
  },
  {
   "cell_type": "code",
   "execution_count": 2,
   "id": "1196621f",
   "metadata": {
    "ExecuteTime": {
     "end_time": "2023-01-12T15:32:39.288564Z",
     "start_time": "2023-01-12T15:32:37.751428Z"
    }
   },
   "outputs": [],
   "source": [
    "#Error1:\n",
    "import chart_studio.plotly as py\n",
    "#Error2: colorscale='ylorbr'\n",
    "#Error3: projection={'type':'mercator'}"
   ]
  },
  {
   "cell_type": "code",
   "execution_count": 43,
   "id": "c465a520",
   "metadata": {
    "ExecuteTime": {
     "end_time": "2023-01-12T17:34:25.562160Z",
     "start_time": "2023-01-12T17:34:25.555156Z"
    }
   },
   "outputs": [],
   "source": [
    "import pandas as pd\n",
    "import numpy as np\n",
    "%matplotlib inline\n",
    "import warnings\n",
    "warnings.filterwarnings(\"ignore\")\n",
    "from plotly import __version__"
   ]
  },
  {
   "cell_type": "code",
   "execution_count": 5,
   "id": "a2fa4dca",
   "metadata": {
    "ExecuteTime": {
     "end_time": "2023-01-12T17:10:33.293022Z",
     "start_time": "2023-01-12T17:10:33.276920Z"
    }
   },
   "outputs": [
    {
     "name": "stdout",
     "output_type": "stream",
     "text": [
      "5.9.0\n"
     ]
    }
   ],
   "source": [
    "print(__version__)"
   ]
  },
  {
   "cell_type": "code",
   "execution_count": 6,
   "id": "446f4fea",
   "metadata": {
    "ExecuteTime": {
     "end_time": "2023-01-12T17:11:05.373136Z",
     "start_time": "2023-01-12T17:11:03.036120Z"
    }
   },
   "outputs": [],
   "source": [
    "import cufflinks as cf"
   ]
  },
  {
   "cell_type": "code",
   "execution_count": 7,
   "id": "854889ae",
   "metadata": {
    "ExecuteTime": {
     "end_time": "2023-01-12T17:11:40.070575Z",
     "start_time": "2023-01-12T17:11:40.053574Z"
    }
   },
   "outputs": [],
   "source": [
    "from plotly.offline import download_plotlyjs,init_notebook_mode,plot,iplot"
   ]
  },
  {
   "cell_type": "code",
   "execution_count": 8,
   "id": "47c9faa7",
   "metadata": {
    "ExecuteTime": {
     "end_time": "2023-01-12T17:11:56.043630Z",
     "start_time": "2023-01-12T17:11:55.892632Z"
    }
   },
   "outputs": [
    {
     "data": {
      "text/html": [
       "        <script type=\"text/javascript\">\n",
       "        window.PlotlyConfig = {MathJaxConfig: 'local'};\n",
       "        if (window.MathJax && window.MathJax.Hub && window.MathJax.Hub.Config) {window.MathJax.Hub.Config({SVG: {font: \"STIX-Web\"}});}\n",
       "        if (typeof require !== 'undefined') {\n",
       "        require.undef(\"plotly\");\n",
       "        requirejs.config({\n",
       "            paths: {\n",
       "                'plotly': ['https://cdn.plot.ly/plotly-2.12.1.min']\n",
       "            }\n",
       "        });\n",
       "        require(['plotly'], function(Plotly) {\n",
       "            window._Plotly = Plotly;\n",
       "        });\n",
       "        }\n",
       "        </script>\n",
       "        "
      ]
     },
     "metadata": {},
     "output_type": "display_data"
    }
   ],
   "source": [
    "init_notebook_mode(connected=True) #connect javascript to your jupyter notebook"
   ]
  },
  {
   "cell_type": "code",
   "execution_count": 9,
   "id": "6ac85bc7",
   "metadata": {
    "ExecuteTime": {
     "end_time": "2023-01-12T17:12:50.361232Z",
     "start_time": "2023-01-12T17:12:50.348232Z"
    }
   },
   "outputs": [
    {
     "data": {
      "text/html": [
       "        <script type=\"text/javascript\">\n",
       "        window.PlotlyConfig = {MathJaxConfig: 'local'};\n",
       "        if (window.MathJax && window.MathJax.Hub && window.MathJax.Hub.Config) {window.MathJax.Hub.Config({SVG: {font: \"STIX-Web\"}});}\n",
       "        if (typeof require !== 'undefined') {\n",
       "        require.undef(\"plotly\");\n",
       "        requirejs.config({\n",
       "            paths: {\n",
       "                'plotly': ['https://cdn.plot.ly/plotly-2.12.1.min']\n",
       "            }\n",
       "        });\n",
       "        require(['plotly'], function(Plotly) {\n",
       "            window._Plotly = Plotly;\n",
       "        });\n",
       "        }\n",
       "        </script>\n",
       "        "
      ]
     },
     "metadata": {},
     "output_type": "display_data"
    }
   ],
   "source": [
    "cf.go_offline() #allows cufflinks to use them offline"
   ]
  },
  {
   "cell_type": "markdown",
   "id": "75e71069",
   "metadata": {},
   "source": [
    "# DATA"
   ]
  },
  {
   "cell_type": "code",
   "execution_count": 12,
   "id": "83fb6c14",
   "metadata": {
    "ExecuteTime": {
     "end_time": "2023-01-12T17:14:06.625678Z",
     "start_time": "2023-01-12T17:14:06.603981Z"
    }
   },
   "outputs": [
    {
     "data": {
      "text/html": [
       "<div>\n",
       "<style scoped>\n",
       "    .dataframe tbody tr th:only-of-type {\n",
       "        vertical-align: middle;\n",
       "    }\n",
       "\n",
       "    .dataframe tbody tr th {\n",
       "        vertical-align: top;\n",
       "    }\n",
       "\n",
       "    .dataframe thead th {\n",
       "        text-align: right;\n",
       "    }\n",
       "</style>\n",
       "<table border=\"1\" class=\"dataframe\">\n",
       "  <thead>\n",
       "    <tr style=\"text-align: right;\">\n",
       "      <th></th>\n",
       "      <th>A</th>\n",
       "      <th>B</th>\n",
       "      <th>C</th>\n",
       "      <th>D</th>\n",
       "    </tr>\n",
       "  </thead>\n",
       "  <tbody>\n",
       "    <tr>\n",
       "      <th>0</th>\n",
       "      <td>0.375970</td>\n",
       "      <td>0.985071</td>\n",
       "      <td>1.362439</td>\n",
       "      <td>0.450813</td>\n",
       "    </tr>\n",
       "    <tr>\n",
       "      <th>1</th>\n",
       "      <td>-0.904850</td>\n",
       "      <td>0.989502</td>\n",
       "      <td>-0.094463</td>\n",
       "      <td>0.042154</td>\n",
       "    </tr>\n",
       "    <tr>\n",
       "      <th>2</th>\n",
       "      <td>0.857957</td>\n",
       "      <td>0.335222</td>\n",
       "      <td>0.120537</td>\n",
       "      <td>-1.051870</td>\n",
       "    </tr>\n",
       "    <tr>\n",
       "      <th>3</th>\n",
       "      <td>0.540082</td>\n",
       "      <td>0.382636</td>\n",
       "      <td>1.181725</td>\n",
       "      <td>0.350027</td>\n",
       "    </tr>\n",
       "    <tr>\n",
       "      <th>4</th>\n",
       "      <td>-1.307726</td>\n",
       "      <td>0.374579</td>\n",
       "      <td>0.647580</td>\n",
       "      <td>0.205803</td>\n",
       "    </tr>\n",
       "  </tbody>\n",
       "</table>\n",
       "</div>"
      ],
      "text/plain": [
       "          A         B         C         D\n",
       "0  0.375970  0.985071  1.362439  0.450813\n",
       "1 -0.904850  0.989502 -0.094463  0.042154\n",
       "2  0.857957  0.335222  0.120537 -1.051870\n",
       "3  0.540082  0.382636  1.181725  0.350027\n",
       "4 -1.307726  0.374579  0.647580  0.205803"
      ]
     },
     "execution_count": 12,
     "metadata": {},
     "output_type": "execute_result"
    }
   ],
   "source": [
    "df= pd.DataFrame(np.random.randn(100,4), columns='A B C D'.split())\n",
    "df.head()"
   ]
  },
  {
   "cell_type": "code",
   "execution_count": 25,
   "id": "162c2eba",
   "metadata": {
    "ExecuteTime": {
     "end_time": "2023-01-12T17:24:19.929736Z",
     "start_time": "2023-01-12T17:24:19.907733Z"
    }
   },
   "outputs": [
    {
     "data": {
      "text/html": [
       "<div>\n",
       "<style scoped>\n",
       "    .dataframe tbody tr th:only-of-type {\n",
       "        vertical-align: middle;\n",
       "    }\n",
       "\n",
       "    .dataframe tbody tr th {\n",
       "        vertical-align: top;\n",
       "    }\n",
       "\n",
       "    .dataframe thead th {\n",
       "        text-align: right;\n",
       "    }\n",
       "</style>\n",
       "<table border=\"1\" class=\"dataframe\">\n",
       "  <thead>\n",
       "    <tr style=\"text-align: right;\">\n",
       "      <th></th>\n",
       "      <th>Category</th>\n",
       "      <th>Values</th>\n",
       "    </tr>\n",
       "  </thead>\n",
       "  <tbody>\n",
       "    <tr>\n",
       "      <th>0</th>\n",
       "      <td>A</td>\n",
       "      <td>32</td>\n",
       "    </tr>\n",
       "    <tr>\n",
       "      <th>1</th>\n",
       "      <td>B</td>\n",
       "      <td>43</td>\n",
       "    </tr>\n",
       "    <tr>\n",
       "      <th>2</th>\n",
       "      <td>C</td>\n",
       "      <td>50</td>\n",
       "    </tr>\n",
       "  </tbody>\n",
       "</table>\n",
       "</div>"
      ],
      "text/plain": [
       "  Category  Values\n",
       "0        A      32\n",
       "1        B      43\n",
       "2        C      50"
      ]
     },
     "execution_count": 25,
     "metadata": {},
     "output_type": "execute_result"
    }
   ],
   "source": [
    "df2 = pd.DataFrame({'Category':['A','B','C'],'Values':[32,43,50]})\n",
    "df2"
   ]
  },
  {
   "cell_type": "code",
   "execution_count": 16,
   "id": "c2e38bb0",
   "metadata": {
    "ExecuteTime": {
     "end_time": "2023-01-12T17:16:22.405554Z",
     "start_time": "2023-01-12T17:16:22.228089Z"
    }
   },
   "outputs": [
    {
     "data": {
      "text/plain": [
       "<AxesSubplot: >"
      ]
     },
     "execution_count": 16,
     "metadata": {},
     "output_type": "execute_result"
    },
    {
     "data": {
      "image/png": "[encoded data removed]",
      "text/plain": [
       "<Figure size 640x480 with 1 Axes>"
      ]
     },
     "metadata": {},
     "output_type": "display_data"
    }
   ],
   "source": [
    "df.plot()"
   ]
  },
  {
   "cell_type": "code",
   "execution_count": 17,
   "id": "99546993",
   "metadata": {
    "ExecuteTime": {
     "end_time": "2023-01-12T17:16:45.410926Z",
     "start_time": "2023-01-12T17:16:44.342290Z"
    }
   },
   "outputs": [
    {
     "data": {
      "application/vnd.plotly.v1+json": {
       "config": {
        "linkText": "Export to plot.ly",
        "plotlyServerURL": "https://plot.ly",
        "showLink": true
       },
       "data": [
        {
         "line": {
          "color": "rgba(255, 153, 51, 1.0)",
          "dash": "solid",
          "shape": "linear",
          "width": 1.3
         },
         "mode": "lines",
         "name": "A",
         "text": "",
         "type": "scatter",
         "x": [
          0,
          1,
          2,
          3,
          4,
          5,
          6,
          7,
          8,
          9,
          10,
          11,
          12,
          13,
          14,
          15,
          16,
          17,
          18,
          19,
          20,
          21,
          22,
          23,
          24,
          25,
          26,
          27,
          28,
          29,
          30,
          31,
          32,
          33,
          34,
          35,
          36,
          37,
          38,
          39,
          40,
          41,
          42,
          43,
          44,
          45,
          46,
          47,
          48,
          49,
          50,
          51,
          52,
          53,
          54,
          55,
          56,
          57,
          58,
          59,
          60,
          61,
          62,
          63,
          64,
          65,
          66,
          67,
          68,
          69,
          70,
          71,
          72,
          73,
          74,
          75,
          76,
          77,
          78,
          79,
          80,
          81,
          82,
          83,
          84,
          85,
          86,
          87,
          88,
          89,
          90,
          91,
          92,
          93,
          94,
          95,
          96,
          97,
          98,
          99
         ],
         "y": [
          0.37597005318765364,
          -0.9048495718966237,
          0.8579565711447589,
          0.5400822133171609,
          -1.3077258733358614,
          -0.5342628034790948,
          -0.4453140991222401,
          1.9149519217568853,
          -0.4298784428599787,
          -1.7408278622364468,
          0.08984730403796322,
          -0.7220639924502646,
          -0.661782077365756,
          -1.9313280548361829,
          1.0995235869258424,
          -2.2416909234475497,
          1.6556238846323768,
          0.4881773567676999,
          -0.24661995472311352,
          -1.0888515437052844,
          -0.3800838112965957,
          1.076085654409655,
          -1.6593557461777635,
          0.21297961644533725,
          -1.5805191546265278,
          -1.618813240069065,
          0.04667537628522792,
          -0.3292224638769374,
          -1.1251094929123244,
          0.4090802971009559,
          -1.3057982878541903,
          0.4551469096035381,
          -0.06954108892814388,
          1.2405533050281512,
          -1.2173275922137747,
          1.65140906115177,
          -0.049881944271718826,
          0.38147990711103064,
          -1.0977982075374673,
          -0.8695743896417516,
          -1.1401255024732972,
          -0.1858666165578455,
          0.49689378953900226,
          -1.7204814086558124,
          1.3439359237959083,
          0.4609679198043368,
          0.8667683379824784,
          0.532690330525514,
          0.95150358077794,
          1.250685572340651,
          -0.26943495020421604,
          0.09722637026800443,
          0.4088197644876183,
          0.39448931245833757,
          1.524689421116744,
          0.6826810268566323,
          -1.6830237912206034,
          0.6318572757177054,
          0.2712253471184101,
          0.5970364658727937,
          0.7659094762271283,
          0.1096216186670033,
          -0.9596009180692899,
          -0.27623561082193904,
          -0.2579137767261097,
          -1.5159322047196007,
          0.26460532519337004,
          -0.7291898945221118,
          0.41642299592662535,
          0.6316260731687413,
          0.26153263868151694,
          -1.0468931473485552,
          1.908267957100243,
          1.0344822555487396,
          -1.5724801942537763,
          0.3569898615943052,
          -0.5466895707445805,
          2.0376888472931776,
          0.3144215127715293,
          0.5138467978812578,
          1.819754268505688,
          0.36849994498834077,
          -0.15873092607185396,
          -1.0049529009052667,
          0.09150725192149144,
          0.5764277982327448,
          -1.4916678031268555,
          0.6889429161353486,
          -1.5340180898299038,
          -0.5535547871389617,
          0.8371221944612994,
          1.511812318129234,
          0.4504704904485682,
          0.8099235277959423,
          -0.7489858817084645,
          0.9502448003142555,
          0.5875531667765086,
          1.575218737798039,
          0.6355889890230145,
          -0.8433765111948266
         ]
        },
        {
         "line": {
          "color": "rgba(55, 128, 191, 1.0)",
          "dash": "solid",
          "shape": "linear",
          "width": 1.3
         },
         "mode": "lines",
         "name": "B",
         "text": "",
         "type": "scatter",
         "x": [
          0,
          1,
          2,
          3,
          4,
          5,
          6,
          7,
          8,
          9,
          10,
          11,
          12,
          13,
          14,
          15,
          16,
          17,
          18,
          19,
          20,
          21,
          22,
          23,
          24,
          25,
          26,
          27,
          28,
          29,
          30,
          31,
          32,
          33,
          34,
          35,
          36,
          37,
          38,
          39,
          40,
          41,
          42,
          43,
          44,
          45,
          46,
          47,
          48,
          49,
          50,
          51,
          52,
          53,
          54,
          55,
          56,
          57,
          58,
          59,
          60,
          61,
          62,
          63,
          64,
          65,
          66,
          67,
          68,
          69,
          70,
          71,
          72,
          73,
          74,
          75,
          76,
          77,
          78,
          79,
          80,
          81,
          82,
          83,
          84,
          85,
          86,
          87,
          88,
          89,
          90,
          91,
          92,
          93,
          94,
          95,
          96,
          97,
          98,
          99
         ],
         "y": [
          0.9850713887904406,
          0.9895016294470834,
          0.33522187833194084,
          0.38263555967156293,
          0.3745792917333505,
          -1.429798678593703,
          1.1824612431217312,
          0.626488597539041,
          0.14349191696675895,
          -0.14814614007520954,
          -0.011611341174777376,
          2.12010533548965,
          -0.8772273524296763,
          0.6081160835617304,
          0.16137092972869155,
          -1.0714094098077365,
          -0.24641963527506083,
          -0.06582086200559119,
          -1.0060510964237628,
          -0.10337648868594303,
          -0.37416372381453705,
          0.9355670189990279,
          0.6210186517918276,
          -0.382253315672212,
          1.1502055049032665,
          0.11081971219168177,
          -0.9485281386209676,
          0.3163862184000106,
          -0.3640965591259851,
          0.18310189183405573,
          2.2399820434026694,
          0.639087710690256,
          -0.1398487891852959,
          -0.3925511584810141,
          1.3296265283651694,
          -0.11776415174203159,
          -0.4744386630352112,
          -0.4588922483652321,
          0.7842901351701419,
          -0.7900798468461651,
          -0.3144100924184365,
          0.06904462737971202,
          -0.08165840561428707,
          0.5937850226834473,
          1.6943248142423644,
          -1.4730818763638593,
          1.9149121426011169,
          -0.6981210172827813,
          1.0620220071337512,
          0.3270240144233015,
          0.9983963737189102,
          -1.5820504018948132,
          1.5576377626695666,
          0.6818302184258955,
          0.9581576498185576,
          0.7734938363828401,
          -1.2645145864507532,
          -0.6557307087352567,
          -0.08794658491303368,
          -0.2078210220450748,
          -0.7092534417802636,
          -0.4381431192271822,
          -0.29781816966271807,
          -1.9836917976954034,
          1.7777877374165716,
          0.3218961402254565,
          -2.077586101344516,
          -1.2073343169448907,
          1.7441615296849142,
          0.3048809157280745,
          -0.4907508335554843,
          0.8770109049237509,
          1.4245387717453464,
          1.0661665279074823,
          -0.6339901914933027,
          0.6802602704574408,
          -0.7168654439364791,
          -0.5578302948819142,
          -1.1185457726425359,
          -0.6121908887398874,
          -0.3779897877929932,
          1.4777200034997569,
          -0.19292716976175264,
          0.3574539014170091,
          -0.18544526745879408,
          -1.1466728464685323,
          0.5323503559652332,
          1.099398587877932,
          -2.3408632006156953,
          0.2961022336838603,
          0.34912709976479883,
          0.4803125361409515,
          -0.9275043314294719,
          1.810404002204835,
          -0.8997615818329986,
          -0.8882118828210713,
          0.07222842748511556,
          0.8997473673949757,
          0.12376395341787741,
          -2.1040059015548027
         ]
        },
        {
         "line": {
          "color": "rgba(50, 171, 96, 1.0)",
          "dash": "solid",
          "shape": "linear",
          "width": 1.3
         },
         "mode": "lines",
         "name": "C",
         "text": "",
         "type": "scatter",
         "x": [
          0,
          1,
          2,
          3,
          4,
          5,
          6,
          7,
          8,
          9,
          10,
          11,
          12,
          13,
          14,
          15,
          16,
          17,
          18,
          19,
          20,
          21,
          22,
          23,
          24,
          25,
          26,
          27,
          28,
          29,
          30,
          31,
          32,
          33,
          34,
          35,
          36,
          37,
          38,
          39,
          40,
          41,
          42,
          43,
          44,
          45,
          46,
          47,
          48,
          49,
          50,
          51,
          52,
          53,
          54,
          55,
          56,
          57,
          58,
          59,
          60,
          61,
          62,
          63,
          64,
          65,
          66,
          67,
          68,
          69,
          70,
          71,
          72,
          73,
          74,
          75,
          76,
          77,
          78,
          79,
          80,
          81,
          82,
          83,
          84,
          85,
          86,
          87,
          88,
          89,
          90,
          91,
          92,
          93,
          94,
          95,
          96,
          97,
          98,
          99
         ],
         "y": [
          1.3624391131495084,
          -0.09446315603746394,
          0.12053743295789382,
          1.1817252377826062,
          0.6475800142644463,
          0.8365164130551516,
          -0.4078180117652873,
          -1.1958213597542948,
          0.40486279121570723,
          0.30592864416212057,
          0.19107544463621579,
          0.693625983370063,
          -0.4795213929104659,
          -1.0445591306189137,
          1.5408861746461362,
          -1.3208667950772104,
          0.6094364132193509,
          -0.04085162955660802,
          -1.1955049542950045,
          -1.2909839067238678,
          -0.18996601563309218,
          -0.3027149219694637,
          -1.5439791351118015,
          0.15460830804329959,
          0.658379885150995,
          0.5165004387560271,
          0.24957975250950862,
          0.0374615654790334,
          -0.5011376297220035,
          -0.6980267142027701,
          1.003819045674507,
          0.5585194029409475,
          -0.6530654144953657,
          1.2989071642014614,
          1.2646838735261166,
          0.5232949932517565,
          -0.6708949079502614,
          -0.927915205881154,
          0.8588928727833726,
          -0.5510976265140255,
          -1.0544854398765824,
          0.38249192826086326,
          -0.265182820267451,
          -1.2334846966610336,
          0.8966353913944343,
          1.1855664845671843,
          2.102330612375204,
          0.8819175112781902,
          0.9484031417715634,
          -1.2951255668253117,
          0.5032418726519972,
          0.3869633350184438,
          2.0393910745438646,
          -0.9133046872020412,
          -1.7446801263689433,
          -0.2368714660544164,
          0.11501744149322286,
          0.9606814835850809,
          -1.0283016300674763,
          -0.20628502526959266,
          1.549434241388962,
          0.7699467943680909,
          1.1577045284955838,
          -0.34241868984657486,
          -0.21732911323454163,
          -0.7639606514748805,
          -0.6982225764961281,
          0.09808374584084899,
          0.07220517620201307,
          0.28388278140747314,
          2.048594502372427,
          -1.8338997526400318,
          1.1579823376966734,
          0.09248369553907014,
          -0.9536254360521329,
          -0.07992099885216111,
          -1.339150308345133,
          -4.248316610590325,
          0.877309688073591,
          1.0774032735018733,
          -1.660165966097154,
          -0.3296052293735431,
          0.7444300470693337,
          -0.28835240383946076,
          1.3209428618408567,
          -1.7226785064983972,
          -1.4546956979417622,
          -1.3569076990715874,
          -0.4591211120108361,
          0.6957975501809467,
          0.18663813416373395,
          0.684558745731199,
          -0.8003535785394227,
          1.4626502325103097,
          0.27341601084813794,
          -1.5470354465064384,
          1.1031551691903023,
          -0.12376385833508523,
          -0.8445403928519083,
          -1.1997622783239204
         ]
        },
        {
         "line": {
          "color": "rgba(128, 0, 128, 1.0)",
          "dash": "solid",
          "shape": "linear",
          "width": 1.3
         },
         "mode": "lines",
         "name": "D",
         "text": "",
         "type": "scatter",
         "x": [
          0,
          1,
          2,
          3,
          4,
          5,
          6,
          7,
          8,
          9,
          10,
          11,
          12,
          13,
          14,
          15,
          16,
          17,
          18,
          19,
          20,
          21,
          22,
          23,
          24,
          25,
          26,
          27,
          28,
          29,
          30,
          31,
          32,
          33,
          34,
          35,
          36,
          37,
          38,
          39,
          40,
          41,
          42,
          43,
          44,
          45,
          46,
          47,
          48,
          49,
          50,
          51,
          52,
          53,
          54,
          55,
          56,
          57,
          58,
          59,
          60,
          61,
          62,
          63,
          64,
          65,
          66,
          67,
          68,
          69,
          70,
          71,
          72,
          73,
          74,
          75,
          76,
          77,
          78,
          79,
          80,
          81,
          82,
          83,
          84,
          85,
          86,
          87,
          88,
          89,
          90,
          91,
          92,
          93,
          94,
          95,
          96,
          97,
          98,
          99
         ],
         "y": [
          0.4508128924895635,
          0.04215376366990217,
          -1.0518703849568212,
          0.3500266469736823,
          0.20580261077350961,
          1.754896843152072,
          2.6429833117351147,
          -0.8642797610580246,
          -0.41582297549411373,
          -2.042660108926624,
          2.433411389040133,
          0.04535365358034176,
          -0.029792164141180695,
          0.09932599146605318,
          -0.36469484458203194,
          -0.014842401964342685,
          0.7162484120775321,
          -0.21961157381040466,
          -0.1993741741945207,
          0.23618296330368907,
          -1.0988480324183805,
          -1.1914519954196043,
          1.626157398674772,
          0.6014805018574845,
          -0.28299033172737736,
          0.20369756450508605,
          -1.3892156923525512,
          -4.194659972602769,
          -0.2576579263997152,
          0.18060191245340587,
          1.007979796275341,
          2.8548811976149677,
          -1.2989409444905182,
          1.7539133867387662,
          0.6355116643849393,
          -0.8877889204443272,
          0.2632211548259389,
          -2.1995470109944844,
          0.10508899178899203,
          0.023440149037699982,
          -0.7425340360296323,
          0.5135110343053352,
          1.0469222376987855,
          0.334179083908498,
          -0.6732049555684151,
          1.920255314155447,
          0.31474455194034795,
          -1.2532405006469192,
          -0.1782867341660852,
          -0.2612236675518501,
          0.08529428865256748,
          0.8859081746666121,
          -1.0395821361778677,
          -1.1188438311720794,
          1.5062784783110792,
          0.5645111723215555,
          1.5574015777784491,
          0.9343818985603018,
          1.2748663294021338,
          0.19879888180871147,
          -0.5414272117544923,
          0.39304960399247185,
          -0.9247493404146402,
          0.42558068308709135,
          -0.24056252548192844,
          -0.019922997486305462,
          -0.6719566946713905,
          -0.27653060364317744,
          0.8027553461951863,
          0.27219153335231094,
          -0.5813309657966865,
          0.5436017784492733,
          0.37242807990780813,
          -1.0329950228586733,
          -1.395061469594945,
          -0.11127250730929014,
          1.455724989900488,
          -1.7520381668036558,
          -0.7413967616142342,
          0.8162950883053584,
          -0.38201837863016125,
          -0.4575423670048262,
          -0.4643247842979483,
          -0.20121589003332105,
          -0.49942386266143535,
          -0.5379565189422676,
          -1.5637105321302363,
          0.4845066972715467,
          -1.4458852188723432,
          -0.17788830278383255,
          0.6521404141377812,
          0.1210782204443573,
          0.5994269475041096,
          -0.48866354384002325,
          -1.8744915866299037,
          -0.4459372624232242,
          -0.24734394526561712,
          0.6108673765982904,
          -0.6112625793654177,
          -1.5686529059756902
         ]
        }
       ],
       "layout": {
        "legend": {
         "bgcolor": "#F5F6F9",
         "font": {
          "color": "#4D5663"
         }
        },
        "paper_bgcolor": "#F5F6F9",
        "plot_bgcolor": "#F5F6F9",
        "template": {
         "data": {
          "bar": [
           {
            "error_x": {
             "color": "#2a3f5f"
            },
            "error_y": {
             "color": "#2a3f5f"
            },
            "marker": {
             "line": {
              "color": "#E5ECF6",
              "width": 0.5
             },
             "pattern": {
              "fillmode": "overlay",
              "size": 10,
              "solidity": 0.2
             }
            },
            "type": "bar"
           }
          ],
          "barpolar": [
           {
            "marker": {
             "line": {
              "color": "#E5ECF6",
              "width": 0.5
             },
             "pattern": {
              "fillmode": "overlay",
              "size": 10,
              "solidity": 0.2
             }
            },
            "type": "barpolar"
           }
          ],
          "carpet": [
           {
            "aaxis": {
             "endlinecolor": "#2a3f5f",
             "gridcolor": "white",
             "linecolor": "white",
             "minorgridcolor": "white",
             "startlinecolor": "#2a3f5f"
            },
            "baxis": {
             "endlinecolor": "#2a3f5f",
             "gridcolor": "white",
             "linecolor": "white",
             "minorgridcolor": "white",
             "startlinecolor": "#2a3f5f"
            },
            "type": "carpet"
           }
          ],
          "choropleth": [
           {
            "colorbar": {
             "outlinewidth": 0,
             "ticks": ""
            },
            "type": "choropleth"
           }
          ],
          "contour": [
           {
            "colorbar": {
             "outlinewidth": 0,
             "ticks": ""
            },
            "colorscale": [
             [
              0,
              "#0d0887"
             ],
             [
              0.1111111111111111,
              "#46039f"
             ],
             [
              0.2222222222222222,
              "#7201a8"
             ],
             [
              0.3333333333333333,
              "#9c179e"
             ],
             [
              0.4444444444444444,
              "#bd3786"
             ],
             [
              0.5555555555555556,
              "#d8576b"
             ],
             [
              0.6666666666666666,
              "#ed7953"
             ],
             [
              0.7777777777777778,
              "#fb9f3a"
             ],
             [
              0.8888888888888888,
              "#fdca26"
             ],
             [
              1,
              "#f0f921"
             ]
            ],
            "type": "contour"
           }
          ],
          "contourcarpet": [
           {
            "colorbar": {
             "outlinewidth": 0,
             "ticks": ""
            },
            "type": "contourcarpet"
           }
          ],
          "heatmap": [
           {
            "colorbar": {
             "outlinewidth": 0,
             "ticks": ""
            },
            "colorscale": [
             [
              0,
              "#0d0887"
             ],
             [
              0.1111111111111111,
              "#46039f"
             ],
             [
              0.2222222222222222,
              "#7201a8"
             ],
             [
              0.3333333333333333,
              "#9c179e"
             ],
             [
              0.4444444444444444,
              "#bd3786"
             ],
             [
              0.5555555555555556,
              "#d8576b"
             ],
             [
              0.6666666666666666,
              "#ed7953"
             ],
             [
              0.7777777777777778,
              "#fb9f3a"
             ],
             [
              0.8888888888888888,
              "#fdca26"
             ],
             [
              1,
              "#f0f921"
             ]
            ],
            "type": "heatmap"
           }
          ],
          "heatmapgl": [
           {
            "colorbar": {
             "outlinewidth": 0,
             "ticks": ""
            },
            "colorscale": [
             [
              0,
              "#0d0887"
             ],
             [
              0.1111111111111111,
              "#46039f"
             ],
             [
              0.2222222222222222,
              "#7201a8"
             ],
             [
              0.3333333333333333,
              "#9c179e"
             ],
             [
              0.4444444444444444,
              "#bd3786"
             ],
             [
              0.5555555555555556,
              "#d8576b"
             ],
             [
              0.6666666666666666,
              "#ed7953"
             ],
             [
              0.7777777777777778,
              "#fb9f3a"
             ],
             [
              0.8888888888888888,
              "#fdca26"
             ],
             [
              1,
              "#f0f921"
             ]
            ],
            "type": "heatmapgl"
           }
          ],
          "histogram": [
           {
            "marker": {
             "pattern": {
              "fillmode": "overlay",
              "size": 10,
              "solidity": 0.2
             }
            },
            "type": "histogram"
           }
          ],
          "histogram2d": [
           {
            "colorbar": {
             "outlinewidth": 0,
             "ticks": ""
            },
            "colorscale": [
             [
              0,
              "#0d0887"
             ],
             [
              0.1111111111111111,
              "#46039f"
             ],
             [
              0.2222222222222222,
              "#7201a8"
             ],
             [
              0.3333333333333333,
              "#9c179e"
             ],
             [
              0.4444444444444444,
              "#bd3786"
             ],
             [
              0.5555555555555556,
              "#d8576b"
             ],
             [
              0.6666666666666666,
              "#ed7953"
             ],
             [
              0.7777777777777778,
              "#fb9f3a"
             ],
             [
              0.8888888888888888,
              "#fdca26"
             ],
             [
              1,
              "#f0f921"
             ]
            ],
            "type": "histogram2d"
           }
          ],
          "histogram2dcontour": [
           {
            "colorbar": {
             "outlinewidth": 0,
             "ticks": ""
            },
            "colorscale": [
             [
              0,
              "#0d0887"
             ],
             [
              0.1111111111111111,
              "#46039f"
             ],
             [
              0.2222222222222222,
              "#7201a8"
             ],
             [
              0.3333333333333333,
              "#9c179e"
             ],
             [
              0.4444444444444444,
              "#bd3786"
             ],
             [
              0.5555555555555556,
              "#d8576b"
             ],
             [
              0.6666666666666666,
              "#ed7953"
             ],
             [
              0.7777777777777778,
              "#fb9f3a"
             ],
             [
              0.8888888888888888,
              "#fdca26"
             ],
             [
              1,
              "#f0f921"
             ]
            ],
            "type": "histogram2dcontour"
           }
          ],
          "mesh3d": [
           {
            "colorbar": {
             "outlinewidth": 0,
             "ticks": ""
            },
            "type": "mesh3d"
           }
          ],
          "parcoords": [
           {
            "line": {
             "colorbar": {
              "outlinewidth": 0,
              "ticks": ""
             }
            },
            "type": "parcoords"
           }
          ],
          "pie": [
           {
            "automargin": true,
            "type": "pie"
           }
          ],
          "scatter": [
           {
            "fillpattern": {
             "fillmode": "overlay",
             "size": 10,
             "solidity": 0.2
            },
            "type": "scatter"
           }
          ],
          "scatter3d": [
           {
            "line": {
             "colorbar": {
              "outlinewidth": 0,
              "ticks": ""
             }
            },
            "marker": {
             "colorbar": {
              "outlinewidth": 0,
              "ticks": ""
             }
            },
            "type": "scatter3d"
           }
          ],
          "scattercarpet": [
           {
            "marker": {
             "colorbar": {
              "outlinewidth": 0,
              "ticks": ""
             }
            },
            "type": "scattercarpet"
           }
          ],
          "scattergeo": [
           {
            "marker": {
             "colorbar": {
              "outlinewidth": 0,
              "ticks": ""
             }
            },
            "type": "scattergeo"
           }
          ],
          "scattergl": [
           {
            "marker": {
             "colorbar": {
              "outlinewidth": 0,
              "ticks": ""
             }
            },
            "type": "scattergl"
           }
          ],
          "scattermapbox": [
           {
            "marker": {
             "colorbar": {
              "outlinewidth": 0,
              "ticks": ""
             }
            },
            "type": "scattermapbox"
           }
          ],
          "scatterpolar": [
           {
            "marker": {
             "colorbar": {
              "outlinewidth": 0,
              "ticks": ""
             }
            },
            "type": "scatterpolar"
           }
          ],
          "scatterpolargl": [
           {
            "marker": {
             "colorbar": {
              "outlinewidth": 0,
              "ticks": ""
             }
            },
            "type": "scatterpolargl"
           }
          ],
          "scatterternary": [
           {
            "marker": {
             "colorbar": {
              "outlinewidth": 0,
              "ticks": ""
             }
            },
            "type": "scatterternary"
           }
          ],
          "surface": [
           {
            "colorbar": {
             "outlinewidth": 0,
             "ticks": ""
            },
            "colorscale": [
             [
              0,
              "#0d0887"
             ],
             [
              0.1111111111111111,
              "#46039f"
             ],
             [
              0.2222222222222222,
              "#7201a8"
             ],
             [
              0.3333333333333333,
              "#9c179e"
             ],
             [
              0.4444444444444444,
              "#bd3786"
             ],
             [
              0.5555555555555556,
              "#d8576b"
             ],
             [
              0.6666666666666666,
              "#ed7953"
             ],
             [
              0.7777777777777778,
              "#fb9f3a"
             ],
             [
              0.8888888888888888,
              "#fdca26"
             ],
             [
              1,
              "#f0f921"
             ]
            ],
            "type": "surface"
           }
          ],
          "table": [
           {
            "cells": {
             "fill": {
              "color": "#EBF0F8"
             },
             "line": {
              "color": "white"
             }
            },
            "header": {
             "fill": {
              "color": "#C8D4E3"
             },
             "line": {
              "color": "white"
             }
            },
            "type": "table"
           }
          ]
         },
         "layout": {
          "annotationdefaults": {
           "arrowcolor": "#2a3f5f",
           "arrowhead": 0,
           "arrowwidth": 1
          },
          "autotypenumbers": "strict",
          "coloraxis": {
           "colorbar": {
            "outlinewidth": 0,
            "ticks": ""
           }
          },
          "colorscale": {
           "diverging": [
            [
             0,
             "#8e0152"
            ],
            [
             0.1,
             "#c51b7d"
            ],
            [
             0.2,
             "#de77ae"
            ],
            [
             0.3,
             "#f1b6da"
            ],
            [
             0.4,
             "#fde0ef"
            ],
            [
             0.5,
             "#f7f7f7"
            ],
            [
             0.6,
             "#e6f5d0"
            ],
            [
             0.7,
             "#b8e186"
            ],
            [
             0.8,
             "#7fbc41"
            ],
            [
             0.9,
             "#4d9221"
            ],
            [
             1,
             "#276419"
            ]
           ],
           "sequential": [
            [
             0,
             "#0d0887"
            ],
            [
             0.1111111111111111,
             "#46039f"
            ],
            [
             0.2222222222222222,
             "#7201a8"
            ],
            [
             0.3333333333333333,
             "#9c179e"
            ],
            [
             0.4444444444444444,
             "#bd3786"
            ],
            [
             0.5555555555555556,
             "#d8576b"
            ],
            [
             0.6666666666666666,
             "#ed7953"
            ],
            [
             0.7777777777777778,
             "#fb9f3a"
            ],
            [
             0.8888888888888888,
             "#fdca26"
            ],
            [
             1,
             "#f0f921"
            ]
           ],
           "sequentialminus": [
            [
             0,
             "#0d0887"
            ],
            [
             0.1111111111111111,
             "#46039f"
            ],
            [
             0.2222222222222222,
             "#7201a8"
            ],
            [
             0.3333333333333333,
             "#9c179e"
            ],
            [
             0.4444444444444444,
             "#bd3786"
            ],
            [
             0.5555555555555556,
             "#d8576b"
            ],
            [
             0.6666666666666666,
             "#ed7953"
            ],
            [
             0.7777777777777778,
             "#fb9f3a"
            ],
            [
             0.8888888888888888,
             "#fdca26"
            ],
            [
             1,
             "#f0f921"
            ]
           ]
          },
          "colorway": [
           "#636efa",
           "#EF553B",
           "#00cc96",
           "#ab63fa",
           "#FFA15A",
           "#19d3f3",
           "#FF6692",
           "#B6E880",
           "#FF97FF",
           "#FECB52"
          ],
          "font": {
           "color": "#2a3f5f"
          },
          "geo": {
           "bgcolor": "white",
           "lakecolor": "white",
           "landcolor": "#E5ECF6",
           "showlakes": true,
           "showland": true,
           "subunitcolor": "white"
          },
          "hoverlabel": {
           "align": "left"
          },
          "hovermode": "closest",
          "mapbox": {
           "style": "light"
          },
          "paper_bgcolor": "white",
          "plot_bgcolor": "#E5ECF6",
          "polar": {
           "angularaxis": {
            "gridcolor": "white",
            "linecolor": "white",
            "ticks": ""
           },
           "bgcolor": "#E5ECF6",
           "radialaxis": {
            "gridcolor": "white",
            "linecolor": "white",
            "ticks": ""
           }
          },
          "scene": {
           "xaxis": {
            "backgroundcolor": "#E5ECF6",
            "gridcolor": "white",
            "gridwidth": 2,
            "linecolor": "white",
            "showbackground": true,
            "ticks": "",
            "zerolinecolor": "white"
           },
           "yaxis": {
            "backgroundcolor": "#E5ECF6",
            "gridcolor": "white",
            "gridwidth": 2,
            "linecolor": "white",
            "showbackground": true,
            "ticks": "",
            "zerolinecolor": "white"
           },
           "zaxis": {
            "backgroundcolor": "#E5ECF6",
            "gridcolor": "white",
            "gridwidth": 2,
            "linecolor": "white",
            "showbackground": true,
            "ticks": "",
            "zerolinecolor": "white"
           }
          },
          "shapedefaults": {
           "line": {
            "color": "#2a3f5f"
           }
          },
          "ternary": {
           "aaxis": {
            "gridcolor": "white",
            "linecolor": "white",
            "ticks": ""
           },
           "baxis": {
            "gridcolor": "white",
            "linecolor": "white",
            "ticks": ""
           },
           "bgcolor": "#E5ECF6",
           "caxis": {
            "gridcolor": "white",
            "linecolor": "white",
            "ticks": ""
           }
          },
          "title": {
           "x": 0.05
          },
          "xaxis": {
           "automargin": true,
           "gridcolor": "white",
           "linecolor": "white",
           "ticks": "",
           "title": {
            "standoff": 15
           },
           "zerolinecolor": "white",
           "zerolinewidth": 2
          },
          "yaxis": {
           "automargin": true,
           "gridcolor": "white",
           "linecolor": "white",
           "ticks": "",
           "title": {
            "standoff": 15
           },
           "zerolinecolor": "white",
           "zerolinewidth": 2
          }
         }
        },
        "title": {
         "font": {
          "color": "#4D5663"
         }
        },
        "xaxis": {
         "gridcolor": "#E1E5ED",
         "showgrid": true,
         "tickfont": {
          "color": "#4D5663"
         },
         "title": {
          "font": {
           "color": "#4D5663"
          },
          "text": ""
         },
         "zerolinecolor": "#E1E5ED"
        },
        "yaxis": {
         "gridcolor": "#E1E5ED",
         "showgrid": true,
         "tickfont": {
          "color": "#4D5663"
         },
         "title": {
          "font": {
           "color": "#4D5663"
          },
          "text": ""
         },
         "zerolinecolor": "#E1E5ED"
        }
       }
      },
      "text/html": [
       "<div>                            <div id=\"18c77cca-5a8b-4d86-9952-68f90eaba658\" class=\"plotly-graph-div\" style=\"height:525px; width:100%;\"></div>            <script type=\"text/javascript\">                require([\"plotly\"], function(Plotly) {                    window.PLOTLYENV=window.PLOTLYENV || {};\n",
       "                    window.PLOTLYENV.BASE_URL='https://plot.ly';                                    if (document.getElementById(\"18c77cca-5a8b-4d86-9952-68f90eaba658\")) {                    Plotly.newPlot(                        \"18c77cca-5a8b-4d86-9952-68f90eaba658\",                        [{\"line\":{\"color\":\"rgba(255, 153, 51, 1.0)\",\"dash\":\"solid\",\"shape\":\"linear\",\"width\":1.3},\"mode\":\"lines\",\"name\":\"A\",\"text\":\"\",\"x\":[0,1,2,3,4,5,6,7,8,9,10,11,12,13,14,15,16,17,18,19,20,21,22,23,24,25,26,27,28,29,30,31,32,33,34,35,36,37,38,39,40,41,42,43,44,45,46,47,48,49,50,51,52,53,54,55,56,57,58,59,60,61,62,63,64,65,66,67,68,69,70,71,72,73,74,75,76,77,78,79,80,81,82,83,84,85,86,87,88,89,90,91,92,93,94,95,96,97,98,99],\"y\":[0.37597005318765364,-0.9048495718966237,0.8579565711447589,0.5400822133171609,-1.3077258733358614,-0.5342628034790948,-0.4453140991222401,1.9149519217568853,-0.4298784428599787,-1.7408278622364468,0.08984730403796322,-0.7220639924502646,-0.661782077365756,-1.9313280548361829,1.0995235869258424,-2.2416909234475497,1.6556238846323768,0.4881773567676999,-0.24661995472311352,-1.0888515437052844,-0.3800838112965957,1.076085654409655,-1.6593557461777635,0.21297961644533725,-1.5805191546265278,-1.618813240069065,0.04667537628522792,-0.3292224638769374,-1.1251094929123244,0.4090802971009559,-1.3057982878541903,0.4551469096035381,-0.06954108892814388,1.2405533050281512,-1.2173275922137747,1.65140906115177,-0.049881944271718826,0.38147990711103064,-1.0977982075374673,-0.8695743896417516,-1.1401255024732972,-0.1858666165578455,0.49689378953900226,-1.7204814086558124,1.3439359237959083,0.4609679198043368,0.8667683379824784,0.532690330525514,0.95150358077794,1.250685572340651,-0.26943495020421604,0.09722637026800443,0.4088197644876183,0.39448931245833757,1.524689421116744,0.6826810268566323,-1.6830237912206034,0.6318572757177054,0.2712253471184101,0.5970364658727937,0.7659094762271283,0.1096216186670033,-0.9596009180692899,-0.27623561082193904,-0.2579137767261097,-1.5159322047196007,0.26460532519337004,-0.7291898945221118,0.41642299592662535,0.6316260731687413,0.26153263868151694,-1.0468931473485552,1.908267957100243,1.0344822555487396,-1.5724801942537763,0.3569898615943052,-0.5466895707445805,2.0376888472931776,0.3144215127715293,0.5138467978812578,1.819754268505688,0.36849994498834077,-0.15873092607185396,-1.0049529009052667,0.09150725192149144,0.5764277982327448,-1.4916678031268555,0.6889429161353486,-1.5340180898299038,-0.5535547871389617,0.8371221944612994,1.511812318129234,0.4504704904485682,0.8099235277959423,-0.7489858817084645,0.9502448003142555,0.5875531667765086,1.575218737798039,0.6355889890230145,-0.8433765111948266],\"type\":\"scatter\"},{\"line\":{\"color\":\"rgba(55, 128, 191, 1.0)\",\"dash\":\"solid\",\"shape\":\"linear\",\"width\":1.3},\"mode\":\"lines\",\"name\":\"B\",\"text\":\"\",\"x\":[0,1,2,3,4,5,6,7,8,9,10,11,12,13,14,15,16,17,18,19,20,21,22,23,24,25,26,27,28,29,30,31,32,33,34,35,36,37,38,39,40,41,42,43,44,45,46,47,48,49,50,51,52,53,54,55,56,57,58,59,60,61,62,63,64,65,66,67,68,69,70,71,72,73,74,75,76,77,78,79,80,81,82,83,84,85,86,87,88,89,90,91,92,93,94,95,96,97,98,99],\"y\":[0.9850713887904406,0.9895016294470834,0.33522187833194084,0.38263555967156293,0.3745792917333505,-1.429798678593703,1.1824612431217312,0.626488597539041,0.14349191696675895,-0.14814614007520954,-0.011611341174777376,2.12010533548965,-0.8772273524296763,0.6081160835617304,0.16137092972869155,-1.0714094098077365,-0.24641963527506083,-0.06582086200559119,-1.0060510964237628,-0.10337648868594303,-0.37416372381453705,0.9355670189990279,0.6210186517918276,-0.382253315672212,1.1502055049032665,0.11081971219168177,-0.9485281386209676,0.3163862184000106,-0.3640965591259851,0.18310189183405573,2.2399820434026694,0.639087710690256,-0.1398487891852959,-0.3925511584810141,1.3296265283651694,-0.11776415174203159,-0.4744386630352112,-0.4588922483652321,0.7842901351701419,-0.7900798468461651,-0.3144100924184365,0.06904462737971202,-0.08165840561428707,0.5937850226834473,1.6943248142423644,-1.4730818763638593,1.9149121426011169,-0.6981210172827813,1.0620220071337512,0.3270240144233015,0.9983963737189102,-1.5820504018948132,1.5576377626695666,0.6818302184258955,0.9581576498185576,0.7734938363828401,-1.2645145864507532,-0.6557307087352567,-0.08794658491303368,-0.2078210220450748,-0.7092534417802636,-0.4381431192271822,-0.29781816966271807,-1.9836917976954034,1.7777877374165716,0.3218961402254565,-2.077586101344516,-1.2073343169448907,1.7441615296849142,0.3048809157280745,-0.4907508335554843,0.8770109049237509,1.4245387717453464,1.0661665279074823,-0.6339901914933027,0.6802602704574408,-0.7168654439364791,-0.5578302948819142,-1.1185457726425359,-0.6121908887398874,-0.3779897877929932,1.4777200034997569,-0.19292716976175264,0.3574539014170091,-0.18544526745879408,-1.1466728464685323,0.5323503559652332,1.099398587877932,-2.3408632006156953,0.2961022336838603,0.34912709976479883,0.4803125361409515,-0.9275043314294719,1.810404002204835,-0.8997615818329986,-0.8882118828210713,0.07222842748511556,0.8997473673949757,0.12376395341787741,-2.1040059015548027],\"type\":\"scatter\"},{\"line\":{\"color\":\"rgba(50, 171, 96, 1.0)\",\"dash\":\"solid\",\"shape\":\"linear\",\"width\":1.3},\"mode\":\"lines\",\"name\":\"C\",\"text\":\"\",\"x\":[0,1,2,3,4,5,6,7,8,9,10,11,12,13,14,15,16,17,18,19,20,21,22,23,24,25,26,27,28,29,30,31,32,33,34,35,36,37,38,39,40,41,42,43,44,45,46,47,48,49,50,51,52,53,54,55,56,57,58,59,60,61,62,63,64,65,66,67,68,69,70,71,72,73,74,75,76,77,78,79,80,81,82,83,84,85,86,87,88,89,90,91,92,93,94,95,96,97,98,99],\"y\":[1.3624391131495084,-0.09446315603746394,0.12053743295789382,1.1817252377826062,0.6475800142644463,0.8365164130551516,-0.4078180117652873,-1.1958213597542948,0.40486279121570723,0.30592864416212057,0.19107544463621579,0.693625983370063,-0.4795213929104659,-1.0445591306189137,1.5408861746461362,-1.3208667950772104,0.6094364132193509,-0.04085162955660802,-1.1955049542950045,-1.2909839067238678,-0.18996601563309218,-0.3027149219694637,-1.5439791351118015,0.15460830804329959,0.658379885150995,0.5165004387560271,0.24957975250950862,0.0374615654790334,-0.5011376297220035,-0.6980267142027701,1.003819045674507,0.5585194029409475,-0.6530654144953657,1.2989071642014614,1.2646838735261166,0.5232949932517565,-0.6708949079502614,-0.927915205881154,0.8588928727833726,-0.5510976265140255,-1.0544854398765824,0.38249192826086326,-0.265182820267451,-1.2334846966610336,0.8966353913944343,1.1855664845671843,2.102330612375204,0.8819175112781902,0.9484031417715634,-1.2951255668253117,0.5032418726519972,0.3869633350184438,2.0393910745438646,-0.9133046872020412,-1.7446801263689433,-0.2368714660544164,0.11501744149322286,0.9606814835850809,-1.0283016300674763,-0.20628502526959266,1.549434241388962,0.7699467943680909,1.1577045284955838,-0.34241868984657486,-0.21732911323454163,-0.7639606514748805,-0.6982225764961281,0.09808374584084899,0.07220517620201307,0.28388278140747314,2.048594502372427,-1.8338997526400318,1.1579823376966734,0.09248369553907014,-0.9536254360521329,-0.07992099885216111,-1.339150308345133,-4.248316610590325,0.877309688073591,1.0774032735018733,-1.660165966097154,-0.3296052293735431,0.7444300470693337,-0.28835240383946076,1.3209428618408567,-1.7226785064983972,-1.4546956979417622,-1.3569076990715874,-0.4591211120108361,0.6957975501809467,0.18663813416373395,0.684558745731199,-0.8003535785394227,1.4626502325103097,0.27341601084813794,-1.5470354465064384,1.1031551691903023,-0.12376385833508523,-0.8445403928519083,-1.1997622783239204],\"type\":\"scatter\"},{\"line\":{\"color\":\"rgba(128, 0, 128, 1.0)\",\"dash\":\"solid\",\"shape\":\"linear\",\"width\":1.3},\"mode\":\"lines\",\"name\":\"D\",\"text\":\"\",\"x\":[0,1,2,3,4,5,6,7,8,9,10,11,12,13,14,15,16,17,18,19,20,21,22,23,24,25,26,27,28,29,30,31,32,33,34,35,36,37,38,39,40,41,42,43,44,45,46,47,48,49,50,51,52,53,54,55,56,57,58,59,60,61,62,63,64,65,66,67,68,69,70,71,72,73,74,75,76,77,78,79,80,81,82,83,84,85,86,87,88,89,90,91,92,93,94,95,96,97,98,99],\"y\":[0.4508128924895635,0.04215376366990217,-1.0518703849568212,0.3500266469736823,0.20580261077350961,1.754896843152072,2.6429833117351147,-0.8642797610580246,-0.41582297549411373,-2.042660108926624,2.433411389040133,0.04535365358034176,-0.029792164141180695,0.09932599146605318,-0.36469484458203194,-0.014842401964342685,0.7162484120775321,-0.21961157381040466,-0.1993741741945207,0.23618296330368907,-1.0988480324183805,-1.1914519954196043,1.626157398674772,0.6014805018574845,-0.28299033172737736,0.20369756450508605,-1.3892156923525512,-4.194659972602769,-0.2576579263997152,0.18060191245340587,1.007979796275341,2.8548811976149677,-1.2989409444905182,1.7539133867387662,0.6355116643849393,-0.8877889204443272,0.2632211548259389,-2.1995470109944844,0.10508899178899203,0.023440149037699982,-0.7425340360296323,0.5135110343053352,1.0469222376987855,0.334179083908498,-0.6732049555684151,1.920255314155447,0.31474455194034795,-1.2532405006469192,-0.1782867341660852,-0.2612236675518501,0.08529428865256748,0.8859081746666121,-1.0395821361778677,-1.1188438311720794,1.5062784783110792,0.5645111723215555,1.5574015777784491,0.9343818985603018,1.2748663294021338,0.19879888180871147,-0.5414272117544923,0.39304960399247185,-0.9247493404146402,0.42558068308709135,-0.24056252548192844,-0.019922997486305462,-0.6719566946713905,-0.27653060364317744,0.8027553461951863,0.27219153335231094,-0.5813309657966865,0.5436017784492733,0.37242807990780813,-1.0329950228586733,-1.395061469594945,-0.11127250730929014,1.455724989900488,-1.7520381668036558,-0.7413967616142342,0.8162950883053584,-0.38201837863016125,-0.4575423670048262,-0.4643247842979483,-0.20121589003332105,-0.49942386266143535,-0.5379565189422676,-1.5637105321302363,0.4845066972715467,-1.4458852188723432,-0.17788830278383255,0.6521404141377812,0.1210782204443573,0.5994269475041096,-0.48866354384002325,-1.8744915866299037,-0.4459372624232242,-0.24734394526561712,0.6108673765982904,-0.6112625793654177,-1.5686529059756902],\"type\":\"scatter\"}],                        {\"legend\":{\"bgcolor\":\"#F5F6F9\",\"font\":{\"color\":\"#4D5663\"}},\"paper_bgcolor\":\"#F5F6F9\",\"plot_bgcolor\":\"#F5F6F9\",\"template\":{\"data\":{\"barpolar\":[{\"marker\":{\"line\":{\"color\":\"#E5ECF6\",\"width\":0.5},\"pattern\":{\"fillmode\":\"overlay\",\"size\":10,\"solidity\":0.2}},\"type\":\"barpolar\"}],\"bar\":[{\"error_x\":{\"color\":\"#2a3f5f\"},\"error_y\":{\"color\":\"#2a3f5f\"},\"marker\":{\"line\":{\"color\":\"#E5ECF6\",\"width\":0.5},\"pattern\":{\"fillmode\":\"overlay\",\"size\":10,\"solidity\":0.2}},\"type\":\"bar\"}],\"carpet\":[{\"aaxis\":{\"endlinecolor\":\"#2a3f5f\",\"gridcolor\":\"white\",\"linecolor\":\"white\",\"minorgridcolor\":\"white\",\"startlinecolor\":\"#2a3f5f\"},\"baxis\":{\"endlinecolor\":\"#2a3f5f\",\"gridcolor\":\"white\",\"linecolor\":\"white\",\"minorgridcolor\":\"white\",\"startlinecolor\":\"#2a3f5f\"},\"type\":\"carpet\"}],\"choropleth\":[{\"colorbar\":{\"outlinewidth\":0,\"ticks\":\"\"},\"type\":\"choropleth\"}],\"contourcarpet\":[{\"colorbar\":{\"outlinewidth\":0,\"ticks\":\"\"},\"type\":\"contourcarpet\"}],\"contour\":[{\"colorbar\":{\"outlinewidth\":0,\"ticks\":\"\"},\"colorscale\":[[0.0,\"#0d0887\"],[0.1111111111111111,\"#46039f\"],[0.2222222222222222,\"#7201a8\"],[0.3333333333333333,\"#9c179e\"],[0.4444444444444444,\"#bd3786\"],[0.5555555555555556,\"#d8576b\"],[0.6666666666666666,\"#ed7953\"],[0.7777777777777778,\"#fb9f3a\"],[0.8888888888888888,\"#fdca26\"],[1.0,\"#f0f921\"]],\"type\":\"contour\"}],\"heatmapgl\":[{\"colorbar\":{\"outlinewidth\":0,\"ticks\":\"\"},\"colorscale\":[[0.0,\"#0d0887\"],[0.1111111111111111,\"#46039f\"],[0.2222222222222222,\"#7201a8\"],[0.3333333333333333,\"#9c179e\"],[0.4444444444444444,\"#bd3786\"],[0.5555555555555556,\"#d8576b\"],[0.6666666666666666,\"#ed7953\"],[0.7777777777777778,\"#fb9f3a\"],[0.8888888888888888,\"#fdca26\"],[1.0,\"#f0f921\"]],\"type\":\"heatmapgl\"}],\"heatmap\":[{\"colorbar\":{\"outlinewidth\":0,\"ticks\":\"\"},\"colorscale\":[[0.0,\"#0d0887\"],[0.1111111111111111,\"#46039f\"],[0.2222222222222222,\"#7201a8\"],[0.3333333333333333,\"#9c179e\"],[0.4444444444444444,\"#bd3786\"],[0.5555555555555556,\"#d8576b\"],[0.6666666666666666,\"#ed7953\"],[0.7777777777777778,\"#fb9f3a\"],[0.8888888888888888,\"#fdca26\"],[1.0,\"#f0f921\"]],\"type\":\"heatmap\"}],\"histogram2dcontour\":[{\"colorbar\":{\"outlinewidth\":0,\"ticks\":\"\"},\"colorscale\":[[0.0,\"#0d0887\"],[0.1111111111111111,\"#46039f\"],[0.2222222222222222,\"#7201a8\"],[0.3333333333333333,\"#9c179e\"],[0.4444444444444444,\"#bd3786\"],[0.5555555555555556,\"#d8576b\"],[0.6666666666666666,\"#ed7953\"],[0.7777777777777778,\"#fb9f3a\"],[0.8888888888888888,\"#fdca26\"],[1.0,\"#f0f921\"]],\"type\":\"histogram2dcontour\"}],\"histogram2d\":[{\"colorbar\":{\"outlinewidth\":0,\"ticks\":\"\"},\"colorscale\":[[0.0,\"#0d0887\"],[0.1111111111111111,\"#46039f\"],[0.2222222222222222,\"#7201a8\"],[0.3333333333333333,\"#9c179e\"],[0.4444444444444444,\"#bd3786\"],[0.5555555555555556,\"#d8576b\"],[0.6666666666666666,\"#ed7953\"],[0.7777777777777778,\"#fb9f3a\"],[0.8888888888888888,\"#fdca26\"],[1.0,\"#f0f921\"]],\"type\":\"histogram2d\"}],\"histogram\":[{\"marker\":{\"pattern\":{\"fillmode\":\"overlay\",\"size\":10,\"solidity\":0.2}},\"type\":\"histogram\"}],\"mesh3d\":[{\"colorbar\":{\"outlinewidth\":0,\"ticks\":\"\"},\"type\":\"mesh3d\"}],\"parcoords\":[{\"line\":{\"colorbar\":{\"outlinewidth\":0,\"ticks\":\"\"}},\"type\":\"parcoords\"}],\"pie\":[{\"automargin\":true,\"type\":\"pie\"}],\"scatter3d\":[{\"line\":{\"colorbar\":{\"outlinewidth\":0,\"ticks\":\"\"}},\"marker\":{\"colorbar\":{\"outlinewidth\":0,\"ticks\":\"\"}},\"type\":\"scatter3d\"}],\"scattercarpet\":[{\"marker\":{\"colorbar\":{\"outlinewidth\":0,\"ticks\":\"\"}},\"type\":\"scattercarpet\"}],\"scattergeo\":[{\"marker\":{\"colorbar\":{\"outlinewidth\":0,\"ticks\":\"\"}},\"type\":\"scattergeo\"}],\"scattergl\":[{\"marker\":{\"colorbar\":{\"outlinewidth\":0,\"ticks\":\"\"}},\"type\":\"scattergl\"}],\"scattermapbox\":[{\"marker\":{\"colorbar\":{\"outlinewidth\":0,\"ticks\":\"\"}},\"type\":\"scattermapbox\"}],\"scatterpolargl\":[{\"marker\":{\"colorbar\":{\"outlinewidth\":0,\"ticks\":\"\"}},\"type\":\"scatterpolargl\"}],\"scatterpolar\":[{\"marker\":{\"colorbar\":{\"outlinewidth\":0,\"ticks\":\"\"}},\"type\":\"scatterpolar\"}],\"scatter\":[{\"fillpattern\":{\"fillmode\":\"overlay\",\"size\":10,\"solidity\":0.2},\"type\":\"scatter\"}],\"scatterternary\":[{\"marker\":{\"colorbar\":{\"outlinewidth\":0,\"ticks\":\"\"}},\"type\":\"scatterternary\"}],\"surface\":[{\"colorbar\":{\"outlinewidth\":0,\"ticks\":\"\"},\"colorscale\":[[0.0,\"#0d0887\"],[0.1111111111111111,\"#46039f\"],[0.2222222222222222,\"#7201a8\"],[0.3333333333333333,\"#9c179e\"],[0.4444444444444444,\"#bd3786\"],[0.5555555555555556,\"#d8576b\"],[0.6666666666666666,\"#ed7953\"],[0.7777777777777778,\"#fb9f3a\"],[0.8888888888888888,\"#fdca26\"],[1.0,\"#f0f921\"]],\"type\":\"surface\"}],\"table\":[{\"cells\":{\"fill\":{\"color\":\"#EBF0F8\"},\"line\":{\"color\":\"white\"}},\"header\":{\"fill\":{\"color\":\"#C8D4E3\"},\"line\":{\"color\":\"white\"}},\"type\":\"table\"}]},\"layout\":{\"annotationdefaults\":{\"arrowcolor\":\"#2a3f5f\",\"arrowhead\":0,\"arrowwidth\":1},\"autotypenumbers\":\"strict\",\"coloraxis\":{\"colorbar\":{\"outlinewidth\":0,\"ticks\":\"\"}},\"colorscale\":{\"diverging\":[[0,\"#8e0152\"],[0.1,\"#c51b7d\"],[0.2,\"#de77ae\"],[0.3,\"#f1b6da\"],[0.4,\"#fde0ef\"],[0.5,\"#f7f7f7\"],[0.6,\"#e6f5d0\"],[0.7,\"#b8e186\"],[0.8,\"#7fbc41\"],[0.9,\"#4d9221\"],[1,\"#276419\"]],\"sequential\":[[0.0,\"#0d0887\"],[0.1111111111111111,\"#46039f\"],[0.2222222222222222,\"#7201a8\"],[0.3333333333333333,\"#9c179e\"],[0.4444444444444444,\"#bd3786\"],[0.5555555555555556,\"#d8576b\"],[0.6666666666666666,\"#ed7953\"],[0.7777777777777778,\"#fb9f3a\"],[0.8888888888888888,\"#fdca26\"],[1.0,\"#f0f921\"]],\"sequentialminus\":[[0.0,\"#0d0887\"],[0.1111111111111111,\"#46039f\"],[0.2222222222222222,\"#7201a8\"],[0.3333333333333333,\"#9c179e\"],[0.4444444444444444,\"#bd3786\"],[0.5555555555555556,\"#d8576b\"],[0.6666666666666666,\"#ed7953\"],[0.7777777777777778,\"#fb9f3a\"],[0.8888888888888888,\"#fdca26\"],[1.0,\"#f0f921\"]]},\"colorway\":[\"#636efa\",\"#EF553B\",\"#00cc96\",\"#ab63fa\",\"#FFA15A\",\"#19d3f3\",\"#FF6692\",\"#B6E880\",\"#FF97FF\",\"#FECB52\"],\"font\":{\"color\":\"#2a3f5f\"},\"geo\":{\"bgcolor\":\"white\",\"lakecolor\":\"white\",\"landcolor\":\"#E5ECF6\",\"showlakes\":true,\"showland\":true,\"subunitcolor\":\"white\"},\"hoverlabel\":{\"align\":\"left\"},\"hovermode\":\"closest\",\"mapbox\":{\"style\":\"light\"},\"paper_bgcolor\":\"white\",\"plot_bgcolor\":\"#E5ECF6\",\"polar\":{\"angularaxis\":{\"gridcolor\":\"white\",\"linecolor\":\"white\",\"ticks\":\"\"},\"bgcolor\":\"#E5ECF6\",\"radialaxis\":{\"gridcolor\":\"white\",\"linecolor\":\"white\",\"ticks\":\"\"}},\"scene\":{\"xaxis\":{\"backgroundcolor\":\"#E5ECF6\",\"gridcolor\":\"white\",\"gridwidth\":2,\"linecolor\":\"white\",\"showbackground\":true,\"ticks\":\"\",\"zerolinecolor\":\"white\"},\"yaxis\":{\"backgroundcolor\":\"#E5ECF6\",\"gridcolor\":\"white\",\"gridwidth\":2,\"linecolor\":\"white\",\"showbackground\":true,\"ticks\":\"\",\"zerolinecolor\":\"white\"},\"zaxis\":{\"backgroundcolor\":\"#E5ECF6\",\"gridcolor\":\"white\",\"gridwidth\":2,\"linecolor\":\"white\",\"showbackground\":true,\"ticks\":\"\",\"zerolinecolor\":\"white\"}},\"shapedefaults\":{\"line\":{\"color\":\"#2a3f5f\"}},\"ternary\":{\"aaxis\":{\"gridcolor\":\"white\",\"linecolor\":\"white\",\"ticks\":\"\"},\"baxis\":{\"gridcolor\":\"white\",\"linecolor\":\"white\",\"ticks\":\"\"},\"bgcolor\":\"#E5ECF6\",\"caxis\":{\"gridcolor\":\"white\",\"linecolor\":\"white\",\"ticks\":\"\"}},\"title\":{\"x\":0.05},\"xaxis\":{\"automargin\":true,\"gridcolor\":\"white\",\"linecolor\":\"white\",\"ticks\":\"\",\"title\":{\"standoff\":15},\"zerolinecolor\":\"white\",\"zerolinewidth\":2},\"yaxis\":{\"automargin\":true,\"gridcolor\":\"white\",\"linecolor\":\"white\",\"ticks\":\"\",\"title\":{\"standoff\":15},\"zerolinecolor\":\"white\",\"zerolinewidth\":2}}},\"title\":{\"font\":{\"color\":\"#4D5663\"}},\"xaxis\":{\"gridcolor\":\"#E1E5ED\",\"showgrid\":true,\"tickfont\":{\"color\":\"#4D5663\"},\"title\":{\"font\":{\"color\":\"#4D5663\"},\"text\":\"\"},\"zerolinecolor\":\"#E1E5ED\"},\"yaxis\":{\"gridcolor\":\"#E1E5ED\",\"showgrid\":true,\"tickfont\":{\"color\":\"#4D5663\"},\"title\":{\"font\":{\"color\":\"#4D5663\"},\"text\":\"\"},\"zerolinecolor\":\"#E1E5ED\"}},                        {\"showLink\": true, \"linkText\": \"Export to plot.ly\", \"plotlyServerURL\": \"https://plot.ly\", \"responsive\": true}                    ).then(function(){\n",
       "                            \n",
       "var gd = document.getElementById('18c77cca-5a8b-4d86-9952-68f90eaba658');\n",
       "var x = new MutationObserver(function (mutations, observer) {{\n",
       "        var display = window.getComputedStyle(gd).display;\n",
       "        if (!display || display === 'none') {{\n",
       "            console.log([gd, 'removed!']);\n",
       "            Plotly.purge(gd);\n",
       "            observer.disconnect();\n",
       "        }}\n",
       "}});\n",
       "\n",
       "// Listen for the removal of the full notebook cells\n",
       "var notebookContainer = gd.closest('#notebook-container');\n",
       "if (notebookContainer) {{\n",
       "    x.observe(notebookContainer, {childList: true});\n",
       "}}\n",
       "\n",
       "// Listen for the clearing of the current output cell\n",
       "var outputEl = gd.closest('.output');\n",
       "if (outputEl) {{\n",
       "    x.observe(outputEl, {childList: true});\n",
       "}}\n",
       "\n",
       "                        })                };                });            </script>        </div>"
      ]
     },
     "metadata": {},
     "output_type": "display_data"
    }
   ],
   "source": [
    "df.iplot() #allow interactive plot"
   ]
  },
  {
   "cell_type": "code",
   "execution_count": 23,
   "id": "000d25b1",
   "metadata": {
    "ExecuteTime": {
     "end_time": "2023-01-12T17:22:54.083526Z",
     "start_time": "2023-01-12T17:22:54.029531Z"
    }
   },
   "outputs": [
    {
     "data": {
      "application/vnd.plotly.v1+json": {
       "config": {
        "linkText": "Export to plot.ly",
        "plotlyServerURL": "https://plot.ly",
        "showLink": true
       },
       "data": [
        {
         "line": {
          "color": "rgba(219, 64, 82, 1.0)",
          "dash": "solid",
          "shape": "linear",
          "width": 1.3
         },
         "marker": {
          "size": 20,
          "symbol": "circle"
         },
         "mode": "markers",
         "name": "B",
         "text": "",
         "type": "scatter",
         "x": [
          0.37597005318765364,
          -0.9048495718966237,
          0.8579565711447589,
          0.5400822133171609,
          -1.3077258733358614,
          -0.5342628034790948,
          -0.4453140991222401,
          1.9149519217568853,
          -0.4298784428599787,
          -1.7408278622364468,
          0.08984730403796322,
          -0.7220639924502646,
          -0.661782077365756,
          -1.9313280548361829,
          1.0995235869258424,
          -2.2416909234475497,
          1.6556238846323768,
          0.4881773567676999,
          -0.24661995472311352,
          -1.0888515437052844,
          -0.3800838112965957,
          1.076085654409655,
          -1.6593557461777635,
          0.21297961644533725,
          -1.5805191546265278,
          -1.618813240069065,
          0.04667537628522792,
          -0.3292224638769374,
          -1.1251094929123244,
          0.4090802971009559,
          -1.3057982878541903,
          0.4551469096035381,
          -0.06954108892814388,
          1.2405533050281512,
          -1.2173275922137747,
          1.65140906115177,
          -0.049881944271718826,
          0.38147990711103064,
          -1.0977982075374673,
          -0.8695743896417516,
          -1.1401255024732972,
          -0.1858666165578455,
          0.49689378953900226,
          -1.7204814086558124,
          1.3439359237959083,
          0.4609679198043368,
          0.8667683379824784,
          0.532690330525514,
          0.95150358077794,
          1.250685572340651,
          -0.26943495020421604,
          0.09722637026800443,
          0.4088197644876183,
          0.39448931245833757,
          1.524689421116744,
          0.6826810268566323,
          -1.6830237912206034,
          0.6318572757177054,
          0.2712253471184101,
          0.5970364658727937,
          0.7659094762271283,
          0.1096216186670033,
          -0.9596009180692899,
          -0.27623561082193904,
          -0.2579137767261097,
          -1.5159322047196007,
          0.26460532519337004,
          -0.7291898945221118,
          0.41642299592662535,
          0.6316260731687413,
          0.26153263868151694,
          -1.0468931473485552,
          1.908267957100243,
          1.0344822555487396,
          -1.5724801942537763,
          0.3569898615943052,
          -0.5466895707445805,
          2.0376888472931776,
          0.3144215127715293,
          0.5138467978812578,
          1.819754268505688,
          0.36849994498834077,
          -0.15873092607185396,
          -1.0049529009052667,
          0.09150725192149144,
          0.5764277982327448,
          -1.4916678031268555,
          0.6889429161353486,
          -1.5340180898299038,
          -0.5535547871389617,
          0.8371221944612994,
          1.511812318129234,
          0.4504704904485682,
          0.8099235277959423,
          -0.7489858817084645,
          0.9502448003142555,
          0.5875531667765086,
          1.575218737798039,
          0.6355889890230145,
          -0.8433765111948266
         ],
         "y": [
          0.9850713887904406,
          0.9895016294470834,
          0.33522187833194084,
          0.38263555967156293,
          0.3745792917333505,
          -1.429798678593703,
          1.1824612431217312,
          0.626488597539041,
          0.14349191696675895,
          -0.14814614007520954,
          -0.011611341174777376,
          2.12010533548965,
          -0.8772273524296763,
          0.6081160835617304,
          0.16137092972869155,
          -1.0714094098077365,
          -0.24641963527506083,
          -0.06582086200559119,
          -1.0060510964237628,
          -0.10337648868594303,
          -0.37416372381453705,
          0.9355670189990279,
          0.6210186517918276,
          -0.382253315672212,
          1.1502055049032665,
          0.11081971219168177,
          -0.9485281386209676,
          0.3163862184000106,
          -0.3640965591259851,
          0.18310189183405573,
          2.2399820434026694,
          0.639087710690256,
          -0.1398487891852959,
          -0.3925511584810141,
          1.3296265283651694,
          -0.11776415174203159,
          -0.4744386630352112,
          -0.4588922483652321,
          0.7842901351701419,
          -0.7900798468461651,
          -0.3144100924184365,
          0.06904462737971202,
          -0.08165840561428707,
          0.5937850226834473,
          1.6943248142423644,
          -1.4730818763638593,
          1.9149121426011169,
          -0.6981210172827813,
          1.0620220071337512,
          0.3270240144233015,
          0.9983963737189102,
          -1.5820504018948132,
          1.5576377626695666,
          0.6818302184258955,
          0.9581576498185576,
          0.7734938363828401,
          -1.2645145864507532,
          -0.6557307087352567,
          -0.08794658491303368,
          -0.2078210220450748,
          -0.7092534417802636,
          -0.4381431192271822,
          -0.29781816966271807,
          -1.9836917976954034,
          1.7777877374165716,
          0.3218961402254565,
          -2.077586101344516,
          -1.2073343169448907,
          1.7441615296849142,
          0.3048809157280745,
          -0.4907508335554843,
          0.8770109049237509,
          1.4245387717453464,
          1.0661665279074823,
          -0.6339901914933027,
          0.6802602704574408,
          -0.7168654439364791,
          -0.5578302948819142,
          -1.1185457726425359,
          -0.6121908887398874,
          -0.3779897877929932,
          1.4777200034997569,
          -0.19292716976175264,
          0.3574539014170091,
          -0.18544526745879408,
          -1.1466728464685323,
          0.5323503559652332,
          1.099398587877932,
          -2.3408632006156953,
          0.2961022336838603,
          0.34912709976479883,
          0.4803125361409515,
          -0.9275043314294719,
          1.810404002204835,
          -0.8997615818329986,
          -0.8882118828210713,
          0.07222842748511556,
          0.8997473673949757,
          0.12376395341787741,
          -2.1040059015548027
         ]
        }
       ],
       "layout": {
        "legend": {
         "bgcolor": "#F5F6F9",
         "font": {
          "color": "#4D5663"
         }
        },
        "paper_bgcolor": "#F5F6F9",
        "plot_bgcolor": "#F5F6F9",
        "template": {
         "data": {
          "bar": [
           {
            "error_x": {
             "color": "#2a3f5f"
            },
            "error_y": {
             "color": "#2a3f5f"
            },
            "marker": {
             "line": {
              "color": "#E5ECF6",
              "width": 0.5
             },
             "pattern": {
              "fillmode": "overlay",
              "size": 10,
              "solidity": 0.2
             }
            },
            "type": "bar"
           }
          ],
          "barpolar": [
           {
            "marker": {
             "line": {
              "color": "#E5ECF6",
              "width": 0.5
             },
             "pattern": {
              "fillmode": "overlay",
              "size": 10,
              "solidity": 0.2
             }
            },
            "type": "barpolar"
           }
          ],
          "carpet": [
           {
            "aaxis": {
             "endlinecolor": "#2a3f5f",
             "gridcolor": "white",
             "linecolor": "white",
             "minorgridcolor": "white",
             "startlinecolor": "#2a3f5f"
            },
            "baxis": {
             "endlinecolor": "#2a3f5f",
             "gridcolor": "white",
             "linecolor": "white",
             "minorgridcolor": "white",
             "startlinecolor": "#2a3f5f"
            },
            "type": "carpet"
           }
          ],
          "choropleth": [
           {
            "colorbar": {
             "outlinewidth": 0,
             "ticks": ""
            },
            "type": "choropleth"
           }
          ],
          "contour": [
           {
            "colorbar": {
             "outlinewidth": 0,
             "ticks": ""
            },
            "colorscale": [
             [
              0,
              "#0d0887"
             ],
             [
              0.1111111111111111,
              "#46039f"
             ],
             [
              0.2222222222222222,
              "#7201a8"
             ],
             [
              0.3333333333333333,
              "#9c179e"
             ],
             [
              0.4444444444444444,
              "#bd3786"
             ],
             [
              0.5555555555555556,
              "#d8576b"
             ],
             [
              0.6666666666666666,
              "#ed7953"
             ],
             [
              0.7777777777777778,
              "#fb9f3a"
             ],
             [
              0.8888888888888888,
              "#fdca26"
             ],
             [
              1,
              "#f0f921"
             ]
            ],
            "type": "contour"
           }
          ],
          "contourcarpet": [
           {
            "colorbar": {
             "outlinewidth": 0,
             "ticks": ""
            },
            "type": "contourcarpet"
           }
          ],
          "heatmap": [
           {
            "colorbar": {
             "outlinewidth": 0,
             "ticks": ""
            },
            "colorscale": [
             [
              0,
              "#0d0887"
             ],
             [
              0.1111111111111111,
              "#46039f"
             ],
             [
              0.2222222222222222,
              "#7201a8"
             ],
             [
              0.3333333333333333,
              "#9c179e"
             ],
             [
              0.4444444444444444,
              "#bd3786"
             ],
             [
              0.5555555555555556,
              "#d8576b"
             ],
             [
              0.6666666666666666,
              "#ed7953"
             ],
             [
              0.7777777777777778,
              "#fb9f3a"
             ],
             [
              0.8888888888888888,
              "#fdca26"
             ],
             [
              1,
              "#f0f921"
             ]
            ],
            "type": "heatmap"
           }
          ],
          "heatmapgl": [
           {
            "colorbar": {
             "outlinewidth": 0,
             "ticks": ""
            },
            "colorscale": [
             [
              0,
              "#0d0887"
             ],
             [
              0.1111111111111111,
              "#46039f"
             ],
             [
              0.2222222222222222,
              "#7201a8"
             ],
             [
              0.3333333333333333,
              "#9c179e"
             ],
             [
              0.4444444444444444,
              "#bd3786"
             ],
             [
              0.5555555555555556,
              "#d8576b"
             ],
             [
              0.6666666666666666,
              "#ed7953"
             ],
             [
              0.7777777777777778,
              "#fb9f3a"
             ],
             [
              0.8888888888888888,
              "#fdca26"
             ],
             [
              1,
              "#f0f921"
             ]
            ],
            "type": "heatmapgl"
           }
          ],
          "histogram": [
           {
            "marker": {
             "pattern": {
              "fillmode": "overlay",
              "size": 10,
              "solidity": 0.2
             }
            },
            "type": "histogram"
           }
          ],
          "histogram2d": [
           {
            "colorbar": {
             "outlinewidth": 0,
             "ticks": ""
            },
            "colorscale": [
             [
              0,
              "#0d0887"
             ],
             [
              0.1111111111111111,
              "#46039f"
             ],
             [
              0.2222222222222222,
              "#7201a8"
             ],
             [
              0.3333333333333333,
              "#9c179e"
             ],
             [
              0.4444444444444444,
              "#bd3786"
             ],
             [
              0.5555555555555556,
              "#d8576b"
             ],
             [
              0.6666666666666666,
              "#ed7953"
             ],
             [
              0.7777777777777778,
              "#fb9f3a"
             ],
             [
              0.8888888888888888,
              "#fdca26"
             ],
             [
              1,
              "#f0f921"
             ]
            ],
            "type": "histogram2d"
           }
          ],
          "histogram2dcontour": [
           {
            "colorbar": {
             "outlinewidth": 0,
             "ticks": ""
            },
            "colorscale": [
             [
              0,
              "#0d0887"
             ],
             [
              0.1111111111111111,
              "#46039f"
             ],
             [
              0.2222222222222222,
              "#7201a8"
             ],
             [
              0.3333333333333333,
              "#9c179e"
             ],
             [
              0.4444444444444444,
              "#bd3786"
             ],
             [
              0.5555555555555556,
              "#d8576b"
             ],
             [
              0.6666666666666666,
              "#ed7953"
             ],
             [
              0.7777777777777778,
              "#fb9f3a"
             ],
             [
              0.8888888888888888,
              "#fdca26"
             ],
             [
              1,
              "#f0f921"
             ]
            ],
            "type": "histogram2dcontour"
           }
          ],
          "mesh3d": [
           {
            "colorbar": {
             "outlinewidth": 0,
             "ticks": ""
            },
            "type": "mesh3d"
           }
          ],
          "parcoords": [
           {
            "line": {
             "colorbar": {
              "outlinewidth": 0,
              "ticks": ""
             }
            },
            "type": "parcoords"
           }
          ],
          "pie": [
           {
            "automargin": true,
            "type": "pie"
           }
          ],
          "scatter": [
           {
            "fillpattern": {
             "fillmode": "overlay",
             "size": 10,
             "solidity": 0.2
            },
            "type": "scatter"
           }
          ],
          "scatter3d": [
           {
            "line": {
             "colorbar": {
              "outlinewidth": 0,
              "ticks": ""
             }
            },
            "marker": {
             "colorbar": {
              "outlinewidth": 0,
              "ticks": ""
             }
            },
            "type": "scatter3d"
           }
          ],
          "scattercarpet": [
           {
            "marker": {
             "colorbar": {
              "outlinewidth": 0,
              "ticks": ""
             }
            },
            "type": "scattercarpet"
           }
          ],
          "scattergeo": [
           {
            "marker": {
             "colorbar": {
              "outlinewidth": 0,
              "ticks": ""
             }
            },
            "type": "scattergeo"
           }
          ],
          "scattergl": [
           {
            "marker": {
             "colorbar": {
              "outlinewidth": 0,
              "ticks": ""
             }
            },
            "type": "scattergl"
           }
          ],
          "scattermapbox": [
           {
            "marker": {
             "colorbar": {
              "outlinewidth": 0,
              "ticks": ""
             }
            },
            "type": "scattermapbox"
           }
          ],
          "scatterpolar": [
           {
            "marker": {
             "colorbar": {
              "outlinewidth": 0,
              "ticks": ""
             }
            },
            "type": "scatterpolar"
           }
          ],
          "scatterpolargl": [
           {
            "marker": {
             "colorbar": {
              "outlinewidth": 0,
              "ticks": ""
             }
            },
            "type": "scatterpolargl"
           }
          ],
          "scatterternary": [
           {
            "marker": {
             "colorbar": {
              "outlinewidth": 0,
              "ticks": ""
             }
            },
            "type": "scatterternary"
           }
          ],
          "surface": [
           {
            "colorbar": {
             "outlinewidth": 0,
             "ticks": ""
            },
            "colorscale": [
             [
              0,
              "#0d0887"
             ],
             [
              0.1111111111111111,
              "#46039f"
             ],
             [
              0.2222222222222222,
              "#7201a8"
             ],
             [
              0.3333333333333333,
              "#9c179e"
             ],
             [
              0.4444444444444444,
              "#bd3786"
             ],
             [
              0.5555555555555556,
              "#d8576b"
             ],
             [
              0.6666666666666666,
              "#ed7953"
             ],
             [
              0.7777777777777778,
              "#fb9f3a"
             ],
             [
              0.8888888888888888,
              "#fdca26"
             ],
             [
              1,
              "#f0f921"
             ]
            ],
            "type": "surface"
           }
          ],
          "table": [
           {
            "cells": {
             "fill": {
              "color": "#EBF0F8"
             },
             "line": {
              "color": "white"
             }
            },
            "header": {
             "fill": {
              "color": "#C8D4E3"
             },
             "line": {
              "color": "white"
             }
            },
            "type": "table"
           }
          ]
         },
         "layout": {
          "annotationdefaults": {
           "arrowcolor": "#2a3f5f",
           "arrowhead": 0,
           "arrowwidth": 1
          },
          "autotypenumbers": "strict",
          "coloraxis": {
           "colorbar": {
            "outlinewidth": 0,
            "ticks": ""
           }
          },
          "colorscale": {
           "diverging": [
            [
             0,
             "#8e0152"
            ],
            [
             0.1,
             "#c51b7d"
            ],
            [
             0.2,
             "#de77ae"
            ],
            [
             0.3,
             "#f1b6da"
            ],
            [
             0.4,
             "#fde0ef"
            ],
            [
             0.5,
             "#f7f7f7"
            ],
            [
             0.6,
             "#e6f5d0"
            ],
            [
             0.7,
             "#b8e186"
            ],
            [
             0.8,
             "#7fbc41"
            ],
            [
             0.9,
             "#4d9221"
            ],
            [
             1,
             "#276419"
            ]
           ],
           "sequential": [
            [
             0,
             "#0d0887"
            ],
            [
             0.1111111111111111,
             "#46039f"
            ],
            [
             0.2222222222222222,
             "#7201a8"
            ],
            [
             0.3333333333333333,
             "#9c179e"
            ],
            [
             0.4444444444444444,
             "#bd3786"
            ],
            [
             0.5555555555555556,
             "#d8576b"
            ],
            [
             0.6666666666666666,
             "#ed7953"
            ],
            [
             0.7777777777777778,
             "#fb9f3a"
            ],
            [
             0.8888888888888888,
             "#fdca26"
            ],
            [
             1,
             "#f0f921"
            ]
           ],
           "sequentialminus": [
            [
             0,
             "#0d0887"
            ],
            [
             0.1111111111111111,
             "#46039f"
            ],
            [
             0.2222222222222222,
             "#7201a8"
            ],
            [
             0.3333333333333333,
             "#9c179e"
            ],
            [
             0.4444444444444444,
             "#bd3786"
            ],
            [
             0.5555555555555556,
             "#d8576b"
            ],
            [
             0.6666666666666666,
             "#ed7953"
            ],
            [
             0.7777777777777778,
             "#fb9f3a"
            ],
            [
             0.8888888888888888,
             "#fdca26"
            ],
            [
             1,
             "#f0f921"
            ]
           ]
          },
          "colorway": [
           "#636efa",
           "#EF553B",
           "#00cc96",
           "#ab63fa",
           "#FFA15A",
           "#19d3f3",
           "#FF6692",
           "#B6E880",
           "#FF97FF",
           "#FECB52"
          ],
          "font": {
           "color": "#2a3f5f"
          },
          "geo": {
           "bgcolor": "white",
           "lakecolor": "white",
           "landcolor": "#E5ECF6",
           "showlakes": true,
           "showland": true,
           "subunitcolor": "white"
          },
          "hoverlabel": {
           "align": "left"
          },
          "hovermode": "closest",
          "mapbox": {
           "style": "light"
          },
          "paper_bgcolor": "white",
          "plot_bgcolor": "#E5ECF6",
          "polar": {
           "angularaxis": {
            "gridcolor": "white",
            "linecolor": "white",
            "ticks": ""
           },
           "bgcolor": "#E5ECF6",
           "radialaxis": {
            "gridcolor": "white",
            "linecolor": "white",
            "ticks": ""
           }
          },
          "scene": {
           "xaxis": {
            "backgroundcolor": "#E5ECF6",
            "gridcolor": "white",
            "gridwidth": 2,
            "linecolor": "white",
            "showbackground": true,
            "ticks": "",
            "zerolinecolor": "white"
           },
           "yaxis": {
            "backgroundcolor": "#E5ECF6",
            "gridcolor": "white",
            "gridwidth": 2,
            "linecolor": "white",
            "showbackground": true,
            "ticks": "",
            "zerolinecolor": "white"
           },
           "zaxis": {
            "backgroundcolor": "#E5ECF6",
            "gridcolor": "white",
            "gridwidth": 2,
            "linecolor": "white",
            "showbackground": true,
            "ticks": "",
            "zerolinecolor": "white"
           }
          },
          "shapedefaults": {
           "line": {
            "color": "#2a3f5f"
           }
          },
          "ternary": {
           "aaxis": {
            "gridcolor": "white",
            "linecolor": "white",
            "ticks": ""
           },
           "baxis": {
            "gridcolor": "white",
            "linecolor": "white",
            "ticks": ""
           },
           "bgcolor": "#E5ECF6",
           "caxis": {
            "gridcolor": "white",
            "linecolor": "white",
            "ticks": ""
           }
          },
          "title": {
           "x": 0.05
          },
          "xaxis": {
           "automargin": true,
           "gridcolor": "white",
           "linecolor": "white",
           "ticks": "",
           "title": {
            "standoff": 15
           },
           "zerolinecolor": "white",
           "zerolinewidth": 2
          },
          "yaxis": {
           "automargin": true,
           "gridcolor": "white",
           "linecolor": "white",
           "ticks": "",
           "title": {
            "standoff": 15
           },
           "zerolinecolor": "white",
           "zerolinewidth": 2
          }
         }
        },
        "title": {
         "font": {
          "color": "#4D5663"
         }
        },
        "xaxis": {
         "gridcolor": "#E1E5ED",
         "showgrid": true,
         "tickfont": {
          "color": "#4D5663"
         },
         "title": {
          "font": {
           "color": "#4D5663"
          },
          "text": ""
         },
         "zerolinecolor": "#E1E5ED"
        },
        "yaxis": {
         "gridcolor": "#E1E5ED",
         "showgrid": true,
         "tickfont": {
          "color": "#4D5663"
         },
         "title": {
          "font": {
           "color": "#4D5663"
          },
          "text": ""
         },
         "zerolinecolor": "#E1E5ED"
        }
       }
      },
      "text/html": [
       "<div>                            <div id=\"47062b60-8163-47b1-854b-813fab88d25d\" class=\"plotly-graph-div\" style=\"height:525px; width:100%;\"></div>            <script type=\"text/javascript\">                require([\"plotly\"], function(Plotly) {                    window.PLOTLYENV=window.PLOTLYENV || {};\n",
       "                    window.PLOTLYENV.BASE_URL='https://plot.ly';                                    if (document.getElementById(\"47062b60-8163-47b1-854b-813fab88d25d\")) {                    Plotly.newPlot(                        \"47062b60-8163-47b1-854b-813fab88d25d\",                        [{\"line\":{\"color\":\"rgba(219, 64, 82, 1.0)\",\"dash\":\"solid\",\"shape\":\"linear\",\"width\":1.3},\"marker\":{\"size\":20,\"symbol\":\"circle\"},\"mode\":\"markers\",\"name\":\"B\",\"text\":\"\",\"x\":[0.37597005318765364,-0.9048495718966237,0.8579565711447589,0.5400822133171609,-1.3077258733358614,-0.5342628034790948,-0.4453140991222401,1.9149519217568853,-0.4298784428599787,-1.7408278622364468,0.08984730403796322,-0.7220639924502646,-0.661782077365756,-1.9313280548361829,1.0995235869258424,-2.2416909234475497,1.6556238846323768,0.4881773567676999,-0.24661995472311352,-1.0888515437052844,-0.3800838112965957,1.076085654409655,-1.6593557461777635,0.21297961644533725,-1.5805191546265278,-1.618813240069065,0.04667537628522792,-0.3292224638769374,-1.1251094929123244,0.4090802971009559,-1.3057982878541903,0.4551469096035381,-0.06954108892814388,1.2405533050281512,-1.2173275922137747,1.65140906115177,-0.049881944271718826,0.38147990711103064,-1.0977982075374673,-0.8695743896417516,-1.1401255024732972,-0.1858666165578455,0.49689378953900226,-1.7204814086558124,1.3439359237959083,0.4609679198043368,0.8667683379824784,0.532690330525514,0.95150358077794,1.250685572340651,-0.26943495020421604,0.09722637026800443,0.4088197644876183,0.39448931245833757,1.524689421116744,0.6826810268566323,-1.6830237912206034,0.6318572757177054,0.2712253471184101,0.5970364658727937,0.7659094762271283,0.1096216186670033,-0.9596009180692899,-0.27623561082193904,-0.2579137767261097,-1.5159322047196007,0.26460532519337004,-0.7291898945221118,0.41642299592662535,0.6316260731687413,0.26153263868151694,-1.0468931473485552,1.908267957100243,1.0344822555487396,-1.5724801942537763,0.3569898615943052,-0.5466895707445805,2.0376888472931776,0.3144215127715293,0.5138467978812578,1.819754268505688,0.36849994498834077,-0.15873092607185396,-1.0049529009052667,0.09150725192149144,0.5764277982327448,-1.4916678031268555,0.6889429161353486,-1.5340180898299038,-0.5535547871389617,0.8371221944612994,1.511812318129234,0.4504704904485682,0.8099235277959423,-0.7489858817084645,0.9502448003142555,0.5875531667765086,1.575218737798039,0.6355889890230145,-0.8433765111948266],\"y\":[0.9850713887904406,0.9895016294470834,0.33522187833194084,0.38263555967156293,0.3745792917333505,-1.429798678593703,1.1824612431217312,0.626488597539041,0.14349191696675895,-0.14814614007520954,-0.011611341174777376,2.12010533548965,-0.8772273524296763,0.6081160835617304,0.16137092972869155,-1.0714094098077365,-0.24641963527506083,-0.06582086200559119,-1.0060510964237628,-0.10337648868594303,-0.37416372381453705,0.9355670189990279,0.6210186517918276,-0.382253315672212,1.1502055049032665,0.11081971219168177,-0.9485281386209676,0.3163862184000106,-0.3640965591259851,0.18310189183405573,2.2399820434026694,0.639087710690256,-0.1398487891852959,-0.3925511584810141,1.3296265283651694,-0.11776415174203159,-0.4744386630352112,-0.4588922483652321,0.7842901351701419,-0.7900798468461651,-0.3144100924184365,0.06904462737971202,-0.08165840561428707,0.5937850226834473,1.6943248142423644,-1.4730818763638593,1.9149121426011169,-0.6981210172827813,1.0620220071337512,0.3270240144233015,0.9983963737189102,-1.5820504018948132,1.5576377626695666,0.6818302184258955,0.9581576498185576,0.7734938363828401,-1.2645145864507532,-0.6557307087352567,-0.08794658491303368,-0.2078210220450748,-0.7092534417802636,-0.4381431192271822,-0.29781816966271807,-1.9836917976954034,1.7777877374165716,0.3218961402254565,-2.077586101344516,-1.2073343169448907,1.7441615296849142,0.3048809157280745,-0.4907508335554843,0.8770109049237509,1.4245387717453464,1.0661665279074823,-0.6339901914933027,0.6802602704574408,-0.7168654439364791,-0.5578302948819142,-1.1185457726425359,-0.6121908887398874,-0.3779897877929932,1.4777200034997569,-0.19292716976175264,0.3574539014170091,-0.18544526745879408,-1.1466728464685323,0.5323503559652332,1.099398587877932,-2.3408632006156953,0.2961022336838603,0.34912709976479883,0.4803125361409515,-0.9275043314294719,1.810404002204835,-0.8997615818329986,-0.8882118828210713,0.07222842748511556,0.8997473673949757,0.12376395341787741,-2.1040059015548027],\"type\":\"scatter\"}],                        {\"legend\":{\"bgcolor\":\"#F5F6F9\",\"font\":{\"color\":\"#4D5663\"}},\"paper_bgcolor\":\"#F5F6F9\",\"plot_bgcolor\":\"#F5F6F9\",\"template\":{\"data\":{\"barpolar\":[{\"marker\":{\"line\":{\"color\":\"#E5ECF6\",\"width\":0.5},\"pattern\":{\"fillmode\":\"overlay\",\"size\":10,\"solidity\":0.2}},\"type\":\"barpolar\"}],\"bar\":[{\"error_x\":{\"color\":\"#2a3f5f\"},\"error_y\":{\"color\":\"#2a3f5f\"},\"marker\":{\"line\":{\"color\":\"#E5ECF6\",\"width\":0.5},\"pattern\":{\"fillmode\":\"overlay\",\"size\":10,\"solidity\":0.2}},\"type\":\"bar\"}],\"carpet\":[{\"aaxis\":{\"endlinecolor\":\"#2a3f5f\",\"gridcolor\":\"white\",\"linecolor\":\"white\",\"minorgridcolor\":\"white\",\"startlinecolor\":\"#2a3f5f\"},\"baxis\":{\"endlinecolor\":\"#2a3f5f\",\"gridcolor\":\"white\",\"linecolor\":\"white\",\"minorgridcolor\":\"white\",\"startlinecolor\":\"#2a3f5f\"},\"type\":\"carpet\"}],\"choropleth\":[{\"colorbar\":{\"outlinewidth\":0,\"ticks\":\"\"},\"type\":\"choropleth\"}],\"contourcarpet\":[{\"colorbar\":{\"outlinewidth\":0,\"ticks\":\"\"},\"type\":\"contourcarpet\"}],\"contour\":[{\"colorbar\":{\"outlinewidth\":0,\"ticks\":\"\"},\"colorscale\":[[0.0,\"#0d0887\"],[0.1111111111111111,\"#46039f\"],[0.2222222222222222,\"#7201a8\"],[0.3333333333333333,\"#9c179e\"],[0.4444444444444444,\"#bd3786\"],[0.5555555555555556,\"#d8576b\"],[0.6666666666666666,\"#ed7953\"],[0.7777777777777778,\"#fb9f3a\"],[0.8888888888888888,\"#fdca26\"],[1.0,\"#f0f921\"]],\"type\":\"contour\"}],\"heatmapgl\":[{\"colorbar\":{\"outlinewidth\":0,\"ticks\":\"\"},\"colorscale\":[[0.0,\"#0d0887\"],[0.1111111111111111,\"#46039f\"],[0.2222222222222222,\"#7201a8\"],[0.3333333333333333,\"#9c179e\"],[0.4444444444444444,\"#bd3786\"],[0.5555555555555556,\"#d8576b\"],[0.6666666666666666,\"#ed7953\"],[0.7777777777777778,\"#fb9f3a\"],[0.8888888888888888,\"#fdca26\"],[1.0,\"#f0f921\"]],\"type\":\"heatmapgl\"}],\"heatmap\":[{\"colorbar\":{\"outlinewidth\":0,\"ticks\":\"\"},\"colorscale\":[[0.0,\"#0d0887\"],[0.1111111111111111,\"#46039f\"],[0.2222222222222222,\"#7201a8\"],[0.3333333333333333,\"#9c179e\"],[0.4444444444444444,\"#bd3786\"],[0.5555555555555556,\"#d8576b\"],[0.6666666666666666,\"#ed7953\"],[0.7777777777777778,\"#fb9f3a\"],[0.8888888888888888,\"#fdca26\"],[1.0,\"#f0f921\"]],\"type\":\"heatmap\"}],\"histogram2dcontour\":[{\"colorbar\":{\"outlinewidth\":0,\"ticks\":\"\"},\"colorscale\":[[0.0,\"#0d0887\"],[0.1111111111111111,\"#46039f\"],[0.2222222222222222,\"#7201a8\"],[0.3333333333333333,\"#9c179e\"],[0.4444444444444444,\"#bd3786\"],[0.5555555555555556,\"#d8576b\"],[0.6666666666666666,\"#ed7953\"],[0.7777777777777778,\"#fb9f3a\"],[0.8888888888888888,\"#fdca26\"],[1.0,\"#f0f921\"]],\"type\":\"histogram2dcontour\"}],\"histogram2d\":[{\"colorbar\":{\"outlinewidth\":0,\"ticks\":\"\"},\"colorscale\":[[0.0,\"#0d0887\"],[0.1111111111111111,\"#46039f\"],[0.2222222222222222,\"#7201a8\"],[0.3333333333333333,\"#9c179e\"],[0.4444444444444444,\"#bd3786\"],[0.5555555555555556,\"#d8576b\"],[0.6666666666666666,\"#ed7953\"],[0.7777777777777778,\"#fb9f3a\"],[0.8888888888888888,\"#fdca26\"],[1.0,\"#f0f921\"]],\"type\":\"histogram2d\"}],\"histogram\":[{\"marker\":{\"pattern\":{\"fillmode\":\"overlay\",\"size\":10,\"solidity\":0.2}},\"type\":\"histogram\"}],\"mesh3d\":[{\"colorbar\":{\"outlinewidth\":0,\"ticks\":\"\"},\"type\":\"mesh3d\"}],\"parcoords\":[{\"line\":{\"colorbar\":{\"outlinewidth\":0,\"ticks\":\"\"}},\"type\":\"parcoords\"}],\"pie\":[{\"automargin\":true,\"type\":\"pie\"}],\"scatter3d\":[{\"line\":{\"colorbar\":{\"outlinewidth\":0,\"ticks\":\"\"}},\"marker\":{\"colorbar\":{\"outlinewidth\":0,\"ticks\":\"\"}},\"type\":\"scatter3d\"}],\"scattercarpet\":[{\"marker\":{\"colorbar\":{\"outlinewidth\":0,\"ticks\":\"\"}},\"type\":\"scattercarpet\"}],\"scattergeo\":[{\"marker\":{\"colorbar\":{\"outlinewidth\":0,\"ticks\":\"\"}},\"type\":\"scattergeo\"}],\"scattergl\":[{\"marker\":{\"colorbar\":{\"outlinewidth\":0,\"ticks\":\"\"}},\"type\":\"scattergl\"}],\"scattermapbox\":[{\"marker\":{\"colorbar\":{\"outlinewidth\":0,\"ticks\":\"\"}},\"type\":\"scattermapbox\"}],\"scatterpolargl\":[{\"marker\":{\"colorbar\":{\"outlinewidth\":0,\"ticks\":\"\"}},\"type\":\"scatterpolargl\"}],\"scatterpolar\":[{\"marker\":{\"colorbar\":{\"outlinewidth\":0,\"ticks\":\"\"}},\"type\":\"scatterpolar\"}],\"scatter\":[{\"fillpattern\":{\"fillmode\":\"overlay\",\"size\":10,\"solidity\":0.2},\"type\":\"scatter\"}],\"scatterternary\":[{\"marker\":{\"colorbar\":{\"outlinewidth\":0,\"ticks\":\"\"}},\"type\":\"scatterternary\"}],\"surface\":[{\"colorbar\":{\"outlinewidth\":0,\"ticks\":\"\"},\"colorscale\":[[0.0,\"#0d0887\"],[0.1111111111111111,\"#46039f\"],[0.2222222222222222,\"#7201a8\"],[0.3333333333333333,\"#9c179e\"],[0.4444444444444444,\"#bd3786\"],[0.5555555555555556,\"#d8576b\"],[0.6666666666666666,\"#ed7953\"],[0.7777777777777778,\"#fb9f3a\"],[0.8888888888888888,\"#fdca26\"],[1.0,\"#f0f921\"]],\"type\":\"surface\"}],\"table\":[{\"cells\":{\"fill\":{\"color\":\"#EBF0F8\"},\"line\":{\"color\":\"white\"}},\"header\":{\"fill\":{\"color\":\"#C8D4E3\"},\"line\":{\"color\":\"white\"}},\"type\":\"table\"}]},\"layout\":{\"annotationdefaults\":{\"arrowcolor\":\"#2a3f5f\",\"arrowhead\":0,\"arrowwidth\":1},\"autotypenumbers\":\"strict\",\"coloraxis\":{\"colorbar\":{\"outlinewidth\":0,\"ticks\":\"\"}},\"colorscale\":{\"diverging\":[[0,\"#8e0152\"],[0.1,\"#c51b7d\"],[0.2,\"#de77ae\"],[0.3,\"#f1b6da\"],[0.4,\"#fde0ef\"],[0.5,\"#f7f7f7\"],[0.6,\"#e6f5d0\"],[0.7,\"#b8e186\"],[0.8,\"#7fbc41\"],[0.9,\"#4d9221\"],[1,\"#276419\"]],\"sequential\":[[0.0,\"#0d0887\"],[0.1111111111111111,\"#46039f\"],[0.2222222222222222,\"#7201a8\"],[0.3333333333333333,\"#9c179e\"],[0.4444444444444444,\"#bd3786\"],[0.5555555555555556,\"#d8576b\"],[0.6666666666666666,\"#ed7953\"],[0.7777777777777778,\"#fb9f3a\"],[0.8888888888888888,\"#fdca26\"],[1.0,\"#f0f921\"]],\"sequentialminus\":[[0.0,\"#0d0887\"],[0.1111111111111111,\"#46039f\"],[0.2222222222222222,\"#7201a8\"],[0.3333333333333333,\"#9c179e\"],[0.4444444444444444,\"#bd3786\"],[0.5555555555555556,\"#d8576b\"],[0.6666666666666666,\"#ed7953\"],[0.7777777777777778,\"#fb9f3a\"],[0.8888888888888888,\"#fdca26\"],[1.0,\"#f0f921\"]]},\"colorway\":[\"#636efa\",\"#EF553B\",\"#00cc96\",\"#ab63fa\",\"#FFA15A\",\"#19d3f3\",\"#FF6692\",\"#B6E880\",\"#FF97FF\",\"#FECB52\"],\"font\":{\"color\":\"#2a3f5f\"},\"geo\":{\"bgcolor\":\"white\",\"lakecolor\":\"white\",\"landcolor\":\"#E5ECF6\",\"showlakes\":true,\"showland\":true,\"subunitcolor\":\"white\"},\"hoverlabel\":{\"align\":\"left\"},\"hovermode\":\"closest\",\"mapbox\":{\"style\":\"light\"},\"paper_bgcolor\":\"white\",\"plot_bgcolor\":\"#E5ECF6\",\"polar\":{\"angularaxis\":{\"gridcolor\":\"white\",\"linecolor\":\"white\",\"ticks\":\"\"},\"bgcolor\":\"#E5ECF6\",\"radialaxis\":{\"gridcolor\":\"white\",\"linecolor\":\"white\",\"ticks\":\"\"}},\"scene\":{\"xaxis\":{\"backgroundcolor\":\"#E5ECF6\",\"gridcolor\":\"white\",\"gridwidth\":2,\"linecolor\":\"white\",\"showbackground\":true,\"ticks\":\"\",\"zerolinecolor\":\"white\"},\"yaxis\":{\"backgroundcolor\":\"#E5ECF6\",\"gridcolor\":\"white\",\"gridwidth\":2,\"linecolor\":\"white\",\"showbackground\":true,\"ticks\":\"\",\"zerolinecolor\":\"white\"},\"zaxis\":{\"backgroundcolor\":\"#E5ECF6\",\"gridcolor\":\"white\",\"gridwidth\":2,\"linecolor\":\"white\",\"showbackground\":true,\"ticks\":\"\",\"zerolinecolor\":\"white\"}},\"shapedefaults\":{\"line\":{\"color\":\"#2a3f5f\"}},\"ternary\":{\"aaxis\":{\"gridcolor\":\"white\",\"linecolor\":\"white\",\"ticks\":\"\"},\"baxis\":{\"gridcolor\":\"white\",\"linecolor\":\"white\",\"ticks\":\"\"},\"bgcolor\":\"#E5ECF6\",\"caxis\":{\"gridcolor\":\"white\",\"linecolor\":\"white\",\"ticks\":\"\"}},\"title\":{\"x\":0.05},\"xaxis\":{\"automargin\":true,\"gridcolor\":\"white\",\"linecolor\":\"white\",\"ticks\":\"\",\"title\":{\"standoff\":15},\"zerolinecolor\":\"white\",\"zerolinewidth\":2},\"yaxis\":{\"automargin\":true,\"gridcolor\":\"white\",\"linecolor\":\"white\",\"ticks\":\"\",\"title\":{\"standoff\":15},\"zerolinecolor\":\"white\",\"zerolinewidth\":2}}},\"title\":{\"font\":{\"color\":\"#4D5663\"}},\"xaxis\":{\"gridcolor\":\"#E1E5ED\",\"showgrid\":true,\"tickfont\":{\"color\":\"#4D5663\"},\"title\":{\"font\":{\"color\":\"#4D5663\"},\"text\":\"\"},\"zerolinecolor\":\"#E1E5ED\"},\"yaxis\":{\"gridcolor\":\"#E1E5ED\",\"showgrid\":true,\"tickfont\":{\"color\":\"#4D5663\"},\"title\":{\"font\":{\"color\":\"#4D5663\"},\"text\":\"\"},\"zerolinecolor\":\"#E1E5ED\"}},                        {\"showLink\": true, \"linkText\": \"Export to plot.ly\", \"plotlyServerURL\": \"https://plot.ly\", \"responsive\": true}                    ).then(function(){\n",
       "                            \n",
       "var gd = document.getElementById('47062b60-8163-47b1-854b-813fab88d25d');\n",
       "var x = new MutationObserver(function (mutations, observer) {{\n",
       "        var display = window.getComputedStyle(gd).display;\n",
       "        if (!display || display === 'none') {{\n",
       "            console.log([gd, 'removed!']);\n",
       "            Plotly.purge(gd);\n",
       "            observer.disconnect();\n",
       "        }}\n",
       "}});\n",
       "\n",
       "// Listen for the removal of the full notebook cells\n",
       "var notebookContainer = gd.closest('#notebook-container');\n",
       "if (notebookContainer) {{\n",
       "    x.observe(notebookContainer, {childList: true});\n",
       "}}\n",
       "\n",
       "// Listen for the clearing of the current output cell\n",
       "var outputEl = gd.closest('.output');\n",
       "if (outputEl) {{\n",
       "    x.observe(outputEl, {childList: true});\n",
       "}}\n",
       "\n",
       "                        })                };                });            </script>        </div>"
      ]
     },
     "metadata": {},
     "output_type": "display_data"
    }
   ],
   "source": [
    "df.iplot(kind='scatter', x='A', y='B', mode='markers', size = 20, color='red')"
   ]
  },
  {
   "cell_type": "code",
   "execution_count": 26,
   "id": "7e1bb144",
   "metadata": {
    "ExecuteTime": {
     "end_time": "2023-01-12T17:24:24.329659Z",
     "start_time": "2023-01-12T17:24:24.276638Z"
    }
   },
   "outputs": [
    {
     "data": {
      "application/vnd.plotly.v1+json": {
       "config": {
        "linkText": "Export to plot.ly",
        "plotlyServerURL": "https://plot.ly",
        "showLink": true
       },
       "data": [
        {
         "marker": {
          "color": "rgba(255, 153, 51, 0.6)",
          "line": {
           "color": "rgba(255, 153, 51, 1.0)",
           "width": 1
          }
         },
         "name": "Values",
         "orientation": "v",
         "text": "",
         "type": "bar",
         "x": [
          "A",
          "B",
          "C"
         ],
         "y": [
          32,
          43,
          50
         ]
        }
       ],
       "layout": {
        "legend": {
         "bgcolor": "#F5F6F9",
         "font": {
          "color": "#4D5663"
         }
        },
        "paper_bgcolor": "#F5F6F9",
        "plot_bgcolor": "#F5F6F9",
        "template": {
         "data": {
          "bar": [
           {
            "error_x": {
             "color": "#2a3f5f"
            },
            "error_y": {
             "color": "#2a3f5f"
            },
            "marker": {
             "line": {
              "color": "#E5ECF6",
              "width": 0.5
             },
             "pattern": {
              "fillmode": "overlay",
              "size": 10,
              "solidity": 0.2
             }
            },
            "type": "bar"
           }
          ],
          "barpolar": [
           {
            "marker": {
             "line": {
              "color": "#E5ECF6",
              "width": 0.5
             },
             "pattern": {
              "fillmode": "overlay",
              "size": 10,
              "solidity": 0.2
             }
            },
            "type": "barpolar"
           }
          ],
          "carpet": [
           {
            "aaxis": {
             "endlinecolor": "#2a3f5f",
             "gridcolor": "white",
             "linecolor": "white",
             "minorgridcolor": "white",
             "startlinecolor": "#2a3f5f"
            },
            "baxis": {
             "endlinecolor": "#2a3f5f",
             "gridcolor": "white",
             "linecolor": "white",
             "minorgridcolor": "white",
             "startlinecolor": "#2a3f5f"
            },
            "type": "carpet"
           }
          ],
          "choropleth": [
           {
            "colorbar": {
             "outlinewidth": 0,
             "ticks": ""
            },
            "type": "choropleth"
           }
          ],
          "contour": [
           {
            "colorbar": {
             "outlinewidth": 0,
             "ticks": ""
            },
            "colorscale": [
             [
              0,
              "#0d0887"
             ],
             [
              0.1111111111111111,
              "#46039f"
             ],
             [
              0.2222222222222222,
              "#7201a8"
             ],
             [
              0.3333333333333333,
              "#9c179e"
             ],
             [
              0.4444444444444444,
              "#bd3786"
             ],
             [
              0.5555555555555556,
              "#d8576b"
             ],
             [
              0.6666666666666666,
              "#ed7953"
             ],
             [
              0.7777777777777778,
              "#fb9f3a"
             ],
             [
              0.8888888888888888,
              "#fdca26"
             ],
             [
              1,
              "#f0f921"
             ]
            ],
            "type": "contour"
           }
          ],
          "contourcarpet": [
           {
            "colorbar": {
             "outlinewidth": 0,
             "ticks": ""
            },
            "type": "contourcarpet"
           }
          ],
          "heatmap": [
           {
            "colorbar": {
             "outlinewidth": 0,
             "ticks": ""
            },
            "colorscale": [
             [
              0,
              "#0d0887"
             ],
             [
              0.1111111111111111,
              "#46039f"
             ],
             [
              0.2222222222222222,
              "#7201a8"
             ],
             [
              0.3333333333333333,
              "#9c179e"
             ],
             [
              0.4444444444444444,
              "#bd3786"
             ],
             [
              0.5555555555555556,
              "#d8576b"
             ],
             [
              0.6666666666666666,
              "#ed7953"
             ],
             [
              0.7777777777777778,
              "#fb9f3a"
             ],
             [
              0.8888888888888888,
              "#fdca26"
             ],
             [
              1,
              "#f0f921"
             ]
            ],
            "type": "heatmap"
           }
          ],
          "heatmapgl": [
           {
            "colorbar": {
             "outlinewidth": 0,
             "ticks": ""
            },
            "colorscale": [
             [
              0,
              "#0d0887"
             ],
             [
              0.1111111111111111,
              "#46039f"
             ],
             [
              0.2222222222222222,
              "#7201a8"
             ],
             [
              0.3333333333333333,
              "#9c179e"
             ],
             [
              0.4444444444444444,
              "#bd3786"
             ],
             [
              0.5555555555555556,
              "#d8576b"
             ],
             [
              0.6666666666666666,
              "#ed7953"
             ],
             [
              0.7777777777777778,
              "#fb9f3a"
             ],
             [
              0.8888888888888888,
              "#fdca26"
             ],
             [
              1,
              "#f0f921"
             ]
            ],
            "type": "heatmapgl"
           }
          ],
          "histogram": [
           {
            "marker": {
             "pattern": {
              "fillmode": "overlay",
              "size": 10,
              "solidity": 0.2
             }
            },
            "type": "histogram"
           }
          ],
          "histogram2d": [
           {
            "colorbar": {
             "outlinewidth": 0,
             "ticks": ""
            },
            "colorscale": [
             [
              0,
              "#0d0887"
             ],
             [
              0.1111111111111111,
              "#46039f"
             ],
             [
              0.2222222222222222,
              "#7201a8"
             ],
             [
              0.3333333333333333,
              "#9c179e"
             ],
             [
              0.4444444444444444,
              "#bd3786"
             ],
             [
              0.5555555555555556,
              "#d8576b"
             ],
             [
              0.6666666666666666,
              "#ed7953"
             ],
             [
              0.7777777777777778,
              "#fb9f3a"
             ],
             [
              0.8888888888888888,
              "#fdca26"
             ],
             [
              1,
              "#f0f921"
             ]
            ],
            "type": "histogram2d"
           }
          ],
          "histogram2dcontour": [
           {
            "colorbar": {
             "outlinewidth": 0,
             "ticks": ""
            },
            "colorscale": [
             [
              0,
              "#0d0887"
             ],
             [
              0.1111111111111111,
              "#46039f"
             ],
             [
              0.2222222222222222,
              "#7201a8"
             ],
             [
              0.3333333333333333,
              "#9c179e"
             ],
             [
              0.4444444444444444,
              "#bd3786"
             ],
             [
              0.5555555555555556,
              "#d8576b"
             ],
             [
              0.6666666666666666,
              "#ed7953"
             ],
             [
              0.7777777777777778,
              "#fb9f3a"
             ],
             [
              0.8888888888888888,
              "#fdca26"
             ],
             [
              1,
              "#f0f921"
             ]
            ],
            "type": "histogram2dcontour"
           }
          ],
          "mesh3d": [
           {
            "colorbar": {
             "outlinewidth": 0,
             "ticks": ""
            },
            "type": "mesh3d"
           }
          ],
          "parcoords": [
           {
            "line": {
             "colorbar": {
              "outlinewidth": 0,
              "ticks": ""
             }
            },
            "type": "parcoords"
           }
          ],
          "pie": [
           {
            "automargin": true,
            "type": "pie"
           }
          ],
          "scatter": [
           {
            "fillpattern": {
             "fillmode": "overlay",
             "size": 10,
             "solidity": 0.2
            },
            "type": "scatter"
           }
          ],
          "scatter3d": [
           {
            "line": {
             "colorbar": {
              "outlinewidth": 0,
              "ticks": ""
             }
            },
            "marker": {
             "colorbar": {
              "outlinewidth": 0,
              "ticks": ""
             }
            },
            "type": "scatter3d"
           }
          ],
          "scattercarpet": [
           {
            "marker": {
             "colorbar": {
              "outlinewidth": 0,
              "ticks": ""
             }
            },
            "type": "scattercarpet"
           }
          ],
          "scattergeo": [
           {
            "marker": {
             "colorbar": {
              "outlinewidth": 0,
              "ticks": ""
             }
            },
            "type": "scattergeo"
           }
          ],
          "scattergl": [
           {
            "marker": {
             "colorbar": {
              "outlinewidth": 0,
              "ticks": ""
             }
            },
            "type": "scattergl"
           }
          ],
          "scattermapbox": [
           {
            "marker": {
             "colorbar": {
              "outlinewidth": 0,
              "ticks": ""
             }
            },
            "type": "scattermapbox"
           }
          ],
          "scatterpolar": [
           {
            "marker": {
             "colorbar": {
              "outlinewidth": 0,
              "ticks": ""
             }
            },
            "type": "scatterpolar"
           }
          ],
          "scatterpolargl": [
           {
            "marker": {
             "colorbar": {
              "outlinewidth": 0,
              "ticks": ""
             }
            },
            "type": "scatterpolargl"
           }
          ],
          "scatterternary": [
           {
            "marker": {
             "colorbar": {
              "outlinewidth": 0,
              "ticks": ""
             }
            },
            "type": "scatterternary"
           }
          ],
          "surface": [
           {
            "colorbar": {
             "outlinewidth": 0,
             "ticks": ""
            },
            "colorscale": [
             [
              0,
              "#0d0887"
             ],
             [
              0.1111111111111111,
              "#46039f"
             ],
             [
              0.2222222222222222,
              "#7201a8"
             ],
             [
              0.3333333333333333,
              "#9c179e"
             ],
             [
              0.4444444444444444,
              "#bd3786"
             ],
             [
              0.5555555555555556,
              "#d8576b"
             ],
             [
              0.6666666666666666,
              "#ed7953"
             ],
             [
              0.7777777777777778,
              "#fb9f3a"
             ],
             [
              0.8888888888888888,
              "#fdca26"
             ],
             [
              1,
              "#f0f921"
             ]
            ],
            "type": "surface"
           }
          ],
          "table": [
           {
            "cells": {
             "fill": {
              "color": "#EBF0F8"
             },
             "line": {
              "color": "white"
             }
            },
            "header": {
             "fill": {
              "color": "#C8D4E3"
             },
             "line": {
              "color": "white"
             }
            },
            "type": "table"
           }
          ]
         },
         "layout": {
          "annotationdefaults": {
           "arrowcolor": "#2a3f5f",
           "arrowhead": 0,
           "arrowwidth": 1
          },
          "autotypenumbers": "strict",
          "coloraxis": {
           "colorbar": {
            "outlinewidth": 0,
            "ticks": ""
           }
          },
          "colorscale": {
           "diverging": [
            [
             0,
             "#8e0152"
            ],
            [
             0.1,
             "#c51b7d"
            ],
            [
             0.2,
             "#de77ae"
            ],
            [
             0.3,
             "#f1b6da"
            ],
            [
             0.4,
             "#fde0ef"
            ],
            [
             0.5,
             "#f7f7f7"
            ],
            [
             0.6,
             "#e6f5d0"
            ],
            [
             0.7,
             "#b8e186"
            ],
            [
             0.8,
             "#7fbc41"
            ],
            [
             0.9,
             "#4d9221"
            ],
            [
             1,
             "#276419"
            ]
           ],
           "sequential": [
            [
             0,
             "#0d0887"
            ],
            [
             0.1111111111111111,
             "#46039f"
            ],
            [
             0.2222222222222222,
             "#7201a8"
            ],
            [
             0.3333333333333333,
             "#9c179e"
            ],
            [
             0.4444444444444444,
             "#bd3786"
            ],
            [
             0.5555555555555556,
             "#d8576b"
            ],
            [
             0.6666666666666666,
             "#ed7953"
            ],
            [
             0.7777777777777778,
             "#fb9f3a"
            ],
            [
             0.8888888888888888,
             "#fdca26"
            ],
            [
             1,
             "#f0f921"
            ]
           ],
           "sequentialminus": [
            [
             0,
             "#0d0887"
            ],
            [
             0.1111111111111111,
             "#46039f"
            ],
            [
             0.2222222222222222,
             "#7201a8"
            ],
            [
             0.3333333333333333,
             "#9c179e"
            ],
            [
             0.4444444444444444,
             "#bd3786"
            ],
            [
             0.5555555555555556,
             "#d8576b"
            ],
            [
             0.6666666666666666,
             "#ed7953"
            ],
            [
             0.7777777777777778,
             "#fb9f3a"
            ],
            [
             0.8888888888888888,
             "#fdca26"
            ],
            [
             1,
             "#f0f921"
            ]
           ]
          },
          "colorway": [
           "#636efa",
           "#EF553B",
           "#00cc96",
           "#ab63fa",
           "#FFA15A",
           "#19d3f3",
           "#FF6692",
           "#B6E880",
           "#FF97FF",
           "#FECB52"
          ],
          "font": {
           "color": "#2a3f5f"
          },
          "geo": {
           "bgcolor": "white",
           "lakecolor": "white",
           "landcolor": "#E5ECF6",
           "showlakes": true,
           "showland": true,
           "subunitcolor": "white"
          },
          "hoverlabel": {
           "align": "left"
          },
          "hovermode": "closest",
          "mapbox": {
           "style": "light"
          },
          "paper_bgcolor": "white",
          "plot_bgcolor": "#E5ECF6",
          "polar": {
           "angularaxis": {
            "gridcolor": "white",
            "linecolor": "white",
            "ticks": ""
           },
           "bgcolor": "#E5ECF6",
           "radialaxis": {
            "gridcolor": "white",
            "linecolor": "white",
            "ticks": ""
           }
          },
          "scene": {
           "xaxis": {
            "backgroundcolor": "#E5ECF6",
            "gridcolor": "white",
            "gridwidth": 2,
            "linecolor": "white",
            "showbackground": true,
            "ticks": "",
            "zerolinecolor": "white"
           },
           "yaxis": {
            "backgroundcolor": "#E5ECF6",
            "gridcolor": "white",
            "gridwidth": 2,
            "linecolor": "white",
            "showbackground": true,
            "ticks": "",
            "zerolinecolor": "white"
           },
           "zaxis": {
            "backgroundcolor": "#E5ECF6",
            "gridcolor": "white",
            "gridwidth": 2,
            "linecolor": "white",
            "showbackground": true,
            "ticks": "",
            "zerolinecolor": "white"
           }
          },
          "shapedefaults": {
           "line": {
            "color": "#2a3f5f"
           }
          },
          "ternary": {
           "aaxis": {
            "gridcolor": "white",
            "linecolor": "white",
            "ticks": ""
           },
           "baxis": {
            "gridcolor": "white",
            "linecolor": "white",
            "ticks": ""
           },
           "bgcolor": "#E5ECF6",
           "caxis": {
            "gridcolor": "white",
            "linecolor": "white",
            "ticks": ""
           }
          },
          "title": {
           "x": 0.05
          },
          "xaxis": {
           "automargin": true,
           "gridcolor": "white",
           "linecolor": "white",
           "ticks": "",
           "title": {
            "standoff": 15
           },
           "zerolinecolor": "white",
           "zerolinewidth": 2
          },
          "yaxis": {
           "automargin": true,
           "gridcolor": "white",
           "linecolor": "white",
           "ticks": "",
           "title": {
            "standoff": 15
           },
           "zerolinecolor": "white",
           "zerolinewidth": 2
          }
         }
        },
        "title": {
         "font": {
          "color": "#4D5663"
         }
        },
        "xaxis": {
         "gridcolor": "#E1E5ED",
         "showgrid": true,
         "tickfont": {
          "color": "#4D5663"
         },
         "title": {
          "font": {
           "color": "#4D5663"
          },
          "text": ""
         },
         "zerolinecolor": "#E1E5ED"
        },
        "yaxis": {
         "gridcolor": "#E1E5ED",
         "showgrid": true,
         "tickfont": {
          "color": "#4D5663"
         },
         "title": {
          "font": {
           "color": "#4D5663"
          },
          "text": ""
         },
         "zerolinecolor": "#E1E5ED"
        }
       }
      },
      "text/html": [
       "<div>                            <div id=\"c22d29ff-b9b6-4b9b-aad9-c60ea0f449aa\" class=\"plotly-graph-div\" style=\"height:525px; width:100%;\"></div>            <script type=\"text/javascript\">                require([\"plotly\"], function(Plotly) {                    window.PLOTLYENV=window.PLOTLYENV || {};\n",
       "                    window.PLOTLYENV.BASE_URL='https://plot.ly';                                    if (document.getElementById(\"c22d29ff-b9b6-4b9b-aad9-c60ea0f449aa\")) {                    Plotly.newPlot(                        \"c22d29ff-b9b6-4b9b-aad9-c60ea0f449aa\",                        [{\"marker\":{\"color\":\"rgba(255, 153, 51, 0.6)\",\"line\":{\"color\":\"rgba(255, 153, 51, 1.0)\",\"width\":1}},\"name\":\"Values\",\"orientation\":\"v\",\"text\":\"\",\"x\":[\"A\",\"B\",\"C\"],\"y\":[32,43,50],\"type\":\"bar\"}],                        {\"legend\":{\"bgcolor\":\"#F5F6F9\",\"font\":{\"color\":\"#4D5663\"}},\"paper_bgcolor\":\"#F5F6F9\",\"plot_bgcolor\":\"#F5F6F9\",\"template\":{\"data\":{\"barpolar\":[{\"marker\":{\"line\":{\"color\":\"#E5ECF6\",\"width\":0.5},\"pattern\":{\"fillmode\":\"overlay\",\"size\":10,\"solidity\":0.2}},\"type\":\"barpolar\"}],\"bar\":[{\"error_x\":{\"color\":\"#2a3f5f\"},\"error_y\":{\"color\":\"#2a3f5f\"},\"marker\":{\"line\":{\"color\":\"#E5ECF6\",\"width\":0.5},\"pattern\":{\"fillmode\":\"overlay\",\"size\":10,\"solidity\":0.2}},\"type\":\"bar\"}],\"carpet\":[{\"aaxis\":{\"endlinecolor\":\"#2a3f5f\",\"gridcolor\":\"white\",\"linecolor\":\"white\",\"minorgridcolor\":\"white\",\"startlinecolor\":\"#2a3f5f\"},\"baxis\":{\"endlinecolor\":\"#2a3f5f\",\"gridcolor\":\"white\",\"linecolor\":\"white\",\"minorgridcolor\":\"white\",\"startlinecolor\":\"#2a3f5f\"},\"type\":\"carpet\"}],\"choropleth\":[{\"colorbar\":{\"outlinewidth\":0,\"ticks\":\"\"},\"type\":\"choropleth\"}],\"contourcarpet\":[{\"colorbar\":{\"outlinewidth\":0,\"ticks\":\"\"},\"type\":\"contourcarpet\"}],\"contour\":[{\"colorbar\":{\"outlinewidth\":0,\"ticks\":\"\"},\"colorscale\":[[0.0,\"#0d0887\"],[0.1111111111111111,\"#46039f\"],[0.2222222222222222,\"#7201a8\"],[0.3333333333333333,\"#9c179e\"],[0.4444444444444444,\"#bd3786\"],[0.5555555555555556,\"#d8576b\"],[0.6666666666666666,\"#ed7953\"],[0.7777777777777778,\"#fb9f3a\"],[0.8888888888888888,\"#fdca26\"],[1.0,\"#f0f921\"]],\"type\":\"contour\"}],\"heatmapgl\":[{\"colorbar\":{\"outlinewidth\":0,\"ticks\":\"\"},\"colorscale\":[[0.0,\"#0d0887\"],[0.1111111111111111,\"#46039f\"],[0.2222222222222222,\"#7201a8\"],[0.3333333333333333,\"#9c179e\"],[0.4444444444444444,\"#bd3786\"],[0.5555555555555556,\"#d8576b\"],[0.6666666666666666,\"#ed7953\"],[0.7777777777777778,\"#fb9f3a\"],[0.8888888888888888,\"#fdca26\"],[1.0,\"#f0f921\"]],\"type\":\"heatmapgl\"}],\"heatmap\":[{\"colorbar\":{\"outlinewidth\":0,\"ticks\":\"\"},\"colorscale\":[[0.0,\"#0d0887\"],[0.1111111111111111,\"#46039f\"],[0.2222222222222222,\"#7201a8\"],[0.3333333333333333,\"#9c179e\"],[0.4444444444444444,\"#bd3786\"],[0.5555555555555556,\"#d8576b\"],[0.6666666666666666,\"#ed7953\"],[0.7777777777777778,\"#fb9f3a\"],[0.8888888888888888,\"#fdca26\"],[1.0,\"#f0f921\"]],\"type\":\"heatmap\"}],\"histogram2dcontour\":[{\"colorbar\":{\"outlinewidth\":0,\"ticks\":\"\"},\"colorscale\":[[0.0,\"#0d0887\"],[0.1111111111111111,\"#46039f\"],[0.2222222222222222,\"#7201a8\"],[0.3333333333333333,\"#9c179e\"],[0.4444444444444444,\"#bd3786\"],[0.5555555555555556,\"#d8576b\"],[0.6666666666666666,\"#ed7953\"],[0.7777777777777778,\"#fb9f3a\"],[0.8888888888888888,\"#fdca26\"],[1.0,\"#f0f921\"]],\"type\":\"histogram2dcontour\"}],\"histogram2d\":[{\"colorbar\":{\"outlinewidth\":0,\"ticks\":\"\"},\"colorscale\":[[0.0,\"#0d0887\"],[0.1111111111111111,\"#46039f\"],[0.2222222222222222,\"#7201a8\"],[0.3333333333333333,\"#9c179e\"],[0.4444444444444444,\"#bd3786\"],[0.5555555555555556,\"#d8576b\"],[0.6666666666666666,\"#ed7953\"],[0.7777777777777778,\"#fb9f3a\"],[0.8888888888888888,\"#fdca26\"],[1.0,\"#f0f921\"]],\"type\":\"histogram2d\"}],\"histogram\":[{\"marker\":{\"pattern\":{\"fillmode\":\"overlay\",\"size\":10,\"solidity\":0.2}},\"type\":\"histogram\"}],\"mesh3d\":[{\"colorbar\":{\"outlinewidth\":0,\"ticks\":\"\"},\"type\":\"mesh3d\"}],\"parcoords\":[{\"line\":{\"colorbar\":{\"outlinewidth\":0,\"ticks\":\"\"}},\"type\":\"parcoords\"}],\"pie\":[{\"automargin\":true,\"type\":\"pie\"}],\"scatter3d\":[{\"line\":{\"colorbar\":{\"outlinewidth\":0,\"ticks\":\"\"}},\"marker\":{\"colorbar\":{\"outlinewidth\":0,\"ticks\":\"\"}},\"type\":\"scatter3d\"}],\"scattercarpet\":[{\"marker\":{\"colorbar\":{\"outlinewidth\":0,\"ticks\":\"\"}},\"type\":\"scattercarpet\"}],\"scattergeo\":[{\"marker\":{\"colorbar\":{\"outlinewidth\":0,\"ticks\":\"\"}},\"type\":\"scattergeo\"}],\"scattergl\":[{\"marker\":{\"colorbar\":{\"outlinewidth\":0,\"ticks\":\"\"}},\"type\":\"scattergl\"}],\"scattermapbox\":[{\"marker\":{\"colorbar\":{\"outlinewidth\":0,\"ticks\":\"\"}},\"type\":\"scattermapbox\"}],\"scatterpolargl\":[{\"marker\":{\"colorbar\":{\"outlinewidth\":0,\"ticks\":\"\"}},\"type\":\"scatterpolargl\"}],\"scatterpolar\":[{\"marker\":{\"colorbar\":{\"outlinewidth\":0,\"ticks\":\"\"}},\"type\":\"scatterpolar\"}],\"scatter\":[{\"fillpattern\":{\"fillmode\":\"overlay\",\"size\":10,\"solidity\":0.2},\"type\":\"scatter\"}],\"scatterternary\":[{\"marker\":{\"colorbar\":{\"outlinewidth\":0,\"ticks\":\"\"}},\"type\":\"scatterternary\"}],\"surface\":[{\"colorbar\":{\"outlinewidth\":0,\"ticks\":\"\"},\"colorscale\":[[0.0,\"#0d0887\"],[0.1111111111111111,\"#46039f\"],[0.2222222222222222,\"#7201a8\"],[0.3333333333333333,\"#9c179e\"],[0.4444444444444444,\"#bd3786\"],[0.5555555555555556,\"#d8576b\"],[0.6666666666666666,\"#ed7953\"],[0.7777777777777778,\"#fb9f3a\"],[0.8888888888888888,\"#fdca26\"],[1.0,\"#f0f921\"]],\"type\":\"surface\"}],\"table\":[{\"cells\":{\"fill\":{\"color\":\"#EBF0F8\"},\"line\":{\"color\":\"white\"}},\"header\":{\"fill\":{\"color\":\"#C8D4E3\"},\"line\":{\"color\":\"white\"}},\"type\":\"table\"}]},\"layout\":{\"annotationdefaults\":{\"arrowcolor\":\"#2a3f5f\",\"arrowhead\":0,\"arrowwidth\":1},\"autotypenumbers\":\"strict\",\"coloraxis\":{\"colorbar\":{\"outlinewidth\":0,\"ticks\":\"\"}},\"colorscale\":{\"diverging\":[[0,\"#8e0152\"],[0.1,\"#c51b7d\"],[0.2,\"#de77ae\"],[0.3,\"#f1b6da\"],[0.4,\"#fde0ef\"],[0.5,\"#f7f7f7\"],[0.6,\"#e6f5d0\"],[0.7,\"#b8e186\"],[0.8,\"#7fbc41\"],[0.9,\"#4d9221\"],[1,\"#276419\"]],\"sequential\":[[0.0,\"#0d0887\"],[0.1111111111111111,\"#46039f\"],[0.2222222222222222,\"#7201a8\"],[0.3333333333333333,\"#9c179e\"],[0.4444444444444444,\"#bd3786\"],[0.5555555555555556,\"#d8576b\"],[0.6666666666666666,\"#ed7953\"],[0.7777777777777778,\"#fb9f3a\"],[0.8888888888888888,\"#fdca26\"],[1.0,\"#f0f921\"]],\"sequentialminus\":[[0.0,\"#0d0887\"],[0.1111111111111111,\"#46039f\"],[0.2222222222222222,\"#7201a8\"],[0.3333333333333333,\"#9c179e\"],[0.4444444444444444,\"#bd3786\"],[0.5555555555555556,\"#d8576b\"],[0.6666666666666666,\"#ed7953\"],[0.7777777777777778,\"#fb9f3a\"],[0.8888888888888888,\"#fdca26\"],[1.0,\"#f0f921\"]]},\"colorway\":[\"#636efa\",\"#EF553B\",\"#00cc96\",\"#ab63fa\",\"#FFA15A\",\"#19d3f3\",\"#FF6692\",\"#B6E880\",\"#FF97FF\",\"#FECB52\"],\"font\":{\"color\":\"#2a3f5f\"},\"geo\":{\"bgcolor\":\"white\",\"lakecolor\":\"white\",\"landcolor\":\"#E5ECF6\",\"showlakes\":true,\"showland\":true,\"subunitcolor\":\"white\"},\"hoverlabel\":{\"align\":\"left\"},\"hovermode\":\"closest\",\"mapbox\":{\"style\":\"light\"},\"paper_bgcolor\":\"white\",\"plot_bgcolor\":\"#E5ECF6\",\"polar\":{\"angularaxis\":{\"gridcolor\":\"white\",\"linecolor\":\"white\",\"ticks\":\"\"},\"bgcolor\":\"#E5ECF6\",\"radialaxis\":{\"gridcolor\":\"white\",\"linecolor\":\"white\",\"ticks\":\"\"}},\"scene\":{\"xaxis\":{\"backgroundcolor\":\"#E5ECF6\",\"gridcolor\":\"white\",\"gridwidth\":2,\"linecolor\":\"white\",\"showbackground\":true,\"ticks\":\"\",\"zerolinecolor\":\"white\"},\"yaxis\":{\"backgroundcolor\":\"#E5ECF6\",\"gridcolor\":\"white\",\"gridwidth\":2,\"linecolor\":\"white\",\"showbackground\":true,\"ticks\":\"\",\"zerolinecolor\":\"white\"},\"zaxis\":{\"backgroundcolor\":\"#E5ECF6\",\"gridcolor\":\"white\",\"gridwidth\":2,\"linecolor\":\"white\",\"showbackground\":true,\"ticks\":\"\",\"zerolinecolor\":\"white\"}},\"shapedefaults\":{\"line\":{\"color\":\"#2a3f5f\"}},\"ternary\":{\"aaxis\":{\"gridcolor\":\"white\",\"linecolor\":\"white\",\"ticks\":\"\"},\"baxis\":{\"gridcolor\":\"white\",\"linecolor\":\"white\",\"ticks\":\"\"},\"bgcolor\":\"#E5ECF6\",\"caxis\":{\"gridcolor\":\"white\",\"linecolor\":\"white\",\"ticks\":\"\"}},\"title\":{\"x\":0.05},\"xaxis\":{\"automargin\":true,\"gridcolor\":\"white\",\"linecolor\":\"white\",\"ticks\":\"\",\"title\":{\"standoff\":15},\"zerolinecolor\":\"white\",\"zerolinewidth\":2},\"yaxis\":{\"automargin\":true,\"gridcolor\":\"white\",\"linecolor\":\"white\",\"ticks\":\"\",\"title\":{\"standoff\":15},\"zerolinecolor\":\"white\",\"zerolinewidth\":2}}},\"title\":{\"font\":{\"color\":\"#4D5663\"}},\"xaxis\":{\"gridcolor\":\"#E1E5ED\",\"showgrid\":true,\"tickfont\":{\"color\":\"#4D5663\"},\"title\":{\"font\":{\"color\":\"#4D5663\"},\"text\":\"\"},\"zerolinecolor\":\"#E1E5ED\"},\"yaxis\":{\"gridcolor\":\"#E1E5ED\",\"showgrid\":true,\"tickfont\":{\"color\":\"#4D5663\"},\"title\":{\"font\":{\"color\":\"#4D5663\"},\"text\":\"\"},\"zerolinecolor\":\"#E1E5ED\"}},                        {\"showLink\": true, \"linkText\": \"Export to plot.ly\", \"plotlyServerURL\": \"https://plot.ly\", \"responsive\": true}                    ).then(function(){\n",
       "                            \n",
       "var gd = document.getElementById('c22d29ff-b9b6-4b9b-aad9-c60ea0f449aa');\n",
       "var x = new MutationObserver(function (mutations, observer) {{\n",
       "        var display = window.getComputedStyle(gd).display;\n",
       "        if (!display || display === 'none') {{\n",
       "            console.log([gd, 'removed!']);\n",
       "            Plotly.purge(gd);\n",
       "            observer.disconnect();\n",
       "        }}\n",
       "}});\n",
       "\n",
       "// Listen for the removal of the full notebook cells\n",
       "var notebookContainer = gd.closest('#notebook-container');\n",
       "if (notebookContainer) {{\n",
       "    x.observe(notebookContainer, {childList: true});\n",
       "}}\n",
       "\n",
       "// Listen for the clearing of the current output cell\n",
       "var outputEl = gd.closest('.output');\n",
       "if (outputEl) {{\n",
       "    x.observe(outputEl, {childList: true});\n",
       "}}\n",
       "\n",
       "                        })                };                });            </script>        </div>"
      ]
     },
     "metadata": {},
     "output_type": "display_data"
    }
   ],
   "source": [
    "df2.iplot(kind='bar', x='Category', y='Values')"
   ]
  },
  {
   "cell_type": "code",
   "execution_count": 27,
   "id": "4337d863",
   "metadata": {
    "ExecuteTime": {
     "end_time": "2023-01-12T17:25:12.496680Z",
     "start_time": "2023-01-12T17:25:12.476679Z"
    }
   },
   "outputs": [
    {
     "data": {
      "text/html": [
       "<div>\n",
       "<style scoped>\n",
       "    .dataframe tbody tr th:only-of-type {\n",
       "        vertical-align: middle;\n",
       "    }\n",
       "\n",
       "    .dataframe tbody tr th {\n",
       "        vertical-align: top;\n",
       "    }\n",
       "\n",
       "    .dataframe thead th {\n",
       "        text-align: right;\n",
       "    }\n",
       "</style>\n",
       "<table border=\"1\" class=\"dataframe\">\n",
       "  <thead>\n",
       "    <tr style=\"text-align: right;\">\n",
       "      <th></th>\n",
       "      <th>A</th>\n",
       "      <th>B</th>\n",
       "      <th>C</th>\n",
       "      <th>D</th>\n",
       "    </tr>\n",
       "  </thead>\n",
       "  <tbody>\n",
       "    <tr>\n",
       "      <th>0</th>\n",
       "      <td>0.375970</td>\n",
       "      <td>0.985071</td>\n",
       "      <td>1.362439</td>\n",
       "      <td>0.450813</td>\n",
       "    </tr>\n",
       "    <tr>\n",
       "      <th>1</th>\n",
       "      <td>-0.904850</td>\n",
       "      <td>0.989502</td>\n",
       "      <td>-0.094463</td>\n",
       "      <td>0.042154</td>\n",
       "    </tr>\n",
       "    <tr>\n",
       "      <th>2</th>\n",
       "      <td>0.857957</td>\n",
       "      <td>0.335222</td>\n",
       "      <td>0.120537</td>\n",
       "      <td>-1.051870</td>\n",
       "    </tr>\n",
       "    <tr>\n",
       "      <th>3</th>\n",
       "      <td>0.540082</td>\n",
       "      <td>0.382636</td>\n",
       "      <td>1.181725</td>\n",
       "      <td>0.350027</td>\n",
       "    </tr>\n",
       "    <tr>\n",
       "      <th>4</th>\n",
       "      <td>-1.307726</td>\n",
       "      <td>0.374579</td>\n",
       "      <td>0.647580</td>\n",
       "      <td>0.205803</td>\n",
       "    </tr>\n",
       "    <tr>\n",
       "      <th>...</th>\n",
       "      <td>...</td>\n",
       "      <td>...</td>\n",
       "      <td>...</td>\n",
       "      <td>...</td>\n",
       "    </tr>\n",
       "    <tr>\n",
       "      <th>95</th>\n",
       "      <td>0.950245</td>\n",
       "      <td>-0.888212</td>\n",
       "      <td>-1.547035</td>\n",
       "      <td>-0.445937</td>\n",
       "    </tr>\n",
       "    <tr>\n",
       "      <th>96</th>\n",
       "      <td>0.587553</td>\n",
       "      <td>0.072228</td>\n",
       "      <td>1.103155</td>\n",
       "      <td>-0.247344</td>\n",
       "    </tr>\n",
       "    <tr>\n",
       "      <th>97</th>\n",
       "      <td>1.575219</td>\n",
       "      <td>0.899747</td>\n",
       "      <td>-0.123764</td>\n",
       "      <td>0.610867</td>\n",
       "    </tr>\n",
       "    <tr>\n",
       "      <th>98</th>\n",
       "      <td>0.635589</td>\n",
       "      <td>0.123764</td>\n",
       "      <td>-0.844540</td>\n",
       "      <td>-0.611263</td>\n",
       "    </tr>\n",
       "    <tr>\n",
       "      <th>99</th>\n",
       "      <td>-0.843377</td>\n",
       "      <td>-2.104006</td>\n",
       "      <td>-1.199762</td>\n",
       "      <td>-1.568653</td>\n",
       "    </tr>\n",
       "  </tbody>\n",
       "</table>\n",
       "<p>100 rows × 4 columns</p>\n",
       "</div>"
      ],
      "text/plain": [
       "           A         B         C         D\n",
       "0   0.375970  0.985071  1.362439  0.450813\n",
       "1  -0.904850  0.989502 -0.094463  0.042154\n",
       "2   0.857957  0.335222  0.120537 -1.051870\n",
       "3   0.540082  0.382636  1.181725  0.350027\n",
       "4  -1.307726  0.374579  0.647580  0.205803\n",
       "..       ...       ...       ...       ...\n",
       "95  0.950245 -0.888212 -1.547035 -0.445937\n",
       "96  0.587553  0.072228  1.103155 -0.247344\n",
       "97  1.575219  0.899747 -0.123764  0.610867\n",
       "98  0.635589  0.123764 -0.844540 -0.611263\n",
       "99 -0.843377 -2.104006 -1.199762 -1.568653\n",
       "\n",
       "[100 rows x 4 columns]"
      ]
     },
     "execution_count": 27,
     "metadata": {},
     "output_type": "execute_result"
    }
   ],
   "source": [
    "df"
   ]
  },
  {
   "cell_type": "code",
   "execution_count": 28,
   "id": "16e56e4d",
   "metadata": {
    "ExecuteTime": {
     "end_time": "2023-01-12T17:25:32.806037Z",
     "start_time": "2023-01-12T17:25:32.735520Z"
    }
   },
   "outputs": [
    {
     "data": {
      "application/vnd.plotly.v1+json": {
       "config": {
        "linkText": "Export to plot.ly",
        "plotlyServerURL": "https://plot.ly",
        "showLink": true
       },
       "data": [
        {
         "marker": {
          "color": "rgba(255, 153, 51, 0.6)",
          "line": {
           "color": "rgba(255, 153, 51, 1.0)",
           "width": 1
          }
         },
         "name": "A",
         "orientation": "v",
         "text": "",
         "type": "bar",
         "x": [
          0,
          1,
          2,
          3,
          4,
          5,
          6,
          7,
          8,
          9,
          10,
          11,
          12,
          13,
          14,
          15,
          16,
          17,
          18,
          19,
          20,
          21,
          22,
          23,
          24,
          25,
          26,
          27,
          28,
          29,
          30,
          31,
          32,
          33,
          34,
          35,
          36,
          37,
          38,
          39,
          40,
          41,
          42,
          43,
          44,
          45,
          46,
          47,
          48,
          49,
          50,
          51,
          52,
          53,
          54,
          55,
          56,
          57,
          58,
          59,
          60,
          61,
          62,
          63,
          64,
          65,
          66,
          67,
          68,
          69,
          70,
          71,
          72,
          73,
          74,
          75,
          76,
          77,
          78,
          79,
          80,
          81,
          82,
          83,
          84,
          85,
          86,
          87,
          88,
          89,
          90,
          91,
          92,
          93,
          94,
          95,
          96,
          97,
          98,
          99
         ],
         "y": [
          0.37597005318765364,
          -0.9048495718966237,
          0.8579565711447589,
          0.5400822133171609,
          -1.3077258733358614,
          -0.5342628034790948,
          -0.4453140991222401,
          1.9149519217568853,
          -0.4298784428599787,
          -1.7408278622364468,
          0.08984730403796322,
          -0.7220639924502646,
          -0.661782077365756,
          -1.9313280548361829,
          1.0995235869258424,
          -2.2416909234475497,
          1.6556238846323768,
          0.4881773567676999,
          -0.24661995472311352,
          -1.0888515437052844,
          -0.3800838112965957,
          1.076085654409655,
          -1.6593557461777635,
          0.21297961644533725,
          -1.5805191546265278,
          -1.618813240069065,
          0.04667537628522792,
          -0.3292224638769374,
          -1.1251094929123244,
          0.4090802971009559,
          -1.3057982878541903,
          0.4551469096035381,
          -0.06954108892814388,
          1.2405533050281512,
          -1.2173275922137747,
          1.65140906115177,
          -0.049881944271718826,
          0.38147990711103064,
          -1.0977982075374673,
          -0.8695743896417516,
          -1.1401255024732972,
          -0.1858666165578455,
          0.49689378953900226,
          -1.7204814086558124,
          1.3439359237959083,
          0.4609679198043368,
          0.8667683379824784,
          0.532690330525514,
          0.95150358077794,
          1.250685572340651,
          -0.26943495020421604,
          0.09722637026800443,
          0.4088197644876183,
          0.39448931245833757,
          1.524689421116744,
          0.6826810268566323,
          -1.6830237912206034,
          0.6318572757177054,
          0.2712253471184101,
          0.5970364658727937,
          0.7659094762271283,
          0.1096216186670033,
          -0.9596009180692899,
          -0.27623561082193904,
          -0.2579137767261097,
          -1.5159322047196007,
          0.26460532519337004,
          -0.7291898945221118,
          0.41642299592662535,
          0.6316260731687413,
          0.26153263868151694,
          -1.0468931473485552,
          1.908267957100243,
          1.0344822555487396,
          -1.5724801942537763,
          0.3569898615943052,
          -0.5466895707445805,
          2.0376888472931776,
          0.3144215127715293,
          0.5138467978812578,
          1.819754268505688,
          0.36849994498834077,
          -0.15873092607185396,
          -1.0049529009052667,
          0.09150725192149144,
          0.5764277982327448,
          -1.4916678031268555,
          0.6889429161353486,
          -1.5340180898299038,
          -0.5535547871389617,
          0.8371221944612994,
          1.511812318129234,
          0.4504704904485682,
          0.8099235277959423,
          -0.7489858817084645,
          0.9502448003142555,
          0.5875531667765086,
          1.575218737798039,
          0.6355889890230145,
          -0.8433765111948266
         ]
        },
        {
         "marker": {
          "color": "rgba(55, 128, 191, 0.6)",
          "line": {
           "color": "rgba(55, 128, 191, 1.0)",
           "width": 1
          }
         },
         "name": "B",
         "orientation": "v",
         "text": "",
         "type": "bar",
         "x": [
          0,
          1,
          2,
          3,
          4,
          5,
          6,
          7,
          8,
          9,
          10,
          11,
          12,
          13,
          14,
          15,
          16,
          17,
          18,
          19,
          20,
          21,
          22,
          23,
          24,
          25,
          26,
          27,
          28,
          29,
          30,
          31,
          32,
          33,
          34,
          35,
          36,
          37,
          38,
          39,
          40,
          41,
          42,
          43,
          44,
          45,
          46,
          47,
          48,
          49,
          50,
          51,
          52,
          53,
          54,
          55,
          56,
          57,
          58,
          59,
          60,
          61,
          62,
          63,
          64,
          65,
          66,
          67,
          68,
          69,
          70,
          71,
          72,
          73,
          74,
          75,
          76,
          77,
          78,
          79,
          80,
          81,
          82,
          83,
          84,
          85,
          86,
          87,
          88,
          89,
          90,
          91,
          92,
          93,
          94,
          95,
          96,
          97,
          98,
          99
         ],
         "y": [
          0.9850713887904406,
          0.9895016294470834,
          0.33522187833194084,
          0.38263555967156293,
          0.3745792917333505,
          -1.429798678593703,
          1.1824612431217312,
          0.626488597539041,
          0.14349191696675895,
          -0.14814614007520954,
          -0.011611341174777376,
          2.12010533548965,
          -0.8772273524296763,
          0.6081160835617304,
          0.16137092972869155,
          -1.0714094098077365,
          -0.24641963527506083,
          -0.06582086200559119,
          -1.0060510964237628,
          -0.10337648868594303,
          -0.37416372381453705,
          0.9355670189990279,
          0.6210186517918276,
          -0.382253315672212,
          1.1502055049032665,
          0.11081971219168177,
          -0.9485281386209676,
          0.3163862184000106,
          -0.3640965591259851,
          0.18310189183405573,
          2.2399820434026694,
          0.639087710690256,
          -0.1398487891852959,
          -0.3925511584810141,
          1.3296265283651694,
          -0.11776415174203159,
          -0.4744386630352112,
          -0.4588922483652321,
          0.7842901351701419,
          -0.7900798468461651,
          -0.3144100924184365,
          0.06904462737971202,
          -0.08165840561428707,
          0.5937850226834473,
          1.6943248142423644,
          -1.4730818763638593,
          1.9149121426011169,
          -0.6981210172827813,
          1.0620220071337512,
          0.3270240144233015,
          0.9983963737189102,
          -1.5820504018948132,
          1.5576377626695666,
          0.6818302184258955,
          0.9581576498185576,
          0.7734938363828401,
          -1.2645145864507532,
          -0.6557307087352567,
          -0.08794658491303368,
          -0.2078210220450748,
          -0.7092534417802636,
          -0.4381431192271822,
          -0.29781816966271807,
          -1.9836917976954034,
          1.7777877374165716,
          0.3218961402254565,
          -2.077586101344516,
          -1.2073343169448907,
          1.7441615296849142,
          0.3048809157280745,
          -0.4907508335554843,
          0.8770109049237509,
          1.4245387717453464,
          1.0661665279074823,
          -0.6339901914933027,
          0.6802602704574408,
          -0.7168654439364791,
          -0.5578302948819142,
          -1.1185457726425359,
          -0.6121908887398874,
          -0.3779897877929932,
          1.4777200034997569,
          -0.19292716976175264,
          0.3574539014170091,
          -0.18544526745879408,
          -1.1466728464685323,
          0.5323503559652332,
          1.099398587877932,
          -2.3408632006156953,
          0.2961022336838603,
          0.34912709976479883,
          0.4803125361409515,
          -0.9275043314294719,
          1.810404002204835,
          -0.8997615818329986,
          -0.8882118828210713,
          0.07222842748511556,
          0.8997473673949757,
          0.12376395341787741,
          -2.1040059015548027
         ]
        },
        {
         "marker": {
          "color": "rgba(50, 171, 96, 0.6)",
          "line": {
           "color": "rgba(50, 171, 96, 1.0)",
           "width": 1
          }
         },
         "name": "C",
         "orientation": "v",
         "text": "",
         "type": "bar",
         "x": [
          0,
          1,
          2,
          3,
          4,
          5,
          6,
          7,
          8,
          9,
          10,
          11,
          12,
          13,
          14,
          15,
          16,
          17,
          18,
          19,
          20,
          21,
          22,
          23,
          24,
          25,
          26,
          27,
          28,
          29,
          30,
          31,
          32,
          33,
          34,
          35,
          36,
          37,
          38,
          39,
          40,
          41,
          42,
          43,
          44,
          45,
          46,
          47,
          48,
          49,
          50,
          51,
          52,
          53,
          54,
          55,
          56,
          57,
          58,
          59,
          60,
          61,
          62,
          63,
          64,
          65,
          66,
          67,
          68,
          69,
          70,
          71,
          72,
          73,
          74,
          75,
          76,
          77,
          78,
          79,
          80,
          81,
          82,
          83,
          84,
          85,
          86,
          87,
          88,
          89,
          90,
          91,
          92,
          93,
          94,
          95,
          96,
          97,
          98,
          99
         ],
         "y": [
          1.3624391131495084,
          -0.09446315603746394,
          0.12053743295789382,
          1.1817252377826062,
          0.6475800142644463,
          0.8365164130551516,
          -0.4078180117652873,
          -1.1958213597542948,
          0.40486279121570723,
          0.30592864416212057,
          0.19107544463621579,
          0.693625983370063,
          -0.4795213929104659,
          -1.0445591306189137,
          1.5408861746461362,
          -1.3208667950772104,
          0.6094364132193509,
          -0.04085162955660802,
          -1.1955049542950045,
          -1.2909839067238678,
          -0.18996601563309218,
          -0.3027149219694637,
          -1.5439791351118015,
          0.15460830804329959,
          0.658379885150995,
          0.5165004387560271,
          0.24957975250950862,
          0.0374615654790334,
          -0.5011376297220035,
          -0.6980267142027701,
          1.003819045674507,
          0.5585194029409475,
          -0.6530654144953657,
          1.2989071642014614,
          1.2646838735261166,
          0.5232949932517565,
          -0.6708949079502614,
          -0.927915205881154,
          0.8588928727833726,
          -0.5510976265140255,
          -1.0544854398765824,
          0.38249192826086326,
          -0.265182820267451,
          -1.2334846966610336,
          0.8966353913944343,
          1.1855664845671843,
          2.102330612375204,
          0.8819175112781902,
          0.9484031417715634,
          -1.2951255668253117,
          0.5032418726519972,
          0.3869633350184438,
          2.0393910745438646,
          -0.9133046872020412,
          -1.7446801263689433,
          -0.2368714660544164,
          0.11501744149322286,
          0.9606814835850809,
          -1.0283016300674763,
          -0.20628502526959266,
          1.549434241388962,
          0.7699467943680909,
          1.1577045284955838,
          -0.34241868984657486,
          -0.21732911323454163,
          -0.7639606514748805,
          -0.6982225764961281,
          0.09808374584084899,
          0.07220517620201307,
          0.28388278140747314,
          2.048594502372427,
          -1.8338997526400318,
          1.1579823376966734,
          0.09248369553907014,
          -0.9536254360521329,
          -0.07992099885216111,
          -1.339150308345133,
          -4.248316610590325,
          0.877309688073591,
          1.0774032735018733,
          -1.660165966097154,
          -0.3296052293735431,
          0.7444300470693337,
          -0.28835240383946076,
          1.3209428618408567,
          -1.7226785064983972,
          -1.4546956979417622,
          -1.3569076990715874,
          -0.4591211120108361,
          0.6957975501809467,
          0.18663813416373395,
          0.684558745731199,
          -0.8003535785394227,
          1.4626502325103097,
          0.27341601084813794,
          -1.5470354465064384,
          1.1031551691903023,
          -0.12376385833508523,
          -0.8445403928519083,
          -1.1997622783239204
         ]
        },
        {
         "marker": {
          "color": "rgba(128, 0, 128, 0.6)",
          "line": {
           "color": "rgba(128, 0, 128, 1.0)",
           "width": 1
          }
         },
         "name": "D",
         "orientation": "v",
         "text": "",
         "type": "bar",
         "x": [
          0,
          1,
          2,
          3,
          4,
          5,
          6,
          7,
          8,
          9,
          10,
          11,
          12,
          13,
          14,
          15,
          16,
          17,
          18,
          19,
          20,
          21,
          22,
          23,
          24,
          25,
          26,
          27,
          28,
          29,
          30,
          31,
          32,
          33,
          34,
          35,
          36,
          37,
          38,
          39,
          40,
          41,
          42,
          43,
          44,
          45,
          46,
          47,
          48,
          49,
          50,
          51,
          52,
          53,
          54,
          55,
          56,
          57,
          58,
          59,
          60,
          61,
          62,
          63,
          64,
          65,
          66,
          67,
          68,
          69,
          70,
          71,
          72,
          73,
          74,
          75,
          76,
          77,
          78,
          79,
          80,
          81,
          82,
          83,
          84,
          85,
          86,
          87,
          88,
          89,
          90,
          91,
          92,
          93,
          94,
          95,
          96,
          97,
          98,
          99
         ],
         "y": [
          0.4508128924895635,
          0.04215376366990217,
          -1.0518703849568212,
          0.3500266469736823,
          0.20580261077350961,
          1.754896843152072,
          2.6429833117351147,
          -0.8642797610580246,
          -0.41582297549411373,
          -2.042660108926624,
          2.433411389040133,
          0.04535365358034176,
          -0.029792164141180695,
          0.09932599146605318,
          -0.36469484458203194,
          -0.014842401964342685,
          0.7162484120775321,
          -0.21961157381040466,
          -0.1993741741945207,
          0.23618296330368907,
          -1.0988480324183805,
          -1.1914519954196043,
          1.626157398674772,
          0.6014805018574845,
          -0.28299033172737736,
          0.20369756450508605,
          -1.3892156923525512,
          -4.194659972602769,
          -0.2576579263997152,
          0.18060191245340587,
          1.007979796275341,
          2.8548811976149677,
          -1.2989409444905182,
          1.7539133867387662,
          0.6355116643849393,
          -0.8877889204443272,
          0.2632211548259389,
          -2.1995470109944844,
          0.10508899178899203,
          0.023440149037699982,
          -0.7425340360296323,
          0.5135110343053352,
          1.0469222376987855,
          0.334179083908498,
          -0.6732049555684151,
          1.920255314155447,
          0.31474455194034795,
          -1.2532405006469192,
          -0.1782867341660852,
          -0.2612236675518501,
          0.08529428865256748,
          0.8859081746666121,
          -1.0395821361778677,
          -1.1188438311720794,
          1.5062784783110792,
          0.5645111723215555,
          1.5574015777784491,
          0.9343818985603018,
          1.2748663294021338,
          0.19879888180871147,
          -0.5414272117544923,
          0.39304960399247185,
          -0.9247493404146402,
          0.42558068308709135,
          -0.24056252548192844,
          -0.019922997486305462,
          -0.6719566946713905,
          -0.27653060364317744,
          0.8027553461951863,
          0.27219153335231094,
          -0.5813309657966865,
          0.5436017784492733,
          0.37242807990780813,
          -1.0329950228586733,
          -1.395061469594945,
          -0.11127250730929014,
          1.455724989900488,
          -1.7520381668036558,
          -0.7413967616142342,
          0.8162950883053584,
          -0.38201837863016125,
          -0.4575423670048262,
          -0.4643247842979483,
          -0.20121589003332105,
          -0.49942386266143535,
          -0.5379565189422676,
          -1.5637105321302363,
          0.4845066972715467,
          -1.4458852188723432,
          -0.17788830278383255,
          0.6521404141377812,
          0.1210782204443573,
          0.5994269475041096,
          -0.48866354384002325,
          -1.8744915866299037,
          -0.4459372624232242,
          -0.24734394526561712,
          0.6108673765982904,
          -0.6112625793654177,
          -1.5686529059756902
         ]
        }
       ],
       "layout": {
        "legend": {
         "bgcolor": "#F5F6F9",
         "font": {
          "color": "#4D5663"
         }
        },
        "paper_bgcolor": "#F5F6F9",
        "plot_bgcolor": "#F5F6F9",
        "template": {
         "data": {
          "bar": [
           {
            "error_x": {
             "color": "#2a3f5f"
            },
            "error_y": {
             "color": "#2a3f5f"
            },
            "marker": {
             "line": {
              "color": "#E5ECF6",
              "width": 0.5
             },
             "pattern": {
              "fillmode": "overlay",
              "size": 10,
              "solidity": 0.2
             }
            },
            "type": "bar"
           }
          ],
          "barpolar": [
           {
            "marker": {
             "line": {
              "color": "#E5ECF6",
              "width": 0.5
             },
             "pattern": {
              "fillmode": "overlay",
              "size": 10,
              "solidity": 0.2
             }
            },
            "type": "barpolar"
           }
          ],
          "carpet": [
           {
            "aaxis": {
             "endlinecolor": "#2a3f5f",
             "gridcolor": "white",
             "linecolor": "white",
             "minorgridcolor": "white",
             "startlinecolor": "#2a3f5f"
            },
            "baxis": {
             "endlinecolor": "#2a3f5f",
             "gridcolor": "white",
             "linecolor": "white",
             "minorgridcolor": "white",
             "startlinecolor": "#2a3f5f"
            },
            "type": "carpet"
           }
          ],
          "choropleth": [
           {
            "colorbar": {
             "outlinewidth": 0,
             "ticks": ""
            },
            "type": "choropleth"
           }
          ],
          "contour": [
           {
            "colorbar": {
             "outlinewidth": 0,
             "ticks": ""
            },
            "colorscale": [
             [
              0,
              "#0d0887"
             ],
             [
              0.1111111111111111,
              "#46039f"
             ],
             [
              0.2222222222222222,
              "#7201a8"
             ],
             [
              0.3333333333333333,
              "#9c179e"
             ],
             [
              0.4444444444444444,
              "#bd3786"
             ],
             [
              0.5555555555555556,
              "#d8576b"
             ],
             [
              0.6666666666666666,
              "#ed7953"
             ],
             [
              0.7777777777777778,
              "#fb9f3a"
             ],
             [
              0.8888888888888888,
              "#fdca26"
             ],
             [
              1,
              "#f0f921"
             ]
            ],
            "type": "contour"
           }
          ],
          "contourcarpet": [
           {
            "colorbar": {
             "outlinewidth": 0,
             "ticks": ""
            },
            "type": "contourcarpet"
           }
          ],
          "heatmap": [
           {
            "colorbar": {
             "outlinewidth": 0,
             "ticks": ""
            },
            "colorscale": [
             [
              0,
              "#0d0887"
             ],
             [
              0.1111111111111111,
              "#46039f"
             ],
             [
              0.2222222222222222,
              "#7201a8"
             ],
             [
              0.3333333333333333,
              "#9c179e"
             ],
             [
              0.4444444444444444,
              "#bd3786"
             ],
             [
              0.5555555555555556,
              "#d8576b"
             ],
             [
              0.6666666666666666,
              "#ed7953"
             ],
             [
              0.7777777777777778,
              "#fb9f3a"
             ],
             [
              0.8888888888888888,
              "#fdca26"
             ],
             [
              1,
              "#f0f921"
             ]
            ],
            "type": "heatmap"
           }
          ],
          "heatmapgl": [
           {
            "colorbar": {
             "outlinewidth": 0,
             "ticks": ""
            },
            "colorscale": [
             [
              0,
              "#0d0887"
             ],
             [
              0.1111111111111111,
              "#46039f"
             ],
             [
              0.2222222222222222,
              "#7201a8"
             ],
             [
              0.3333333333333333,
              "#9c179e"
             ],
             [
              0.4444444444444444,
              "#bd3786"
             ],
             [
              0.5555555555555556,
              "#d8576b"
             ],
             [
              0.6666666666666666,
              "#ed7953"
             ],
             [
              0.7777777777777778,
              "#fb9f3a"
             ],
             [
              0.8888888888888888,
              "#fdca26"
             ],
             [
              1,
              "#f0f921"
             ]
            ],
            "type": "heatmapgl"
           }
          ],
          "histogram": [
           {
            "marker": {
             "pattern": {
              "fillmode": "overlay",
              "size": 10,
              "solidity": 0.2
             }
            },
            "type": "histogram"
           }
          ],
          "histogram2d": [
           {
            "colorbar": {
             "outlinewidth": 0,
             "ticks": ""
            },
            "colorscale": [
             [
              0,
              "#0d0887"
             ],
             [
              0.1111111111111111,
              "#46039f"
             ],
             [
              0.2222222222222222,
              "#7201a8"
             ],
             [
              0.3333333333333333,
              "#9c179e"
             ],
             [
              0.4444444444444444,
              "#bd3786"
             ],
             [
              0.5555555555555556,
              "#d8576b"
             ],
             [
              0.6666666666666666,
              "#ed7953"
             ],
             [
              0.7777777777777778,
              "#fb9f3a"
             ],
             [
              0.8888888888888888,
              "#fdca26"
             ],
             [
              1,
              "#f0f921"
             ]
            ],
            "type": "histogram2d"
           }
          ],
          "histogram2dcontour": [
           {
            "colorbar": {
             "outlinewidth": 0,
             "ticks": ""
            },
            "colorscale": [
             [
              0,
              "#0d0887"
             ],
             [
              0.1111111111111111,
              "#46039f"
             ],
             [
              0.2222222222222222,
              "#7201a8"
             ],
             [
              0.3333333333333333,
              "#9c179e"
             ],
             [
              0.4444444444444444,
              "#bd3786"
             ],
             [
              0.5555555555555556,
              "#d8576b"
             ],
             [
              0.6666666666666666,
              "#ed7953"
             ],
             [
              0.7777777777777778,
              "#fb9f3a"
             ],
             [
              0.8888888888888888,
              "#fdca26"
             ],
             [
              1,
              "#f0f921"
             ]
            ],
            "type": "histogram2dcontour"
           }
          ],
          "mesh3d": [
           {
            "colorbar": {
             "outlinewidth": 0,
             "ticks": ""
            },
            "type": "mesh3d"
           }
          ],
          "parcoords": [
           {
            "line": {
             "colorbar": {
              "outlinewidth": 0,
              "ticks": ""
             }
            },
            "type": "parcoords"
           }
          ],
          "pie": [
           {
            "automargin": true,
            "type": "pie"
           }
          ],
          "scatter": [
           {
            "fillpattern": {
             "fillmode": "overlay",
             "size": 10,
             "solidity": 0.2
            },
            "type": "scatter"
           }
          ],
          "scatter3d": [
           {
            "line": {
             "colorbar": {
              "outlinewidth": 0,
              "ticks": ""
             }
            },
            "marker": {
             "colorbar": {
              "outlinewidth": 0,
              "ticks": ""
             }
            },
            "type": "scatter3d"
           }
          ],
          "scattercarpet": [
           {
            "marker": {
             "colorbar": {
              "outlinewidth": 0,
              "ticks": ""
             }
            },
            "type": "scattercarpet"
           }
          ],
          "scattergeo": [
           {
            "marker": {
             "colorbar": {
              "outlinewidth": 0,
              "ticks": ""
             }
            },
            "type": "scattergeo"
           }
          ],
          "scattergl": [
           {
            "marker": {
             "colorbar": {
              "outlinewidth": 0,
              "ticks": ""
             }
            },
            "type": "scattergl"
           }
          ],
          "scattermapbox": [
           {
            "marker": {
             "colorbar": {
              "outlinewidth": 0,
              "ticks": ""
             }
            },
            "type": "scattermapbox"
           }
          ],
          "scatterpolar": [
           {
            "marker": {
             "colorbar": {
              "outlinewidth": 0,
              "ticks": ""
             }
            },
            "type": "scatterpolar"
           }
          ],
          "scatterpolargl": [
           {
            "marker": {
             "colorbar": {
              "outlinewidth": 0,
              "ticks": ""
             }
            },
            "type": "scatterpolargl"
           }
          ],
          "scatterternary": [
           {
            "marker": {
             "colorbar": {
              "outlinewidth": 0,
              "ticks": ""
             }
            },
            "type": "scatterternary"
           }
          ],
          "surface": [
           {
            "colorbar": {
             "outlinewidth": 0,
             "ticks": ""
            },
            "colorscale": [
             [
              0,
              "#0d0887"
             ],
             [
              0.1111111111111111,
              "#46039f"
             ],
             [
              0.2222222222222222,
              "#7201a8"
             ],
             [
              0.3333333333333333,
              "#9c179e"
             ],
             [
              0.4444444444444444,
              "#bd3786"
             ],
             [
              0.5555555555555556,
              "#d8576b"
             ],
             [
              0.6666666666666666,
              "#ed7953"
             ],
             [
              0.7777777777777778,
              "#fb9f3a"
             ],
             [
              0.8888888888888888,
              "#fdca26"
             ],
             [
              1,
              "#f0f921"
             ]
            ],
            "type": "surface"
           }
          ],
          "table": [
           {
            "cells": {
             "fill": {
              "color": "#EBF0F8"
             },
             "line": {
              "color": "white"
             }
            },
            "header": {
             "fill": {
              "color": "#C8D4E3"
             },
             "line": {
              "color": "white"
             }
            },
            "type": "table"
           }
          ]
         },
         "layout": {
          "annotationdefaults": {
           "arrowcolor": "#2a3f5f",
           "arrowhead": 0,
           "arrowwidth": 1
          },
          "autotypenumbers": "strict",
          "coloraxis": {
           "colorbar": {
            "outlinewidth": 0,
            "ticks": ""
           }
          },
          "colorscale": {
           "diverging": [
            [
             0,
             "#8e0152"
            ],
            [
             0.1,
             "#c51b7d"
            ],
            [
             0.2,
             "#de77ae"
            ],
            [
             0.3,
             "#f1b6da"
            ],
            [
             0.4,
             "#fde0ef"
            ],
            [
             0.5,
             "#f7f7f7"
            ],
            [
             0.6,
             "#e6f5d0"
            ],
            [
             0.7,
             "#b8e186"
            ],
            [
             0.8,
             "#7fbc41"
            ],
            [
             0.9,
             "#4d9221"
            ],
            [
             1,
             "#276419"
            ]
           ],
           "sequential": [
            [
             0,
             "#0d0887"
            ],
            [
             0.1111111111111111,
             "#46039f"
            ],
            [
             0.2222222222222222,
             "#7201a8"
            ],
            [
             0.3333333333333333,
             "#9c179e"
            ],
            [
             0.4444444444444444,
             "#bd3786"
            ],
            [
             0.5555555555555556,
             "#d8576b"
            ],
            [
             0.6666666666666666,
             "#ed7953"
            ],
            [
             0.7777777777777778,
             "#fb9f3a"
            ],
            [
             0.8888888888888888,
             "#fdca26"
            ],
            [
             1,
             "#f0f921"
            ]
           ],
           "sequentialminus": [
            [
             0,
             "#0d0887"
            ],
            [
             0.1111111111111111,
             "#46039f"
            ],
            [
             0.2222222222222222,
             "#7201a8"
            ],
            [
             0.3333333333333333,
             "#9c179e"
            ],
            [
             0.4444444444444444,
             "#bd3786"
            ],
            [
             0.5555555555555556,
             "#d8576b"
            ],
            [
             0.6666666666666666,
             "#ed7953"
            ],
            [
             0.7777777777777778,
             "#fb9f3a"
            ],
            [
             0.8888888888888888,
             "#fdca26"
            ],
            [
             1,
             "#f0f921"
            ]
           ]
          },
          "colorway": [
           "#636efa",
           "#EF553B",
           "#00cc96",
           "#ab63fa",
           "#FFA15A",
           "#19d3f3",
           "#FF6692",
           "#B6E880",
           "#FF97FF",
           "#FECB52"
          ],
          "font": {
           "color": "#2a3f5f"
          },
          "geo": {
           "bgcolor": "white",
           "lakecolor": "white",
           "landcolor": "#E5ECF6",
           "showlakes": true,
           "showland": true,
           "subunitcolor": "white"
          },
          "hoverlabel": {
           "align": "left"
          },
          "hovermode": "closest",
          "mapbox": {
           "style": "light"
          },
          "paper_bgcolor": "white",
          "plot_bgcolor": "#E5ECF6",
          "polar": {
           "angularaxis": {
            "gridcolor": "white",
            "linecolor": "white",
            "ticks": ""
           },
           "bgcolor": "#E5ECF6",
           "radialaxis": {
            "gridcolor": "white",
            "linecolor": "white",
            "ticks": ""
           }
          },
          "scene": {
           "xaxis": {
            "backgroundcolor": "#E5ECF6",
            "gridcolor": "white",
            "gridwidth": 2,
            "linecolor": "white",
            "showbackground": true,
            "ticks": "",
            "zerolinecolor": "white"
           },
           "yaxis": {
            "backgroundcolor": "#E5ECF6",
            "gridcolor": "white",
            "gridwidth": 2,
            "linecolor": "white",
            "showbackground": true,
            "ticks": "",
            "zerolinecolor": "white"
           },
           "zaxis": {
            "backgroundcolor": "#E5ECF6",
            "gridcolor": "white",
            "gridwidth": 2,
            "linecolor": "white",
            "showbackground": true,
            "ticks": "",
            "zerolinecolor": "white"
           }
          },
          "shapedefaults": {
           "line": {
            "color": "#2a3f5f"
           }
          },
          "ternary": {
           "aaxis": {
            "gridcolor": "white",
            "linecolor": "white",
            "ticks": ""
           },
           "baxis": {
            "gridcolor": "white",
            "linecolor": "white",
            "ticks": ""
           },
           "bgcolor": "#E5ECF6",
           "caxis": {
            "gridcolor": "white",
            "linecolor": "white",
            "ticks": ""
           }
          },
          "title": {
           "x": 0.05
          },
          "xaxis": {
           "automargin": true,
           "gridcolor": "white",
           "linecolor": "white",
           "ticks": "",
           "title": {
            "standoff": 15
           },
           "zerolinecolor": "white",
           "zerolinewidth": 2
          },
          "yaxis": {
           "automargin": true,
           "gridcolor": "white",
           "linecolor": "white",
           "ticks": "",
           "title": {
            "standoff": 15
           },
           "zerolinecolor": "white",
           "zerolinewidth": 2
          }
         }
        },
        "title": {
         "font": {
          "color": "#4D5663"
         }
        },
        "xaxis": {
         "gridcolor": "#E1E5ED",
         "showgrid": true,
         "tickfont": {
          "color": "#4D5663"
         },
         "title": {
          "font": {
           "color": "#4D5663"
          },
          "text": ""
         },
         "zerolinecolor": "#E1E5ED"
        },
        "yaxis": {
         "gridcolor": "#E1E5ED",
         "showgrid": true,
         "tickfont": {
          "color": "#4D5663"
         },
         "title": {
          "font": {
           "color": "#4D5663"
          },
          "text": ""
         },
         "zerolinecolor": "#E1E5ED"
        }
       }
      },
      "text/html": [
       "<div>                            <div id=\"e7268b3a-61af-4a5a-87b3-2d52d1a05ba5\" class=\"plotly-graph-div\" style=\"height:525px; width:100%;\"></div>            <script type=\"text/javascript\">                require([\"plotly\"], function(Plotly) {                    window.PLOTLYENV=window.PLOTLYENV || {};\n",
       "                    window.PLOTLYENV.BASE_URL='https://plot.ly';                                    if (document.getElementById(\"e7268b3a-61af-4a5a-87b3-2d52d1a05ba5\")) {                    Plotly.newPlot(                        \"e7268b3a-61af-4a5a-87b3-2d52d1a05ba5\",                        [{\"marker\":{\"color\":\"rgba(255, 153, 51, 0.6)\",\"line\":{\"color\":\"rgba(255, 153, 51, 1.0)\",\"width\":1}},\"name\":\"A\",\"orientation\":\"v\",\"text\":\"\",\"x\":[0,1,2,3,4,5,6,7,8,9,10,11,12,13,14,15,16,17,18,19,20,21,22,23,24,25,26,27,28,29,30,31,32,33,34,35,36,37,38,39,40,41,42,43,44,45,46,47,48,49,50,51,52,53,54,55,56,57,58,59,60,61,62,63,64,65,66,67,68,69,70,71,72,73,74,75,76,77,78,79,80,81,82,83,84,85,86,87,88,89,90,91,92,93,94,95,96,97,98,99],\"y\":[0.37597005318765364,-0.9048495718966237,0.8579565711447589,0.5400822133171609,-1.3077258733358614,-0.5342628034790948,-0.4453140991222401,1.9149519217568853,-0.4298784428599787,-1.7408278622364468,0.08984730403796322,-0.7220639924502646,-0.661782077365756,-1.9313280548361829,1.0995235869258424,-2.2416909234475497,1.6556238846323768,0.4881773567676999,-0.24661995472311352,-1.0888515437052844,-0.3800838112965957,1.076085654409655,-1.6593557461777635,0.21297961644533725,-1.5805191546265278,-1.618813240069065,0.04667537628522792,-0.3292224638769374,-1.1251094929123244,0.4090802971009559,-1.3057982878541903,0.4551469096035381,-0.06954108892814388,1.2405533050281512,-1.2173275922137747,1.65140906115177,-0.049881944271718826,0.38147990711103064,-1.0977982075374673,-0.8695743896417516,-1.1401255024732972,-0.1858666165578455,0.49689378953900226,-1.7204814086558124,1.3439359237959083,0.4609679198043368,0.8667683379824784,0.532690330525514,0.95150358077794,1.250685572340651,-0.26943495020421604,0.09722637026800443,0.4088197644876183,0.39448931245833757,1.524689421116744,0.6826810268566323,-1.6830237912206034,0.6318572757177054,0.2712253471184101,0.5970364658727937,0.7659094762271283,0.1096216186670033,-0.9596009180692899,-0.27623561082193904,-0.2579137767261097,-1.5159322047196007,0.26460532519337004,-0.7291898945221118,0.41642299592662535,0.6316260731687413,0.26153263868151694,-1.0468931473485552,1.908267957100243,1.0344822555487396,-1.5724801942537763,0.3569898615943052,-0.5466895707445805,2.0376888472931776,0.3144215127715293,0.5138467978812578,1.819754268505688,0.36849994498834077,-0.15873092607185396,-1.0049529009052667,0.09150725192149144,0.5764277982327448,-1.4916678031268555,0.6889429161353486,-1.5340180898299038,-0.5535547871389617,0.8371221944612994,1.511812318129234,0.4504704904485682,0.8099235277959423,-0.7489858817084645,0.9502448003142555,0.5875531667765086,1.575218737798039,0.6355889890230145,-0.8433765111948266],\"type\":\"bar\"},{\"marker\":{\"color\":\"rgba(55, 128, 191, 0.6)\",\"line\":{\"color\":\"rgba(55, 128, 191, 1.0)\",\"width\":1}},\"name\":\"B\",\"orientation\":\"v\",\"text\":\"\",\"x\":[0,1,2,3,4,5,6,7,8,9,10,11,12,13,14,15,16,17,18,19,20,21,22,23,24,25,26,27,28,29,30,31,32,33,34,35,36,37,38,39,40,41,42,43,44,45,46,47,48,49,50,51,52,53,54,55,56,57,58,59,60,61,62,63,64,65,66,67,68,69,70,71,72,73,74,75,76,77,78,79,80,81,82,83,84,85,86,87,88,89,90,91,92,93,94,95,96,97,98,99],\"y\":[0.9850713887904406,0.9895016294470834,0.33522187833194084,0.38263555967156293,0.3745792917333505,-1.429798678593703,1.1824612431217312,0.626488597539041,0.14349191696675895,-0.14814614007520954,-0.011611341174777376,2.12010533548965,-0.8772273524296763,0.6081160835617304,0.16137092972869155,-1.0714094098077365,-0.24641963527506083,-0.06582086200559119,-1.0060510964237628,-0.10337648868594303,-0.37416372381453705,0.9355670189990279,0.6210186517918276,-0.382253315672212,1.1502055049032665,0.11081971219168177,-0.9485281386209676,0.3163862184000106,-0.3640965591259851,0.18310189183405573,2.2399820434026694,0.639087710690256,-0.1398487891852959,-0.3925511584810141,1.3296265283651694,-0.11776415174203159,-0.4744386630352112,-0.4588922483652321,0.7842901351701419,-0.7900798468461651,-0.3144100924184365,0.06904462737971202,-0.08165840561428707,0.5937850226834473,1.6943248142423644,-1.4730818763638593,1.9149121426011169,-0.6981210172827813,1.0620220071337512,0.3270240144233015,0.9983963737189102,-1.5820504018948132,1.5576377626695666,0.6818302184258955,0.9581576498185576,0.7734938363828401,-1.2645145864507532,-0.6557307087352567,-0.08794658491303368,-0.2078210220450748,-0.7092534417802636,-0.4381431192271822,-0.29781816966271807,-1.9836917976954034,1.7777877374165716,0.3218961402254565,-2.077586101344516,-1.2073343169448907,1.7441615296849142,0.3048809157280745,-0.4907508335554843,0.8770109049237509,1.4245387717453464,1.0661665279074823,-0.6339901914933027,0.6802602704574408,-0.7168654439364791,-0.5578302948819142,-1.1185457726425359,-0.6121908887398874,-0.3779897877929932,1.4777200034997569,-0.19292716976175264,0.3574539014170091,-0.18544526745879408,-1.1466728464685323,0.5323503559652332,1.099398587877932,-2.3408632006156953,0.2961022336838603,0.34912709976479883,0.4803125361409515,-0.9275043314294719,1.810404002204835,-0.8997615818329986,-0.8882118828210713,0.07222842748511556,0.8997473673949757,0.12376395341787741,-2.1040059015548027],\"type\":\"bar\"},{\"marker\":{\"color\":\"rgba(50, 171, 96, 0.6)\",\"line\":{\"color\":\"rgba(50, 171, 96, 1.0)\",\"width\":1}},\"name\":\"C\",\"orientation\":\"v\",\"text\":\"\",\"x\":[0,1,2,3,4,5,6,7,8,9,10,11,12,13,14,15,16,17,18,19,20,21,22,23,24,25,26,27,28,29,30,31,32,33,34,35,36,37,38,39,40,41,42,43,44,45,46,47,48,49,50,51,52,53,54,55,56,57,58,59,60,61,62,63,64,65,66,67,68,69,70,71,72,73,74,75,76,77,78,79,80,81,82,83,84,85,86,87,88,89,90,91,92,93,94,95,96,97,98,99],\"y\":[1.3624391131495084,-0.09446315603746394,0.12053743295789382,1.1817252377826062,0.6475800142644463,0.8365164130551516,-0.4078180117652873,-1.1958213597542948,0.40486279121570723,0.30592864416212057,0.19107544463621579,0.693625983370063,-0.4795213929104659,-1.0445591306189137,1.5408861746461362,-1.3208667950772104,0.6094364132193509,-0.04085162955660802,-1.1955049542950045,-1.2909839067238678,-0.18996601563309218,-0.3027149219694637,-1.5439791351118015,0.15460830804329959,0.658379885150995,0.5165004387560271,0.24957975250950862,0.0374615654790334,-0.5011376297220035,-0.6980267142027701,1.003819045674507,0.5585194029409475,-0.6530654144953657,1.2989071642014614,1.2646838735261166,0.5232949932517565,-0.6708949079502614,-0.927915205881154,0.8588928727833726,-0.5510976265140255,-1.0544854398765824,0.38249192826086326,-0.265182820267451,-1.2334846966610336,0.8966353913944343,1.1855664845671843,2.102330612375204,0.8819175112781902,0.9484031417715634,-1.2951255668253117,0.5032418726519972,0.3869633350184438,2.0393910745438646,-0.9133046872020412,-1.7446801263689433,-0.2368714660544164,0.11501744149322286,0.9606814835850809,-1.0283016300674763,-0.20628502526959266,1.549434241388962,0.7699467943680909,1.1577045284955838,-0.34241868984657486,-0.21732911323454163,-0.7639606514748805,-0.6982225764961281,0.09808374584084899,0.07220517620201307,0.28388278140747314,2.048594502372427,-1.8338997526400318,1.1579823376966734,0.09248369553907014,-0.9536254360521329,-0.07992099885216111,-1.339150308345133,-4.248316610590325,0.877309688073591,1.0774032735018733,-1.660165966097154,-0.3296052293735431,0.7444300470693337,-0.28835240383946076,1.3209428618408567,-1.7226785064983972,-1.4546956979417622,-1.3569076990715874,-0.4591211120108361,0.6957975501809467,0.18663813416373395,0.684558745731199,-0.8003535785394227,1.4626502325103097,0.27341601084813794,-1.5470354465064384,1.1031551691903023,-0.12376385833508523,-0.8445403928519083,-1.1997622783239204],\"type\":\"bar\"},{\"marker\":{\"color\":\"rgba(128, 0, 128, 0.6)\",\"line\":{\"color\":\"rgba(128, 0, 128, 1.0)\",\"width\":1}},\"name\":\"D\",\"orientation\":\"v\",\"text\":\"\",\"x\":[0,1,2,3,4,5,6,7,8,9,10,11,12,13,14,15,16,17,18,19,20,21,22,23,24,25,26,27,28,29,30,31,32,33,34,35,36,37,38,39,40,41,42,43,44,45,46,47,48,49,50,51,52,53,54,55,56,57,58,59,60,61,62,63,64,65,66,67,68,69,70,71,72,73,74,75,76,77,78,79,80,81,82,83,84,85,86,87,88,89,90,91,92,93,94,95,96,97,98,99],\"y\":[0.4508128924895635,0.04215376366990217,-1.0518703849568212,0.3500266469736823,0.20580261077350961,1.754896843152072,2.6429833117351147,-0.8642797610580246,-0.41582297549411373,-2.042660108926624,2.433411389040133,0.04535365358034176,-0.029792164141180695,0.09932599146605318,-0.36469484458203194,-0.014842401964342685,0.7162484120775321,-0.21961157381040466,-0.1993741741945207,0.23618296330368907,-1.0988480324183805,-1.1914519954196043,1.626157398674772,0.6014805018574845,-0.28299033172737736,0.20369756450508605,-1.3892156923525512,-4.194659972602769,-0.2576579263997152,0.18060191245340587,1.007979796275341,2.8548811976149677,-1.2989409444905182,1.7539133867387662,0.6355116643849393,-0.8877889204443272,0.2632211548259389,-2.1995470109944844,0.10508899178899203,0.023440149037699982,-0.7425340360296323,0.5135110343053352,1.0469222376987855,0.334179083908498,-0.6732049555684151,1.920255314155447,0.31474455194034795,-1.2532405006469192,-0.1782867341660852,-0.2612236675518501,0.08529428865256748,0.8859081746666121,-1.0395821361778677,-1.1188438311720794,1.5062784783110792,0.5645111723215555,1.5574015777784491,0.9343818985603018,1.2748663294021338,0.19879888180871147,-0.5414272117544923,0.39304960399247185,-0.9247493404146402,0.42558068308709135,-0.24056252548192844,-0.019922997486305462,-0.6719566946713905,-0.27653060364317744,0.8027553461951863,0.27219153335231094,-0.5813309657966865,0.5436017784492733,0.37242807990780813,-1.0329950228586733,-1.395061469594945,-0.11127250730929014,1.455724989900488,-1.7520381668036558,-0.7413967616142342,0.8162950883053584,-0.38201837863016125,-0.4575423670048262,-0.4643247842979483,-0.20121589003332105,-0.49942386266143535,-0.5379565189422676,-1.5637105321302363,0.4845066972715467,-1.4458852188723432,-0.17788830278383255,0.6521404141377812,0.1210782204443573,0.5994269475041096,-0.48866354384002325,-1.8744915866299037,-0.4459372624232242,-0.24734394526561712,0.6108673765982904,-0.6112625793654177,-1.5686529059756902],\"type\":\"bar\"}],                        {\"legend\":{\"bgcolor\":\"#F5F6F9\",\"font\":{\"color\":\"#4D5663\"}},\"paper_bgcolor\":\"#F5F6F9\",\"plot_bgcolor\":\"#F5F6F9\",\"template\":{\"data\":{\"barpolar\":[{\"marker\":{\"line\":{\"color\":\"#E5ECF6\",\"width\":0.5},\"pattern\":{\"fillmode\":\"overlay\",\"size\":10,\"solidity\":0.2}},\"type\":\"barpolar\"}],\"bar\":[{\"error_x\":{\"color\":\"#2a3f5f\"},\"error_y\":{\"color\":\"#2a3f5f\"},\"marker\":{\"line\":{\"color\":\"#E5ECF6\",\"width\":0.5},\"pattern\":{\"fillmode\":\"overlay\",\"size\":10,\"solidity\":0.2}},\"type\":\"bar\"}],\"carpet\":[{\"aaxis\":{\"endlinecolor\":\"#2a3f5f\",\"gridcolor\":\"white\",\"linecolor\":\"white\",\"minorgridcolor\":\"white\",\"startlinecolor\":\"#2a3f5f\"},\"baxis\":{\"endlinecolor\":\"#2a3f5f\",\"gridcolor\":\"white\",\"linecolor\":\"white\",\"minorgridcolor\":\"white\",\"startlinecolor\":\"#2a3f5f\"},\"type\":\"carpet\"}],\"choropleth\":[{\"colorbar\":{\"outlinewidth\":0,\"ticks\":\"\"},\"type\":\"choropleth\"}],\"contourcarpet\":[{\"colorbar\":{\"outlinewidth\":0,\"ticks\":\"\"},\"type\":\"contourcarpet\"}],\"contour\":[{\"colorbar\":{\"outlinewidth\":0,\"ticks\":\"\"},\"colorscale\":[[0.0,\"#0d0887\"],[0.1111111111111111,\"#46039f\"],[0.2222222222222222,\"#7201a8\"],[0.3333333333333333,\"#9c179e\"],[0.4444444444444444,\"#bd3786\"],[0.5555555555555556,\"#d8576b\"],[0.6666666666666666,\"#ed7953\"],[0.7777777777777778,\"#fb9f3a\"],[0.8888888888888888,\"#fdca26\"],[1.0,\"#f0f921\"]],\"type\":\"contour\"}],\"heatmapgl\":[{\"colorbar\":{\"outlinewidth\":0,\"ticks\":\"\"},\"colorscale\":[[0.0,\"#0d0887\"],[0.1111111111111111,\"#46039f\"],[0.2222222222222222,\"#7201a8\"],[0.3333333333333333,\"#9c179e\"],[0.4444444444444444,\"#bd3786\"],[0.5555555555555556,\"#d8576b\"],[0.6666666666666666,\"#ed7953\"],[0.7777777777777778,\"#fb9f3a\"],[0.8888888888888888,\"#fdca26\"],[1.0,\"#f0f921\"]],\"type\":\"heatmapgl\"}],\"heatmap\":[{\"colorbar\":{\"outlinewidth\":0,\"ticks\":\"\"},\"colorscale\":[[0.0,\"#0d0887\"],[0.1111111111111111,\"#46039f\"],[0.2222222222222222,\"#7201a8\"],[0.3333333333333333,\"#9c179e\"],[0.4444444444444444,\"#bd3786\"],[0.5555555555555556,\"#d8576b\"],[0.6666666666666666,\"#ed7953\"],[0.7777777777777778,\"#fb9f3a\"],[0.8888888888888888,\"#fdca26\"],[1.0,\"#f0f921\"]],\"type\":\"heatmap\"}],\"histogram2dcontour\":[{\"colorbar\":{\"outlinewidth\":0,\"ticks\":\"\"},\"colorscale\":[[0.0,\"#0d0887\"],[0.1111111111111111,\"#46039f\"],[0.2222222222222222,\"#7201a8\"],[0.3333333333333333,\"#9c179e\"],[0.4444444444444444,\"#bd3786\"],[0.5555555555555556,\"#d8576b\"],[0.6666666666666666,\"#ed7953\"],[0.7777777777777778,\"#fb9f3a\"],[0.8888888888888888,\"#fdca26\"],[1.0,\"#f0f921\"]],\"type\":\"histogram2dcontour\"}],\"histogram2d\":[{\"colorbar\":{\"outlinewidth\":0,\"ticks\":\"\"},\"colorscale\":[[0.0,\"#0d0887\"],[0.1111111111111111,\"#46039f\"],[0.2222222222222222,\"#7201a8\"],[0.3333333333333333,\"#9c179e\"],[0.4444444444444444,\"#bd3786\"],[0.5555555555555556,\"#d8576b\"],[0.6666666666666666,\"#ed7953\"],[0.7777777777777778,\"#fb9f3a\"],[0.8888888888888888,\"#fdca26\"],[1.0,\"#f0f921\"]],\"type\":\"histogram2d\"}],\"histogram\":[{\"marker\":{\"pattern\":{\"fillmode\":\"overlay\",\"size\":10,\"solidity\":0.2}},\"type\":\"histogram\"}],\"mesh3d\":[{\"colorbar\":{\"outlinewidth\":0,\"ticks\":\"\"},\"type\":\"mesh3d\"}],\"parcoords\":[{\"line\":{\"colorbar\":{\"outlinewidth\":0,\"ticks\":\"\"}},\"type\":\"parcoords\"}],\"pie\":[{\"automargin\":true,\"type\":\"pie\"}],\"scatter3d\":[{\"line\":{\"colorbar\":{\"outlinewidth\":0,\"ticks\":\"\"}},\"marker\":{\"colorbar\":{\"outlinewidth\":0,\"ticks\":\"\"}},\"type\":\"scatter3d\"}],\"scattercarpet\":[{\"marker\":{\"colorbar\":{\"outlinewidth\":0,\"ticks\":\"\"}},\"type\":\"scattercarpet\"}],\"scattergeo\":[{\"marker\":{\"colorbar\":{\"outlinewidth\":0,\"ticks\":\"\"}},\"type\":\"scattergeo\"}],\"scattergl\":[{\"marker\":{\"colorbar\":{\"outlinewidth\":0,\"ticks\":\"\"}},\"type\":\"scattergl\"}],\"scattermapbox\":[{\"marker\":{\"colorbar\":{\"outlinewidth\":0,\"ticks\":\"\"}},\"type\":\"scattermapbox\"}],\"scatterpolargl\":[{\"marker\":{\"colorbar\":{\"outlinewidth\":0,\"ticks\":\"\"}},\"type\":\"scatterpolargl\"}],\"scatterpolar\":[{\"marker\":{\"colorbar\":{\"outlinewidth\":0,\"ticks\":\"\"}},\"type\":\"scatterpolar\"}],\"scatter\":[{\"fillpattern\":{\"fillmode\":\"overlay\",\"size\":10,\"solidity\":0.2},\"type\":\"scatter\"}],\"scatterternary\":[{\"marker\":{\"colorbar\":{\"outlinewidth\":0,\"ticks\":\"\"}},\"type\":\"scatterternary\"}],\"surface\":[{\"colorbar\":{\"outlinewidth\":0,\"ticks\":\"\"},\"colorscale\":[[0.0,\"#0d0887\"],[0.1111111111111111,\"#46039f\"],[0.2222222222222222,\"#7201a8\"],[0.3333333333333333,\"#9c179e\"],[0.4444444444444444,\"#bd3786\"],[0.5555555555555556,\"#d8576b\"],[0.6666666666666666,\"#ed7953\"],[0.7777777777777778,\"#fb9f3a\"],[0.8888888888888888,\"#fdca26\"],[1.0,\"#f0f921\"]],\"type\":\"surface\"}],\"table\":[{\"cells\":{\"fill\":{\"color\":\"#EBF0F8\"},\"line\":{\"color\":\"white\"}},\"header\":{\"fill\":{\"color\":\"#C8D4E3\"},\"line\":{\"color\":\"white\"}},\"type\":\"table\"}]},\"layout\":{\"annotationdefaults\":{\"arrowcolor\":\"#2a3f5f\",\"arrowhead\":0,\"arrowwidth\":1},\"autotypenumbers\":\"strict\",\"coloraxis\":{\"colorbar\":{\"outlinewidth\":0,\"ticks\":\"\"}},\"colorscale\":{\"diverging\":[[0,\"#8e0152\"],[0.1,\"#c51b7d\"],[0.2,\"#de77ae\"],[0.3,\"#f1b6da\"],[0.4,\"#fde0ef\"],[0.5,\"#f7f7f7\"],[0.6,\"#e6f5d0\"],[0.7,\"#b8e186\"],[0.8,\"#7fbc41\"],[0.9,\"#4d9221\"],[1,\"#276419\"]],\"sequential\":[[0.0,\"#0d0887\"],[0.1111111111111111,\"#46039f\"],[0.2222222222222222,\"#7201a8\"],[0.3333333333333333,\"#9c179e\"],[0.4444444444444444,\"#bd3786\"],[0.5555555555555556,\"#d8576b\"],[0.6666666666666666,\"#ed7953\"],[0.7777777777777778,\"#fb9f3a\"],[0.8888888888888888,\"#fdca26\"],[1.0,\"#f0f921\"]],\"sequentialminus\":[[0.0,\"#0d0887\"],[0.1111111111111111,\"#46039f\"],[0.2222222222222222,\"#7201a8\"],[0.3333333333333333,\"#9c179e\"],[0.4444444444444444,\"#bd3786\"],[0.5555555555555556,\"#d8576b\"],[0.6666666666666666,\"#ed7953\"],[0.7777777777777778,\"#fb9f3a\"],[0.8888888888888888,\"#fdca26\"],[1.0,\"#f0f921\"]]},\"colorway\":[\"#636efa\",\"#EF553B\",\"#00cc96\",\"#ab63fa\",\"#FFA15A\",\"#19d3f3\",\"#FF6692\",\"#B6E880\",\"#FF97FF\",\"#FECB52\"],\"font\":{\"color\":\"#2a3f5f\"},\"geo\":{\"bgcolor\":\"white\",\"lakecolor\":\"white\",\"landcolor\":\"#E5ECF6\",\"showlakes\":true,\"showland\":true,\"subunitcolor\":\"white\"},\"hoverlabel\":{\"align\":\"left\"},\"hovermode\":\"closest\",\"mapbox\":{\"style\":\"light\"},\"paper_bgcolor\":\"white\",\"plot_bgcolor\":\"#E5ECF6\",\"polar\":{\"angularaxis\":{\"gridcolor\":\"white\",\"linecolor\":\"white\",\"ticks\":\"\"},\"bgcolor\":\"#E5ECF6\",\"radialaxis\":{\"gridcolor\":\"white\",\"linecolor\":\"white\",\"ticks\":\"\"}},\"scene\":{\"xaxis\":{\"backgroundcolor\":\"#E5ECF6\",\"gridcolor\":\"white\",\"gridwidth\":2,\"linecolor\":\"white\",\"showbackground\":true,\"ticks\":\"\",\"zerolinecolor\":\"white\"},\"yaxis\":{\"backgroundcolor\":\"#E5ECF6\",\"gridcolor\":\"white\",\"gridwidth\":2,\"linecolor\":\"white\",\"showbackground\":true,\"ticks\":\"\",\"zerolinecolor\":\"white\"},\"zaxis\":{\"backgroundcolor\":\"#E5ECF6\",\"gridcolor\":\"white\",\"gridwidth\":2,\"linecolor\":\"white\",\"showbackground\":true,\"ticks\":\"\",\"zerolinecolor\":\"white\"}},\"shapedefaults\":{\"line\":{\"color\":\"#2a3f5f\"}},\"ternary\":{\"aaxis\":{\"gridcolor\":\"white\",\"linecolor\":\"white\",\"ticks\":\"\"},\"baxis\":{\"gridcolor\":\"white\",\"linecolor\":\"white\",\"ticks\":\"\"},\"bgcolor\":\"#E5ECF6\",\"caxis\":{\"gridcolor\":\"white\",\"linecolor\":\"white\",\"ticks\":\"\"}},\"title\":{\"x\":0.05},\"xaxis\":{\"automargin\":true,\"gridcolor\":\"white\",\"linecolor\":\"white\",\"ticks\":\"\",\"title\":{\"standoff\":15},\"zerolinecolor\":\"white\",\"zerolinewidth\":2},\"yaxis\":{\"automargin\":true,\"gridcolor\":\"white\",\"linecolor\":\"white\",\"ticks\":\"\",\"title\":{\"standoff\":15},\"zerolinecolor\":\"white\",\"zerolinewidth\":2}}},\"title\":{\"font\":{\"color\":\"#4D5663\"}},\"xaxis\":{\"gridcolor\":\"#E1E5ED\",\"showgrid\":true,\"tickfont\":{\"color\":\"#4D5663\"},\"title\":{\"font\":{\"color\":\"#4D5663\"},\"text\":\"\"},\"zerolinecolor\":\"#E1E5ED\"},\"yaxis\":{\"gridcolor\":\"#E1E5ED\",\"showgrid\":true,\"tickfont\":{\"color\":\"#4D5663\"},\"title\":{\"font\":{\"color\":\"#4D5663\"},\"text\":\"\"},\"zerolinecolor\":\"#E1E5ED\"}},                        {\"showLink\": true, \"linkText\": \"Export to plot.ly\", \"plotlyServerURL\": \"https://plot.ly\", \"responsive\": true}                    ).then(function(){\n",
       "                            \n",
       "var gd = document.getElementById('e7268b3a-61af-4a5a-87b3-2d52d1a05ba5');\n",
       "var x = new MutationObserver(function (mutations, observer) {{\n",
       "        var display = window.getComputedStyle(gd).display;\n",
       "        if (!display || display === 'none') {{\n",
       "            console.log([gd, 'removed!']);\n",
       "            Plotly.purge(gd);\n",
       "            observer.disconnect();\n",
       "        }}\n",
       "}});\n",
       "\n",
       "// Listen for the removal of the full notebook cells\n",
       "var notebookContainer = gd.closest('#notebook-container');\n",
       "if (notebookContainer) {{\n",
       "    x.observe(notebookContainer, {childList: true});\n",
       "}}\n",
       "\n",
       "// Listen for the clearing of the current output cell\n",
       "var outputEl = gd.closest('.output');\n",
       "if (outputEl) {{\n",
       "    x.observe(outputEl, {childList: true});\n",
       "}}\n",
       "\n",
       "                        })                };                });            </script>        </div>"
      ]
     },
     "metadata": {},
     "output_type": "display_data"
    }
   ],
   "source": [
    "df.iplot(kind='bar') #not useful the next plot"
   ]
  },
  {
   "cell_type": "code",
   "execution_count": 29,
   "id": "bc072e3b",
   "metadata": {
    "ExecuteTime": {
     "end_time": "2023-01-12T17:26:02.166167Z",
     "start_time": "2023-01-12T17:26:02.107645Z"
    }
   },
   "outputs": [
    {
     "data": {
      "application/vnd.plotly.v1+json": {
       "config": {
        "linkText": "Export to plot.ly",
        "plotlyServerURL": "https://plot.ly",
        "showLink": true
       },
       "data": [
        {
         "marker": {
          "color": "rgba(255, 153, 51, 0.6)",
          "line": {
           "color": "rgba(255, 153, 51, 1.0)",
           "width": 1
          }
         },
         "name": "None",
         "orientation": "v",
         "text": "",
         "type": "bar",
         "x": [
          "A",
          "B",
          "C",
          "D"
         ],
         "y": [
          100,
          100,
          100,
          100
         ]
        }
       ],
       "layout": {
        "legend": {
         "bgcolor": "#F5F6F9",
         "font": {
          "color": "#4D5663"
         }
        },
        "paper_bgcolor": "#F5F6F9",
        "plot_bgcolor": "#F5F6F9",
        "template": {
         "data": {
          "bar": [
           {
            "error_x": {
             "color": "#2a3f5f"
            },
            "error_y": {
             "color": "#2a3f5f"
            },
            "marker": {
             "line": {
              "color": "#E5ECF6",
              "width": 0.5
             },
             "pattern": {
              "fillmode": "overlay",
              "size": 10,
              "solidity": 0.2
             }
            },
            "type": "bar"
           }
          ],
          "barpolar": [
           {
            "marker": {
             "line": {
              "color": "#E5ECF6",
              "width": 0.5
             },
             "pattern": {
              "fillmode": "overlay",
              "size": 10,
              "solidity": 0.2
             }
            },
            "type": "barpolar"
           }
          ],
          "carpet": [
           {
            "aaxis": {
             "endlinecolor": "#2a3f5f",
             "gridcolor": "white",
             "linecolor": "white",
             "minorgridcolor": "white",
             "startlinecolor": "#2a3f5f"
            },
            "baxis": {
             "endlinecolor": "#2a3f5f",
             "gridcolor": "white",
             "linecolor": "white",
             "minorgridcolor": "white",
             "startlinecolor": "#2a3f5f"
            },
            "type": "carpet"
           }
          ],
          "choropleth": [
           {
            "colorbar": {
             "outlinewidth": 0,
             "ticks": ""
            },
            "type": "choropleth"
           }
          ],
          "contour": [
           {
            "colorbar": {
             "outlinewidth": 0,
             "ticks": ""
            },
            "colorscale": [
             [
              0,
              "#0d0887"
             ],
             [
              0.1111111111111111,
              "#46039f"
             ],
             [
              0.2222222222222222,
              "#7201a8"
             ],
             [
              0.3333333333333333,
              "#9c179e"
             ],
             [
              0.4444444444444444,
              "#bd3786"
             ],
             [
              0.5555555555555556,
              "#d8576b"
             ],
             [
              0.6666666666666666,
              "#ed7953"
             ],
             [
              0.7777777777777778,
              "#fb9f3a"
             ],
             [
              0.8888888888888888,
              "#fdca26"
             ],
             [
              1,
              "#f0f921"
             ]
            ],
            "type": "contour"
           }
          ],
          "contourcarpet": [
           {
            "colorbar": {
             "outlinewidth": 0,
             "ticks": ""
            },
            "type": "contourcarpet"
           }
          ],
          "heatmap": [
           {
            "colorbar": {
             "outlinewidth": 0,
             "ticks": ""
            },
            "colorscale": [
             [
              0,
              "#0d0887"
             ],
             [
              0.1111111111111111,
              "#46039f"
             ],
             [
              0.2222222222222222,
              "#7201a8"
             ],
             [
              0.3333333333333333,
              "#9c179e"
             ],
             [
              0.4444444444444444,
              "#bd3786"
             ],
             [
              0.5555555555555556,
              "#d8576b"
             ],
             [
              0.6666666666666666,
              "#ed7953"
             ],
             [
              0.7777777777777778,
              "#fb9f3a"
             ],
             [
              0.8888888888888888,
              "#fdca26"
             ],
             [
              1,
              "#f0f921"
             ]
            ],
            "type": "heatmap"
           }
          ],
          "heatmapgl": [
           {
            "colorbar": {
             "outlinewidth": 0,
             "ticks": ""
            },
            "colorscale": [
             [
              0,
              "#0d0887"
             ],
             [
              0.1111111111111111,
              "#46039f"
             ],
             [
              0.2222222222222222,
              "#7201a8"
             ],
             [
              0.3333333333333333,
              "#9c179e"
             ],
             [
              0.4444444444444444,
              "#bd3786"
             ],
             [
              0.5555555555555556,
              "#d8576b"
             ],
             [
              0.6666666666666666,
              "#ed7953"
             ],
             [
              0.7777777777777778,
              "#fb9f3a"
             ],
             [
              0.8888888888888888,
              "#fdca26"
             ],
             [
              1,
              "#f0f921"
             ]
            ],
            "type": "heatmapgl"
           }
          ],
          "histogram": [
           {
            "marker": {
             "pattern": {
              "fillmode": "overlay",
              "size": 10,
              "solidity": 0.2
             }
            },
            "type": "histogram"
           }
          ],
          "histogram2d": [
           {
            "colorbar": {
             "outlinewidth": 0,
             "ticks": ""
            },
            "colorscale": [
             [
              0,
              "#0d0887"
             ],
             [
              0.1111111111111111,
              "#46039f"
             ],
             [
              0.2222222222222222,
              "#7201a8"
             ],
             [
              0.3333333333333333,
              "#9c179e"
             ],
             [
              0.4444444444444444,
              "#bd3786"
             ],
             [
              0.5555555555555556,
              "#d8576b"
             ],
             [
              0.6666666666666666,
              "#ed7953"
             ],
             [
              0.7777777777777778,
              "#fb9f3a"
             ],
             [
              0.8888888888888888,
              "#fdca26"
             ],
             [
              1,
              "#f0f921"
             ]
            ],
            "type": "histogram2d"
           }
          ],
          "histogram2dcontour": [
           {
            "colorbar": {
             "outlinewidth": 0,
             "ticks": ""
            },
            "colorscale": [
             [
              0,
              "#0d0887"
             ],
             [
              0.1111111111111111,
              "#46039f"
             ],
             [
              0.2222222222222222,
              "#7201a8"
             ],
             [
              0.3333333333333333,
              "#9c179e"
             ],
             [
              0.4444444444444444,
              "#bd3786"
             ],
             [
              0.5555555555555556,
              "#d8576b"
             ],
             [
              0.6666666666666666,
              "#ed7953"
             ],
             [
              0.7777777777777778,
              "#fb9f3a"
             ],
             [
              0.8888888888888888,
              "#fdca26"
             ],
             [
              1,
              "#f0f921"
             ]
            ],
            "type": "histogram2dcontour"
           }
          ],
          "mesh3d": [
           {
            "colorbar": {
             "outlinewidth": 0,
             "ticks": ""
            },
            "type": "mesh3d"
           }
          ],
          "parcoords": [
           {
            "line": {
             "colorbar": {
              "outlinewidth": 0,
              "ticks": ""
             }
            },
            "type": "parcoords"
           }
          ],
          "pie": [
           {
            "automargin": true,
            "type": "pie"
           }
          ],
          "scatter": [
           {
            "fillpattern": {
             "fillmode": "overlay",
             "size": 10,
             "solidity": 0.2
            },
            "type": "scatter"
           }
          ],
          "scatter3d": [
           {
            "line": {
             "colorbar": {
              "outlinewidth": 0,
              "ticks": ""
             }
            },
            "marker": {
             "colorbar": {
              "outlinewidth": 0,
              "ticks": ""
             }
            },
            "type": "scatter3d"
           }
          ],
          "scattercarpet": [
           {
            "marker": {
             "colorbar": {
              "outlinewidth": 0,
              "ticks": ""
             }
            },
            "type": "scattercarpet"
           }
          ],
          "scattergeo": [
           {
            "marker": {
             "colorbar": {
              "outlinewidth": 0,
              "ticks": ""
             }
            },
            "type": "scattergeo"
           }
          ],
          "scattergl": [
           {
            "marker": {
             "colorbar": {
              "outlinewidth": 0,
              "ticks": ""
             }
            },
            "type": "scattergl"
           }
          ],
          "scattermapbox": [
           {
            "marker": {
             "colorbar": {
              "outlinewidth": 0,
              "ticks": ""
             }
            },
            "type": "scattermapbox"
           }
          ],
          "scatterpolar": [
           {
            "marker": {
             "colorbar": {
              "outlinewidth": 0,
              "ticks": ""
             }
            },
            "type": "scatterpolar"
           }
          ],
          "scatterpolargl": [
           {
            "marker": {
             "colorbar": {
              "outlinewidth": 0,
              "ticks": ""
             }
            },
            "type": "scatterpolargl"
           }
          ],
          "scatterternary": [
           {
            "marker": {
             "colorbar": {
              "outlinewidth": 0,
              "ticks": ""
             }
            },
            "type": "scatterternary"
           }
          ],
          "surface": [
           {
            "colorbar": {
             "outlinewidth": 0,
             "ticks": ""
            },
            "colorscale": [
             [
              0,
              "#0d0887"
             ],
             [
              0.1111111111111111,
              "#46039f"
             ],
             [
              0.2222222222222222,
              "#7201a8"
             ],
             [
              0.3333333333333333,
              "#9c179e"
             ],
             [
              0.4444444444444444,
              "#bd3786"
             ],
             [
              0.5555555555555556,
              "#d8576b"
             ],
             [
              0.6666666666666666,
              "#ed7953"
             ],
             [
              0.7777777777777778,
              "#fb9f3a"
             ],
             [
              0.8888888888888888,
              "#fdca26"
             ],
             [
              1,
              "#f0f921"
             ]
            ],
            "type": "surface"
           }
          ],
          "table": [
           {
            "cells": {
             "fill": {
              "color": "#EBF0F8"
             },
             "line": {
              "color": "white"
             }
            },
            "header": {
             "fill": {
              "color": "#C8D4E3"
             },
             "line": {
              "color": "white"
             }
            },
            "type": "table"
           }
          ]
         },
         "layout": {
          "annotationdefaults": {
           "arrowcolor": "#2a3f5f",
           "arrowhead": 0,
           "arrowwidth": 1
          },
          "autotypenumbers": "strict",
          "coloraxis": {
           "colorbar": {
            "outlinewidth": 0,
            "ticks": ""
           }
          },
          "colorscale": {
           "diverging": [
            [
             0,
             "#8e0152"
            ],
            [
             0.1,
             "#c51b7d"
            ],
            [
             0.2,
             "#de77ae"
            ],
            [
             0.3,
             "#f1b6da"
            ],
            [
             0.4,
             "#fde0ef"
            ],
            [
             0.5,
             "#f7f7f7"
            ],
            [
             0.6,
             "#e6f5d0"
            ],
            [
             0.7,
             "#b8e186"
            ],
            [
             0.8,
             "#7fbc41"
            ],
            [
             0.9,
             "#4d9221"
            ],
            [
             1,
             "#276419"
            ]
           ],
           "sequential": [
            [
             0,
             "#0d0887"
            ],
            [
             0.1111111111111111,
             "#46039f"
            ],
            [
             0.2222222222222222,
             "#7201a8"
            ],
            [
             0.3333333333333333,
             "#9c179e"
            ],
            [
             0.4444444444444444,
             "#bd3786"
            ],
            [
             0.5555555555555556,
             "#d8576b"
            ],
            [
             0.6666666666666666,
             "#ed7953"
            ],
            [
             0.7777777777777778,
             "#fb9f3a"
            ],
            [
             0.8888888888888888,
             "#fdca26"
            ],
            [
             1,
             "#f0f921"
            ]
           ],
           "sequentialminus": [
            [
             0,
             "#0d0887"
            ],
            [
             0.1111111111111111,
             "#46039f"
            ],
            [
             0.2222222222222222,
             "#7201a8"
            ],
            [
             0.3333333333333333,
             "#9c179e"
            ],
            [
             0.4444444444444444,
             "#bd3786"
            ],
            [
             0.5555555555555556,
             "#d8576b"
            ],
            [
             0.6666666666666666,
             "#ed7953"
            ],
            [
             0.7777777777777778,
             "#fb9f3a"
            ],
            [
             0.8888888888888888,
             "#fdca26"
            ],
            [
             1,
             "#f0f921"
            ]
           ]
          },
          "colorway": [
           "#636efa",
           "#EF553B",
           "#00cc96",
           "#ab63fa",
           "#FFA15A",
           "#19d3f3",
           "#FF6692",
           "#B6E880",
           "#FF97FF",
           "#FECB52"
          ],
          "font": {
           "color": "#2a3f5f"
          },
          "geo": {
           "bgcolor": "white",
           "lakecolor": "white",
           "landcolor": "#E5ECF6",
           "showlakes": true,
           "showland": true,
           "subunitcolor": "white"
          },
          "hoverlabel": {
           "align": "left"
          },
          "hovermode": "closest",
          "mapbox": {
           "style": "light"
          },
          "paper_bgcolor": "white",
          "plot_bgcolor": "#E5ECF6",
          "polar": {
           "angularaxis": {
            "gridcolor": "white",
            "linecolor": "white",
            "ticks": ""
           },
           "bgcolor": "#E5ECF6",
           "radialaxis": {
            "gridcolor": "white",
            "linecolor": "white",
            "ticks": ""
           }
          },
          "scene": {
           "xaxis": {
            "backgroundcolor": "#E5ECF6",
            "gridcolor": "white",
            "gridwidth": 2,
            "linecolor": "white",
            "showbackground": true,
            "ticks": "",
            "zerolinecolor": "white"
           },
           "yaxis": {
            "backgroundcolor": "#E5ECF6",
            "gridcolor": "white",
            "gridwidth": 2,
            "linecolor": "white",
            "showbackground": true,
            "ticks": "",
            "zerolinecolor": "white"
           },
           "zaxis": {
            "backgroundcolor": "#E5ECF6",
            "gridcolor": "white",
            "gridwidth": 2,
            "linecolor": "white",
            "showbackground": true,
            "ticks": "",
            "zerolinecolor": "white"
           }
          },
          "shapedefaults": {
           "line": {
            "color": "#2a3f5f"
           }
          },
          "ternary": {
           "aaxis": {
            "gridcolor": "white",
            "linecolor": "white",
            "ticks": ""
           },
           "baxis": {
            "gridcolor": "white",
            "linecolor": "white",
            "ticks": ""
           },
           "bgcolor": "#E5ECF6",
           "caxis": {
            "gridcolor": "white",
            "linecolor": "white",
            "ticks": ""
           }
          },
          "title": {
           "x": 0.05
          },
          "xaxis": {
           "automargin": true,
           "gridcolor": "white",
           "linecolor": "white",
           "ticks": "",
           "title": {
            "standoff": 15
           },
           "zerolinecolor": "white",
           "zerolinewidth": 2
          },
          "yaxis": {
           "automargin": true,
           "gridcolor": "white",
           "linecolor": "white",
           "ticks": "",
           "title": {
            "standoff": 15
           },
           "zerolinecolor": "white",
           "zerolinewidth": 2
          }
         }
        },
        "title": {
         "font": {
          "color": "#4D5663"
         }
        },
        "xaxis": {
         "gridcolor": "#E1E5ED",
         "showgrid": true,
         "tickfont": {
          "color": "#4D5663"
         },
         "title": {
          "font": {
           "color": "#4D5663"
          },
          "text": ""
         },
         "zerolinecolor": "#E1E5ED"
        },
        "yaxis": {
         "gridcolor": "#E1E5ED",
         "showgrid": true,
         "tickfont": {
          "color": "#4D5663"
         },
         "title": {
          "font": {
           "color": "#4D5663"
          },
          "text": ""
         },
         "zerolinecolor": "#E1E5ED"
        }
       }
      },
      "text/html": [
       "<div>                            <div id=\"a49b8d89-099d-4dff-a2bf-a0e3a65e11e9\" class=\"plotly-graph-div\" style=\"height:525px; width:100%;\"></div>            <script type=\"text/javascript\">                require([\"plotly\"], function(Plotly) {                    window.PLOTLYENV=window.PLOTLYENV || {};\n",
       "                    window.PLOTLYENV.BASE_URL='https://plot.ly';                                    if (document.getElementById(\"a49b8d89-099d-4dff-a2bf-a0e3a65e11e9\")) {                    Plotly.newPlot(                        \"a49b8d89-099d-4dff-a2bf-a0e3a65e11e9\",                        [{\"marker\":{\"color\":\"rgba(255, 153, 51, 0.6)\",\"line\":{\"color\":\"rgba(255, 153, 51, 1.0)\",\"width\":1}},\"name\":\"None\",\"orientation\":\"v\",\"text\":\"\",\"x\":[\"A\",\"B\",\"C\",\"D\"],\"y\":[100,100,100,100],\"type\":\"bar\"}],                        {\"legend\":{\"bgcolor\":\"#F5F6F9\",\"font\":{\"color\":\"#4D5663\"}},\"paper_bgcolor\":\"#F5F6F9\",\"plot_bgcolor\":\"#F5F6F9\",\"template\":{\"data\":{\"barpolar\":[{\"marker\":{\"line\":{\"color\":\"#E5ECF6\",\"width\":0.5},\"pattern\":{\"fillmode\":\"overlay\",\"size\":10,\"solidity\":0.2}},\"type\":\"barpolar\"}],\"bar\":[{\"error_x\":{\"color\":\"#2a3f5f\"},\"error_y\":{\"color\":\"#2a3f5f\"},\"marker\":{\"line\":{\"color\":\"#E5ECF6\",\"width\":0.5},\"pattern\":{\"fillmode\":\"overlay\",\"size\":10,\"solidity\":0.2}},\"type\":\"bar\"}],\"carpet\":[{\"aaxis\":{\"endlinecolor\":\"#2a3f5f\",\"gridcolor\":\"white\",\"linecolor\":\"white\",\"minorgridcolor\":\"white\",\"startlinecolor\":\"#2a3f5f\"},\"baxis\":{\"endlinecolor\":\"#2a3f5f\",\"gridcolor\":\"white\",\"linecolor\":\"white\",\"minorgridcolor\":\"white\",\"startlinecolor\":\"#2a3f5f\"},\"type\":\"carpet\"}],\"choropleth\":[{\"colorbar\":{\"outlinewidth\":0,\"ticks\":\"\"},\"type\":\"choropleth\"}],\"contourcarpet\":[{\"colorbar\":{\"outlinewidth\":0,\"ticks\":\"\"},\"type\":\"contourcarpet\"}],\"contour\":[{\"colorbar\":{\"outlinewidth\":0,\"ticks\":\"\"},\"colorscale\":[[0.0,\"#0d0887\"],[0.1111111111111111,\"#46039f\"],[0.2222222222222222,\"#7201a8\"],[0.3333333333333333,\"#9c179e\"],[0.4444444444444444,\"#bd3786\"],[0.5555555555555556,\"#d8576b\"],[0.6666666666666666,\"#ed7953\"],[0.7777777777777778,\"#fb9f3a\"],[0.8888888888888888,\"#fdca26\"],[1.0,\"#f0f921\"]],\"type\":\"contour\"}],\"heatmapgl\":[{\"colorbar\":{\"outlinewidth\":0,\"ticks\":\"\"},\"colorscale\":[[0.0,\"#0d0887\"],[0.1111111111111111,\"#46039f\"],[0.2222222222222222,\"#7201a8\"],[0.3333333333333333,\"#9c179e\"],[0.4444444444444444,\"#bd3786\"],[0.5555555555555556,\"#d8576b\"],[0.6666666666666666,\"#ed7953\"],[0.7777777777777778,\"#fb9f3a\"],[0.8888888888888888,\"#fdca26\"],[1.0,\"#f0f921\"]],\"type\":\"heatmapgl\"}],\"heatmap\":[{\"colorbar\":{\"outlinewidth\":0,\"ticks\":\"\"},\"colorscale\":[[0.0,\"#0d0887\"],[0.1111111111111111,\"#46039f\"],[0.2222222222222222,\"#7201a8\"],[0.3333333333333333,\"#9c179e\"],[0.4444444444444444,\"#bd3786\"],[0.5555555555555556,\"#d8576b\"],[0.6666666666666666,\"#ed7953\"],[0.7777777777777778,\"#fb9f3a\"],[0.8888888888888888,\"#fdca26\"],[1.0,\"#f0f921\"]],\"type\":\"heatmap\"}],\"histogram2dcontour\":[{\"colorbar\":{\"outlinewidth\":0,\"ticks\":\"\"},\"colorscale\":[[0.0,\"#0d0887\"],[0.1111111111111111,\"#46039f\"],[0.2222222222222222,\"#7201a8\"],[0.3333333333333333,\"#9c179e\"],[0.4444444444444444,\"#bd3786\"],[0.5555555555555556,\"#d8576b\"],[0.6666666666666666,\"#ed7953\"],[0.7777777777777778,\"#fb9f3a\"],[0.8888888888888888,\"#fdca26\"],[1.0,\"#f0f921\"]],\"type\":\"histogram2dcontour\"}],\"histogram2d\":[{\"colorbar\":{\"outlinewidth\":0,\"ticks\":\"\"},\"colorscale\":[[0.0,\"#0d0887\"],[0.1111111111111111,\"#46039f\"],[0.2222222222222222,\"#7201a8\"],[0.3333333333333333,\"#9c179e\"],[0.4444444444444444,\"#bd3786\"],[0.5555555555555556,\"#d8576b\"],[0.6666666666666666,\"#ed7953\"],[0.7777777777777778,\"#fb9f3a\"],[0.8888888888888888,\"#fdca26\"],[1.0,\"#f0f921\"]],\"type\":\"histogram2d\"}],\"histogram\":[{\"marker\":{\"pattern\":{\"fillmode\":\"overlay\",\"size\":10,\"solidity\":0.2}},\"type\":\"histogram\"}],\"mesh3d\":[{\"colorbar\":{\"outlinewidth\":0,\"ticks\":\"\"},\"type\":\"mesh3d\"}],\"parcoords\":[{\"line\":{\"colorbar\":{\"outlinewidth\":0,\"ticks\":\"\"}},\"type\":\"parcoords\"}],\"pie\":[{\"automargin\":true,\"type\":\"pie\"}],\"scatter3d\":[{\"line\":{\"colorbar\":{\"outlinewidth\":0,\"ticks\":\"\"}},\"marker\":{\"colorbar\":{\"outlinewidth\":0,\"ticks\":\"\"}},\"type\":\"scatter3d\"}],\"scattercarpet\":[{\"marker\":{\"colorbar\":{\"outlinewidth\":0,\"ticks\":\"\"}},\"type\":\"scattercarpet\"}],\"scattergeo\":[{\"marker\":{\"colorbar\":{\"outlinewidth\":0,\"ticks\":\"\"}},\"type\":\"scattergeo\"}],\"scattergl\":[{\"marker\":{\"colorbar\":{\"outlinewidth\":0,\"ticks\":\"\"}},\"type\":\"scattergl\"}],\"scattermapbox\":[{\"marker\":{\"colorbar\":{\"outlinewidth\":0,\"ticks\":\"\"}},\"type\":\"scattermapbox\"}],\"scatterpolargl\":[{\"marker\":{\"colorbar\":{\"outlinewidth\":0,\"ticks\":\"\"}},\"type\":\"scatterpolargl\"}],\"scatterpolar\":[{\"marker\":{\"colorbar\":{\"outlinewidth\":0,\"ticks\":\"\"}},\"type\":\"scatterpolar\"}],\"scatter\":[{\"fillpattern\":{\"fillmode\":\"overlay\",\"size\":10,\"solidity\":0.2},\"type\":\"scatter\"}],\"scatterternary\":[{\"marker\":{\"colorbar\":{\"outlinewidth\":0,\"ticks\":\"\"}},\"type\":\"scatterternary\"}],\"surface\":[{\"colorbar\":{\"outlinewidth\":0,\"ticks\":\"\"},\"colorscale\":[[0.0,\"#0d0887\"],[0.1111111111111111,\"#46039f\"],[0.2222222222222222,\"#7201a8\"],[0.3333333333333333,\"#9c179e\"],[0.4444444444444444,\"#bd3786\"],[0.5555555555555556,\"#d8576b\"],[0.6666666666666666,\"#ed7953\"],[0.7777777777777778,\"#fb9f3a\"],[0.8888888888888888,\"#fdca26\"],[1.0,\"#f0f921\"]],\"type\":\"surface\"}],\"table\":[{\"cells\":{\"fill\":{\"color\":\"#EBF0F8\"},\"line\":{\"color\":\"white\"}},\"header\":{\"fill\":{\"color\":\"#C8D4E3\"},\"line\":{\"color\":\"white\"}},\"type\":\"table\"}]},\"layout\":{\"annotationdefaults\":{\"arrowcolor\":\"#2a3f5f\",\"arrowhead\":0,\"arrowwidth\":1},\"autotypenumbers\":\"strict\",\"coloraxis\":{\"colorbar\":{\"outlinewidth\":0,\"ticks\":\"\"}},\"colorscale\":{\"diverging\":[[0,\"#8e0152\"],[0.1,\"#c51b7d\"],[0.2,\"#de77ae\"],[0.3,\"#f1b6da\"],[0.4,\"#fde0ef\"],[0.5,\"#f7f7f7\"],[0.6,\"#e6f5d0\"],[0.7,\"#b8e186\"],[0.8,\"#7fbc41\"],[0.9,\"#4d9221\"],[1,\"#276419\"]],\"sequential\":[[0.0,\"#0d0887\"],[0.1111111111111111,\"#46039f\"],[0.2222222222222222,\"#7201a8\"],[0.3333333333333333,\"#9c179e\"],[0.4444444444444444,\"#bd3786\"],[0.5555555555555556,\"#d8576b\"],[0.6666666666666666,\"#ed7953\"],[0.7777777777777778,\"#fb9f3a\"],[0.8888888888888888,\"#fdca26\"],[1.0,\"#f0f921\"]],\"sequentialminus\":[[0.0,\"#0d0887\"],[0.1111111111111111,\"#46039f\"],[0.2222222222222222,\"#7201a8\"],[0.3333333333333333,\"#9c179e\"],[0.4444444444444444,\"#bd3786\"],[0.5555555555555556,\"#d8576b\"],[0.6666666666666666,\"#ed7953\"],[0.7777777777777778,\"#fb9f3a\"],[0.8888888888888888,\"#fdca26\"],[1.0,\"#f0f921\"]]},\"colorway\":[\"#636efa\",\"#EF553B\",\"#00cc96\",\"#ab63fa\",\"#FFA15A\",\"#19d3f3\",\"#FF6692\",\"#B6E880\",\"#FF97FF\",\"#FECB52\"],\"font\":{\"color\":\"#2a3f5f\"},\"geo\":{\"bgcolor\":\"white\",\"lakecolor\":\"white\",\"landcolor\":\"#E5ECF6\",\"showlakes\":true,\"showland\":true,\"subunitcolor\":\"white\"},\"hoverlabel\":{\"align\":\"left\"},\"hovermode\":\"closest\",\"mapbox\":{\"style\":\"light\"},\"paper_bgcolor\":\"white\",\"plot_bgcolor\":\"#E5ECF6\",\"polar\":{\"angularaxis\":{\"gridcolor\":\"white\",\"linecolor\":\"white\",\"ticks\":\"\"},\"bgcolor\":\"#E5ECF6\",\"radialaxis\":{\"gridcolor\":\"white\",\"linecolor\":\"white\",\"ticks\":\"\"}},\"scene\":{\"xaxis\":{\"backgroundcolor\":\"#E5ECF6\",\"gridcolor\":\"white\",\"gridwidth\":2,\"linecolor\":\"white\",\"showbackground\":true,\"ticks\":\"\",\"zerolinecolor\":\"white\"},\"yaxis\":{\"backgroundcolor\":\"#E5ECF6\",\"gridcolor\":\"white\",\"gridwidth\":2,\"linecolor\":\"white\",\"showbackground\":true,\"ticks\":\"\",\"zerolinecolor\":\"white\"},\"zaxis\":{\"backgroundcolor\":\"#E5ECF6\",\"gridcolor\":\"white\",\"gridwidth\":2,\"linecolor\":\"white\",\"showbackground\":true,\"ticks\":\"\",\"zerolinecolor\":\"white\"}},\"shapedefaults\":{\"line\":{\"color\":\"#2a3f5f\"}},\"ternary\":{\"aaxis\":{\"gridcolor\":\"white\",\"linecolor\":\"white\",\"ticks\":\"\"},\"baxis\":{\"gridcolor\":\"white\",\"linecolor\":\"white\",\"ticks\":\"\"},\"bgcolor\":\"#E5ECF6\",\"caxis\":{\"gridcolor\":\"white\",\"linecolor\":\"white\",\"ticks\":\"\"}},\"title\":{\"x\":0.05},\"xaxis\":{\"automargin\":true,\"gridcolor\":\"white\",\"linecolor\":\"white\",\"ticks\":\"\",\"title\":{\"standoff\":15},\"zerolinecolor\":\"white\",\"zerolinewidth\":2},\"yaxis\":{\"automargin\":true,\"gridcolor\":\"white\",\"linecolor\":\"white\",\"ticks\":\"\",\"title\":{\"standoff\":15},\"zerolinecolor\":\"white\",\"zerolinewidth\":2}}},\"title\":{\"font\":{\"color\":\"#4D5663\"}},\"xaxis\":{\"gridcolor\":\"#E1E5ED\",\"showgrid\":true,\"tickfont\":{\"color\":\"#4D5663\"},\"title\":{\"font\":{\"color\":\"#4D5663\"},\"text\":\"\"},\"zerolinecolor\":\"#E1E5ED\"},\"yaxis\":{\"gridcolor\":\"#E1E5ED\",\"showgrid\":true,\"tickfont\":{\"color\":\"#4D5663\"},\"title\":{\"font\":{\"color\":\"#4D5663\"},\"text\":\"\"},\"zerolinecolor\":\"#E1E5ED\"}},                        {\"showLink\": true, \"linkText\": \"Export to plot.ly\", \"plotlyServerURL\": \"https://plot.ly\", \"responsive\": true}                    ).then(function(){\n",
       "                            \n",
       "var gd = document.getElementById('a49b8d89-099d-4dff-a2bf-a0e3a65e11e9');\n",
       "var x = new MutationObserver(function (mutations, observer) {{\n",
       "        var display = window.getComputedStyle(gd).display;\n",
       "        if (!display || display === 'none') {{\n",
       "            console.log([gd, 'removed!']);\n",
       "            Plotly.purge(gd);\n",
       "            observer.disconnect();\n",
       "        }}\n",
       "}});\n",
       "\n",
       "// Listen for the removal of the full notebook cells\n",
       "var notebookContainer = gd.closest('#notebook-container');\n",
       "if (notebookContainer) {{\n",
       "    x.observe(notebookContainer, {childList: true});\n",
       "}}\n",
       "\n",
       "// Listen for the clearing of the current output cell\n",
       "var outputEl = gd.closest('.output');\n",
       "if (outputEl) {{\n",
       "    x.observe(outputEl, {childList: true});\n",
       "}}\n",
       "\n",
       "                        })                };                });            </script>        </div>"
      ]
     },
     "metadata": {},
     "output_type": "display_data"
    }
   ],
   "source": [
    "df.count().iplot(kind='bar')"
   ]
  },
  {
   "cell_type": "code",
   "execution_count": 30,
   "id": "2438d565",
   "metadata": {
    "ExecuteTime": {
     "end_time": "2023-01-12T17:26:31.663549Z",
     "start_time": "2023-01-12T17:26:31.604544Z"
    }
   },
   "outputs": [
    {
     "data": {
      "application/vnd.plotly.v1+json": {
       "config": {
        "linkText": "Export to plot.ly",
        "plotlyServerURL": "https://plot.ly",
        "showLink": true
       },
       "data": [
        {
         "marker": {
          "color": "rgba(255, 153, 51, 0.6)",
          "line": {
           "color": "rgba(255, 153, 51, 1.0)",
           "width": 1
          }
         },
         "name": "None",
         "orientation": "v",
         "text": "",
         "type": "bar",
         "x": [
          "A",
          "B",
          "C",
          "D"
         ],
         "y": [
          0.7281201169936673,
          6.869874369831839,
          -2.2722149155956264,
          -5.606655044501424
         ]
        }
       ],
       "layout": {
        "legend": {
         "bgcolor": "#F5F6F9",
         "font": {
          "color": "#4D5663"
         }
        },
        "paper_bgcolor": "#F5F6F9",
        "plot_bgcolor": "#F5F6F9",
        "template": {
         "data": {
          "bar": [
           {
            "error_x": {
             "color": "#2a3f5f"
            },
            "error_y": {
             "color": "#2a3f5f"
            },
            "marker": {
             "line": {
              "color": "#E5ECF6",
              "width": 0.5
             },
             "pattern": {
              "fillmode": "overlay",
              "size": 10,
              "solidity": 0.2
             }
            },
            "type": "bar"
           }
          ],
          "barpolar": [
           {
            "marker": {
             "line": {
              "color": "#E5ECF6",
              "width": 0.5
             },
             "pattern": {
              "fillmode": "overlay",
              "size": 10,
              "solidity": 0.2
             }
            },
            "type": "barpolar"
           }
          ],
          "carpet": [
           {
            "aaxis": {
             "endlinecolor": "#2a3f5f",
             "gridcolor": "white",
             "linecolor": "white",
             "minorgridcolor": "white",
             "startlinecolor": "#2a3f5f"
            },
            "baxis": {
             "endlinecolor": "#2a3f5f",
             "gridcolor": "white",
             "linecolor": "white",
             "minorgridcolor": "white",
             "startlinecolor": "#2a3f5f"
            },
            "type": "carpet"
           }
          ],
          "choropleth": [
           {
            "colorbar": {
             "outlinewidth": 0,
             "ticks": ""
            },
            "type": "choropleth"
           }
          ],
          "contour": [
           {
            "colorbar": {
             "outlinewidth": 0,
             "ticks": ""
            },
            "colorscale": [
             [
              0,
              "#0d0887"
             ],
             [
              0.1111111111111111,
              "#46039f"
             ],
             [
              0.2222222222222222,
              "#7201a8"
             ],
             [
              0.3333333333333333,
              "#9c179e"
             ],
             [
              0.4444444444444444,
              "#bd3786"
             ],
             [
              0.5555555555555556,
              "#d8576b"
             ],
             [
              0.6666666666666666,
              "#ed7953"
             ],
             [
              0.7777777777777778,
              "#fb9f3a"
             ],
             [
              0.8888888888888888,
              "#fdca26"
             ],
             [
              1,
              "#f0f921"
             ]
            ],
            "type": "contour"
           }
          ],
          "contourcarpet": [
           {
            "colorbar": {
             "outlinewidth": 0,
             "ticks": ""
            },
            "type": "contourcarpet"
           }
          ],
          "heatmap": [
           {
            "colorbar": {
             "outlinewidth": 0,
             "ticks": ""
            },
            "colorscale": [
             [
              0,
              "#0d0887"
             ],
             [
              0.1111111111111111,
              "#46039f"
             ],
             [
              0.2222222222222222,
              "#7201a8"
             ],
             [
              0.3333333333333333,
              "#9c179e"
             ],
             [
              0.4444444444444444,
              "#bd3786"
             ],
             [
              0.5555555555555556,
              "#d8576b"
             ],
             [
              0.6666666666666666,
              "#ed7953"
             ],
             [
              0.7777777777777778,
              "#fb9f3a"
             ],
             [
              0.8888888888888888,
              "#fdca26"
             ],
             [
              1,
              "#f0f921"
             ]
            ],
            "type": "heatmap"
           }
          ],
          "heatmapgl": [
           {
            "colorbar": {
             "outlinewidth": 0,
             "ticks": ""
            },
            "colorscale": [
             [
              0,
              "#0d0887"
             ],
             [
              0.1111111111111111,
              "#46039f"
             ],
             [
              0.2222222222222222,
              "#7201a8"
             ],
             [
              0.3333333333333333,
              "#9c179e"
             ],
             [
              0.4444444444444444,
              "#bd3786"
             ],
             [
              0.5555555555555556,
              "#d8576b"
             ],
             [
              0.6666666666666666,
              "#ed7953"
             ],
             [
              0.7777777777777778,
              "#fb9f3a"
             ],
             [
              0.8888888888888888,
              "#fdca26"
             ],
             [
              1,
              "#f0f921"
             ]
            ],
            "type": "heatmapgl"
           }
          ],
          "histogram": [
           {
            "marker": {
             "pattern": {
              "fillmode": "overlay",
              "size": 10,
              "solidity": 0.2
             }
            },
            "type": "histogram"
           }
          ],
          "histogram2d": [
           {
            "colorbar": {
             "outlinewidth": 0,
             "ticks": ""
            },
            "colorscale": [
             [
              0,
              "#0d0887"
             ],
             [
              0.1111111111111111,
              "#46039f"
             ],
             [
              0.2222222222222222,
              "#7201a8"
             ],
             [
              0.3333333333333333,
              "#9c179e"
             ],
             [
              0.4444444444444444,
              "#bd3786"
             ],
             [
              0.5555555555555556,
              "#d8576b"
             ],
             [
              0.6666666666666666,
              "#ed7953"
             ],
             [
              0.7777777777777778,
              "#fb9f3a"
             ],
             [
              0.8888888888888888,
              "#fdca26"
             ],
             [
              1,
              "#f0f921"
             ]
            ],
            "type": "histogram2d"
           }
          ],
          "histogram2dcontour": [
           {
            "colorbar": {
             "outlinewidth": 0,
             "ticks": ""
            },
            "colorscale": [
             [
              0,
              "#0d0887"
             ],
             [
              0.1111111111111111,
              "#46039f"
             ],
             [
              0.2222222222222222,
              "#7201a8"
             ],
             [
              0.3333333333333333,
              "#9c179e"
             ],
             [
              0.4444444444444444,
              "#bd3786"
             ],
             [
              0.5555555555555556,
              "#d8576b"
             ],
             [
              0.6666666666666666,
              "#ed7953"
             ],
             [
              0.7777777777777778,
              "#fb9f3a"
             ],
             [
              0.8888888888888888,
              "#fdca26"
             ],
             [
              1,
              "#f0f921"
             ]
            ],
            "type": "histogram2dcontour"
           }
          ],
          "mesh3d": [
           {
            "colorbar": {
             "outlinewidth": 0,
             "ticks": ""
            },
            "type": "mesh3d"
           }
          ],
          "parcoords": [
           {
            "line": {
             "colorbar": {
              "outlinewidth": 0,
              "ticks": ""
             }
            },
            "type": "parcoords"
           }
          ],
          "pie": [
           {
            "automargin": true,
            "type": "pie"
           }
          ],
          "scatter": [
           {
            "fillpattern": {
             "fillmode": "overlay",
             "size": 10,
             "solidity": 0.2
            },
            "type": "scatter"
           }
          ],
          "scatter3d": [
           {
            "line": {
             "colorbar": {
              "outlinewidth": 0,
              "ticks": ""
             }
            },
            "marker": {
             "colorbar": {
              "outlinewidth": 0,
              "ticks": ""
             }
            },
            "type": "scatter3d"
           }
          ],
          "scattercarpet": [
           {
            "marker": {
             "colorbar": {
              "outlinewidth": 0,
              "ticks": ""
             }
            },
            "type": "scattercarpet"
           }
          ],
          "scattergeo": [
           {
            "marker": {
             "colorbar": {
              "outlinewidth": 0,
              "ticks": ""
             }
            },
            "type": "scattergeo"
           }
          ],
          "scattergl": [
           {
            "marker": {
             "colorbar": {
              "outlinewidth": 0,
              "ticks": ""
             }
            },
            "type": "scattergl"
           }
          ],
          "scattermapbox": [
           {
            "marker": {
             "colorbar": {
              "outlinewidth": 0,
              "ticks": ""
             }
            },
            "type": "scattermapbox"
           }
          ],
          "scatterpolar": [
           {
            "marker": {
             "colorbar": {
              "outlinewidth": 0,
              "ticks": ""
             }
            },
            "type": "scatterpolar"
           }
          ],
          "scatterpolargl": [
           {
            "marker": {
             "colorbar": {
              "outlinewidth": 0,
              "ticks": ""
             }
            },
            "type": "scatterpolargl"
           }
          ],
          "scatterternary": [
           {
            "marker": {
             "colorbar": {
              "outlinewidth": 0,
              "ticks": ""
             }
            },
            "type": "scatterternary"
           }
          ],
          "surface": [
           {
            "colorbar": {
             "outlinewidth": 0,
             "ticks": ""
            },
            "colorscale": [
             [
              0,
              "#0d0887"
             ],
             [
              0.1111111111111111,
              "#46039f"
             ],
             [
              0.2222222222222222,
              "#7201a8"
             ],
             [
              0.3333333333333333,
              "#9c179e"
             ],
             [
              0.4444444444444444,
              "#bd3786"
             ],
             [
              0.5555555555555556,
              "#d8576b"
             ],
             [
              0.6666666666666666,
              "#ed7953"
             ],
             [
              0.7777777777777778,
              "#fb9f3a"
             ],
             [
              0.8888888888888888,
              "#fdca26"
             ],
             [
              1,
              "#f0f921"
             ]
            ],
            "type": "surface"
           }
          ],
          "table": [
           {
            "cells": {
             "fill": {
              "color": "#EBF0F8"
             },
             "line": {
              "color": "white"
             }
            },
            "header": {
             "fill": {
              "color": "#C8D4E3"
             },
             "line": {
              "color": "white"
             }
            },
            "type": "table"
           }
          ]
         },
         "layout": {
          "annotationdefaults": {
           "arrowcolor": "#2a3f5f",
           "arrowhead": 0,
           "arrowwidth": 1
          },
          "autotypenumbers": "strict",
          "coloraxis": {
           "colorbar": {
            "outlinewidth": 0,
            "ticks": ""
           }
          },
          "colorscale": {
           "diverging": [
            [
             0,
             "#8e0152"
            ],
            [
             0.1,
             "#c51b7d"
            ],
            [
             0.2,
             "#de77ae"
            ],
            [
             0.3,
             "#f1b6da"
            ],
            [
             0.4,
             "#fde0ef"
            ],
            [
             0.5,
             "#f7f7f7"
            ],
            [
             0.6,
             "#e6f5d0"
            ],
            [
             0.7,
             "#b8e186"
            ],
            [
             0.8,
             "#7fbc41"
            ],
            [
             0.9,
             "#4d9221"
            ],
            [
             1,
             "#276419"
            ]
           ],
           "sequential": [
            [
             0,
             "#0d0887"
            ],
            [
             0.1111111111111111,
             "#46039f"
            ],
            [
             0.2222222222222222,
             "#7201a8"
            ],
            [
             0.3333333333333333,
             "#9c179e"
            ],
            [
             0.4444444444444444,
             "#bd3786"
            ],
            [
             0.5555555555555556,
             "#d8576b"
            ],
            [
             0.6666666666666666,
             "#ed7953"
            ],
            [
             0.7777777777777778,
             "#fb9f3a"
            ],
            [
             0.8888888888888888,
             "#fdca26"
            ],
            [
             1,
             "#f0f921"
            ]
           ],
           "sequentialminus": [
            [
             0,
             "#0d0887"
            ],
            [
             0.1111111111111111,
             "#46039f"
            ],
            [
             0.2222222222222222,
             "#7201a8"
            ],
            [
             0.3333333333333333,
             "#9c179e"
            ],
            [
             0.4444444444444444,
             "#bd3786"
            ],
            [
             0.5555555555555556,
             "#d8576b"
            ],
            [
             0.6666666666666666,
             "#ed7953"
            ],
            [
             0.7777777777777778,
             "#fb9f3a"
            ],
            [
             0.8888888888888888,
             "#fdca26"
            ],
            [
             1,
             "#f0f921"
            ]
           ]
          },
          "colorway": [
           "#636efa",
           "#EF553B",
           "#00cc96",
           "#ab63fa",
           "#FFA15A",
           "#19d3f3",
           "#FF6692",
           "#B6E880",
           "#FF97FF",
           "#FECB52"
          ],
          "font": {
           "color": "#2a3f5f"
          },
          "geo": {
           "bgcolor": "white",
           "lakecolor": "white",
           "landcolor": "#E5ECF6",
           "showlakes": true,
           "showland": true,
           "subunitcolor": "white"
          },
          "hoverlabel": {
           "align": "left"
          },
          "hovermode": "closest",
          "mapbox": {
           "style": "light"
          },
          "paper_bgcolor": "white",
          "plot_bgcolor": "#E5ECF6",
          "polar": {
           "angularaxis": {
            "gridcolor": "white",
            "linecolor": "white",
            "ticks": ""
           },
           "bgcolor": "#E5ECF6",
           "radialaxis": {
            "gridcolor": "white",
            "linecolor": "white",
            "ticks": ""
           }
          },
          "scene": {
           "xaxis": {
            "backgroundcolor": "#E5ECF6",
            "gridcolor": "white",
            "gridwidth": 2,
            "linecolor": "white",
            "showbackground": true,
            "ticks": "",
            "zerolinecolor": "white"
           },
           "yaxis": {
            "backgroundcolor": "#E5ECF6",
            "gridcolor": "white",
            "gridwidth": 2,
            "linecolor": "white",
            "showbackground": true,
            "ticks": "",
            "zerolinecolor": "white"
           },
           "zaxis": {
            "backgroundcolor": "#E5ECF6",
            "gridcolor": "white",
            "gridwidth": 2,
            "linecolor": "white",
            "showbackground": true,
            "ticks": "",
            "zerolinecolor": "white"
           }
          },
          "shapedefaults": {
           "line": {
            "color": "#2a3f5f"
           }
          },
          "ternary": {
           "aaxis": {
            "gridcolor": "white",
            "linecolor": "white",
            "ticks": ""
           },
           "baxis": {
            "gridcolor": "white",
            "linecolor": "white",
            "ticks": ""
           },
           "bgcolor": "#E5ECF6",
           "caxis": {
            "gridcolor": "white",
            "linecolor": "white",
            "ticks": ""
           }
          },
          "title": {
           "x": 0.05
          },
          "xaxis": {
           "automargin": true,
           "gridcolor": "white",
           "linecolor": "white",
           "ticks": "",
           "title": {
            "standoff": 15
           },
           "zerolinecolor": "white",
           "zerolinewidth": 2
          },
          "yaxis": {
           "automargin": true,
           "gridcolor": "white",
           "linecolor": "white",
           "ticks": "",
           "title": {
            "standoff": 15
           },
           "zerolinecolor": "white",
           "zerolinewidth": 2
          }
         }
        },
        "title": {
         "font": {
          "color": "#4D5663"
         }
        },
        "xaxis": {
         "gridcolor": "#E1E5ED",
         "showgrid": true,
         "tickfont": {
          "color": "#4D5663"
         },
         "title": {
          "font": {
           "color": "#4D5663"
          },
          "text": ""
         },
         "zerolinecolor": "#E1E5ED"
        },
        "yaxis": {
         "gridcolor": "#E1E5ED",
         "showgrid": true,
         "tickfont": {
          "color": "#4D5663"
         },
         "title": {
          "font": {
           "color": "#4D5663"
          },
          "text": ""
         },
         "zerolinecolor": "#E1E5ED"
        }
       }
      },
      "text/html": [
       "<div>                            <div id=\"53e6d7b9-ea37-4a20-a001-033e300e7205\" class=\"plotly-graph-div\" style=\"height:525px; width:100%;\"></div>            <script type=\"text/javascript\">                require([\"plotly\"], function(Plotly) {                    window.PLOTLYENV=window.PLOTLYENV || {};\n",
       "                    window.PLOTLYENV.BASE_URL='https://plot.ly';                                    if (document.getElementById(\"53e6d7b9-ea37-4a20-a001-033e300e7205\")) {                    Plotly.newPlot(                        \"53e6d7b9-ea37-4a20-a001-033e300e7205\",                        [{\"marker\":{\"color\":\"rgba(255, 153, 51, 0.6)\",\"line\":{\"color\":\"rgba(255, 153, 51, 1.0)\",\"width\":1}},\"name\":\"None\",\"orientation\":\"v\",\"text\":\"\",\"x\":[\"A\",\"B\",\"C\",\"D\"],\"y\":[0.7281201169936673,6.869874369831839,-2.2722149155956264,-5.606655044501424],\"type\":\"bar\"}],                        {\"legend\":{\"bgcolor\":\"#F5F6F9\",\"font\":{\"color\":\"#4D5663\"}},\"paper_bgcolor\":\"#F5F6F9\",\"plot_bgcolor\":\"#F5F6F9\",\"template\":{\"data\":{\"barpolar\":[{\"marker\":{\"line\":{\"color\":\"#E5ECF6\",\"width\":0.5},\"pattern\":{\"fillmode\":\"overlay\",\"size\":10,\"solidity\":0.2}},\"type\":\"barpolar\"}],\"bar\":[{\"error_x\":{\"color\":\"#2a3f5f\"},\"error_y\":{\"color\":\"#2a3f5f\"},\"marker\":{\"line\":{\"color\":\"#E5ECF6\",\"width\":0.5},\"pattern\":{\"fillmode\":\"overlay\",\"size\":10,\"solidity\":0.2}},\"type\":\"bar\"}],\"carpet\":[{\"aaxis\":{\"endlinecolor\":\"#2a3f5f\",\"gridcolor\":\"white\",\"linecolor\":\"white\",\"minorgridcolor\":\"white\",\"startlinecolor\":\"#2a3f5f\"},\"baxis\":{\"endlinecolor\":\"#2a3f5f\",\"gridcolor\":\"white\",\"linecolor\":\"white\",\"minorgridcolor\":\"white\",\"startlinecolor\":\"#2a3f5f\"},\"type\":\"carpet\"}],\"choropleth\":[{\"colorbar\":{\"outlinewidth\":0,\"ticks\":\"\"},\"type\":\"choropleth\"}],\"contourcarpet\":[{\"colorbar\":{\"outlinewidth\":0,\"ticks\":\"\"},\"type\":\"contourcarpet\"}],\"contour\":[{\"colorbar\":{\"outlinewidth\":0,\"ticks\":\"\"},\"colorscale\":[[0.0,\"#0d0887\"],[0.1111111111111111,\"#46039f\"],[0.2222222222222222,\"#7201a8\"],[0.3333333333333333,\"#9c179e\"],[0.4444444444444444,\"#bd3786\"],[0.5555555555555556,\"#d8576b\"],[0.6666666666666666,\"#ed7953\"],[0.7777777777777778,\"#fb9f3a\"],[0.8888888888888888,\"#fdca26\"],[1.0,\"#f0f921\"]],\"type\":\"contour\"}],\"heatmapgl\":[{\"colorbar\":{\"outlinewidth\":0,\"ticks\":\"\"},\"colorscale\":[[0.0,\"#0d0887\"],[0.1111111111111111,\"#46039f\"],[0.2222222222222222,\"#7201a8\"],[0.3333333333333333,\"#9c179e\"],[0.4444444444444444,\"#bd3786\"],[0.5555555555555556,\"#d8576b\"],[0.6666666666666666,\"#ed7953\"],[0.7777777777777778,\"#fb9f3a\"],[0.8888888888888888,\"#fdca26\"],[1.0,\"#f0f921\"]],\"type\":\"heatmapgl\"}],\"heatmap\":[{\"colorbar\":{\"outlinewidth\":0,\"ticks\":\"\"},\"colorscale\":[[0.0,\"#0d0887\"],[0.1111111111111111,\"#46039f\"],[0.2222222222222222,\"#7201a8\"],[0.3333333333333333,\"#9c179e\"],[0.4444444444444444,\"#bd3786\"],[0.5555555555555556,\"#d8576b\"],[0.6666666666666666,\"#ed7953\"],[0.7777777777777778,\"#fb9f3a\"],[0.8888888888888888,\"#fdca26\"],[1.0,\"#f0f921\"]],\"type\":\"heatmap\"}],\"histogram2dcontour\":[{\"colorbar\":{\"outlinewidth\":0,\"ticks\":\"\"},\"colorscale\":[[0.0,\"#0d0887\"],[0.1111111111111111,\"#46039f\"],[0.2222222222222222,\"#7201a8\"],[0.3333333333333333,\"#9c179e\"],[0.4444444444444444,\"#bd3786\"],[0.5555555555555556,\"#d8576b\"],[0.6666666666666666,\"#ed7953\"],[0.7777777777777778,\"#fb9f3a\"],[0.8888888888888888,\"#fdca26\"],[1.0,\"#f0f921\"]],\"type\":\"histogram2dcontour\"}],\"histogram2d\":[{\"colorbar\":{\"outlinewidth\":0,\"ticks\":\"\"},\"colorscale\":[[0.0,\"#0d0887\"],[0.1111111111111111,\"#46039f\"],[0.2222222222222222,\"#7201a8\"],[0.3333333333333333,\"#9c179e\"],[0.4444444444444444,\"#bd3786\"],[0.5555555555555556,\"#d8576b\"],[0.6666666666666666,\"#ed7953\"],[0.7777777777777778,\"#fb9f3a\"],[0.8888888888888888,\"#fdca26\"],[1.0,\"#f0f921\"]],\"type\":\"histogram2d\"}],\"histogram\":[{\"marker\":{\"pattern\":{\"fillmode\":\"overlay\",\"size\":10,\"solidity\":0.2}},\"type\":\"histogram\"}],\"mesh3d\":[{\"colorbar\":{\"outlinewidth\":0,\"ticks\":\"\"},\"type\":\"mesh3d\"}],\"parcoords\":[{\"line\":{\"colorbar\":{\"outlinewidth\":0,\"ticks\":\"\"}},\"type\":\"parcoords\"}],\"pie\":[{\"automargin\":true,\"type\":\"pie\"}],\"scatter3d\":[{\"line\":{\"colorbar\":{\"outlinewidth\":0,\"ticks\":\"\"}},\"marker\":{\"colorbar\":{\"outlinewidth\":0,\"ticks\":\"\"}},\"type\":\"scatter3d\"}],\"scattercarpet\":[{\"marker\":{\"colorbar\":{\"outlinewidth\":0,\"ticks\":\"\"}},\"type\":\"scattercarpet\"}],\"scattergeo\":[{\"marker\":{\"colorbar\":{\"outlinewidth\":0,\"ticks\":\"\"}},\"type\":\"scattergeo\"}],\"scattergl\":[{\"marker\":{\"colorbar\":{\"outlinewidth\":0,\"ticks\":\"\"}},\"type\":\"scattergl\"}],\"scattermapbox\":[{\"marker\":{\"colorbar\":{\"outlinewidth\":0,\"ticks\":\"\"}},\"type\":\"scattermapbox\"}],\"scatterpolargl\":[{\"marker\":{\"colorbar\":{\"outlinewidth\":0,\"ticks\":\"\"}},\"type\":\"scatterpolargl\"}],\"scatterpolar\":[{\"marker\":{\"colorbar\":{\"outlinewidth\":0,\"ticks\":\"\"}},\"type\":\"scatterpolar\"}],\"scatter\":[{\"fillpattern\":{\"fillmode\":\"overlay\",\"size\":10,\"solidity\":0.2},\"type\":\"scatter\"}],\"scatterternary\":[{\"marker\":{\"colorbar\":{\"outlinewidth\":0,\"ticks\":\"\"}},\"type\":\"scatterternary\"}],\"surface\":[{\"colorbar\":{\"outlinewidth\":0,\"ticks\":\"\"},\"colorscale\":[[0.0,\"#0d0887\"],[0.1111111111111111,\"#46039f\"],[0.2222222222222222,\"#7201a8\"],[0.3333333333333333,\"#9c179e\"],[0.4444444444444444,\"#bd3786\"],[0.5555555555555556,\"#d8576b\"],[0.6666666666666666,\"#ed7953\"],[0.7777777777777778,\"#fb9f3a\"],[0.8888888888888888,\"#fdca26\"],[1.0,\"#f0f921\"]],\"type\":\"surface\"}],\"table\":[{\"cells\":{\"fill\":{\"color\":\"#EBF0F8\"},\"line\":{\"color\":\"white\"}},\"header\":{\"fill\":{\"color\":\"#C8D4E3\"},\"line\":{\"color\":\"white\"}},\"type\":\"table\"}]},\"layout\":{\"annotationdefaults\":{\"arrowcolor\":\"#2a3f5f\",\"arrowhead\":0,\"arrowwidth\":1},\"autotypenumbers\":\"strict\",\"coloraxis\":{\"colorbar\":{\"outlinewidth\":0,\"ticks\":\"\"}},\"colorscale\":{\"diverging\":[[0,\"#8e0152\"],[0.1,\"#c51b7d\"],[0.2,\"#de77ae\"],[0.3,\"#f1b6da\"],[0.4,\"#fde0ef\"],[0.5,\"#f7f7f7\"],[0.6,\"#e6f5d0\"],[0.7,\"#b8e186\"],[0.8,\"#7fbc41\"],[0.9,\"#4d9221\"],[1,\"#276419\"]],\"sequential\":[[0.0,\"#0d0887\"],[0.1111111111111111,\"#46039f\"],[0.2222222222222222,\"#7201a8\"],[0.3333333333333333,\"#9c179e\"],[0.4444444444444444,\"#bd3786\"],[0.5555555555555556,\"#d8576b\"],[0.6666666666666666,\"#ed7953\"],[0.7777777777777778,\"#fb9f3a\"],[0.8888888888888888,\"#fdca26\"],[1.0,\"#f0f921\"]],\"sequentialminus\":[[0.0,\"#0d0887\"],[0.1111111111111111,\"#46039f\"],[0.2222222222222222,\"#7201a8\"],[0.3333333333333333,\"#9c179e\"],[0.4444444444444444,\"#bd3786\"],[0.5555555555555556,\"#d8576b\"],[0.6666666666666666,\"#ed7953\"],[0.7777777777777778,\"#fb9f3a\"],[0.8888888888888888,\"#fdca26\"],[1.0,\"#f0f921\"]]},\"colorway\":[\"#636efa\",\"#EF553B\",\"#00cc96\",\"#ab63fa\",\"#FFA15A\",\"#19d3f3\",\"#FF6692\",\"#B6E880\",\"#FF97FF\",\"#FECB52\"],\"font\":{\"color\":\"#2a3f5f\"},\"geo\":{\"bgcolor\":\"white\",\"lakecolor\":\"white\",\"landcolor\":\"#E5ECF6\",\"showlakes\":true,\"showland\":true,\"subunitcolor\":\"white\"},\"hoverlabel\":{\"align\":\"left\"},\"hovermode\":\"closest\",\"mapbox\":{\"style\":\"light\"},\"paper_bgcolor\":\"white\",\"plot_bgcolor\":\"#E5ECF6\",\"polar\":{\"angularaxis\":{\"gridcolor\":\"white\",\"linecolor\":\"white\",\"ticks\":\"\"},\"bgcolor\":\"#E5ECF6\",\"radialaxis\":{\"gridcolor\":\"white\",\"linecolor\":\"white\",\"ticks\":\"\"}},\"scene\":{\"xaxis\":{\"backgroundcolor\":\"#E5ECF6\",\"gridcolor\":\"white\",\"gridwidth\":2,\"linecolor\":\"white\",\"showbackground\":true,\"ticks\":\"\",\"zerolinecolor\":\"white\"},\"yaxis\":{\"backgroundcolor\":\"#E5ECF6\",\"gridcolor\":\"white\",\"gridwidth\":2,\"linecolor\":\"white\",\"showbackground\":true,\"ticks\":\"\",\"zerolinecolor\":\"white\"},\"zaxis\":{\"backgroundcolor\":\"#E5ECF6\",\"gridcolor\":\"white\",\"gridwidth\":2,\"linecolor\":\"white\",\"showbackground\":true,\"ticks\":\"\",\"zerolinecolor\":\"white\"}},\"shapedefaults\":{\"line\":{\"color\":\"#2a3f5f\"}},\"ternary\":{\"aaxis\":{\"gridcolor\":\"white\",\"linecolor\":\"white\",\"ticks\":\"\"},\"baxis\":{\"gridcolor\":\"white\",\"linecolor\":\"white\",\"ticks\":\"\"},\"bgcolor\":\"#E5ECF6\",\"caxis\":{\"gridcolor\":\"white\",\"linecolor\":\"white\",\"ticks\":\"\"}},\"title\":{\"x\":0.05},\"xaxis\":{\"automargin\":true,\"gridcolor\":\"white\",\"linecolor\":\"white\",\"ticks\":\"\",\"title\":{\"standoff\":15},\"zerolinecolor\":\"white\",\"zerolinewidth\":2},\"yaxis\":{\"automargin\":true,\"gridcolor\":\"white\",\"linecolor\":\"white\",\"ticks\":\"\",\"title\":{\"standoff\":15},\"zerolinecolor\":\"white\",\"zerolinewidth\":2}}},\"title\":{\"font\":{\"color\":\"#4D5663\"}},\"xaxis\":{\"gridcolor\":\"#E1E5ED\",\"showgrid\":true,\"tickfont\":{\"color\":\"#4D5663\"},\"title\":{\"font\":{\"color\":\"#4D5663\"},\"text\":\"\"},\"zerolinecolor\":\"#E1E5ED\"},\"yaxis\":{\"gridcolor\":\"#E1E5ED\",\"showgrid\":true,\"tickfont\":{\"color\":\"#4D5663\"},\"title\":{\"font\":{\"color\":\"#4D5663\"},\"text\":\"\"},\"zerolinecolor\":\"#E1E5ED\"}},                        {\"showLink\": true, \"linkText\": \"Export to plot.ly\", \"plotlyServerURL\": \"https://plot.ly\", \"responsive\": true}                    ).then(function(){\n",
       "                            \n",
       "var gd = document.getElementById('53e6d7b9-ea37-4a20-a001-033e300e7205');\n",
       "var x = new MutationObserver(function (mutations, observer) {{\n",
       "        var display = window.getComputedStyle(gd).display;\n",
       "        if (!display || display === 'none') {{\n",
       "            console.log([gd, 'removed!']);\n",
       "            Plotly.purge(gd);\n",
       "            observer.disconnect();\n",
       "        }}\n",
       "}});\n",
       "\n",
       "// Listen for the removal of the full notebook cells\n",
       "var notebookContainer = gd.closest('#notebook-container');\n",
       "if (notebookContainer) {{\n",
       "    x.observe(notebookContainer, {childList: true});\n",
       "}}\n",
       "\n",
       "// Listen for the clearing of the current output cell\n",
       "var outputEl = gd.closest('.output');\n",
       "if (outputEl) {{\n",
       "    x.observe(outputEl, {childList: true});\n",
       "}}\n",
       "\n",
       "                        })                };                });            </script>        </div>"
      ]
     },
     "metadata": {},
     "output_type": "display_data"
    }
   ],
   "source": [
    "df.sum().iplot(kind='bar')"
   ]
  },
  {
   "cell_type": "code",
   "execution_count": 31,
   "id": "ae12e702",
   "metadata": {
    "ExecuteTime": {
     "end_time": "2023-01-12T17:27:57.248491Z",
     "start_time": "2023-01-12T17:27:57.156492Z"
    }
   },
   "outputs": [
    {
     "data": {
      "application/vnd.plotly.v1+json": {
       "config": {
        "linkText": "Export to plot.ly",
        "plotlyServerURL": "https://plot.ly",
        "showLink": true
       },
       "data": [
        {
         "boxpoints": false,
         "line": {
          "width": 1.3
         },
         "marker": {
          "color": "rgba(255, 153, 51, 1.0)"
         },
         "name": "A",
         "orientation": "v",
         "type": "box",
         "y": [
          0.37597005318765364,
          -0.9048495718966237,
          0.8579565711447589,
          0.5400822133171609,
          -1.3077258733358614,
          -0.5342628034790948,
          -0.4453140991222401,
          1.9149519217568853,
          -0.4298784428599787,
          -1.7408278622364468,
          0.08984730403796322,
          -0.7220639924502646,
          -0.661782077365756,
          -1.9313280548361829,
          1.0995235869258424,
          -2.2416909234475497,
          1.6556238846323768,
          0.4881773567676999,
          -0.24661995472311352,
          -1.0888515437052844,
          -0.3800838112965957,
          1.076085654409655,
          -1.6593557461777635,
          0.21297961644533725,
          -1.5805191546265278,
          -1.618813240069065,
          0.04667537628522792,
          -0.3292224638769374,
          -1.1251094929123244,
          0.4090802971009559,
          -1.3057982878541903,
          0.4551469096035381,
          -0.06954108892814388,
          1.2405533050281512,
          -1.2173275922137747,
          1.65140906115177,
          -0.049881944271718826,
          0.38147990711103064,
          -1.0977982075374673,
          -0.8695743896417516,
          -1.1401255024732972,
          -0.1858666165578455,
          0.49689378953900226,
          -1.7204814086558124,
          1.3439359237959083,
          0.4609679198043368,
          0.8667683379824784,
          0.532690330525514,
          0.95150358077794,
          1.250685572340651,
          -0.26943495020421604,
          0.09722637026800443,
          0.4088197644876183,
          0.39448931245833757,
          1.524689421116744,
          0.6826810268566323,
          -1.6830237912206034,
          0.6318572757177054,
          0.2712253471184101,
          0.5970364658727937,
          0.7659094762271283,
          0.1096216186670033,
          -0.9596009180692899,
          -0.27623561082193904,
          -0.2579137767261097,
          -1.5159322047196007,
          0.26460532519337004,
          -0.7291898945221118,
          0.41642299592662535,
          0.6316260731687413,
          0.26153263868151694,
          -1.0468931473485552,
          1.908267957100243,
          1.0344822555487396,
          -1.5724801942537763,
          0.3569898615943052,
          -0.5466895707445805,
          2.0376888472931776,
          0.3144215127715293,
          0.5138467978812578,
          1.819754268505688,
          0.36849994498834077,
          -0.15873092607185396,
          -1.0049529009052667,
          0.09150725192149144,
          0.5764277982327448,
          -1.4916678031268555,
          0.6889429161353486,
          -1.5340180898299038,
          -0.5535547871389617,
          0.8371221944612994,
          1.511812318129234,
          0.4504704904485682,
          0.8099235277959423,
          -0.7489858817084645,
          0.9502448003142555,
          0.5875531667765086,
          1.575218737798039,
          0.6355889890230145,
          -0.8433765111948266
         ]
        },
        {
         "boxpoints": false,
         "line": {
          "width": 1.3
         },
         "marker": {
          "color": "rgba(55, 128, 191, 1.0)"
         },
         "name": "B",
         "orientation": "v",
         "type": "box",
         "y": [
          0.9850713887904406,
          0.9895016294470834,
          0.33522187833194084,
          0.38263555967156293,
          0.3745792917333505,
          -1.429798678593703,
          1.1824612431217312,
          0.626488597539041,
          0.14349191696675895,
          -0.14814614007520954,
          -0.011611341174777376,
          2.12010533548965,
          -0.8772273524296763,
          0.6081160835617304,
          0.16137092972869155,
          -1.0714094098077365,
          -0.24641963527506083,
          -0.06582086200559119,
          -1.0060510964237628,
          -0.10337648868594303,
          -0.37416372381453705,
          0.9355670189990279,
          0.6210186517918276,
          -0.382253315672212,
          1.1502055049032665,
          0.11081971219168177,
          -0.9485281386209676,
          0.3163862184000106,
          -0.3640965591259851,
          0.18310189183405573,
          2.2399820434026694,
          0.639087710690256,
          -0.1398487891852959,
          -0.3925511584810141,
          1.3296265283651694,
          -0.11776415174203159,
          -0.4744386630352112,
          -0.4588922483652321,
          0.7842901351701419,
          -0.7900798468461651,
          -0.3144100924184365,
          0.06904462737971202,
          -0.08165840561428707,
          0.5937850226834473,
          1.6943248142423644,
          -1.4730818763638593,
          1.9149121426011169,
          -0.6981210172827813,
          1.0620220071337512,
          0.3270240144233015,
          0.9983963737189102,
          -1.5820504018948132,
          1.5576377626695666,
          0.6818302184258955,
          0.9581576498185576,
          0.7734938363828401,
          -1.2645145864507532,
          -0.6557307087352567,
          -0.08794658491303368,
          -0.2078210220450748,
          -0.7092534417802636,
          -0.4381431192271822,
          -0.29781816966271807,
          -1.9836917976954034,
          1.7777877374165716,
          0.3218961402254565,
          -2.077586101344516,
          -1.2073343169448907,
          1.7441615296849142,
          0.3048809157280745,
          -0.4907508335554843,
          0.8770109049237509,
          1.4245387717453464,
          1.0661665279074823,
          -0.6339901914933027,
          0.6802602704574408,
          -0.7168654439364791,
          -0.5578302948819142,
          -1.1185457726425359,
          -0.6121908887398874,
          -0.3779897877929932,
          1.4777200034997569,
          -0.19292716976175264,
          0.3574539014170091,
          -0.18544526745879408,
          -1.1466728464685323,
          0.5323503559652332,
          1.099398587877932,
          -2.3408632006156953,
          0.2961022336838603,
          0.34912709976479883,
          0.4803125361409515,
          -0.9275043314294719,
          1.810404002204835,
          -0.8997615818329986,
          -0.8882118828210713,
          0.07222842748511556,
          0.8997473673949757,
          0.12376395341787741,
          -2.1040059015548027
         ]
        },
        {
         "boxpoints": false,
         "line": {
          "width": 1.3
         },
         "marker": {
          "color": "rgba(50, 171, 96, 1.0)"
         },
         "name": "C",
         "orientation": "v",
         "type": "box",
         "y": [
          1.3624391131495084,
          -0.09446315603746394,
          0.12053743295789382,
          1.1817252377826062,
          0.6475800142644463,
          0.8365164130551516,
          -0.4078180117652873,
          -1.1958213597542948,
          0.40486279121570723,
          0.30592864416212057,
          0.19107544463621579,
          0.693625983370063,
          -0.4795213929104659,
          -1.0445591306189137,
          1.5408861746461362,
          -1.3208667950772104,
          0.6094364132193509,
          -0.04085162955660802,
          -1.1955049542950045,
          -1.2909839067238678,
          -0.18996601563309218,
          -0.3027149219694637,
          -1.5439791351118015,
          0.15460830804329959,
          0.658379885150995,
          0.5165004387560271,
          0.24957975250950862,
          0.0374615654790334,
          -0.5011376297220035,
          -0.6980267142027701,
          1.003819045674507,
          0.5585194029409475,
          -0.6530654144953657,
          1.2989071642014614,
          1.2646838735261166,
          0.5232949932517565,
          -0.6708949079502614,
          -0.927915205881154,
          0.8588928727833726,
          -0.5510976265140255,
          -1.0544854398765824,
          0.38249192826086326,
          -0.265182820267451,
          -1.2334846966610336,
          0.8966353913944343,
          1.1855664845671843,
          2.102330612375204,
          0.8819175112781902,
          0.9484031417715634,
          -1.2951255668253117,
          0.5032418726519972,
          0.3869633350184438,
          2.0393910745438646,
          -0.9133046872020412,
          -1.7446801263689433,
          -0.2368714660544164,
          0.11501744149322286,
          0.9606814835850809,
          -1.0283016300674763,
          -0.20628502526959266,
          1.549434241388962,
          0.7699467943680909,
          1.1577045284955838,
          -0.34241868984657486,
          -0.21732911323454163,
          -0.7639606514748805,
          -0.6982225764961281,
          0.09808374584084899,
          0.07220517620201307,
          0.28388278140747314,
          2.048594502372427,
          -1.8338997526400318,
          1.1579823376966734,
          0.09248369553907014,
          -0.9536254360521329,
          -0.07992099885216111,
          -1.339150308345133,
          -4.248316610590325,
          0.877309688073591,
          1.0774032735018733,
          -1.660165966097154,
          -0.3296052293735431,
          0.7444300470693337,
          -0.28835240383946076,
          1.3209428618408567,
          -1.7226785064983972,
          -1.4546956979417622,
          -1.3569076990715874,
          -0.4591211120108361,
          0.6957975501809467,
          0.18663813416373395,
          0.684558745731199,
          -0.8003535785394227,
          1.4626502325103097,
          0.27341601084813794,
          -1.5470354465064384,
          1.1031551691903023,
          -0.12376385833508523,
          -0.8445403928519083,
          -1.1997622783239204
         ]
        },
        {
         "boxpoints": false,
         "line": {
          "width": 1.3
         },
         "marker": {
          "color": "rgba(128, 0, 128, 1.0)"
         },
         "name": "D",
         "orientation": "v",
         "type": "box",
         "y": [
          0.4508128924895635,
          0.04215376366990217,
          -1.0518703849568212,
          0.3500266469736823,
          0.20580261077350961,
          1.754896843152072,
          2.6429833117351147,
          -0.8642797610580246,
          -0.41582297549411373,
          -2.042660108926624,
          2.433411389040133,
          0.04535365358034176,
          -0.029792164141180695,
          0.09932599146605318,
          -0.36469484458203194,
          -0.014842401964342685,
          0.7162484120775321,
          -0.21961157381040466,
          -0.1993741741945207,
          0.23618296330368907,
          -1.0988480324183805,
          -1.1914519954196043,
          1.626157398674772,
          0.6014805018574845,
          -0.28299033172737736,
          0.20369756450508605,
          -1.3892156923525512,
          -4.194659972602769,
          -0.2576579263997152,
          0.18060191245340587,
          1.007979796275341,
          2.8548811976149677,
          -1.2989409444905182,
          1.7539133867387662,
          0.6355116643849393,
          -0.8877889204443272,
          0.2632211548259389,
          -2.1995470109944844,
          0.10508899178899203,
          0.023440149037699982,
          -0.7425340360296323,
          0.5135110343053352,
          1.0469222376987855,
          0.334179083908498,
          -0.6732049555684151,
          1.920255314155447,
          0.31474455194034795,
          -1.2532405006469192,
          -0.1782867341660852,
          -0.2612236675518501,
          0.08529428865256748,
          0.8859081746666121,
          -1.0395821361778677,
          -1.1188438311720794,
          1.5062784783110792,
          0.5645111723215555,
          1.5574015777784491,
          0.9343818985603018,
          1.2748663294021338,
          0.19879888180871147,
          -0.5414272117544923,
          0.39304960399247185,
          -0.9247493404146402,
          0.42558068308709135,
          -0.24056252548192844,
          -0.019922997486305462,
          -0.6719566946713905,
          -0.27653060364317744,
          0.8027553461951863,
          0.27219153335231094,
          -0.5813309657966865,
          0.5436017784492733,
          0.37242807990780813,
          -1.0329950228586733,
          -1.395061469594945,
          -0.11127250730929014,
          1.455724989900488,
          -1.7520381668036558,
          -0.7413967616142342,
          0.8162950883053584,
          -0.38201837863016125,
          -0.4575423670048262,
          -0.4643247842979483,
          -0.20121589003332105,
          -0.49942386266143535,
          -0.5379565189422676,
          -1.5637105321302363,
          0.4845066972715467,
          -1.4458852188723432,
          -0.17788830278383255,
          0.6521404141377812,
          0.1210782204443573,
          0.5994269475041096,
          -0.48866354384002325,
          -1.8744915866299037,
          -0.4459372624232242,
          -0.24734394526561712,
          0.6108673765982904,
          -0.6112625793654177,
          -1.5686529059756902
         ]
        }
       ],
       "layout": {
        "legend": {
         "bgcolor": "#F5F6F9",
         "font": {
          "color": "#4D5663"
         }
        },
        "paper_bgcolor": "#F5F6F9",
        "plot_bgcolor": "#F5F6F9",
        "template": {
         "data": {
          "bar": [
           {
            "error_x": {
             "color": "#2a3f5f"
            },
            "error_y": {
             "color": "#2a3f5f"
            },
            "marker": {
             "line": {
              "color": "#E5ECF6",
              "width": 0.5
             },
             "pattern": {
              "fillmode": "overlay",
              "size": 10,
              "solidity": 0.2
             }
            },
            "type": "bar"
           }
          ],
          "barpolar": [
           {
            "marker": {
             "line": {
              "color": "#E5ECF6",
              "width": 0.5
             },
             "pattern": {
              "fillmode": "overlay",
              "size": 10,
              "solidity": 0.2
             }
            },
            "type": "barpolar"
           }
          ],
          "carpet": [
           {
            "aaxis": {
             "endlinecolor": "#2a3f5f",
             "gridcolor": "white",
             "linecolor": "white",
             "minorgridcolor": "white",
             "startlinecolor": "#2a3f5f"
            },
            "baxis": {
             "endlinecolor": "#2a3f5f",
             "gridcolor": "white",
             "linecolor": "white",
             "minorgridcolor": "white",
             "startlinecolor": "#2a3f5f"
            },
            "type": "carpet"
           }
          ],
          "choropleth": [
           {
            "colorbar": {
             "outlinewidth": 0,
             "ticks": ""
            },
            "type": "choropleth"
           }
          ],
          "contour": [
           {
            "colorbar": {
             "outlinewidth": 0,
             "ticks": ""
            },
            "colorscale": [
             [
              0,
              "#0d0887"
             ],
             [
              0.1111111111111111,
              "#46039f"
             ],
             [
              0.2222222222222222,
              "#7201a8"
             ],
             [
              0.3333333333333333,
              "#9c179e"
             ],
             [
              0.4444444444444444,
              "#bd3786"
             ],
             [
              0.5555555555555556,
              "#d8576b"
             ],
             [
              0.6666666666666666,
              "#ed7953"
             ],
             [
              0.7777777777777778,
              "#fb9f3a"
             ],
             [
              0.8888888888888888,
              "#fdca26"
             ],
             [
              1,
              "#f0f921"
             ]
            ],
            "type": "contour"
           }
          ],
          "contourcarpet": [
           {
            "colorbar": {
             "outlinewidth": 0,
             "ticks": ""
            },
            "type": "contourcarpet"
           }
          ],
          "heatmap": [
           {
            "colorbar": {
             "outlinewidth": 0,
             "ticks": ""
            },
            "colorscale": [
             [
              0,
              "#0d0887"
             ],
             [
              0.1111111111111111,
              "#46039f"
             ],
             [
              0.2222222222222222,
              "#7201a8"
             ],
             [
              0.3333333333333333,
              "#9c179e"
             ],
             [
              0.4444444444444444,
              "#bd3786"
             ],
             [
              0.5555555555555556,
              "#d8576b"
             ],
             [
              0.6666666666666666,
              "#ed7953"
             ],
             [
              0.7777777777777778,
              "#fb9f3a"
             ],
             [
              0.8888888888888888,
              "#fdca26"
             ],
             [
              1,
              "#f0f921"
             ]
            ],
            "type": "heatmap"
           }
          ],
          "heatmapgl": [
           {
            "colorbar": {
             "outlinewidth": 0,
             "ticks": ""
            },
            "colorscale": [
             [
              0,
              "#0d0887"
             ],
             [
              0.1111111111111111,
              "#46039f"
             ],
             [
              0.2222222222222222,
              "#7201a8"
             ],
             [
              0.3333333333333333,
              "#9c179e"
             ],
             [
              0.4444444444444444,
              "#bd3786"
             ],
             [
              0.5555555555555556,
              "#d8576b"
             ],
             [
              0.6666666666666666,
              "#ed7953"
             ],
             [
              0.7777777777777778,
              "#fb9f3a"
             ],
             [
              0.8888888888888888,
              "#fdca26"
             ],
             [
              1,
              "#f0f921"
             ]
            ],
            "type": "heatmapgl"
           }
          ],
          "histogram": [
           {
            "marker": {
             "pattern": {
              "fillmode": "overlay",
              "size": 10,
              "solidity": 0.2
             }
            },
            "type": "histogram"
           }
          ],
          "histogram2d": [
           {
            "colorbar": {
             "outlinewidth": 0,
             "ticks": ""
            },
            "colorscale": [
             [
              0,
              "#0d0887"
             ],
             [
              0.1111111111111111,
              "#46039f"
             ],
             [
              0.2222222222222222,
              "#7201a8"
             ],
             [
              0.3333333333333333,
              "#9c179e"
             ],
             [
              0.4444444444444444,
              "#bd3786"
             ],
             [
              0.5555555555555556,
              "#d8576b"
             ],
             [
              0.6666666666666666,
              "#ed7953"
             ],
             [
              0.7777777777777778,
              "#fb9f3a"
             ],
             [
              0.8888888888888888,
              "#fdca26"
             ],
             [
              1,
              "#f0f921"
             ]
            ],
            "type": "histogram2d"
           }
          ],
          "histogram2dcontour": [
           {
            "colorbar": {
             "outlinewidth": 0,
             "ticks": ""
            },
            "colorscale": [
             [
              0,
              "#0d0887"
             ],
             [
              0.1111111111111111,
              "#46039f"
             ],
             [
              0.2222222222222222,
              "#7201a8"
             ],
             [
              0.3333333333333333,
              "#9c179e"
             ],
             [
              0.4444444444444444,
              "#bd3786"
             ],
             [
              0.5555555555555556,
              "#d8576b"
             ],
             [
              0.6666666666666666,
              "#ed7953"
             ],
             [
              0.7777777777777778,
              "#fb9f3a"
             ],
             [
              0.8888888888888888,
              "#fdca26"
             ],
             [
              1,
              "#f0f921"
             ]
            ],
            "type": "histogram2dcontour"
           }
          ],
          "mesh3d": [
           {
            "colorbar": {
             "outlinewidth": 0,
             "ticks": ""
            },
            "type": "mesh3d"
           }
          ],
          "parcoords": [
           {
            "line": {
             "colorbar": {
              "outlinewidth": 0,
              "ticks": ""
             }
            },
            "type": "parcoords"
           }
          ],
          "pie": [
           {
            "automargin": true,
            "type": "pie"
           }
          ],
          "scatter": [
           {
            "fillpattern": {
             "fillmode": "overlay",
             "size": 10,
             "solidity": 0.2
            },
            "type": "scatter"
           }
          ],
          "scatter3d": [
           {
            "line": {
             "colorbar": {
              "outlinewidth": 0,
              "ticks": ""
             }
            },
            "marker": {
             "colorbar": {
              "outlinewidth": 0,
              "ticks": ""
             }
            },
            "type": "scatter3d"
           }
          ],
          "scattercarpet": [
           {
            "marker": {
             "colorbar": {
              "outlinewidth": 0,
              "ticks": ""
             }
            },
            "type": "scattercarpet"
           }
          ],
          "scattergeo": [
           {
            "marker": {
             "colorbar": {
              "outlinewidth": 0,
              "ticks": ""
             }
            },
            "type": "scattergeo"
           }
          ],
          "scattergl": [
           {
            "marker": {
             "colorbar": {
              "outlinewidth": 0,
              "ticks": ""
             }
            },
            "type": "scattergl"
           }
          ],
          "scattermapbox": [
           {
            "marker": {
             "colorbar": {
              "outlinewidth": 0,
              "ticks": ""
             }
            },
            "type": "scattermapbox"
           }
          ],
          "scatterpolar": [
           {
            "marker": {
             "colorbar": {
              "outlinewidth": 0,
              "ticks": ""
             }
            },
            "type": "scatterpolar"
           }
          ],
          "scatterpolargl": [
           {
            "marker": {
             "colorbar": {
              "outlinewidth": 0,
              "ticks": ""
             }
            },
            "type": "scatterpolargl"
           }
          ],
          "scatterternary": [
           {
            "marker": {
             "colorbar": {
              "outlinewidth": 0,
              "ticks": ""
             }
            },
            "type": "scatterternary"
           }
          ],
          "surface": [
           {
            "colorbar": {
             "outlinewidth": 0,
             "ticks": ""
            },
            "colorscale": [
             [
              0,
              "#0d0887"
             ],
             [
              0.1111111111111111,
              "#46039f"
             ],
             [
              0.2222222222222222,
              "#7201a8"
             ],
             [
              0.3333333333333333,
              "#9c179e"
             ],
             [
              0.4444444444444444,
              "#bd3786"
             ],
             [
              0.5555555555555556,
              "#d8576b"
             ],
             [
              0.6666666666666666,
              "#ed7953"
             ],
             [
              0.7777777777777778,
              "#fb9f3a"
             ],
             [
              0.8888888888888888,
              "#fdca26"
             ],
             [
              1,
              "#f0f921"
             ]
            ],
            "type": "surface"
           }
          ],
          "table": [
           {
            "cells": {
             "fill": {
              "color": "#EBF0F8"
             },
             "line": {
              "color": "white"
             }
            },
            "header": {
             "fill": {
              "color": "#C8D4E3"
             },
             "line": {
              "color": "white"
             }
            },
            "type": "table"
           }
          ]
         },
         "layout": {
          "annotationdefaults": {
           "arrowcolor": "#2a3f5f",
           "arrowhead": 0,
           "arrowwidth": 1
          },
          "autotypenumbers": "strict",
          "coloraxis": {
           "colorbar": {
            "outlinewidth": 0,
            "ticks": ""
           }
          },
          "colorscale": {
           "diverging": [
            [
             0,
             "#8e0152"
            ],
            [
             0.1,
             "#c51b7d"
            ],
            [
             0.2,
             "#de77ae"
            ],
            [
             0.3,
             "#f1b6da"
            ],
            [
             0.4,
             "#fde0ef"
            ],
            [
             0.5,
             "#f7f7f7"
            ],
            [
             0.6,
             "#e6f5d0"
            ],
            [
             0.7,
             "#b8e186"
            ],
            [
             0.8,
             "#7fbc41"
            ],
            [
             0.9,
             "#4d9221"
            ],
            [
             1,
             "#276419"
            ]
           ],
           "sequential": [
            [
             0,
             "#0d0887"
            ],
            [
             0.1111111111111111,
             "#46039f"
            ],
            [
             0.2222222222222222,
             "#7201a8"
            ],
            [
             0.3333333333333333,
             "#9c179e"
            ],
            [
             0.4444444444444444,
             "#bd3786"
            ],
            [
             0.5555555555555556,
             "#d8576b"
            ],
            [
             0.6666666666666666,
             "#ed7953"
            ],
            [
             0.7777777777777778,
             "#fb9f3a"
            ],
            [
             0.8888888888888888,
             "#fdca26"
            ],
            [
             1,
             "#f0f921"
            ]
           ],
           "sequentialminus": [
            [
             0,
             "#0d0887"
            ],
            [
             0.1111111111111111,
             "#46039f"
            ],
            [
             0.2222222222222222,
             "#7201a8"
            ],
            [
             0.3333333333333333,
             "#9c179e"
            ],
            [
             0.4444444444444444,
             "#bd3786"
            ],
            [
             0.5555555555555556,
             "#d8576b"
            ],
            [
             0.6666666666666666,
             "#ed7953"
            ],
            [
             0.7777777777777778,
             "#fb9f3a"
            ],
            [
             0.8888888888888888,
             "#fdca26"
            ],
            [
             1,
             "#f0f921"
            ]
           ]
          },
          "colorway": [
           "#636efa",
           "#EF553B",
           "#00cc96",
           "#ab63fa",
           "#FFA15A",
           "#19d3f3",
           "#FF6692",
           "#B6E880",
           "#FF97FF",
           "#FECB52"
          ],
          "font": {
           "color": "#2a3f5f"
          },
          "geo": {
           "bgcolor": "white",
           "lakecolor": "white",
           "landcolor": "#E5ECF6",
           "showlakes": true,
           "showland": true,
           "subunitcolor": "white"
          },
          "hoverlabel": {
           "align": "left"
          },
          "hovermode": "closest",
          "mapbox": {
           "style": "light"
          },
          "paper_bgcolor": "white",
          "plot_bgcolor": "#E5ECF6",
          "polar": {
           "angularaxis": {
            "gridcolor": "white",
            "linecolor": "white",
            "ticks": ""
           },
           "bgcolor": "#E5ECF6",
           "radialaxis": {
            "gridcolor": "white",
            "linecolor": "white",
            "ticks": ""
           }
          },
          "scene": {
           "xaxis": {
            "backgroundcolor": "#E5ECF6",
            "gridcolor": "white",
            "gridwidth": 2,
            "linecolor": "white",
            "showbackground": true,
            "ticks": "",
            "zerolinecolor": "white"
           },
           "yaxis": {
            "backgroundcolor": "#E5ECF6",
            "gridcolor": "white",
            "gridwidth": 2,
            "linecolor": "white",
            "showbackground": true,
            "ticks": "",
            "zerolinecolor": "white"
           },
           "zaxis": {
            "backgroundcolor": "#E5ECF6",
            "gridcolor": "white",
            "gridwidth": 2,
            "linecolor": "white",
            "showbackground": true,
            "ticks": "",
            "zerolinecolor": "white"
           }
          },
          "shapedefaults": {
           "line": {
            "color": "#2a3f5f"
           }
          },
          "ternary": {
           "aaxis": {
            "gridcolor": "white",
            "linecolor": "white",
            "ticks": ""
           },
           "baxis": {
            "gridcolor": "white",
            "linecolor": "white",
            "ticks": ""
           },
           "bgcolor": "#E5ECF6",
           "caxis": {
            "gridcolor": "white",
            "linecolor": "white",
            "ticks": ""
           }
          },
          "title": {
           "x": 0.05
          },
          "xaxis": {
           "automargin": true,
           "gridcolor": "white",
           "linecolor": "white",
           "ticks": "",
           "title": {
            "standoff": 15
           },
           "zerolinecolor": "white",
           "zerolinewidth": 2
          },
          "yaxis": {
           "automargin": true,
           "gridcolor": "white",
           "linecolor": "white",
           "ticks": "",
           "title": {
            "standoff": 15
           },
           "zerolinecolor": "white",
           "zerolinewidth": 2
          }
         }
        },
        "title": {
         "font": {
          "color": "#4D5663"
         }
        },
        "xaxis": {
         "gridcolor": "#E1E5ED",
         "showgrid": true,
         "tickfont": {
          "color": "#4D5663"
         },
         "title": {
          "font": {
           "color": "#4D5663"
          },
          "text": ""
         },
         "zerolinecolor": "#E1E5ED"
        },
        "yaxis": {
         "gridcolor": "#E1E5ED",
         "showgrid": true,
         "tickfont": {
          "color": "#4D5663"
         },
         "title": {
          "font": {
           "color": "#4D5663"
          },
          "text": ""
         },
         "zerolinecolor": "#E1E5ED"
        }
       }
      },
      "text/html": [
       "<div>                            <div id=\"71804089-4762-419c-8139-3e2175c2b5f8\" class=\"plotly-graph-div\" style=\"height:525px; width:100%;\"></div>            <script type=\"text/javascript\">                require([\"plotly\"], function(Plotly) {                    window.PLOTLYENV=window.PLOTLYENV || {};\n",
       "                    window.PLOTLYENV.BASE_URL='https://plot.ly';                                    if (document.getElementById(\"71804089-4762-419c-8139-3e2175c2b5f8\")) {                    Plotly.newPlot(                        \"71804089-4762-419c-8139-3e2175c2b5f8\",                        [{\"boxpoints\":false,\"line\":{\"width\":1.3},\"marker\":{\"color\":\"rgba(255, 153, 51, 1.0)\"},\"name\":\"A\",\"orientation\":\"v\",\"y\":[0.37597005318765364,-0.9048495718966237,0.8579565711447589,0.5400822133171609,-1.3077258733358614,-0.5342628034790948,-0.4453140991222401,1.9149519217568853,-0.4298784428599787,-1.7408278622364468,0.08984730403796322,-0.7220639924502646,-0.661782077365756,-1.9313280548361829,1.0995235869258424,-2.2416909234475497,1.6556238846323768,0.4881773567676999,-0.24661995472311352,-1.0888515437052844,-0.3800838112965957,1.076085654409655,-1.6593557461777635,0.21297961644533725,-1.5805191546265278,-1.618813240069065,0.04667537628522792,-0.3292224638769374,-1.1251094929123244,0.4090802971009559,-1.3057982878541903,0.4551469096035381,-0.06954108892814388,1.2405533050281512,-1.2173275922137747,1.65140906115177,-0.049881944271718826,0.38147990711103064,-1.0977982075374673,-0.8695743896417516,-1.1401255024732972,-0.1858666165578455,0.49689378953900226,-1.7204814086558124,1.3439359237959083,0.4609679198043368,0.8667683379824784,0.532690330525514,0.95150358077794,1.250685572340651,-0.26943495020421604,0.09722637026800443,0.4088197644876183,0.39448931245833757,1.524689421116744,0.6826810268566323,-1.6830237912206034,0.6318572757177054,0.2712253471184101,0.5970364658727937,0.7659094762271283,0.1096216186670033,-0.9596009180692899,-0.27623561082193904,-0.2579137767261097,-1.5159322047196007,0.26460532519337004,-0.7291898945221118,0.41642299592662535,0.6316260731687413,0.26153263868151694,-1.0468931473485552,1.908267957100243,1.0344822555487396,-1.5724801942537763,0.3569898615943052,-0.5466895707445805,2.0376888472931776,0.3144215127715293,0.5138467978812578,1.819754268505688,0.36849994498834077,-0.15873092607185396,-1.0049529009052667,0.09150725192149144,0.5764277982327448,-1.4916678031268555,0.6889429161353486,-1.5340180898299038,-0.5535547871389617,0.8371221944612994,1.511812318129234,0.4504704904485682,0.8099235277959423,-0.7489858817084645,0.9502448003142555,0.5875531667765086,1.575218737798039,0.6355889890230145,-0.8433765111948266],\"type\":\"box\"},{\"boxpoints\":false,\"line\":{\"width\":1.3},\"marker\":{\"color\":\"rgba(55, 128, 191, 1.0)\"},\"name\":\"B\",\"orientation\":\"v\",\"y\":[0.9850713887904406,0.9895016294470834,0.33522187833194084,0.38263555967156293,0.3745792917333505,-1.429798678593703,1.1824612431217312,0.626488597539041,0.14349191696675895,-0.14814614007520954,-0.011611341174777376,2.12010533548965,-0.8772273524296763,0.6081160835617304,0.16137092972869155,-1.0714094098077365,-0.24641963527506083,-0.06582086200559119,-1.0060510964237628,-0.10337648868594303,-0.37416372381453705,0.9355670189990279,0.6210186517918276,-0.382253315672212,1.1502055049032665,0.11081971219168177,-0.9485281386209676,0.3163862184000106,-0.3640965591259851,0.18310189183405573,2.2399820434026694,0.639087710690256,-0.1398487891852959,-0.3925511584810141,1.3296265283651694,-0.11776415174203159,-0.4744386630352112,-0.4588922483652321,0.7842901351701419,-0.7900798468461651,-0.3144100924184365,0.06904462737971202,-0.08165840561428707,0.5937850226834473,1.6943248142423644,-1.4730818763638593,1.9149121426011169,-0.6981210172827813,1.0620220071337512,0.3270240144233015,0.9983963737189102,-1.5820504018948132,1.5576377626695666,0.6818302184258955,0.9581576498185576,0.7734938363828401,-1.2645145864507532,-0.6557307087352567,-0.08794658491303368,-0.2078210220450748,-0.7092534417802636,-0.4381431192271822,-0.29781816966271807,-1.9836917976954034,1.7777877374165716,0.3218961402254565,-2.077586101344516,-1.2073343169448907,1.7441615296849142,0.3048809157280745,-0.4907508335554843,0.8770109049237509,1.4245387717453464,1.0661665279074823,-0.6339901914933027,0.6802602704574408,-0.7168654439364791,-0.5578302948819142,-1.1185457726425359,-0.6121908887398874,-0.3779897877929932,1.4777200034997569,-0.19292716976175264,0.3574539014170091,-0.18544526745879408,-1.1466728464685323,0.5323503559652332,1.099398587877932,-2.3408632006156953,0.2961022336838603,0.34912709976479883,0.4803125361409515,-0.9275043314294719,1.810404002204835,-0.8997615818329986,-0.8882118828210713,0.07222842748511556,0.8997473673949757,0.12376395341787741,-2.1040059015548027],\"type\":\"box\"},{\"boxpoints\":false,\"line\":{\"width\":1.3},\"marker\":{\"color\":\"rgba(50, 171, 96, 1.0)\"},\"name\":\"C\",\"orientation\":\"v\",\"y\":[1.3624391131495084,-0.09446315603746394,0.12053743295789382,1.1817252377826062,0.6475800142644463,0.8365164130551516,-0.4078180117652873,-1.1958213597542948,0.40486279121570723,0.30592864416212057,0.19107544463621579,0.693625983370063,-0.4795213929104659,-1.0445591306189137,1.5408861746461362,-1.3208667950772104,0.6094364132193509,-0.04085162955660802,-1.1955049542950045,-1.2909839067238678,-0.18996601563309218,-0.3027149219694637,-1.5439791351118015,0.15460830804329959,0.658379885150995,0.5165004387560271,0.24957975250950862,0.0374615654790334,-0.5011376297220035,-0.6980267142027701,1.003819045674507,0.5585194029409475,-0.6530654144953657,1.2989071642014614,1.2646838735261166,0.5232949932517565,-0.6708949079502614,-0.927915205881154,0.8588928727833726,-0.5510976265140255,-1.0544854398765824,0.38249192826086326,-0.265182820267451,-1.2334846966610336,0.8966353913944343,1.1855664845671843,2.102330612375204,0.8819175112781902,0.9484031417715634,-1.2951255668253117,0.5032418726519972,0.3869633350184438,2.0393910745438646,-0.9133046872020412,-1.7446801263689433,-0.2368714660544164,0.11501744149322286,0.9606814835850809,-1.0283016300674763,-0.20628502526959266,1.549434241388962,0.7699467943680909,1.1577045284955838,-0.34241868984657486,-0.21732911323454163,-0.7639606514748805,-0.6982225764961281,0.09808374584084899,0.07220517620201307,0.28388278140747314,2.048594502372427,-1.8338997526400318,1.1579823376966734,0.09248369553907014,-0.9536254360521329,-0.07992099885216111,-1.339150308345133,-4.248316610590325,0.877309688073591,1.0774032735018733,-1.660165966097154,-0.3296052293735431,0.7444300470693337,-0.28835240383946076,1.3209428618408567,-1.7226785064983972,-1.4546956979417622,-1.3569076990715874,-0.4591211120108361,0.6957975501809467,0.18663813416373395,0.684558745731199,-0.8003535785394227,1.4626502325103097,0.27341601084813794,-1.5470354465064384,1.1031551691903023,-0.12376385833508523,-0.8445403928519083,-1.1997622783239204],\"type\":\"box\"},{\"boxpoints\":false,\"line\":{\"width\":1.3},\"marker\":{\"color\":\"rgba(128, 0, 128, 1.0)\"},\"name\":\"D\",\"orientation\":\"v\",\"y\":[0.4508128924895635,0.04215376366990217,-1.0518703849568212,0.3500266469736823,0.20580261077350961,1.754896843152072,2.6429833117351147,-0.8642797610580246,-0.41582297549411373,-2.042660108926624,2.433411389040133,0.04535365358034176,-0.029792164141180695,0.09932599146605318,-0.36469484458203194,-0.014842401964342685,0.7162484120775321,-0.21961157381040466,-0.1993741741945207,0.23618296330368907,-1.0988480324183805,-1.1914519954196043,1.626157398674772,0.6014805018574845,-0.28299033172737736,0.20369756450508605,-1.3892156923525512,-4.194659972602769,-0.2576579263997152,0.18060191245340587,1.007979796275341,2.8548811976149677,-1.2989409444905182,1.7539133867387662,0.6355116643849393,-0.8877889204443272,0.2632211548259389,-2.1995470109944844,0.10508899178899203,0.023440149037699982,-0.7425340360296323,0.5135110343053352,1.0469222376987855,0.334179083908498,-0.6732049555684151,1.920255314155447,0.31474455194034795,-1.2532405006469192,-0.1782867341660852,-0.2612236675518501,0.08529428865256748,0.8859081746666121,-1.0395821361778677,-1.1188438311720794,1.5062784783110792,0.5645111723215555,1.5574015777784491,0.9343818985603018,1.2748663294021338,0.19879888180871147,-0.5414272117544923,0.39304960399247185,-0.9247493404146402,0.42558068308709135,-0.24056252548192844,-0.019922997486305462,-0.6719566946713905,-0.27653060364317744,0.8027553461951863,0.27219153335231094,-0.5813309657966865,0.5436017784492733,0.37242807990780813,-1.0329950228586733,-1.395061469594945,-0.11127250730929014,1.455724989900488,-1.7520381668036558,-0.7413967616142342,0.8162950883053584,-0.38201837863016125,-0.4575423670048262,-0.4643247842979483,-0.20121589003332105,-0.49942386266143535,-0.5379565189422676,-1.5637105321302363,0.4845066972715467,-1.4458852188723432,-0.17788830278383255,0.6521404141377812,0.1210782204443573,0.5994269475041096,-0.48866354384002325,-1.8744915866299037,-0.4459372624232242,-0.24734394526561712,0.6108673765982904,-0.6112625793654177,-1.5686529059756902],\"type\":\"box\"}],                        {\"legend\":{\"bgcolor\":\"#F5F6F9\",\"font\":{\"color\":\"#4D5663\"}},\"paper_bgcolor\":\"#F5F6F9\",\"plot_bgcolor\":\"#F5F6F9\",\"template\":{\"data\":{\"barpolar\":[{\"marker\":{\"line\":{\"color\":\"#E5ECF6\",\"width\":0.5},\"pattern\":{\"fillmode\":\"overlay\",\"size\":10,\"solidity\":0.2}},\"type\":\"barpolar\"}],\"bar\":[{\"error_x\":{\"color\":\"#2a3f5f\"},\"error_y\":{\"color\":\"#2a3f5f\"},\"marker\":{\"line\":{\"color\":\"#E5ECF6\",\"width\":0.5},\"pattern\":{\"fillmode\":\"overlay\",\"size\":10,\"solidity\":0.2}},\"type\":\"bar\"}],\"carpet\":[{\"aaxis\":{\"endlinecolor\":\"#2a3f5f\",\"gridcolor\":\"white\",\"linecolor\":\"white\",\"minorgridcolor\":\"white\",\"startlinecolor\":\"#2a3f5f\"},\"baxis\":{\"endlinecolor\":\"#2a3f5f\",\"gridcolor\":\"white\",\"linecolor\":\"white\",\"minorgridcolor\":\"white\",\"startlinecolor\":\"#2a3f5f\"},\"type\":\"carpet\"}],\"choropleth\":[{\"colorbar\":{\"outlinewidth\":0,\"ticks\":\"\"},\"type\":\"choropleth\"}],\"contourcarpet\":[{\"colorbar\":{\"outlinewidth\":0,\"ticks\":\"\"},\"type\":\"contourcarpet\"}],\"contour\":[{\"colorbar\":{\"outlinewidth\":0,\"ticks\":\"\"},\"colorscale\":[[0.0,\"#0d0887\"],[0.1111111111111111,\"#46039f\"],[0.2222222222222222,\"#7201a8\"],[0.3333333333333333,\"#9c179e\"],[0.4444444444444444,\"#bd3786\"],[0.5555555555555556,\"#d8576b\"],[0.6666666666666666,\"#ed7953\"],[0.7777777777777778,\"#fb9f3a\"],[0.8888888888888888,\"#fdca26\"],[1.0,\"#f0f921\"]],\"type\":\"contour\"}],\"heatmapgl\":[{\"colorbar\":{\"outlinewidth\":0,\"ticks\":\"\"},\"colorscale\":[[0.0,\"#0d0887\"],[0.1111111111111111,\"#46039f\"],[0.2222222222222222,\"#7201a8\"],[0.3333333333333333,\"#9c179e\"],[0.4444444444444444,\"#bd3786\"],[0.5555555555555556,\"#d8576b\"],[0.6666666666666666,\"#ed7953\"],[0.7777777777777778,\"#fb9f3a\"],[0.8888888888888888,\"#fdca26\"],[1.0,\"#f0f921\"]],\"type\":\"heatmapgl\"}],\"heatmap\":[{\"colorbar\":{\"outlinewidth\":0,\"ticks\":\"\"},\"colorscale\":[[0.0,\"#0d0887\"],[0.1111111111111111,\"#46039f\"],[0.2222222222222222,\"#7201a8\"],[0.3333333333333333,\"#9c179e\"],[0.4444444444444444,\"#bd3786\"],[0.5555555555555556,\"#d8576b\"],[0.6666666666666666,\"#ed7953\"],[0.7777777777777778,\"#fb9f3a\"],[0.8888888888888888,\"#fdca26\"],[1.0,\"#f0f921\"]],\"type\":\"heatmap\"}],\"histogram2dcontour\":[{\"colorbar\":{\"outlinewidth\":0,\"ticks\":\"\"},\"colorscale\":[[0.0,\"#0d0887\"],[0.1111111111111111,\"#46039f\"],[0.2222222222222222,\"#7201a8\"],[0.3333333333333333,\"#9c179e\"],[0.4444444444444444,\"#bd3786\"],[0.5555555555555556,\"#d8576b\"],[0.6666666666666666,\"#ed7953\"],[0.7777777777777778,\"#fb9f3a\"],[0.8888888888888888,\"#fdca26\"],[1.0,\"#f0f921\"]],\"type\":\"histogram2dcontour\"}],\"histogram2d\":[{\"colorbar\":{\"outlinewidth\":0,\"ticks\":\"\"},\"colorscale\":[[0.0,\"#0d0887\"],[0.1111111111111111,\"#46039f\"],[0.2222222222222222,\"#7201a8\"],[0.3333333333333333,\"#9c179e\"],[0.4444444444444444,\"#bd3786\"],[0.5555555555555556,\"#d8576b\"],[0.6666666666666666,\"#ed7953\"],[0.7777777777777778,\"#fb9f3a\"],[0.8888888888888888,\"#fdca26\"],[1.0,\"#f0f921\"]],\"type\":\"histogram2d\"}],\"histogram\":[{\"marker\":{\"pattern\":{\"fillmode\":\"overlay\",\"size\":10,\"solidity\":0.2}},\"type\":\"histogram\"}],\"mesh3d\":[{\"colorbar\":{\"outlinewidth\":0,\"ticks\":\"\"},\"type\":\"mesh3d\"}],\"parcoords\":[{\"line\":{\"colorbar\":{\"outlinewidth\":0,\"ticks\":\"\"}},\"type\":\"parcoords\"}],\"pie\":[{\"automargin\":true,\"type\":\"pie\"}],\"scatter3d\":[{\"line\":{\"colorbar\":{\"outlinewidth\":0,\"ticks\":\"\"}},\"marker\":{\"colorbar\":{\"outlinewidth\":0,\"ticks\":\"\"}},\"type\":\"scatter3d\"}],\"scattercarpet\":[{\"marker\":{\"colorbar\":{\"outlinewidth\":0,\"ticks\":\"\"}},\"type\":\"scattercarpet\"}],\"scattergeo\":[{\"marker\":{\"colorbar\":{\"outlinewidth\":0,\"ticks\":\"\"}},\"type\":\"scattergeo\"}],\"scattergl\":[{\"marker\":{\"colorbar\":{\"outlinewidth\":0,\"ticks\":\"\"}},\"type\":\"scattergl\"}],\"scattermapbox\":[{\"marker\":{\"colorbar\":{\"outlinewidth\":0,\"ticks\":\"\"}},\"type\":\"scattermapbox\"}],\"scatterpolargl\":[{\"marker\":{\"colorbar\":{\"outlinewidth\":0,\"ticks\":\"\"}},\"type\":\"scatterpolargl\"}],\"scatterpolar\":[{\"marker\":{\"colorbar\":{\"outlinewidth\":0,\"ticks\":\"\"}},\"type\":\"scatterpolar\"}],\"scatter\":[{\"fillpattern\":{\"fillmode\":\"overlay\",\"size\":10,\"solidity\":0.2},\"type\":\"scatter\"}],\"scatterternary\":[{\"marker\":{\"colorbar\":{\"outlinewidth\":0,\"ticks\":\"\"}},\"type\":\"scatterternary\"}],\"surface\":[{\"colorbar\":{\"outlinewidth\":0,\"ticks\":\"\"},\"colorscale\":[[0.0,\"#0d0887\"],[0.1111111111111111,\"#46039f\"],[0.2222222222222222,\"#7201a8\"],[0.3333333333333333,\"#9c179e\"],[0.4444444444444444,\"#bd3786\"],[0.5555555555555556,\"#d8576b\"],[0.6666666666666666,\"#ed7953\"],[0.7777777777777778,\"#fb9f3a\"],[0.8888888888888888,\"#fdca26\"],[1.0,\"#f0f921\"]],\"type\":\"surface\"}],\"table\":[{\"cells\":{\"fill\":{\"color\":\"#EBF0F8\"},\"line\":{\"color\":\"white\"}},\"header\":{\"fill\":{\"color\":\"#C8D4E3\"},\"line\":{\"color\":\"white\"}},\"type\":\"table\"}]},\"layout\":{\"annotationdefaults\":{\"arrowcolor\":\"#2a3f5f\",\"arrowhead\":0,\"arrowwidth\":1},\"autotypenumbers\":\"strict\",\"coloraxis\":{\"colorbar\":{\"outlinewidth\":0,\"ticks\":\"\"}},\"colorscale\":{\"diverging\":[[0,\"#8e0152\"],[0.1,\"#c51b7d\"],[0.2,\"#de77ae\"],[0.3,\"#f1b6da\"],[0.4,\"#fde0ef\"],[0.5,\"#f7f7f7\"],[0.6,\"#e6f5d0\"],[0.7,\"#b8e186\"],[0.8,\"#7fbc41\"],[0.9,\"#4d9221\"],[1,\"#276419\"]],\"sequential\":[[0.0,\"#0d0887\"],[0.1111111111111111,\"#46039f\"],[0.2222222222222222,\"#7201a8\"],[0.3333333333333333,\"#9c179e\"],[0.4444444444444444,\"#bd3786\"],[0.5555555555555556,\"#d8576b\"],[0.6666666666666666,\"#ed7953\"],[0.7777777777777778,\"#fb9f3a\"],[0.8888888888888888,\"#fdca26\"],[1.0,\"#f0f921\"]],\"sequentialminus\":[[0.0,\"#0d0887\"],[0.1111111111111111,\"#46039f\"],[0.2222222222222222,\"#7201a8\"],[0.3333333333333333,\"#9c179e\"],[0.4444444444444444,\"#bd3786\"],[0.5555555555555556,\"#d8576b\"],[0.6666666666666666,\"#ed7953\"],[0.7777777777777778,\"#fb9f3a\"],[0.8888888888888888,\"#fdca26\"],[1.0,\"#f0f921\"]]},\"colorway\":[\"#636efa\",\"#EF553B\",\"#00cc96\",\"#ab63fa\",\"#FFA15A\",\"#19d3f3\",\"#FF6692\",\"#B6E880\",\"#FF97FF\",\"#FECB52\"],\"font\":{\"color\":\"#2a3f5f\"},\"geo\":{\"bgcolor\":\"white\",\"lakecolor\":\"white\",\"landcolor\":\"#E5ECF6\",\"showlakes\":true,\"showland\":true,\"subunitcolor\":\"white\"},\"hoverlabel\":{\"align\":\"left\"},\"hovermode\":\"closest\",\"mapbox\":{\"style\":\"light\"},\"paper_bgcolor\":\"white\",\"plot_bgcolor\":\"#E5ECF6\",\"polar\":{\"angularaxis\":{\"gridcolor\":\"white\",\"linecolor\":\"white\",\"ticks\":\"\"},\"bgcolor\":\"#E5ECF6\",\"radialaxis\":{\"gridcolor\":\"white\",\"linecolor\":\"white\",\"ticks\":\"\"}},\"scene\":{\"xaxis\":{\"backgroundcolor\":\"#E5ECF6\",\"gridcolor\":\"white\",\"gridwidth\":2,\"linecolor\":\"white\",\"showbackground\":true,\"ticks\":\"\",\"zerolinecolor\":\"white\"},\"yaxis\":{\"backgroundcolor\":\"#E5ECF6\",\"gridcolor\":\"white\",\"gridwidth\":2,\"linecolor\":\"white\",\"showbackground\":true,\"ticks\":\"\",\"zerolinecolor\":\"white\"},\"zaxis\":{\"backgroundcolor\":\"#E5ECF6\",\"gridcolor\":\"white\",\"gridwidth\":2,\"linecolor\":\"white\",\"showbackground\":true,\"ticks\":\"\",\"zerolinecolor\":\"white\"}},\"shapedefaults\":{\"line\":{\"color\":\"#2a3f5f\"}},\"ternary\":{\"aaxis\":{\"gridcolor\":\"white\",\"linecolor\":\"white\",\"ticks\":\"\"},\"baxis\":{\"gridcolor\":\"white\",\"linecolor\":\"white\",\"ticks\":\"\"},\"bgcolor\":\"#E5ECF6\",\"caxis\":{\"gridcolor\":\"white\",\"linecolor\":\"white\",\"ticks\":\"\"}},\"title\":{\"x\":0.05},\"xaxis\":{\"automargin\":true,\"gridcolor\":\"white\",\"linecolor\":\"white\",\"ticks\":\"\",\"title\":{\"standoff\":15},\"zerolinecolor\":\"white\",\"zerolinewidth\":2},\"yaxis\":{\"automargin\":true,\"gridcolor\":\"white\",\"linecolor\":\"white\",\"ticks\":\"\",\"title\":{\"standoff\":15},\"zerolinecolor\":\"white\",\"zerolinewidth\":2}}},\"title\":{\"font\":{\"color\":\"#4D5663\"}},\"xaxis\":{\"gridcolor\":\"#E1E5ED\",\"showgrid\":true,\"tickfont\":{\"color\":\"#4D5663\"},\"title\":{\"font\":{\"color\":\"#4D5663\"},\"text\":\"\"},\"zerolinecolor\":\"#E1E5ED\"},\"yaxis\":{\"gridcolor\":\"#E1E5ED\",\"showgrid\":true,\"tickfont\":{\"color\":\"#4D5663\"},\"title\":{\"font\":{\"color\":\"#4D5663\"},\"text\":\"\"},\"zerolinecolor\":\"#E1E5ED\"}},                        {\"showLink\": true, \"linkText\": \"Export to plot.ly\", \"plotlyServerURL\": \"https://plot.ly\", \"responsive\": true}                    ).then(function(){\n",
       "                            \n",
       "var gd = document.getElementById('71804089-4762-419c-8139-3e2175c2b5f8');\n",
       "var x = new MutationObserver(function (mutations, observer) {{\n",
       "        var display = window.getComputedStyle(gd).display;\n",
       "        if (!display || display === 'none') {{\n",
       "            console.log([gd, 'removed!']);\n",
       "            Plotly.purge(gd);\n",
       "            observer.disconnect();\n",
       "        }}\n",
       "}});\n",
       "\n",
       "// Listen for the removal of the full notebook cells\n",
       "var notebookContainer = gd.closest('#notebook-container');\n",
       "if (notebookContainer) {{\n",
       "    x.observe(notebookContainer, {childList: true});\n",
       "}}\n",
       "\n",
       "// Listen for the clearing of the current output cell\n",
       "var outputEl = gd.closest('.output');\n",
       "if (outputEl) {{\n",
       "    x.observe(outputEl, {childList: true});\n",
       "}}\n",
       "\n",
       "                        })                };                });            </script>        </div>"
      ]
     },
     "metadata": {},
     "output_type": "display_data"
    }
   ],
   "source": [
    "df.iplot(kind='box')"
   ]
  },
  {
   "cell_type": "code",
   "execution_count": 35,
   "id": "87788dc3",
   "metadata": {
    "ExecuteTime": {
     "end_time": "2023-01-12T17:30:30.158336Z",
     "start_time": "2023-01-12T17:30:30.140316Z"
    }
   },
   "outputs": [],
   "source": [
    "df3 = pd.DataFrame({'x':[1,2,3,4,5], 'y':[10,20,30,20,10], 'z':[5,4,3,2,1]})"
   ]
  },
  {
   "cell_type": "code",
   "execution_count": 36,
   "id": "0630cf70",
   "metadata": {
    "ExecuteTime": {
     "end_time": "2023-01-12T17:30:30.782283Z",
     "start_time": "2023-01-12T17:30:30.772298Z"
    }
   },
   "outputs": [
    {
     "data": {
      "text/html": [
       "<div>\n",
       "<style scoped>\n",
       "    .dataframe tbody tr th:only-of-type {\n",
       "        vertical-align: middle;\n",
       "    }\n",
       "\n",
       "    .dataframe tbody tr th {\n",
       "        vertical-align: top;\n",
       "    }\n",
       "\n",
       "    .dataframe thead th {\n",
       "        text-align: right;\n",
       "    }\n",
       "</style>\n",
       "<table border=\"1\" class=\"dataframe\">\n",
       "  <thead>\n",
       "    <tr style=\"text-align: right;\">\n",
       "      <th></th>\n",
       "      <th>x</th>\n",
       "      <th>y</th>\n",
       "      <th>z</th>\n",
       "    </tr>\n",
       "  </thead>\n",
       "  <tbody>\n",
       "    <tr>\n",
       "      <th>0</th>\n",
       "      <td>1</td>\n",
       "      <td>10</td>\n",
       "      <td>5</td>\n",
       "    </tr>\n",
       "    <tr>\n",
       "      <th>1</th>\n",
       "      <td>2</td>\n",
       "      <td>20</td>\n",
       "      <td>4</td>\n",
       "    </tr>\n",
       "    <tr>\n",
       "      <th>2</th>\n",
       "      <td>3</td>\n",
       "      <td>30</td>\n",
       "      <td>3</td>\n",
       "    </tr>\n",
       "    <tr>\n",
       "      <th>3</th>\n",
       "      <td>4</td>\n",
       "      <td>20</td>\n",
       "      <td>2</td>\n",
       "    </tr>\n",
       "    <tr>\n",
       "      <th>4</th>\n",
       "      <td>5</td>\n",
       "      <td>10</td>\n",
       "      <td>1</td>\n",
       "    </tr>\n",
       "  </tbody>\n",
       "</table>\n",
       "</div>"
      ],
      "text/plain": [
       "   x   y  z\n",
       "0  1  10  5\n",
       "1  2  20  4\n",
       "2  3  30  3\n",
       "3  4  20  2\n",
       "4  5  10  1"
      ]
     },
     "execution_count": 36,
     "metadata": {},
     "output_type": "execute_result"
    }
   ],
   "source": [
    "df3"
   ]
  },
  {
   "cell_type": "code",
   "execution_count": 38,
   "id": "b2540390",
   "metadata": {
    "ExecuteTime": {
     "end_time": "2023-01-12T17:31:04.370179Z",
     "start_time": "2023-01-12T17:31:04.309484Z"
    }
   },
   "outputs": [
    {
     "data": {
      "application/vnd.plotly.v1+json": {
       "config": {
        "linkText": "Export to plot.ly",
        "plotlyServerURL": "https://plot.ly",
        "showLink": true
       },
       "data": [
        {
         "colorscale": [
          [
           0,
           "rgb(165,0,38)"
          ],
          [
           0.1,
           "rgb(215,48,39)"
          ],
          [
           0.2,
           "rgb(244,109,67)"
          ],
          [
           0.3,
           "rgb(253,174,97)"
          ],
          [
           0.4,
           "rgb(254,224,144)"
          ],
          [
           0.5,
           "rgb(255,255,191)"
          ],
          [
           0.6,
           "rgb(224,243,248)"
          ],
          [
           0.7,
           "rgb(171,217,233)"
          ],
          [
           0.8,
           "rgb(116,173,209)"
          ],
          [
           0.9,
           "rgb(69,117,180)"
          ],
          [
           1,
           "rgb(49,54,149)"
          ]
         ],
         "type": "surface",
         "x": [
          0,
          1,
          2,
          3,
          4
         ],
         "y": [
          "x",
          "y",
          "z"
         ],
         "z": [
          [
           1,
           2,
           3,
           4,
           5
          ],
          [
           10,
           20,
           30,
           20,
           10
          ],
          [
           5,
           4,
           3,
           2,
           1
          ]
         ]
        }
       ],
       "layout": {
        "legend": {
         "bgcolor": "#F5F6F9",
         "font": {
          "color": "#4D5663"
         }
        },
        "paper_bgcolor": "#F5F6F9",
        "plot_bgcolor": "#F5F6F9",
        "template": {
         "data": {
          "bar": [
           {
            "error_x": {
             "color": "#2a3f5f"
            },
            "error_y": {
             "color": "#2a3f5f"
            },
            "marker": {
             "line": {
              "color": "#E5ECF6",
              "width": 0.5
             },
             "pattern": {
              "fillmode": "overlay",
              "size": 10,
              "solidity": 0.2
             }
            },
            "type": "bar"
           }
          ],
          "barpolar": [
           {
            "marker": {
             "line": {
              "color": "#E5ECF6",
              "width": 0.5
             },
             "pattern": {
              "fillmode": "overlay",
              "size": 10,
              "solidity": 0.2
             }
            },
            "type": "barpolar"
           }
          ],
          "carpet": [
           {
            "aaxis": {
             "endlinecolor": "#2a3f5f",
             "gridcolor": "white",
             "linecolor": "white",
             "minorgridcolor": "white",
             "startlinecolor": "#2a3f5f"
            },
            "baxis": {
             "endlinecolor": "#2a3f5f",
             "gridcolor": "white",
             "linecolor": "white",
             "minorgridcolor": "white",
             "startlinecolor": "#2a3f5f"
            },
            "type": "carpet"
           }
          ],
          "choropleth": [
           {
            "colorbar": {
             "outlinewidth": 0,
             "ticks": ""
            },
            "type": "choropleth"
           }
          ],
          "contour": [
           {
            "colorbar": {
             "outlinewidth": 0,
             "ticks": ""
            },
            "colorscale": [
             [
              0,
              "#0d0887"
             ],
             [
              0.1111111111111111,
              "#46039f"
             ],
             [
              0.2222222222222222,
              "#7201a8"
             ],
             [
              0.3333333333333333,
              "#9c179e"
             ],
             [
              0.4444444444444444,
              "#bd3786"
             ],
             [
              0.5555555555555556,
              "#d8576b"
             ],
             [
              0.6666666666666666,
              "#ed7953"
             ],
             [
              0.7777777777777778,
              "#fb9f3a"
             ],
             [
              0.8888888888888888,
              "#fdca26"
             ],
             [
              1,
              "#f0f921"
             ]
            ],
            "type": "contour"
           }
          ],
          "contourcarpet": [
           {
            "colorbar": {
             "outlinewidth": 0,
             "ticks": ""
            },
            "type": "contourcarpet"
           }
          ],
          "heatmap": [
           {
            "colorbar": {
             "outlinewidth": 0,
             "ticks": ""
            },
            "colorscale": [
             [
              0,
              "#0d0887"
             ],
             [
              0.1111111111111111,
              "#46039f"
             ],
             [
              0.2222222222222222,
              "#7201a8"
             ],
             [
              0.3333333333333333,
              "#9c179e"
             ],
             [
              0.4444444444444444,
              "#bd3786"
             ],
             [
              0.5555555555555556,
              "#d8576b"
             ],
             [
              0.6666666666666666,
              "#ed7953"
             ],
             [
              0.7777777777777778,
              "#fb9f3a"
             ],
             [
              0.8888888888888888,
              "#fdca26"
             ],
             [
              1,
              "#f0f921"
             ]
            ],
            "type": "heatmap"
           }
          ],
          "heatmapgl": [
           {
            "colorbar": {
             "outlinewidth": 0,
             "ticks": ""
            },
            "colorscale": [
             [
              0,
              "#0d0887"
             ],
             [
              0.1111111111111111,
              "#46039f"
             ],
             [
              0.2222222222222222,
              "#7201a8"
             ],
             [
              0.3333333333333333,
              "#9c179e"
             ],
             [
              0.4444444444444444,
              "#bd3786"
             ],
             [
              0.5555555555555556,
              "#d8576b"
             ],
             [
              0.6666666666666666,
              "#ed7953"
             ],
             [
              0.7777777777777778,
              "#fb9f3a"
             ],
             [
              0.8888888888888888,
              "#fdca26"
             ],
             [
              1,
              "#f0f921"
             ]
            ],
            "type": "heatmapgl"
           }
          ],
          "histogram": [
           {
            "marker": {
             "pattern": {
              "fillmode": "overlay",
              "size": 10,
              "solidity": 0.2
             }
            },
            "type": "histogram"
           }
          ],
          "histogram2d": [
           {
            "colorbar": {
             "outlinewidth": 0,
             "ticks": ""
            },
            "colorscale": [
             [
              0,
              "#0d0887"
             ],
             [
              0.1111111111111111,
              "#46039f"
             ],
             [
              0.2222222222222222,
              "#7201a8"
             ],
             [
              0.3333333333333333,
              "#9c179e"
             ],
             [
              0.4444444444444444,
              "#bd3786"
             ],
             [
              0.5555555555555556,
              "#d8576b"
             ],
             [
              0.6666666666666666,
              "#ed7953"
             ],
             [
              0.7777777777777778,
              "#fb9f3a"
             ],
             [
              0.8888888888888888,
              "#fdca26"
             ],
             [
              1,
              "#f0f921"
             ]
            ],
            "type": "histogram2d"
           }
          ],
          "histogram2dcontour": [
           {
            "colorbar": {
             "outlinewidth": 0,
             "ticks": ""
            },
            "colorscale": [
             [
              0,
              "#0d0887"
             ],
             [
              0.1111111111111111,
              "#46039f"
             ],
             [
              0.2222222222222222,
              "#7201a8"
             ],
             [
              0.3333333333333333,
              "#9c179e"
             ],
             [
              0.4444444444444444,
              "#bd3786"
             ],
             [
              0.5555555555555556,
              "#d8576b"
             ],
             [
              0.6666666666666666,
              "#ed7953"
             ],
             [
              0.7777777777777778,
              "#fb9f3a"
             ],
             [
              0.8888888888888888,
              "#fdca26"
             ],
             [
              1,
              "#f0f921"
             ]
            ],
            "type": "histogram2dcontour"
           }
          ],
          "mesh3d": [
           {
            "colorbar": {
             "outlinewidth": 0,
             "ticks": ""
            },
            "type": "mesh3d"
           }
          ],
          "parcoords": [
           {
            "line": {
             "colorbar": {
              "outlinewidth": 0,
              "ticks": ""
             }
            },
            "type": "parcoords"
           }
          ],
          "pie": [
           {
            "automargin": true,
            "type": "pie"
           }
          ],
          "scatter": [
           {
            "fillpattern": {
             "fillmode": "overlay",
             "size": 10,
             "solidity": 0.2
            },
            "type": "scatter"
           }
          ],
          "scatter3d": [
           {
            "line": {
             "colorbar": {
              "outlinewidth": 0,
              "ticks": ""
             }
            },
            "marker": {
             "colorbar": {
              "outlinewidth": 0,
              "ticks": ""
             }
            },
            "type": "scatter3d"
           }
          ],
          "scattercarpet": [
           {
            "marker": {
             "colorbar": {
              "outlinewidth": 0,
              "ticks": ""
             }
            },
            "type": "scattercarpet"
           }
          ],
          "scattergeo": [
           {
            "marker": {
             "colorbar": {
              "outlinewidth": 0,
              "ticks": ""
             }
            },
            "type": "scattergeo"
           }
          ],
          "scattergl": [
           {
            "marker": {
             "colorbar": {
              "outlinewidth": 0,
              "ticks": ""
             }
            },
            "type": "scattergl"
           }
          ],
          "scattermapbox": [
           {
            "marker": {
             "colorbar": {
              "outlinewidth": 0,
              "ticks": ""
             }
            },
            "type": "scattermapbox"
           }
          ],
          "scatterpolar": [
           {
            "marker": {
             "colorbar": {
              "outlinewidth": 0,
              "ticks": ""
             }
            },
            "type": "scatterpolar"
           }
          ],
          "scatterpolargl": [
           {
            "marker": {
             "colorbar": {
              "outlinewidth": 0,
              "ticks": ""
             }
            },
            "type": "scatterpolargl"
           }
          ],
          "scatterternary": [
           {
            "marker": {
             "colorbar": {
              "outlinewidth": 0,
              "ticks": ""
             }
            },
            "type": "scatterternary"
           }
          ],
          "surface": [
           {
            "colorbar": {
             "outlinewidth": 0,
             "ticks": ""
            },
            "colorscale": [
             [
              0,
              "#0d0887"
             ],
             [
              0.1111111111111111,
              "#46039f"
             ],
             [
              0.2222222222222222,
              "#7201a8"
             ],
             [
              0.3333333333333333,
              "#9c179e"
             ],
             [
              0.4444444444444444,
              "#bd3786"
             ],
             [
              0.5555555555555556,
              "#d8576b"
             ],
             [
              0.6666666666666666,
              "#ed7953"
             ],
             [
              0.7777777777777778,
              "#fb9f3a"
             ],
             [
              0.8888888888888888,
              "#fdca26"
             ],
             [
              1,
              "#f0f921"
             ]
            ],
            "type": "surface"
           }
          ],
          "table": [
           {
            "cells": {
             "fill": {
              "color": "#EBF0F8"
             },
             "line": {
              "color": "white"
             }
            },
            "header": {
             "fill": {
              "color": "#C8D4E3"
             },
             "line": {
              "color": "white"
             }
            },
            "type": "table"
           }
          ]
         },
         "layout": {
          "annotationdefaults": {
           "arrowcolor": "#2a3f5f",
           "arrowhead": 0,
           "arrowwidth": 1
          },
          "autotypenumbers": "strict",
          "coloraxis": {
           "colorbar": {
            "outlinewidth": 0,
            "ticks": ""
           }
          },
          "colorscale": {
           "diverging": [
            [
             0,
             "#8e0152"
            ],
            [
             0.1,
             "#c51b7d"
            ],
            [
             0.2,
             "#de77ae"
            ],
            [
             0.3,
             "#f1b6da"
            ],
            [
             0.4,
             "#fde0ef"
            ],
            [
             0.5,
             "#f7f7f7"
            ],
            [
             0.6,
             "#e6f5d0"
            ],
            [
             0.7,
             "#b8e186"
            ],
            [
             0.8,
             "#7fbc41"
            ],
            [
             0.9,
             "#4d9221"
            ],
            [
             1,
             "#276419"
            ]
           ],
           "sequential": [
            [
             0,
             "#0d0887"
            ],
            [
             0.1111111111111111,
             "#46039f"
            ],
            [
             0.2222222222222222,
             "#7201a8"
            ],
            [
             0.3333333333333333,
             "#9c179e"
            ],
            [
             0.4444444444444444,
             "#bd3786"
            ],
            [
             0.5555555555555556,
             "#d8576b"
            ],
            [
             0.6666666666666666,
             "#ed7953"
            ],
            [
             0.7777777777777778,
             "#fb9f3a"
            ],
            [
             0.8888888888888888,
             "#fdca26"
            ],
            [
             1,
             "#f0f921"
            ]
           ],
           "sequentialminus": [
            [
             0,
             "#0d0887"
            ],
            [
             0.1111111111111111,
             "#46039f"
            ],
            [
             0.2222222222222222,
             "#7201a8"
            ],
            [
             0.3333333333333333,
             "#9c179e"
            ],
            [
             0.4444444444444444,
             "#bd3786"
            ],
            [
             0.5555555555555556,
             "#d8576b"
            ],
            [
             0.6666666666666666,
             "#ed7953"
            ],
            [
             0.7777777777777778,
             "#fb9f3a"
            ],
            [
             0.8888888888888888,
             "#fdca26"
            ],
            [
             1,
             "#f0f921"
            ]
           ]
          },
          "colorway": [
           "#636efa",
           "#EF553B",
           "#00cc96",
           "#ab63fa",
           "#FFA15A",
           "#19d3f3",
           "#FF6692",
           "#B6E880",
           "#FF97FF",
           "#FECB52"
          ],
          "font": {
           "color": "#2a3f5f"
          },
          "geo": {
           "bgcolor": "white",
           "lakecolor": "white",
           "landcolor": "#E5ECF6",
           "showlakes": true,
           "showland": true,
           "subunitcolor": "white"
          },
          "hoverlabel": {
           "align": "left"
          },
          "hovermode": "closest",
          "mapbox": {
           "style": "light"
          },
          "paper_bgcolor": "white",
          "plot_bgcolor": "#E5ECF6",
          "polar": {
           "angularaxis": {
            "gridcolor": "white",
            "linecolor": "white",
            "ticks": ""
           },
           "bgcolor": "#E5ECF6",
           "radialaxis": {
            "gridcolor": "white",
            "linecolor": "white",
            "ticks": ""
           }
          },
          "scene": {
           "xaxis": {
            "backgroundcolor": "#E5ECF6",
            "gridcolor": "white",
            "gridwidth": 2,
            "linecolor": "white",
            "showbackground": true,
            "ticks": "",
            "zerolinecolor": "white"
           },
           "yaxis": {
            "backgroundcolor": "#E5ECF6",
            "gridcolor": "white",
            "gridwidth": 2,
            "linecolor": "white",
            "showbackground": true,
            "ticks": "",
            "zerolinecolor": "white"
           },
           "zaxis": {
            "backgroundcolor": "#E5ECF6",
            "gridcolor": "white",
            "gridwidth": 2,
            "linecolor": "white",
            "showbackground": true,
            "ticks": "",
            "zerolinecolor": "white"
           }
          },
          "shapedefaults": {
           "line": {
            "color": "#2a3f5f"
           }
          },
          "ternary": {
           "aaxis": {
            "gridcolor": "white",
            "linecolor": "white",
            "ticks": ""
           },
           "baxis": {
            "gridcolor": "white",
            "linecolor": "white",
            "ticks": ""
           },
           "bgcolor": "#E5ECF6",
           "caxis": {
            "gridcolor": "white",
            "linecolor": "white",
            "ticks": ""
           }
          },
          "title": {
           "x": 0.05
          },
          "xaxis": {
           "automargin": true,
           "gridcolor": "white",
           "linecolor": "white",
           "ticks": "",
           "title": {
            "standoff": 15
           },
           "zerolinecolor": "white",
           "zerolinewidth": 2
          },
          "yaxis": {
           "automargin": true,
           "gridcolor": "white",
           "linecolor": "white",
           "ticks": "",
           "title": {
            "standoff": 15
           },
           "zerolinecolor": "white",
           "zerolinewidth": 2
          }
         }
        },
        "title": {
         "font": {
          "color": "#4D5663"
         }
        },
        "xaxis": {
         "gridcolor": "#E1E5ED",
         "showgrid": true,
         "tickfont": {
          "color": "#4D5663"
         },
         "title": {
          "font": {
           "color": "#4D5663"
          },
          "text": ""
         },
         "zerolinecolor": "#E1E5ED"
        },
        "yaxis": {
         "gridcolor": "#E1E5ED",
         "showgrid": true,
         "tickfont": {
          "color": "#4D5663"
         },
         "title": {
          "font": {
           "color": "#4D5663"
          },
          "text": ""
         },
         "zerolinecolor": "#E1E5ED"
        }
       }
      },
      "text/html": [
       "<div>                            <div id=\"89ade708-650b-4443-a02c-f4785a21d20f\" class=\"plotly-graph-div\" style=\"height:525px; width:100%;\"></div>            <script type=\"text/javascript\">                require([\"plotly\"], function(Plotly) {                    window.PLOTLYENV=window.PLOTLYENV || {};\n",
       "                    window.PLOTLYENV.BASE_URL='https://plot.ly';                                    if (document.getElementById(\"89ade708-650b-4443-a02c-f4785a21d20f\")) {                    Plotly.newPlot(                        \"89ade708-650b-4443-a02c-f4785a21d20f\",                        [{\"colorscale\":[[0.0,\"rgb(165,0,38)\"],[0.1,\"rgb(215,48,39)\"],[0.2,\"rgb(244,109,67)\"],[0.3,\"rgb(253,174,97)\"],[0.4,\"rgb(254,224,144)\"],[0.5,\"rgb(255,255,191)\"],[0.6,\"rgb(224,243,248)\"],[0.7,\"rgb(171,217,233)\"],[0.8,\"rgb(116,173,209)\"],[0.9,\"rgb(69,117,180)\"],[1.0,\"rgb(49,54,149)\"]],\"x\":[0,1,2,3,4],\"y\":[\"x\",\"y\",\"z\"],\"z\":[[1,2,3,4,5],[10,20,30,20,10],[5,4,3,2,1]],\"type\":\"surface\"}],                        {\"legend\":{\"bgcolor\":\"#F5F6F9\",\"font\":{\"color\":\"#4D5663\"}},\"paper_bgcolor\":\"#F5F6F9\",\"plot_bgcolor\":\"#F5F6F9\",\"template\":{\"data\":{\"barpolar\":[{\"marker\":{\"line\":{\"color\":\"#E5ECF6\",\"width\":0.5},\"pattern\":{\"fillmode\":\"overlay\",\"size\":10,\"solidity\":0.2}},\"type\":\"barpolar\"}],\"bar\":[{\"error_x\":{\"color\":\"#2a3f5f\"},\"error_y\":{\"color\":\"#2a3f5f\"},\"marker\":{\"line\":{\"color\":\"#E5ECF6\",\"width\":0.5},\"pattern\":{\"fillmode\":\"overlay\",\"size\":10,\"solidity\":0.2}},\"type\":\"bar\"}],\"carpet\":[{\"aaxis\":{\"endlinecolor\":\"#2a3f5f\",\"gridcolor\":\"white\",\"linecolor\":\"white\",\"minorgridcolor\":\"white\",\"startlinecolor\":\"#2a3f5f\"},\"baxis\":{\"endlinecolor\":\"#2a3f5f\",\"gridcolor\":\"white\",\"linecolor\":\"white\",\"minorgridcolor\":\"white\",\"startlinecolor\":\"#2a3f5f\"},\"type\":\"carpet\"}],\"choropleth\":[{\"colorbar\":{\"outlinewidth\":0,\"ticks\":\"\"},\"type\":\"choropleth\"}],\"contourcarpet\":[{\"colorbar\":{\"outlinewidth\":0,\"ticks\":\"\"},\"type\":\"contourcarpet\"}],\"contour\":[{\"colorbar\":{\"outlinewidth\":0,\"ticks\":\"\"},\"colorscale\":[[0.0,\"#0d0887\"],[0.1111111111111111,\"#46039f\"],[0.2222222222222222,\"#7201a8\"],[0.3333333333333333,\"#9c179e\"],[0.4444444444444444,\"#bd3786\"],[0.5555555555555556,\"#d8576b\"],[0.6666666666666666,\"#ed7953\"],[0.7777777777777778,\"#fb9f3a\"],[0.8888888888888888,\"#fdca26\"],[1.0,\"#f0f921\"]],\"type\":\"contour\"}],\"heatmapgl\":[{\"colorbar\":{\"outlinewidth\":0,\"ticks\":\"\"},\"colorscale\":[[0.0,\"#0d0887\"],[0.1111111111111111,\"#46039f\"],[0.2222222222222222,\"#7201a8\"],[0.3333333333333333,\"#9c179e\"],[0.4444444444444444,\"#bd3786\"],[0.5555555555555556,\"#d8576b\"],[0.6666666666666666,\"#ed7953\"],[0.7777777777777778,\"#fb9f3a\"],[0.8888888888888888,\"#fdca26\"],[1.0,\"#f0f921\"]],\"type\":\"heatmapgl\"}],\"heatmap\":[{\"colorbar\":{\"outlinewidth\":0,\"ticks\":\"\"},\"colorscale\":[[0.0,\"#0d0887\"],[0.1111111111111111,\"#46039f\"],[0.2222222222222222,\"#7201a8\"],[0.3333333333333333,\"#9c179e\"],[0.4444444444444444,\"#bd3786\"],[0.5555555555555556,\"#d8576b\"],[0.6666666666666666,\"#ed7953\"],[0.7777777777777778,\"#fb9f3a\"],[0.8888888888888888,\"#fdca26\"],[1.0,\"#f0f921\"]],\"type\":\"heatmap\"}],\"histogram2dcontour\":[{\"colorbar\":{\"outlinewidth\":0,\"ticks\":\"\"},\"colorscale\":[[0.0,\"#0d0887\"],[0.1111111111111111,\"#46039f\"],[0.2222222222222222,\"#7201a8\"],[0.3333333333333333,\"#9c179e\"],[0.4444444444444444,\"#bd3786\"],[0.5555555555555556,\"#d8576b\"],[0.6666666666666666,\"#ed7953\"],[0.7777777777777778,\"#fb9f3a\"],[0.8888888888888888,\"#fdca26\"],[1.0,\"#f0f921\"]],\"type\":\"histogram2dcontour\"}],\"histogram2d\":[{\"colorbar\":{\"outlinewidth\":0,\"ticks\":\"\"},\"colorscale\":[[0.0,\"#0d0887\"],[0.1111111111111111,\"#46039f\"],[0.2222222222222222,\"#7201a8\"],[0.3333333333333333,\"#9c179e\"],[0.4444444444444444,\"#bd3786\"],[0.5555555555555556,\"#d8576b\"],[0.6666666666666666,\"#ed7953\"],[0.7777777777777778,\"#fb9f3a\"],[0.8888888888888888,\"#fdca26\"],[1.0,\"#f0f921\"]],\"type\":\"histogram2d\"}],\"histogram\":[{\"marker\":{\"pattern\":{\"fillmode\":\"overlay\",\"size\":10,\"solidity\":0.2}},\"type\":\"histogram\"}],\"mesh3d\":[{\"colorbar\":{\"outlinewidth\":0,\"ticks\":\"\"},\"type\":\"mesh3d\"}],\"parcoords\":[{\"line\":{\"colorbar\":{\"outlinewidth\":0,\"ticks\":\"\"}},\"type\":\"parcoords\"}],\"pie\":[{\"automargin\":true,\"type\":\"pie\"}],\"scatter3d\":[{\"line\":{\"colorbar\":{\"outlinewidth\":0,\"ticks\":\"\"}},\"marker\":{\"colorbar\":{\"outlinewidth\":0,\"ticks\":\"\"}},\"type\":\"scatter3d\"}],\"scattercarpet\":[{\"marker\":{\"colorbar\":{\"outlinewidth\":0,\"ticks\":\"\"}},\"type\":\"scattercarpet\"}],\"scattergeo\":[{\"marker\":{\"colorbar\":{\"outlinewidth\":0,\"ticks\":\"\"}},\"type\":\"scattergeo\"}],\"scattergl\":[{\"marker\":{\"colorbar\":{\"outlinewidth\":0,\"ticks\":\"\"}},\"type\":\"scattergl\"}],\"scattermapbox\":[{\"marker\":{\"colorbar\":{\"outlinewidth\":0,\"ticks\":\"\"}},\"type\":\"scattermapbox\"}],\"scatterpolargl\":[{\"marker\":{\"colorbar\":{\"outlinewidth\":0,\"ticks\":\"\"}},\"type\":\"scatterpolargl\"}],\"scatterpolar\":[{\"marker\":{\"colorbar\":{\"outlinewidth\":0,\"ticks\":\"\"}},\"type\":\"scatterpolar\"}],\"scatter\":[{\"fillpattern\":{\"fillmode\":\"overlay\",\"size\":10,\"solidity\":0.2},\"type\":\"scatter\"}],\"scatterternary\":[{\"marker\":{\"colorbar\":{\"outlinewidth\":0,\"ticks\":\"\"}},\"type\":\"scatterternary\"}],\"surface\":[{\"colorbar\":{\"outlinewidth\":0,\"ticks\":\"\"},\"colorscale\":[[0.0,\"#0d0887\"],[0.1111111111111111,\"#46039f\"],[0.2222222222222222,\"#7201a8\"],[0.3333333333333333,\"#9c179e\"],[0.4444444444444444,\"#bd3786\"],[0.5555555555555556,\"#d8576b\"],[0.6666666666666666,\"#ed7953\"],[0.7777777777777778,\"#fb9f3a\"],[0.8888888888888888,\"#fdca26\"],[1.0,\"#f0f921\"]],\"type\":\"surface\"}],\"table\":[{\"cells\":{\"fill\":{\"color\":\"#EBF0F8\"},\"line\":{\"color\":\"white\"}},\"header\":{\"fill\":{\"color\":\"#C8D4E3\"},\"line\":{\"color\":\"white\"}},\"type\":\"table\"}]},\"layout\":{\"annotationdefaults\":{\"arrowcolor\":\"#2a3f5f\",\"arrowhead\":0,\"arrowwidth\":1},\"autotypenumbers\":\"strict\",\"coloraxis\":{\"colorbar\":{\"outlinewidth\":0,\"ticks\":\"\"}},\"colorscale\":{\"diverging\":[[0,\"#8e0152\"],[0.1,\"#c51b7d\"],[0.2,\"#de77ae\"],[0.3,\"#f1b6da\"],[0.4,\"#fde0ef\"],[0.5,\"#f7f7f7\"],[0.6,\"#e6f5d0\"],[0.7,\"#b8e186\"],[0.8,\"#7fbc41\"],[0.9,\"#4d9221\"],[1,\"#276419\"]],\"sequential\":[[0.0,\"#0d0887\"],[0.1111111111111111,\"#46039f\"],[0.2222222222222222,\"#7201a8\"],[0.3333333333333333,\"#9c179e\"],[0.4444444444444444,\"#bd3786\"],[0.5555555555555556,\"#d8576b\"],[0.6666666666666666,\"#ed7953\"],[0.7777777777777778,\"#fb9f3a\"],[0.8888888888888888,\"#fdca26\"],[1.0,\"#f0f921\"]],\"sequentialminus\":[[0.0,\"#0d0887\"],[0.1111111111111111,\"#46039f\"],[0.2222222222222222,\"#7201a8\"],[0.3333333333333333,\"#9c179e\"],[0.4444444444444444,\"#bd3786\"],[0.5555555555555556,\"#d8576b\"],[0.6666666666666666,\"#ed7953\"],[0.7777777777777778,\"#fb9f3a\"],[0.8888888888888888,\"#fdca26\"],[1.0,\"#f0f921\"]]},\"colorway\":[\"#636efa\",\"#EF553B\",\"#00cc96\",\"#ab63fa\",\"#FFA15A\",\"#19d3f3\",\"#FF6692\",\"#B6E880\",\"#FF97FF\",\"#FECB52\"],\"font\":{\"color\":\"#2a3f5f\"},\"geo\":{\"bgcolor\":\"white\",\"lakecolor\":\"white\",\"landcolor\":\"#E5ECF6\",\"showlakes\":true,\"showland\":true,\"subunitcolor\":\"white\"},\"hoverlabel\":{\"align\":\"left\"},\"hovermode\":\"closest\",\"mapbox\":{\"style\":\"light\"},\"paper_bgcolor\":\"white\",\"plot_bgcolor\":\"#E5ECF6\",\"polar\":{\"angularaxis\":{\"gridcolor\":\"white\",\"linecolor\":\"white\",\"ticks\":\"\"},\"bgcolor\":\"#E5ECF6\",\"radialaxis\":{\"gridcolor\":\"white\",\"linecolor\":\"white\",\"ticks\":\"\"}},\"scene\":{\"xaxis\":{\"backgroundcolor\":\"#E5ECF6\",\"gridcolor\":\"white\",\"gridwidth\":2,\"linecolor\":\"white\",\"showbackground\":true,\"ticks\":\"\",\"zerolinecolor\":\"white\"},\"yaxis\":{\"backgroundcolor\":\"#E5ECF6\",\"gridcolor\":\"white\",\"gridwidth\":2,\"linecolor\":\"white\",\"showbackground\":true,\"ticks\":\"\",\"zerolinecolor\":\"white\"},\"zaxis\":{\"backgroundcolor\":\"#E5ECF6\",\"gridcolor\":\"white\",\"gridwidth\":2,\"linecolor\":\"white\",\"showbackground\":true,\"ticks\":\"\",\"zerolinecolor\":\"white\"}},\"shapedefaults\":{\"line\":{\"color\":\"#2a3f5f\"}},\"ternary\":{\"aaxis\":{\"gridcolor\":\"white\",\"linecolor\":\"white\",\"ticks\":\"\"},\"baxis\":{\"gridcolor\":\"white\",\"linecolor\":\"white\",\"ticks\":\"\"},\"bgcolor\":\"#E5ECF6\",\"caxis\":{\"gridcolor\":\"white\",\"linecolor\":\"white\",\"ticks\":\"\"}},\"title\":{\"x\":0.05},\"xaxis\":{\"automargin\":true,\"gridcolor\":\"white\",\"linecolor\":\"white\",\"ticks\":\"\",\"title\":{\"standoff\":15},\"zerolinecolor\":\"white\",\"zerolinewidth\":2},\"yaxis\":{\"automargin\":true,\"gridcolor\":\"white\",\"linecolor\":\"white\",\"ticks\":\"\",\"title\":{\"standoff\":15},\"zerolinecolor\":\"white\",\"zerolinewidth\":2}}},\"title\":{\"font\":{\"color\":\"#4D5663\"}},\"xaxis\":{\"gridcolor\":\"#E1E5ED\",\"showgrid\":true,\"tickfont\":{\"color\":\"#4D5663\"},\"title\":{\"font\":{\"color\":\"#4D5663\"},\"text\":\"\"},\"zerolinecolor\":\"#E1E5ED\"},\"yaxis\":{\"gridcolor\":\"#E1E5ED\",\"showgrid\":true,\"tickfont\":{\"color\":\"#4D5663\"},\"title\":{\"font\":{\"color\":\"#4D5663\"},\"text\":\"\"},\"zerolinecolor\":\"#E1E5ED\"}},                        {\"showLink\": true, \"linkText\": \"Export to plot.ly\", \"plotlyServerURL\": \"https://plot.ly\", \"responsive\": true}                    ).then(function(){\n",
       "                            \n",
       "var gd = document.getElementById('89ade708-650b-4443-a02c-f4785a21d20f');\n",
       "var x = new MutationObserver(function (mutations, observer) {{\n",
       "        var display = window.getComputedStyle(gd).display;\n",
       "        if (!display || display === 'none') {{\n",
       "            console.log([gd, 'removed!']);\n",
       "            Plotly.purge(gd);\n",
       "            observer.disconnect();\n",
       "        }}\n",
       "}});\n",
       "\n",
       "// Listen for the removal of the full notebook cells\n",
       "var notebookContainer = gd.closest('#notebook-container');\n",
       "if (notebookContainer) {{\n",
       "    x.observe(notebookContainer, {childList: true});\n",
       "}}\n",
       "\n",
       "// Listen for the clearing of the current output cell\n",
       "var outputEl = gd.closest('.output');\n",
       "if (outputEl) {{\n",
       "    x.observe(outputEl, {childList: true});\n",
       "}}\n",
       "\n",
       "                        })                };                });            </script>        </div>"
      ]
     },
     "metadata": {},
     "output_type": "display_data"
    }
   ],
   "source": [
    "df3.iplot(kind='surface', colorscale='rdylbu')"
   ]
  },
  {
   "cell_type": "code",
   "execution_count": 39,
   "id": "9f783cc4",
   "metadata": {
    "ExecuteTime": {
     "end_time": "2023-01-12T17:32:05.196802Z",
     "start_time": "2023-01-12T17:32:05.092804Z"
    }
   },
   "outputs": [
    {
     "data": {
      "application/vnd.plotly.v1+json": {
       "config": {
        "linkText": "Export to plot.ly",
        "plotlyServerURL": "https://plot.ly",
        "showLink": true
       },
       "data": [
        {
         "histfunc": "count",
         "histnorm": "",
         "marker": {
          "color": "rgba(255, 153, 51, 1.0)",
          "line": {
           "color": "#4D5663",
           "width": 1.3
          }
         },
         "name": "A",
         "nbinsx": 50,
         "opacity": 0.8,
         "orientation": "v",
         "type": "histogram",
         "x": [
          0.37597005318765364,
          -0.9048495718966237,
          0.8579565711447589,
          0.5400822133171609,
          -1.3077258733358614,
          -0.5342628034790948,
          -0.4453140991222401,
          1.9149519217568853,
          -0.4298784428599787,
          -1.7408278622364468,
          0.08984730403796322,
          -0.7220639924502646,
          -0.661782077365756,
          -1.9313280548361829,
          1.0995235869258424,
          -2.2416909234475497,
          1.6556238846323768,
          0.4881773567676999,
          -0.24661995472311352,
          -1.0888515437052844,
          -0.3800838112965957,
          1.076085654409655,
          -1.6593557461777635,
          0.21297961644533725,
          -1.5805191546265278,
          -1.618813240069065,
          0.04667537628522792,
          -0.3292224638769374,
          -1.1251094929123244,
          0.4090802971009559,
          -1.3057982878541903,
          0.4551469096035381,
          -0.06954108892814388,
          1.2405533050281512,
          -1.2173275922137747,
          1.65140906115177,
          -0.049881944271718826,
          0.38147990711103064,
          -1.0977982075374673,
          -0.8695743896417516,
          -1.1401255024732972,
          -0.1858666165578455,
          0.49689378953900226,
          -1.7204814086558124,
          1.3439359237959083,
          0.4609679198043368,
          0.8667683379824784,
          0.532690330525514,
          0.95150358077794,
          1.250685572340651,
          -0.26943495020421604,
          0.09722637026800443,
          0.4088197644876183,
          0.39448931245833757,
          1.524689421116744,
          0.6826810268566323,
          -1.6830237912206034,
          0.6318572757177054,
          0.2712253471184101,
          0.5970364658727937,
          0.7659094762271283,
          0.1096216186670033,
          -0.9596009180692899,
          -0.27623561082193904,
          -0.2579137767261097,
          -1.5159322047196007,
          0.26460532519337004,
          -0.7291898945221118,
          0.41642299592662535,
          0.6316260731687413,
          0.26153263868151694,
          -1.0468931473485552,
          1.908267957100243,
          1.0344822555487396,
          -1.5724801942537763,
          0.3569898615943052,
          -0.5466895707445805,
          2.0376888472931776,
          0.3144215127715293,
          0.5138467978812578,
          1.819754268505688,
          0.36849994498834077,
          -0.15873092607185396,
          -1.0049529009052667,
          0.09150725192149144,
          0.5764277982327448,
          -1.4916678031268555,
          0.6889429161353486,
          -1.5340180898299038,
          -0.5535547871389617,
          0.8371221944612994,
          1.511812318129234,
          0.4504704904485682,
          0.8099235277959423,
          -0.7489858817084645,
          0.9502448003142555,
          0.5875531667765086,
          1.575218737798039,
          0.6355889890230145,
          -0.8433765111948266
         ]
        }
       ],
       "layout": {
        "barmode": "overlay",
        "legend": {
         "bgcolor": "#F5F6F9",
         "font": {
          "color": "#4D5663"
         }
        },
        "paper_bgcolor": "#F5F6F9",
        "plot_bgcolor": "#F5F6F9",
        "template": {
         "data": {
          "bar": [
           {
            "error_x": {
             "color": "#2a3f5f"
            },
            "error_y": {
             "color": "#2a3f5f"
            },
            "marker": {
             "line": {
              "color": "#E5ECF6",
              "width": 0.5
             },
             "pattern": {
              "fillmode": "overlay",
              "size": 10,
              "solidity": 0.2
             }
            },
            "type": "bar"
           }
          ],
          "barpolar": [
           {
            "marker": {
             "line": {
              "color": "#E5ECF6",
              "width": 0.5
             },
             "pattern": {
              "fillmode": "overlay",
              "size": 10,
              "solidity": 0.2
             }
            },
            "type": "barpolar"
           }
          ],
          "carpet": [
           {
            "aaxis": {
             "endlinecolor": "#2a3f5f",
             "gridcolor": "white",
             "linecolor": "white",
             "minorgridcolor": "white",
             "startlinecolor": "#2a3f5f"
            },
            "baxis": {
             "endlinecolor": "#2a3f5f",
             "gridcolor": "white",
             "linecolor": "white",
             "minorgridcolor": "white",
             "startlinecolor": "#2a3f5f"
            },
            "type": "carpet"
           }
          ],
          "choropleth": [
           {
            "colorbar": {
             "outlinewidth": 0,
             "ticks": ""
            },
            "type": "choropleth"
           }
          ],
          "contour": [
           {
            "colorbar": {
             "outlinewidth": 0,
             "ticks": ""
            },
            "colorscale": [
             [
              0,
              "#0d0887"
             ],
             [
              0.1111111111111111,
              "#46039f"
             ],
             [
              0.2222222222222222,
              "#7201a8"
             ],
             [
              0.3333333333333333,
              "#9c179e"
             ],
             [
              0.4444444444444444,
              "#bd3786"
             ],
             [
              0.5555555555555556,
              "#d8576b"
             ],
             [
              0.6666666666666666,
              "#ed7953"
             ],
             [
              0.7777777777777778,
              "#fb9f3a"
             ],
             [
              0.8888888888888888,
              "#fdca26"
             ],
             [
              1,
              "#f0f921"
             ]
            ],
            "type": "contour"
           }
          ],
          "contourcarpet": [
           {
            "colorbar": {
             "outlinewidth": 0,
             "ticks": ""
            },
            "type": "contourcarpet"
           }
          ],
          "heatmap": [
           {
            "colorbar": {
             "outlinewidth": 0,
             "ticks": ""
            },
            "colorscale": [
             [
              0,
              "#0d0887"
             ],
             [
              0.1111111111111111,
              "#46039f"
             ],
             [
              0.2222222222222222,
              "#7201a8"
             ],
             [
              0.3333333333333333,
              "#9c179e"
             ],
             [
              0.4444444444444444,
              "#bd3786"
             ],
             [
              0.5555555555555556,
              "#d8576b"
             ],
             [
              0.6666666666666666,
              "#ed7953"
             ],
             [
              0.7777777777777778,
              "#fb9f3a"
             ],
             [
              0.8888888888888888,
              "#fdca26"
             ],
             [
              1,
              "#f0f921"
             ]
            ],
            "type": "heatmap"
           }
          ],
          "heatmapgl": [
           {
            "colorbar": {
             "outlinewidth": 0,
             "ticks": ""
            },
            "colorscale": [
             [
              0,
              "#0d0887"
             ],
             [
              0.1111111111111111,
              "#46039f"
             ],
             [
              0.2222222222222222,
              "#7201a8"
             ],
             [
              0.3333333333333333,
              "#9c179e"
             ],
             [
              0.4444444444444444,
              "#bd3786"
             ],
             [
              0.5555555555555556,
              "#d8576b"
             ],
             [
              0.6666666666666666,
              "#ed7953"
             ],
             [
              0.7777777777777778,
              "#fb9f3a"
             ],
             [
              0.8888888888888888,
              "#fdca26"
             ],
             [
              1,
              "#f0f921"
             ]
            ],
            "type": "heatmapgl"
           }
          ],
          "histogram": [
           {
            "marker": {
             "pattern": {
              "fillmode": "overlay",
              "size": 10,
              "solidity": 0.2
             }
            },
            "type": "histogram"
           }
          ],
          "histogram2d": [
           {
            "colorbar": {
             "outlinewidth": 0,
             "ticks": ""
            },
            "colorscale": [
             [
              0,
              "#0d0887"
             ],
             [
              0.1111111111111111,
              "#46039f"
             ],
             [
              0.2222222222222222,
              "#7201a8"
             ],
             [
              0.3333333333333333,
              "#9c179e"
             ],
             [
              0.4444444444444444,
              "#bd3786"
             ],
             [
              0.5555555555555556,
              "#d8576b"
             ],
             [
              0.6666666666666666,
              "#ed7953"
             ],
             [
              0.7777777777777778,
              "#fb9f3a"
             ],
             [
              0.8888888888888888,
              "#fdca26"
             ],
             [
              1,
              "#f0f921"
             ]
            ],
            "type": "histogram2d"
           }
          ],
          "histogram2dcontour": [
           {
            "colorbar": {
             "outlinewidth": 0,
             "ticks": ""
            },
            "colorscale": [
             [
              0,
              "#0d0887"
             ],
             [
              0.1111111111111111,
              "#46039f"
             ],
             [
              0.2222222222222222,
              "#7201a8"
             ],
             [
              0.3333333333333333,
              "#9c179e"
             ],
             [
              0.4444444444444444,
              "#bd3786"
             ],
             [
              0.5555555555555556,
              "#d8576b"
             ],
             [
              0.6666666666666666,
              "#ed7953"
             ],
             [
              0.7777777777777778,
              "#fb9f3a"
             ],
             [
              0.8888888888888888,
              "#fdca26"
             ],
             [
              1,
              "#f0f921"
             ]
            ],
            "type": "histogram2dcontour"
           }
          ],
          "mesh3d": [
           {
            "colorbar": {
             "outlinewidth": 0,
             "ticks": ""
            },
            "type": "mesh3d"
           }
          ],
          "parcoords": [
           {
            "line": {
             "colorbar": {
              "outlinewidth": 0,
              "ticks": ""
             }
            },
            "type": "parcoords"
           }
          ],
          "pie": [
           {
            "automargin": true,
            "type": "pie"
           }
          ],
          "scatter": [
           {
            "fillpattern": {
             "fillmode": "overlay",
             "size": 10,
             "solidity": 0.2
            },
            "type": "scatter"
           }
          ],
          "scatter3d": [
           {
            "line": {
             "colorbar": {
              "outlinewidth": 0,
              "ticks": ""
             }
            },
            "marker": {
             "colorbar": {
              "outlinewidth": 0,
              "ticks": ""
             }
            },
            "type": "scatter3d"
           }
          ],
          "scattercarpet": [
           {
            "marker": {
             "colorbar": {
              "outlinewidth": 0,
              "ticks": ""
             }
            },
            "type": "scattercarpet"
           }
          ],
          "scattergeo": [
           {
            "marker": {
             "colorbar": {
              "outlinewidth": 0,
              "ticks": ""
             }
            },
            "type": "scattergeo"
           }
          ],
          "scattergl": [
           {
            "marker": {
             "colorbar": {
              "outlinewidth": 0,
              "ticks": ""
             }
            },
            "type": "scattergl"
           }
          ],
          "scattermapbox": [
           {
            "marker": {
             "colorbar": {
              "outlinewidth": 0,
              "ticks": ""
             }
            },
            "type": "scattermapbox"
           }
          ],
          "scatterpolar": [
           {
            "marker": {
             "colorbar": {
              "outlinewidth": 0,
              "ticks": ""
             }
            },
            "type": "scatterpolar"
           }
          ],
          "scatterpolargl": [
           {
            "marker": {
             "colorbar": {
              "outlinewidth": 0,
              "ticks": ""
             }
            },
            "type": "scatterpolargl"
           }
          ],
          "scatterternary": [
           {
            "marker": {
             "colorbar": {
              "outlinewidth": 0,
              "ticks": ""
             }
            },
            "type": "scatterternary"
           }
          ],
          "surface": [
           {
            "colorbar": {
             "outlinewidth": 0,
             "ticks": ""
            },
            "colorscale": [
             [
              0,
              "#0d0887"
             ],
             [
              0.1111111111111111,
              "#46039f"
             ],
             [
              0.2222222222222222,
              "#7201a8"
             ],
             [
              0.3333333333333333,
              "#9c179e"
             ],
             [
              0.4444444444444444,
              "#bd3786"
             ],
             [
              0.5555555555555556,
              "#d8576b"
             ],
             [
              0.6666666666666666,
              "#ed7953"
             ],
             [
              0.7777777777777778,
              "#fb9f3a"
             ],
             [
              0.8888888888888888,
              "#fdca26"
             ],
             [
              1,
              "#f0f921"
             ]
            ],
            "type": "surface"
           }
          ],
          "table": [
           {
            "cells": {
             "fill": {
              "color": "#EBF0F8"
             },
             "line": {
              "color": "white"
             }
            },
            "header": {
             "fill": {
              "color": "#C8D4E3"
             },
             "line": {
              "color": "white"
             }
            },
            "type": "table"
           }
          ]
         },
         "layout": {
          "annotationdefaults": {
           "arrowcolor": "#2a3f5f",
           "arrowhead": 0,
           "arrowwidth": 1
          },
          "autotypenumbers": "strict",
          "coloraxis": {
           "colorbar": {
            "outlinewidth": 0,
            "ticks": ""
           }
          },
          "colorscale": {
           "diverging": [
            [
             0,
             "#8e0152"
            ],
            [
             0.1,
             "#c51b7d"
            ],
            [
             0.2,
             "#de77ae"
            ],
            [
             0.3,
             "#f1b6da"
            ],
            [
             0.4,
             "#fde0ef"
            ],
            [
             0.5,
             "#f7f7f7"
            ],
            [
             0.6,
             "#e6f5d0"
            ],
            [
             0.7,
             "#b8e186"
            ],
            [
             0.8,
             "#7fbc41"
            ],
            [
             0.9,
             "#4d9221"
            ],
            [
             1,
             "#276419"
            ]
           ],
           "sequential": [
            [
             0,
             "#0d0887"
            ],
            [
             0.1111111111111111,
             "#46039f"
            ],
            [
             0.2222222222222222,
             "#7201a8"
            ],
            [
             0.3333333333333333,
             "#9c179e"
            ],
            [
             0.4444444444444444,
             "#bd3786"
            ],
            [
             0.5555555555555556,
             "#d8576b"
            ],
            [
             0.6666666666666666,
             "#ed7953"
            ],
            [
             0.7777777777777778,
             "#fb9f3a"
            ],
            [
             0.8888888888888888,
             "#fdca26"
            ],
            [
             1,
             "#f0f921"
            ]
           ],
           "sequentialminus": [
            [
             0,
             "#0d0887"
            ],
            [
             0.1111111111111111,
             "#46039f"
            ],
            [
             0.2222222222222222,
             "#7201a8"
            ],
            [
             0.3333333333333333,
             "#9c179e"
            ],
            [
             0.4444444444444444,
             "#bd3786"
            ],
            [
             0.5555555555555556,
             "#d8576b"
            ],
            [
             0.6666666666666666,
             "#ed7953"
            ],
            [
             0.7777777777777778,
             "#fb9f3a"
            ],
            [
             0.8888888888888888,
             "#fdca26"
            ],
            [
             1,
             "#f0f921"
            ]
           ]
          },
          "colorway": [
           "#636efa",
           "#EF553B",
           "#00cc96",
           "#ab63fa",
           "#FFA15A",
           "#19d3f3",
           "#FF6692",
           "#B6E880",
           "#FF97FF",
           "#FECB52"
          ],
          "font": {
           "color": "#2a3f5f"
          },
          "geo": {
           "bgcolor": "white",
           "lakecolor": "white",
           "landcolor": "#E5ECF6",
           "showlakes": true,
           "showland": true,
           "subunitcolor": "white"
          },
          "hoverlabel": {
           "align": "left"
          },
          "hovermode": "closest",
          "mapbox": {
           "style": "light"
          },
          "paper_bgcolor": "white",
          "plot_bgcolor": "#E5ECF6",
          "polar": {
           "angularaxis": {
            "gridcolor": "white",
            "linecolor": "white",
            "ticks": ""
           },
           "bgcolor": "#E5ECF6",
           "radialaxis": {
            "gridcolor": "white",
            "linecolor": "white",
            "ticks": ""
           }
          },
          "scene": {
           "xaxis": {
            "backgroundcolor": "#E5ECF6",
            "gridcolor": "white",
            "gridwidth": 2,
            "linecolor": "white",
            "showbackground": true,
            "ticks": "",
            "zerolinecolor": "white"
           },
           "yaxis": {
            "backgroundcolor": "#E5ECF6",
            "gridcolor": "white",
            "gridwidth": 2,
            "linecolor": "white",
            "showbackground": true,
            "ticks": "",
            "zerolinecolor": "white"
           },
           "zaxis": {
            "backgroundcolor": "#E5ECF6",
            "gridcolor": "white",
            "gridwidth": 2,
            "linecolor": "white",
            "showbackground": true,
            "ticks": "",
            "zerolinecolor": "white"
           }
          },
          "shapedefaults": {
           "line": {
            "color": "#2a3f5f"
           }
          },
          "ternary": {
           "aaxis": {
            "gridcolor": "white",
            "linecolor": "white",
            "ticks": ""
           },
           "baxis": {
            "gridcolor": "white",
            "linecolor": "white",
            "ticks": ""
           },
           "bgcolor": "#E5ECF6",
           "caxis": {
            "gridcolor": "white",
            "linecolor": "white",
            "ticks": ""
           }
          },
          "title": {
           "x": 0.05
          },
          "xaxis": {
           "automargin": true,
           "gridcolor": "white",
           "linecolor": "white",
           "ticks": "",
           "title": {
            "standoff": 15
           },
           "zerolinecolor": "white",
           "zerolinewidth": 2
          },
          "yaxis": {
           "automargin": true,
           "gridcolor": "white",
           "linecolor": "white",
           "ticks": "",
           "title": {
            "standoff": 15
           },
           "zerolinecolor": "white",
           "zerolinewidth": 2
          }
         }
        },
        "title": {
         "font": {
          "color": "#4D5663"
         }
        },
        "xaxis": {
         "gridcolor": "#E1E5ED",
         "showgrid": true,
         "tickfont": {
          "color": "#4D5663"
         },
         "title": {
          "font": {
           "color": "#4D5663"
          },
          "text": ""
         },
         "zerolinecolor": "#E1E5ED"
        },
        "yaxis": {
         "gridcolor": "#E1E5ED",
         "showgrid": true,
         "tickfont": {
          "color": "#4D5663"
         },
         "title": {
          "font": {
           "color": "#4D5663"
          },
          "text": ""
         },
         "zerolinecolor": "#E1E5ED"
        }
       }
      },
      "text/html": [
       "<div>                            <div id=\"dfd668ab-9625-4c93-be6e-39816fa83dfc\" class=\"plotly-graph-div\" style=\"height:525px; width:100%;\"></div>            <script type=\"text/javascript\">                require([\"plotly\"], function(Plotly) {                    window.PLOTLYENV=window.PLOTLYENV || {};\n",
       "                    window.PLOTLYENV.BASE_URL='https://plot.ly';                                    if (document.getElementById(\"dfd668ab-9625-4c93-be6e-39816fa83dfc\")) {                    Plotly.newPlot(                        \"dfd668ab-9625-4c93-be6e-39816fa83dfc\",                        [{\"histfunc\":\"count\",\"histnorm\":\"\",\"marker\":{\"color\":\"rgba(255, 153, 51, 1.0)\",\"line\":{\"color\":\"#4D5663\",\"width\":1.3}},\"name\":\"A\",\"nbinsx\":50,\"opacity\":0.8,\"orientation\":\"v\",\"x\":[0.37597005318765364,-0.9048495718966237,0.8579565711447589,0.5400822133171609,-1.3077258733358614,-0.5342628034790948,-0.4453140991222401,1.9149519217568853,-0.4298784428599787,-1.7408278622364468,0.08984730403796322,-0.7220639924502646,-0.661782077365756,-1.9313280548361829,1.0995235869258424,-2.2416909234475497,1.6556238846323768,0.4881773567676999,-0.24661995472311352,-1.0888515437052844,-0.3800838112965957,1.076085654409655,-1.6593557461777635,0.21297961644533725,-1.5805191546265278,-1.618813240069065,0.04667537628522792,-0.3292224638769374,-1.1251094929123244,0.4090802971009559,-1.3057982878541903,0.4551469096035381,-0.06954108892814388,1.2405533050281512,-1.2173275922137747,1.65140906115177,-0.049881944271718826,0.38147990711103064,-1.0977982075374673,-0.8695743896417516,-1.1401255024732972,-0.1858666165578455,0.49689378953900226,-1.7204814086558124,1.3439359237959083,0.4609679198043368,0.8667683379824784,0.532690330525514,0.95150358077794,1.250685572340651,-0.26943495020421604,0.09722637026800443,0.4088197644876183,0.39448931245833757,1.524689421116744,0.6826810268566323,-1.6830237912206034,0.6318572757177054,0.2712253471184101,0.5970364658727937,0.7659094762271283,0.1096216186670033,-0.9596009180692899,-0.27623561082193904,-0.2579137767261097,-1.5159322047196007,0.26460532519337004,-0.7291898945221118,0.41642299592662535,0.6316260731687413,0.26153263868151694,-1.0468931473485552,1.908267957100243,1.0344822555487396,-1.5724801942537763,0.3569898615943052,-0.5466895707445805,2.0376888472931776,0.3144215127715293,0.5138467978812578,1.819754268505688,0.36849994498834077,-0.15873092607185396,-1.0049529009052667,0.09150725192149144,0.5764277982327448,-1.4916678031268555,0.6889429161353486,-1.5340180898299038,-0.5535547871389617,0.8371221944612994,1.511812318129234,0.4504704904485682,0.8099235277959423,-0.7489858817084645,0.9502448003142555,0.5875531667765086,1.575218737798039,0.6355889890230145,-0.8433765111948266],\"type\":\"histogram\"}],                        {\"barmode\":\"overlay\",\"legend\":{\"bgcolor\":\"#F5F6F9\",\"font\":{\"color\":\"#4D5663\"}},\"paper_bgcolor\":\"#F5F6F9\",\"plot_bgcolor\":\"#F5F6F9\",\"template\":{\"data\":{\"barpolar\":[{\"marker\":{\"line\":{\"color\":\"#E5ECF6\",\"width\":0.5},\"pattern\":{\"fillmode\":\"overlay\",\"size\":10,\"solidity\":0.2}},\"type\":\"barpolar\"}],\"bar\":[{\"error_x\":{\"color\":\"#2a3f5f\"},\"error_y\":{\"color\":\"#2a3f5f\"},\"marker\":{\"line\":{\"color\":\"#E5ECF6\",\"width\":0.5},\"pattern\":{\"fillmode\":\"overlay\",\"size\":10,\"solidity\":0.2}},\"type\":\"bar\"}],\"carpet\":[{\"aaxis\":{\"endlinecolor\":\"#2a3f5f\",\"gridcolor\":\"white\",\"linecolor\":\"white\",\"minorgridcolor\":\"white\",\"startlinecolor\":\"#2a3f5f\"},\"baxis\":{\"endlinecolor\":\"#2a3f5f\",\"gridcolor\":\"white\",\"linecolor\":\"white\",\"minorgridcolor\":\"white\",\"startlinecolor\":\"#2a3f5f\"},\"type\":\"carpet\"}],\"choropleth\":[{\"colorbar\":{\"outlinewidth\":0,\"ticks\":\"\"},\"type\":\"choropleth\"}],\"contourcarpet\":[{\"colorbar\":{\"outlinewidth\":0,\"ticks\":\"\"},\"type\":\"contourcarpet\"}],\"contour\":[{\"colorbar\":{\"outlinewidth\":0,\"ticks\":\"\"},\"colorscale\":[[0.0,\"#0d0887\"],[0.1111111111111111,\"#46039f\"],[0.2222222222222222,\"#7201a8\"],[0.3333333333333333,\"#9c179e\"],[0.4444444444444444,\"#bd3786\"],[0.5555555555555556,\"#d8576b\"],[0.6666666666666666,\"#ed7953\"],[0.7777777777777778,\"#fb9f3a\"],[0.8888888888888888,\"#fdca26\"],[1.0,\"#f0f921\"]],\"type\":\"contour\"}],\"heatmapgl\":[{\"colorbar\":{\"outlinewidth\":0,\"ticks\":\"\"},\"colorscale\":[[0.0,\"#0d0887\"],[0.1111111111111111,\"#46039f\"],[0.2222222222222222,\"#7201a8\"],[0.3333333333333333,\"#9c179e\"],[0.4444444444444444,\"#bd3786\"],[0.5555555555555556,\"#d8576b\"],[0.6666666666666666,\"#ed7953\"],[0.7777777777777778,\"#fb9f3a\"],[0.8888888888888888,\"#fdca26\"],[1.0,\"#f0f921\"]],\"type\":\"heatmapgl\"}],\"heatmap\":[{\"colorbar\":{\"outlinewidth\":0,\"ticks\":\"\"},\"colorscale\":[[0.0,\"#0d0887\"],[0.1111111111111111,\"#46039f\"],[0.2222222222222222,\"#7201a8\"],[0.3333333333333333,\"#9c179e\"],[0.4444444444444444,\"#bd3786\"],[0.5555555555555556,\"#d8576b\"],[0.6666666666666666,\"#ed7953\"],[0.7777777777777778,\"#fb9f3a\"],[0.8888888888888888,\"#fdca26\"],[1.0,\"#f0f921\"]],\"type\":\"heatmap\"}],\"histogram2dcontour\":[{\"colorbar\":{\"outlinewidth\":0,\"ticks\":\"\"},\"colorscale\":[[0.0,\"#0d0887\"],[0.1111111111111111,\"#46039f\"],[0.2222222222222222,\"#7201a8\"],[0.3333333333333333,\"#9c179e\"],[0.4444444444444444,\"#bd3786\"],[0.5555555555555556,\"#d8576b\"],[0.6666666666666666,\"#ed7953\"],[0.7777777777777778,\"#fb9f3a\"],[0.8888888888888888,\"#fdca26\"],[1.0,\"#f0f921\"]],\"type\":\"histogram2dcontour\"}],\"histogram2d\":[{\"colorbar\":{\"outlinewidth\":0,\"ticks\":\"\"},\"colorscale\":[[0.0,\"#0d0887\"],[0.1111111111111111,\"#46039f\"],[0.2222222222222222,\"#7201a8\"],[0.3333333333333333,\"#9c179e\"],[0.4444444444444444,\"#bd3786\"],[0.5555555555555556,\"#d8576b\"],[0.6666666666666666,\"#ed7953\"],[0.7777777777777778,\"#fb9f3a\"],[0.8888888888888888,\"#fdca26\"],[1.0,\"#f0f921\"]],\"type\":\"histogram2d\"}],\"histogram\":[{\"marker\":{\"pattern\":{\"fillmode\":\"overlay\",\"size\":10,\"solidity\":0.2}},\"type\":\"histogram\"}],\"mesh3d\":[{\"colorbar\":{\"outlinewidth\":0,\"ticks\":\"\"},\"type\":\"mesh3d\"}],\"parcoords\":[{\"line\":{\"colorbar\":{\"outlinewidth\":0,\"ticks\":\"\"}},\"type\":\"parcoords\"}],\"pie\":[{\"automargin\":true,\"type\":\"pie\"}],\"scatter3d\":[{\"line\":{\"colorbar\":{\"outlinewidth\":0,\"ticks\":\"\"}},\"marker\":{\"colorbar\":{\"outlinewidth\":0,\"ticks\":\"\"}},\"type\":\"scatter3d\"}],\"scattercarpet\":[{\"marker\":{\"colorbar\":{\"outlinewidth\":0,\"ticks\":\"\"}},\"type\":\"scattercarpet\"}],\"scattergeo\":[{\"marker\":{\"colorbar\":{\"outlinewidth\":0,\"ticks\":\"\"}},\"type\":\"scattergeo\"}],\"scattergl\":[{\"marker\":{\"colorbar\":{\"outlinewidth\":0,\"ticks\":\"\"}},\"type\":\"scattergl\"}],\"scattermapbox\":[{\"marker\":{\"colorbar\":{\"outlinewidth\":0,\"ticks\":\"\"}},\"type\":\"scattermapbox\"}],\"scatterpolargl\":[{\"marker\":{\"colorbar\":{\"outlinewidth\":0,\"ticks\":\"\"}},\"type\":\"scatterpolargl\"}],\"scatterpolar\":[{\"marker\":{\"colorbar\":{\"outlinewidth\":0,\"ticks\":\"\"}},\"type\":\"scatterpolar\"}],\"scatter\":[{\"fillpattern\":{\"fillmode\":\"overlay\",\"size\":10,\"solidity\":0.2},\"type\":\"scatter\"}],\"scatterternary\":[{\"marker\":{\"colorbar\":{\"outlinewidth\":0,\"ticks\":\"\"}},\"type\":\"scatterternary\"}],\"surface\":[{\"colorbar\":{\"outlinewidth\":0,\"ticks\":\"\"},\"colorscale\":[[0.0,\"#0d0887\"],[0.1111111111111111,\"#46039f\"],[0.2222222222222222,\"#7201a8\"],[0.3333333333333333,\"#9c179e\"],[0.4444444444444444,\"#bd3786\"],[0.5555555555555556,\"#d8576b\"],[0.6666666666666666,\"#ed7953\"],[0.7777777777777778,\"#fb9f3a\"],[0.8888888888888888,\"#fdca26\"],[1.0,\"#f0f921\"]],\"type\":\"surface\"}],\"table\":[{\"cells\":{\"fill\":{\"color\":\"#EBF0F8\"},\"line\":{\"color\":\"white\"}},\"header\":{\"fill\":{\"color\":\"#C8D4E3\"},\"line\":{\"color\":\"white\"}},\"type\":\"table\"}]},\"layout\":{\"annotationdefaults\":{\"arrowcolor\":\"#2a3f5f\",\"arrowhead\":0,\"arrowwidth\":1},\"autotypenumbers\":\"strict\",\"coloraxis\":{\"colorbar\":{\"outlinewidth\":0,\"ticks\":\"\"}},\"colorscale\":{\"diverging\":[[0,\"#8e0152\"],[0.1,\"#c51b7d\"],[0.2,\"#de77ae\"],[0.3,\"#f1b6da\"],[0.4,\"#fde0ef\"],[0.5,\"#f7f7f7\"],[0.6,\"#e6f5d0\"],[0.7,\"#b8e186\"],[0.8,\"#7fbc41\"],[0.9,\"#4d9221\"],[1,\"#276419\"]],\"sequential\":[[0.0,\"#0d0887\"],[0.1111111111111111,\"#46039f\"],[0.2222222222222222,\"#7201a8\"],[0.3333333333333333,\"#9c179e\"],[0.4444444444444444,\"#bd3786\"],[0.5555555555555556,\"#d8576b\"],[0.6666666666666666,\"#ed7953\"],[0.7777777777777778,\"#fb9f3a\"],[0.8888888888888888,\"#fdca26\"],[1.0,\"#f0f921\"]],\"sequentialminus\":[[0.0,\"#0d0887\"],[0.1111111111111111,\"#46039f\"],[0.2222222222222222,\"#7201a8\"],[0.3333333333333333,\"#9c179e\"],[0.4444444444444444,\"#bd3786\"],[0.5555555555555556,\"#d8576b\"],[0.6666666666666666,\"#ed7953\"],[0.7777777777777778,\"#fb9f3a\"],[0.8888888888888888,\"#fdca26\"],[1.0,\"#f0f921\"]]},\"colorway\":[\"#636efa\",\"#EF553B\",\"#00cc96\",\"#ab63fa\",\"#FFA15A\",\"#19d3f3\",\"#FF6692\",\"#B6E880\",\"#FF97FF\",\"#FECB52\"],\"font\":{\"color\":\"#2a3f5f\"},\"geo\":{\"bgcolor\":\"white\",\"lakecolor\":\"white\",\"landcolor\":\"#E5ECF6\",\"showlakes\":true,\"showland\":true,\"subunitcolor\":\"white\"},\"hoverlabel\":{\"align\":\"left\"},\"hovermode\":\"closest\",\"mapbox\":{\"style\":\"light\"},\"paper_bgcolor\":\"white\",\"plot_bgcolor\":\"#E5ECF6\",\"polar\":{\"angularaxis\":{\"gridcolor\":\"white\",\"linecolor\":\"white\",\"ticks\":\"\"},\"bgcolor\":\"#E5ECF6\",\"radialaxis\":{\"gridcolor\":\"white\",\"linecolor\":\"white\",\"ticks\":\"\"}},\"scene\":{\"xaxis\":{\"backgroundcolor\":\"#E5ECF6\",\"gridcolor\":\"white\",\"gridwidth\":2,\"linecolor\":\"white\",\"showbackground\":true,\"ticks\":\"\",\"zerolinecolor\":\"white\"},\"yaxis\":{\"backgroundcolor\":\"#E5ECF6\",\"gridcolor\":\"white\",\"gridwidth\":2,\"linecolor\":\"white\",\"showbackground\":true,\"ticks\":\"\",\"zerolinecolor\":\"white\"},\"zaxis\":{\"backgroundcolor\":\"#E5ECF6\",\"gridcolor\":\"white\",\"gridwidth\":2,\"linecolor\":\"white\",\"showbackground\":true,\"ticks\":\"\",\"zerolinecolor\":\"white\"}},\"shapedefaults\":{\"line\":{\"color\":\"#2a3f5f\"}},\"ternary\":{\"aaxis\":{\"gridcolor\":\"white\",\"linecolor\":\"white\",\"ticks\":\"\"},\"baxis\":{\"gridcolor\":\"white\",\"linecolor\":\"white\",\"ticks\":\"\"},\"bgcolor\":\"#E5ECF6\",\"caxis\":{\"gridcolor\":\"white\",\"linecolor\":\"white\",\"ticks\":\"\"}},\"title\":{\"x\":0.05},\"xaxis\":{\"automargin\":true,\"gridcolor\":\"white\",\"linecolor\":\"white\",\"ticks\":\"\",\"title\":{\"standoff\":15},\"zerolinecolor\":\"white\",\"zerolinewidth\":2},\"yaxis\":{\"automargin\":true,\"gridcolor\":\"white\",\"linecolor\":\"white\",\"ticks\":\"\",\"title\":{\"standoff\":15},\"zerolinecolor\":\"white\",\"zerolinewidth\":2}}},\"title\":{\"font\":{\"color\":\"#4D5663\"}},\"xaxis\":{\"gridcolor\":\"#E1E5ED\",\"showgrid\":true,\"tickfont\":{\"color\":\"#4D5663\"},\"title\":{\"font\":{\"color\":\"#4D5663\"},\"text\":\"\"},\"zerolinecolor\":\"#E1E5ED\"},\"yaxis\":{\"gridcolor\":\"#E1E5ED\",\"showgrid\":true,\"tickfont\":{\"color\":\"#4D5663\"},\"title\":{\"font\":{\"color\":\"#4D5663\"},\"text\":\"\"},\"zerolinecolor\":\"#E1E5ED\"}},                        {\"showLink\": true, \"linkText\": \"Export to plot.ly\", \"plotlyServerURL\": \"https://plot.ly\", \"responsive\": true}                    ).then(function(){\n",
       "                            \n",
       "var gd = document.getElementById('dfd668ab-9625-4c93-be6e-39816fa83dfc');\n",
       "var x = new MutationObserver(function (mutations, observer) {{\n",
       "        var display = window.getComputedStyle(gd).display;\n",
       "        if (!display || display === 'none') {{\n",
       "            console.log([gd, 'removed!']);\n",
       "            Plotly.purge(gd);\n",
       "            observer.disconnect();\n",
       "        }}\n",
       "}});\n",
       "\n",
       "// Listen for the removal of the full notebook cells\n",
       "var notebookContainer = gd.closest('#notebook-container');\n",
       "if (notebookContainer) {{\n",
       "    x.observe(notebookContainer, {childList: true});\n",
       "}}\n",
       "\n",
       "// Listen for the clearing of the current output cell\n",
       "var outputEl = gd.closest('.output');\n",
       "if (outputEl) {{\n",
       "    x.observe(outputEl, {childList: true});\n",
       "}}\n",
       "\n",
       "                        })                };                });            </script>        </div>"
      ]
     },
     "metadata": {},
     "output_type": "display_data"
    }
   ],
   "source": [
    "df['A'].iplot(kind='hist', bins=50)"
   ]
  },
  {
   "cell_type": "code",
   "execution_count": 41,
   "id": "78901b7c",
   "metadata": {
    "ExecuteTime": {
     "end_time": "2023-01-12T17:32:35.801757Z",
     "start_time": "2023-01-12T17:32:35.716756Z"
    }
   },
   "outputs": [
    {
     "data": {
      "application/vnd.plotly.v1+json": {
       "config": {
        "linkText": "Export to plot.ly",
        "plotlyServerURL": "https://plot.ly",
        "showLink": true
       },
       "data": [
        {
         "histfunc": "count",
         "histnorm": "",
         "marker": {
          "color": "rgba(255, 153, 51, 1.0)",
          "line": {
           "color": "#4D5663",
           "width": 1.3
          }
         },
         "name": "A",
         "opacity": 0.8,
         "orientation": "v",
         "type": "histogram",
         "x": [
          0.37597005318765364,
          -0.9048495718966237,
          0.8579565711447589,
          0.5400822133171609,
          -1.3077258733358614,
          -0.5342628034790948,
          -0.4453140991222401,
          1.9149519217568853,
          -0.4298784428599787,
          -1.7408278622364468,
          0.08984730403796322,
          -0.7220639924502646,
          -0.661782077365756,
          -1.9313280548361829,
          1.0995235869258424,
          -2.2416909234475497,
          1.6556238846323768,
          0.4881773567676999,
          -0.24661995472311352,
          -1.0888515437052844,
          -0.3800838112965957,
          1.076085654409655,
          -1.6593557461777635,
          0.21297961644533725,
          -1.5805191546265278,
          -1.618813240069065,
          0.04667537628522792,
          -0.3292224638769374,
          -1.1251094929123244,
          0.4090802971009559,
          -1.3057982878541903,
          0.4551469096035381,
          -0.06954108892814388,
          1.2405533050281512,
          -1.2173275922137747,
          1.65140906115177,
          -0.049881944271718826,
          0.38147990711103064,
          -1.0977982075374673,
          -0.8695743896417516,
          -1.1401255024732972,
          -0.1858666165578455,
          0.49689378953900226,
          -1.7204814086558124,
          1.3439359237959083,
          0.4609679198043368,
          0.8667683379824784,
          0.532690330525514,
          0.95150358077794,
          1.250685572340651,
          -0.26943495020421604,
          0.09722637026800443,
          0.4088197644876183,
          0.39448931245833757,
          1.524689421116744,
          0.6826810268566323,
          -1.6830237912206034,
          0.6318572757177054,
          0.2712253471184101,
          0.5970364658727937,
          0.7659094762271283,
          0.1096216186670033,
          -0.9596009180692899,
          -0.27623561082193904,
          -0.2579137767261097,
          -1.5159322047196007,
          0.26460532519337004,
          -0.7291898945221118,
          0.41642299592662535,
          0.6316260731687413,
          0.26153263868151694,
          -1.0468931473485552,
          1.908267957100243,
          1.0344822555487396,
          -1.5724801942537763,
          0.3569898615943052,
          -0.5466895707445805,
          2.0376888472931776,
          0.3144215127715293,
          0.5138467978812578,
          1.819754268505688,
          0.36849994498834077,
          -0.15873092607185396,
          -1.0049529009052667,
          0.09150725192149144,
          0.5764277982327448,
          -1.4916678031268555,
          0.6889429161353486,
          -1.5340180898299038,
          -0.5535547871389617,
          0.8371221944612994,
          1.511812318129234,
          0.4504704904485682,
          0.8099235277959423,
          -0.7489858817084645,
          0.9502448003142555,
          0.5875531667765086,
          1.575218737798039,
          0.6355889890230145,
          -0.8433765111948266
         ]
        },
        {
         "histfunc": "count",
         "histnorm": "",
         "marker": {
          "color": "rgba(55, 128, 191, 1.0)",
          "line": {
           "color": "#4D5663",
           "width": 1.3
          }
         },
         "name": "B",
         "opacity": 0.8,
         "orientation": "v",
         "type": "histogram",
         "x": [
          0.9850713887904406,
          0.9895016294470834,
          0.33522187833194084,
          0.38263555967156293,
          0.3745792917333505,
          -1.429798678593703,
          1.1824612431217312,
          0.626488597539041,
          0.14349191696675895,
          -0.14814614007520954,
          -0.011611341174777376,
          2.12010533548965,
          -0.8772273524296763,
          0.6081160835617304,
          0.16137092972869155,
          -1.0714094098077365,
          -0.24641963527506083,
          -0.06582086200559119,
          -1.0060510964237628,
          -0.10337648868594303,
          -0.37416372381453705,
          0.9355670189990279,
          0.6210186517918276,
          -0.382253315672212,
          1.1502055049032665,
          0.11081971219168177,
          -0.9485281386209676,
          0.3163862184000106,
          -0.3640965591259851,
          0.18310189183405573,
          2.2399820434026694,
          0.639087710690256,
          -0.1398487891852959,
          -0.3925511584810141,
          1.3296265283651694,
          -0.11776415174203159,
          -0.4744386630352112,
          -0.4588922483652321,
          0.7842901351701419,
          -0.7900798468461651,
          -0.3144100924184365,
          0.06904462737971202,
          -0.08165840561428707,
          0.5937850226834473,
          1.6943248142423644,
          -1.4730818763638593,
          1.9149121426011169,
          -0.6981210172827813,
          1.0620220071337512,
          0.3270240144233015,
          0.9983963737189102,
          -1.5820504018948132,
          1.5576377626695666,
          0.6818302184258955,
          0.9581576498185576,
          0.7734938363828401,
          -1.2645145864507532,
          -0.6557307087352567,
          -0.08794658491303368,
          -0.2078210220450748,
          -0.7092534417802636,
          -0.4381431192271822,
          -0.29781816966271807,
          -1.9836917976954034,
          1.7777877374165716,
          0.3218961402254565,
          -2.077586101344516,
          -1.2073343169448907,
          1.7441615296849142,
          0.3048809157280745,
          -0.4907508335554843,
          0.8770109049237509,
          1.4245387717453464,
          1.0661665279074823,
          -0.6339901914933027,
          0.6802602704574408,
          -0.7168654439364791,
          -0.5578302948819142,
          -1.1185457726425359,
          -0.6121908887398874,
          -0.3779897877929932,
          1.4777200034997569,
          -0.19292716976175264,
          0.3574539014170091,
          -0.18544526745879408,
          -1.1466728464685323,
          0.5323503559652332,
          1.099398587877932,
          -2.3408632006156953,
          0.2961022336838603,
          0.34912709976479883,
          0.4803125361409515,
          -0.9275043314294719,
          1.810404002204835,
          -0.8997615818329986,
          -0.8882118828210713,
          0.07222842748511556,
          0.8997473673949757,
          0.12376395341787741,
          -2.1040059015548027
         ]
        },
        {
         "histfunc": "count",
         "histnorm": "",
         "marker": {
          "color": "rgba(50, 171, 96, 1.0)",
          "line": {
           "color": "#4D5663",
           "width": 1.3
          }
         },
         "name": "C",
         "opacity": 0.8,
         "orientation": "v",
         "type": "histogram",
         "x": [
          1.3624391131495084,
          -0.09446315603746394,
          0.12053743295789382,
          1.1817252377826062,
          0.6475800142644463,
          0.8365164130551516,
          -0.4078180117652873,
          -1.1958213597542948,
          0.40486279121570723,
          0.30592864416212057,
          0.19107544463621579,
          0.693625983370063,
          -0.4795213929104659,
          -1.0445591306189137,
          1.5408861746461362,
          -1.3208667950772104,
          0.6094364132193509,
          -0.04085162955660802,
          -1.1955049542950045,
          -1.2909839067238678,
          -0.18996601563309218,
          -0.3027149219694637,
          -1.5439791351118015,
          0.15460830804329959,
          0.658379885150995,
          0.5165004387560271,
          0.24957975250950862,
          0.0374615654790334,
          -0.5011376297220035,
          -0.6980267142027701,
          1.003819045674507,
          0.5585194029409475,
          -0.6530654144953657,
          1.2989071642014614,
          1.2646838735261166,
          0.5232949932517565,
          -0.6708949079502614,
          -0.927915205881154,
          0.8588928727833726,
          -0.5510976265140255,
          -1.0544854398765824,
          0.38249192826086326,
          -0.265182820267451,
          -1.2334846966610336,
          0.8966353913944343,
          1.1855664845671843,
          2.102330612375204,
          0.8819175112781902,
          0.9484031417715634,
          -1.2951255668253117,
          0.5032418726519972,
          0.3869633350184438,
          2.0393910745438646,
          -0.9133046872020412,
          -1.7446801263689433,
          -0.2368714660544164,
          0.11501744149322286,
          0.9606814835850809,
          -1.0283016300674763,
          -0.20628502526959266,
          1.549434241388962,
          0.7699467943680909,
          1.1577045284955838,
          -0.34241868984657486,
          -0.21732911323454163,
          -0.7639606514748805,
          -0.6982225764961281,
          0.09808374584084899,
          0.07220517620201307,
          0.28388278140747314,
          2.048594502372427,
          -1.8338997526400318,
          1.1579823376966734,
          0.09248369553907014,
          -0.9536254360521329,
          -0.07992099885216111,
          -1.339150308345133,
          -4.248316610590325,
          0.877309688073591,
          1.0774032735018733,
          -1.660165966097154,
          -0.3296052293735431,
          0.7444300470693337,
          -0.28835240383946076,
          1.3209428618408567,
          -1.7226785064983972,
          -1.4546956979417622,
          -1.3569076990715874,
          -0.4591211120108361,
          0.6957975501809467,
          0.18663813416373395,
          0.684558745731199,
          -0.8003535785394227,
          1.4626502325103097,
          0.27341601084813794,
          -1.5470354465064384,
          1.1031551691903023,
          -0.12376385833508523,
          -0.8445403928519083,
          -1.1997622783239204
         ]
        },
        {
         "histfunc": "count",
         "histnorm": "",
         "marker": {
          "color": "rgba(128, 0, 128, 1.0)",
          "line": {
           "color": "#4D5663",
           "width": 1.3
          }
         },
         "name": "D",
         "opacity": 0.8,
         "orientation": "v",
         "type": "histogram",
         "x": [
          0.4508128924895635,
          0.04215376366990217,
          -1.0518703849568212,
          0.3500266469736823,
          0.20580261077350961,
          1.754896843152072,
          2.6429833117351147,
          -0.8642797610580246,
          -0.41582297549411373,
          -2.042660108926624,
          2.433411389040133,
          0.04535365358034176,
          -0.029792164141180695,
          0.09932599146605318,
          -0.36469484458203194,
          -0.014842401964342685,
          0.7162484120775321,
          -0.21961157381040466,
          -0.1993741741945207,
          0.23618296330368907,
          -1.0988480324183805,
          -1.1914519954196043,
          1.626157398674772,
          0.6014805018574845,
          -0.28299033172737736,
          0.20369756450508605,
          -1.3892156923525512,
          -4.194659972602769,
          -0.2576579263997152,
          0.18060191245340587,
          1.007979796275341,
          2.8548811976149677,
          -1.2989409444905182,
          1.7539133867387662,
          0.6355116643849393,
          -0.8877889204443272,
          0.2632211548259389,
          -2.1995470109944844,
          0.10508899178899203,
          0.023440149037699982,
          -0.7425340360296323,
          0.5135110343053352,
          1.0469222376987855,
          0.334179083908498,
          -0.6732049555684151,
          1.920255314155447,
          0.31474455194034795,
          -1.2532405006469192,
          -0.1782867341660852,
          -0.2612236675518501,
          0.08529428865256748,
          0.8859081746666121,
          -1.0395821361778677,
          -1.1188438311720794,
          1.5062784783110792,
          0.5645111723215555,
          1.5574015777784491,
          0.9343818985603018,
          1.2748663294021338,
          0.19879888180871147,
          -0.5414272117544923,
          0.39304960399247185,
          -0.9247493404146402,
          0.42558068308709135,
          -0.24056252548192844,
          -0.019922997486305462,
          -0.6719566946713905,
          -0.27653060364317744,
          0.8027553461951863,
          0.27219153335231094,
          -0.5813309657966865,
          0.5436017784492733,
          0.37242807990780813,
          -1.0329950228586733,
          -1.395061469594945,
          -0.11127250730929014,
          1.455724989900488,
          -1.7520381668036558,
          -0.7413967616142342,
          0.8162950883053584,
          -0.38201837863016125,
          -0.4575423670048262,
          -0.4643247842979483,
          -0.20121589003332105,
          -0.49942386266143535,
          -0.5379565189422676,
          -1.5637105321302363,
          0.4845066972715467,
          -1.4458852188723432,
          -0.17788830278383255,
          0.6521404141377812,
          0.1210782204443573,
          0.5994269475041096,
          -0.48866354384002325,
          -1.8744915866299037,
          -0.4459372624232242,
          -0.24734394526561712,
          0.6108673765982904,
          -0.6112625793654177,
          -1.5686529059756902
         ]
        }
       ],
       "layout": {
        "barmode": "overlay",
        "legend": {
         "bgcolor": "#F5F6F9",
         "font": {
          "color": "#4D5663"
         }
        },
        "paper_bgcolor": "#F5F6F9",
        "plot_bgcolor": "#F5F6F9",
        "template": {
         "data": {
          "bar": [
           {
            "error_x": {
             "color": "#2a3f5f"
            },
            "error_y": {
             "color": "#2a3f5f"
            },
            "marker": {
             "line": {
              "color": "#E5ECF6",
              "width": 0.5
             },
             "pattern": {
              "fillmode": "overlay",
              "size": 10,
              "solidity": 0.2
             }
            },
            "type": "bar"
           }
          ],
          "barpolar": [
           {
            "marker": {
             "line": {
              "color": "#E5ECF6",
              "width": 0.5
             },
             "pattern": {
              "fillmode": "overlay",
              "size": 10,
              "solidity": 0.2
             }
            },
            "type": "barpolar"
           }
          ],
          "carpet": [
           {
            "aaxis": {
             "endlinecolor": "#2a3f5f",
             "gridcolor": "white",
             "linecolor": "white",
             "minorgridcolor": "white",
             "startlinecolor": "#2a3f5f"
            },
            "baxis": {
             "endlinecolor": "#2a3f5f",
             "gridcolor": "white",
             "linecolor": "white",
             "minorgridcolor": "white",
             "startlinecolor": "#2a3f5f"
            },
            "type": "carpet"
           }
          ],
          "choropleth": [
           {
            "colorbar": {
             "outlinewidth": 0,
             "ticks": ""
            },
            "type": "choropleth"
           }
          ],
          "contour": [
           {
            "colorbar": {
             "outlinewidth": 0,
             "ticks": ""
            },
            "colorscale": [
             [
              0,
              "#0d0887"
             ],
             [
              0.1111111111111111,
              "#46039f"
             ],
             [
              0.2222222222222222,
              "#7201a8"
             ],
             [
              0.3333333333333333,
              "#9c179e"
             ],
             [
              0.4444444444444444,
              "#bd3786"
             ],
             [
              0.5555555555555556,
              "#d8576b"
             ],
             [
              0.6666666666666666,
              "#ed7953"
             ],
             [
              0.7777777777777778,
              "#fb9f3a"
             ],
             [
              0.8888888888888888,
              "#fdca26"
             ],
             [
              1,
              "#f0f921"
             ]
            ],
            "type": "contour"
           }
          ],
          "contourcarpet": [
           {
            "colorbar": {
             "outlinewidth": 0,
             "ticks": ""
            },
            "type": "contourcarpet"
           }
          ],
          "heatmap": [
           {
            "colorbar": {
             "outlinewidth": 0,
             "ticks": ""
            },
            "colorscale": [
             [
              0,
              "#0d0887"
             ],
             [
              0.1111111111111111,
              "#46039f"
             ],
             [
              0.2222222222222222,
              "#7201a8"
             ],
             [
              0.3333333333333333,
              "#9c179e"
             ],
             [
              0.4444444444444444,
              "#bd3786"
             ],
             [
              0.5555555555555556,
              "#d8576b"
             ],
             [
              0.6666666666666666,
              "#ed7953"
             ],
             [
              0.7777777777777778,
              "#fb9f3a"
             ],
             [
              0.8888888888888888,
              "#fdca26"
             ],
             [
              1,
              "#f0f921"
             ]
            ],
            "type": "heatmap"
           }
          ],
          "heatmapgl": [
           {
            "colorbar": {
             "outlinewidth": 0,
             "ticks": ""
            },
            "colorscale": [
             [
              0,
              "#0d0887"
             ],
             [
              0.1111111111111111,
              "#46039f"
             ],
             [
              0.2222222222222222,
              "#7201a8"
             ],
             [
              0.3333333333333333,
              "#9c179e"
             ],
             [
              0.4444444444444444,
              "#bd3786"
             ],
             [
              0.5555555555555556,
              "#d8576b"
             ],
             [
              0.6666666666666666,
              "#ed7953"
             ],
             [
              0.7777777777777778,
              "#fb9f3a"
             ],
             [
              0.8888888888888888,
              "#fdca26"
             ],
             [
              1,
              "#f0f921"
             ]
            ],
            "type": "heatmapgl"
           }
          ],
          "histogram": [
           {
            "marker": {
             "pattern": {
              "fillmode": "overlay",
              "size": 10,
              "solidity": 0.2
             }
            },
            "type": "histogram"
           }
          ],
          "histogram2d": [
           {
            "colorbar": {
             "outlinewidth": 0,
             "ticks": ""
            },
            "colorscale": [
             [
              0,
              "#0d0887"
             ],
             [
              0.1111111111111111,
              "#46039f"
             ],
             [
              0.2222222222222222,
              "#7201a8"
             ],
             [
              0.3333333333333333,
              "#9c179e"
             ],
             [
              0.4444444444444444,
              "#bd3786"
             ],
             [
              0.5555555555555556,
              "#d8576b"
             ],
             [
              0.6666666666666666,
              "#ed7953"
             ],
             [
              0.7777777777777778,
              "#fb9f3a"
             ],
             [
              0.8888888888888888,
              "#fdca26"
             ],
             [
              1,
              "#f0f921"
             ]
            ],
            "type": "histogram2d"
           }
          ],
          "histogram2dcontour": [
           {
            "colorbar": {
             "outlinewidth": 0,
             "ticks": ""
            },
            "colorscale": [
             [
              0,
              "#0d0887"
             ],
             [
              0.1111111111111111,
              "#46039f"
             ],
             [
              0.2222222222222222,
              "#7201a8"
             ],
             [
              0.3333333333333333,
              "#9c179e"
             ],
             [
              0.4444444444444444,
              "#bd3786"
             ],
             [
              0.5555555555555556,
              "#d8576b"
             ],
             [
              0.6666666666666666,
              "#ed7953"
             ],
             [
              0.7777777777777778,
              "#fb9f3a"
             ],
             [
              0.8888888888888888,
              "#fdca26"
             ],
             [
              1,
              "#f0f921"
             ]
            ],
            "type": "histogram2dcontour"
           }
          ],
          "mesh3d": [
           {
            "colorbar": {
             "outlinewidth": 0,
             "ticks": ""
            },
            "type": "mesh3d"
           }
          ],
          "parcoords": [
           {
            "line": {
             "colorbar": {
              "outlinewidth": 0,
              "ticks": ""
             }
            },
            "type": "parcoords"
           }
          ],
          "pie": [
           {
            "automargin": true,
            "type": "pie"
           }
          ],
          "scatter": [
           {
            "fillpattern": {
             "fillmode": "overlay",
             "size": 10,
             "solidity": 0.2
            },
            "type": "scatter"
           }
          ],
          "scatter3d": [
           {
            "line": {
             "colorbar": {
              "outlinewidth": 0,
              "ticks": ""
             }
            },
            "marker": {
             "colorbar": {
              "outlinewidth": 0,
              "ticks": ""
             }
            },
            "type": "scatter3d"
           }
          ],
          "scattercarpet": [
           {
            "marker": {
             "colorbar": {
              "outlinewidth": 0,
              "ticks": ""
             }
            },
            "type": "scattercarpet"
           }
          ],
          "scattergeo": [
           {
            "marker": {
             "colorbar": {
              "outlinewidth": 0,
              "ticks": ""
             }
            },
            "type": "scattergeo"
           }
          ],
          "scattergl": [
           {
            "marker": {
             "colorbar": {
              "outlinewidth": 0,
              "ticks": ""
             }
            },
            "type": "scattergl"
           }
          ],
          "scattermapbox": [
           {
            "marker": {
             "colorbar": {
              "outlinewidth": 0,
              "ticks": ""
             }
            },
            "type": "scattermapbox"
           }
          ],
          "scatterpolar": [
           {
            "marker": {
             "colorbar": {
              "outlinewidth": 0,
              "ticks": ""
             }
            },
            "type": "scatterpolar"
           }
          ],
          "scatterpolargl": [
           {
            "marker": {
             "colorbar": {
              "outlinewidth": 0,
              "ticks": ""
             }
            },
            "type": "scatterpolargl"
           }
          ],
          "scatterternary": [
           {
            "marker": {
             "colorbar": {
              "outlinewidth": 0,
              "ticks": ""
             }
            },
            "type": "scatterternary"
           }
          ],
          "surface": [
           {
            "colorbar": {
             "outlinewidth": 0,
             "ticks": ""
            },
            "colorscale": [
             [
              0,
              "#0d0887"
             ],
             [
              0.1111111111111111,
              "#46039f"
             ],
             [
              0.2222222222222222,
              "#7201a8"
             ],
             [
              0.3333333333333333,
              "#9c179e"
             ],
             [
              0.4444444444444444,
              "#bd3786"
             ],
             [
              0.5555555555555556,
              "#d8576b"
             ],
             [
              0.6666666666666666,
              "#ed7953"
             ],
             [
              0.7777777777777778,
              "#fb9f3a"
             ],
             [
              0.8888888888888888,
              "#fdca26"
             ],
             [
              1,
              "#f0f921"
             ]
            ],
            "type": "surface"
           }
          ],
          "table": [
           {
            "cells": {
             "fill": {
              "color": "#EBF0F8"
             },
             "line": {
              "color": "white"
             }
            },
            "header": {
             "fill": {
              "color": "#C8D4E3"
             },
             "line": {
              "color": "white"
             }
            },
            "type": "table"
           }
          ]
         },
         "layout": {
          "annotationdefaults": {
           "arrowcolor": "#2a3f5f",
           "arrowhead": 0,
           "arrowwidth": 1
          },
          "autotypenumbers": "strict",
          "coloraxis": {
           "colorbar": {
            "outlinewidth": 0,
            "ticks": ""
           }
          },
          "colorscale": {
           "diverging": [
            [
             0,
             "#8e0152"
            ],
            [
             0.1,
             "#c51b7d"
            ],
            [
             0.2,
             "#de77ae"
            ],
            [
             0.3,
             "#f1b6da"
            ],
            [
             0.4,
             "#fde0ef"
            ],
            [
             0.5,
             "#f7f7f7"
            ],
            [
             0.6,
             "#e6f5d0"
            ],
            [
             0.7,
             "#b8e186"
            ],
            [
             0.8,
             "#7fbc41"
            ],
            [
             0.9,
             "#4d9221"
            ],
            [
             1,
             "#276419"
            ]
           ],
           "sequential": [
            [
             0,
             "#0d0887"
            ],
            [
             0.1111111111111111,
             "#46039f"
            ],
            [
             0.2222222222222222,
             "#7201a8"
            ],
            [
             0.3333333333333333,
             "#9c179e"
            ],
            [
             0.4444444444444444,
             "#bd3786"
            ],
            [
             0.5555555555555556,
             "#d8576b"
            ],
            [
             0.6666666666666666,
             "#ed7953"
            ],
            [
             0.7777777777777778,
             "#fb9f3a"
            ],
            [
             0.8888888888888888,
             "#fdca26"
            ],
            [
             1,
             "#f0f921"
            ]
           ],
           "sequentialminus": [
            [
             0,
             "#0d0887"
            ],
            [
             0.1111111111111111,
             "#46039f"
            ],
            [
             0.2222222222222222,
             "#7201a8"
            ],
            [
             0.3333333333333333,
             "#9c179e"
            ],
            [
             0.4444444444444444,
             "#bd3786"
            ],
            [
             0.5555555555555556,
             "#d8576b"
            ],
            [
             0.6666666666666666,
             "#ed7953"
            ],
            [
             0.7777777777777778,
             "#fb9f3a"
            ],
            [
             0.8888888888888888,
             "#fdca26"
            ],
            [
             1,
             "#f0f921"
            ]
           ]
          },
          "colorway": [
           "#636efa",
           "#EF553B",
           "#00cc96",
           "#ab63fa",
           "#FFA15A",
           "#19d3f3",
           "#FF6692",
           "#B6E880",
           "#FF97FF",
           "#FECB52"
          ],
          "font": {
           "color": "#2a3f5f"
          },
          "geo": {
           "bgcolor": "white",
           "lakecolor": "white",
           "landcolor": "#E5ECF6",
           "showlakes": true,
           "showland": true,
           "subunitcolor": "white"
          },
          "hoverlabel": {
           "align": "left"
          },
          "hovermode": "closest",
          "mapbox": {
           "style": "light"
          },
          "paper_bgcolor": "white",
          "plot_bgcolor": "#E5ECF6",
          "polar": {
           "angularaxis": {
            "gridcolor": "white",
            "linecolor": "white",
            "ticks": ""
           },
           "bgcolor": "#E5ECF6",
           "radialaxis": {
            "gridcolor": "white",
            "linecolor": "white",
            "ticks": ""
           }
          },
          "scene": {
           "xaxis": {
            "backgroundcolor": "#E5ECF6",
            "gridcolor": "white",
            "gridwidth": 2,
            "linecolor": "white",
            "showbackground": true,
            "ticks": "",
            "zerolinecolor": "white"
           },
           "yaxis": {
            "backgroundcolor": "#E5ECF6",
            "gridcolor": "white",
            "gridwidth": 2,
            "linecolor": "white",
            "showbackground": true,
            "ticks": "",
            "zerolinecolor": "white"
           },
           "zaxis": {
            "backgroundcolor": "#E5ECF6",
            "gridcolor": "white",
            "gridwidth": 2,
            "linecolor": "white",
            "showbackground": true,
            "ticks": "",
            "zerolinecolor": "white"
           }
          },
          "shapedefaults": {
           "line": {
            "color": "#2a3f5f"
           }
          },
          "ternary": {
           "aaxis": {
            "gridcolor": "white",
            "linecolor": "white",
            "ticks": ""
           },
           "baxis": {
            "gridcolor": "white",
            "linecolor": "white",
            "ticks": ""
           },
           "bgcolor": "#E5ECF6",
           "caxis": {
            "gridcolor": "white",
            "linecolor": "white",
            "ticks": ""
           }
          },
          "title": {
           "x": 0.05
          },
          "xaxis": {
           "automargin": true,
           "gridcolor": "white",
           "linecolor": "white",
           "ticks": "",
           "title": {
            "standoff": 15
           },
           "zerolinecolor": "white",
           "zerolinewidth": 2
          },
          "yaxis": {
           "automargin": true,
           "gridcolor": "white",
           "linecolor": "white",
           "ticks": "",
           "title": {
            "standoff": 15
           },
           "zerolinecolor": "white",
           "zerolinewidth": 2
          }
         }
        },
        "title": {
         "font": {
          "color": "#4D5663"
         }
        },
        "xaxis": {
         "gridcolor": "#E1E5ED",
         "showgrid": true,
         "tickfont": {
          "color": "#4D5663"
         },
         "title": {
          "font": {
           "color": "#4D5663"
          },
          "text": ""
         },
         "zerolinecolor": "#E1E5ED"
        },
        "yaxis": {
         "gridcolor": "#E1E5ED",
         "showgrid": true,
         "tickfont": {
          "color": "#4D5663"
         },
         "title": {
          "font": {
           "color": "#4D5663"
          },
          "text": ""
         },
         "zerolinecolor": "#E1E5ED"
        }
       }
      },
      "text/html": [
       "<div>                            <div id=\"ff5a9d53-d7a2-4ade-b965-50edd1706f94\" class=\"plotly-graph-div\" style=\"height:525px; width:100%;\"></div>            <script type=\"text/javascript\">                require([\"plotly\"], function(Plotly) {                    window.PLOTLYENV=window.PLOTLYENV || {};\n",
       "                    window.PLOTLYENV.BASE_URL='https://plot.ly';                                    if (document.getElementById(\"ff5a9d53-d7a2-4ade-b965-50edd1706f94\")) {                    Plotly.newPlot(                        \"ff5a9d53-d7a2-4ade-b965-50edd1706f94\",                        [{\"histfunc\":\"count\",\"histnorm\":\"\",\"marker\":{\"color\":\"rgba(255, 153, 51, 1.0)\",\"line\":{\"color\":\"#4D5663\",\"width\":1.3}},\"name\":\"A\",\"opacity\":0.8,\"orientation\":\"v\",\"x\":[0.37597005318765364,-0.9048495718966237,0.8579565711447589,0.5400822133171609,-1.3077258733358614,-0.5342628034790948,-0.4453140991222401,1.9149519217568853,-0.4298784428599787,-1.7408278622364468,0.08984730403796322,-0.7220639924502646,-0.661782077365756,-1.9313280548361829,1.0995235869258424,-2.2416909234475497,1.6556238846323768,0.4881773567676999,-0.24661995472311352,-1.0888515437052844,-0.3800838112965957,1.076085654409655,-1.6593557461777635,0.21297961644533725,-1.5805191546265278,-1.618813240069065,0.04667537628522792,-0.3292224638769374,-1.1251094929123244,0.4090802971009559,-1.3057982878541903,0.4551469096035381,-0.06954108892814388,1.2405533050281512,-1.2173275922137747,1.65140906115177,-0.049881944271718826,0.38147990711103064,-1.0977982075374673,-0.8695743896417516,-1.1401255024732972,-0.1858666165578455,0.49689378953900226,-1.7204814086558124,1.3439359237959083,0.4609679198043368,0.8667683379824784,0.532690330525514,0.95150358077794,1.250685572340651,-0.26943495020421604,0.09722637026800443,0.4088197644876183,0.39448931245833757,1.524689421116744,0.6826810268566323,-1.6830237912206034,0.6318572757177054,0.2712253471184101,0.5970364658727937,0.7659094762271283,0.1096216186670033,-0.9596009180692899,-0.27623561082193904,-0.2579137767261097,-1.5159322047196007,0.26460532519337004,-0.7291898945221118,0.41642299592662535,0.6316260731687413,0.26153263868151694,-1.0468931473485552,1.908267957100243,1.0344822555487396,-1.5724801942537763,0.3569898615943052,-0.5466895707445805,2.0376888472931776,0.3144215127715293,0.5138467978812578,1.819754268505688,0.36849994498834077,-0.15873092607185396,-1.0049529009052667,0.09150725192149144,0.5764277982327448,-1.4916678031268555,0.6889429161353486,-1.5340180898299038,-0.5535547871389617,0.8371221944612994,1.511812318129234,0.4504704904485682,0.8099235277959423,-0.7489858817084645,0.9502448003142555,0.5875531667765086,1.575218737798039,0.6355889890230145,-0.8433765111948266],\"type\":\"histogram\"},{\"histfunc\":\"count\",\"histnorm\":\"\",\"marker\":{\"color\":\"rgba(55, 128, 191, 1.0)\",\"line\":{\"color\":\"#4D5663\",\"width\":1.3}},\"name\":\"B\",\"opacity\":0.8,\"orientation\":\"v\",\"x\":[0.9850713887904406,0.9895016294470834,0.33522187833194084,0.38263555967156293,0.3745792917333505,-1.429798678593703,1.1824612431217312,0.626488597539041,0.14349191696675895,-0.14814614007520954,-0.011611341174777376,2.12010533548965,-0.8772273524296763,0.6081160835617304,0.16137092972869155,-1.0714094098077365,-0.24641963527506083,-0.06582086200559119,-1.0060510964237628,-0.10337648868594303,-0.37416372381453705,0.9355670189990279,0.6210186517918276,-0.382253315672212,1.1502055049032665,0.11081971219168177,-0.9485281386209676,0.3163862184000106,-0.3640965591259851,0.18310189183405573,2.2399820434026694,0.639087710690256,-0.1398487891852959,-0.3925511584810141,1.3296265283651694,-0.11776415174203159,-0.4744386630352112,-0.4588922483652321,0.7842901351701419,-0.7900798468461651,-0.3144100924184365,0.06904462737971202,-0.08165840561428707,0.5937850226834473,1.6943248142423644,-1.4730818763638593,1.9149121426011169,-0.6981210172827813,1.0620220071337512,0.3270240144233015,0.9983963737189102,-1.5820504018948132,1.5576377626695666,0.6818302184258955,0.9581576498185576,0.7734938363828401,-1.2645145864507532,-0.6557307087352567,-0.08794658491303368,-0.2078210220450748,-0.7092534417802636,-0.4381431192271822,-0.29781816966271807,-1.9836917976954034,1.7777877374165716,0.3218961402254565,-2.077586101344516,-1.2073343169448907,1.7441615296849142,0.3048809157280745,-0.4907508335554843,0.8770109049237509,1.4245387717453464,1.0661665279074823,-0.6339901914933027,0.6802602704574408,-0.7168654439364791,-0.5578302948819142,-1.1185457726425359,-0.6121908887398874,-0.3779897877929932,1.4777200034997569,-0.19292716976175264,0.3574539014170091,-0.18544526745879408,-1.1466728464685323,0.5323503559652332,1.099398587877932,-2.3408632006156953,0.2961022336838603,0.34912709976479883,0.4803125361409515,-0.9275043314294719,1.810404002204835,-0.8997615818329986,-0.8882118828210713,0.07222842748511556,0.8997473673949757,0.12376395341787741,-2.1040059015548027],\"type\":\"histogram\"},{\"histfunc\":\"count\",\"histnorm\":\"\",\"marker\":{\"color\":\"rgba(50, 171, 96, 1.0)\",\"line\":{\"color\":\"#4D5663\",\"width\":1.3}},\"name\":\"C\",\"opacity\":0.8,\"orientation\":\"v\",\"x\":[1.3624391131495084,-0.09446315603746394,0.12053743295789382,1.1817252377826062,0.6475800142644463,0.8365164130551516,-0.4078180117652873,-1.1958213597542948,0.40486279121570723,0.30592864416212057,0.19107544463621579,0.693625983370063,-0.4795213929104659,-1.0445591306189137,1.5408861746461362,-1.3208667950772104,0.6094364132193509,-0.04085162955660802,-1.1955049542950045,-1.2909839067238678,-0.18996601563309218,-0.3027149219694637,-1.5439791351118015,0.15460830804329959,0.658379885150995,0.5165004387560271,0.24957975250950862,0.0374615654790334,-0.5011376297220035,-0.6980267142027701,1.003819045674507,0.5585194029409475,-0.6530654144953657,1.2989071642014614,1.2646838735261166,0.5232949932517565,-0.6708949079502614,-0.927915205881154,0.8588928727833726,-0.5510976265140255,-1.0544854398765824,0.38249192826086326,-0.265182820267451,-1.2334846966610336,0.8966353913944343,1.1855664845671843,2.102330612375204,0.8819175112781902,0.9484031417715634,-1.2951255668253117,0.5032418726519972,0.3869633350184438,2.0393910745438646,-0.9133046872020412,-1.7446801263689433,-0.2368714660544164,0.11501744149322286,0.9606814835850809,-1.0283016300674763,-0.20628502526959266,1.549434241388962,0.7699467943680909,1.1577045284955838,-0.34241868984657486,-0.21732911323454163,-0.7639606514748805,-0.6982225764961281,0.09808374584084899,0.07220517620201307,0.28388278140747314,2.048594502372427,-1.8338997526400318,1.1579823376966734,0.09248369553907014,-0.9536254360521329,-0.07992099885216111,-1.339150308345133,-4.248316610590325,0.877309688073591,1.0774032735018733,-1.660165966097154,-0.3296052293735431,0.7444300470693337,-0.28835240383946076,1.3209428618408567,-1.7226785064983972,-1.4546956979417622,-1.3569076990715874,-0.4591211120108361,0.6957975501809467,0.18663813416373395,0.684558745731199,-0.8003535785394227,1.4626502325103097,0.27341601084813794,-1.5470354465064384,1.1031551691903023,-0.12376385833508523,-0.8445403928519083,-1.1997622783239204],\"type\":\"histogram\"},{\"histfunc\":\"count\",\"histnorm\":\"\",\"marker\":{\"color\":\"rgba(128, 0, 128, 1.0)\",\"line\":{\"color\":\"#4D5663\",\"width\":1.3}},\"name\":\"D\",\"opacity\":0.8,\"orientation\":\"v\",\"x\":[0.4508128924895635,0.04215376366990217,-1.0518703849568212,0.3500266469736823,0.20580261077350961,1.754896843152072,2.6429833117351147,-0.8642797610580246,-0.41582297549411373,-2.042660108926624,2.433411389040133,0.04535365358034176,-0.029792164141180695,0.09932599146605318,-0.36469484458203194,-0.014842401964342685,0.7162484120775321,-0.21961157381040466,-0.1993741741945207,0.23618296330368907,-1.0988480324183805,-1.1914519954196043,1.626157398674772,0.6014805018574845,-0.28299033172737736,0.20369756450508605,-1.3892156923525512,-4.194659972602769,-0.2576579263997152,0.18060191245340587,1.007979796275341,2.8548811976149677,-1.2989409444905182,1.7539133867387662,0.6355116643849393,-0.8877889204443272,0.2632211548259389,-2.1995470109944844,0.10508899178899203,0.023440149037699982,-0.7425340360296323,0.5135110343053352,1.0469222376987855,0.334179083908498,-0.6732049555684151,1.920255314155447,0.31474455194034795,-1.2532405006469192,-0.1782867341660852,-0.2612236675518501,0.08529428865256748,0.8859081746666121,-1.0395821361778677,-1.1188438311720794,1.5062784783110792,0.5645111723215555,1.5574015777784491,0.9343818985603018,1.2748663294021338,0.19879888180871147,-0.5414272117544923,0.39304960399247185,-0.9247493404146402,0.42558068308709135,-0.24056252548192844,-0.019922997486305462,-0.6719566946713905,-0.27653060364317744,0.8027553461951863,0.27219153335231094,-0.5813309657966865,0.5436017784492733,0.37242807990780813,-1.0329950228586733,-1.395061469594945,-0.11127250730929014,1.455724989900488,-1.7520381668036558,-0.7413967616142342,0.8162950883053584,-0.38201837863016125,-0.4575423670048262,-0.4643247842979483,-0.20121589003332105,-0.49942386266143535,-0.5379565189422676,-1.5637105321302363,0.4845066972715467,-1.4458852188723432,-0.17788830278383255,0.6521404141377812,0.1210782204443573,0.5994269475041096,-0.48866354384002325,-1.8744915866299037,-0.4459372624232242,-0.24734394526561712,0.6108673765982904,-0.6112625793654177,-1.5686529059756902],\"type\":\"histogram\"}],                        {\"barmode\":\"overlay\",\"legend\":{\"bgcolor\":\"#F5F6F9\",\"font\":{\"color\":\"#4D5663\"}},\"paper_bgcolor\":\"#F5F6F9\",\"plot_bgcolor\":\"#F5F6F9\",\"template\":{\"data\":{\"barpolar\":[{\"marker\":{\"line\":{\"color\":\"#E5ECF6\",\"width\":0.5},\"pattern\":{\"fillmode\":\"overlay\",\"size\":10,\"solidity\":0.2}},\"type\":\"barpolar\"}],\"bar\":[{\"error_x\":{\"color\":\"#2a3f5f\"},\"error_y\":{\"color\":\"#2a3f5f\"},\"marker\":{\"line\":{\"color\":\"#E5ECF6\",\"width\":0.5},\"pattern\":{\"fillmode\":\"overlay\",\"size\":10,\"solidity\":0.2}},\"type\":\"bar\"}],\"carpet\":[{\"aaxis\":{\"endlinecolor\":\"#2a3f5f\",\"gridcolor\":\"white\",\"linecolor\":\"white\",\"minorgridcolor\":\"white\",\"startlinecolor\":\"#2a3f5f\"},\"baxis\":{\"endlinecolor\":\"#2a3f5f\",\"gridcolor\":\"white\",\"linecolor\":\"white\",\"minorgridcolor\":\"white\",\"startlinecolor\":\"#2a3f5f\"},\"type\":\"carpet\"}],\"choropleth\":[{\"colorbar\":{\"outlinewidth\":0,\"ticks\":\"\"},\"type\":\"choropleth\"}],\"contourcarpet\":[{\"colorbar\":{\"outlinewidth\":0,\"ticks\":\"\"},\"type\":\"contourcarpet\"}],\"contour\":[{\"colorbar\":{\"outlinewidth\":0,\"ticks\":\"\"},\"colorscale\":[[0.0,\"#0d0887\"],[0.1111111111111111,\"#46039f\"],[0.2222222222222222,\"#7201a8\"],[0.3333333333333333,\"#9c179e\"],[0.4444444444444444,\"#bd3786\"],[0.5555555555555556,\"#d8576b\"],[0.6666666666666666,\"#ed7953\"],[0.7777777777777778,\"#fb9f3a\"],[0.8888888888888888,\"#fdca26\"],[1.0,\"#f0f921\"]],\"type\":\"contour\"}],\"heatmapgl\":[{\"colorbar\":{\"outlinewidth\":0,\"ticks\":\"\"},\"colorscale\":[[0.0,\"#0d0887\"],[0.1111111111111111,\"#46039f\"],[0.2222222222222222,\"#7201a8\"],[0.3333333333333333,\"#9c179e\"],[0.4444444444444444,\"#bd3786\"],[0.5555555555555556,\"#d8576b\"],[0.6666666666666666,\"#ed7953\"],[0.7777777777777778,\"#fb9f3a\"],[0.8888888888888888,\"#fdca26\"],[1.0,\"#f0f921\"]],\"type\":\"heatmapgl\"}],\"heatmap\":[{\"colorbar\":{\"outlinewidth\":0,\"ticks\":\"\"},\"colorscale\":[[0.0,\"#0d0887\"],[0.1111111111111111,\"#46039f\"],[0.2222222222222222,\"#7201a8\"],[0.3333333333333333,\"#9c179e\"],[0.4444444444444444,\"#bd3786\"],[0.5555555555555556,\"#d8576b\"],[0.6666666666666666,\"#ed7953\"],[0.7777777777777778,\"#fb9f3a\"],[0.8888888888888888,\"#fdca26\"],[1.0,\"#f0f921\"]],\"type\":\"heatmap\"}],\"histogram2dcontour\":[{\"colorbar\":{\"outlinewidth\":0,\"ticks\":\"\"},\"colorscale\":[[0.0,\"#0d0887\"],[0.1111111111111111,\"#46039f\"],[0.2222222222222222,\"#7201a8\"],[0.3333333333333333,\"#9c179e\"],[0.4444444444444444,\"#bd3786\"],[0.5555555555555556,\"#d8576b\"],[0.6666666666666666,\"#ed7953\"],[0.7777777777777778,\"#fb9f3a\"],[0.8888888888888888,\"#fdca26\"],[1.0,\"#f0f921\"]],\"type\":\"histogram2dcontour\"}],\"histogram2d\":[{\"colorbar\":{\"outlinewidth\":0,\"ticks\":\"\"},\"colorscale\":[[0.0,\"#0d0887\"],[0.1111111111111111,\"#46039f\"],[0.2222222222222222,\"#7201a8\"],[0.3333333333333333,\"#9c179e\"],[0.4444444444444444,\"#bd3786\"],[0.5555555555555556,\"#d8576b\"],[0.6666666666666666,\"#ed7953\"],[0.7777777777777778,\"#fb9f3a\"],[0.8888888888888888,\"#fdca26\"],[1.0,\"#f0f921\"]],\"type\":\"histogram2d\"}],\"histogram\":[{\"marker\":{\"pattern\":{\"fillmode\":\"overlay\",\"size\":10,\"solidity\":0.2}},\"type\":\"histogram\"}],\"mesh3d\":[{\"colorbar\":{\"outlinewidth\":0,\"ticks\":\"\"},\"type\":\"mesh3d\"}],\"parcoords\":[{\"line\":{\"colorbar\":{\"outlinewidth\":0,\"ticks\":\"\"}},\"type\":\"parcoords\"}],\"pie\":[{\"automargin\":true,\"type\":\"pie\"}],\"scatter3d\":[{\"line\":{\"colorbar\":{\"outlinewidth\":0,\"ticks\":\"\"}},\"marker\":{\"colorbar\":{\"outlinewidth\":0,\"ticks\":\"\"}},\"type\":\"scatter3d\"}],\"scattercarpet\":[{\"marker\":{\"colorbar\":{\"outlinewidth\":0,\"ticks\":\"\"}},\"type\":\"scattercarpet\"}],\"scattergeo\":[{\"marker\":{\"colorbar\":{\"outlinewidth\":0,\"ticks\":\"\"}},\"type\":\"scattergeo\"}],\"scattergl\":[{\"marker\":{\"colorbar\":{\"outlinewidth\":0,\"ticks\":\"\"}},\"type\":\"scattergl\"}],\"scattermapbox\":[{\"marker\":{\"colorbar\":{\"outlinewidth\":0,\"ticks\":\"\"}},\"type\":\"scattermapbox\"}],\"scatterpolargl\":[{\"marker\":{\"colorbar\":{\"outlinewidth\":0,\"ticks\":\"\"}},\"type\":\"scatterpolargl\"}],\"scatterpolar\":[{\"marker\":{\"colorbar\":{\"outlinewidth\":0,\"ticks\":\"\"}},\"type\":\"scatterpolar\"}],\"scatter\":[{\"fillpattern\":{\"fillmode\":\"overlay\",\"size\":10,\"solidity\":0.2},\"type\":\"scatter\"}],\"scatterternary\":[{\"marker\":{\"colorbar\":{\"outlinewidth\":0,\"ticks\":\"\"}},\"type\":\"scatterternary\"}],\"surface\":[{\"colorbar\":{\"outlinewidth\":0,\"ticks\":\"\"},\"colorscale\":[[0.0,\"#0d0887\"],[0.1111111111111111,\"#46039f\"],[0.2222222222222222,\"#7201a8\"],[0.3333333333333333,\"#9c179e\"],[0.4444444444444444,\"#bd3786\"],[0.5555555555555556,\"#d8576b\"],[0.6666666666666666,\"#ed7953\"],[0.7777777777777778,\"#fb9f3a\"],[0.8888888888888888,\"#fdca26\"],[1.0,\"#f0f921\"]],\"type\":\"surface\"}],\"table\":[{\"cells\":{\"fill\":{\"color\":\"#EBF0F8\"},\"line\":{\"color\":\"white\"}},\"header\":{\"fill\":{\"color\":\"#C8D4E3\"},\"line\":{\"color\":\"white\"}},\"type\":\"table\"}]},\"layout\":{\"annotationdefaults\":{\"arrowcolor\":\"#2a3f5f\",\"arrowhead\":0,\"arrowwidth\":1},\"autotypenumbers\":\"strict\",\"coloraxis\":{\"colorbar\":{\"outlinewidth\":0,\"ticks\":\"\"}},\"colorscale\":{\"diverging\":[[0,\"#8e0152\"],[0.1,\"#c51b7d\"],[0.2,\"#de77ae\"],[0.3,\"#f1b6da\"],[0.4,\"#fde0ef\"],[0.5,\"#f7f7f7\"],[0.6,\"#e6f5d0\"],[0.7,\"#b8e186\"],[0.8,\"#7fbc41\"],[0.9,\"#4d9221\"],[1,\"#276419\"]],\"sequential\":[[0.0,\"#0d0887\"],[0.1111111111111111,\"#46039f\"],[0.2222222222222222,\"#7201a8\"],[0.3333333333333333,\"#9c179e\"],[0.4444444444444444,\"#bd3786\"],[0.5555555555555556,\"#d8576b\"],[0.6666666666666666,\"#ed7953\"],[0.7777777777777778,\"#fb9f3a\"],[0.8888888888888888,\"#fdca26\"],[1.0,\"#f0f921\"]],\"sequentialminus\":[[0.0,\"#0d0887\"],[0.1111111111111111,\"#46039f\"],[0.2222222222222222,\"#7201a8\"],[0.3333333333333333,\"#9c179e\"],[0.4444444444444444,\"#bd3786\"],[0.5555555555555556,\"#d8576b\"],[0.6666666666666666,\"#ed7953\"],[0.7777777777777778,\"#fb9f3a\"],[0.8888888888888888,\"#fdca26\"],[1.0,\"#f0f921\"]]},\"colorway\":[\"#636efa\",\"#EF553B\",\"#00cc96\",\"#ab63fa\",\"#FFA15A\",\"#19d3f3\",\"#FF6692\",\"#B6E880\",\"#FF97FF\",\"#FECB52\"],\"font\":{\"color\":\"#2a3f5f\"},\"geo\":{\"bgcolor\":\"white\",\"lakecolor\":\"white\",\"landcolor\":\"#E5ECF6\",\"showlakes\":true,\"showland\":true,\"subunitcolor\":\"white\"},\"hoverlabel\":{\"align\":\"left\"},\"hovermode\":\"closest\",\"mapbox\":{\"style\":\"light\"},\"paper_bgcolor\":\"white\",\"plot_bgcolor\":\"#E5ECF6\",\"polar\":{\"angularaxis\":{\"gridcolor\":\"white\",\"linecolor\":\"white\",\"ticks\":\"\"},\"bgcolor\":\"#E5ECF6\",\"radialaxis\":{\"gridcolor\":\"white\",\"linecolor\":\"white\",\"ticks\":\"\"}},\"scene\":{\"xaxis\":{\"backgroundcolor\":\"#E5ECF6\",\"gridcolor\":\"white\",\"gridwidth\":2,\"linecolor\":\"white\",\"showbackground\":true,\"ticks\":\"\",\"zerolinecolor\":\"white\"},\"yaxis\":{\"backgroundcolor\":\"#E5ECF6\",\"gridcolor\":\"white\",\"gridwidth\":2,\"linecolor\":\"white\",\"showbackground\":true,\"ticks\":\"\",\"zerolinecolor\":\"white\"},\"zaxis\":{\"backgroundcolor\":\"#E5ECF6\",\"gridcolor\":\"white\",\"gridwidth\":2,\"linecolor\":\"white\",\"showbackground\":true,\"ticks\":\"\",\"zerolinecolor\":\"white\"}},\"shapedefaults\":{\"line\":{\"color\":\"#2a3f5f\"}},\"ternary\":{\"aaxis\":{\"gridcolor\":\"white\",\"linecolor\":\"white\",\"ticks\":\"\"},\"baxis\":{\"gridcolor\":\"white\",\"linecolor\":\"white\",\"ticks\":\"\"},\"bgcolor\":\"#E5ECF6\",\"caxis\":{\"gridcolor\":\"white\",\"linecolor\":\"white\",\"ticks\":\"\"}},\"title\":{\"x\":0.05},\"xaxis\":{\"automargin\":true,\"gridcolor\":\"white\",\"linecolor\":\"white\",\"ticks\":\"\",\"title\":{\"standoff\":15},\"zerolinecolor\":\"white\",\"zerolinewidth\":2},\"yaxis\":{\"automargin\":true,\"gridcolor\":\"white\",\"linecolor\":\"white\",\"ticks\":\"\",\"title\":{\"standoff\":15},\"zerolinecolor\":\"white\",\"zerolinewidth\":2}}},\"title\":{\"font\":{\"color\":\"#4D5663\"}},\"xaxis\":{\"gridcolor\":\"#E1E5ED\",\"showgrid\":true,\"tickfont\":{\"color\":\"#4D5663\"},\"title\":{\"font\":{\"color\":\"#4D5663\"},\"text\":\"\"},\"zerolinecolor\":\"#E1E5ED\"},\"yaxis\":{\"gridcolor\":\"#E1E5ED\",\"showgrid\":true,\"tickfont\":{\"color\":\"#4D5663\"},\"title\":{\"font\":{\"color\":\"#4D5663\"},\"text\":\"\"},\"zerolinecolor\":\"#E1E5ED\"}},                        {\"showLink\": true, \"linkText\": \"Export to plot.ly\", \"plotlyServerURL\": \"https://plot.ly\", \"responsive\": true}                    ).then(function(){\n",
       "                            \n",
       "var gd = document.getElementById('ff5a9d53-d7a2-4ade-b965-50edd1706f94');\n",
       "var x = new MutationObserver(function (mutations, observer) {{\n",
       "        var display = window.getComputedStyle(gd).display;\n",
       "        if (!display || display === 'none') {{\n",
       "            console.log([gd, 'removed!']);\n",
       "            Plotly.purge(gd);\n",
       "            observer.disconnect();\n",
       "        }}\n",
       "}});\n",
       "\n",
       "// Listen for the removal of the full notebook cells\n",
       "var notebookContainer = gd.closest('#notebook-container');\n",
       "if (notebookContainer) {{\n",
       "    x.observe(notebookContainer, {childList: true});\n",
       "}}\n",
       "\n",
       "// Listen for the clearing of the current output cell\n",
       "var outputEl = gd.closest('.output');\n",
       "if (outputEl) {{\n",
       "    x.observe(outputEl, {childList: true});\n",
       "}}\n",
       "\n",
       "                        })                };                });            </script>        </div>"
      ]
     },
     "metadata": {},
     "output_type": "display_data"
    }
   ],
   "source": [
    "df.iplot(kind='hist')"
   ]
  },
  {
   "cell_type": "code",
   "execution_count": 44,
   "id": "831b5c2b",
   "metadata": {
    "ExecuteTime": {
     "end_time": "2023-01-12T17:34:35.305091Z",
     "start_time": "2023-01-12T17:34:35.245085Z"
    }
   },
   "outputs": [
    {
     "data": {
      "application/vnd.plotly.v1+json": {
       "config": {
        "linkText": "Export to plot.ly",
        "plotlyServerURL": "https://plot.ly",
        "showLink": true
       },
       "data": [
        {
         "line": {
          "color": "rgba(255, 153, 51, 1.0)",
          "dash": "solid",
          "shape": "linear",
          "width": 1.3
         },
         "mode": "lines",
         "name": "A",
         "text": "",
         "type": "scatter",
         "x": [
          0,
          1,
          2,
          3,
          4,
          5,
          6,
          7,
          8,
          9,
          10,
          11,
          12,
          13,
          14,
          15,
          16,
          17,
          18,
          19,
          20,
          21,
          22,
          23,
          24,
          25,
          26,
          27,
          28,
          29,
          30,
          31,
          32,
          33,
          34,
          35,
          36,
          37,
          38,
          39,
          40,
          41,
          42,
          43,
          44,
          45,
          46,
          47,
          48,
          49,
          50,
          51,
          52,
          53,
          54,
          55,
          56,
          57,
          58,
          59,
          60,
          61,
          62,
          63,
          64,
          65,
          66,
          67,
          68,
          69,
          70,
          71,
          72,
          73,
          74,
          75,
          76,
          77,
          78,
          79,
          80,
          81,
          82,
          83,
          84,
          85,
          86,
          87,
          88,
          89,
          90,
          91,
          92,
          93,
          94,
          95,
          96,
          97,
          98,
          99
         ],
         "y": [
          0.37597005318765364,
          -0.9048495718966237,
          0.8579565711447589,
          0.5400822133171609,
          -1.3077258733358614,
          -0.5342628034790948,
          -0.4453140991222401,
          1.9149519217568853,
          -0.4298784428599787,
          -1.7408278622364468,
          0.08984730403796322,
          -0.7220639924502646,
          -0.661782077365756,
          -1.9313280548361829,
          1.0995235869258424,
          -2.2416909234475497,
          1.6556238846323768,
          0.4881773567676999,
          -0.24661995472311352,
          -1.0888515437052844,
          -0.3800838112965957,
          1.076085654409655,
          -1.6593557461777635,
          0.21297961644533725,
          -1.5805191546265278,
          -1.618813240069065,
          0.04667537628522792,
          -0.3292224638769374,
          -1.1251094929123244,
          0.4090802971009559,
          -1.3057982878541903,
          0.4551469096035381,
          -0.06954108892814388,
          1.2405533050281512,
          -1.2173275922137747,
          1.65140906115177,
          -0.049881944271718826,
          0.38147990711103064,
          -1.0977982075374673,
          -0.8695743896417516,
          -1.1401255024732972,
          -0.1858666165578455,
          0.49689378953900226,
          -1.7204814086558124,
          1.3439359237959083,
          0.4609679198043368,
          0.8667683379824784,
          0.532690330525514,
          0.95150358077794,
          1.250685572340651,
          -0.26943495020421604,
          0.09722637026800443,
          0.4088197644876183,
          0.39448931245833757,
          1.524689421116744,
          0.6826810268566323,
          -1.6830237912206034,
          0.6318572757177054,
          0.2712253471184101,
          0.5970364658727937,
          0.7659094762271283,
          0.1096216186670033,
          -0.9596009180692899,
          -0.27623561082193904,
          -0.2579137767261097,
          -1.5159322047196007,
          0.26460532519337004,
          -0.7291898945221118,
          0.41642299592662535,
          0.6316260731687413,
          0.26153263868151694,
          -1.0468931473485552,
          1.908267957100243,
          1.0344822555487396,
          -1.5724801942537763,
          0.3569898615943052,
          -0.5466895707445805,
          2.0376888472931776,
          0.3144215127715293,
          0.5138467978812578,
          1.819754268505688,
          0.36849994498834077,
          -0.15873092607185396,
          -1.0049529009052667,
          0.09150725192149144,
          0.5764277982327448,
          -1.4916678031268555,
          0.6889429161353486,
          -1.5340180898299038,
          -0.5535547871389617,
          0.8371221944612994,
          1.511812318129234,
          0.4504704904485682,
          0.8099235277959423,
          -0.7489858817084645,
          0.9502448003142555,
          0.5875531667765086,
          1.575218737798039,
          0.6355889890230145,
          -0.8433765111948266
         ]
        },
        {
         "line": {
          "color": "rgba(55, 128, 191, 1.0)",
          "dash": "solid",
          "shape": "linear",
          "width": 1.3
         },
         "mode": "lines",
         "name": "B",
         "text": "",
         "type": "scatter",
         "x": [
          0,
          1,
          2,
          3,
          4,
          5,
          6,
          7,
          8,
          9,
          10,
          11,
          12,
          13,
          14,
          15,
          16,
          17,
          18,
          19,
          20,
          21,
          22,
          23,
          24,
          25,
          26,
          27,
          28,
          29,
          30,
          31,
          32,
          33,
          34,
          35,
          36,
          37,
          38,
          39,
          40,
          41,
          42,
          43,
          44,
          45,
          46,
          47,
          48,
          49,
          50,
          51,
          52,
          53,
          54,
          55,
          56,
          57,
          58,
          59,
          60,
          61,
          62,
          63,
          64,
          65,
          66,
          67,
          68,
          69,
          70,
          71,
          72,
          73,
          74,
          75,
          76,
          77,
          78,
          79,
          80,
          81,
          82,
          83,
          84,
          85,
          86,
          87,
          88,
          89,
          90,
          91,
          92,
          93,
          94,
          95,
          96,
          97,
          98,
          99
         ],
         "y": [
          0.9850713887904406,
          0.9895016294470834,
          0.33522187833194084,
          0.38263555967156293,
          0.3745792917333505,
          -1.429798678593703,
          1.1824612431217312,
          0.626488597539041,
          0.14349191696675895,
          -0.14814614007520954,
          -0.011611341174777376,
          2.12010533548965,
          -0.8772273524296763,
          0.6081160835617304,
          0.16137092972869155,
          -1.0714094098077365,
          -0.24641963527506083,
          -0.06582086200559119,
          -1.0060510964237628,
          -0.10337648868594303,
          -0.37416372381453705,
          0.9355670189990279,
          0.6210186517918276,
          -0.382253315672212,
          1.1502055049032665,
          0.11081971219168177,
          -0.9485281386209676,
          0.3163862184000106,
          -0.3640965591259851,
          0.18310189183405573,
          2.2399820434026694,
          0.639087710690256,
          -0.1398487891852959,
          -0.3925511584810141,
          1.3296265283651694,
          -0.11776415174203159,
          -0.4744386630352112,
          -0.4588922483652321,
          0.7842901351701419,
          -0.7900798468461651,
          -0.3144100924184365,
          0.06904462737971202,
          -0.08165840561428707,
          0.5937850226834473,
          1.6943248142423644,
          -1.4730818763638593,
          1.9149121426011169,
          -0.6981210172827813,
          1.0620220071337512,
          0.3270240144233015,
          0.9983963737189102,
          -1.5820504018948132,
          1.5576377626695666,
          0.6818302184258955,
          0.9581576498185576,
          0.7734938363828401,
          -1.2645145864507532,
          -0.6557307087352567,
          -0.08794658491303368,
          -0.2078210220450748,
          -0.7092534417802636,
          -0.4381431192271822,
          -0.29781816966271807,
          -1.9836917976954034,
          1.7777877374165716,
          0.3218961402254565,
          -2.077586101344516,
          -1.2073343169448907,
          1.7441615296849142,
          0.3048809157280745,
          -0.4907508335554843,
          0.8770109049237509,
          1.4245387717453464,
          1.0661665279074823,
          -0.6339901914933027,
          0.6802602704574408,
          -0.7168654439364791,
          -0.5578302948819142,
          -1.1185457726425359,
          -0.6121908887398874,
          -0.3779897877929932,
          1.4777200034997569,
          -0.19292716976175264,
          0.3574539014170091,
          -0.18544526745879408,
          -1.1466728464685323,
          0.5323503559652332,
          1.099398587877932,
          -2.3408632006156953,
          0.2961022336838603,
          0.34912709976479883,
          0.4803125361409515,
          -0.9275043314294719,
          1.810404002204835,
          -0.8997615818329986,
          -0.8882118828210713,
          0.07222842748511556,
          0.8997473673949757,
          0.12376395341787741,
          -2.1040059015548027
         ]
        },
        {
         "connectgaps": false,
         "fill": "tozeroy",
         "line": {
          "color": "green",
          "dash": "solid",
          "shape": "linear",
          "width": 0.5
         },
         "mode": "lines",
         "name": "Spread",
         "showlegend": false,
         "type": "scatter",
         "x": [
          0,
          1,
          2,
          3,
          4,
          5,
          6,
          7,
          8,
          9,
          10,
          11,
          12,
          13,
          14,
          15,
          16,
          17,
          18,
          19,
          20,
          21,
          22,
          23,
          24,
          25,
          26,
          27,
          28,
          29,
          30,
          31,
          32,
          33,
          34,
          35,
          36,
          37,
          38,
          39,
          40,
          41,
          42,
          43,
          44,
          45,
          46,
          47,
          48,
          49,
          50,
          51,
          52,
          53,
          54,
          55,
          56,
          57,
          58,
          59,
          60,
          61,
          62,
          63,
          64,
          65,
          66,
          67,
          68,
          69,
          70,
          71,
          72,
          73,
          74,
          75,
          76,
          77,
          78,
          79,
          80,
          81,
          82,
          83,
          84,
          85,
          86,
          87,
          88,
          89,
          90,
          91,
          92,
          93,
          94,
          95,
          96,
          97,
          98,
          99
         ],
         "xaxis": "x2",
         "y": [
          "",
          "",
          0.522734692812818,
          0.15744665364559796,
          "",
          0.8955358751146081,
          "",
          1.2884633242178443,
          "",
          "",
          0.10145864521274059,
          "",
          0.2154452750639203,
          "",
          0.9381526571971508,
          "",
          1.9020435199074375,
          0.5539982187732911,
          0.7594311417006493,
          "",
          "",
          0.14051863541062715,
          "",
          0.5952329321175492,
          "",
          "",
          0.9952035149061955,
          "",
          "",
          0.22597840526690016,
          "",
          "",
          0.07030770025715201,
          1.6331044635091652,
          "",
          1.7691732128938016,
          0.4245567187634924,
          0.8403721554762628,
          "",
          "",
          "",
          "",
          0.5785521951532894,
          "",
          "",
          1.9340497961681962,
          "",
          1.2308113478082952,
          "",
          0.9236615579173495,
          "",
          1.6792767721628177,
          "",
          "",
          0.5665317712981865,
          "",
          "",
          1.287587984452962,
          0.3591719320314438,
          0.8048574879178685,
          1.475162918007392,
          0.5477647378941854,
          "",
          1.7074561868734643,
          "",
          "",
          2.342191426537886,
          0.4781444224227789,
          "",
          0.3267451574406668,
          0.7522834722370013,
          "",
          0.4837291853548966,
          "",
          "",
          "",
          0.17017587319189864,
          2.5955191421750916,
          1.4329672854140652,
          1.126037686621145,
          2.1977440562986814,
          "",
          0.03419624368989868,
          "",
          0.27695251938028553,
          1.723100644701277,
          "",
          "",
          0.8068451107857915,
          "",
          0.4879950946965006,
          1.0314997819882825,
          1.37797482187804,
          "",
          0.15077570012453412,
          1.8384566831353268,
          0.515324739291393,
          0.6754713704030632,
          0.5118250356051371,
          1.2606293903599761
         ],
         "yaxis": "y2"
        },
        {
         "connectgaps": false,
         "fill": "tozeroy",
         "line": {
          "color": "red",
          "dash": "solid",
          "shape": "linear",
          "width": 0.5
         },
         "mode": "lines",
         "name": "Spread",
         "showlegend": false,
         "type": "scatter",
         "x": [
          0,
          1,
          2,
          3,
          4,
          5,
          6,
          7,
          8,
          9,
          10,
          11,
          12,
          13,
          14,
          15,
          16,
          17,
          18,
          19,
          20,
          21,
          22,
          23,
          24,
          25,
          26,
          27,
          28,
          29,
          30,
          31,
          32,
          33,
          34,
          35,
          36,
          37,
          38,
          39,
          40,
          41,
          42,
          43,
          44,
          45,
          46,
          47,
          48,
          49,
          50,
          51,
          52,
          53,
          54,
          55,
          56,
          57,
          58,
          59,
          60,
          61,
          62,
          63,
          64,
          65,
          66,
          67,
          68,
          69,
          70,
          71,
          72,
          73,
          74,
          75,
          76,
          77,
          78,
          79,
          80,
          81,
          82,
          83,
          84,
          85,
          86,
          87,
          88,
          89,
          90,
          91,
          92,
          93,
          94,
          95,
          96,
          97,
          98,
          99
         ],
         "xaxis": "x2",
         "y": [
          -0.609101335602787,
          -1.8943512013437072,
          "",
          "",
          -1.682305165069212,
          "",
          -1.6277753422439714,
          "",
          -0.5733703598267377,
          -1.5926817221612373,
          "",
          -2.8421693279399145,
          "",
          -2.539444138397913,
          "",
          -1.1702815136398133,
          "",
          "",
          "",
          -0.9854750550193413,
          -0.0059200874820586336,
          "",
          -2.280374397969591,
          "",
          -2.7307246595297943,
          -1.7296329522607468,
          "",
          -0.645608682276948,
          -0.7610129337863394,
          "",
          -3.54578033125686,
          -0.18394080108671795,
          "",
          "",
          -2.546954120578944,
          "",
          "",
          "",
          -1.8820883427076092,
          -0.07949454279558654,
          -0.8257154100548607,
          -0.25491124393755754,
          "",
          -2.31426643133926,
          -0.35038889044645605,
          "",
          -1.0481438046186384,
          "",
          -0.11051842635581122,
          "",
          -1.2678313239231263,
          "",
          -1.1488179981819482,
          -0.28734090596755796,
          "",
          -0.09081280952620774,
          -0.4185092047698502,
          "",
          "",
          "",
          "",
          "",
          -0.6617827484065719,
          "",
          -2.0357015141426813,
          -1.8378283449450572,
          "",
          "",
          -1.3277385337582888,
          "",
          "",
          -1.923904052272306,
          "",
          -0.031684272358742716,
          -0.9384900027604736,
          -0.32327040886313557,
          "",
          "",
          "",
          "",
          "",
          -1.109220058511416,
          "",
          -1.3624068023222757,
          "",
          "",
          -2.0240181590920887,
          -0.41045567174258335,
          "",
          -0.849657020822822,
          "",
          "",
          "",
          -1.0004804744088927,
          "",
          "",
          "",
          "",
          "",
          ""
         ],
         "yaxis": "y2"
        }
       ],
       "layout": {
        "hovermode": "x",
        "legend": {
         "bgcolor": "#F5F6F9",
         "font": {
          "color": "#4D5663"
         }
        },
        "paper_bgcolor": "#F5F6F9",
        "plot_bgcolor": "#F5F6F9",
        "template": {
         "data": {
          "bar": [
           {
            "error_x": {
             "color": "#2a3f5f"
            },
            "error_y": {
             "color": "#2a3f5f"
            },
            "marker": {
             "line": {
              "color": "#E5ECF6",
              "width": 0.5
             },
             "pattern": {
              "fillmode": "overlay",
              "size": 10,
              "solidity": 0.2
             }
            },
            "type": "bar"
           }
          ],
          "barpolar": [
           {
            "marker": {
             "line": {
              "color": "#E5ECF6",
              "width": 0.5
             },
             "pattern": {
              "fillmode": "overlay",
              "size": 10,
              "solidity": 0.2
             }
            },
            "type": "barpolar"
           }
          ],
          "carpet": [
           {
            "aaxis": {
             "endlinecolor": "#2a3f5f",
             "gridcolor": "white",
             "linecolor": "white",
             "minorgridcolor": "white",
             "startlinecolor": "#2a3f5f"
            },
            "baxis": {
             "endlinecolor": "#2a3f5f",
             "gridcolor": "white",
             "linecolor": "white",
             "minorgridcolor": "white",
             "startlinecolor": "#2a3f5f"
            },
            "type": "carpet"
           }
          ],
          "choropleth": [
           {
            "colorbar": {
             "outlinewidth": 0,
             "ticks": ""
            },
            "type": "choropleth"
           }
          ],
          "contour": [
           {
            "colorbar": {
             "outlinewidth": 0,
             "ticks": ""
            },
            "colorscale": [
             [
              0,
              "#0d0887"
             ],
             [
              0.1111111111111111,
              "#46039f"
             ],
             [
              0.2222222222222222,
              "#7201a8"
             ],
             [
              0.3333333333333333,
              "#9c179e"
             ],
             [
              0.4444444444444444,
              "#bd3786"
             ],
             [
              0.5555555555555556,
              "#d8576b"
             ],
             [
              0.6666666666666666,
              "#ed7953"
             ],
             [
              0.7777777777777778,
              "#fb9f3a"
             ],
             [
              0.8888888888888888,
              "#fdca26"
             ],
             [
              1,
              "#f0f921"
             ]
            ],
            "type": "contour"
           }
          ],
          "contourcarpet": [
           {
            "colorbar": {
             "outlinewidth": 0,
             "ticks": ""
            },
            "type": "contourcarpet"
           }
          ],
          "heatmap": [
           {
            "colorbar": {
             "outlinewidth": 0,
             "ticks": ""
            },
            "colorscale": [
             [
              0,
              "#0d0887"
             ],
             [
              0.1111111111111111,
              "#46039f"
             ],
             [
              0.2222222222222222,
              "#7201a8"
             ],
             [
              0.3333333333333333,
              "#9c179e"
             ],
             [
              0.4444444444444444,
              "#bd3786"
             ],
             [
              0.5555555555555556,
              "#d8576b"
             ],
             [
              0.6666666666666666,
              "#ed7953"
             ],
             [
              0.7777777777777778,
              "#fb9f3a"
             ],
             [
              0.8888888888888888,
              "#fdca26"
             ],
             [
              1,
              "#f0f921"
             ]
            ],
            "type": "heatmap"
           }
          ],
          "heatmapgl": [
           {
            "colorbar": {
             "outlinewidth": 0,
             "ticks": ""
            },
            "colorscale": [
             [
              0,
              "#0d0887"
             ],
             [
              0.1111111111111111,
              "#46039f"
             ],
             [
              0.2222222222222222,
              "#7201a8"
             ],
             [
              0.3333333333333333,
              "#9c179e"
             ],
             [
              0.4444444444444444,
              "#bd3786"
             ],
             [
              0.5555555555555556,
              "#d8576b"
             ],
             [
              0.6666666666666666,
              "#ed7953"
             ],
             [
              0.7777777777777778,
              "#fb9f3a"
             ],
             [
              0.8888888888888888,
              "#fdca26"
             ],
             [
              1,
              "#f0f921"
             ]
            ],
            "type": "heatmapgl"
           }
          ],
          "histogram": [
           {
            "marker": {
             "pattern": {
              "fillmode": "overlay",
              "size": 10,
              "solidity": 0.2
             }
            },
            "type": "histogram"
           }
          ],
          "histogram2d": [
           {
            "colorbar": {
             "outlinewidth": 0,
             "ticks": ""
            },
            "colorscale": [
             [
              0,
              "#0d0887"
             ],
             [
              0.1111111111111111,
              "#46039f"
             ],
             [
              0.2222222222222222,
              "#7201a8"
             ],
             [
              0.3333333333333333,
              "#9c179e"
             ],
             [
              0.4444444444444444,
              "#bd3786"
             ],
             [
              0.5555555555555556,
              "#d8576b"
             ],
             [
              0.6666666666666666,
              "#ed7953"
             ],
             [
              0.7777777777777778,
              "#fb9f3a"
             ],
             [
              0.8888888888888888,
              "#fdca26"
             ],
             [
              1,
              "#f0f921"
             ]
            ],
            "type": "histogram2d"
           }
          ],
          "histogram2dcontour": [
           {
            "colorbar": {
             "outlinewidth": 0,
             "ticks": ""
            },
            "colorscale": [
             [
              0,
              "#0d0887"
             ],
             [
              0.1111111111111111,
              "#46039f"
             ],
             [
              0.2222222222222222,
              "#7201a8"
             ],
             [
              0.3333333333333333,
              "#9c179e"
             ],
             [
              0.4444444444444444,
              "#bd3786"
             ],
             [
              0.5555555555555556,
              "#d8576b"
             ],
             [
              0.6666666666666666,
              "#ed7953"
             ],
             [
              0.7777777777777778,
              "#fb9f3a"
             ],
             [
              0.8888888888888888,
              "#fdca26"
             ],
             [
              1,
              "#f0f921"
             ]
            ],
            "type": "histogram2dcontour"
           }
          ],
          "mesh3d": [
           {
            "colorbar": {
             "outlinewidth": 0,
             "ticks": ""
            },
            "type": "mesh3d"
           }
          ],
          "parcoords": [
           {
            "line": {
             "colorbar": {
              "outlinewidth": 0,
              "ticks": ""
             }
            },
            "type": "parcoords"
           }
          ],
          "pie": [
           {
            "automargin": true,
            "type": "pie"
           }
          ],
          "scatter": [
           {
            "fillpattern": {
             "fillmode": "overlay",
             "size": 10,
             "solidity": 0.2
            },
            "type": "scatter"
           }
          ],
          "scatter3d": [
           {
            "line": {
             "colorbar": {
              "outlinewidth": 0,
              "ticks": ""
             }
            },
            "marker": {
             "colorbar": {
              "outlinewidth": 0,
              "ticks": ""
             }
            },
            "type": "scatter3d"
           }
          ],
          "scattercarpet": [
           {
            "marker": {
             "colorbar": {
              "outlinewidth": 0,
              "ticks": ""
             }
            },
            "type": "scattercarpet"
           }
          ],
          "scattergeo": [
           {
            "marker": {
             "colorbar": {
              "outlinewidth": 0,
              "ticks": ""
             }
            },
            "type": "scattergeo"
           }
          ],
          "scattergl": [
           {
            "marker": {
             "colorbar": {
              "outlinewidth": 0,
              "ticks": ""
             }
            },
            "type": "scattergl"
           }
          ],
          "scattermapbox": [
           {
            "marker": {
             "colorbar": {
              "outlinewidth": 0,
              "ticks": ""
             }
            },
            "type": "scattermapbox"
           }
          ],
          "scatterpolar": [
           {
            "marker": {
             "colorbar": {
              "outlinewidth": 0,
              "ticks": ""
             }
            },
            "type": "scatterpolar"
           }
          ],
          "scatterpolargl": [
           {
            "marker": {
             "colorbar": {
              "outlinewidth": 0,
              "ticks": ""
             }
            },
            "type": "scatterpolargl"
           }
          ],
          "scatterternary": [
           {
            "marker": {
             "colorbar": {
              "outlinewidth": 0,
              "ticks": ""
             }
            },
            "type": "scatterternary"
           }
          ],
          "surface": [
           {
            "colorbar": {
             "outlinewidth": 0,
             "ticks": ""
            },
            "colorscale": [
             [
              0,
              "#0d0887"
             ],
             [
              0.1111111111111111,
              "#46039f"
             ],
             [
              0.2222222222222222,
              "#7201a8"
             ],
             [
              0.3333333333333333,
              "#9c179e"
             ],
             [
              0.4444444444444444,
              "#bd3786"
             ],
             [
              0.5555555555555556,
              "#d8576b"
             ],
             [
              0.6666666666666666,
              "#ed7953"
             ],
             [
              0.7777777777777778,
              "#fb9f3a"
             ],
             [
              0.8888888888888888,
              "#fdca26"
             ],
             [
              1,
              "#f0f921"
             ]
            ],
            "type": "surface"
           }
          ],
          "table": [
           {
            "cells": {
             "fill": {
              "color": "#EBF0F8"
             },
             "line": {
              "color": "white"
             }
            },
            "header": {
             "fill": {
              "color": "#C8D4E3"
             },
             "line": {
              "color": "white"
             }
            },
            "type": "table"
           }
          ]
         },
         "layout": {
          "annotationdefaults": {
           "arrowcolor": "#2a3f5f",
           "arrowhead": 0,
           "arrowwidth": 1
          },
          "autotypenumbers": "strict",
          "coloraxis": {
           "colorbar": {
            "outlinewidth": 0,
            "ticks": ""
           }
          },
          "colorscale": {
           "diverging": [
            [
             0,
             "#8e0152"
            ],
            [
             0.1,
             "#c51b7d"
            ],
            [
             0.2,
             "#de77ae"
            ],
            [
             0.3,
             "#f1b6da"
            ],
            [
             0.4,
             "#fde0ef"
            ],
            [
             0.5,
             "#f7f7f7"
            ],
            [
             0.6,
             "#e6f5d0"
            ],
            [
             0.7,
             "#b8e186"
            ],
            [
             0.8,
             "#7fbc41"
            ],
            [
             0.9,
             "#4d9221"
            ],
            [
             1,
             "#276419"
            ]
           ],
           "sequential": [
            [
             0,
             "#0d0887"
            ],
            [
             0.1111111111111111,
             "#46039f"
            ],
            [
             0.2222222222222222,
             "#7201a8"
            ],
            [
             0.3333333333333333,
             "#9c179e"
            ],
            [
             0.4444444444444444,
             "#bd3786"
            ],
            [
             0.5555555555555556,
             "#d8576b"
            ],
            [
             0.6666666666666666,
             "#ed7953"
            ],
            [
             0.7777777777777778,
             "#fb9f3a"
            ],
            [
             0.8888888888888888,
             "#fdca26"
            ],
            [
             1,
             "#f0f921"
            ]
           ],
           "sequentialminus": [
            [
             0,
             "#0d0887"
            ],
            [
             0.1111111111111111,
             "#46039f"
            ],
            [
             0.2222222222222222,
             "#7201a8"
            ],
            [
             0.3333333333333333,
             "#9c179e"
            ],
            [
             0.4444444444444444,
             "#bd3786"
            ],
            [
             0.5555555555555556,
             "#d8576b"
            ],
            [
             0.6666666666666666,
             "#ed7953"
            ],
            [
             0.7777777777777778,
             "#fb9f3a"
            ],
            [
             0.8888888888888888,
             "#fdca26"
            ],
            [
             1,
             "#f0f921"
            ]
           ]
          },
          "colorway": [
           "#636efa",
           "#EF553B",
           "#00cc96",
           "#ab63fa",
           "#FFA15A",
           "#19d3f3",
           "#FF6692",
           "#B6E880",
           "#FF97FF",
           "#FECB52"
          ],
          "font": {
           "color": "#2a3f5f"
          },
          "geo": {
           "bgcolor": "white",
           "lakecolor": "white",
           "landcolor": "#E5ECF6",
           "showlakes": true,
           "showland": true,
           "subunitcolor": "white"
          },
          "hoverlabel": {
           "align": "left"
          },
          "hovermode": "closest",
          "mapbox": {
           "style": "light"
          },
          "paper_bgcolor": "white",
          "plot_bgcolor": "#E5ECF6",
          "polar": {
           "angularaxis": {
            "gridcolor": "white",
            "linecolor": "white",
            "ticks": ""
           },
           "bgcolor": "#E5ECF6",
           "radialaxis": {
            "gridcolor": "white",
            "linecolor": "white",
            "ticks": ""
           }
          },
          "scene": {
           "xaxis": {
            "backgroundcolor": "#E5ECF6",
            "gridcolor": "white",
            "gridwidth": 2,
            "linecolor": "white",
            "showbackground": true,
            "ticks": "",
            "zerolinecolor": "white"
           },
           "yaxis": {
            "backgroundcolor": "#E5ECF6",
            "gridcolor": "white",
            "gridwidth": 2,
            "linecolor": "white",
            "showbackground": true,
            "ticks": "",
            "zerolinecolor": "white"
           },
           "zaxis": {
            "backgroundcolor": "#E5ECF6",
            "gridcolor": "white",
            "gridwidth": 2,
            "linecolor": "white",
            "showbackground": true,
            "ticks": "",
            "zerolinecolor": "white"
           }
          },
          "shapedefaults": {
           "line": {
            "color": "#2a3f5f"
           }
          },
          "ternary": {
           "aaxis": {
            "gridcolor": "white",
            "linecolor": "white",
            "ticks": ""
           },
           "baxis": {
            "gridcolor": "white",
            "linecolor": "white",
            "ticks": ""
           },
           "bgcolor": "#E5ECF6",
           "caxis": {
            "gridcolor": "white",
            "linecolor": "white",
            "ticks": ""
           }
          },
          "title": {
           "x": 0.05
          },
          "xaxis": {
           "automargin": true,
           "gridcolor": "white",
           "linecolor": "white",
           "ticks": "",
           "title": {
            "standoff": 15
           },
           "zerolinecolor": "white",
           "zerolinewidth": 2
          },
          "yaxis": {
           "automargin": true,
           "gridcolor": "white",
           "linecolor": "white",
           "ticks": "",
           "title": {
            "standoff": 15
           },
           "zerolinecolor": "white",
           "zerolinewidth": 2
          }
         }
        },
        "title": {
         "font": {
          "color": "#4D5663"
         }
        },
        "xaxis": {
         "gridcolor": "#E1E5ED",
         "showgrid": true,
         "tickfont": {
          "color": "#4D5663"
         },
         "title": {
          "font": {
           "color": "#4D5663"
          },
          "text": ""
         },
         "zerolinecolor": "#E1E5ED"
        },
        "xaxis2": {
         "anchor": "y2",
         "gridcolor": "#E1E5ED",
         "showgrid": true,
         "showticklabels": false,
         "tickfont": {
          "color": "#4D5663"
         },
         "title": {
          "font": {
           "color": "#4D5663"
          },
          "text": ""
         },
         "zerolinecolor": "#E1E5ED"
        },
        "yaxis": {
         "domain": [
          0.3,
          1
         ],
         "gridcolor": "#E1E5ED",
         "showgrid": true,
         "tickfont": {
          "color": "#4D5663"
         },
         "title": {
          "font": {
           "color": "#4D5663"
          },
          "text": ""
         },
         "zerolinecolor": "#E1E5ED"
        },
        "yaxis2": {
         "domain": [
          0,
          0.25
         ],
         "gridcolor": "#E1E5ED",
         "showgrid": true,
         "tickfont": {
          "color": "#4D5663"
         },
         "title": {
          "font": {
           "color": "#4D5663"
          },
          "text": "Spread"
         },
         "zerolinecolor": "#E1E5ED"
        }
       }
      },
      "text/html": [
       "<div>                            <div id=\"88283ce4-63f7-4469-9545-d6afdcc9608e\" class=\"plotly-graph-div\" style=\"height:525px; width:100%;\"></div>            <script type=\"text/javascript\">                require([\"plotly\"], function(Plotly) {                    window.PLOTLYENV=window.PLOTLYENV || {};\n",
       "                    window.PLOTLYENV.BASE_URL='https://plot.ly';                                    if (document.getElementById(\"88283ce4-63f7-4469-9545-d6afdcc9608e\")) {                    Plotly.newPlot(                        \"88283ce4-63f7-4469-9545-d6afdcc9608e\",                        [{\"line\":{\"color\":\"rgba(255, 153, 51, 1.0)\",\"dash\":\"solid\",\"shape\":\"linear\",\"width\":1.3},\"mode\":\"lines\",\"name\":\"A\",\"text\":\"\",\"x\":[0,1,2,3,4,5,6,7,8,9,10,11,12,13,14,15,16,17,18,19,20,21,22,23,24,25,26,27,28,29,30,31,32,33,34,35,36,37,38,39,40,41,42,43,44,45,46,47,48,49,50,51,52,53,54,55,56,57,58,59,60,61,62,63,64,65,66,67,68,69,70,71,72,73,74,75,76,77,78,79,80,81,82,83,84,85,86,87,88,89,90,91,92,93,94,95,96,97,98,99],\"y\":[0.37597005318765364,-0.9048495718966237,0.8579565711447589,0.5400822133171609,-1.3077258733358614,-0.5342628034790948,-0.4453140991222401,1.9149519217568853,-0.4298784428599787,-1.7408278622364468,0.08984730403796322,-0.7220639924502646,-0.661782077365756,-1.9313280548361829,1.0995235869258424,-2.2416909234475497,1.6556238846323768,0.4881773567676999,-0.24661995472311352,-1.0888515437052844,-0.3800838112965957,1.076085654409655,-1.6593557461777635,0.21297961644533725,-1.5805191546265278,-1.618813240069065,0.04667537628522792,-0.3292224638769374,-1.1251094929123244,0.4090802971009559,-1.3057982878541903,0.4551469096035381,-0.06954108892814388,1.2405533050281512,-1.2173275922137747,1.65140906115177,-0.049881944271718826,0.38147990711103064,-1.0977982075374673,-0.8695743896417516,-1.1401255024732972,-0.1858666165578455,0.49689378953900226,-1.7204814086558124,1.3439359237959083,0.4609679198043368,0.8667683379824784,0.532690330525514,0.95150358077794,1.250685572340651,-0.26943495020421604,0.09722637026800443,0.4088197644876183,0.39448931245833757,1.524689421116744,0.6826810268566323,-1.6830237912206034,0.6318572757177054,0.2712253471184101,0.5970364658727937,0.7659094762271283,0.1096216186670033,-0.9596009180692899,-0.27623561082193904,-0.2579137767261097,-1.5159322047196007,0.26460532519337004,-0.7291898945221118,0.41642299592662535,0.6316260731687413,0.26153263868151694,-1.0468931473485552,1.908267957100243,1.0344822555487396,-1.5724801942537763,0.3569898615943052,-0.5466895707445805,2.0376888472931776,0.3144215127715293,0.5138467978812578,1.819754268505688,0.36849994498834077,-0.15873092607185396,-1.0049529009052667,0.09150725192149144,0.5764277982327448,-1.4916678031268555,0.6889429161353486,-1.5340180898299038,-0.5535547871389617,0.8371221944612994,1.511812318129234,0.4504704904485682,0.8099235277959423,-0.7489858817084645,0.9502448003142555,0.5875531667765086,1.575218737798039,0.6355889890230145,-0.8433765111948266],\"type\":\"scatter\"},{\"line\":{\"color\":\"rgba(55, 128, 191, 1.0)\",\"dash\":\"solid\",\"shape\":\"linear\",\"width\":1.3},\"mode\":\"lines\",\"name\":\"B\",\"text\":\"\",\"x\":[0,1,2,3,4,5,6,7,8,9,10,11,12,13,14,15,16,17,18,19,20,21,22,23,24,25,26,27,28,29,30,31,32,33,34,35,36,37,38,39,40,41,42,43,44,45,46,47,48,49,50,51,52,53,54,55,56,57,58,59,60,61,62,63,64,65,66,67,68,69,70,71,72,73,74,75,76,77,78,79,80,81,82,83,84,85,86,87,88,89,90,91,92,93,94,95,96,97,98,99],\"y\":[0.9850713887904406,0.9895016294470834,0.33522187833194084,0.38263555967156293,0.3745792917333505,-1.429798678593703,1.1824612431217312,0.626488597539041,0.14349191696675895,-0.14814614007520954,-0.011611341174777376,2.12010533548965,-0.8772273524296763,0.6081160835617304,0.16137092972869155,-1.0714094098077365,-0.24641963527506083,-0.06582086200559119,-1.0060510964237628,-0.10337648868594303,-0.37416372381453705,0.9355670189990279,0.6210186517918276,-0.382253315672212,1.1502055049032665,0.11081971219168177,-0.9485281386209676,0.3163862184000106,-0.3640965591259851,0.18310189183405573,2.2399820434026694,0.639087710690256,-0.1398487891852959,-0.3925511584810141,1.3296265283651694,-0.11776415174203159,-0.4744386630352112,-0.4588922483652321,0.7842901351701419,-0.7900798468461651,-0.3144100924184365,0.06904462737971202,-0.08165840561428707,0.5937850226834473,1.6943248142423644,-1.4730818763638593,1.9149121426011169,-0.6981210172827813,1.0620220071337512,0.3270240144233015,0.9983963737189102,-1.5820504018948132,1.5576377626695666,0.6818302184258955,0.9581576498185576,0.7734938363828401,-1.2645145864507532,-0.6557307087352567,-0.08794658491303368,-0.2078210220450748,-0.7092534417802636,-0.4381431192271822,-0.29781816966271807,-1.9836917976954034,1.7777877374165716,0.3218961402254565,-2.077586101344516,-1.2073343169448907,1.7441615296849142,0.3048809157280745,-0.4907508335554843,0.8770109049237509,1.4245387717453464,1.0661665279074823,-0.6339901914933027,0.6802602704574408,-0.7168654439364791,-0.5578302948819142,-1.1185457726425359,-0.6121908887398874,-0.3779897877929932,1.4777200034997569,-0.19292716976175264,0.3574539014170091,-0.18544526745879408,-1.1466728464685323,0.5323503559652332,1.099398587877932,-2.3408632006156953,0.2961022336838603,0.34912709976479883,0.4803125361409515,-0.9275043314294719,1.810404002204835,-0.8997615818329986,-0.8882118828210713,0.07222842748511556,0.8997473673949757,0.12376395341787741,-2.1040059015548027],\"type\":\"scatter\"},{\"connectgaps\":false,\"fill\":\"tozeroy\",\"line\":{\"color\":\"green\",\"dash\":\"solid\",\"shape\":\"linear\",\"width\":0.5},\"mode\":\"lines\",\"name\":\"Spread\",\"showlegend\":false,\"x\":[0,1,2,3,4,5,6,7,8,9,10,11,12,13,14,15,16,17,18,19,20,21,22,23,24,25,26,27,28,29,30,31,32,33,34,35,36,37,38,39,40,41,42,43,44,45,46,47,48,49,50,51,52,53,54,55,56,57,58,59,60,61,62,63,64,65,66,67,68,69,70,71,72,73,74,75,76,77,78,79,80,81,82,83,84,85,86,87,88,89,90,91,92,93,94,95,96,97,98,99],\"xaxis\":\"x2\",\"y\":[\"\",\"\",0.522734692812818,0.15744665364559796,\"\",0.8955358751146081,\"\",1.2884633242178443,\"\",\"\",0.10145864521274059,\"\",0.2154452750639203,\"\",0.9381526571971508,\"\",1.9020435199074375,0.5539982187732911,0.7594311417006493,\"\",\"\",0.14051863541062715,\"\",0.5952329321175492,\"\",\"\",0.9952035149061955,\"\",\"\",0.22597840526690016,\"\",\"\",0.07030770025715201,1.6331044635091652,\"\",1.7691732128938016,0.4245567187634924,0.8403721554762628,\"\",\"\",\"\",\"\",0.5785521951532894,\"\",\"\",1.9340497961681962,\"\",1.2308113478082952,\"\",0.9236615579173495,\"\",1.6792767721628177,\"\",\"\",0.5665317712981865,\"\",\"\",1.287587984452962,0.3591719320314438,0.8048574879178685,1.475162918007392,0.5477647378941854,\"\",1.7074561868734643,\"\",\"\",2.342191426537886,0.4781444224227789,\"\",0.3267451574406668,0.7522834722370013,\"\",0.4837291853548966,\"\",\"\",\"\",0.17017587319189864,2.5955191421750916,1.4329672854140652,1.126037686621145,2.1977440562986814,\"\",0.03419624368989868,\"\",0.27695251938028553,1.723100644701277,\"\",\"\",0.8068451107857915,\"\",0.4879950946965006,1.0314997819882825,1.37797482187804,\"\",0.15077570012453412,1.8384566831353268,0.515324739291393,0.6754713704030632,0.5118250356051371,1.2606293903599761],\"yaxis\":\"y2\",\"type\":\"scatter\"},{\"connectgaps\":false,\"fill\":\"tozeroy\",\"line\":{\"color\":\"red\",\"dash\":\"solid\",\"shape\":\"linear\",\"width\":0.5},\"mode\":\"lines\",\"name\":\"Spread\",\"showlegend\":false,\"x\":[0,1,2,3,4,5,6,7,8,9,10,11,12,13,14,15,16,17,18,19,20,21,22,23,24,25,26,27,28,29,30,31,32,33,34,35,36,37,38,39,40,41,42,43,44,45,46,47,48,49,50,51,52,53,54,55,56,57,58,59,60,61,62,63,64,65,66,67,68,69,70,71,72,73,74,75,76,77,78,79,80,81,82,83,84,85,86,87,88,89,90,91,92,93,94,95,96,97,98,99],\"xaxis\":\"x2\",\"y\":[-0.609101335602787,-1.8943512013437072,\"\",\"\",-1.682305165069212,\"\",-1.6277753422439714,\"\",-0.5733703598267377,-1.5926817221612373,\"\",-2.8421693279399145,\"\",-2.539444138397913,\"\",-1.1702815136398133,\"\",\"\",\"\",-0.9854750550193413,-0.0059200874820586336,\"\",-2.280374397969591,\"\",-2.7307246595297943,-1.7296329522607468,\"\",-0.645608682276948,-0.7610129337863394,\"\",-3.54578033125686,-0.18394080108671795,\"\",\"\",-2.546954120578944,\"\",\"\",\"\",-1.8820883427076092,-0.07949454279558654,-0.8257154100548607,-0.25491124393755754,\"\",-2.31426643133926,-0.35038889044645605,\"\",-1.0481438046186384,\"\",-0.11051842635581122,\"\",-1.2678313239231263,\"\",-1.1488179981819482,-0.28734090596755796,\"\",-0.09081280952620774,-0.4185092047698502,\"\",\"\",\"\",\"\",\"\",-0.6617827484065719,\"\",-2.0357015141426813,-1.8378283449450572,\"\",\"\",-1.3277385337582888,\"\",\"\",-1.923904052272306,\"\",-0.031684272358742716,-0.9384900027604736,-0.32327040886313557,\"\",\"\",\"\",\"\",\"\",-1.109220058511416,\"\",-1.3624068023222757,\"\",\"\",-2.0240181590920887,-0.41045567174258335,\"\",-0.849657020822822,\"\",\"\",\"\",-1.0004804744088927,\"\",\"\",\"\",\"\",\"\",\"\"],\"yaxis\":\"y2\",\"type\":\"scatter\"}],                        {\"hovermode\":\"x\",\"legend\":{\"bgcolor\":\"#F5F6F9\",\"font\":{\"color\":\"#4D5663\"}},\"paper_bgcolor\":\"#F5F6F9\",\"plot_bgcolor\":\"#F5F6F9\",\"template\":{\"data\":{\"barpolar\":[{\"marker\":{\"line\":{\"color\":\"#E5ECF6\",\"width\":0.5},\"pattern\":{\"fillmode\":\"overlay\",\"size\":10,\"solidity\":0.2}},\"type\":\"barpolar\"}],\"bar\":[{\"error_x\":{\"color\":\"#2a3f5f\"},\"error_y\":{\"color\":\"#2a3f5f\"},\"marker\":{\"line\":{\"color\":\"#E5ECF6\",\"width\":0.5},\"pattern\":{\"fillmode\":\"overlay\",\"size\":10,\"solidity\":0.2}},\"type\":\"bar\"}],\"carpet\":[{\"aaxis\":{\"endlinecolor\":\"#2a3f5f\",\"gridcolor\":\"white\",\"linecolor\":\"white\",\"minorgridcolor\":\"white\",\"startlinecolor\":\"#2a3f5f\"},\"baxis\":{\"endlinecolor\":\"#2a3f5f\",\"gridcolor\":\"white\",\"linecolor\":\"white\",\"minorgridcolor\":\"white\",\"startlinecolor\":\"#2a3f5f\"},\"type\":\"carpet\"}],\"choropleth\":[{\"colorbar\":{\"outlinewidth\":0,\"ticks\":\"\"},\"type\":\"choropleth\"}],\"contourcarpet\":[{\"colorbar\":{\"outlinewidth\":0,\"ticks\":\"\"},\"type\":\"contourcarpet\"}],\"contour\":[{\"colorbar\":{\"outlinewidth\":0,\"ticks\":\"\"},\"colorscale\":[[0.0,\"#0d0887\"],[0.1111111111111111,\"#46039f\"],[0.2222222222222222,\"#7201a8\"],[0.3333333333333333,\"#9c179e\"],[0.4444444444444444,\"#bd3786\"],[0.5555555555555556,\"#d8576b\"],[0.6666666666666666,\"#ed7953\"],[0.7777777777777778,\"#fb9f3a\"],[0.8888888888888888,\"#fdca26\"],[1.0,\"#f0f921\"]],\"type\":\"contour\"}],\"heatmapgl\":[{\"colorbar\":{\"outlinewidth\":0,\"ticks\":\"\"},\"colorscale\":[[0.0,\"#0d0887\"],[0.1111111111111111,\"#46039f\"],[0.2222222222222222,\"#7201a8\"],[0.3333333333333333,\"#9c179e\"],[0.4444444444444444,\"#bd3786\"],[0.5555555555555556,\"#d8576b\"],[0.6666666666666666,\"#ed7953\"],[0.7777777777777778,\"#fb9f3a\"],[0.8888888888888888,\"#fdca26\"],[1.0,\"#f0f921\"]],\"type\":\"heatmapgl\"}],\"heatmap\":[{\"colorbar\":{\"outlinewidth\":0,\"ticks\":\"\"},\"colorscale\":[[0.0,\"#0d0887\"],[0.1111111111111111,\"#46039f\"],[0.2222222222222222,\"#7201a8\"],[0.3333333333333333,\"#9c179e\"],[0.4444444444444444,\"#bd3786\"],[0.5555555555555556,\"#d8576b\"],[0.6666666666666666,\"#ed7953\"],[0.7777777777777778,\"#fb9f3a\"],[0.8888888888888888,\"#fdca26\"],[1.0,\"#f0f921\"]],\"type\":\"heatmap\"}],\"histogram2dcontour\":[{\"colorbar\":{\"outlinewidth\":0,\"ticks\":\"\"},\"colorscale\":[[0.0,\"#0d0887\"],[0.1111111111111111,\"#46039f\"],[0.2222222222222222,\"#7201a8\"],[0.3333333333333333,\"#9c179e\"],[0.4444444444444444,\"#bd3786\"],[0.5555555555555556,\"#d8576b\"],[0.6666666666666666,\"#ed7953\"],[0.7777777777777778,\"#fb9f3a\"],[0.8888888888888888,\"#fdca26\"],[1.0,\"#f0f921\"]],\"type\":\"histogram2dcontour\"}],\"histogram2d\":[{\"colorbar\":{\"outlinewidth\":0,\"ticks\":\"\"},\"colorscale\":[[0.0,\"#0d0887\"],[0.1111111111111111,\"#46039f\"],[0.2222222222222222,\"#7201a8\"],[0.3333333333333333,\"#9c179e\"],[0.4444444444444444,\"#bd3786\"],[0.5555555555555556,\"#d8576b\"],[0.6666666666666666,\"#ed7953\"],[0.7777777777777778,\"#fb9f3a\"],[0.8888888888888888,\"#fdca26\"],[1.0,\"#f0f921\"]],\"type\":\"histogram2d\"}],\"histogram\":[{\"marker\":{\"pattern\":{\"fillmode\":\"overlay\",\"size\":10,\"solidity\":0.2}},\"type\":\"histogram\"}],\"mesh3d\":[{\"colorbar\":{\"outlinewidth\":0,\"ticks\":\"\"},\"type\":\"mesh3d\"}],\"parcoords\":[{\"line\":{\"colorbar\":{\"outlinewidth\":0,\"ticks\":\"\"}},\"type\":\"parcoords\"}],\"pie\":[{\"automargin\":true,\"type\":\"pie\"}],\"scatter3d\":[{\"line\":{\"colorbar\":{\"outlinewidth\":0,\"ticks\":\"\"}},\"marker\":{\"colorbar\":{\"outlinewidth\":0,\"ticks\":\"\"}},\"type\":\"scatter3d\"}],\"scattercarpet\":[{\"marker\":{\"colorbar\":{\"outlinewidth\":0,\"ticks\":\"\"}},\"type\":\"scattercarpet\"}],\"scattergeo\":[{\"marker\":{\"colorbar\":{\"outlinewidth\":0,\"ticks\":\"\"}},\"type\":\"scattergeo\"}],\"scattergl\":[{\"marker\":{\"colorbar\":{\"outlinewidth\":0,\"ticks\":\"\"}},\"type\":\"scattergl\"}],\"scattermapbox\":[{\"marker\":{\"colorbar\":{\"outlinewidth\":0,\"ticks\":\"\"}},\"type\":\"scattermapbox\"}],\"scatterpolargl\":[{\"marker\":{\"colorbar\":{\"outlinewidth\":0,\"ticks\":\"\"}},\"type\":\"scatterpolargl\"}],\"scatterpolar\":[{\"marker\":{\"colorbar\":{\"outlinewidth\":0,\"ticks\":\"\"}},\"type\":\"scatterpolar\"}],\"scatter\":[{\"fillpattern\":{\"fillmode\":\"overlay\",\"size\":10,\"solidity\":0.2},\"type\":\"scatter\"}],\"scatterternary\":[{\"marker\":{\"colorbar\":{\"outlinewidth\":0,\"ticks\":\"\"}},\"type\":\"scatterternary\"}],\"surface\":[{\"colorbar\":{\"outlinewidth\":0,\"ticks\":\"\"},\"colorscale\":[[0.0,\"#0d0887\"],[0.1111111111111111,\"#46039f\"],[0.2222222222222222,\"#7201a8\"],[0.3333333333333333,\"#9c179e\"],[0.4444444444444444,\"#bd3786\"],[0.5555555555555556,\"#d8576b\"],[0.6666666666666666,\"#ed7953\"],[0.7777777777777778,\"#fb9f3a\"],[0.8888888888888888,\"#fdca26\"],[1.0,\"#f0f921\"]],\"type\":\"surface\"}],\"table\":[{\"cells\":{\"fill\":{\"color\":\"#EBF0F8\"},\"line\":{\"color\":\"white\"}},\"header\":{\"fill\":{\"color\":\"#C8D4E3\"},\"line\":{\"color\":\"white\"}},\"type\":\"table\"}]},\"layout\":{\"annotationdefaults\":{\"arrowcolor\":\"#2a3f5f\",\"arrowhead\":0,\"arrowwidth\":1},\"autotypenumbers\":\"strict\",\"coloraxis\":{\"colorbar\":{\"outlinewidth\":0,\"ticks\":\"\"}},\"colorscale\":{\"diverging\":[[0,\"#8e0152\"],[0.1,\"#c51b7d\"],[0.2,\"#de77ae\"],[0.3,\"#f1b6da\"],[0.4,\"#fde0ef\"],[0.5,\"#f7f7f7\"],[0.6,\"#e6f5d0\"],[0.7,\"#b8e186\"],[0.8,\"#7fbc41\"],[0.9,\"#4d9221\"],[1,\"#276419\"]],\"sequential\":[[0.0,\"#0d0887\"],[0.1111111111111111,\"#46039f\"],[0.2222222222222222,\"#7201a8\"],[0.3333333333333333,\"#9c179e\"],[0.4444444444444444,\"#bd3786\"],[0.5555555555555556,\"#d8576b\"],[0.6666666666666666,\"#ed7953\"],[0.7777777777777778,\"#fb9f3a\"],[0.8888888888888888,\"#fdca26\"],[1.0,\"#f0f921\"]],\"sequentialminus\":[[0.0,\"#0d0887\"],[0.1111111111111111,\"#46039f\"],[0.2222222222222222,\"#7201a8\"],[0.3333333333333333,\"#9c179e\"],[0.4444444444444444,\"#bd3786\"],[0.5555555555555556,\"#d8576b\"],[0.6666666666666666,\"#ed7953\"],[0.7777777777777778,\"#fb9f3a\"],[0.8888888888888888,\"#fdca26\"],[1.0,\"#f0f921\"]]},\"colorway\":[\"#636efa\",\"#EF553B\",\"#00cc96\",\"#ab63fa\",\"#FFA15A\",\"#19d3f3\",\"#FF6692\",\"#B6E880\",\"#FF97FF\",\"#FECB52\"],\"font\":{\"color\":\"#2a3f5f\"},\"geo\":{\"bgcolor\":\"white\",\"lakecolor\":\"white\",\"landcolor\":\"#E5ECF6\",\"showlakes\":true,\"showland\":true,\"subunitcolor\":\"white\"},\"hoverlabel\":{\"align\":\"left\"},\"hovermode\":\"closest\",\"mapbox\":{\"style\":\"light\"},\"paper_bgcolor\":\"white\",\"plot_bgcolor\":\"#E5ECF6\",\"polar\":{\"angularaxis\":{\"gridcolor\":\"white\",\"linecolor\":\"white\",\"ticks\":\"\"},\"bgcolor\":\"#E5ECF6\",\"radialaxis\":{\"gridcolor\":\"white\",\"linecolor\":\"white\",\"ticks\":\"\"}},\"scene\":{\"xaxis\":{\"backgroundcolor\":\"#E5ECF6\",\"gridcolor\":\"white\",\"gridwidth\":2,\"linecolor\":\"white\",\"showbackground\":true,\"ticks\":\"\",\"zerolinecolor\":\"white\"},\"yaxis\":{\"backgroundcolor\":\"#E5ECF6\",\"gridcolor\":\"white\",\"gridwidth\":2,\"linecolor\":\"white\",\"showbackground\":true,\"ticks\":\"\",\"zerolinecolor\":\"white\"},\"zaxis\":{\"backgroundcolor\":\"#E5ECF6\",\"gridcolor\":\"white\",\"gridwidth\":2,\"linecolor\":\"white\",\"showbackground\":true,\"ticks\":\"\",\"zerolinecolor\":\"white\"}},\"shapedefaults\":{\"line\":{\"color\":\"#2a3f5f\"}},\"ternary\":{\"aaxis\":{\"gridcolor\":\"white\",\"linecolor\":\"white\",\"ticks\":\"\"},\"baxis\":{\"gridcolor\":\"white\",\"linecolor\":\"white\",\"ticks\":\"\"},\"bgcolor\":\"#E5ECF6\",\"caxis\":{\"gridcolor\":\"white\",\"linecolor\":\"white\",\"ticks\":\"\"}},\"title\":{\"x\":0.05},\"xaxis\":{\"automargin\":true,\"gridcolor\":\"white\",\"linecolor\":\"white\",\"ticks\":\"\",\"title\":{\"standoff\":15},\"zerolinecolor\":\"white\",\"zerolinewidth\":2},\"yaxis\":{\"automargin\":true,\"gridcolor\":\"white\",\"linecolor\":\"white\",\"ticks\":\"\",\"title\":{\"standoff\":15},\"zerolinecolor\":\"white\",\"zerolinewidth\":2}}},\"title\":{\"font\":{\"color\":\"#4D5663\"}},\"xaxis\":{\"gridcolor\":\"#E1E5ED\",\"showgrid\":true,\"tickfont\":{\"color\":\"#4D5663\"},\"title\":{\"font\":{\"color\":\"#4D5663\"},\"text\":\"\"},\"zerolinecolor\":\"#E1E5ED\"},\"yaxis\":{\"domain\":[0.3,1],\"gridcolor\":\"#E1E5ED\",\"showgrid\":true,\"tickfont\":{\"color\":\"#4D5663\"},\"title\":{\"font\":{\"color\":\"#4D5663\"},\"text\":\"\"},\"zerolinecolor\":\"#E1E5ED\"},\"yaxis2\":{\"domain\":[0,0.25],\"gridcolor\":\"#E1E5ED\",\"showgrid\":true,\"tickfont\":{\"color\":\"#4D5663\"},\"title\":{\"font\":{\"color\":\"#4D5663\"},\"text\":\"Spread\"},\"zerolinecolor\":\"#E1E5ED\"},\"xaxis2\":{\"anchor\":\"y2\",\"gridcolor\":\"#E1E5ED\",\"showgrid\":true,\"showticklabels\":false,\"tickfont\":{\"color\":\"#4D5663\"},\"title\":{\"font\":{\"color\":\"#4D5663\"},\"text\":\"\"},\"zerolinecolor\":\"#E1E5ED\"}},                        {\"showLink\": true, \"linkText\": \"Export to plot.ly\", \"plotlyServerURL\": \"https://plot.ly\", \"responsive\": true}                    ).then(function(){\n",
       "                            \n",
       "var gd = document.getElementById('88283ce4-63f7-4469-9545-d6afdcc9608e');\n",
       "var x = new MutationObserver(function (mutations, observer) {{\n",
       "        var display = window.getComputedStyle(gd).display;\n",
       "        if (!display || display === 'none') {{\n",
       "            console.log([gd, 'removed!']);\n",
       "            Plotly.purge(gd);\n",
       "            observer.disconnect();\n",
       "        }}\n",
       "}});\n",
       "\n",
       "// Listen for the removal of the full notebook cells\n",
       "var notebookContainer = gd.closest('#notebook-container');\n",
       "if (notebookContainer) {{\n",
       "    x.observe(notebookContainer, {childList: true});\n",
       "}}\n",
       "\n",
       "// Listen for the clearing of the current output cell\n",
       "var outputEl = gd.closest('.output');\n",
       "if (outputEl) {{\n",
       "    x.observe(outputEl, {childList: true});\n",
       "}}\n",
       "\n",
       "                        })                };                });            </script>        </div>"
      ]
     },
     "metadata": {},
     "output_type": "display_data"
    }
   ],
   "source": [
    "df[['A','B']].iplot(kind='spread')"
   ]
  },
  {
   "cell_type": "code",
   "execution_count": 45,
   "id": "384c09c5",
   "metadata": {
    "ExecuteTime": {
     "end_time": "2023-01-12T17:37:04.008387Z",
     "start_time": "2023-01-12T17:37:03.924368Z"
    }
   },
   "outputs": [
    {
     "data": {
      "application/vnd.plotly.v1+json": {
       "config": {
        "linkText": "Export to plot.ly",
        "plotlyServerURL": "https://plot.ly",
        "showLink": true
       },
       "data": [
        {
         "marker": {
          "color": [
           "rgb(255, 153, 51)",
           "rgb(55, 128, 191)",
           "rgb(50, 171, 96)",
           "rgb(128, 0, 128)",
           "rgb(219, 64, 82)",
           "rgb(0, 128, 128)",
           "rgb(255, 255, 51)",
           "rgb(128, 128, 0)",
           "rgb(251, 128, 114)",
           "rgb(128, 177, 211)"
          ],
          "line": {
           "width": 1.3
          },
          "size": [
           100,
           77,
           80,
           97,
           89,
           92,
           72,
           60,
           85,
           83,
           81,
           89,
           71,
           62,
           103,
           58,
           88,
           78,
           60,
           58,
           75,
           74,
           54,
           81,
           89,
           87,
           82,
           79,
           71,
           67,
           94,
           87,
           68,
           99,
           98,
           87,
           68,
           64,
           92,
           70,
           62,
           84,
           74,
           59,
           93,
           97,
           112,
           92,
           93,
           58,
           86,
           84,
           111,
           64,
           51,
           75,
           80,
           94,
           62,
           75,
           103,
           91,
           97,
           73,
           75,
           66,
           67,
           80,
           80,
           83,
           111,
           50,
           97,
           80,
           63,
           77,
           57,
           12,
           92,
           95,
           52,
           73,
           90,
           74,
           99,
           51,
           55,
           57,
           71,
           89,
           81,
           89,
           66,
           101,
           83,
           54,
           96,
           76,
           65,
           60
          ],
          "symbol": "circle"
         },
         "mode": "markers",
         "text": "",
         "type": "scatter",
         "x": [
          0.37597005318765364,
          -0.9048495718966237,
          0.8579565711447589,
          0.5400822133171609,
          -1.3077258733358614,
          -0.5342628034790948,
          -0.4453140991222401,
          1.9149519217568853,
          -0.4298784428599787,
          -1.7408278622364468,
          0.08984730403796322,
          -0.7220639924502646,
          -0.661782077365756,
          -1.9313280548361829,
          1.0995235869258424,
          -2.2416909234475497,
          1.6556238846323768,
          0.4881773567676999,
          -0.24661995472311352,
          -1.0888515437052844,
          -0.3800838112965957,
          1.076085654409655,
          -1.6593557461777635,
          0.21297961644533725,
          -1.5805191546265278,
          -1.618813240069065,
          0.04667537628522792,
          -0.3292224638769374,
          -1.1251094929123244,
          0.4090802971009559,
          -1.3057982878541903,
          0.4551469096035381,
          -0.06954108892814388,
          1.2405533050281512,
          -1.2173275922137747,
          1.65140906115177,
          -0.049881944271718826,
          0.38147990711103064,
          -1.0977982075374673,
          -0.8695743896417516,
          -1.1401255024732972,
          -0.1858666165578455,
          0.49689378953900226,
          -1.7204814086558124,
          1.3439359237959083,
          0.4609679198043368,
          0.8667683379824784,
          0.532690330525514,
          0.95150358077794,
          1.250685572340651,
          -0.26943495020421604,
          0.09722637026800443,
          0.4088197644876183,
          0.39448931245833757,
          1.524689421116744,
          0.6826810268566323,
          -1.6830237912206034,
          0.6318572757177054,
          0.2712253471184101,
          0.5970364658727937,
          0.7659094762271283,
          0.1096216186670033,
          -0.9596009180692899,
          -0.27623561082193904,
          -0.2579137767261097,
          -1.5159322047196007,
          0.26460532519337004,
          -0.7291898945221118,
          0.41642299592662535,
          0.6316260731687413,
          0.26153263868151694,
          -1.0468931473485552,
          1.908267957100243,
          1.0344822555487396,
          -1.5724801942537763,
          0.3569898615943052,
          -0.5466895707445805,
          2.0376888472931776,
          0.3144215127715293,
          0.5138467978812578,
          1.819754268505688,
          0.36849994498834077,
          -0.15873092607185396,
          -1.0049529009052667,
          0.09150725192149144,
          0.5764277982327448,
          -1.4916678031268555,
          0.6889429161353486,
          -1.5340180898299038,
          -0.5535547871389617,
          0.8371221944612994,
          1.511812318129234,
          0.4504704904485682,
          0.8099235277959423,
          -0.7489858817084645,
          0.9502448003142555,
          0.5875531667765086,
          1.575218737798039,
          0.6355889890230145,
          -0.8433765111948266
         ],
         "y": [
          0.9850713887904406,
          0.9895016294470834,
          0.33522187833194084,
          0.38263555967156293,
          0.3745792917333505,
          -1.429798678593703,
          1.1824612431217312,
          0.626488597539041,
          0.14349191696675895,
          -0.14814614007520954,
          -0.011611341174777376,
          2.12010533548965,
          -0.8772273524296763,
          0.6081160835617304,
          0.16137092972869155,
          -1.0714094098077365,
          -0.24641963527506083,
          -0.06582086200559119,
          -1.0060510964237628,
          -0.10337648868594303,
          -0.37416372381453705,
          0.9355670189990279,
          0.6210186517918276,
          -0.382253315672212,
          1.1502055049032665,
          0.11081971219168177,
          -0.9485281386209676,
          0.3163862184000106,
          -0.3640965591259851,
          0.18310189183405573,
          2.2399820434026694,
          0.639087710690256,
          -0.1398487891852959,
          -0.3925511584810141,
          1.3296265283651694,
          -0.11776415174203159,
          -0.4744386630352112,
          -0.4588922483652321,
          0.7842901351701419,
          -0.7900798468461651,
          -0.3144100924184365,
          0.06904462737971202,
          -0.08165840561428707,
          0.5937850226834473,
          1.6943248142423644,
          -1.4730818763638593,
          1.9149121426011169,
          -0.6981210172827813,
          1.0620220071337512,
          0.3270240144233015,
          0.9983963737189102,
          -1.5820504018948132,
          1.5576377626695666,
          0.6818302184258955,
          0.9581576498185576,
          0.7734938363828401,
          -1.2645145864507532,
          -0.6557307087352567,
          -0.08794658491303368,
          -0.2078210220450748,
          -0.7092534417802636,
          -0.4381431192271822,
          -0.29781816966271807,
          -1.9836917976954034,
          1.7777877374165716,
          0.3218961402254565,
          -2.077586101344516,
          -1.2073343169448907,
          1.7441615296849142,
          0.3048809157280745,
          -0.4907508335554843,
          0.8770109049237509,
          1.4245387717453464,
          1.0661665279074823,
          -0.6339901914933027,
          0.6802602704574408,
          -0.7168654439364791,
          -0.5578302948819142,
          -1.1185457726425359,
          -0.6121908887398874,
          -0.3779897877929932,
          1.4777200034997569,
          -0.19292716976175264,
          0.3574539014170091,
          -0.18544526745879408,
          -1.1466728464685323,
          0.5323503559652332,
          1.099398587877932,
          -2.3408632006156953,
          0.2961022336838603,
          0.34912709976479883,
          0.4803125361409515,
          -0.9275043314294719,
          1.810404002204835,
          -0.8997615818329986,
          -0.8882118828210713,
          0.07222842748511556,
          0.8997473673949757,
          0.12376395341787741,
          -2.1040059015548027
         ]
        }
       ],
       "layout": {
        "legend": {
         "bgcolor": "#F5F6F9",
         "font": {
          "color": "#4D5663"
         }
        },
        "paper_bgcolor": "#F5F6F9",
        "plot_bgcolor": "#F5F6F9",
        "template": {
         "data": {
          "bar": [
           {
            "error_x": {
             "color": "#2a3f5f"
            },
            "error_y": {
             "color": "#2a3f5f"
            },
            "marker": {
             "line": {
              "color": "#E5ECF6",
              "width": 0.5
             },
             "pattern": {
              "fillmode": "overlay",
              "size": 10,
              "solidity": 0.2
             }
            },
            "type": "bar"
           }
          ],
          "barpolar": [
           {
            "marker": {
             "line": {
              "color": "#E5ECF6",
              "width": 0.5
             },
             "pattern": {
              "fillmode": "overlay",
              "size": 10,
              "solidity": 0.2
             }
            },
            "type": "barpolar"
           }
          ],
          "carpet": [
           {
            "aaxis": {
             "endlinecolor": "#2a3f5f",
             "gridcolor": "white",
             "linecolor": "white",
             "minorgridcolor": "white",
             "startlinecolor": "#2a3f5f"
            },
            "baxis": {
             "endlinecolor": "#2a3f5f",
             "gridcolor": "white",
             "linecolor": "white",
             "minorgridcolor": "white",
             "startlinecolor": "#2a3f5f"
            },
            "type": "carpet"
           }
          ],
          "choropleth": [
           {
            "colorbar": {
             "outlinewidth": 0,
             "ticks": ""
            },
            "type": "choropleth"
           }
          ],
          "contour": [
           {
            "colorbar": {
             "outlinewidth": 0,
             "ticks": ""
            },
            "colorscale": [
             [
              0,
              "#0d0887"
             ],
             [
              0.1111111111111111,
              "#46039f"
             ],
             [
              0.2222222222222222,
              "#7201a8"
             ],
             [
              0.3333333333333333,
              "#9c179e"
             ],
             [
              0.4444444444444444,
              "#bd3786"
             ],
             [
              0.5555555555555556,
              "#d8576b"
             ],
             [
              0.6666666666666666,
              "#ed7953"
             ],
             [
              0.7777777777777778,
              "#fb9f3a"
             ],
             [
              0.8888888888888888,
              "#fdca26"
             ],
             [
              1,
              "#f0f921"
             ]
            ],
            "type": "contour"
           }
          ],
          "contourcarpet": [
           {
            "colorbar": {
             "outlinewidth": 0,
             "ticks": ""
            },
            "type": "contourcarpet"
           }
          ],
          "heatmap": [
           {
            "colorbar": {
             "outlinewidth": 0,
             "ticks": ""
            },
            "colorscale": [
             [
              0,
              "#0d0887"
             ],
             [
              0.1111111111111111,
              "#46039f"
             ],
             [
              0.2222222222222222,
              "#7201a8"
             ],
             [
              0.3333333333333333,
              "#9c179e"
             ],
             [
              0.4444444444444444,
              "#bd3786"
             ],
             [
              0.5555555555555556,
              "#d8576b"
             ],
             [
              0.6666666666666666,
              "#ed7953"
             ],
             [
              0.7777777777777778,
              "#fb9f3a"
             ],
             [
              0.8888888888888888,
              "#fdca26"
             ],
             [
              1,
              "#f0f921"
             ]
            ],
            "type": "heatmap"
           }
          ],
          "heatmapgl": [
           {
            "colorbar": {
             "outlinewidth": 0,
             "ticks": ""
            },
            "colorscale": [
             [
              0,
              "#0d0887"
             ],
             [
              0.1111111111111111,
              "#46039f"
             ],
             [
              0.2222222222222222,
              "#7201a8"
             ],
             [
              0.3333333333333333,
              "#9c179e"
             ],
             [
              0.4444444444444444,
              "#bd3786"
             ],
             [
              0.5555555555555556,
              "#d8576b"
             ],
             [
              0.6666666666666666,
              "#ed7953"
             ],
             [
              0.7777777777777778,
              "#fb9f3a"
             ],
             [
              0.8888888888888888,
              "#fdca26"
             ],
             [
              1,
              "#f0f921"
             ]
            ],
            "type": "heatmapgl"
           }
          ],
          "histogram": [
           {
            "marker": {
             "pattern": {
              "fillmode": "overlay",
              "size": 10,
              "solidity": 0.2
             }
            },
            "type": "histogram"
           }
          ],
          "histogram2d": [
           {
            "colorbar": {
             "outlinewidth": 0,
             "ticks": ""
            },
            "colorscale": [
             [
              0,
              "#0d0887"
             ],
             [
              0.1111111111111111,
              "#46039f"
             ],
             [
              0.2222222222222222,
              "#7201a8"
             ],
             [
              0.3333333333333333,
              "#9c179e"
             ],
             [
              0.4444444444444444,
              "#bd3786"
             ],
             [
              0.5555555555555556,
              "#d8576b"
             ],
             [
              0.6666666666666666,
              "#ed7953"
             ],
             [
              0.7777777777777778,
              "#fb9f3a"
             ],
             [
              0.8888888888888888,
              "#fdca26"
             ],
             [
              1,
              "#f0f921"
             ]
            ],
            "type": "histogram2d"
           }
          ],
          "histogram2dcontour": [
           {
            "colorbar": {
             "outlinewidth": 0,
             "ticks": ""
            },
            "colorscale": [
             [
              0,
              "#0d0887"
             ],
             [
              0.1111111111111111,
              "#46039f"
             ],
             [
              0.2222222222222222,
              "#7201a8"
             ],
             [
              0.3333333333333333,
              "#9c179e"
             ],
             [
              0.4444444444444444,
              "#bd3786"
             ],
             [
              0.5555555555555556,
              "#d8576b"
             ],
             [
              0.6666666666666666,
              "#ed7953"
             ],
             [
              0.7777777777777778,
              "#fb9f3a"
             ],
             [
              0.8888888888888888,
              "#fdca26"
             ],
             [
              1,
              "#f0f921"
             ]
            ],
            "type": "histogram2dcontour"
           }
          ],
          "mesh3d": [
           {
            "colorbar": {
             "outlinewidth": 0,
             "ticks": ""
            },
            "type": "mesh3d"
           }
          ],
          "parcoords": [
           {
            "line": {
             "colorbar": {
              "outlinewidth": 0,
              "ticks": ""
             }
            },
            "type": "parcoords"
           }
          ],
          "pie": [
           {
            "automargin": true,
            "type": "pie"
           }
          ],
          "scatter": [
           {
            "fillpattern": {
             "fillmode": "overlay",
             "size": 10,
             "solidity": 0.2
            },
            "type": "scatter"
           }
          ],
          "scatter3d": [
           {
            "line": {
             "colorbar": {
              "outlinewidth": 0,
              "ticks": ""
             }
            },
            "marker": {
             "colorbar": {
              "outlinewidth": 0,
              "ticks": ""
             }
            },
            "type": "scatter3d"
           }
          ],
          "scattercarpet": [
           {
            "marker": {
             "colorbar": {
              "outlinewidth": 0,
              "ticks": ""
             }
            },
            "type": "scattercarpet"
           }
          ],
          "scattergeo": [
           {
            "marker": {
             "colorbar": {
              "outlinewidth": 0,
              "ticks": ""
             }
            },
            "type": "scattergeo"
           }
          ],
          "scattergl": [
           {
            "marker": {
             "colorbar": {
              "outlinewidth": 0,
              "ticks": ""
             }
            },
            "type": "scattergl"
           }
          ],
          "scattermapbox": [
           {
            "marker": {
             "colorbar": {
              "outlinewidth": 0,
              "ticks": ""
             }
            },
            "type": "scattermapbox"
           }
          ],
          "scatterpolar": [
           {
            "marker": {
             "colorbar": {
              "outlinewidth": 0,
              "ticks": ""
             }
            },
            "type": "scatterpolar"
           }
          ],
          "scatterpolargl": [
           {
            "marker": {
             "colorbar": {
              "outlinewidth": 0,
              "ticks": ""
             }
            },
            "type": "scatterpolargl"
           }
          ],
          "scatterternary": [
           {
            "marker": {
             "colorbar": {
              "outlinewidth": 0,
              "ticks": ""
             }
            },
            "type": "scatterternary"
           }
          ],
          "surface": [
           {
            "colorbar": {
             "outlinewidth": 0,
             "ticks": ""
            },
            "colorscale": [
             [
              0,
              "#0d0887"
             ],
             [
              0.1111111111111111,
              "#46039f"
             ],
             [
              0.2222222222222222,
              "#7201a8"
             ],
             [
              0.3333333333333333,
              "#9c179e"
             ],
             [
              0.4444444444444444,
              "#bd3786"
             ],
             [
              0.5555555555555556,
              "#d8576b"
             ],
             [
              0.6666666666666666,
              "#ed7953"
             ],
             [
              0.7777777777777778,
              "#fb9f3a"
             ],
             [
              0.8888888888888888,
              "#fdca26"
             ],
             [
              1,
              "#f0f921"
             ]
            ],
            "type": "surface"
           }
          ],
          "table": [
           {
            "cells": {
             "fill": {
              "color": "#EBF0F8"
             },
             "line": {
              "color": "white"
             }
            },
            "header": {
             "fill": {
              "color": "#C8D4E3"
             },
             "line": {
              "color": "white"
             }
            },
            "type": "table"
           }
          ]
         },
         "layout": {
          "annotationdefaults": {
           "arrowcolor": "#2a3f5f",
           "arrowhead": 0,
           "arrowwidth": 1
          },
          "autotypenumbers": "strict",
          "coloraxis": {
           "colorbar": {
            "outlinewidth": 0,
            "ticks": ""
           }
          },
          "colorscale": {
           "diverging": [
            [
             0,
             "#8e0152"
            ],
            [
             0.1,
             "#c51b7d"
            ],
            [
             0.2,
             "#de77ae"
            ],
            [
             0.3,
             "#f1b6da"
            ],
            [
             0.4,
             "#fde0ef"
            ],
            [
             0.5,
             "#f7f7f7"
            ],
            [
             0.6,
             "#e6f5d0"
            ],
            [
             0.7,
             "#b8e186"
            ],
            [
             0.8,
             "#7fbc41"
            ],
            [
             0.9,
             "#4d9221"
            ],
            [
             1,
             "#276419"
            ]
           ],
           "sequential": [
            [
             0,
             "#0d0887"
            ],
            [
             0.1111111111111111,
             "#46039f"
            ],
            [
             0.2222222222222222,
             "#7201a8"
            ],
            [
             0.3333333333333333,
             "#9c179e"
            ],
            [
             0.4444444444444444,
             "#bd3786"
            ],
            [
             0.5555555555555556,
             "#d8576b"
            ],
            [
             0.6666666666666666,
             "#ed7953"
            ],
            [
             0.7777777777777778,
             "#fb9f3a"
            ],
            [
             0.8888888888888888,
             "#fdca26"
            ],
            [
             1,
             "#f0f921"
            ]
           ],
           "sequentialminus": [
            [
             0,
             "#0d0887"
            ],
            [
             0.1111111111111111,
             "#46039f"
            ],
            [
             0.2222222222222222,
             "#7201a8"
            ],
            [
             0.3333333333333333,
             "#9c179e"
            ],
            [
             0.4444444444444444,
             "#bd3786"
            ],
            [
             0.5555555555555556,
             "#d8576b"
            ],
            [
             0.6666666666666666,
             "#ed7953"
            ],
            [
             0.7777777777777778,
             "#fb9f3a"
            ],
            [
             0.8888888888888888,
             "#fdca26"
            ],
            [
             1,
             "#f0f921"
            ]
           ]
          },
          "colorway": [
           "#636efa",
           "#EF553B",
           "#00cc96",
           "#ab63fa",
           "#FFA15A",
           "#19d3f3",
           "#FF6692",
           "#B6E880",
           "#FF97FF",
           "#FECB52"
          ],
          "font": {
           "color": "#2a3f5f"
          },
          "geo": {
           "bgcolor": "white",
           "lakecolor": "white",
           "landcolor": "#E5ECF6",
           "showlakes": true,
           "showland": true,
           "subunitcolor": "white"
          },
          "hoverlabel": {
           "align": "left"
          },
          "hovermode": "closest",
          "mapbox": {
           "style": "light"
          },
          "paper_bgcolor": "white",
          "plot_bgcolor": "#E5ECF6",
          "polar": {
           "angularaxis": {
            "gridcolor": "white",
            "linecolor": "white",
            "ticks": ""
           },
           "bgcolor": "#E5ECF6",
           "radialaxis": {
            "gridcolor": "white",
            "linecolor": "white",
            "ticks": ""
           }
          },
          "scene": {
           "xaxis": {
            "backgroundcolor": "#E5ECF6",
            "gridcolor": "white",
            "gridwidth": 2,
            "linecolor": "white",
            "showbackground": true,
            "ticks": "",
            "zerolinecolor": "white"
           },
           "yaxis": {
            "backgroundcolor": "#E5ECF6",
            "gridcolor": "white",
            "gridwidth": 2,
            "linecolor": "white",
            "showbackground": true,
            "ticks": "",
            "zerolinecolor": "white"
           },
           "zaxis": {
            "backgroundcolor": "#E5ECF6",
            "gridcolor": "white",
            "gridwidth": 2,
            "linecolor": "white",
            "showbackground": true,
            "ticks": "",
            "zerolinecolor": "white"
           }
          },
          "shapedefaults": {
           "line": {
            "color": "#2a3f5f"
           }
          },
          "ternary": {
           "aaxis": {
            "gridcolor": "white",
            "linecolor": "white",
            "ticks": ""
           },
           "baxis": {
            "gridcolor": "white",
            "linecolor": "white",
            "ticks": ""
           },
           "bgcolor": "#E5ECF6",
           "caxis": {
            "gridcolor": "white",
            "linecolor": "white",
            "ticks": ""
           }
          },
          "title": {
           "x": 0.05
          },
          "xaxis": {
           "automargin": true,
           "gridcolor": "white",
           "linecolor": "white",
           "ticks": "",
           "title": {
            "standoff": 15
           },
           "zerolinecolor": "white",
           "zerolinewidth": 2
          },
          "yaxis": {
           "automargin": true,
           "gridcolor": "white",
           "linecolor": "white",
           "ticks": "",
           "title": {
            "standoff": 15
           },
           "zerolinecolor": "white",
           "zerolinewidth": 2
          }
         }
        },
        "title": {
         "font": {
          "color": "#4D5663"
         }
        },
        "xaxis": {
         "gridcolor": "#E1E5ED",
         "showgrid": true,
         "tickfont": {
          "color": "#4D5663"
         },
         "title": {
          "font": {
           "color": "#4D5663"
          },
          "text": ""
         },
         "zerolinecolor": "#E1E5ED"
        },
        "yaxis": {
         "gridcolor": "#E1E5ED",
         "showgrid": true,
         "tickfont": {
          "color": "#4D5663"
         },
         "title": {
          "font": {
           "color": "#4D5663"
          },
          "text": ""
         },
         "zerolinecolor": "#E1E5ED"
        }
       }
      },
      "text/html": [
       "<div>                            <div id=\"269b5190-1058-42b8-879b-18977ead6150\" class=\"plotly-graph-div\" style=\"height:525px; width:100%;\"></div>            <script type=\"text/javascript\">                require([\"plotly\"], function(Plotly) {                    window.PLOTLYENV=window.PLOTLYENV || {};\n",
       "                    window.PLOTLYENV.BASE_URL='https://plot.ly';                                    if (document.getElementById(\"269b5190-1058-42b8-879b-18977ead6150\")) {                    Plotly.newPlot(                        \"269b5190-1058-42b8-879b-18977ead6150\",                        [{\"marker\":{\"color\":[\"rgb(255, 153, 51)\",\"rgb(55, 128, 191)\",\"rgb(50, 171, 96)\",\"rgb(128, 0, 128)\",\"rgb(219, 64, 82)\",\"rgb(0, 128, 128)\",\"rgb(255, 255, 51)\",\"rgb(128, 128, 0)\",\"rgb(251, 128, 114)\",\"rgb(128, 177, 211)\"],\"line\":{\"width\":1.3},\"size\":[100,77,80,97,89,92,72,60,85,83,81,89,71,62,103,58,88,78,60,58,75,74,54,81,89,87,82,79,71,67,94,87,68,99,98,87,68,64,92,70,62,84,74,59,93,97,112,92,93,58,86,84,111,64,51,75,80,94,62,75,103,91,97,73,75,66,67,80,80,83,111,50,97,80,63,77,57,12,92,95,52,73,90,74,99,51,55,57,71,89,81,89,66,101,83,54,96,76,65,60],\"symbol\":\"circle\"},\"mode\":\"markers\",\"text\":\"\",\"x\":[0.37597005318765364,-0.9048495718966237,0.8579565711447589,0.5400822133171609,-1.3077258733358614,-0.5342628034790948,-0.4453140991222401,1.9149519217568853,-0.4298784428599787,-1.7408278622364468,0.08984730403796322,-0.7220639924502646,-0.661782077365756,-1.9313280548361829,1.0995235869258424,-2.2416909234475497,1.6556238846323768,0.4881773567676999,-0.24661995472311352,-1.0888515437052844,-0.3800838112965957,1.076085654409655,-1.6593557461777635,0.21297961644533725,-1.5805191546265278,-1.618813240069065,0.04667537628522792,-0.3292224638769374,-1.1251094929123244,0.4090802971009559,-1.3057982878541903,0.4551469096035381,-0.06954108892814388,1.2405533050281512,-1.2173275922137747,1.65140906115177,-0.049881944271718826,0.38147990711103064,-1.0977982075374673,-0.8695743896417516,-1.1401255024732972,-0.1858666165578455,0.49689378953900226,-1.7204814086558124,1.3439359237959083,0.4609679198043368,0.8667683379824784,0.532690330525514,0.95150358077794,1.250685572340651,-0.26943495020421604,0.09722637026800443,0.4088197644876183,0.39448931245833757,1.524689421116744,0.6826810268566323,-1.6830237912206034,0.6318572757177054,0.2712253471184101,0.5970364658727937,0.7659094762271283,0.1096216186670033,-0.9596009180692899,-0.27623561082193904,-0.2579137767261097,-1.5159322047196007,0.26460532519337004,-0.7291898945221118,0.41642299592662535,0.6316260731687413,0.26153263868151694,-1.0468931473485552,1.908267957100243,1.0344822555487396,-1.5724801942537763,0.3569898615943052,-0.5466895707445805,2.0376888472931776,0.3144215127715293,0.5138467978812578,1.819754268505688,0.36849994498834077,-0.15873092607185396,-1.0049529009052667,0.09150725192149144,0.5764277982327448,-1.4916678031268555,0.6889429161353486,-1.5340180898299038,-0.5535547871389617,0.8371221944612994,1.511812318129234,0.4504704904485682,0.8099235277959423,-0.7489858817084645,0.9502448003142555,0.5875531667765086,1.575218737798039,0.6355889890230145,-0.8433765111948266],\"y\":[0.9850713887904406,0.9895016294470834,0.33522187833194084,0.38263555967156293,0.3745792917333505,-1.429798678593703,1.1824612431217312,0.626488597539041,0.14349191696675895,-0.14814614007520954,-0.011611341174777376,2.12010533548965,-0.8772273524296763,0.6081160835617304,0.16137092972869155,-1.0714094098077365,-0.24641963527506083,-0.06582086200559119,-1.0060510964237628,-0.10337648868594303,-0.37416372381453705,0.9355670189990279,0.6210186517918276,-0.382253315672212,1.1502055049032665,0.11081971219168177,-0.9485281386209676,0.3163862184000106,-0.3640965591259851,0.18310189183405573,2.2399820434026694,0.639087710690256,-0.1398487891852959,-0.3925511584810141,1.3296265283651694,-0.11776415174203159,-0.4744386630352112,-0.4588922483652321,0.7842901351701419,-0.7900798468461651,-0.3144100924184365,0.06904462737971202,-0.08165840561428707,0.5937850226834473,1.6943248142423644,-1.4730818763638593,1.9149121426011169,-0.6981210172827813,1.0620220071337512,0.3270240144233015,0.9983963737189102,-1.5820504018948132,1.5576377626695666,0.6818302184258955,0.9581576498185576,0.7734938363828401,-1.2645145864507532,-0.6557307087352567,-0.08794658491303368,-0.2078210220450748,-0.7092534417802636,-0.4381431192271822,-0.29781816966271807,-1.9836917976954034,1.7777877374165716,0.3218961402254565,-2.077586101344516,-1.2073343169448907,1.7441615296849142,0.3048809157280745,-0.4907508335554843,0.8770109049237509,1.4245387717453464,1.0661665279074823,-0.6339901914933027,0.6802602704574408,-0.7168654439364791,-0.5578302948819142,-1.1185457726425359,-0.6121908887398874,-0.3779897877929932,1.4777200034997569,-0.19292716976175264,0.3574539014170091,-0.18544526745879408,-1.1466728464685323,0.5323503559652332,1.099398587877932,-2.3408632006156953,0.2961022336838603,0.34912709976479883,0.4803125361409515,-0.9275043314294719,1.810404002204835,-0.8997615818329986,-0.8882118828210713,0.07222842748511556,0.8997473673949757,0.12376395341787741,-2.1040059015548027],\"type\":\"scatter\"}],                        {\"legend\":{\"bgcolor\":\"#F5F6F9\",\"font\":{\"color\":\"#4D5663\"}},\"paper_bgcolor\":\"#F5F6F9\",\"plot_bgcolor\":\"#F5F6F9\",\"template\":{\"data\":{\"barpolar\":[{\"marker\":{\"line\":{\"color\":\"#E5ECF6\",\"width\":0.5},\"pattern\":{\"fillmode\":\"overlay\",\"size\":10,\"solidity\":0.2}},\"type\":\"barpolar\"}],\"bar\":[{\"error_x\":{\"color\":\"#2a3f5f\"},\"error_y\":{\"color\":\"#2a3f5f\"},\"marker\":{\"line\":{\"color\":\"#E5ECF6\",\"width\":0.5},\"pattern\":{\"fillmode\":\"overlay\",\"size\":10,\"solidity\":0.2}},\"type\":\"bar\"}],\"carpet\":[{\"aaxis\":{\"endlinecolor\":\"#2a3f5f\",\"gridcolor\":\"white\",\"linecolor\":\"white\",\"minorgridcolor\":\"white\",\"startlinecolor\":\"#2a3f5f\"},\"baxis\":{\"endlinecolor\":\"#2a3f5f\",\"gridcolor\":\"white\",\"linecolor\":\"white\",\"minorgridcolor\":\"white\",\"startlinecolor\":\"#2a3f5f\"},\"type\":\"carpet\"}],\"choropleth\":[{\"colorbar\":{\"outlinewidth\":0,\"ticks\":\"\"},\"type\":\"choropleth\"}],\"contourcarpet\":[{\"colorbar\":{\"outlinewidth\":0,\"ticks\":\"\"},\"type\":\"contourcarpet\"}],\"contour\":[{\"colorbar\":{\"outlinewidth\":0,\"ticks\":\"\"},\"colorscale\":[[0.0,\"#0d0887\"],[0.1111111111111111,\"#46039f\"],[0.2222222222222222,\"#7201a8\"],[0.3333333333333333,\"#9c179e\"],[0.4444444444444444,\"#bd3786\"],[0.5555555555555556,\"#d8576b\"],[0.6666666666666666,\"#ed7953\"],[0.7777777777777778,\"#fb9f3a\"],[0.8888888888888888,\"#fdca26\"],[1.0,\"#f0f921\"]],\"type\":\"contour\"}],\"heatmapgl\":[{\"colorbar\":{\"outlinewidth\":0,\"ticks\":\"\"},\"colorscale\":[[0.0,\"#0d0887\"],[0.1111111111111111,\"#46039f\"],[0.2222222222222222,\"#7201a8\"],[0.3333333333333333,\"#9c179e\"],[0.4444444444444444,\"#bd3786\"],[0.5555555555555556,\"#d8576b\"],[0.6666666666666666,\"#ed7953\"],[0.7777777777777778,\"#fb9f3a\"],[0.8888888888888888,\"#fdca26\"],[1.0,\"#f0f921\"]],\"type\":\"heatmapgl\"}],\"heatmap\":[{\"colorbar\":{\"outlinewidth\":0,\"ticks\":\"\"},\"colorscale\":[[0.0,\"#0d0887\"],[0.1111111111111111,\"#46039f\"],[0.2222222222222222,\"#7201a8\"],[0.3333333333333333,\"#9c179e\"],[0.4444444444444444,\"#bd3786\"],[0.5555555555555556,\"#d8576b\"],[0.6666666666666666,\"#ed7953\"],[0.7777777777777778,\"#fb9f3a\"],[0.8888888888888888,\"#fdca26\"],[1.0,\"#f0f921\"]],\"type\":\"heatmap\"}],\"histogram2dcontour\":[{\"colorbar\":{\"outlinewidth\":0,\"ticks\":\"\"},\"colorscale\":[[0.0,\"#0d0887\"],[0.1111111111111111,\"#46039f\"],[0.2222222222222222,\"#7201a8\"],[0.3333333333333333,\"#9c179e\"],[0.4444444444444444,\"#bd3786\"],[0.5555555555555556,\"#d8576b\"],[0.6666666666666666,\"#ed7953\"],[0.7777777777777778,\"#fb9f3a\"],[0.8888888888888888,\"#fdca26\"],[1.0,\"#f0f921\"]],\"type\":\"histogram2dcontour\"}],\"histogram2d\":[{\"colorbar\":{\"outlinewidth\":0,\"ticks\":\"\"},\"colorscale\":[[0.0,\"#0d0887\"],[0.1111111111111111,\"#46039f\"],[0.2222222222222222,\"#7201a8\"],[0.3333333333333333,\"#9c179e\"],[0.4444444444444444,\"#bd3786\"],[0.5555555555555556,\"#d8576b\"],[0.6666666666666666,\"#ed7953\"],[0.7777777777777778,\"#fb9f3a\"],[0.8888888888888888,\"#fdca26\"],[1.0,\"#f0f921\"]],\"type\":\"histogram2d\"}],\"histogram\":[{\"marker\":{\"pattern\":{\"fillmode\":\"overlay\",\"size\":10,\"solidity\":0.2}},\"type\":\"histogram\"}],\"mesh3d\":[{\"colorbar\":{\"outlinewidth\":0,\"ticks\":\"\"},\"type\":\"mesh3d\"}],\"parcoords\":[{\"line\":{\"colorbar\":{\"outlinewidth\":0,\"ticks\":\"\"}},\"type\":\"parcoords\"}],\"pie\":[{\"automargin\":true,\"type\":\"pie\"}],\"scatter3d\":[{\"line\":{\"colorbar\":{\"outlinewidth\":0,\"ticks\":\"\"}},\"marker\":{\"colorbar\":{\"outlinewidth\":0,\"ticks\":\"\"}},\"type\":\"scatter3d\"}],\"scattercarpet\":[{\"marker\":{\"colorbar\":{\"outlinewidth\":0,\"ticks\":\"\"}},\"type\":\"scattercarpet\"}],\"scattergeo\":[{\"marker\":{\"colorbar\":{\"outlinewidth\":0,\"ticks\":\"\"}},\"type\":\"scattergeo\"}],\"scattergl\":[{\"marker\":{\"colorbar\":{\"outlinewidth\":0,\"ticks\":\"\"}},\"type\":\"scattergl\"}],\"scattermapbox\":[{\"marker\":{\"colorbar\":{\"outlinewidth\":0,\"ticks\":\"\"}},\"type\":\"scattermapbox\"}],\"scatterpolargl\":[{\"marker\":{\"colorbar\":{\"outlinewidth\":0,\"ticks\":\"\"}},\"type\":\"scatterpolargl\"}],\"scatterpolar\":[{\"marker\":{\"colorbar\":{\"outlinewidth\":0,\"ticks\":\"\"}},\"type\":\"scatterpolar\"}],\"scatter\":[{\"fillpattern\":{\"fillmode\":\"overlay\",\"size\":10,\"solidity\":0.2},\"type\":\"scatter\"}],\"scatterternary\":[{\"marker\":{\"colorbar\":{\"outlinewidth\":0,\"ticks\":\"\"}},\"type\":\"scatterternary\"}],\"surface\":[{\"colorbar\":{\"outlinewidth\":0,\"ticks\":\"\"},\"colorscale\":[[0.0,\"#0d0887\"],[0.1111111111111111,\"#46039f\"],[0.2222222222222222,\"#7201a8\"],[0.3333333333333333,\"#9c179e\"],[0.4444444444444444,\"#bd3786\"],[0.5555555555555556,\"#d8576b\"],[0.6666666666666666,\"#ed7953\"],[0.7777777777777778,\"#fb9f3a\"],[0.8888888888888888,\"#fdca26\"],[1.0,\"#f0f921\"]],\"type\":\"surface\"}],\"table\":[{\"cells\":{\"fill\":{\"color\":\"#EBF0F8\"},\"line\":{\"color\":\"white\"}},\"header\":{\"fill\":{\"color\":\"#C8D4E3\"},\"line\":{\"color\":\"white\"}},\"type\":\"table\"}]},\"layout\":{\"annotationdefaults\":{\"arrowcolor\":\"#2a3f5f\",\"arrowhead\":0,\"arrowwidth\":1},\"autotypenumbers\":\"strict\",\"coloraxis\":{\"colorbar\":{\"outlinewidth\":0,\"ticks\":\"\"}},\"colorscale\":{\"diverging\":[[0,\"#8e0152\"],[0.1,\"#c51b7d\"],[0.2,\"#de77ae\"],[0.3,\"#f1b6da\"],[0.4,\"#fde0ef\"],[0.5,\"#f7f7f7\"],[0.6,\"#e6f5d0\"],[0.7,\"#b8e186\"],[0.8,\"#7fbc41\"],[0.9,\"#4d9221\"],[1,\"#276419\"]],\"sequential\":[[0.0,\"#0d0887\"],[0.1111111111111111,\"#46039f\"],[0.2222222222222222,\"#7201a8\"],[0.3333333333333333,\"#9c179e\"],[0.4444444444444444,\"#bd3786\"],[0.5555555555555556,\"#d8576b\"],[0.6666666666666666,\"#ed7953\"],[0.7777777777777778,\"#fb9f3a\"],[0.8888888888888888,\"#fdca26\"],[1.0,\"#f0f921\"]],\"sequentialminus\":[[0.0,\"#0d0887\"],[0.1111111111111111,\"#46039f\"],[0.2222222222222222,\"#7201a8\"],[0.3333333333333333,\"#9c179e\"],[0.4444444444444444,\"#bd3786\"],[0.5555555555555556,\"#d8576b\"],[0.6666666666666666,\"#ed7953\"],[0.7777777777777778,\"#fb9f3a\"],[0.8888888888888888,\"#fdca26\"],[1.0,\"#f0f921\"]]},\"colorway\":[\"#636efa\",\"#EF553B\",\"#00cc96\",\"#ab63fa\",\"#FFA15A\",\"#19d3f3\",\"#FF6692\",\"#B6E880\",\"#FF97FF\",\"#FECB52\"],\"font\":{\"color\":\"#2a3f5f\"},\"geo\":{\"bgcolor\":\"white\",\"lakecolor\":\"white\",\"landcolor\":\"#E5ECF6\",\"showlakes\":true,\"showland\":true,\"subunitcolor\":\"white\"},\"hoverlabel\":{\"align\":\"left\"},\"hovermode\":\"closest\",\"mapbox\":{\"style\":\"light\"},\"paper_bgcolor\":\"white\",\"plot_bgcolor\":\"#E5ECF6\",\"polar\":{\"angularaxis\":{\"gridcolor\":\"white\",\"linecolor\":\"white\",\"ticks\":\"\"},\"bgcolor\":\"#E5ECF6\",\"radialaxis\":{\"gridcolor\":\"white\",\"linecolor\":\"white\",\"ticks\":\"\"}},\"scene\":{\"xaxis\":{\"backgroundcolor\":\"#E5ECF6\",\"gridcolor\":\"white\",\"gridwidth\":2,\"linecolor\":\"white\",\"showbackground\":true,\"ticks\":\"\",\"zerolinecolor\":\"white\"},\"yaxis\":{\"backgroundcolor\":\"#E5ECF6\",\"gridcolor\":\"white\",\"gridwidth\":2,\"linecolor\":\"white\",\"showbackground\":true,\"ticks\":\"\",\"zerolinecolor\":\"white\"},\"zaxis\":{\"backgroundcolor\":\"#E5ECF6\",\"gridcolor\":\"white\",\"gridwidth\":2,\"linecolor\":\"white\",\"showbackground\":true,\"ticks\":\"\",\"zerolinecolor\":\"white\"}},\"shapedefaults\":{\"line\":{\"color\":\"#2a3f5f\"}},\"ternary\":{\"aaxis\":{\"gridcolor\":\"white\",\"linecolor\":\"white\",\"ticks\":\"\"},\"baxis\":{\"gridcolor\":\"white\",\"linecolor\":\"white\",\"ticks\":\"\"},\"bgcolor\":\"#E5ECF6\",\"caxis\":{\"gridcolor\":\"white\",\"linecolor\":\"white\",\"ticks\":\"\"}},\"title\":{\"x\":0.05},\"xaxis\":{\"automargin\":true,\"gridcolor\":\"white\",\"linecolor\":\"white\",\"ticks\":\"\",\"title\":{\"standoff\":15},\"zerolinecolor\":\"white\",\"zerolinewidth\":2},\"yaxis\":{\"automargin\":true,\"gridcolor\":\"white\",\"linecolor\":\"white\",\"ticks\":\"\",\"title\":{\"standoff\":15},\"zerolinecolor\":\"white\",\"zerolinewidth\":2}}},\"title\":{\"font\":{\"color\":\"#4D5663\"}},\"xaxis\":{\"gridcolor\":\"#E1E5ED\",\"showgrid\":true,\"tickfont\":{\"color\":\"#4D5663\"},\"title\":{\"font\":{\"color\":\"#4D5663\"},\"text\":\"\"},\"zerolinecolor\":\"#E1E5ED\"},\"yaxis\":{\"gridcolor\":\"#E1E5ED\",\"showgrid\":true,\"tickfont\":{\"color\":\"#4D5663\"},\"title\":{\"font\":{\"color\":\"#4D5663\"},\"text\":\"\"},\"zerolinecolor\":\"#E1E5ED\"}},                        {\"showLink\": true, \"linkText\": \"Export to plot.ly\", \"plotlyServerURL\": \"https://plot.ly\", \"responsive\": true}                    ).then(function(){\n",
       "                            \n",
       "var gd = document.getElementById('269b5190-1058-42b8-879b-18977ead6150');\n",
       "var x = new MutationObserver(function (mutations, observer) {{\n",
       "        var display = window.getComputedStyle(gd).display;\n",
       "        if (!display || display === 'none') {{\n",
       "            console.log([gd, 'removed!']);\n",
       "            Plotly.purge(gd);\n",
       "            observer.disconnect();\n",
       "        }}\n",
       "}});\n",
       "\n",
       "// Listen for the removal of the full notebook cells\n",
       "var notebookContainer = gd.closest('#notebook-container');\n",
       "if (notebookContainer) {{\n",
       "    x.observe(notebookContainer, {childList: true});\n",
       "}}\n",
       "\n",
       "// Listen for the clearing of the current output cell\n",
       "var outputEl = gd.closest('.output');\n",
       "if (outputEl) {{\n",
       "    x.observe(outputEl, {childList: true});\n",
       "}}\n",
       "\n",
       "                        })                };                });            </script>        </div>"
      ]
     },
     "metadata": {},
     "output_type": "display_data"
    }
   ],
   "source": [
    "df.iplot(kind='bubble', x='A', y='B', size='C') #the size is based on other column value, in that case the column C"
   ]
  },
  {
   "cell_type": "code",
   "execution_count": 46,
   "id": "995175ef",
   "metadata": {
    "ExecuteTime": {
     "end_time": "2023-01-12T17:37:51.320166Z",
     "start_time": "2023-01-12T17:37:50.596302Z"
    }
   },
   "outputs": [
    {
     "data": {
      "application/vnd.plotly.v1+json": {
       "config": {
        "linkText": "Export to plot.ly",
        "plotlyServerURL": "https://plot.ly",
        "showLink": true
       },
       "data": [
        {
         "histfunc": "count",
         "histnorm": "",
         "marker": {
          "color": "rgba(255, 153, 51, 1.0)",
          "line": {
           "color": "#4D5663",
           "width": 1.3
          }
         },
         "name": "A",
         "nbinsx": 10,
         "opacity": 0.8,
         "orientation": "v",
         "type": "histogram",
         "x": [
          0.37597005318765364,
          -0.9048495718966237,
          0.8579565711447589,
          0.5400822133171609,
          -1.3077258733358614,
          -0.5342628034790948,
          -0.4453140991222401,
          1.9149519217568853,
          -0.4298784428599787,
          -1.7408278622364468,
          0.08984730403796322,
          -0.7220639924502646,
          -0.661782077365756,
          -1.9313280548361829,
          1.0995235869258424,
          -2.2416909234475497,
          1.6556238846323768,
          0.4881773567676999,
          -0.24661995472311352,
          -1.0888515437052844,
          -0.3800838112965957,
          1.076085654409655,
          -1.6593557461777635,
          0.21297961644533725,
          -1.5805191546265278,
          -1.618813240069065,
          0.04667537628522792,
          -0.3292224638769374,
          -1.1251094929123244,
          0.4090802971009559,
          -1.3057982878541903,
          0.4551469096035381,
          -0.06954108892814388,
          1.2405533050281512,
          -1.2173275922137747,
          1.65140906115177,
          -0.049881944271718826,
          0.38147990711103064,
          -1.0977982075374673,
          -0.8695743896417516,
          -1.1401255024732972,
          -0.1858666165578455,
          0.49689378953900226,
          -1.7204814086558124,
          1.3439359237959083,
          0.4609679198043368,
          0.8667683379824784,
          0.532690330525514,
          0.95150358077794,
          1.250685572340651,
          -0.26943495020421604,
          0.09722637026800443,
          0.4088197644876183,
          0.39448931245833757,
          1.524689421116744,
          0.6826810268566323,
          -1.6830237912206034,
          0.6318572757177054,
          0.2712253471184101,
          0.5970364658727937,
          0.7659094762271283,
          0.1096216186670033,
          -0.9596009180692899,
          -0.27623561082193904,
          -0.2579137767261097,
          -1.5159322047196007,
          0.26460532519337004,
          -0.7291898945221118,
          0.41642299592662535,
          0.6316260731687413,
          0.26153263868151694,
          -1.0468931473485552,
          1.908267957100243,
          1.0344822555487396,
          -1.5724801942537763,
          0.3569898615943052,
          -0.5466895707445805,
          2.0376888472931776,
          0.3144215127715293,
          0.5138467978812578,
          1.819754268505688,
          0.36849994498834077,
          -0.15873092607185396,
          -1.0049529009052667,
          0.09150725192149144,
          0.5764277982327448,
          -1.4916678031268555,
          0.6889429161353486,
          -1.5340180898299038,
          -0.5535547871389617,
          0.8371221944612994,
          1.511812318129234,
          0.4504704904485682,
          0.8099235277959423,
          -0.7489858817084645,
          0.9502448003142555,
          0.5875531667765086,
          1.575218737798039,
          0.6355889890230145,
          -0.8433765111948266
         ],
         "xaxis": "x",
         "yaxis": "y"
        },
        {
         "line": {
          "color": "rgba(128, 128, 128, 1.0)",
          "dash": "solid",
          "shape": "linear",
          "width": 1.3
         },
         "marker": {
          "size": 2,
          "symbol": "circle"
         },
         "mode": "markers",
         "name": "A",
         "text": "",
         "type": "scatter",
         "x": [
          0.9850713887904406,
          0.9895016294470834,
          0.33522187833194084,
          0.38263555967156293,
          0.3745792917333505,
          -1.429798678593703,
          1.1824612431217312,
          0.626488597539041,
          0.14349191696675895,
          -0.14814614007520954,
          -0.011611341174777376,
          2.12010533548965,
          -0.8772273524296763,
          0.6081160835617304,
          0.16137092972869155,
          -1.0714094098077365,
          -0.24641963527506083,
          -0.06582086200559119,
          -1.0060510964237628,
          -0.10337648868594303,
          -0.37416372381453705,
          0.9355670189990279,
          0.6210186517918276,
          -0.382253315672212,
          1.1502055049032665,
          0.11081971219168177,
          -0.9485281386209676,
          0.3163862184000106,
          -0.3640965591259851,
          0.18310189183405573,
          2.2399820434026694,
          0.639087710690256,
          -0.1398487891852959,
          -0.3925511584810141,
          1.3296265283651694,
          -0.11776415174203159,
          -0.4744386630352112,
          -0.4588922483652321,
          0.7842901351701419,
          -0.7900798468461651,
          -0.3144100924184365,
          0.06904462737971202,
          -0.08165840561428707,
          0.5937850226834473,
          1.6943248142423644,
          -1.4730818763638593,
          1.9149121426011169,
          -0.6981210172827813,
          1.0620220071337512,
          0.3270240144233015,
          0.9983963737189102,
          -1.5820504018948132,
          1.5576377626695666,
          0.6818302184258955,
          0.9581576498185576,
          0.7734938363828401,
          -1.2645145864507532,
          -0.6557307087352567,
          -0.08794658491303368,
          -0.2078210220450748,
          -0.7092534417802636,
          -0.4381431192271822,
          -0.29781816966271807,
          -1.9836917976954034,
          1.7777877374165716,
          0.3218961402254565,
          -2.077586101344516,
          -1.2073343169448907,
          1.7441615296849142,
          0.3048809157280745,
          -0.4907508335554843,
          0.8770109049237509,
          1.4245387717453464,
          1.0661665279074823,
          -0.6339901914933027,
          0.6802602704574408,
          -0.7168654439364791,
          -0.5578302948819142,
          -1.1185457726425359,
          -0.6121908887398874,
          -0.3779897877929932,
          1.4777200034997569,
          -0.19292716976175264,
          0.3574539014170091,
          -0.18544526745879408,
          -1.1466728464685323,
          0.5323503559652332,
          1.099398587877932,
          -2.3408632006156953,
          0.2961022336838603,
          0.34912709976479883,
          0.4803125361409515,
          -0.9275043314294719,
          1.810404002204835,
          -0.8997615818329986,
          -0.8882118828210713,
          0.07222842748511556,
          0.8997473673949757,
          0.12376395341787741,
          -2.1040059015548027
         ],
         "xaxis": "x2",
         "y": [
          0.37597005318765364,
          -0.9048495718966237,
          0.8579565711447589,
          0.5400822133171609,
          -1.3077258733358614,
          -0.5342628034790948,
          -0.4453140991222401,
          1.9149519217568853,
          -0.4298784428599787,
          -1.7408278622364468,
          0.08984730403796322,
          -0.7220639924502646,
          -0.661782077365756,
          -1.9313280548361829,
          1.0995235869258424,
          -2.2416909234475497,
          1.6556238846323768,
          0.4881773567676999,
          -0.24661995472311352,
          -1.0888515437052844,
          -0.3800838112965957,
          1.076085654409655,
          -1.6593557461777635,
          0.21297961644533725,
          -1.5805191546265278,
          -1.618813240069065,
          0.04667537628522792,
          -0.3292224638769374,
          -1.1251094929123244,
          0.4090802971009559,
          -1.3057982878541903,
          0.4551469096035381,
          -0.06954108892814388,
          1.2405533050281512,
          -1.2173275922137747,
          1.65140906115177,
          -0.049881944271718826,
          0.38147990711103064,
          -1.0977982075374673,
          -0.8695743896417516,
          -1.1401255024732972,
          -0.1858666165578455,
          0.49689378953900226,
          -1.7204814086558124,
          1.3439359237959083,
          0.4609679198043368,
          0.8667683379824784,
          0.532690330525514,
          0.95150358077794,
          1.250685572340651,
          -0.26943495020421604,
          0.09722637026800443,
          0.4088197644876183,
          0.39448931245833757,
          1.524689421116744,
          0.6826810268566323,
          -1.6830237912206034,
          0.6318572757177054,
          0.2712253471184101,
          0.5970364658727937,
          0.7659094762271283,
          0.1096216186670033,
          -0.9596009180692899,
          -0.27623561082193904,
          -0.2579137767261097,
          -1.5159322047196007,
          0.26460532519337004,
          -0.7291898945221118,
          0.41642299592662535,
          0.6316260731687413,
          0.26153263868151694,
          -1.0468931473485552,
          1.908267957100243,
          1.0344822555487396,
          -1.5724801942537763,
          0.3569898615943052,
          -0.5466895707445805,
          2.0376888472931776,
          0.3144215127715293,
          0.5138467978812578,
          1.819754268505688,
          0.36849994498834077,
          -0.15873092607185396,
          -1.0049529009052667,
          0.09150725192149144,
          0.5764277982327448,
          -1.4916678031268555,
          0.6889429161353486,
          -1.5340180898299038,
          -0.5535547871389617,
          0.8371221944612994,
          1.511812318129234,
          0.4504704904485682,
          0.8099235277959423,
          -0.7489858817084645,
          0.9502448003142555,
          0.5875531667765086,
          1.575218737798039,
          0.6355889890230145,
          -0.8433765111948266
         ],
         "yaxis": "y2"
        },
        {
         "line": {
          "color": "rgba(128, 128, 128, 1.0)",
          "dash": "solid",
          "shape": "linear",
          "width": 1.3
         },
         "marker": {
          "size": 2,
          "symbol": "circle"
         },
         "mode": "markers",
         "name": "A",
         "text": "",
         "type": "scatter",
         "x": [
          1.3624391131495084,
          -0.09446315603746394,
          0.12053743295789382,
          1.1817252377826062,
          0.6475800142644463,
          0.8365164130551516,
          -0.4078180117652873,
          -1.1958213597542948,
          0.40486279121570723,
          0.30592864416212057,
          0.19107544463621579,
          0.693625983370063,
          -0.4795213929104659,
          -1.0445591306189137,
          1.5408861746461362,
          -1.3208667950772104,
          0.6094364132193509,
          -0.04085162955660802,
          -1.1955049542950045,
          -1.2909839067238678,
          -0.18996601563309218,
          -0.3027149219694637,
          -1.5439791351118015,
          0.15460830804329959,
          0.658379885150995,
          0.5165004387560271,
          0.24957975250950862,
          0.0374615654790334,
          -0.5011376297220035,
          -0.6980267142027701,
          1.003819045674507,
          0.5585194029409475,
          -0.6530654144953657,
          1.2989071642014614,
          1.2646838735261166,
          0.5232949932517565,
          -0.6708949079502614,
          -0.927915205881154,
          0.8588928727833726,
          -0.5510976265140255,
          -1.0544854398765824,
          0.38249192826086326,
          -0.265182820267451,
          -1.2334846966610336,
          0.8966353913944343,
          1.1855664845671843,
          2.102330612375204,
          0.8819175112781902,
          0.9484031417715634,
          -1.2951255668253117,
          0.5032418726519972,
          0.3869633350184438,
          2.0393910745438646,
          -0.9133046872020412,
          -1.7446801263689433,
          -0.2368714660544164,
          0.11501744149322286,
          0.9606814835850809,
          -1.0283016300674763,
          -0.20628502526959266,
          1.549434241388962,
          0.7699467943680909,
          1.1577045284955838,
          -0.34241868984657486,
          -0.21732911323454163,
          -0.7639606514748805,
          -0.6982225764961281,
          0.09808374584084899,
          0.07220517620201307,
          0.28388278140747314,
          2.048594502372427,
          -1.8338997526400318,
          1.1579823376966734,
          0.09248369553907014,
          -0.9536254360521329,
          -0.07992099885216111,
          -1.339150308345133,
          -4.248316610590325,
          0.877309688073591,
          1.0774032735018733,
          -1.660165966097154,
          -0.3296052293735431,
          0.7444300470693337,
          -0.28835240383946076,
          1.3209428618408567,
          -1.7226785064983972,
          -1.4546956979417622,
          -1.3569076990715874,
          -0.4591211120108361,
          0.6957975501809467,
          0.18663813416373395,
          0.684558745731199,
          -0.8003535785394227,
          1.4626502325103097,
          0.27341601084813794,
          -1.5470354465064384,
          1.1031551691903023,
          -0.12376385833508523,
          -0.8445403928519083,
          -1.1997622783239204
         ],
         "xaxis": "x3",
         "y": [
          0.37597005318765364,
          -0.9048495718966237,
          0.8579565711447589,
          0.5400822133171609,
          -1.3077258733358614,
          -0.5342628034790948,
          -0.4453140991222401,
          1.9149519217568853,
          -0.4298784428599787,
          -1.7408278622364468,
          0.08984730403796322,
          -0.7220639924502646,
          -0.661782077365756,
          -1.9313280548361829,
          1.0995235869258424,
          -2.2416909234475497,
          1.6556238846323768,
          0.4881773567676999,
          -0.24661995472311352,
          -1.0888515437052844,
          -0.3800838112965957,
          1.076085654409655,
          -1.6593557461777635,
          0.21297961644533725,
          -1.5805191546265278,
          -1.618813240069065,
          0.04667537628522792,
          -0.3292224638769374,
          -1.1251094929123244,
          0.4090802971009559,
          -1.3057982878541903,
          0.4551469096035381,
          -0.06954108892814388,
          1.2405533050281512,
          -1.2173275922137747,
          1.65140906115177,
          -0.049881944271718826,
          0.38147990711103064,
          -1.0977982075374673,
          -0.8695743896417516,
          -1.1401255024732972,
          -0.1858666165578455,
          0.49689378953900226,
          -1.7204814086558124,
          1.3439359237959083,
          0.4609679198043368,
          0.8667683379824784,
          0.532690330525514,
          0.95150358077794,
          1.250685572340651,
          -0.26943495020421604,
          0.09722637026800443,
          0.4088197644876183,
          0.39448931245833757,
          1.524689421116744,
          0.6826810268566323,
          -1.6830237912206034,
          0.6318572757177054,
          0.2712253471184101,
          0.5970364658727937,
          0.7659094762271283,
          0.1096216186670033,
          -0.9596009180692899,
          -0.27623561082193904,
          -0.2579137767261097,
          -1.5159322047196007,
          0.26460532519337004,
          -0.7291898945221118,
          0.41642299592662535,
          0.6316260731687413,
          0.26153263868151694,
          -1.0468931473485552,
          1.908267957100243,
          1.0344822555487396,
          -1.5724801942537763,
          0.3569898615943052,
          -0.5466895707445805,
          2.0376888472931776,
          0.3144215127715293,
          0.5138467978812578,
          1.819754268505688,
          0.36849994498834077,
          -0.15873092607185396,
          -1.0049529009052667,
          0.09150725192149144,
          0.5764277982327448,
          -1.4916678031268555,
          0.6889429161353486,
          -1.5340180898299038,
          -0.5535547871389617,
          0.8371221944612994,
          1.511812318129234,
          0.4504704904485682,
          0.8099235277959423,
          -0.7489858817084645,
          0.9502448003142555,
          0.5875531667765086,
          1.575218737798039,
          0.6355889890230145,
          -0.8433765111948266
         ],
         "yaxis": "y3"
        },
        {
         "line": {
          "color": "rgba(128, 128, 128, 1.0)",
          "dash": "solid",
          "shape": "linear",
          "width": 1.3
         },
         "marker": {
          "size": 2,
          "symbol": "circle"
         },
         "mode": "markers",
         "name": "A",
         "text": "",
         "type": "scatter",
         "x": [
          0.4508128924895635,
          0.04215376366990217,
          -1.0518703849568212,
          0.3500266469736823,
          0.20580261077350961,
          1.754896843152072,
          2.6429833117351147,
          -0.8642797610580246,
          -0.41582297549411373,
          -2.042660108926624,
          2.433411389040133,
          0.04535365358034176,
          -0.029792164141180695,
          0.09932599146605318,
          -0.36469484458203194,
          -0.014842401964342685,
          0.7162484120775321,
          -0.21961157381040466,
          -0.1993741741945207,
          0.23618296330368907,
          -1.0988480324183805,
          -1.1914519954196043,
          1.626157398674772,
          0.6014805018574845,
          -0.28299033172737736,
          0.20369756450508605,
          -1.3892156923525512,
          -4.194659972602769,
          -0.2576579263997152,
          0.18060191245340587,
          1.007979796275341,
          2.8548811976149677,
          -1.2989409444905182,
          1.7539133867387662,
          0.6355116643849393,
          -0.8877889204443272,
          0.2632211548259389,
          -2.1995470109944844,
          0.10508899178899203,
          0.023440149037699982,
          -0.7425340360296323,
          0.5135110343053352,
          1.0469222376987855,
          0.334179083908498,
          -0.6732049555684151,
          1.920255314155447,
          0.31474455194034795,
          -1.2532405006469192,
          -0.1782867341660852,
          -0.2612236675518501,
          0.08529428865256748,
          0.8859081746666121,
          -1.0395821361778677,
          -1.1188438311720794,
          1.5062784783110792,
          0.5645111723215555,
          1.5574015777784491,
          0.9343818985603018,
          1.2748663294021338,
          0.19879888180871147,
          -0.5414272117544923,
          0.39304960399247185,
          -0.9247493404146402,
          0.42558068308709135,
          -0.24056252548192844,
          -0.019922997486305462,
          -0.6719566946713905,
          -0.27653060364317744,
          0.8027553461951863,
          0.27219153335231094,
          -0.5813309657966865,
          0.5436017784492733,
          0.37242807990780813,
          -1.0329950228586733,
          -1.395061469594945,
          -0.11127250730929014,
          1.455724989900488,
          -1.7520381668036558,
          -0.7413967616142342,
          0.8162950883053584,
          -0.38201837863016125,
          -0.4575423670048262,
          -0.4643247842979483,
          -0.20121589003332105,
          -0.49942386266143535,
          -0.5379565189422676,
          -1.5637105321302363,
          0.4845066972715467,
          -1.4458852188723432,
          -0.17788830278383255,
          0.6521404141377812,
          0.1210782204443573,
          0.5994269475041096,
          -0.48866354384002325,
          -1.8744915866299037,
          -0.4459372624232242,
          -0.24734394526561712,
          0.6108673765982904,
          -0.6112625793654177,
          -1.5686529059756902
         ],
         "xaxis": "x4",
         "y": [
          0.37597005318765364,
          -0.9048495718966237,
          0.8579565711447589,
          0.5400822133171609,
          -1.3077258733358614,
          -0.5342628034790948,
          -0.4453140991222401,
          1.9149519217568853,
          -0.4298784428599787,
          -1.7408278622364468,
          0.08984730403796322,
          -0.7220639924502646,
          -0.661782077365756,
          -1.9313280548361829,
          1.0995235869258424,
          -2.2416909234475497,
          1.6556238846323768,
          0.4881773567676999,
          -0.24661995472311352,
          -1.0888515437052844,
          -0.3800838112965957,
          1.076085654409655,
          -1.6593557461777635,
          0.21297961644533725,
          -1.5805191546265278,
          -1.618813240069065,
          0.04667537628522792,
          -0.3292224638769374,
          -1.1251094929123244,
          0.4090802971009559,
          -1.3057982878541903,
          0.4551469096035381,
          -0.06954108892814388,
          1.2405533050281512,
          -1.2173275922137747,
          1.65140906115177,
          -0.049881944271718826,
          0.38147990711103064,
          -1.0977982075374673,
          -0.8695743896417516,
          -1.1401255024732972,
          -0.1858666165578455,
          0.49689378953900226,
          -1.7204814086558124,
          1.3439359237959083,
          0.4609679198043368,
          0.8667683379824784,
          0.532690330525514,
          0.95150358077794,
          1.250685572340651,
          -0.26943495020421604,
          0.09722637026800443,
          0.4088197644876183,
          0.39448931245833757,
          1.524689421116744,
          0.6826810268566323,
          -1.6830237912206034,
          0.6318572757177054,
          0.2712253471184101,
          0.5970364658727937,
          0.7659094762271283,
          0.1096216186670033,
          -0.9596009180692899,
          -0.27623561082193904,
          -0.2579137767261097,
          -1.5159322047196007,
          0.26460532519337004,
          -0.7291898945221118,
          0.41642299592662535,
          0.6316260731687413,
          0.26153263868151694,
          -1.0468931473485552,
          1.908267957100243,
          1.0344822555487396,
          -1.5724801942537763,
          0.3569898615943052,
          -0.5466895707445805,
          2.0376888472931776,
          0.3144215127715293,
          0.5138467978812578,
          1.819754268505688,
          0.36849994498834077,
          -0.15873092607185396,
          -1.0049529009052667,
          0.09150725192149144,
          0.5764277982327448,
          -1.4916678031268555,
          0.6889429161353486,
          -1.5340180898299038,
          -0.5535547871389617,
          0.8371221944612994,
          1.511812318129234,
          0.4504704904485682,
          0.8099235277959423,
          -0.7489858817084645,
          0.9502448003142555,
          0.5875531667765086,
          1.575218737798039,
          0.6355889890230145,
          -0.8433765111948266
         ],
         "yaxis": "y4"
        },
        {
         "line": {
          "color": "rgba(128, 128, 128, 1.0)",
          "dash": "solid",
          "shape": "linear",
          "width": 1.3
         },
         "marker": {
          "size": 2,
          "symbol": "circle"
         },
         "mode": "markers",
         "name": "B",
         "text": "",
         "type": "scatter",
         "x": [
          0.37597005318765364,
          -0.9048495718966237,
          0.8579565711447589,
          0.5400822133171609,
          -1.3077258733358614,
          -0.5342628034790948,
          -0.4453140991222401,
          1.9149519217568853,
          -0.4298784428599787,
          -1.7408278622364468,
          0.08984730403796322,
          -0.7220639924502646,
          -0.661782077365756,
          -1.9313280548361829,
          1.0995235869258424,
          -2.2416909234475497,
          1.6556238846323768,
          0.4881773567676999,
          -0.24661995472311352,
          -1.0888515437052844,
          -0.3800838112965957,
          1.076085654409655,
          -1.6593557461777635,
          0.21297961644533725,
          -1.5805191546265278,
          -1.618813240069065,
          0.04667537628522792,
          -0.3292224638769374,
          -1.1251094929123244,
          0.4090802971009559,
          -1.3057982878541903,
          0.4551469096035381,
          -0.06954108892814388,
          1.2405533050281512,
          -1.2173275922137747,
          1.65140906115177,
          -0.049881944271718826,
          0.38147990711103064,
          -1.0977982075374673,
          -0.8695743896417516,
          -1.1401255024732972,
          -0.1858666165578455,
          0.49689378953900226,
          -1.7204814086558124,
          1.3439359237959083,
          0.4609679198043368,
          0.8667683379824784,
          0.532690330525514,
          0.95150358077794,
          1.250685572340651,
          -0.26943495020421604,
          0.09722637026800443,
          0.4088197644876183,
          0.39448931245833757,
          1.524689421116744,
          0.6826810268566323,
          -1.6830237912206034,
          0.6318572757177054,
          0.2712253471184101,
          0.5970364658727937,
          0.7659094762271283,
          0.1096216186670033,
          -0.9596009180692899,
          -0.27623561082193904,
          -0.2579137767261097,
          -1.5159322047196007,
          0.26460532519337004,
          -0.7291898945221118,
          0.41642299592662535,
          0.6316260731687413,
          0.26153263868151694,
          -1.0468931473485552,
          1.908267957100243,
          1.0344822555487396,
          -1.5724801942537763,
          0.3569898615943052,
          -0.5466895707445805,
          2.0376888472931776,
          0.3144215127715293,
          0.5138467978812578,
          1.819754268505688,
          0.36849994498834077,
          -0.15873092607185396,
          -1.0049529009052667,
          0.09150725192149144,
          0.5764277982327448,
          -1.4916678031268555,
          0.6889429161353486,
          -1.5340180898299038,
          -0.5535547871389617,
          0.8371221944612994,
          1.511812318129234,
          0.4504704904485682,
          0.8099235277959423,
          -0.7489858817084645,
          0.9502448003142555,
          0.5875531667765086,
          1.575218737798039,
          0.6355889890230145,
          -0.8433765111948266
         ],
         "xaxis": "x5",
         "y": [
          0.9850713887904406,
          0.9895016294470834,
          0.33522187833194084,
          0.38263555967156293,
          0.3745792917333505,
          -1.429798678593703,
          1.1824612431217312,
          0.626488597539041,
          0.14349191696675895,
          -0.14814614007520954,
          -0.011611341174777376,
          2.12010533548965,
          -0.8772273524296763,
          0.6081160835617304,
          0.16137092972869155,
          -1.0714094098077365,
          -0.24641963527506083,
          -0.06582086200559119,
          -1.0060510964237628,
          -0.10337648868594303,
          -0.37416372381453705,
          0.9355670189990279,
          0.6210186517918276,
          -0.382253315672212,
          1.1502055049032665,
          0.11081971219168177,
          -0.9485281386209676,
          0.3163862184000106,
          -0.3640965591259851,
          0.18310189183405573,
          2.2399820434026694,
          0.639087710690256,
          -0.1398487891852959,
          -0.3925511584810141,
          1.3296265283651694,
          -0.11776415174203159,
          -0.4744386630352112,
          -0.4588922483652321,
          0.7842901351701419,
          -0.7900798468461651,
          -0.3144100924184365,
          0.06904462737971202,
          -0.08165840561428707,
          0.5937850226834473,
          1.6943248142423644,
          -1.4730818763638593,
          1.9149121426011169,
          -0.6981210172827813,
          1.0620220071337512,
          0.3270240144233015,
          0.9983963737189102,
          -1.5820504018948132,
          1.5576377626695666,
          0.6818302184258955,
          0.9581576498185576,
          0.7734938363828401,
          -1.2645145864507532,
          -0.6557307087352567,
          -0.08794658491303368,
          -0.2078210220450748,
          -0.7092534417802636,
          -0.4381431192271822,
          -0.29781816966271807,
          -1.9836917976954034,
          1.7777877374165716,
          0.3218961402254565,
          -2.077586101344516,
          -1.2073343169448907,
          1.7441615296849142,
          0.3048809157280745,
          -0.4907508335554843,
          0.8770109049237509,
          1.4245387717453464,
          1.0661665279074823,
          -0.6339901914933027,
          0.6802602704574408,
          -0.7168654439364791,
          -0.5578302948819142,
          -1.1185457726425359,
          -0.6121908887398874,
          -0.3779897877929932,
          1.4777200034997569,
          -0.19292716976175264,
          0.3574539014170091,
          -0.18544526745879408,
          -1.1466728464685323,
          0.5323503559652332,
          1.099398587877932,
          -2.3408632006156953,
          0.2961022336838603,
          0.34912709976479883,
          0.4803125361409515,
          -0.9275043314294719,
          1.810404002204835,
          -0.8997615818329986,
          -0.8882118828210713,
          0.07222842748511556,
          0.8997473673949757,
          0.12376395341787741,
          -2.1040059015548027
         ],
         "yaxis": "y5"
        },
        {
         "histfunc": "count",
         "histnorm": "",
         "marker": {
          "color": "rgba(55, 128, 191, 1.0)",
          "line": {
           "color": "#4D5663",
           "width": 1.3
          }
         },
         "name": "B",
         "nbinsx": 10,
         "opacity": 0.8,
         "orientation": "v",
         "type": "histogram",
         "x": [
          0.9850713887904406,
          0.9895016294470834,
          0.33522187833194084,
          0.38263555967156293,
          0.3745792917333505,
          -1.429798678593703,
          1.1824612431217312,
          0.626488597539041,
          0.14349191696675895,
          -0.14814614007520954,
          -0.011611341174777376,
          2.12010533548965,
          -0.8772273524296763,
          0.6081160835617304,
          0.16137092972869155,
          -1.0714094098077365,
          -0.24641963527506083,
          -0.06582086200559119,
          -1.0060510964237628,
          -0.10337648868594303,
          -0.37416372381453705,
          0.9355670189990279,
          0.6210186517918276,
          -0.382253315672212,
          1.1502055049032665,
          0.11081971219168177,
          -0.9485281386209676,
          0.3163862184000106,
          -0.3640965591259851,
          0.18310189183405573,
          2.2399820434026694,
          0.639087710690256,
          -0.1398487891852959,
          -0.3925511584810141,
          1.3296265283651694,
          -0.11776415174203159,
          -0.4744386630352112,
          -0.4588922483652321,
          0.7842901351701419,
          -0.7900798468461651,
          -0.3144100924184365,
          0.06904462737971202,
          -0.08165840561428707,
          0.5937850226834473,
          1.6943248142423644,
          -1.4730818763638593,
          1.9149121426011169,
          -0.6981210172827813,
          1.0620220071337512,
          0.3270240144233015,
          0.9983963737189102,
          -1.5820504018948132,
          1.5576377626695666,
          0.6818302184258955,
          0.9581576498185576,
          0.7734938363828401,
          -1.2645145864507532,
          -0.6557307087352567,
          -0.08794658491303368,
          -0.2078210220450748,
          -0.7092534417802636,
          -0.4381431192271822,
          -0.29781816966271807,
          -1.9836917976954034,
          1.7777877374165716,
          0.3218961402254565,
          -2.077586101344516,
          -1.2073343169448907,
          1.7441615296849142,
          0.3048809157280745,
          -0.4907508335554843,
          0.8770109049237509,
          1.4245387717453464,
          1.0661665279074823,
          -0.6339901914933027,
          0.6802602704574408,
          -0.7168654439364791,
          -0.5578302948819142,
          -1.1185457726425359,
          -0.6121908887398874,
          -0.3779897877929932,
          1.4777200034997569,
          -0.19292716976175264,
          0.3574539014170091,
          -0.18544526745879408,
          -1.1466728464685323,
          0.5323503559652332,
          1.099398587877932,
          -2.3408632006156953,
          0.2961022336838603,
          0.34912709976479883,
          0.4803125361409515,
          -0.9275043314294719,
          1.810404002204835,
          -0.8997615818329986,
          -0.8882118828210713,
          0.07222842748511556,
          0.8997473673949757,
          0.12376395341787741,
          -2.1040059015548027
         ],
         "xaxis": "x6",
         "yaxis": "y6"
        },
        {
         "line": {
          "color": "rgba(128, 128, 128, 1.0)",
          "dash": "solid",
          "shape": "linear",
          "width": 1.3
         },
         "marker": {
          "size": 2,
          "symbol": "circle"
         },
         "mode": "markers",
         "name": "B",
         "text": "",
         "type": "scatter",
         "x": [
          1.3624391131495084,
          -0.09446315603746394,
          0.12053743295789382,
          1.1817252377826062,
          0.6475800142644463,
          0.8365164130551516,
          -0.4078180117652873,
          -1.1958213597542948,
          0.40486279121570723,
          0.30592864416212057,
          0.19107544463621579,
          0.693625983370063,
          -0.4795213929104659,
          -1.0445591306189137,
          1.5408861746461362,
          -1.3208667950772104,
          0.6094364132193509,
          -0.04085162955660802,
          -1.1955049542950045,
          -1.2909839067238678,
          -0.18996601563309218,
          -0.3027149219694637,
          -1.5439791351118015,
          0.15460830804329959,
          0.658379885150995,
          0.5165004387560271,
          0.24957975250950862,
          0.0374615654790334,
          -0.5011376297220035,
          -0.6980267142027701,
          1.003819045674507,
          0.5585194029409475,
          -0.6530654144953657,
          1.2989071642014614,
          1.2646838735261166,
          0.5232949932517565,
          -0.6708949079502614,
          -0.927915205881154,
          0.8588928727833726,
          -0.5510976265140255,
          -1.0544854398765824,
          0.38249192826086326,
          -0.265182820267451,
          -1.2334846966610336,
          0.8966353913944343,
          1.1855664845671843,
          2.102330612375204,
          0.8819175112781902,
          0.9484031417715634,
          -1.2951255668253117,
          0.5032418726519972,
          0.3869633350184438,
          2.0393910745438646,
          -0.9133046872020412,
          -1.7446801263689433,
          -0.2368714660544164,
          0.11501744149322286,
          0.9606814835850809,
          -1.0283016300674763,
          -0.20628502526959266,
          1.549434241388962,
          0.7699467943680909,
          1.1577045284955838,
          -0.34241868984657486,
          -0.21732911323454163,
          -0.7639606514748805,
          -0.6982225764961281,
          0.09808374584084899,
          0.07220517620201307,
          0.28388278140747314,
          2.048594502372427,
          -1.8338997526400318,
          1.1579823376966734,
          0.09248369553907014,
          -0.9536254360521329,
          -0.07992099885216111,
          -1.339150308345133,
          -4.248316610590325,
          0.877309688073591,
          1.0774032735018733,
          -1.660165966097154,
          -0.3296052293735431,
          0.7444300470693337,
          -0.28835240383946076,
          1.3209428618408567,
          -1.7226785064983972,
          -1.4546956979417622,
          -1.3569076990715874,
          -0.4591211120108361,
          0.6957975501809467,
          0.18663813416373395,
          0.684558745731199,
          -0.8003535785394227,
          1.4626502325103097,
          0.27341601084813794,
          -1.5470354465064384,
          1.1031551691903023,
          -0.12376385833508523,
          -0.8445403928519083,
          -1.1997622783239204
         ],
         "xaxis": "x7",
         "y": [
          0.9850713887904406,
          0.9895016294470834,
          0.33522187833194084,
          0.38263555967156293,
          0.3745792917333505,
          -1.429798678593703,
          1.1824612431217312,
          0.626488597539041,
          0.14349191696675895,
          -0.14814614007520954,
          -0.011611341174777376,
          2.12010533548965,
          -0.8772273524296763,
          0.6081160835617304,
          0.16137092972869155,
          -1.0714094098077365,
          -0.24641963527506083,
          -0.06582086200559119,
          -1.0060510964237628,
          -0.10337648868594303,
          -0.37416372381453705,
          0.9355670189990279,
          0.6210186517918276,
          -0.382253315672212,
          1.1502055049032665,
          0.11081971219168177,
          -0.9485281386209676,
          0.3163862184000106,
          -0.3640965591259851,
          0.18310189183405573,
          2.2399820434026694,
          0.639087710690256,
          -0.1398487891852959,
          -0.3925511584810141,
          1.3296265283651694,
          -0.11776415174203159,
          -0.4744386630352112,
          -0.4588922483652321,
          0.7842901351701419,
          -0.7900798468461651,
          -0.3144100924184365,
          0.06904462737971202,
          -0.08165840561428707,
          0.5937850226834473,
          1.6943248142423644,
          -1.4730818763638593,
          1.9149121426011169,
          -0.6981210172827813,
          1.0620220071337512,
          0.3270240144233015,
          0.9983963737189102,
          -1.5820504018948132,
          1.5576377626695666,
          0.6818302184258955,
          0.9581576498185576,
          0.7734938363828401,
          -1.2645145864507532,
          -0.6557307087352567,
          -0.08794658491303368,
          -0.2078210220450748,
          -0.7092534417802636,
          -0.4381431192271822,
          -0.29781816966271807,
          -1.9836917976954034,
          1.7777877374165716,
          0.3218961402254565,
          -2.077586101344516,
          -1.2073343169448907,
          1.7441615296849142,
          0.3048809157280745,
          -0.4907508335554843,
          0.8770109049237509,
          1.4245387717453464,
          1.0661665279074823,
          -0.6339901914933027,
          0.6802602704574408,
          -0.7168654439364791,
          -0.5578302948819142,
          -1.1185457726425359,
          -0.6121908887398874,
          -0.3779897877929932,
          1.4777200034997569,
          -0.19292716976175264,
          0.3574539014170091,
          -0.18544526745879408,
          -1.1466728464685323,
          0.5323503559652332,
          1.099398587877932,
          -2.3408632006156953,
          0.2961022336838603,
          0.34912709976479883,
          0.4803125361409515,
          -0.9275043314294719,
          1.810404002204835,
          -0.8997615818329986,
          -0.8882118828210713,
          0.07222842748511556,
          0.8997473673949757,
          0.12376395341787741,
          -2.1040059015548027
         ],
         "yaxis": "y7"
        },
        {
         "line": {
          "color": "rgba(128, 128, 128, 1.0)",
          "dash": "solid",
          "shape": "linear",
          "width": 1.3
         },
         "marker": {
          "size": 2,
          "symbol": "circle"
         },
         "mode": "markers",
         "name": "B",
         "text": "",
         "type": "scatter",
         "x": [
          0.4508128924895635,
          0.04215376366990217,
          -1.0518703849568212,
          0.3500266469736823,
          0.20580261077350961,
          1.754896843152072,
          2.6429833117351147,
          -0.8642797610580246,
          -0.41582297549411373,
          -2.042660108926624,
          2.433411389040133,
          0.04535365358034176,
          -0.029792164141180695,
          0.09932599146605318,
          -0.36469484458203194,
          -0.014842401964342685,
          0.7162484120775321,
          -0.21961157381040466,
          -0.1993741741945207,
          0.23618296330368907,
          -1.0988480324183805,
          -1.1914519954196043,
          1.626157398674772,
          0.6014805018574845,
          -0.28299033172737736,
          0.20369756450508605,
          -1.3892156923525512,
          -4.194659972602769,
          -0.2576579263997152,
          0.18060191245340587,
          1.007979796275341,
          2.8548811976149677,
          -1.2989409444905182,
          1.7539133867387662,
          0.6355116643849393,
          -0.8877889204443272,
          0.2632211548259389,
          -2.1995470109944844,
          0.10508899178899203,
          0.023440149037699982,
          -0.7425340360296323,
          0.5135110343053352,
          1.0469222376987855,
          0.334179083908498,
          -0.6732049555684151,
          1.920255314155447,
          0.31474455194034795,
          -1.2532405006469192,
          -0.1782867341660852,
          -0.2612236675518501,
          0.08529428865256748,
          0.8859081746666121,
          -1.0395821361778677,
          -1.1188438311720794,
          1.5062784783110792,
          0.5645111723215555,
          1.5574015777784491,
          0.9343818985603018,
          1.2748663294021338,
          0.19879888180871147,
          -0.5414272117544923,
          0.39304960399247185,
          -0.9247493404146402,
          0.42558068308709135,
          -0.24056252548192844,
          -0.019922997486305462,
          -0.6719566946713905,
          -0.27653060364317744,
          0.8027553461951863,
          0.27219153335231094,
          -0.5813309657966865,
          0.5436017784492733,
          0.37242807990780813,
          -1.0329950228586733,
          -1.395061469594945,
          -0.11127250730929014,
          1.455724989900488,
          -1.7520381668036558,
          -0.7413967616142342,
          0.8162950883053584,
          -0.38201837863016125,
          -0.4575423670048262,
          -0.4643247842979483,
          -0.20121589003332105,
          -0.49942386266143535,
          -0.5379565189422676,
          -1.5637105321302363,
          0.4845066972715467,
          -1.4458852188723432,
          -0.17788830278383255,
          0.6521404141377812,
          0.1210782204443573,
          0.5994269475041096,
          -0.48866354384002325,
          -1.8744915866299037,
          -0.4459372624232242,
          -0.24734394526561712,
          0.6108673765982904,
          -0.6112625793654177,
          -1.5686529059756902
         ],
         "xaxis": "x8",
         "y": [
          0.9850713887904406,
          0.9895016294470834,
          0.33522187833194084,
          0.38263555967156293,
          0.3745792917333505,
          -1.429798678593703,
          1.1824612431217312,
          0.626488597539041,
          0.14349191696675895,
          -0.14814614007520954,
          -0.011611341174777376,
          2.12010533548965,
          -0.8772273524296763,
          0.6081160835617304,
          0.16137092972869155,
          -1.0714094098077365,
          -0.24641963527506083,
          -0.06582086200559119,
          -1.0060510964237628,
          -0.10337648868594303,
          -0.37416372381453705,
          0.9355670189990279,
          0.6210186517918276,
          -0.382253315672212,
          1.1502055049032665,
          0.11081971219168177,
          -0.9485281386209676,
          0.3163862184000106,
          -0.3640965591259851,
          0.18310189183405573,
          2.2399820434026694,
          0.639087710690256,
          -0.1398487891852959,
          -0.3925511584810141,
          1.3296265283651694,
          -0.11776415174203159,
          -0.4744386630352112,
          -0.4588922483652321,
          0.7842901351701419,
          -0.7900798468461651,
          -0.3144100924184365,
          0.06904462737971202,
          -0.08165840561428707,
          0.5937850226834473,
          1.6943248142423644,
          -1.4730818763638593,
          1.9149121426011169,
          -0.6981210172827813,
          1.0620220071337512,
          0.3270240144233015,
          0.9983963737189102,
          -1.5820504018948132,
          1.5576377626695666,
          0.6818302184258955,
          0.9581576498185576,
          0.7734938363828401,
          -1.2645145864507532,
          -0.6557307087352567,
          -0.08794658491303368,
          -0.2078210220450748,
          -0.7092534417802636,
          -0.4381431192271822,
          -0.29781816966271807,
          -1.9836917976954034,
          1.7777877374165716,
          0.3218961402254565,
          -2.077586101344516,
          -1.2073343169448907,
          1.7441615296849142,
          0.3048809157280745,
          -0.4907508335554843,
          0.8770109049237509,
          1.4245387717453464,
          1.0661665279074823,
          -0.6339901914933027,
          0.6802602704574408,
          -0.7168654439364791,
          -0.5578302948819142,
          -1.1185457726425359,
          -0.6121908887398874,
          -0.3779897877929932,
          1.4777200034997569,
          -0.19292716976175264,
          0.3574539014170091,
          -0.18544526745879408,
          -1.1466728464685323,
          0.5323503559652332,
          1.099398587877932,
          -2.3408632006156953,
          0.2961022336838603,
          0.34912709976479883,
          0.4803125361409515,
          -0.9275043314294719,
          1.810404002204835,
          -0.8997615818329986,
          -0.8882118828210713,
          0.07222842748511556,
          0.8997473673949757,
          0.12376395341787741,
          -2.1040059015548027
         ],
         "yaxis": "y8"
        },
        {
         "line": {
          "color": "rgba(128, 128, 128, 1.0)",
          "dash": "solid",
          "shape": "linear",
          "width": 1.3
         },
         "marker": {
          "size": 2,
          "symbol": "circle"
         },
         "mode": "markers",
         "name": "C",
         "text": "",
         "type": "scatter",
         "x": [
          0.37597005318765364,
          -0.9048495718966237,
          0.8579565711447589,
          0.5400822133171609,
          -1.3077258733358614,
          -0.5342628034790948,
          -0.4453140991222401,
          1.9149519217568853,
          -0.4298784428599787,
          -1.7408278622364468,
          0.08984730403796322,
          -0.7220639924502646,
          -0.661782077365756,
          -1.9313280548361829,
          1.0995235869258424,
          -2.2416909234475497,
          1.6556238846323768,
          0.4881773567676999,
          -0.24661995472311352,
          -1.0888515437052844,
          -0.3800838112965957,
          1.076085654409655,
          -1.6593557461777635,
          0.21297961644533725,
          -1.5805191546265278,
          -1.618813240069065,
          0.04667537628522792,
          -0.3292224638769374,
          -1.1251094929123244,
          0.4090802971009559,
          -1.3057982878541903,
          0.4551469096035381,
          -0.06954108892814388,
          1.2405533050281512,
          -1.2173275922137747,
          1.65140906115177,
          -0.049881944271718826,
          0.38147990711103064,
          -1.0977982075374673,
          -0.8695743896417516,
          -1.1401255024732972,
          -0.1858666165578455,
          0.49689378953900226,
          -1.7204814086558124,
          1.3439359237959083,
          0.4609679198043368,
          0.8667683379824784,
          0.532690330525514,
          0.95150358077794,
          1.250685572340651,
          -0.26943495020421604,
          0.09722637026800443,
          0.4088197644876183,
          0.39448931245833757,
          1.524689421116744,
          0.6826810268566323,
          -1.6830237912206034,
          0.6318572757177054,
          0.2712253471184101,
          0.5970364658727937,
          0.7659094762271283,
          0.1096216186670033,
          -0.9596009180692899,
          -0.27623561082193904,
          -0.2579137767261097,
          -1.5159322047196007,
          0.26460532519337004,
          -0.7291898945221118,
          0.41642299592662535,
          0.6316260731687413,
          0.26153263868151694,
          -1.0468931473485552,
          1.908267957100243,
          1.0344822555487396,
          -1.5724801942537763,
          0.3569898615943052,
          -0.5466895707445805,
          2.0376888472931776,
          0.3144215127715293,
          0.5138467978812578,
          1.819754268505688,
          0.36849994498834077,
          -0.15873092607185396,
          -1.0049529009052667,
          0.09150725192149144,
          0.5764277982327448,
          -1.4916678031268555,
          0.6889429161353486,
          -1.5340180898299038,
          -0.5535547871389617,
          0.8371221944612994,
          1.511812318129234,
          0.4504704904485682,
          0.8099235277959423,
          -0.7489858817084645,
          0.9502448003142555,
          0.5875531667765086,
          1.575218737798039,
          0.6355889890230145,
          -0.8433765111948266
         ],
         "xaxis": "x9",
         "y": [
          1.3624391131495084,
          -0.09446315603746394,
          0.12053743295789382,
          1.1817252377826062,
          0.6475800142644463,
          0.8365164130551516,
          -0.4078180117652873,
          -1.1958213597542948,
          0.40486279121570723,
          0.30592864416212057,
          0.19107544463621579,
          0.693625983370063,
          -0.4795213929104659,
          -1.0445591306189137,
          1.5408861746461362,
          -1.3208667950772104,
          0.6094364132193509,
          -0.04085162955660802,
          -1.1955049542950045,
          -1.2909839067238678,
          -0.18996601563309218,
          -0.3027149219694637,
          -1.5439791351118015,
          0.15460830804329959,
          0.658379885150995,
          0.5165004387560271,
          0.24957975250950862,
          0.0374615654790334,
          -0.5011376297220035,
          -0.6980267142027701,
          1.003819045674507,
          0.5585194029409475,
          -0.6530654144953657,
          1.2989071642014614,
          1.2646838735261166,
          0.5232949932517565,
          -0.6708949079502614,
          -0.927915205881154,
          0.8588928727833726,
          -0.5510976265140255,
          -1.0544854398765824,
          0.38249192826086326,
          -0.265182820267451,
          -1.2334846966610336,
          0.8966353913944343,
          1.1855664845671843,
          2.102330612375204,
          0.8819175112781902,
          0.9484031417715634,
          -1.2951255668253117,
          0.5032418726519972,
          0.3869633350184438,
          2.0393910745438646,
          -0.9133046872020412,
          -1.7446801263689433,
          -0.2368714660544164,
          0.11501744149322286,
          0.9606814835850809,
          -1.0283016300674763,
          -0.20628502526959266,
          1.549434241388962,
          0.7699467943680909,
          1.1577045284955838,
          -0.34241868984657486,
          -0.21732911323454163,
          -0.7639606514748805,
          -0.6982225764961281,
          0.09808374584084899,
          0.07220517620201307,
          0.28388278140747314,
          2.048594502372427,
          -1.8338997526400318,
          1.1579823376966734,
          0.09248369553907014,
          -0.9536254360521329,
          -0.07992099885216111,
          -1.339150308345133,
          -4.248316610590325,
          0.877309688073591,
          1.0774032735018733,
          -1.660165966097154,
          -0.3296052293735431,
          0.7444300470693337,
          -0.28835240383946076,
          1.3209428618408567,
          -1.7226785064983972,
          -1.4546956979417622,
          -1.3569076990715874,
          -0.4591211120108361,
          0.6957975501809467,
          0.18663813416373395,
          0.684558745731199,
          -0.8003535785394227,
          1.4626502325103097,
          0.27341601084813794,
          -1.5470354465064384,
          1.1031551691903023,
          -0.12376385833508523,
          -0.8445403928519083,
          -1.1997622783239204
         ],
         "yaxis": "y9"
        },
        {
         "line": {
          "color": "rgba(128, 128, 128, 1.0)",
          "dash": "solid",
          "shape": "linear",
          "width": 1.3
         },
         "marker": {
          "size": 2,
          "symbol": "circle"
         },
         "mode": "markers",
         "name": "C",
         "text": "",
         "type": "scatter",
         "x": [
          0.9850713887904406,
          0.9895016294470834,
          0.33522187833194084,
          0.38263555967156293,
          0.3745792917333505,
          -1.429798678593703,
          1.1824612431217312,
          0.626488597539041,
          0.14349191696675895,
          -0.14814614007520954,
          -0.011611341174777376,
          2.12010533548965,
          -0.8772273524296763,
          0.6081160835617304,
          0.16137092972869155,
          -1.0714094098077365,
          -0.24641963527506083,
          -0.06582086200559119,
          -1.0060510964237628,
          -0.10337648868594303,
          -0.37416372381453705,
          0.9355670189990279,
          0.6210186517918276,
          -0.382253315672212,
          1.1502055049032665,
          0.11081971219168177,
          -0.9485281386209676,
          0.3163862184000106,
          -0.3640965591259851,
          0.18310189183405573,
          2.2399820434026694,
          0.639087710690256,
          -0.1398487891852959,
          -0.3925511584810141,
          1.3296265283651694,
          -0.11776415174203159,
          -0.4744386630352112,
          -0.4588922483652321,
          0.7842901351701419,
          -0.7900798468461651,
          -0.3144100924184365,
          0.06904462737971202,
          -0.08165840561428707,
          0.5937850226834473,
          1.6943248142423644,
          -1.4730818763638593,
          1.9149121426011169,
          -0.6981210172827813,
          1.0620220071337512,
          0.3270240144233015,
          0.9983963737189102,
          -1.5820504018948132,
          1.5576377626695666,
          0.6818302184258955,
          0.9581576498185576,
          0.7734938363828401,
          -1.2645145864507532,
          -0.6557307087352567,
          -0.08794658491303368,
          -0.2078210220450748,
          -0.7092534417802636,
          -0.4381431192271822,
          -0.29781816966271807,
          -1.9836917976954034,
          1.7777877374165716,
          0.3218961402254565,
          -2.077586101344516,
          -1.2073343169448907,
          1.7441615296849142,
          0.3048809157280745,
          -0.4907508335554843,
          0.8770109049237509,
          1.4245387717453464,
          1.0661665279074823,
          -0.6339901914933027,
          0.6802602704574408,
          -0.7168654439364791,
          -0.5578302948819142,
          -1.1185457726425359,
          -0.6121908887398874,
          -0.3779897877929932,
          1.4777200034997569,
          -0.19292716976175264,
          0.3574539014170091,
          -0.18544526745879408,
          -1.1466728464685323,
          0.5323503559652332,
          1.099398587877932,
          -2.3408632006156953,
          0.2961022336838603,
          0.34912709976479883,
          0.4803125361409515,
          -0.9275043314294719,
          1.810404002204835,
          -0.8997615818329986,
          -0.8882118828210713,
          0.07222842748511556,
          0.8997473673949757,
          0.12376395341787741,
          -2.1040059015548027
         ],
         "xaxis": "x10",
         "y": [
          1.3624391131495084,
          -0.09446315603746394,
          0.12053743295789382,
          1.1817252377826062,
          0.6475800142644463,
          0.8365164130551516,
          -0.4078180117652873,
          -1.1958213597542948,
          0.40486279121570723,
          0.30592864416212057,
          0.19107544463621579,
          0.693625983370063,
          -0.4795213929104659,
          -1.0445591306189137,
          1.5408861746461362,
          -1.3208667950772104,
          0.6094364132193509,
          -0.04085162955660802,
          -1.1955049542950045,
          -1.2909839067238678,
          -0.18996601563309218,
          -0.3027149219694637,
          -1.5439791351118015,
          0.15460830804329959,
          0.658379885150995,
          0.5165004387560271,
          0.24957975250950862,
          0.0374615654790334,
          -0.5011376297220035,
          -0.6980267142027701,
          1.003819045674507,
          0.5585194029409475,
          -0.6530654144953657,
          1.2989071642014614,
          1.2646838735261166,
          0.5232949932517565,
          -0.6708949079502614,
          -0.927915205881154,
          0.8588928727833726,
          -0.5510976265140255,
          -1.0544854398765824,
          0.38249192826086326,
          -0.265182820267451,
          -1.2334846966610336,
          0.8966353913944343,
          1.1855664845671843,
          2.102330612375204,
          0.8819175112781902,
          0.9484031417715634,
          -1.2951255668253117,
          0.5032418726519972,
          0.3869633350184438,
          2.0393910745438646,
          -0.9133046872020412,
          -1.7446801263689433,
          -0.2368714660544164,
          0.11501744149322286,
          0.9606814835850809,
          -1.0283016300674763,
          -0.20628502526959266,
          1.549434241388962,
          0.7699467943680909,
          1.1577045284955838,
          -0.34241868984657486,
          -0.21732911323454163,
          -0.7639606514748805,
          -0.6982225764961281,
          0.09808374584084899,
          0.07220517620201307,
          0.28388278140747314,
          2.048594502372427,
          -1.8338997526400318,
          1.1579823376966734,
          0.09248369553907014,
          -0.9536254360521329,
          -0.07992099885216111,
          -1.339150308345133,
          -4.248316610590325,
          0.877309688073591,
          1.0774032735018733,
          -1.660165966097154,
          -0.3296052293735431,
          0.7444300470693337,
          -0.28835240383946076,
          1.3209428618408567,
          -1.7226785064983972,
          -1.4546956979417622,
          -1.3569076990715874,
          -0.4591211120108361,
          0.6957975501809467,
          0.18663813416373395,
          0.684558745731199,
          -0.8003535785394227,
          1.4626502325103097,
          0.27341601084813794,
          -1.5470354465064384,
          1.1031551691903023,
          -0.12376385833508523,
          -0.8445403928519083,
          -1.1997622783239204
         ],
         "yaxis": "y10"
        },
        {
         "histfunc": "count",
         "histnorm": "",
         "marker": {
          "color": "rgba(50, 171, 96, 1.0)",
          "line": {
           "color": "#4D5663",
           "width": 1.3
          }
         },
         "name": "C",
         "nbinsx": 10,
         "opacity": 0.8,
         "orientation": "v",
         "type": "histogram",
         "x": [
          1.3624391131495084,
          -0.09446315603746394,
          0.12053743295789382,
          1.1817252377826062,
          0.6475800142644463,
          0.8365164130551516,
          -0.4078180117652873,
          -1.1958213597542948,
          0.40486279121570723,
          0.30592864416212057,
          0.19107544463621579,
          0.693625983370063,
          -0.4795213929104659,
          -1.0445591306189137,
          1.5408861746461362,
          -1.3208667950772104,
          0.6094364132193509,
          -0.04085162955660802,
          -1.1955049542950045,
          -1.2909839067238678,
          -0.18996601563309218,
          -0.3027149219694637,
          -1.5439791351118015,
          0.15460830804329959,
          0.658379885150995,
          0.5165004387560271,
          0.24957975250950862,
          0.0374615654790334,
          -0.5011376297220035,
          -0.6980267142027701,
          1.003819045674507,
          0.5585194029409475,
          -0.6530654144953657,
          1.2989071642014614,
          1.2646838735261166,
          0.5232949932517565,
          -0.6708949079502614,
          -0.927915205881154,
          0.8588928727833726,
          -0.5510976265140255,
          -1.0544854398765824,
          0.38249192826086326,
          -0.265182820267451,
          -1.2334846966610336,
          0.8966353913944343,
          1.1855664845671843,
          2.102330612375204,
          0.8819175112781902,
          0.9484031417715634,
          -1.2951255668253117,
          0.5032418726519972,
          0.3869633350184438,
          2.0393910745438646,
          -0.9133046872020412,
          -1.7446801263689433,
          -0.2368714660544164,
          0.11501744149322286,
          0.9606814835850809,
          -1.0283016300674763,
          -0.20628502526959266,
          1.549434241388962,
          0.7699467943680909,
          1.1577045284955838,
          -0.34241868984657486,
          -0.21732911323454163,
          -0.7639606514748805,
          -0.6982225764961281,
          0.09808374584084899,
          0.07220517620201307,
          0.28388278140747314,
          2.048594502372427,
          -1.8338997526400318,
          1.1579823376966734,
          0.09248369553907014,
          -0.9536254360521329,
          -0.07992099885216111,
          -1.339150308345133,
          -4.248316610590325,
          0.877309688073591,
          1.0774032735018733,
          -1.660165966097154,
          -0.3296052293735431,
          0.7444300470693337,
          -0.28835240383946076,
          1.3209428618408567,
          -1.7226785064983972,
          -1.4546956979417622,
          -1.3569076990715874,
          -0.4591211120108361,
          0.6957975501809467,
          0.18663813416373395,
          0.684558745731199,
          -0.8003535785394227,
          1.4626502325103097,
          0.27341601084813794,
          -1.5470354465064384,
          1.1031551691903023,
          -0.12376385833508523,
          -0.8445403928519083,
          -1.1997622783239204
         ],
         "xaxis": "x11",
         "yaxis": "y11"
        },
        {
         "line": {
          "color": "rgba(128, 128, 128, 1.0)",
          "dash": "solid",
          "shape": "linear",
          "width": 1.3
         },
         "marker": {
          "size": 2,
          "symbol": "circle"
         },
         "mode": "markers",
         "name": "C",
         "text": "",
         "type": "scatter",
         "x": [
          0.4508128924895635,
          0.04215376366990217,
          -1.0518703849568212,
          0.3500266469736823,
          0.20580261077350961,
          1.754896843152072,
          2.6429833117351147,
          -0.8642797610580246,
          -0.41582297549411373,
          -2.042660108926624,
          2.433411389040133,
          0.04535365358034176,
          -0.029792164141180695,
          0.09932599146605318,
          -0.36469484458203194,
          -0.014842401964342685,
          0.7162484120775321,
          -0.21961157381040466,
          -0.1993741741945207,
          0.23618296330368907,
          -1.0988480324183805,
          -1.1914519954196043,
          1.626157398674772,
          0.6014805018574845,
          -0.28299033172737736,
          0.20369756450508605,
          -1.3892156923525512,
          -4.194659972602769,
          -0.2576579263997152,
          0.18060191245340587,
          1.007979796275341,
          2.8548811976149677,
          -1.2989409444905182,
          1.7539133867387662,
          0.6355116643849393,
          -0.8877889204443272,
          0.2632211548259389,
          -2.1995470109944844,
          0.10508899178899203,
          0.023440149037699982,
          -0.7425340360296323,
          0.5135110343053352,
          1.0469222376987855,
          0.334179083908498,
          -0.6732049555684151,
          1.920255314155447,
          0.31474455194034795,
          -1.2532405006469192,
          -0.1782867341660852,
          -0.2612236675518501,
          0.08529428865256748,
          0.8859081746666121,
          -1.0395821361778677,
          -1.1188438311720794,
          1.5062784783110792,
          0.5645111723215555,
          1.5574015777784491,
          0.9343818985603018,
          1.2748663294021338,
          0.19879888180871147,
          -0.5414272117544923,
          0.39304960399247185,
          -0.9247493404146402,
          0.42558068308709135,
          -0.24056252548192844,
          -0.019922997486305462,
          -0.6719566946713905,
          -0.27653060364317744,
          0.8027553461951863,
          0.27219153335231094,
          -0.5813309657966865,
          0.5436017784492733,
          0.37242807990780813,
          -1.0329950228586733,
          -1.395061469594945,
          -0.11127250730929014,
          1.455724989900488,
          -1.7520381668036558,
          -0.7413967616142342,
          0.8162950883053584,
          -0.38201837863016125,
          -0.4575423670048262,
          -0.4643247842979483,
          -0.20121589003332105,
          -0.49942386266143535,
          -0.5379565189422676,
          -1.5637105321302363,
          0.4845066972715467,
          -1.4458852188723432,
          -0.17788830278383255,
          0.6521404141377812,
          0.1210782204443573,
          0.5994269475041096,
          -0.48866354384002325,
          -1.8744915866299037,
          -0.4459372624232242,
          -0.24734394526561712,
          0.6108673765982904,
          -0.6112625793654177,
          -1.5686529059756902
         ],
         "xaxis": "x12",
         "y": [
          1.3624391131495084,
          -0.09446315603746394,
          0.12053743295789382,
          1.1817252377826062,
          0.6475800142644463,
          0.8365164130551516,
          -0.4078180117652873,
          -1.1958213597542948,
          0.40486279121570723,
          0.30592864416212057,
          0.19107544463621579,
          0.693625983370063,
          -0.4795213929104659,
          -1.0445591306189137,
          1.5408861746461362,
          -1.3208667950772104,
          0.6094364132193509,
          -0.04085162955660802,
          -1.1955049542950045,
          -1.2909839067238678,
          -0.18996601563309218,
          -0.3027149219694637,
          -1.5439791351118015,
          0.15460830804329959,
          0.658379885150995,
          0.5165004387560271,
          0.24957975250950862,
          0.0374615654790334,
          -0.5011376297220035,
          -0.6980267142027701,
          1.003819045674507,
          0.5585194029409475,
          -0.6530654144953657,
          1.2989071642014614,
          1.2646838735261166,
          0.5232949932517565,
          -0.6708949079502614,
          -0.927915205881154,
          0.8588928727833726,
          -0.5510976265140255,
          -1.0544854398765824,
          0.38249192826086326,
          -0.265182820267451,
          -1.2334846966610336,
          0.8966353913944343,
          1.1855664845671843,
          2.102330612375204,
          0.8819175112781902,
          0.9484031417715634,
          -1.2951255668253117,
          0.5032418726519972,
          0.3869633350184438,
          2.0393910745438646,
          -0.9133046872020412,
          -1.7446801263689433,
          -0.2368714660544164,
          0.11501744149322286,
          0.9606814835850809,
          -1.0283016300674763,
          -0.20628502526959266,
          1.549434241388962,
          0.7699467943680909,
          1.1577045284955838,
          -0.34241868984657486,
          -0.21732911323454163,
          -0.7639606514748805,
          -0.6982225764961281,
          0.09808374584084899,
          0.07220517620201307,
          0.28388278140747314,
          2.048594502372427,
          -1.8338997526400318,
          1.1579823376966734,
          0.09248369553907014,
          -0.9536254360521329,
          -0.07992099885216111,
          -1.339150308345133,
          -4.248316610590325,
          0.877309688073591,
          1.0774032735018733,
          -1.660165966097154,
          -0.3296052293735431,
          0.7444300470693337,
          -0.28835240383946076,
          1.3209428618408567,
          -1.7226785064983972,
          -1.4546956979417622,
          -1.3569076990715874,
          -0.4591211120108361,
          0.6957975501809467,
          0.18663813416373395,
          0.684558745731199,
          -0.8003535785394227,
          1.4626502325103097,
          0.27341601084813794,
          -1.5470354465064384,
          1.1031551691903023,
          -0.12376385833508523,
          -0.8445403928519083,
          -1.1997622783239204
         ],
         "yaxis": "y12"
        },
        {
         "line": {
          "color": "rgba(128, 128, 128, 1.0)",
          "dash": "solid",
          "shape": "linear",
          "width": 1.3
         },
         "marker": {
          "size": 2,
          "symbol": "circle"
         },
         "mode": "markers",
         "name": "D",
         "text": "",
         "type": "scatter",
         "x": [
          0.37597005318765364,
          -0.9048495718966237,
          0.8579565711447589,
          0.5400822133171609,
          -1.3077258733358614,
          -0.5342628034790948,
          -0.4453140991222401,
          1.9149519217568853,
          -0.4298784428599787,
          -1.7408278622364468,
          0.08984730403796322,
          -0.7220639924502646,
          -0.661782077365756,
          -1.9313280548361829,
          1.0995235869258424,
          -2.2416909234475497,
          1.6556238846323768,
          0.4881773567676999,
          -0.24661995472311352,
          -1.0888515437052844,
          -0.3800838112965957,
          1.076085654409655,
          -1.6593557461777635,
          0.21297961644533725,
          -1.5805191546265278,
          -1.618813240069065,
          0.04667537628522792,
          -0.3292224638769374,
          -1.1251094929123244,
          0.4090802971009559,
          -1.3057982878541903,
          0.4551469096035381,
          -0.06954108892814388,
          1.2405533050281512,
          -1.2173275922137747,
          1.65140906115177,
          -0.049881944271718826,
          0.38147990711103064,
          -1.0977982075374673,
          -0.8695743896417516,
          -1.1401255024732972,
          -0.1858666165578455,
          0.49689378953900226,
          -1.7204814086558124,
          1.3439359237959083,
          0.4609679198043368,
          0.8667683379824784,
          0.532690330525514,
          0.95150358077794,
          1.250685572340651,
          -0.26943495020421604,
          0.09722637026800443,
          0.4088197644876183,
          0.39448931245833757,
          1.524689421116744,
          0.6826810268566323,
          -1.6830237912206034,
          0.6318572757177054,
          0.2712253471184101,
          0.5970364658727937,
          0.7659094762271283,
          0.1096216186670033,
          -0.9596009180692899,
          -0.27623561082193904,
          -0.2579137767261097,
          -1.5159322047196007,
          0.26460532519337004,
          -0.7291898945221118,
          0.41642299592662535,
          0.6316260731687413,
          0.26153263868151694,
          -1.0468931473485552,
          1.908267957100243,
          1.0344822555487396,
          -1.5724801942537763,
          0.3569898615943052,
          -0.5466895707445805,
          2.0376888472931776,
          0.3144215127715293,
          0.5138467978812578,
          1.819754268505688,
          0.36849994498834077,
          -0.15873092607185396,
          -1.0049529009052667,
          0.09150725192149144,
          0.5764277982327448,
          -1.4916678031268555,
          0.6889429161353486,
          -1.5340180898299038,
          -0.5535547871389617,
          0.8371221944612994,
          1.511812318129234,
          0.4504704904485682,
          0.8099235277959423,
          -0.7489858817084645,
          0.9502448003142555,
          0.5875531667765086,
          1.575218737798039,
          0.6355889890230145,
          -0.8433765111948266
         ],
         "xaxis": "x13",
         "y": [
          0.4508128924895635,
          0.04215376366990217,
          -1.0518703849568212,
          0.3500266469736823,
          0.20580261077350961,
          1.754896843152072,
          2.6429833117351147,
          -0.8642797610580246,
          -0.41582297549411373,
          -2.042660108926624,
          2.433411389040133,
          0.04535365358034176,
          -0.029792164141180695,
          0.09932599146605318,
          -0.36469484458203194,
          -0.014842401964342685,
          0.7162484120775321,
          -0.21961157381040466,
          -0.1993741741945207,
          0.23618296330368907,
          -1.0988480324183805,
          -1.1914519954196043,
          1.626157398674772,
          0.6014805018574845,
          -0.28299033172737736,
          0.20369756450508605,
          -1.3892156923525512,
          -4.194659972602769,
          -0.2576579263997152,
          0.18060191245340587,
          1.007979796275341,
          2.8548811976149677,
          -1.2989409444905182,
          1.7539133867387662,
          0.6355116643849393,
          -0.8877889204443272,
          0.2632211548259389,
          -2.1995470109944844,
          0.10508899178899203,
          0.023440149037699982,
          -0.7425340360296323,
          0.5135110343053352,
          1.0469222376987855,
          0.334179083908498,
          -0.6732049555684151,
          1.920255314155447,
          0.31474455194034795,
          -1.2532405006469192,
          -0.1782867341660852,
          -0.2612236675518501,
          0.08529428865256748,
          0.8859081746666121,
          -1.0395821361778677,
          -1.1188438311720794,
          1.5062784783110792,
          0.5645111723215555,
          1.5574015777784491,
          0.9343818985603018,
          1.2748663294021338,
          0.19879888180871147,
          -0.5414272117544923,
          0.39304960399247185,
          -0.9247493404146402,
          0.42558068308709135,
          -0.24056252548192844,
          -0.019922997486305462,
          -0.6719566946713905,
          -0.27653060364317744,
          0.8027553461951863,
          0.27219153335231094,
          -0.5813309657966865,
          0.5436017784492733,
          0.37242807990780813,
          -1.0329950228586733,
          -1.395061469594945,
          -0.11127250730929014,
          1.455724989900488,
          -1.7520381668036558,
          -0.7413967616142342,
          0.8162950883053584,
          -0.38201837863016125,
          -0.4575423670048262,
          -0.4643247842979483,
          -0.20121589003332105,
          -0.49942386266143535,
          -0.5379565189422676,
          -1.5637105321302363,
          0.4845066972715467,
          -1.4458852188723432,
          -0.17788830278383255,
          0.6521404141377812,
          0.1210782204443573,
          0.5994269475041096,
          -0.48866354384002325,
          -1.8744915866299037,
          -0.4459372624232242,
          -0.24734394526561712,
          0.6108673765982904,
          -0.6112625793654177,
          -1.5686529059756902
         ],
         "yaxis": "y13"
        },
        {
         "line": {
          "color": "rgba(128, 128, 128, 1.0)",
          "dash": "solid",
          "shape": "linear",
          "width": 1.3
         },
         "marker": {
          "size": 2,
          "symbol": "circle"
         },
         "mode": "markers",
         "name": "D",
         "text": "",
         "type": "scatter",
         "x": [
          0.9850713887904406,
          0.9895016294470834,
          0.33522187833194084,
          0.38263555967156293,
          0.3745792917333505,
          -1.429798678593703,
          1.1824612431217312,
          0.626488597539041,
          0.14349191696675895,
          -0.14814614007520954,
          -0.011611341174777376,
          2.12010533548965,
          -0.8772273524296763,
          0.6081160835617304,
          0.16137092972869155,
          -1.0714094098077365,
          -0.24641963527506083,
          -0.06582086200559119,
          -1.0060510964237628,
          -0.10337648868594303,
          -0.37416372381453705,
          0.9355670189990279,
          0.6210186517918276,
          -0.382253315672212,
          1.1502055049032665,
          0.11081971219168177,
          -0.9485281386209676,
          0.3163862184000106,
          -0.3640965591259851,
          0.18310189183405573,
          2.2399820434026694,
          0.639087710690256,
          -0.1398487891852959,
          -0.3925511584810141,
          1.3296265283651694,
          -0.11776415174203159,
          -0.4744386630352112,
          -0.4588922483652321,
          0.7842901351701419,
          -0.7900798468461651,
          -0.3144100924184365,
          0.06904462737971202,
          -0.08165840561428707,
          0.5937850226834473,
          1.6943248142423644,
          -1.4730818763638593,
          1.9149121426011169,
          -0.6981210172827813,
          1.0620220071337512,
          0.3270240144233015,
          0.9983963737189102,
          -1.5820504018948132,
          1.5576377626695666,
          0.6818302184258955,
          0.9581576498185576,
          0.7734938363828401,
          -1.2645145864507532,
          -0.6557307087352567,
          -0.08794658491303368,
          -0.2078210220450748,
          -0.7092534417802636,
          -0.4381431192271822,
          -0.29781816966271807,
          -1.9836917976954034,
          1.7777877374165716,
          0.3218961402254565,
          -2.077586101344516,
          -1.2073343169448907,
          1.7441615296849142,
          0.3048809157280745,
          -0.4907508335554843,
          0.8770109049237509,
          1.4245387717453464,
          1.0661665279074823,
          -0.6339901914933027,
          0.6802602704574408,
          -0.7168654439364791,
          -0.5578302948819142,
          -1.1185457726425359,
          -0.6121908887398874,
          -0.3779897877929932,
          1.4777200034997569,
          -0.19292716976175264,
          0.3574539014170091,
          -0.18544526745879408,
          -1.1466728464685323,
          0.5323503559652332,
          1.099398587877932,
          -2.3408632006156953,
          0.2961022336838603,
          0.34912709976479883,
          0.4803125361409515,
          -0.9275043314294719,
          1.810404002204835,
          -0.8997615818329986,
          -0.8882118828210713,
          0.07222842748511556,
          0.8997473673949757,
          0.12376395341787741,
          -2.1040059015548027
         ],
         "xaxis": "x14",
         "y": [
          0.4508128924895635,
          0.04215376366990217,
          -1.0518703849568212,
          0.3500266469736823,
          0.20580261077350961,
          1.754896843152072,
          2.6429833117351147,
          -0.8642797610580246,
          -0.41582297549411373,
          -2.042660108926624,
          2.433411389040133,
          0.04535365358034176,
          -0.029792164141180695,
          0.09932599146605318,
          -0.36469484458203194,
          -0.014842401964342685,
          0.7162484120775321,
          -0.21961157381040466,
          -0.1993741741945207,
          0.23618296330368907,
          -1.0988480324183805,
          -1.1914519954196043,
          1.626157398674772,
          0.6014805018574845,
          -0.28299033172737736,
          0.20369756450508605,
          -1.3892156923525512,
          -4.194659972602769,
          -0.2576579263997152,
          0.18060191245340587,
          1.007979796275341,
          2.8548811976149677,
          -1.2989409444905182,
          1.7539133867387662,
          0.6355116643849393,
          -0.8877889204443272,
          0.2632211548259389,
          -2.1995470109944844,
          0.10508899178899203,
          0.023440149037699982,
          -0.7425340360296323,
          0.5135110343053352,
          1.0469222376987855,
          0.334179083908498,
          -0.6732049555684151,
          1.920255314155447,
          0.31474455194034795,
          -1.2532405006469192,
          -0.1782867341660852,
          -0.2612236675518501,
          0.08529428865256748,
          0.8859081746666121,
          -1.0395821361778677,
          -1.1188438311720794,
          1.5062784783110792,
          0.5645111723215555,
          1.5574015777784491,
          0.9343818985603018,
          1.2748663294021338,
          0.19879888180871147,
          -0.5414272117544923,
          0.39304960399247185,
          -0.9247493404146402,
          0.42558068308709135,
          -0.24056252548192844,
          -0.019922997486305462,
          -0.6719566946713905,
          -0.27653060364317744,
          0.8027553461951863,
          0.27219153335231094,
          -0.5813309657966865,
          0.5436017784492733,
          0.37242807990780813,
          -1.0329950228586733,
          -1.395061469594945,
          -0.11127250730929014,
          1.455724989900488,
          -1.7520381668036558,
          -0.7413967616142342,
          0.8162950883053584,
          -0.38201837863016125,
          -0.4575423670048262,
          -0.4643247842979483,
          -0.20121589003332105,
          -0.49942386266143535,
          -0.5379565189422676,
          -1.5637105321302363,
          0.4845066972715467,
          -1.4458852188723432,
          -0.17788830278383255,
          0.6521404141377812,
          0.1210782204443573,
          0.5994269475041096,
          -0.48866354384002325,
          -1.8744915866299037,
          -0.4459372624232242,
          -0.24734394526561712,
          0.6108673765982904,
          -0.6112625793654177,
          -1.5686529059756902
         ],
         "yaxis": "y14"
        },
        {
         "line": {
          "color": "rgba(128, 128, 128, 1.0)",
          "dash": "solid",
          "shape": "linear",
          "width": 1.3
         },
         "marker": {
          "size": 2,
          "symbol": "circle"
         },
         "mode": "markers",
         "name": "D",
         "text": "",
         "type": "scatter",
         "x": [
          1.3624391131495084,
          -0.09446315603746394,
          0.12053743295789382,
          1.1817252377826062,
          0.6475800142644463,
          0.8365164130551516,
          -0.4078180117652873,
          -1.1958213597542948,
          0.40486279121570723,
          0.30592864416212057,
          0.19107544463621579,
          0.693625983370063,
          -0.4795213929104659,
          -1.0445591306189137,
          1.5408861746461362,
          -1.3208667950772104,
          0.6094364132193509,
          -0.04085162955660802,
          -1.1955049542950045,
          -1.2909839067238678,
          -0.18996601563309218,
          -0.3027149219694637,
          -1.5439791351118015,
          0.15460830804329959,
          0.658379885150995,
          0.5165004387560271,
          0.24957975250950862,
          0.0374615654790334,
          -0.5011376297220035,
          -0.6980267142027701,
          1.003819045674507,
          0.5585194029409475,
          -0.6530654144953657,
          1.2989071642014614,
          1.2646838735261166,
          0.5232949932517565,
          -0.6708949079502614,
          -0.927915205881154,
          0.8588928727833726,
          -0.5510976265140255,
          -1.0544854398765824,
          0.38249192826086326,
          -0.265182820267451,
          -1.2334846966610336,
          0.8966353913944343,
          1.1855664845671843,
          2.102330612375204,
          0.8819175112781902,
          0.9484031417715634,
          -1.2951255668253117,
          0.5032418726519972,
          0.3869633350184438,
          2.0393910745438646,
          -0.9133046872020412,
          -1.7446801263689433,
          -0.2368714660544164,
          0.11501744149322286,
          0.9606814835850809,
          -1.0283016300674763,
          -0.20628502526959266,
          1.549434241388962,
          0.7699467943680909,
          1.1577045284955838,
          -0.34241868984657486,
          -0.21732911323454163,
          -0.7639606514748805,
          -0.6982225764961281,
          0.09808374584084899,
          0.07220517620201307,
          0.28388278140747314,
          2.048594502372427,
          -1.8338997526400318,
          1.1579823376966734,
          0.09248369553907014,
          -0.9536254360521329,
          -0.07992099885216111,
          -1.339150308345133,
          -4.248316610590325,
          0.877309688073591,
          1.0774032735018733,
          -1.660165966097154,
          -0.3296052293735431,
          0.7444300470693337,
          -0.28835240383946076,
          1.3209428618408567,
          -1.7226785064983972,
          -1.4546956979417622,
          -1.3569076990715874,
          -0.4591211120108361,
          0.6957975501809467,
          0.18663813416373395,
          0.684558745731199,
          -0.8003535785394227,
          1.4626502325103097,
          0.27341601084813794,
          -1.5470354465064384,
          1.1031551691903023,
          -0.12376385833508523,
          -0.8445403928519083,
          -1.1997622783239204
         ],
         "xaxis": "x15",
         "y": [
          0.4508128924895635,
          0.04215376366990217,
          -1.0518703849568212,
          0.3500266469736823,
          0.20580261077350961,
          1.754896843152072,
          2.6429833117351147,
          -0.8642797610580246,
          -0.41582297549411373,
          -2.042660108926624,
          2.433411389040133,
          0.04535365358034176,
          -0.029792164141180695,
          0.09932599146605318,
          -0.36469484458203194,
          -0.014842401964342685,
          0.7162484120775321,
          -0.21961157381040466,
          -0.1993741741945207,
          0.23618296330368907,
          -1.0988480324183805,
          -1.1914519954196043,
          1.626157398674772,
          0.6014805018574845,
          -0.28299033172737736,
          0.20369756450508605,
          -1.3892156923525512,
          -4.194659972602769,
          -0.2576579263997152,
          0.18060191245340587,
          1.007979796275341,
          2.8548811976149677,
          -1.2989409444905182,
          1.7539133867387662,
          0.6355116643849393,
          -0.8877889204443272,
          0.2632211548259389,
          -2.1995470109944844,
          0.10508899178899203,
          0.023440149037699982,
          -0.7425340360296323,
          0.5135110343053352,
          1.0469222376987855,
          0.334179083908498,
          -0.6732049555684151,
          1.920255314155447,
          0.31474455194034795,
          -1.2532405006469192,
          -0.1782867341660852,
          -0.2612236675518501,
          0.08529428865256748,
          0.8859081746666121,
          -1.0395821361778677,
          -1.1188438311720794,
          1.5062784783110792,
          0.5645111723215555,
          1.5574015777784491,
          0.9343818985603018,
          1.2748663294021338,
          0.19879888180871147,
          -0.5414272117544923,
          0.39304960399247185,
          -0.9247493404146402,
          0.42558068308709135,
          -0.24056252548192844,
          -0.019922997486305462,
          -0.6719566946713905,
          -0.27653060364317744,
          0.8027553461951863,
          0.27219153335231094,
          -0.5813309657966865,
          0.5436017784492733,
          0.37242807990780813,
          -1.0329950228586733,
          -1.395061469594945,
          -0.11127250730929014,
          1.455724989900488,
          -1.7520381668036558,
          -0.7413967616142342,
          0.8162950883053584,
          -0.38201837863016125,
          -0.4575423670048262,
          -0.4643247842979483,
          -0.20121589003332105,
          -0.49942386266143535,
          -0.5379565189422676,
          -1.5637105321302363,
          0.4845066972715467,
          -1.4458852188723432,
          -0.17788830278383255,
          0.6521404141377812,
          0.1210782204443573,
          0.5994269475041096,
          -0.48866354384002325,
          -1.8744915866299037,
          -0.4459372624232242,
          -0.24734394526561712,
          0.6108673765982904,
          -0.6112625793654177,
          -1.5686529059756902
         ],
         "yaxis": "y15"
        },
        {
         "histfunc": "count",
         "histnorm": "",
         "marker": {
          "color": "rgba(128, 0, 128, 1.0)",
          "line": {
           "color": "#4D5663",
           "width": 1.3
          }
         },
         "name": "D",
         "nbinsx": 10,
         "opacity": 0.8,
         "orientation": "v",
         "type": "histogram",
         "x": [
          0.4508128924895635,
          0.04215376366990217,
          -1.0518703849568212,
          0.3500266469736823,
          0.20580261077350961,
          1.754896843152072,
          2.6429833117351147,
          -0.8642797610580246,
          -0.41582297549411373,
          -2.042660108926624,
          2.433411389040133,
          0.04535365358034176,
          -0.029792164141180695,
          0.09932599146605318,
          -0.36469484458203194,
          -0.014842401964342685,
          0.7162484120775321,
          -0.21961157381040466,
          -0.1993741741945207,
          0.23618296330368907,
          -1.0988480324183805,
          -1.1914519954196043,
          1.626157398674772,
          0.6014805018574845,
          -0.28299033172737736,
          0.20369756450508605,
          -1.3892156923525512,
          -4.194659972602769,
          -0.2576579263997152,
          0.18060191245340587,
          1.007979796275341,
          2.8548811976149677,
          -1.2989409444905182,
          1.7539133867387662,
          0.6355116643849393,
          -0.8877889204443272,
          0.2632211548259389,
          -2.1995470109944844,
          0.10508899178899203,
          0.023440149037699982,
          -0.7425340360296323,
          0.5135110343053352,
          1.0469222376987855,
          0.334179083908498,
          -0.6732049555684151,
          1.920255314155447,
          0.31474455194034795,
          -1.2532405006469192,
          -0.1782867341660852,
          -0.2612236675518501,
          0.08529428865256748,
          0.8859081746666121,
          -1.0395821361778677,
          -1.1188438311720794,
          1.5062784783110792,
          0.5645111723215555,
          1.5574015777784491,
          0.9343818985603018,
          1.2748663294021338,
          0.19879888180871147,
          -0.5414272117544923,
          0.39304960399247185,
          -0.9247493404146402,
          0.42558068308709135,
          -0.24056252548192844,
          -0.019922997486305462,
          -0.6719566946713905,
          -0.27653060364317744,
          0.8027553461951863,
          0.27219153335231094,
          -0.5813309657966865,
          0.5436017784492733,
          0.37242807990780813,
          -1.0329950228586733,
          -1.395061469594945,
          -0.11127250730929014,
          1.455724989900488,
          -1.7520381668036558,
          -0.7413967616142342,
          0.8162950883053584,
          -0.38201837863016125,
          -0.4575423670048262,
          -0.4643247842979483,
          -0.20121589003332105,
          -0.49942386266143535,
          -0.5379565189422676,
          -1.5637105321302363,
          0.4845066972715467,
          -1.4458852188723432,
          -0.17788830278383255,
          0.6521404141377812,
          0.1210782204443573,
          0.5994269475041096,
          -0.48866354384002325,
          -1.8744915866299037,
          -0.4459372624232242,
          -0.24734394526561712,
          0.6108673765982904,
          -0.6112625793654177,
          -1.5686529059756902
         ],
         "xaxis": "x16",
         "yaxis": "y16"
        }
       ],
       "layout": {
        "bargap": 0.02,
        "legend": {
         "bgcolor": "#F5F6F9",
         "font": {
          "color": "#4D5663"
         }
        },
        "paper_bgcolor": "#F5F6F9",
        "plot_bgcolor": "#F5F6F9",
        "showlegend": false,
        "template": {
         "data": {
          "bar": [
           {
            "error_x": {
             "color": "#2a3f5f"
            },
            "error_y": {
             "color": "#2a3f5f"
            },
            "marker": {
             "line": {
              "color": "#E5ECF6",
              "width": 0.5
             },
             "pattern": {
              "fillmode": "overlay",
              "size": 10,
              "solidity": 0.2
             }
            },
            "type": "bar"
           }
          ],
          "barpolar": [
           {
            "marker": {
             "line": {
              "color": "#E5ECF6",
              "width": 0.5
             },
             "pattern": {
              "fillmode": "overlay",
              "size": 10,
              "solidity": 0.2
             }
            },
            "type": "barpolar"
           }
          ],
          "carpet": [
           {
            "aaxis": {
             "endlinecolor": "#2a3f5f",
             "gridcolor": "white",
             "linecolor": "white",
             "minorgridcolor": "white",
             "startlinecolor": "#2a3f5f"
            },
            "baxis": {
             "endlinecolor": "#2a3f5f",
             "gridcolor": "white",
             "linecolor": "white",
             "minorgridcolor": "white",
             "startlinecolor": "#2a3f5f"
            },
            "type": "carpet"
           }
          ],
          "choropleth": [
           {
            "colorbar": {
             "outlinewidth": 0,
             "ticks": ""
            },
            "type": "choropleth"
           }
          ],
          "contour": [
           {
            "colorbar": {
             "outlinewidth": 0,
             "ticks": ""
            },
            "colorscale": [
             [
              0,
              "#0d0887"
             ],
             [
              0.1111111111111111,
              "#46039f"
             ],
             [
              0.2222222222222222,
              "#7201a8"
             ],
             [
              0.3333333333333333,
              "#9c179e"
             ],
             [
              0.4444444444444444,
              "#bd3786"
             ],
             [
              0.5555555555555556,
              "#d8576b"
             ],
             [
              0.6666666666666666,
              "#ed7953"
             ],
             [
              0.7777777777777778,
              "#fb9f3a"
             ],
             [
              0.8888888888888888,
              "#fdca26"
             ],
             [
              1,
              "#f0f921"
             ]
            ],
            "type": "contour"
           }
          ],
          "contourcarpet": [
           {
            "colorbar": {
             "outlinewidth": 0,
             "ticks": ""
            },
            "type": "contourcarpet"
           }
          ],
          "heatmap": [
           {
            "colorbar": {
             "outlinewidth": 0,
             "ticks": ""
            },
            "colorscale": [
             [
              0,
              "#0d0887"
             ],
             [
              0.1111111111111111,
              "#46039f"
             ],
             [
              0.2222222222222222,
              "#7201a8"
             ],
             [
              0.3333333333333333,
              "#9c179e"
             ],
             [
              0.4444444444444444,
              "#bd3786"
             ],
             [
              0.5555555555555556,
              "#d8576b"
             ],
             [
              0.6666666666666666,
              "#ed7953"
             ],
             [
              0.7777777777777778,
              "#fb9f3a"
             ],
             [
              0.8888888888888888,
              "#fdca26"
             ],
             [
              1,
              "#f0f921"
             ]
            ],
            "type": "heatmap"
           }
          ],
          "heatmapgl": [
           {
            "colorbar": {
             "outlinewidth": 0,
             "ticks": ""
            },
            "colorscale": [
             [
              0,
              "#0d0887"
             ],
             [
              0.1111111111111111,
              "#46039f"
             ],
             [
              0.2222222222222222,
              "#7201a8"
             ],
             [
              0.3333333333333333,
              "#9c179e"
             ],
             [
              0.4444444444444444,
              "#bd3786"
             ],
             [
              0.5555555555555556,
              "#d8576b"
             ],
             [
              0.6666666666666666,
              "#ed7953"
             ],
             [
              0.7777777777777778,
              "#fb9f3a"
             ],
             [
              0.8888888888888888,
              "#fdca26"
             ],
             [
              1,
              "#f0f921"
             ]
            ],
            "type": "heatmapgl"
           }
          ],
          "histogram": [
           {
            "marker": {
             "pattern": {
              "fillmode": "overlay",
              "size": 10,
              "solidity": 0.2
             }
            },
            "type": "histogram"
           }
          ],
          "histogram2d": [
           {
            "colorbar": {
             "outlinewidth": 0,
             "ticks": ""
            },
            "colorscale": [
             [
              0,
              "#0d0887"
             ],
             [
              0.1111111111111111,
              "#46039f"
             ],
             [
              0.2222222222222222,
              "#7201a8"
             ],
             [
              0.3333333333333333,
              "#9c179e"
             ],
             [
              0.4444444444444444,
              "#bd3786"
             ],
             [
              0.5555555555555556,
              "#d8576b"
             ],
             [
              0.6666666666666666,
              "#ed7953"
             ],
             [
              0.7777777777777778,
              "#fb9f3a"
             ],
             [
              0.8888888888888888,
              "#fdca26"
             ],
             [
              1,
              "#f0f921"
             ]
            ],
            "type": "histogram2d"
           }
          ],
          "histogram2dcontour": [
           {
            "colorbar": {
             "outlinewidth": 0,
             "ticks": ""
            },
            "colorscale": [
             [
              0,
              "#0d0887"
             ],
             [
              0.1111111111111111,
              "#46039f"
             ],
             [
              0.2222222222222222,
              "#7201a8"
             ],
             [
              0.3333333333333333,
              "#9c179e"
             ],
             [
              0.4444444444444444,
              "#bd3786"
             ],
             [
              0.5555555555555556,
              "#d8576b"
             ],
             [
              0.6666666666666666,
              "#ed7953"
             ],
             [
              0.7777777777777778,
              "#fb9f3a"
             ],
             [
              0.8888888888888888,
              "#fdca26"
             ],
             [
              1,
              "#f0f921"
             ]
            ],
            "type": "histogram2dcontour"
           }
          ],
          "mesh3d": [
           {
            "colorbar": {
             "outlinewidth": 0,
             "ticks": ""
            },
            "type": "mesh3d"
           }
          ],
          "parcoords": [
           {
            "line": {
             "colorbar": {
              "outlinewidth": 0,
              "ticks": ""
             }
            },
            "type": "parcoords"
           }
          ],
          "pie": [
           {
            "automargin": true,
            "type": "pie"
           }
          ],
          "scatter": [
           {
            "fillpattern": {
             "fillmode": "overlay",
             "size": 10,
             "solidity": 0.2
            },
            "type": "scatter"
           }
          ],
          "scatter3d": [
           {
            "line": {
             "colorbar": {
              "outlinewidth": 0,
              "ticks": ""
             }
            },
            "marker": {
             "colorbar": {
              "outlinewidth": 0,
              "ticks": ""
             }
            },
            "type": "scatter3d"
           }
          ],
          "scattercarpet": [
           {
            "marker": {
             "colorbar": {
              "outlinewidth": 0,
              "ticks": ""
             }
            },
            "type": "scattercarpet"
           }
          ],
          "scattergeo": [
           {
            "marker": {
             "colorbar": {
              "outlinewidth": 0,
              "ticks": ""
             }
            },
            "type": "scattergeo"
           }
          ],
          "scattergl": [
           {
            "marker": {
             "colorbar": {
              "outlinewidth": 0,
              "ticks": ""
             }
            },
            "type": "scattergl"
           }
          ],
          "scattermapbox": [
           {
            "marker": {
             "colorbar": {
              "outlinewidth": 0,
              "ticks": ""
             }
            },
            "type": "scattermapbox"
           }
          ],
          "scatterpolar": [
           {
            "marker": {
             "colorbar": {
              "outlinewidth": 0,
              "ticks": ""
             }
            },
            "type": "scatterpolar"
           }
          ],
          "scatterpolargl": [
           {
            "marker": {
             "colorbar": {
              "outlinewidth": 0,
              "ticks": ""
             }
            },
            "type": "scatterpolargl"
           }
          ],
          "scatterternary": [
           {
            "marker": {
             "colorbar": {
              "outlinewidth": 0,
              "ticks": ""
             }
            },
            "type": "scatterternary"
           }
          ],
          "surface": [
           {
            "colorbar": {
             "outlinewidth": 0,
             "ticks": ""
            },
            "colorscale": [
             [
              0,
              "#0d0887"
             ],
             [
              0.1111111111111111,
              "#46039f"
             ],
             [
              0.2222222222222222,
              "#7201a8"
             ],
             [
              0.3333333333333333,
              "#9c179e"
             ],
             [
              0.4444444444444444,
              "#bd3786"
             ],
             [
              0.5555555555555556,
              "#d8576b"
             ],
             [
              0.6666666666666666,
              "#ed7953"
             ],
             [
              0.7777777777777778,
              "#fb9f3a"
             ],
             [
              0.8888888888888888,
              "#fdca26"
             ],
             [
              1,
              "#f0f921"
             ]
            ],
            "type": "surface"
           }
          ],
          "table": [
           {
            "cells": {
             "fill": {
              "color": "#EBF0F8"
             },
             "line": {
              "color": "white"
             }
            },
            "header": {
             "fill": {
              "color": "#C8D4E3"
             },
             "line": {
              "color": "white"
             }
            },
            "type": "table"
           }
          ]
         },
         "layout": {
          "annotationdefaults": {
           "arrowcolor": "#2a3f5f",
           "arrowhead": 0,
           "arrowwidth": 1
          },
          "autotypenumbers": "strict",
          "coloraxis": {
           "colorbar": {
            "outlinewidth": 0,
            "ticks": ""
           }
          },
          "colorscale": {
           "diverging": [
            [
             0,
             "#8e0152"
            ],
            [
             0.1,
             "#c51b7d"
            ],
            [
             0.2,
             "#de77ae"
            ],
            [
             0.3,
             "#f1b6da"
            ],
            [
             0.4,
             "#fde0ef"
            ],
            [
             0.5,
             "#f7f7f7"
            ],
            [
             0.6,
             "#e6f5d0"
            ],
            [
             0.7,
             "#b8e186"
            ],
            [
             0.8,
             "#7fbc41"
            ],
            [
             0.9,
             "#4d9221"
            ],
            [
             1,
             "#276419"
            ]
           ],
           "sequential": [
            [
             0,
             "#0d0887"
            ],
            [
             0.1111111111111111,
             "#46039f"
            ],
            [
             0.2222222222222222,
             "#7201a8"
            ],
            [
             0.3333333333333333,
             "#9c179e"
            ],
            [
             0.4444444444444444,
             "#bd3786"
            ],
            [
             0.5555555555555556,
             "#d8576b"
            ],
            [
             0.6666666666666666,
             "#ed7953"
            ],
            [
             0.7777777777777778,
             "#fb9f3a"
            ],
            [
             0.8888888888888888,
             "#fdca26"
            ],
            [
             1,
             "#f0f921"
            ]
           ],
           "sequentialminus": [
            [
             0,
             "#0d0887"
            ],
            [
             0.1111111111111111,
             "#46039f"
            ],
            [
             0.2222222222222222,
             "#7201a8"
            ],
            [
             0.3333333333333333,
             "#9c179e"
            ],
            [
             0.4444444444444444,
             "#bd3786"
            ],
            [
             0.5555555555555556,
             "#d8576b"
            ],
            [
             0.6666666666666666,
             "#ed7953"
            ],
            [
             0.7777777777777778,
             "#fb9f3a"
            ],
            [
             0.8888888888888888,
             "#fdca26"
            ],
            [
             1,
             "#f0f921"
            ]
           ]
          },
          "colorway": [
           "#636efa",
           "#EF553B",
           "#00cc96",
           "#ab63fa",
           "#FFA15A",
           "#19d3f3",
           "#FF6692",
           "#B6E880",
           "#FF97FF",
           "#FECB52"
          ],
          "font": {
           "color": "#2a3f5f"
          },
          "geo": {
           "bgcolor": "white",
           "lakecolor": "white",
           "landcolor": "#E5ECF6",
           "showlakes": true,
           "showland": true,
           "subunitcolor": "white"
          },
          "hoverlabel": {
           "align": "left"
          },
          "hovermode": "closest",
          "mapbox": {
           "style": "light"
          },
          "paper_bgcolor": "white",
          "plot_bgcolor": "#E5ECF6",
          "polar": {
           "angularaxis": {
            "gridcolor": "white",
            "linecolor": "white",
            "ticks": ""
           },
           "bgcolor": "#E5ECF6",
           "radialaxis": {
            "gridcolor": "white",
            "linecolor": "white",
            "ticks": ""
           }
          },
          "scene": {
           "xaxis": {
            "backgroundcolor": "#E5ECF6",
            "gridcolor": "white",
            "gridwidth": 2,
            "linecolor": "white",
            "showbackground": true,
            "ticks": "",
            "zerolinecolor": "white"
           },
           "yaxis": {
            "backgroundcolor": "#E5ECF6",
            "gridcolor": "white",
            "gridwidth": 2,
            "linecolor": "white",
            "showbackground": true,
            "ticks": "",
            "zerolinecolor": "white"
           },
           "zaxis": {
            "backgroundcolor": "#E5ECF6",
            "gridcolor": "white",
            "gridwidth": 2,
            "linecolor": "white",
            "showbackground": true,
            "ticks": "",
            "zerolinecolor": "white"
           }
          },
          "shapedefaults": {
           "line": {
            "color": "#2a3f5f"
           }
          },
          "ternary": {
           "aaxis": {
            "gridcolor": "white",
            "linecolor": "white",
            "ticks": ""
           },
           "baxis": {
            "gridcolor": "white",
            "linecolor": "white",
            "ticks": ""
           },
           "bgcolor": "#E5ECF6",
           "caxis": {
            "gridcolor": "white",
            "linecolor": "white",
            "ticks": ""
           }
          },
          "title": {
           "x": 0.05
          },
          "xaxis": {
           "automargin": true,
           "gridcolor": "white",
           "linecolor": "white",
           "ticks": "",
           "title": {
            "standoff": 15
           },
           "zerolinecolor": "white",
           "zerolinewidth": 2
          },
          "yaxis": {
           "automargin": true,
           "gridcolor": "white",
           "linecolor": "white",
           "ticks": "",
           "title": {
            "standoff": 15
           },
           "zerolinecolor": "white",
           "zerolinewidth": 2
          }
         }
        },
        "title": {
         "font": {
          "color": "#4D5663"
         }
        },
        "xaxis": {
         "anchor": "y",
         "domain": [
          0,
          0.2125
         ],
         "gridcolor": "#E1E5ED",
         "showgrid": false,
         "tickfont": {
          "color": "#4D5663"
         },
         "title": {
          "font": {
           "color": "#4D5663"
          },
          "text": ""
         },
         "zerolinecolor": "#E1E5ED"
        },
        "xaxis10": {
         "anchor": "y10",
         "domain": [
          0.2625,
          0.475
         ],
         "gridcolor": "#E1E5ED",
         "showgrid": false,
         "tickfont": {
          "color": "#4D5663"
         },
         "title": {
          "font": {
           "color": "#4D5663"
          },
          "text": ""
         },
         "zerolinecolor": "#E1E5ED"
        },
        "xaxis11": {
         "anchor": "y11",
         "domain": [
          0.525,
          0.7375
         ],
         "gridcolor": "#E1E5ED",
         "showgrid": false,
         "tickfont": {
          "color": "#4D5663"
         },
         "title": {
          "font": {
           "color": "#4D5663"
          },
          "text": ""
         },
         "zerolinecolor": "#E1E5ED"
        },
        "xaxis12": {
         "anchor": "y12",
         "domain": [
          0.7875,
          1
         ],
         "gridcolor": "#E1E5ED",
         "showgrid": false,
         "tickfont": {
          "color": "#4D5663"
         },
         "title": {
          "font": {
           "color": "#4D5663"
          },
          "text": ""
         },
         "zerolinecolor": "#E1E5ED"
        },
        "xaxis13": {
         "anchor": "y13",
         "domain": [
          0,
          0.2125
         ],
         "gridcolor": "#E1E5ED",
         "showgrid": false,
         "tickfont": {
          "color": "#4D5663"
         },
         "title": {
          "font": {
           "color": "#4D5663"
          },
          "text": ""
         },
         "zerolinecolor": "#E1E5ED"
        },
        "xaxis14": {
         "anchor": "y14",
         "domain": [
          0.2625,
          0.475
         ],
         "gridcolor": "#E1E5ED",
         "showgrid": false,
         "tickfont": {
          "color": "#4D5663"
         },
         "title": {
          "font": {
           "color": "#4D5663"
          },
          "text": ""
         },
         "zerolinecolor": "#E1E5ED"
        },
        "xaxis15": {
         "anchor": "y15",
         "domain": [
          0.525,
          0.7375
         ],
         "gridcolor": "#E1E5ED",
         "showgrid": false,
         "tickfont": {
          "color": "#4D5663"
         },
         "title": {
          "font": {
           "color": "#4D5663"
          },
          "text": ""
         },
         "zerolinecolor": "#E1E5ED"
        },
        "xaxis16": {
         "anchor": "y16",
         "domain": [
          0.7875,
          1
         ],
         "gridcolor": "#E1E5ED",
         "showgrid": false,
         "tickfont": {
          "color": "#4D5663"
         },
         "title": {
          "font": {
           "color": "#4D5663"
          },
          "text": ""
         },
         "zerolinecolor": "#E1E5ED"
        },
        "xaxis2": {
         "anchor": "y2",
         "domain": [
          0.2625,
          0.475
         ],
         "gridcolor": "#E1E5ED",
         "showgrid": false,
         "tickfont": {
          "color": "#4D5663"
         },
         "title": {
          "font": {
           "color": "#4D5663"
          },
          "text": ""
         },
         "zerolinecolor": "#E1E5ED"
        },
        "xaxis3": {
         "anchor": "y3",
         "domain": [
          0.525,
          0.7375
         ],
         "gridcolor": "#E1E5ED",
         "showgrid": false,
         "tickfont": {
          "color": "#4D5663"
         },
         "title": {
          "font": {
           "color": "#4D5663"
          },
          "text": ""
         },
         "zerolinecolor": "#E1E5ED"
        },
        "xaxis4": {
         "anchor": "y4",
         "domain": [
          0.7875,
          1
         ],
         "gridcolor": "#E1E5ED",
         "showgrid": false,
         "tickfont": {
          "color": "#4D5663"
         },
         "title": {
          "font": {
           "color": "#4D5663"
          },
          "text": ""
         },
         "zerolinecolor": "#E1E5ED"
        },
        "xaxis5": {
         "anchor": "y5",
         "domain": [
          0,
          0.2125
         ],
         "gridcolor": "#E1E5ED",
         "showgrid": false,
         "tickfont": {
          "color": "#4D5663"
         },
         "title": {
          "font": {
           "color": "#4D5663"
          },
          "text": ""
         },
         "zerolinecolor": "#E1E5ED"
        },
        "xaxis6": {
         "anchor": "y6",
         "domain": [
          0.2625,
          0.475
         ],
         "gridcolor": "#E1E5ED",
         "showgrid": false,
         "tickfont": {
          "color": "#4D5663"
         },
         "title": {
          "font": {
           "color": "#4D5663"
          },
          "text": ""
         },
         "zerolinecolor": "#E1E5ED"
        },
        "xaxis7": {
         "anchor": "y7",
         "domain": [
          0.525,
          0.7375
         ],
         "gridcolor": "#E1E5ED",
         "showgrid": false,
         "tickfont": {
          "color": "#4D5663"
         },
         "title": {
          "font": {
           "color": "#4D5663"
          },
          "text": ""
         },
         "zerolinecolor": "#E1E5ED"
        },
        "xaxis8": {
         "anchor": "y8",
         "domain": [
          0.7875,
          1
         ],
         "gridcolor": "#E1E5ED",
         "showgrid": false,
         "tickfont": {
          "color": "#4D5663"
         },
         "title": {
          "font": {
           "color": "#4D5663"
          },
          "text": ""
         },
         "zerolinecolor": "#E1E5ED"
        },
        "xaxis9": {
         "anchor": "y9",
         "domain": [
          0,
          0.2125
         ],
         "gridcolor": "#E1E5ED",
         "showgrid": false,
         "tickfont": {
          "color": "#4D5663"
         },
         "title": {
          "font": {
           "color": "#4D5663"
          },
          "text": ""
         },
         "zerolinecolor": "#E1E5ED"
        },
        "yaxis": {
         "anchor": "x",
         "domain": [
          0.8025,
          1
         ],
         "gridcolor": "#E1E5ED",
         "showgrid": false,
         "tickfont": {
          "color": "#4D5663"
         },
         "title": {
          "font": {
           "color": "#4D5663"
          },
          "text": ""
         },
         "zerolinecolor": "#E1E5ED"
        },
        "yaxis10": {
         "anchor": "x10",
         "domain": [
          0.2675,
          0.465
         ],
         "gridcolor": "#E1E5ED",
         "showgrid": false,
         "tickfont": {
          "color": "#4D5663"
         },
         "title": {
          "font": {
           "color": "#4D5663"
          },
          "text": ""
         },
         "zerolinecolor": "#E1E5ED"
        },
        "yaxis11": {
         "anchor": "x11",
         "domain": [
          0.2675,
          0.465
         ],
         "gridcolor": "#E1E5ED",
         "showgrid": false,
         "tickfont": {
          "color": "#4D5663"
         },
         "title": {
          "font": {
           "color": "#4D5663"
          },
          "text": ""
         },
         "zerolinecolor": "#E1E5ED"
        },
        "yaxis12": {
         "anchor": "x12",
         "domain": [
          0.2675,
          0.465
         ],
         "gridcolor": "#E1E5ED",
         "showgrid": false,
         "tickfont": {
          "color": "#4D5663"
         },
         "title": {
          "font": {
           "color": "#4D5663"
          },
          "text": ""
         },
         "zerolinecolor": "#E1E5ED"
        },
        "yaxis13": {
         "anchor": "x13",
         "domain": [
          0,
          0.1975
         ],
         "gridcolor": "#E1E5ED",
         "showgrid": false,
         "tickfont": {
          "color": "#4D5663"
         },
         "title": {
          "font": {
           "color": "#4D5663"
          },
          "text": ""
         },
         "zerolinecolor": "#E1E5ED"
        },
        "yaxis14": {
         "anchor": "x14",
         "domain": [
          0,
          0.1975
         ],
         "gridcolor": "#E1E5ED",
         "showgrid": false,
         "tickfont": {
          "color": "#4D5663"
         },
         "title": {
          "font": {
           "color": "#4D5663"
          },
          "text": ""
         },
         "zerolinecolor": "#E1E5ED"
        },
        "yaxis15": {
         "anchor": "x15",
         "domain": [
          0,
          0.1975
         ],
         "gridcolor": "#E1E5ED",
         "showgrid": false,
         "tickfont": {
          "color": "#4D5663"
         },
         "title": {
          "font": {
           "color": "#4D5663"
          },
          "text": ""
         },
         "zerolinecolor": "#E1E5ED"
        },
        "yaxis16": {
         "anchor": "x16",
         "domain": [
          0,
          0.1975
         ],
         "gridcolor": "#E1E5ED",
         "showgrid": false,
         "tickfont": {
          "color": "#4D5663"
         },
         "title": {
          "font": {
           "color": "#4D5663"
          },
          "text": ""
         },
         "zerolinecolor": "#E1E5ED"
        },
        "yaxis2": {
         "anchor": "x2",
         "domain": [
          0.8025,
          1
         ],
         "gridcolor": "#E1E5ED",
         "showgrid": false,
         "tickfont": {
          "color": "#4D5663"
         },
         "title": {
          "font": {
           "color": "#4D5663"
          },
          "text": ""
         },
         "zerolinecolor": "#E1E5ED"
        },
        "yaxis3": {
         "anchor": "x3",
         "domain": [
          0.8025,
          1
         ],
         "gridcolor": "#E1E5ED",
         "showgrid": false,
         "tickfont": {
          "color": "#4D5663"
         },
         "title": {
          "font": {
           "color": "#4D5663"
          },
          "text": ""
         },
         "zerolinecolor": "#E1E5ED"
        },
        "yaxis4": {
         "anchor": "x4",
         "domain": [
          0.8025,
          1
         ],
         "gridcolor": "#E1E5ED",
         "showgrid": false,
         "tickfont": {
          "color": "#4D5663"
         },
         "title": {
          "font": {
           "color": "#4D5663"
          },
          "text": ""
         },
         "zerolinecolor": "#E1E5ED"
        },
        "yaxis5": {
         "anchor": "x5",
         "domain": [
          0.535,
          0.7325
         ],
         "gridcolor": "#E1E5ED",
         "showgrid": false,
         "tickfont": {
          "color": "#4D5663"
         },
         "title": {
          "font": {
           "color": "#4D5663"
          },
          "text": ""
         },
         "zerolinecolor": "#E1E5ED"
        },
        "yaxis6": {
         "anchor": "x6",
         "domain": [
          0.535,
          0.7325
         ],
         "gridcolor": "#E1E5ED",
         "showgrid": false,
         "tickfont": {
          "color": "#4D5663"
         },
         "title": {
          "font": {
           "color": "#4D5663"
          },
          "text": ""
         },
         "zerolinecolor": "#E1E5ED"
        },
        "yaxis7": {
         "anchor": "x7",
         "domain": [
          0.535,
          0.7325
         ],
         "gridcolor": "#E1E5ED",
         "showgrid": false,
         "tickfont": {
          "color": "#4D5663"
         },
         "title": {
          "font": {
           "color": "#4D5663"
          },
          "text": ""
         },
         "zerolinecolor": "#E1E5ED"
        },
        "yaxis8": {
         "anchor": "x8",
         "domain": [
          0.535,
          0.7325
         ],
         "gridcolor": "#E1E5ED",
         "showgrid": false,
         "tickfont": {
          "color": "#4D5663"
         },
         "title": {
          "font": {
           "color": "#4D5663"
          },
          "text": ""
         },
         "zerolinecolor": "#E1E5ED"
        },
        "yaxis9": {
         "anchor": "x9",
         "domain": [
          0.2675,
          0.465
         ],
         "gridcolor": "#E1E5ED",
         "showgrid": false,
         "tickfont": {
          "color": "#4D5663"
         },
         "title": {
          "font": {
           "color": "#4D5663"
          },
          "text": ""
         },
         "zerolinecolor": "#E1E5ED"
        }
       }
      },
      "text/html": [
       "<div>                            <div id=\"2545daff-2e38-48df-9552-feeb687f12b1\" class=\"plotly-graph-div\" style=\"height:525px; width:100%;\"></div>            <script type=\"text/javascript\">                require([\"plotly\"], function(Plotly) {                    window.PLOTLYENV=window.PLOTLYENV || {};\n",
       "                    window.PLOTLYENV.BASE_URL='https://plot.ly';                                    if (document.getElementById(\"2545daff-2e38-48df-9552-feeb687f12b1\")) {                    Plotly.newPlot(                        \"2545daff-2e38-48df-9552-feeb687f12b1\",                        [{\"histfunc\":\"count\",\"histnorm\":\"\",\"marker\":{\"color\":\"rgba(255, 153, 51, 1.0)\",\"line\":{\"color\":\"#4D5663\",\"width\":1.3}},\"name\":\"A\",\"nbinsx\":10,\"opacity\":0.8,\"orientation\":\"v\",\"x\":[0.37597005318765364,-0.9048495718966237,0.8579565711447589,0.5400822133171609,-1.3077258733358614,-0.5342628034790948,-0.4453140991222401,1.9149519217568853,-0.4298784428599787,-1.7408278622364468,0.08984730403796322,-0.7220639924502646,-0.661782077365756,-1.9313280548361829,1.0995235869258424,-2.2416909234475497,1.6556238846323768,0.4881773567676999,-0.24661995472311352,-1.0888515437052844,-0.3800838112965957,1.076085654409655,-1.6593557461777635,0.21297961644533725,-1.5805191546265278,-1.618813240069065,0.04667537628522792,-0.3292224638769374,-1.1251094929123244,0.4090802971009559,-1.3057982878541903,0.4551469096035381,-0.06954108892814388,1.2405533050281512,-1.2173275922137747,1.65140906115177,-0.049881944271718826,0.38147990711103064,-1.0977982075374673,-0.8695743896417516,-1.1401255024732972,-0.1858666165578455,0.49689378953900226,-1.7204814086558124,1.3439359237959083,0.4609679198043368,0.8667683379824784,0.532690330525514,0.95150358077794,1.250685572340651,-0.26943495020421604,0.09722637026800443,0.4088197644876183,0.39448931245833757,1.524689421116744,0.6826810268566323,-1.6830237912206034,0.6318572757177054,0.2712253471184101,0.5970364658727937,0.7659094762271283,0.1096216186670033,-0.9596009180692899,-0.27623561082193904,-0.2579137767261097,-1.5159322047196007,0.26460532519337004,-0.7291898945221118,0.41642299592662535,0.6316260731687413,0.26153263868151694,-1.0468931473485552,1.908267957100243,1.0344822555487396,-1.5724801942537763,0.3569898615943052,-0.5466895707445805,2.0376888472931776,0.3144215127715293,0.5138467978812578,1.819754268505688,0.36849994498834077,-0.15873092607185396,-1.0049529009052667,0.09150725192149144,0.5764277982327448,-1.4916678031268555,0.6889429161353486,-1.5340180898299038,-0.5535547871389617,0.8371221944612994,1.511812318129234,0.4504704904485682,0.8099235277959423,-0.7489858817084645,0.9502448003142555,0.5875531667765086,1.575218737798039,0.6355889890230145,-0.8433765111948266],\"xaxis\":\"x\",\"yaxis\":\"y\",\"type\":\"histogram\"},{\"line\":{\"color\":\"rgba(128, 128, 128, 1.0)\",\"dash\":\"solid\",\"shape\":\"linear\",\"width\":1.3},\"marker\":{\"size\":2,\"symbol\":\"circle\"},\"mode\":\"markers\",\"name\":\"A\",\"text\":\"\",\"x\":[0.9850713887904406,0.9895016294470834,0.33522187833194084,0.38263555967156293,0.3745792917333505,-1.429798678593703,1.1824612431217312,0.626488597539041,0.14349191696675895,-0.14814614007520954,-0.011611341174777376,2.12010533548965,-0.8772273524296763,0.6081160835617304,0.16137092972869155,-1.0714094098077365,-0.24641963527506083,-0.06582086200559119,-1.0060510964237628,-0.10337648868594303,-0.37416372381453705,0.9355670189990279,0.6210186517918276,-0.382253315672212,1.1502055049032665,0.11081971219168177,-0.9485281386209676,0.3163862184000106,-0.3640965591259851,0.18310189183405573,2.2399820434026694,0.639087710690256,-0.1398487891852959,-0.3925511584810141,1.3296265283651694,-0.11776415174203159,-0.4744386630352112,-0.4588922483652321,0.7842901351701419,-0.7900798468461651,-0.3144100924184365,0.06904462737971202,-0.08165840561428707,0.5937850226834473,1.6943248142423644,-1.4730818763638593,1.9149121426011169,-0.6981210172827813,1.0620220071337512,0.3270240144233015,0.9983963737189102,-1.5820504018948132,1.5576377626695666,0.6818302184258955,0.9581576498185576,0.7734938363828401,-1.2645145864507532,-0.6557307087352567,-0.08794658491303368,-0.2078210220450748,-0.7092534417802636,-0.4381431192271822,-0.29781816966271807,-1.9836917976954034,1.7777877374165716,0.3218961402254565,-2.077586101344516,-1.2073343169448907,1.7441615296849142,0.3048809157280745,-0.4907508335554843,0.8770109049237509,1.4245387717453464,1.0661665279074823,-0.6339901914933027,0.6802602704574408,-0.7168654439364791,-0.5578302948819142,-1.1185457726425359,-0.6121908887398874,-0.3779897877929932,1.4777200034997569,-0.19292716976175264,0.3574539014170091,-0.18544526745879408,-1.1466728464685323,0.5323503559652332,1.099398587877932,-2.3408632006156953,0.2961022336838603,0.34912709976479883,0.4803125361409515,-0.9275043314294719,1.810404002204835,-0.8997615818329986,-0.8882118828210713,0.07222842748511556,0.8997473673949757,0.12376395341787741,-2.1040059015548027],\"xaxis\":\"x2\",\"y\":[0.37597005318765364,-0.9048495718966237,0.8579565711447589,0.5400822133171609,-1.3077258733358614,-0.5342628034790948,-0.4453140991222401,1.9149519217568853,-0.4298784428599787,-1.7408278622364468,0.08984730403796322,-0.7220639924502646,-0.661782077365756,-1.9313280548361829,1.0995235869258424,-2.2416909234475497,1.6556238846323768,0.4881773567676999,-0.24661995472311352,-1.0888515437052844,-0.3800838112965957,1.076085654409655,-1.6593557461777635,0.21297961644533725,-1.5805191546265278,-1.618813240069065,0.04667537628522792,-0.3292224638769374,-1.1251094929123244,0.4090802971009559,-1.3057982878541903,0.4551469096035381,-0.06954108892814388,1.2405533050281512,-1.2173275922137747,1.65140906115177,-0.049881944271718826,0.38147990711103064,-1.0977982075374673,-0.8695743896417516,-1.1401255024732972,-0.1858666165578455,0.49689378953900226,-1.7204814086558124,1.3439359237959083,0.4609679198043368,0.8667683379824784,0.532690330525514,0.95150358077794,1.250685572340651,-0.26943495020421604,0.09722637026800443,0.4088197644876183,0.39448931245833757,1.524689421116744,0.6826810268566323,-1.6830237912206034,0.6318572757177054,0.2712253471184101,0.5970364658727937,0.7659094762271283,0.1096216186670033,-0.9596009180692899,-0.27623561082193904,-0.2579137767261097,-1.5159322047196007,0.26460532519337004,-0.7291898945221118,0.41642299592662535,0.6316260731687413,0.26153263868151694,-1.0468931473485552,1.908267957100243,1.0344822555487396,-1.5724801942537763,0.3569898615943052,-0.5466895707445805,2.0376888472931776,0.3144215127715293,0.5138467978812578,1.819754268505688,0.36849994498834077,-0.15873092607185396,-1.0049529009052667,0.09150725192149144,0.5764277982327448,-1.4916678031268555,0.6889429161353486,-1.5340180898299038,-0.5535547871389617,0.8371221944612994,1.511812318129234,0.4504704904485682,0.8099235277959423,-0.7489858817084645,0.9502448003142555,0.5875531667765086,1.575218737798039,0.6355889890230145,-0.8433765111948266],\"yaxis\":\"y2\",\"type\":\"scatter\"},{\"line\":{\"color\":\"rgba(128, 128, 128, 1.0)\",\"dash\":\"solid\",\"shape\":\"linear\",\"width\":1.3},\"marker\":{\"size\":2,\"symbol\":\"circle\"},\"mode\":\"markers\",\"name\":\"A\",\"text\":\"\",\"x\":[1.3624391131495084,-0.09446315603746394,0.12053743295789382,1.1817252377826062,0.6475800142644463,0.8365164130551516,-0.4078180117652873,-1.1958213597542948,0.40486279121570723,0.30592864416212057,0.19107544463621579,0.693625983370063,-0.4795213929104659,-1.0445591306189137,1.5408861746461362,-1.3208667950772104,0.6094364132193509,-0.04085162955660802,-1.1955049542950045,-1.2909839067238678,-0.18996601563309218,-0.3027149219694637,-1.5439791351118015,0.15460830804329959,0.658379885150995,0.5165004387560271,0.24957975250950862,0.0374615654790334,-0.5011376297220035,-0.6980267142027701,1.003819045674507,0.5585194029409475,-0.6530654144953657,1.2989071642014614,1.2646838735261166,0.5232949932517565,-0.6708949079502614,-0.927915205881154,0.8588928727833726,-0.5510976265140255,-1.0544854398765824,0.38249192826086326,-0.265182820267451,-1.2334846966610336,0.8966353913944343,1.1855664845671843,2.102330612375204,0.8819175112781902,0.9484031417715634,-1.2951255668253117,0.5032418726519972,0.3869633350184438,2.0393910745438646,-0.9133046872020412,-1.7446801263689433,-0.2368714660544164,0.11501744149322286,0.9606814835850809,-1.0283016300674763,-0.20628502526959266,1.549434241388962,0.7699467943680909,1.1577045284955838,-0.34241868984657486,-0.21732911323454163,-0.7639606514748805,-0.6982225764961281,0.09808374584084899,0.07220517620201307,0.28388278140747314,2.048594502372427,-1.8338997526400318,1.1579823376966734,0.09248369553907014,-0.9536254360521329,-0.07992099885216111,-1.339150308345133,-4.248316610590325,0.877309688073591,1.0774032735018733,-1.660165966097154,-0.3296052293735431,0.7444300470693337,-0.28835240383946076,1.3209428618408567,-1.7226785064983972,-1.4546956979417622,-1.3569076990715874,-0.4591211120108361,0.6957975501809467,0.18663813416373395,0.684558745731199,-0.8003535785394227,1.4626502325103097,0.27341601084813794,-1.5470354465064384,1.1031551691903023,-0.12376385833508523,-0.8445403928519083,-1.1997622783239204],\"xaxis\":\"x3\",\"y\":[0.37597005318765364,-0.9048495718966237,0.8579565711447589,0.5400822133171609,-1.3077258733358614,-0.5342628034790948,-0.4453140991222401,1.9149519217568853,-0.4298784428599787,-1.7408278622364468,0.08984730403796322,-0.7220639924502646,-0.661782077365756,-1.9313280548361829,1.0995235869258424,-2.2416909234475497,1.6556238846323768,0.4881773567676999,-0.24661995472311352,-1.0888515437052844,-0.3800838112965957,1.076085654409655,-1.6593557461777635,0.21297961644533725,-1.5805191546265278,-1.618813240069065,0.04667537628522792,-0.3292224638769374,-1.1251094929123244,0.4090802971009559,-1.3057982878541903,0.4551469096035381,-0.06954108892814388,1.2405533050281512,-1.2173275922137747,1.65140906115177,-0.049881944271718826,0.38147990711103064,-1.0977982075374673,-0.8695743896417516,-1.1401255024732972,-0.1858666165578455,0.49689378953900226,-1.7204814086558124,1.3439359237959083,0.4609679198043368,0.8667683379824784,0.532690330525514,0.95150358077794,1.250685572340651,-0.26943495020421604,0.09722637026800443,0.4088197644876183,0.39448931245833757,1.524689421116744,0.6826810268566323,-1.6830237912206034,0.6318572757177054,0.2712253471184101,0.5970364658727937,0.7659094762271283,0.1096216186670033,-0.9596009180692899,-0.27623561082193904,-0.2579137767261097,-1.5159322047196007,0.26460532519337004,-0.7291898945221118,0.41642299592662535,0.6316260731687413,0.26153263868151694,-1.0468931473485552,1.908267957100243,1.0344822555487396,-1.5724801942537763,0.3569898615943052,-0.5466895707445805,2.0376888472931776,0.3144215127715293,0.5138467978812578,1.819754268505688,0.36849994498834077,-0.15873092607185396,-1.0049529009052667,0.09150725192149144,0.5764277982327448,-1.4916678031268555,0.6889429161353486,-1.5340180898299038,-0.5535547871389617,0.8371221944612994,1.511812318129234,0.4504704904485682,0.8099235277959423,-0.7489858817084645,0.9502448003142555,0.5875531667765086,1.575218737798039,0.6355889890230145,-0.8433765111948266],\"yaxis\":\"y3\",\"type\":\"scatter\"},{\"line\":{\"color\":\"rgba(128, 128, 128, 1.0)\",\"dash\":\"solid\",\"shape\":\"linear\",\"width\":1.3},\"marker\":{\"size\":2,\"symbol\":\"circle\"},\"mode\":\"markers\",\"name\":\"A\",\"text\":\"\",\"x\":[0.4508128924895635,0.04215376366990217,-1.0518703849568212,0.3500266469736823,0.20580261077350961,1.754896843152072,2.6429833117351147,-0.8642797610580246,-0.41582297549411373,-2.042660108926624,2.433411389040133,0.04535365358034176,-0.029792164141180695,0.09932599146605318,-0.36469484458203194,-0.014842401964342685,0.7162484120775321,-0.21961157381040466,-0.1993741741945207,0.23618296330368907,-1.0988480324183805,-1.1914519954196043,1.626157398674772,0.6014805018574845,-0.28299033172737736,0.20369756450508605,-1.3892156923525512,-4.194659972602769,-0.2576579263997152,0.18060191245340587,1.007979796275341,2.8548811976149677,-1.2989409444905182,1.7539133867387662,0.6355116643849393,-0.8877889204443272,0.2632211548259389,-2.1995470109944844,0.10508899178899203,0.023440149037699982,-0.7425340360296323,0.5135110343053352,1.0469222376987855,0.334179083908498,-0.6732049555684151,1.920255314155447,0.31474455194034795,-1.2532405006469192,-0.1782867341660852,-0.2612236675518501,0.08529428865256748,0.8859081746666121,-1.0395821361778677,-1.1188438311720794,1.5062784783110792,0.5645111723215555,1.5574015777784491,0.9343818985603018,1.2748663294021338,0.19879888180871147,-0.5414272117544923,0.39304960399247185,-0.9247493404146402,0.42558068308709135,-0.24056252548192844,-0.019922997486305462,-0.6719566946713905,-0.27653060364317744,0.8027553461951863,0.27219153335231094,-0.5813309657966865,0.5436017784492733,0.37242807990780813,-1.0329950228586733,-1.395061469594945,-0.11127250730929014,1.455724989900488,-1.7520381668036558,-0.7413967616142342,0.8162950883053584,-0.38201837863016125,-0.4575423670048262,-0.4643247842979483,-0.20121589003332105,-0.49942386266143535,-0.5379565189422676,-1.5637105321302363,0.4845066972715467,-1.4458852188723432,-0.17788830278383255,0.6521404141377812,0.1210782204443573,0.5994269475041096,-0.48866354384002325,-1.8744915866299037,-0.4459372624232242,-0.24734394526561712,0.6108673765982904,-0.6112625793654177,-1.5686529059756902],\"xaxis\":\"x4\",\"y\":[0.37597005318765364,-0.9048495718966237,0.8579565711447589,0.5400822133171609,-1.3077258733358614,-0.5342628034790948,-0.4453140991222401,1.9149519217568853,-0.4298784428599787,-1.7408278622364468,0.08984730403796322,-0.7220639924502646,-0.661782077365756,-1.9313280548361829,1.0995235869258424,-2.2416909234475497,1.6556238846323768,0.4881773567676999,-0.24661995472311352,-1.0888515437052844,-0.3800838112965957,1.076085654409655,-1.6593557461777635,0.21297961644533725,-1.5805191546265278,-1.618813240069065,0.04667537628522792,-0.3292224638769374,-1.1251094929123244,0.4090802971009559,-1.3057982878541903,0.4551469096035381,-0.06954108892814388,1.2405533050281512,-1.2173275922137747,1.65140906115177,-0.049881944271718826,0.38147990711103064,-1.0977982075374673,-0.8695743896417516,-1.1401255024732972,-0.1858666165578455,0.49689378953900226,-1.7204814086558124,1.3439359237959083,0.4609679198043368,0.8667683379824784,0.532690330525514,0.95150358077794,1.250685572340651,-0.26943495020421604,0.09722637026800443,0.4088197644876183,0.39448931245833757,1.524689421116744,0.6826810268566323,-1.6830237912206034,0.6318572757177054,0.2712253471184101,0.5970364658727937,0.7659094762271283,0.1096216186670033,-0.9596009180692899,-0.27623561082193904,-0.2579137767261097,-1.5159322047196007,0.26460532519337004,-0.7291898945221118,0.41642299592662535,0.6316260731687413,0.26153263868151694,-1.0468931473485552,1.908267957100243,1.0344822555487396,-1.5724801942537763,0.3569898615943052,-0.5466895707445805,2.0376888472931776,0.3144215127715293,0.5138467978812578,1.819754268505688,0.36849994498834077,-0.15873092607185396,-1.0049529009052667,0.09150725192149144,0.5764277982327448,-1.4916678031268555,0.6889429161353486,-1.5340180898299038,-0.5535547871389617,0.8371221944612994,1.511812318129234,0.4504704904485682,0.8099235277959423,-0.7489858817084645,0.9502448003142555,0.5875531667765086,1.575218737798039,0.6355889890230145,-0.8433765111948266],\"yaxis\":\"y4\",\"type\":\"scatter\"},{\"line\":{\"color\":\"rgba(128, 128, 128, 1.0)\",\"dash\":\"solid\",\"shape\":\"linear\",\"width\":1.3},\"marker\":{\"size\":2,\"symbol\":\"circle\"},\"mode\":\"markers\",\"name\":\"B\",\"text\":\"\",\"x\":[0.37597005318765364,-0.9048495718966237,0.8579565711447589,0.5400822133171609,-1.3077258733358614,-0.5342628034790948,-0.4453140991222401,1.9149519217568853,-0.4298784428599787,-1.7408278622364468,0.08984730403796322,-0.7220639924502646,-0.661782077365756,-1.9313280548361829,1.0995235869258424,-2.2416909234475497,1.6556238846323768,0.4881773567676999,-0.24661995472311352,-1.0888515437052844,-0.3800838112965957,1.076085654409655,-1.6593557461777635,0.21297961644533725,-1.5805191546265278,-1.618813240069065,0.04667537628522792,-0.3292224638769374,-1.1251094929123244,0.4090802971009559,-1.3057982878541903,0.4551469096035381,-0.06954108892814388,1.2405533050281512,-1.2173275922137747,1.65140906115177,-0.049881944271718826,0.38147990711103064,-1.0977982075374673,-0.8695743896417516,-1.1401255024732972,-0.1858666165578455,0.49689378953900226,-1.7204814086558124,1.3439359237959083,0.4609679198043368,0.8667683379824784,0.532690330525514,0.95150358077794,1.250685572340651,-0.26943495020421604,0.09722637026800443,0.4088197644876183,0.39448931245833757,1.524689421116744,0.6826810268566323,-1.6830237912206034,0.6318572757177054,0.2712253471184101,0.5970364658727937,0.7659094762271283,0.1096216186670033,-0.9596009180692899,-0.27623561082193904,-0.2579137767261097,-1.5159322047196007,0.26460532519337004,-0.7291898945221118,0.41642299592662535,0.6316260731687413,0.26153263868151694,-1.0468931473485552,1.908267957100243,1.0344822555487396,-1.5724801942537763,0.3569898615943052,-0.5466895707445805,2.0376888472931776,0.3144215127715293,0.5138467978812578,1.819754268505688,0.36849994498834077,-0.15873092607185396,-1.0049529009052667,0.09150725192149144,0.5764277982327448,-1.4916678031268555,0.6889429161353486,-1.5340180898299038,-0.5535547871389617,0.8371221944612994,1.511812318129234,0.4504704904485682,0.8099235277959423,-0.7489858817084645,0.9502448003142555,0.5875531667765086,1.575218737798039,0.6355889890230145,-0.8433765111948266],\"xaxis\":\"x5\",\"y\":[0.9850713887904406,0.9895016294470834,0.33522187833194084,0.38263555967156293,0.3745792917333505,-1.429798678593703,1.1824612431217312,0.626488597539041,0.14349191696675895,-0.14814614007520954,-0.011611341174777376,2.12010533548965,-0.8772273524296763,0.6081160835617304,0.16137092972869155,-1.0714094098077365,-0.24641963527506083,-0.06582086200559119,-1.0060510964237628,-0.10337648868594303,-0.37416372381453705,0.9355670189990279,0.6210186517918276,-0.382253315672212,1.1502055049032665,0.11081971219168177,-0.9485281386209676,0.3163862184000106,-0.3640965591259851,0.18310189183405573,2.2399820434026694,0.639087710690256,-0.1398487891852959,-0.3925511584810141,1.3296265283651694,-0.11776415174203159,-0.4744386630352112,-0.4588922483652321,0.7842901351701419,-0.7900798468461651,-0.3144100924184365,0.06904462737971202,-0.08165840561428707,0.5937850226834473,1.6943248142423644,-1.4730818763638593,1.9149121426011169,-0.6981210172827813,1.0620220071337512,0.3270240144233015,0.9983963737189102,-1.5820504018948132,1.5576377626695666,0.6818302184258955,0.9581576498185576,0.7734938363828401,-1.2645145864507532,-0.6557307087352567,-0.08794658491303368,-0.2078210220450748,-0.7092534417802636,-0.4381431192271822,-0.29781816966271807,-1.9836917976954034,1.7777877374165716,0.3218961402254565,-2.077586101344516,-1.2073343169448907,1.7441615296849142,0.3048809157280745,-0.4907508335554843,0.8770109049237509,1.4245387717453464,1.0661665279074823,-0.6339901914933027,0.6802602704574408,-0.7168654439364791,-0.5578302948819142,-1.1185457726425359,-0.6121908887398874,-0.3779897877929932,1.4777200034997569,-0.19292716976175264,0.3574539014170091,-0.18544526745879408,-1.1466728464685323,0.5323503559652332,1.099398587877932,-2.3408632006156953,0.2961022336838603,0.34912709976479883,0.4803125361409515,-0.9275043314294719,1.810404002204835,-0.8997615818329986,-0.8882118828210713,0.07222842748511556,0.8997473673949757,0.12376395341787741,-2.1040059015548027],\"yaxis\":\"y5\",\"type\":\"scatter\"},{\"histfunc\":\"count\",\"histnorm\":\"\",\"marker\":{\"color\":\"rgba(55, 128, 191, 1.0)\",\"line\":{\"color\":\"#4D5663\",\"width\":1.3}},\"name\":\"B\",\"nbinsx\":10,\"opacity\":0.8,\"orientation\":\"v\",\"x\":[0.9850713887904406,0.9895016294470834,0.33522187833194084,0.38263555967156293,0.3745792917333505,-1.429798678593703,1.1824612431217312,0.626488597539041,0.14349191696675895,-0.14814614007520954,-0.011611341174777376,2.12010533548965,-0.8772273524296763,0.6081160835617304,0.16137092972869155,-1.0714094098077365,-0.24641963527506083,-0.06582086200559119,-1.0060510964237628,-0.10337648868594303,-0.37416372381453705,0.9355670189990279,0.6210186517918276,-0.382253315672212,1.1502055049032665,0.11081971219168177,-0.9485281386209676,0.3163862184000106,-0.3640965591259851,0.18310189183405573,2.2399820434026694,0.639087710690256,-0.1398487891852959,-0.3925511584810141,1.3296265283651694,-0.11776415174203159,-0.4744386630352112,-0.4588922483652321,0.7842901351701419,-0.7900798468461651,-0.3144100924184365,0.06904462737971202,-0.08165840561428707,0.5937850226834473,1.6943248142423644,-1.4730818763638593,1.9149121426011169,-0.6981210172827813,1.0620220071337512,0.3270240144233015,0.9983963737189102,-1.5820504018948132,1.5576377626695666,0.6818302184258955,0.9581576498185576,0.7734938363828401,-1.2645145864507532,-0.6557307087352567,-0.08794658491303368,-0.2078210220450748,-0.7092534417802636,-0.4381431192271822,-0.29781816966271807,-1.9836917976954034,1.7777877374165716,0.3218961402254565,-2.077586101344516,-1.2073343169448907,1.7441615296849142,0.3048809157280745,-0.4907508335554843,0.8770109049237509,1.4245387717453464,1.0661665279074823,-0.6339901914933027,0.6802602704574408,-0.7168654439364791,-0.5578302948819142,-1.1185457726425359,-0.6121908887398874,-0.3779897877929932,1.4777200034997569,-0.19292716976175264,0.3574539014170091,-0.18544526745879408,-1.1466728464685323,0.5323503559652332,1.099398587877932,-2.3408632006156953,0.2961022336838603,0.34912709976479883,0.4803125361409515,-0.9275043314294719,1.810404002204835,-0.8997615818329986,-0.8882118828210713,0.07222842748511556,0.8997473673949757,0.12376395341787741,-2.1040059015548027],\"xaxis\":\"x6\",\"yaxis\":\"y6\",\"type\":\"histogram\"},{\"line\":{\"color\":\"rgba(128, 128, 128, 1.0)\",\"dash\":\"solid\",\"shape\":\"linear\",\"width\":1.3},\"marker\":{\"size\":2,\"symbol\":\"circle\"},\"mode\":\"markers\",\"name\":\"B\",\"text\":\"\",\"x\":[1.3624391131495084,-0.09446315603746394,0.12053743295789382,1.1817252377826062,0.6475800142644463,0.8365164130551516,-0.4078180117652873,-1.1958213597542948,0.40486279121570723,0.30592864416212057,0.19107544463621579,0.693625983370063,-0.4795213929104659,-1.0445591306189137,1.5408861746461362,-1.3208667950772104,0.6094364132193509,-0.04085162955660802,-1.1955049542950045,-1.2909839067238678,-0.18996601563309218,-0.3027149219694637,-1.5439791351118015,0.15460830804329959,0.658379885150995,0.5165004387560271,0.24957975250950862,0.0374615654790334,-0.5011376297220035,-0.6980267142027701,1.003819045674507,0.5585194029409475,-0.6530654144953657,1.2989071642014614,1.2646838735261166,0.5232949932517565,-0.6708949079502614,-0.927915205881154,0.8588928727833726,-0.5510976265140255,-1.0544854398765824,0.38249192826086326,-0.265182820267451,-1.2334846966610336,0.8966353913944343,1.1855664845671843,2.102330612375204,0.8819175112781902,0.9484031417715634,-1.2951255668253117,0.5032418726519972,0.3869633350184438,2.0393910745438646,-0.9133046872020412,-1.7446801263689433,-0.2368714660544164,0.11501744149322286,0.9606814835850809,-1.0283016300674763,-0.20628502526959266,1.549434241388962,0.7699467943680909,1.1577045284955838,-0.34241868984657486,-0.21732911323454163,-0.7639606514748805,-0.6982225764961281,0.09808374584084899,0.07220517620201307,0.28388278140747314,2.048594502372427,-1.8338997526400318,1.1579823376966734,0.09248369553907014,-0.9536254360521329,-0.07992099885216111,-1.339150308345133,-4.248316610590325,0.877309688073591,1.0774032735018733,-1.660165966097154,-0.3296052293735431,0.7444300470693337,-0.28835240383946076,1.3209428618408567,-1.7226785064983972,-1.4546956979417622,-1.3569076990715874,-0.4591211120108361,0.6957975501809467,0.18663813416373395,0.684558745731199,-0.8003535785394227,1.4626502325103097,0.27341601084813794,-1.5470354465064384,1.1031551691903023,-0.12376385833508523,-0.8445403928519083,-1.1997622783239204],\"xaxis\":\"x7\",\"y\":[0.9850713887904406,0.9895016294470834,0.33522187833194084,0.38263555967156293,0.3745792917333505,-1.429798678593703,1.1824612431217312,0.626488597539041,0.14349191696675895,-0.14814614007520954,-0.011611341174777376,2.12010533548965,-0.8772273524296763,0.6081160835617304,0.16137092972869155,-1.0714094098077365,-0.24641963527506083,-0.06582086200559119,-1.0060510964237628,-0.10337648868594303,-0.37416372381453705,0.9355670189990279,0.6210186517918276,-0.382253315672212,1.1502055049032665,0.11081971219168177,-0.9485281386209676,0.3163862184000106,-0.3640965591259851,0.18310189183405573,2.2399820434026694,0.639087710690256,-0.1398487891852959,-0.3925511584810141,1.3296265283651694,-0.11776415174203159,-0.4744386630352112,-0.4588922483652321,0.7842901351701419,-0.7900798468461651,-0.3144100924184365,0.06904462737971202,-0.08165840561428707,0.5937850226834473,1.6943248142423644,-1.4730818763638593,1.9149121426011169,-0.6981210172827813,1.0620220071337512,0.3270240144233015,0.9983963737189102,-1.5820504018948132,1.5576377626695666,0.6818302184258955,0.9581576498185576,0.7734938363828401,-1.2645145864507532,-0.6557307087352567,-0.08794658491303368,-0.2078210220450748,-0.7092534417802636,-0.4381431192271822,-0.29781816966271807,-1.9836917976954034,1.7777877374165716,0.3218961402254565,-2.077586101344516,-1.2073343169448907,1.7441615296849142,0.3048809157280745,-0.4907508335554843,0.8770109049237509,1.4245387717453464,1.0661665279074823,-0.6339901914933027,0.6802602704574408,-0.7168654439364791,-0.5578302948819142,-1.1185457726425359,-0.6121908887398874,-0.3779897877929932,1.4777200034997569,-0.19292716976175264,0.3574539014170091,-0.18544526745879408,-1.1466728464685323,0.5323503559652332,1.099398587877932,-2.3408632006156953,0.2961022336838603,0.34912709976479883,0.4803125361409515,-0.9275043314294719,1.810404002204835,-0.8997615818329986,-0.8882118828210713,0.07222842748511556,0.8997473673949757,0.12376395341787741,-2.1040059015548027],\"yaxis\":\"y7\",\"type\":\"scatter\"},{\"line\":{\"color\":\"rgba(128, 128, 128, 1.0)\",\"dash\":\"solid\",\"shape\":\"linear\",\"width\":1.3},\"marker\":{\"size\":2,\"symbol\":\"circle\"},\"mode\":\"markers\",\"name\":\"B\",\"text\":\"\",\"x\":[0.4508128924895635,0.04215376366990217,-1.0518703849568212,0.3500266469736823,0.20580261077350961,1.754896843152072,2.6429833117351147,-0.8642797610580246,-0.41582297549411373,-2.042660108926624,2.433411389040133,0.04535365358034176,-0.029792164141180695,0.09932599146605318,-0.36469484458203194,-0.014842401964342685,0.7162484120775321,-0.21961157381040466,-0.1993741741945207,0.23618296330368907,-1.0988480324183805,-1.1914519954196043,1.626157398674772,0.6014805018574845,-0.28299033172737736,0.20369756450508605,-1.3892156923525512,-4.194659972602769,-0.2576579263997152,0.18060191245340587,1.007979796275341,2.8548811976149677,-1.2989409444905182,1.7539133867387662,0.6355116643849393,-0.8877889204443272,0.2632211548259389,-2.1995470109944844,0.10508899178899203,0.023440149037699982,-0.7425340360296323,0.5135110343053352,1.0469222376987855,0.334179083908498,-0.6732049555684151,1.920255314155447,0.31474455194034795,-1.2532405006469192,-0.1782867341660852,-0.2612236675518501,0.08529428865256748,0.8859081746666121,-1.0395821361778677,-1.1188438311720794,1.5062784783110792,0.5645111723215555,1.5574015777784491,0.9343818985603018,1.2748663294021338,0.19879888180871147,-0.5414272117544923,0.39304960399247185,-0.9247493404146402,0.42558068308709135,-0.24056252548192844,-0.019922997486305462,-0.6719566946713905,-0.27653060364317744,0.8027553461951863,0.27219153335231094,-0.5813309657966865,0.5436017784492733,0.37242807990780813,-1.0329950228586733,-1.395061469594945,-0.11127250730929014,1.455724989900488,-1.7520381668036558,-0.7413967616142342,0.8162950883053584,-0.38201837863016125,-0.4575423670048262,-0.4643247842979483,-0.20121589003332105,-0.49942386266143535,-0.5379565189422676,-1.5637105321302363,0.4845066972715467,-1.4458852188723432,-0.17788830278383255,0.6521404141377812,0.1210782204443573,0.5994269475041096,-0.48866354384002325,-1.8744915866299037,-0.4459372624232242,-0.24734394526561712,0.6108673765982904,-0.6112625793654177,-1.5686529059756902],\"xaxis\":\"x8\",\"y\":[0.9850713887904406,0.9895016294470834,0.33522187833194084,0.38263555967156293,0.3745792917333505,-1.429798678593703,1.1824612431217312,0.626488597539041,0.14349191696675895,-0.14814614007520954,-0.011611341174777376,2.12010533548965,-0.8772273524296763,0.6081160835617304,0.16137092972869155,-1.0714094098077365,-0.24641963527506083,-0.06582086200559119,-1.0060510964237628,-0.10337648868594303,-0.37416372381453705,0.9355670189990279,0.6210186517918276,-0.382253315672212,1.1502055049032665,0.11081971219168177,-0.9485281386209676,0.3163862184000106,-0.3640965591259851,0.18310189183405573,2.2399820434026694,0.639087710690256,-0.1398487891852959,-0.3925511584810141,1.3296265283651694,-0.11776415174203159,-0.4744386630352112,-0.4588922483652321,0.7842901351701419,-0.7900798468461651,-0.3144100924184365,0.06904462737971202,-0.08165840561428707,0.5937850226834473,1.6943248142423644,-1.4730818763638593,1.9149121426011169,-0.6981210172827813,1.0620220071337512,0.3270240144233015,0.9983963737189102,-1.5820504018948132,1.5576377626695666,0.6818302184258955,0.9581576498185576,0.7734938363828401,-1.2645145864507532,-0.6557307087352567,-0.08794658491303368,-0.2078210220450748,-0.7092534417802636,-0.4381431192271822,-0.29781816966271807,-1.9836917976954034,1.7777877374165716,0.3218961402254565,-2.077586101344516,-1.2073343169448907,1.7441615296849142,0.3048809157280745,-0.4907508335554843,0.8770109049237509,1.4245387717453464,1.0661665279074823,-0.6339901914933027,0.6802602704574408,-0.7168654439364791,-0.5578302948819142,-1.1185457726425359,-0.6121908887398874,-0.3779897877929932,1.4777200034997569,-0.19292716976175264,0.3574539014170091,-0.18544526745879408,-1.1466728464685323,0.5323503559652332,1.099398587877932,-2.3408632006156953,0.2961022336838603,0.34912709976479883,0.4803125361409515,-0.9275043314294719,1.810404002204835,-0.8997615818329986,-0.8882118828210713,0.07222842748511556,0.8997473673949757,0.12376395341787741,-2.1040059015548027],\"yaxis\":\"y8\",\"type\":\"scatter\"},{\"line\":{\"color\":\"rgba(128, 128, 128, 1.0)\",\"dash\":\"solid\",\"shape\":\"linear\",\"width\":1.3},\"marker\":{\"size\":2,\"symbol\":\"circle\"},\"mode\":\"markers\",\"name\":\"C\",\"text\":\"\",\"x\":[0.37597005318765364,-0.9048495718966237,0.8579565711447589,0.5400822133171609,-1.3077258733358614,-0.5342628034790948,-0.4453140991222401,1.9149519217568853,-0.4298784428599787,-1.7408278622364468,0.08984730403796322,-0.7220639924502646,-0.661782077365756,-1.9313280548361829,1.0995235869258424,-2.2416909234475497,1.6556238846323768,0.4881773567676999,-0.24661995472311352,-1.0888515437052844,-0.3800838112965957,1.076085654409655,-1.6593557461777635,0.21297961644533725,-1.5805191546265278,-1.618813240069065,0.04667537628522792,-0.3292224638769374,-1.1251094929123244,0.4090802971009559,-1.3057982878541903,0.4551469096035381,-0.06954108892814388,1.2405533050281512,-1.2173275922137747,1.65140906115177,-0.049881944271718826,0.38147990711103064,-1.0977982075374673,-0.8695743896417516,-1.1401255024732972,-0.1858666165578455,0.49689378953900226,-1.7204814086558124,1.3439359237959083,0.4609679198043368,0.8667683379824784,0.532690330525514,0.95150358077794,1.250685572340651,-0.26943495020421604,0.09722637026800443,0.4088197644876183,0.39448931245833757,1.524689421116744,0.6826810268566323,-1.6830237912206034,0.6318572757177054,0.2712253471184101,0.5970364658727937,0.7659094762271283,0.1096216186670033,-0.9596009180692899,-0.27623561082193904,-0.2579137767261097,-1.5159322047196007,0.26460532519337004,-0.7291898945221118,0.41642299592662535,0.6316260731687413,0.26153263868151694,-1.0468931473485552,1.908267957100243,1.0344822555487396,-1.5724801942537763,0.3569898615943052,-0.5466895707445805,2.0376888472931776,0.3144215127715293,0.5138467978812578,1.819754268505688,0.36849994498834077,-0.15873092607185396,-1.0049529009052667,0.09150725192149144,0.5764277982327448,-1.4916678031268555,0.6889429161353486,-1.5340180898299038,-0.5535547871389617,0.8371221944612994,1.511812318129234,0.4504704904485682,0.8099235277959423,-0.7489858817084645,0.9502448003142555,0.5875531667765086,1.575218737798039,0.6355889890230145,-0.8433765111948266],\"xaxis\":\"x9\",\"y\":[1.3624391131495084,-0.09446315603746394,0.12053743295789382,1.1817252377826062,0.6475800142644463,0.8365164130551516,-0.4078180117652873,-1.1958213597542948,0.40486279121570723,0.30592864416212057,0.19107544463621579,0.693625983370063,-0.4795213929104659,-1.0445591306189137,1.5408861746461362,-1.3208667950772104,0.6094364132193509,-0.04085162955660802,-1.1955049542950045,-1.2909839067238678,-0.18996601563309218,-0.3027149219694637,-1.5439791351118015,0.15460830804329959,0.658379885150995,0.5165004387560271,0.24957975250950862,0.0374615654790334,-0.5011376297220035,-0.6980267142027701,1.003819045674507,0.5585194029409475,-0.6530654144953657,1.2989071642014614,1.2646838735261166,0.5232949932517565,-0.6708949079502614,-0.927915205881154,0.8588928727833726,-0.5510976265140255,-1.0544854398765824,0.38249192826086326,-0.265182820267451,-1.2334846966610336,0.8966353913944343,1.1855664845671843,2.102330612375204,0.8819175112781902,0.9484031417715634,-1.2951255668253117,0.5032418726519972,0.3869633350184438,2.0393910745438646,-0.9133046872020412,-1.7446801263689433,-0.2368714660544164,0.11501744149322286,0.9606814835850809,-1.0283016300674763,-0.20628502526959266,1.549434241388962,0.7699467943680909,1.1577045284955838,-0.34241868984657486,-0.21732911323454163,-0.7639606514748805,-0.6982225764961281,0.09808374584084899,0.07220517620201307,0.28388278140747314,2.048594502372427,-1.8338997526400318,1.1579823376966734,0.09248369553907014,-0.9536254360521329,-0.07992099885216111,-1.339150308345133,-4.248316610590325,0.877309688073591,1.0774032735018733,-1.660165966097154,-0.3296052293735431,0.7444300470693337,-0.28835240383946076,1.3209428618408567,-1.7226785064983972,-1.4546956979417622,-1.3569076990715874,-0.4591211120108361,0.6957975501809467,0.18663813416373395,0.684558745731199,-0.8003535785394227,1.4626502325103097,0.27341601084813794,-1.5470354465064384,1.1031551691903023,-0.12376385833508523,-0.8445403928519083,-1.1997622783239204],\"yaxis\":\"y9\",\"type\":\"scatter\"},{\"line\":{\"color\":\"rgba(128, 128, 128, 1.0)\",\"dash\":\"solid\",\"shape\":\"linear\",\"width\":1.3},\"marker\":{\"size\":2,\"symbol\":\"circle\"},\"mode\":\"markers\",\"name\":\"C\",\"text\":\"\",\"x\":[0.9850713887904406,0.9895016294470834,0.33522187833194084,0.38263555967156293,0.3745792917333505,-1.429798678593703,1.1824612431217312,0.626488597539041,0.14349191696675895,-0.14814614007520954,-0.011611341174777376,2.12010533548965,-0.8772273524296763,0.6081160835617304,0.16137092972869155,-1.0714094098077365,-0.24641963527506083,-0.06582086200559119,-1.0060510964237628,-0.10337648868594303,-0.37416372381453705,0.9355670189990279,0.6210186517918276,-0.382253315672212,1.1502055049032665,0.11081971219168177,-0.9485281386209676,0.3163862184000106,-0.3640965591259851,0.18310189183405573,2.2399820434026694,0.639087710690256,-0.1398487891852959,-0.3925511584810141,1.3296265283651694,-0.11776415174203159,-0.4744386630352112,-0.4588922483652321,0.7842901351701419,-0.7900798468461651,-0.3144100924184365,0.06904462737971202,-0.08165840561428707,0.5937850226834473,1.6943248142423644,-1.4730818763638593,1.9149121426011169,-0.6981210172827813,1.0620220071337512,0.3270240144233015,0.9983963737189102,-1.5820504018948132,1.5576377626695666,0.6818302184258955,0.9581576498185576,0.7734938363828401,-1.2645145864507532,-0.6557307087352567,-0.08794658491303368,-0.2078210220450748,-0.7092534417802636,-0.4381431192271822,-0.29781816966271807,-1.9836917976954034,1.7777877374165716,0.3218961402254565,-2.077586101344516,-1.2073343169448907,1.7441615296849142,0.3048809157280745,-0.4907508335554843,0.8770109049237509,1.4245387717453464,1.0661665279074823,-0.6339901914933027,0.6802602704574408,-0.7168654439364791,-0.5578302948819142,-1.1185457726425359,-0.6121908887398874,-0.3779897877929932,1.4777200034997569,-0.19292716976175264,0.3574539014170091,-0.18544526745879408,-1.1466728464685323,0.5323503559652332,1.099398587877932,-2.3408632006156953,0.2961022336838603,0.34912709976479883,0.4803125361409515,-0.9275043314294719,1.810404002204835,-0.8997615818329986,-0.8882118828210713,0.07222842748511556,0.8997473673949757,0.12376395341787741,-2.1040059015548027],\"xaxis\":\"x10\",\"y\":[1.3624391131495084,-0.09446315603746394,0.12053743295789382,1.1817252377826062,0.6475800142644463,0.8365164130551516,-0.4078180117652873,-1.1958213597542948,0.40486279121570723,0.30592864416212057,0.19107544463621579,0.693625983370063,-0.4795213929104659,-1.0445591306189137,1.5408861746461362,-1.3208667950772104,0.6094364132193509,-0.04085162955660802,-1.1955049542950045,-1.2909839067238678,-0.18996601563309218,-0.3027149219694637,-1.5439791351118015,0.15460830804329959,0.658379885150995,0.5165004387560271,0.24957975250950862,0.0374615654790334,-0.5011376297220035,-0.6980267142027701,1.003819045674507,0.5585194029409475,-0.6530654144953657,1.2989071642014614,1.2646838735261166,0.5232949932517565,-0.6708949079502614,-0.927915205881154,0.8588928727833726,-0.5510976265140255,-1.0544854398765824,0.38249192826086326,-0.265182820267451,-1.2334846966610336,0.8966353913944343,1.1855664845671843,2.102330612375204,0.8819175112781902,0.9484031417715634,-1.2951255668253117,0.5032418726519972,0.3869633350184438,2.0393910745438646,-0.9133046872020412,-1.7446801263689433,-0.2368714660544164,0.11501744149322286,0.9606814835850809,-1.0283016300674763,-0.20628502526959266,1.549434241388962,0.7699467943680909,1.1577045284955838,-0.34241868984657486,-0.21732911323454163,-0.7639606514748805,-0.6982225764961281,0.09808374584084899,0.07220517620201307,0.28388278140747314,2.048594502372427,-1.8338997526400318,1.1579823376966734,0.09248369553907014,-0.9536254360521329,-0.07992099885216111,-1.339150308345133,-4.248316610590325,0.877309688073591,1.0774032735018733,-1.660165966097154,-0.3296052293735431,0.7444300470693337,-0.28835240383946076,1.3209428618408567,-1.7226785064983972,-1.4546956979417622,-1.3569076990715874,-0.4591211120108361,0.6957975501809467,0.18663813416373395,0.684558745731199,-0.8003535785394227,1.4626502325103097,0.27341601084813794,-1.5470354465064384,1.1031551691903023,-0.12376385833508523,-0.8445403928519083,-1.1997622783239204],\"yaxis\":\"y10\",\"type\":\"scatter\"},{\"histfunc\":\"count\",\"histnorm\":\"\",\"marker\":{\"color\":\"rgba(50, 171, 96, 1.0)\",\"line\":{\"color\":\"#4D5663\",\"width\":1.3}},\"name\":\"C\",\"nbinsx\":10,\"opacity\":0.8,\"orientation\":\"v\",\"x\":[1.3624391131495084,-0.09446315603746394,0.12053743295789382,1.1817252377826062,0.6475800142644463,0.8365164130551516,-0.4078180117652873,-1.1958213597542948,0.40486279121570723,0.30592864416212057,0.19107544463621579,0.693625983370063,-0.4795213929104659,-1.0445591306189137,1.5408861746461362,-1.3208667950772104,0.6094364132193509,-0.04085162955660802,-1.1955049542950045,-1.2909839067238678,-0.18996601563309218,-0.3027149219694637,-1.5439791351118015,0.15460830804329959,0.658379885150995,0.5165004387560271,0.24957975250950862,0.0374615654790334,-0.5011376297220035,-0.6980267142027701,1.003819045674507,0.5585194029409475,-0.6530654144953657,1.2989071642014614,1.2646838735261166,0.5232949932517565,-0.6708949079502614,-0.927915205881154,0.8588928727833726,-0.5510976265140255,-1.0544854398765824,0.38249192826086326,-0.265182820267451,-1.2334846966610336,0.8966353913944343,1.1855664845671843,2.102330612375204,0.8819175112781902,0.9484031417715634,-1.2951255668253117,0.5032418726519972,0.3869633350184438,2.0393910745438646,-0.9133046872020412,-1.7446801263689433,-0.2368714660544164,0.11501744149322286,0.9606814835850809,-1.0283016300674763,-0.20628502526959266,1.549434241388962,0.7699467943680909,1.1577045284955838,-0.34241868984657486,-0.21732911323454163,-0.7639606514748805,-0.6982225764961281,0.09808374584084899,0.07220517620201307,0.28388278140747314,2.048594502372427,-1.8338997526400318,1.1579823376966734,0.09248369553907014,-0.9536254360521329,-0.07992099885216111,-1.339150308345133,-4.248316610590325,0.877309688073591,1.0774032735018733,-1.660165966097154,-0.3296052293735431,0.7444300470693337,-0.28835240383946076,1.3209428618408567,-1.7226785064983972,-1.4546956979417622,-1.3569076990715874,-0.4591211120108361,0.6957975501809467,0.18663813416373395,0.684558745731199,-0.8003535785394227,1.4626502325103097,0.27341601084813794,-1.5470354465064384,1.1031551691903023,-0.12376385833508523,-0.8445403928519083,-1.1997622783239204],\"xaxis\":\"x11\",\"yaxis\":\"y11\",\"type\":\"histogram\"},{\"line\":{\"color\":\"rgba(128, 128, 128, 1.0)\",\"dash\":\"solid\",\"shape\":\"linear\",\"width\":1.3},\"marker\":{\"size\":2,\"symbol\":\"circle\"},\"mode\":\"markers\",\"name\":\"C\",\"text\":\"\",\"x\":[0.4508128924895635,0.04215376366990217,-1.0518703849568212,0.3500266469736823,0.20580261077350961,1.754896843152072,2.6429833117351147,-0.8642797610580246,-0.41582297549411373,-2.042660108926624,2.433411389040133,0.04535365358034176,-0.029792164141180695,0.09932599146605318,-0.36469484458203194,-0.014842401964342685,0.7162484120775321,-0.21961157381040466,-0.1993741741945207,0.23618296330368907,-1.0988480324183805,-1.1914519954196043,1.626157398674772,0.6014805018574845,-0.28299033172737736,0.20369756450508605,-1.3892156923525512,-4.194659972602769,-0.2576579263997152,0.18060191245340587,1.007979796275341,2.8548811976149677,-1.2989409444905182,1.7539133867387662,0.6355116643849393,-0.8877889204443272,0.2632211548259389,-2.1995470109944844,0.10508899178899203,0.023440149037699982,-0.7425340360296323,0.5135110343053352,1.0469222376987855,0.334179083908498,-0.6732049555684151,1.920255314155447,0.31474455194034795,-1.2532405006469192,-0.1782867341660852,-0.2612236675518501,0.08529428865256748,0.8859081746666121,-1.0395821361778677,-1.1188438311720794,1.5062784783110792,0.5645111723215555,1.5574015777784491,0.9343818985603018,1.2748663294021338,0.19879888180871147,-0.5414272117544923,0.39304960399247185,-0.9247493404146402,0.42558068308709135,-0.24056252548192844,-0.019922997486305462,-0.6719566946713905,-0.27653060364317744,0.8027553461951863,0.27219153335231094,-0.5813309657966865,0.5436017784492733,0.37242807990780813,-1.0329950228586733,-1.395061469594945,-0.11127250730929014,1.455724989900488,-1.7520381668036558,-0.7413967616142342,0.8162950883053584,-0.38201837863016125,-0.4575423670048262,-0.4643247842979483,-0.20121589003332105,-0.49942386266143535,-0.5379565189422676,-1.5637105321302363,0.4845066972715467,-1.4458852188723432,-0.17788830278383255,0.6521404141377812,0.1210782204443573,0.5994269475041096,-0.48866354384002325,-1.8744915866299037,-0.4459372624232242,-0.24734394526561712,0.6108673765982904,-0.6112625793654177,-1.5686529059756902],\"xaxis\":\"x12\",\"y\":[1.3624391131495084,-0.09446315603746394,0.12053743295789382,1.1817252377826062,0.6475800142644463,0.8365164130551516,-0.4078180117652873,-1.1958213597542948,0.40486279121570723,0.30592864416212057,0.19107544463621579,0.693625983370063,-0.4795213929104659,-1.0445591306189137,1.5408861746461362,-1.3208667950772104,0.6094364132193509,-0.04085162955660802,-1.1955049542950045,-1.2909839067238678,-0.18996601563309218,-0.3027149219694637,-1.5439791351118015,0.15460830804329959,0.658379885150995,0.5165004387560271,0.24957975250950862,0.0374615654790334,-0.5011376297220035,-0.6980267142027701,1.003819045674507,0.5585194029409475,-0.6530654144953657,1.2989071642014614,1.2646838735261166,0.5232949932517565,-0.6708949079502614,-0.927915205881154,0.8588928727833726,-0.5510976265140255,-1.0544854398765824,0.38249192826086326,-0.265182820267451,-1.2334846966610336,0.8966353913944343,1.1855664845671843,2.102330612375204,0.8819175112781902,0.9484031417715634,-1.2951255668253117,0.5032418726519972,0.3869633350184438,2.0393910745438646,-0.9133046872020412,-1.7446801263689433,-0.2368714660544164,0.11501744149322286,0.9606814835850809,-1.0283016300674763,-0.20628502526959266,1.549434241388962,0.7699467943680909,1.1577045284955838,-0.34241868984657486,-0.21732911323454163,-0.7639606514748805,-0.6982225764961281,0.09808374584084899,0.07220517620201307,0.28388278140747314,2.048594502372427,-1.8338997526400318,1.1579823376966734,0.09248369553907014,-0.9536254360521329,-0.07992099885216111,-1.339150308345133,-4.248316610590325,0.877309688073591,1.0774032735018733,-1.660165966097154,-0.3296052293735431,0.7444300470693337,-0.28835240383946076,1.3209428618408567,-1.7226785064983972,-1.4546956979417622,-1.3569076990715874,-0.4591211120108361,0.6957975501809467,0.18663813416373395,0.684558745731199,-0.8003535785394227,1.4626502325103097,0.27341601084813794,-1.5470354465064384,1.1031551691903023,-0.12376385833508523,-0.8445403928519083,-1.1997622783239204],\"yaxis\":\"y12\",\"type\":\"scatter\"},{\"line\":{\"color\":\"rgba(128, 128, 128, 1.0)\",\"dash\":\"solid\",\"shape\":\"linear\",\"width\":1.3},\"marker\":{\"size\":2,\"symbol\":\"circle\"},\"mode\":\"markers\",\"name\":\"D\",\"text\":\"\",\"x\":[0.37597005318765364,-0.9048495718966237,0.8579565711447589,0.5400822133171609,-1.3077258733358614,-0.5342628034790948,-0.4453140991222401,1.9149519217568853,-0.4298784428599787,-1.7408278622364468,0.08984730403796322,-0.7220639924502646,-0.661782077365756,-1.9313280548361829,1.0995235869258424,-2.2416909234475497,1.6556238846323768,0.4881773567676999,-0.24661995472311352,-1.0888515437052844,-0.3800838112965957,1.076085654409655,-1.6593557461777635,0.21297961644533725,-1.5805191546265278,-1.618813240069065,0.04667537628522792,-0.3292224638769374,-1.1251094929123244,0.4090802971009559,-1.3057982878541903,0.4551469096035381,-0.06954108892814388,1.2405533050281512,-1.2173275922137747,1.65140906115177,-0.049881944271718826,0.38147990711103064,-1.0977982075374673,-0.8695743896417516,-1.1401255024732972,-0.1858666165578455,0.49689378953900226,-1.7204814086558124,1.3439359237959083,0.4609679198043368,0.8667683379824784,0.532690330525514,0.95150358077794,1.250685572340651,-0.26943495020421604,0.09722637026800443,0.4088197644876183,0.39448931245833757,1.524689421116744,0.6826810268566323,-1.6830237912206034,0.6318572757177054,0.2712253471184101,0.5970364658727937,0.7659094762271283,0.1096216186670033,-0.9596009180692899,-0.27623561082193904,-0.2579137767261097,-1.5159322047196007,0.26460532519337004,-0.7291898945221118,0.41642299592662535,0.6316260731687413,0.26153263868151694,-1.0468931473485552,1.908267957100243,1.0344822555487396,-1.5724801942537763,0.3569898615943052,-0.5466895707445805,2.0376888472931776,0.3144215127715293,0.5138467978812578,1.819754268505688,0.36849994498834077,-0.15873092607185396,-1.0049529009052667,0.09150725192149144,0.5764277982327448,-1.4916678031268555,0.6889429161353486,-1.5340180898299038,-0.5535547871389617,0.8371221944612994,1.511812318129234,0.4504704904485682,0.8099235277959423,-0.7489858817084645,0.9502448003142555,0.5875531667765086,1.575218737798039,0.6355889890230145,-0.8433765111948266],\"xaxis\":\"x13\",\"y\":[0.4508128924895635,0.04215376366990217,-1.0518703849568212,0.3500266469736823,0.20580261077350961,1.754896843152072,2.6429833117351147,-0.8642797610580246,-0.41582297549411373,-2.042660108926624,2.433411389040133,0.04535365358034176,-0.029792164141180695,0.09932599146605318,-0.36469484458203194,-0.014842401964342685,0.7162484120775321,-0.21961157381040466,-0.1993741741945207,0.23618296330368907,-1.0988480324183805,-1.1914519954196043,1.626157398674772,0.6014805018574845,-0.28299033172737736,0.20369756450508605,-1.3892156923525512,-4.194659972602769,-0.2576579263997152,0.18060191245340587,1.007979796275341,2.8548811976149677,-1.2989409444905182,1.7539133867387662,0.6355116643849393,-0.8877889204443272,0.2632211548259389,-2.1995470109944844,0.10508899178899203,0.023440149037699982,-0.7425340360296323,0.5135110343053352,1.0469222376987855,0.334179083908498,-0.6732049555684151,1.920255314155447,0.31474455194034795,-1.2532405006469192,-0.1782867341660852,-0.2612236675518501,0.08529428865256748,0.8859081746666121,-1.0395821361778677,-1.1188438311720794,1.5062784783110792,0.5645111723215555,1.5574015777784491,0.9343818985603018,1.2748663294021338,0.19879888180871147,-0.5414272117544923,0.39304960399247185,-0.9247493404146402,0.42558068308709135,-0.24056252548192844,-0.019922997486305462,-0.6719566946713905,-0.27653060364317744,0.8027553461951863,0.27219153335231094,-0.5813309657966865,0.5436017784492733,0.37242807990780813,-1.0329950228586733,-1.395061469594945,-0.11127250730929014,1.455724989900488,-1.7520381668036558,-0.7413967616142342,0.8162950883053584,-0.38201837863016125,-0.4575423670048262,-0.4643247842979483,-0.20121589003332105,-0.49942386266143535,-0.5379565189422676,-1.5637105321302363,0.4845066972715467,-1.4458852188723432,-0.17788830278383255,0.6521404141377812,0.1210782204443573,0.5994269475041096,-0.48866354384002325,-1.8744915866299037,-0.4459372624232242,-0.24734394526561712,0.6108673765982904,-0.6112625793654177,-1.5686529059756902],\"yaxis\":\"y13\",\"type\":\"scatter\"},{\"line\":{\"color\":\"rgba(128, 128, 128, 1.0)\",\"dash\":\"solid\",\"shape\":\"linear\",\"width\":1.3},\"marker\":{\"size\":2,\"symbol\":\"circle\"},\"mode\":\"markers\",\"name\":\"D\",\"text\":\"\",\"x\":[0.9850713887904406,0.9895016294470834,0.33522187833194084,0.38263555967156293,0.3745792917333505,-1.429798678593703,1.1824612431217312,0.626488597539041,0.14349191696675895,-0.14814614007520954,-0.011611341174777376,2.12010533548965,-0.8772273524296763,0.6081160835617304,0.16137092972869155,-1.0714094098077365,-0.24641963527506083,-0.06582086200559119,-1.0060510964237628,-0.10337648868594303,-0.37416372381453705,0.9355670189990279,0.6210186517918276,-0.382253315672212,1.1502055049032665,0.11081971219168177,-0.9485281386209676,0.3163862184000106,-0.3640965591259851,0.18310189183405573,2.2399820434026694,0.639087710690256,-0.1398487891852959,-0.3925511584810141,1.3296265283651694,-0.11776415174203159,-0.4744386630352112,-0.4588922483652321,0.7842901351701419,-0.7900798468461651,-0.3144100924184365,0.06904462737971202,-0.08165840561428707,0.5937850226834473,1.6943248142423644,-1.4730818763638593,1.9149121426011169,-0.6981210172827813,1.0620220071337512,0.3270240144233015,0.9983963737189102,-1.5820504018948132,1.5576377626695666,0.6818302184258955,0.9581576498185576,0.7734938363828401,-1.2645145864507532,-0.6557307087352567,-0.08794658491303368,-0.2078210220450748,-0.7092534417802636,-0.4381431192271822,-0.29781816966271807,-1.9836917976954034,1.7777877374165716,0.3218961402254565,-2.077586101344516,-1.2073343169448907,1.7441615296849142,0.3048809157280745,-0.4907508335554843,0.8770109049237509,1.4245387717453464,1.0661665279074823,-0.6339901914933027,0.6802602704574408,-0.7168654439364791,-0.5578302948819142,-1.1185457726425359,-0.6121908887398874,-0.3779897877929932,1.4777200034997569,-0.19292716976175264,0.3574539014170091,-0.18544526745879408,-1.1466728464685323,0.5323503559652332,1.099398587877932,-2.3408632006156953,0.2961022336838603,0.34912709976479883,0.4803125361409515,-0.9275043314294719,1.810404002204835,-0.8997615818329986,-0.8882118828210713,0.07222842748511556,0.8997473673949757,0.12376395341787741,-2.1040059015548027],\"xaxis\":\"x14\",\"y\":[0.4508128924895635,0.04215376366990217,-1.0518703849568212,0.3500266469736823,0.20580261077350961,1.754896843152072,2.6429833117351147,-0.8642797610580246,-0.41582297549411373,-2.042660108926624,2.433411389040133,0.04535365358034176,-0.029792164141180695,0.09932599146605318,-0.36469484458203194,-0.014842401964342685,0.7162484120775321,-0.21961157381040466,-0.1993741741945207,0.23618296330368907,-1.0988480324183805,-1.1914519954196043,1.626157398674772,0.6014805018574845,-0.28299033172737736,0.20369756450508605,-1.3892156923525512,-4.194659972602769,-0.2576579263997152,0.18060191245340587,1.007979796275341,2.8548811976149677,-1.2989409444905182,1.7539133867387662,0.6355116643849393,-0.8877889204443272,0.2632211548259389,-2.1995470109944844,0.10508899178899203,0.023440149037699982,-0.7425340360296323,0.5135110343053352,1.0469222376987855,0.334179083908498,-0.6732049555684151,1.920255314155447,0.31474455194034795,-1.2532405006469192,-0.1782867341660852,-0.2612236675518501,0.08529428865256748,0.8859081746666121,-1.0395821361778677,-1.1188438311720794,1.5062784783110792,0.5645111723215555,1.5574015777784491,0.9343818985603018,1.2748663294021338,0.19879888180871147,-0.5414272117544923,0.39304960399247185,-0.9247493404146402,0.42558068308709135,-0.24056252548192844,-0.019922997486305462,-0.6719566946713905,-0.27653060364317744,0.8027553461951863,0.27219153335231094,-0.5813309657966865,0.5436017784492733,0.37242807990780813,-1.0329950228586733,-1.395061469594945,-0.11127250730929014,1.455724989900488,-1.7520381668036558,-0.7413967616142342,0.8162950883053584,-0.38201837863016125,-0.4575423670048262,-0.4643247842979483,-0.20121589003332105,-0.49942386266143535,-0.5379565189422676,-1.5637105321302363,0.4845066972715467,-1.4458852188723432,-0.17788830278383255,0.6521404141377812,0.1210782204443573,0.5994269475041096,-0.48866354384002325,-1.8744915866299037,-0.4459372624232242,-0.24734394526561712,0.6108673765982904,-0.6112625793654177,-1.5686529059756902],\"yaxis\":\"y14\",\"type\":\"scatter\"},{\"line\":{\"color\":\"rgba(128, 128, 128, 1.0)\",\"dash\":\"solid\",\"shape\":\"linear\",\"width\":1.3},\"marker\":{\"size\":2,\"symbol\":\"circle\"},\"mode\":\"markers\",\"name\":\"D\",\"text\":\"\",\"x\":[1.3624391131495084,-0.09446315603746394,0.12053743295789382,1.1817252377826062,0.6475800142644463,0.8365164130551516,-0.4078180117652873,-1.1958213597542948,0.40486279121570723,0.30592864416212057,0.19107544463621579,0.693625983370063,-0.4795213929104659,-1.0445591306189137,1.5408861746461362,-1.3208667950772104,0.6094364132193509,-0.04085162955660802,-1.1955049542950045,-1.2909839067238678,-0.18996601563309218,-0.3027149219694637,-1.5439791351118015,0.15460830804329959,0.658379885150995,0.5165004387560271,0.24957975250950862,0.0374615654790334,-0.5011376297220035,-0.6980267142027701,1.003819045674507,0.5585194029409475,-0.6530654144953657,1.2989071642014614,1.2646838735261166,0.5232949932517565,-0.6708949079502614,-0.927915205881154,0.8588928727833726,-0.5510976265140255,-1.0544854398765824,0.38249192826086326,-0.265182820267451,-1.2334846966610336,0.8966353913944343,1.1855664845671843,2.102330612375204,0.8819175112781902,0.9484031417715634,-1.2951255668253117,0.5032418726519972,0.3869633350184438,2.0393910745438646,-0.9133046872020412,-1.7446801263689433,-0.2368714660544164,0.11501744149322286,0.9606814835850809,-1.0283016300674763,-0.20628502526959266,1.549434241388962,0.7699467943680909,1.1577045284955838,-0.34241868984657486,-0.21732911323454163,-0.7639606514748805,-0.6982225764961281,0.09808374584084899,0.07220517620201307,0.28388278140747314,2.048594502372427,-1.8338997526400318,1.1579823376966734,0.09248369553907014,-0.9536254360521329,-0.07992099885216111,-1.339150308345133,-4.248316610590325,0.877309688073591,1.0774032735018733,-1.660165966097154,-0.3296052293735431,0.7444300470693337,-0.28835240383946076,1.3209428618408567,-1.7226785064983972,-1.4546956979417622,-1.3569076990715874,-0.4591211120108361,0.6957975501809467,0.18663813416373395,0.684558745731199,-0.8003535785394227,1.4626502325103097,0.27341601084813794,-1.5470354465064384,1.1031551691903023,-0.12376385833508523,-0.8445403928519083,-1.1997622783239204],\"xaxis\":\"x15\",\"y\":[0.4508128924895635,0.04215376366990217,-1.0518703849568212,0.3500266469736823,0.20580261077350961,1.754896843152072,2.6429833117351147,-0.8642797610580246,-0.41582297549411373,-2.042660108926624,2.433411389040133,0.04535365358034176,-0.029792164141180695,0.09932599146605318,-0.36469484458203194,-0.014842401964342685,0.7162484120775321,-0.21961157381040466,-0.1993741741945207,0.23618296330368907,-1.0988480324183805,-1.1914519954196043,1.626157398674772,0.6014805018574845,-0.28299033172737736,0.20369756450508605,-1.3892156923525512,-4.194659972602769,-0.2576579263997152,0.18060191245340587,1.007979796275341,2.8548811976149677,-1.2989409444905182,1.7539133867387662,0.6355116643849393,-0.8877889204443272,0.2632211548259389,-2.1995470109944844,0.10508899178899203,0.023440149037699982,-0.7425340360296323,0.5135110343053352,1.0469222376987855,0.334179083908498,-0.6732049555684151,1.920255314155447,0.31474455194034795,-1.2532405006469192,-0.1782867341660852,-0.2612236675518501,0.08529428865256748,0.8859081746666121,-1.0395821361778677,-1.1188438311720794,1.5062784783110792,0.5645111723215555,1.5574015777784491,0.9343818985603018,1.2748663294021338,0.19879888180871147,-0.5414272117544923,0.39304960399247185,-0.9247493404146402,0.42558068308709135,-0.24056252548192844,-0.019922997486305462,-0.6719566946713905,-0.27653060364317744,0.8027553461951863,0.27219153335231094,-0.5813309657966865,0.5436017784492733,0.37242807990780813,-1.0329950228586733,-1.395061469594945,-0.11127250730929014,1.455724989900488,-1.7520381668036558,-0.7413967616142342,0.8162950883053584,-0.38201837863016125,-0.4575423670048262,-0.4643247842979483,-0.20121589003332105,-0.49942386266143535,-0.5379565189422676,-1.5637105321302363,0.4845066972715467,-1.4458852188723432,-0.17788830278383255,0.6521404141377812,0.1210782204443573,0.5994269475041096,-0.48866354384002325,-1.8744915866299037,-0.4459372624232242,-0.24734394526561712,0.6108673765982904,-0.6112625793654177,-1.5686529059756902],\"yaxis\":\"y15\",\"type\":\"scatter\"},{\"histfunc\":\"count\",\"histnorm\":\"\",\"marker\":{\"color\":\"rgba(128, 0, 128, 1.0)\",\"line\":{\"color\":\"#4D5663\",\"width\":1.3}},\"name\":\"D\",\"nbinsx\":10,\"opacity\":0.8,\"orientation\":\"v\",\"x\":[0.4508128924895635,0.04215376366990217,-1.0518703849568212,0.3500266469736823,0.20580261077350961,1.754896843152072,2.6429833117351147,-0.8642797610580246,-0.41582297549411373,-2.042660108926624,2.433411389040133,0.04535365358034176,-0.029792164141180695,0.09932599146605318,-0.36469484458203194,-0.014842401964342685,0.7162484120775321,-0.21961157381040466,-0.1993741741945207,0.23618296330368907,-1.0988480324183805,-1.1914519954196043,1.626157398674772,0.6014805018574845,-0.28299033172737736,0.20369756450508605,-1.3892156923525512,-4.194659972602769,-0.2576579263997152,0.18060191245340587,1.007979796275341,2.8548811976149677,-1.2989409444905182,1.7539133867387662,0.6355116643849393,-0.8877889204443272,0.2632211548259389,-2.1995470109944844,0.10508899178899203,0.023440149037699982,-0.7425340360296323,0.5135110343053352,1.0469222376987855,0.334179083908498,-0.6732049555684151,1.920255314155447,0.31474455194034795,-1.2532405006469192,-0.1782867341660852,-0.2612236675518501,0.08529428865256748,0.8859081746666121,-1.0395821361778677,-1.1188438311720794,1.5062784783110792,0.5645111723215555,1.5574015777784491,0.9343818985603018,1.2748663294021338,0.19879888180871147,-0.5414272117544923,0.39304960399247185,-0.9247493404146402,0.42558068308709135,-0.24056252548192844,-0.019922997486305462,-0.6719566946713905,-0.27653060364317744,0.8027553461951863,0.27219153335231094,-0.5813309657966865,0.5436017784492733,0.37242807990780813,-1.0329950228586733,-1.395061469594945,-0.11127250730929014,1.455724989900488,-1.7520381668036558,-0.7413967616142342,0.8162950883053584,-0.38201837863016125,-0.4575423670048262,-0.4643247842979483,-0.20121589003332105,-0.49942386266143535,-0.5379565189422676,-1.5637105321302363,0.4845066972715467,-1.4458852188723432,-0.17788830278383255,0.6521404141377812,0.1210782204443573,0.5994269475041096,-0.48866354384002325,-1.8744915866299037,-0.4459372624232242,-0.24734394526561712,0.6108673765982904,-0.6112625793654177,-1.5686529059756902],\"xaxis\":\"x16\",\"yaxis\":\"y16\",\"type\":\"histogram\"}],                        {\"bargap\":0.02,\"legend\":{\"bgcolor\":\"#F5F6F9\",\"font\":{\"color\":\"#4D5663\"}},\"paper_bgcolor\":\"#F5F6F9\",\"plot_bgcolor\":\"#F5F6F9\",\"showlegend\":false,\"template\":{\"data\":{\"barpolar\":[{\"marker\":{\"line\":{\"color\":\"#E5ECF6\",\"width\":0.5},\"pattern\":{\"fillmode\":\"overlay\",\"size\":10,\"solidity\":0.2}},\"type\":\"barpolar\"}],\"bar\":[{\"error_x\":{\"color\":\"#2a3f5f\"},\"error_y\":{\"color\":\"#2a3f5f\"},\"marker\":{\"line\":{\"color\":\"#E5ECF6\",\"width\":0.5},\"pattern\":{\"fillmode\":\"overlay\",\"size\":10,\"solidity\":0.2}},\"type\":\"bar\"}],\"carpet\":[{\"aaxis\":{\"endlinecolor\":\"#2a3f5f\",\"gridcolor\":\"white\",\"linecolor\":\"white\",\"minorgridcolor\":\"white\",\"startlinecolor\":\"#2a3f5f\"},\"baxis\":{\"endlinecolor\":\"#2a3f5f\",\"gridcolor\":\"white\",\"linecolor\":\"white\",\"minorgridcolor\":\"white\",\"startlinecolor\":\"#2a3f5f\"},\"type\":\"carpet\"}],\"choropleth\":[{\"colorbar\":{\"outlinewidth\":0,\"ticks\":\"\"},\"type\":\"choropleth\"}],\"contourcarpet\":[{\"colorbar\":{\"outlinewidth\":0,\"ticks\":\"\"},\"type\":\"contourcarpet\"}],\"contour\":[{\"colorbar\":{\"outlinewidth\":0,\"ticks\":\"\"},\"colorscale\":[[0.0,\"#0d0887\"],[0.1111111111111111,\"#46039f\"],[0.2222222222222222,\"#7201a8\"],[0.3333333333333333,\"#9c179e\"],[0.4444444444444444,\"#bd3786\"],[0.5555555555555556,\"#d8576b\"],[0.6666666666666666,\"#ed7953\"],[0.7777777777777778,\"#fb9f3a\"],[0.8888888888888888,\"#fdca26\"],[1.0,\"#f0f921\"]],\"type\":\"contour\"}],\"heatmapgl\":[{\"colorbar\":{\"outlinewidth\":0,\"ticks\":\"\"},\"colorscale\":[[0.0,\"#0d0887\"],[0.1111111111111111,\"#46039f\"],[0.2222222222222222,\"#7201a8\"],[0.3333333333333333,\"#9c179e\"],[0.4444444444444444,\"#bd3786\"],[0.5555555555555556,\"#d8576b\"],[0.6666666666666666,\"#ed7953\"],[0.7777777777777778,\"#fb9f3a\"],[0.8888888888888888,\"#fdca26\"],[1.0,\"#f0f921\"]],\"type\":\"heatmapgl\"}],\"heatmap\":[{\"colorbar\":{\"outlinewidth\":0,\"ticks\":\"\"},\"colorscale\":[[0.0,\"#0d0887\"],[0.1111111111111111,\"#46039f\"],[0.2222222222222222,\"#7201a8\"],[0.3333333333333333,\"#9c179e\"],[0.4444444444444444,\"#bd3786\"],[0.5555555555555556,\"#d8576b\"],[0.6666666666666666,\"#ed7953\"],[0.7777777777777778,\"#fb9f3a\"],[0.8888888888888888,\"#fdca26\"],[1.0,\"#f0f921\"]],\"type\":\"heatmap\"}],\"histogram2dcontour\":[{\"colorbar\":{\"outlinewidth\":0,\"ticks\":\"\"},\"colorscale\":[[0.0,\"#0d0887\"],[0.1111111111111111,\"#46039f\"],[0.2222222222222222,\"#7201a8\"],[0.3333333333333333,\"#9c179e\"],[0.4444444444444444,\"#bd3786\"],[0.5555555555555556,\"#d8576b\"],[0.6666666666666666,\"#ed7953\"],[0.7777777777777778,\"#fb9f3a\"],[0.8888888888888888,\"#fdca26\"],[1.0,\"#f0f921\"]],\"type\":\"histogram2dcontour\"}],\"histogram2d\":[{\"colorbar\":{\"outlinewidth\":0,\"ticks\":\"\"},\"colorscale\":[[0.0,\"#0d0887\"],[0.1111111111111111,\"#46039f\"],[0.2222222222222222,\"#7201a8\"],[0.3333333333333333,\"#9c179e\"],[0.4444444444444444,\"#bd3786\"],[0.5555555555555556,\"#d8576b\"],[0.6666666666666666,\"#ed7953\"],[0.7777777777777778,\"#fb9f3a\"],[0.8888888888888888,\"#fdca26\"],[1.0,\"#f0f921\"]],\"type\":\"histogram2d\"}],\"histogram\":[{\"marker\":{\"pattern\":{\"fillmode\":\"overlay\",\"size\":10,\"solidity\":0.2}},\"type\":\"histogram\"}],\"mesh3d\":[{\"colorbar\":{\"outlinewidth\":0,\"ticks\":\"\"},\"type\":\"mesh3d\"}],\"parcoords\":[{\"line\":{\"colorbar\":{\"outlinewidth\":0,\"ticks\":\"\"}},\"type\":\"parcoords\"}],\"pie\":[{\"automargin\":true,\"type\":\"pie\"}],\"scatter3d\":[{\"line\":{\"colorbar\":{\"outlinewidth\":0,\"ticks\":\"\"}},\"marker\":{\"colorbar\":{\"outlinewidth\":0,\"ticks\":\"\"}},\"type\":\"scatter3d\"}],\"scattercarpet\":[{\"marker\":{\"colorbar\":{\"outlinewidth\":0,\"ticks\":\"\"}},\"type\":\"scattercarpet\"}],\"scattergeo\":[{\"marker\":{\"colorbar\":{\"outlinewidth\":0,\"ticks\":\"\"}},\"type\":\"scattergeo\"}],\"scattergl\":[{\"marker\":{\"colorbar\":{\"outlinewidth\":0,\"ticks\":\"\"}},\"type\":\"scattergl\"}],\"scattermapbox\":[{\"marker\":{\"colorbar\":{\"outlinewidth\":0,\"ticks\":\"\"}},\"type\":\"scattermapbox\"}],\"scatterpolargl\":[{\"marker\":{\"colorbar\":{\"outlinewidth\":0,\"ticks\":\"\"}},\"type\":\"scatterpolargl\"}],\"scatterpolar\":[{\"marker\":{\"colorbar\":{\"outlinewidth\":0,\"ticks\":\"\"}},\"type\":\"scatterpolar\"}],\"scatter\":[{\"fillpattern\":{\"fillmode\":\"overlay\",\"size\":10,\"solidity\":0.2},\"type\":\"scatter\"}],\"scatterternary\":[{\"marker\":{\"colorbar\":{\"outlinewidth\":0,\"ticks\":\"\"}},\"type\":\"scatterternary\"}],\"surface\":[{\"colorbar\":{\"outlinewidth\":0,\"ticks\":\"\"},\"colorscale\":[[0.0,\"#0d0887\"],[0.1111111111111111,\"#46039f\"],[0.2222222222222222,\"#7201a8\"],[0.3333333333333333,\"#9c179e\"],[0.4444444444444444,\"#bd3786\"],[0.5555555555555556,\"#d8576b\"],[0.6666666666666666,\"#ed7953\"],[0.7777777777777778,\"#fb9f3a\"],[0.8888888888888888,\"#fdca26\"],[1.0,\"#f0f921\"]],\"type\":\"surface\"}],\"table\":[{\"cells\":{\"fill\":{\"color\":\"#EBF0F8\"},\"line\":{\"color\":\"white\"}},\"header\":{\"fill\":{\"color\":\"#C8D4E3\"},\"line\":{\"color\":\"white\"}},\"type\":\"table\"}]},\"layout\":{\"annotationdefaults\":{\"arrowcolor\":\"#2a3f5f\",\"arrowhead\":0,\"arrowwidth\":1},\"autotypenumbers\":\"strict\",\"coloraxis\":{\"colorbar\":{\"outlinewidth\":0,\"ticks\":\"\"}},\"colorscale\":{\"diverging\":[[0,\"#8e0152\"],[0.1,\"#c51b7d\"],[0.2,\"#de77ae\"],[0.3,\"#f1b6da\"],[0.4,\"#fde0ef\"],[0.5,\"#f7f7f7\"],[0.6,\"#e6f5d0\"],[0.7,\"#b8e186\"],[0.8,\"#7fbc41\"],[0.9,\"#4d9221\"],[1,\"#276419\"]],\"sequential\":[[0.0,\"#0d0887\"],[0.1111111111111111,\"#46039f\"],[0.2222222222222222,\"#7201a8\"],[0.3333333333333333,\"#9c179e\"],[0.4444444444444444,\"#bd3786\"],[0.5555555555555556,\"#d8576b\"],[0.6666666666666666,\"#ed7953\"],[0.7777777777777778,\"#fb9f3a\"],[0.8888888888888888,\"#fdca26\"],[1.0,\"#f0f921\"]],\"sequentialminus\":[[0.0,\"#0d0887\"],[0.1111111111111111,\"#46039f\"],[0.2222222222222222,\"#7201a8\"],[0.3333333333333333,\"#9c179e\"],[0.4444444444444444,\"#bd3786\"],[0.5555555555555556,\"#d8576b\"],[0.6666666666666666,\"#ed7953\"],[0.7777777777777778,\"#fb9f3a\"],[0.8888888888888888,\"#fdca26\"],[1.0,\"#f0f921\"]]},\"colorway\":[\"#636efa\",\"#EF553B\",\"#00cc96\",\"#ab63fa\",\"#FFA15A\",\"#19d3f3\",\"#FF6692\",\"#B6E880\",\"#FF97FF\",\"#FECB52\"],\"font\":{\"color\":\"#2a3f5f\"},\"geo\":{\"bgcolor\":\"white\",\"lakecolor\":\"white\",\"landcolor\":\"#E5ECF6\",\"showlakes\":true,\"showland\":true,\"subunitcolor\":\"white\"},\"hoverlabel\":{\"align\":\"left\"},\"hovermode\":\"closest\",\"mapbox\":{\"style\":\"light\"},\"paper_bgcolor\":\"white\",\"plot_bgcolor\":\"#E5ECF6\",\"polar\":{\"angularaxis\":{\"gridcolor\":\"white\",\"linecolor\":\"white\",\"ticks\":\"\"},\"bgcolor\":\"#E5ECF6\",\"radialaxis\":{\"gridcolor\":\"white\",\"linecolor\":\"white\",\"ticks\":\"\"}},\"scene\":{\"xaxis\":{\"backgroundcolor\":\"#E5ECF6\",\"gridcolor\":\"white\",\"gridwidth\":2,\"linecolor\":\"white\",\"showbackground\":true,\"ticks\":\"\",\"zerolinecolor\":\"white\"},\"yaxis\":{\"backgroundcolor\":\"#E5ECF6\",\"gridcolor\":\"white\",\"gridwidth\":2,\"linecolor\":\"white\",\"showbackground\":true,\"ticks\":\"\",\"zerolinecolor\":\"white\"},\"zaxis\":{\"backgroundcolor\":\"#E5ECF6\",\"gridcolor\":\"white\",\"gridwidth\":2,\"linecolor\":\"white\",\"showbackground\":true,\"ticks\":\"\",\"zerolinecolor\":\"white\"}},\"shapedefaults\":{\"line\":{\"color\":\"#2a3f5f\"}},\"ternary\":{\"aaxis\":{\"gridcolor\":\"white\",\"linecolor\":\"white\",\"ticks\":\"\"},\"baxis\":{\"gridcolor\":\"white\",\"linecolor\":\"white\",\"ticks\":\"\"},\"bgcolor\":\"#E5ECF6\",\"caxis\":{\"gridcolor\":\"white\",\"linecolor\":\"white\",\"ticks\":\"\"}},\"title\":{\"x\":0.05},\"xaxis\":{\"automargin\":true,\"gridcolor\":\"white\",\"linecolor\":\"white\",\"ticks\":\"\",\"title\":{\"standoff\":15},\"zerolinecolor\":\"white\",\"zerolinewidth\":2},\"yaxis\":{\"automargin\":true,\"gridcolor\":\"white\",\"linecolor\":\"white\",\"ticks\":\"\",\"title\":{\"standoff\":15},\"zerolinecolor\":\"white\",\"zerolinewidth\":2}}},\"title\":{\"font\":{\"color\":\"#4D5663\"}},\"xaxis\":{\"anchor\":\"y\",\"domain\":[0.0,0.2125],\"gridcolor\":\"#E1E5ED\",\"showgrid\":false,\"tickfont\":{\"color\":\"#4D5663\"},\"title\":{\"font\":{\"color\":\"#4D5663\"},\"text\":\"\"},\"zerolinecolor\":\"#E1E5ED\"},\"yaxis\":{\"anchor\":\"x\",\"domain\":[0.8025,1.0],\"gridcolor\":\"#E1E5ED\",\"showgrid\":false,\"tickfont\":{\"color\":\"#4D5663\"},\"title\":{\"font\":{\"color\":\"#4D5663\"},\"text\":\"\"},\"zerolinecolor\":\"#E1E5ED\"},\"xaxis2\":{\"anchor\":\"y2\",\"domain\":[0.2625,0.475],\"gridcolor\":\"#E1E5ED\",\"showgrid\":false,\"tickfont\":{\"color\":\"#4D5663\"},\"title\":{\"font\":{\"color\":\"#4D5663\"},\"text\":\"\"},\"zerolinecolor\":\"#E1E5ED\"},\"yaxis2\":{\"anchor\":\"x2\",\"domain\":[0.8025,1.0],\"gridcolor\":\"#E1E5ED\",\"showgrid\":false,\"tickfont\":{\"color\":\"#4D5663\"},\"title\":{\"font\":{\"color\":\"#4D5663\"},\"text\":\"\"},\"zerolinecolor\":\"#E1E5ED\"},\"xaxis3\":{\"anchor\":\"y3\",\"domain\":[0.525,0.7375],\"gridcolor\":\"#E1E5ED\",\"showgrid\":false,\"tickfont\":{\"color\":\"#4D5663\"},\"title\":{\"font\":{\"color\":\"#4D5663\"},\"text\":\"\"},\"zerolinecolor\":\"#E1E5ED\"},\"yaxis3\":{\"anchor\":\"x3\",\"domain\":[0.8025,1.0],\"gridcolor\":\"#E1E5ED\",\"showgrid\":false,\"tickfont\":{\"color\":\"#4D5663\"},\"title\":{\"font\":{\"color\":\"#4D5663\"},\"text\":\"\"},\"zerolinecolor\":\"#E1E5ED\"},\"xaxis4\":{\"anchor\":\"y4\",\"domain\":[0.7875,1.0],\"gridcolor\":\"#E1E5ED\",\"showgrid\":false,\"tickfont\":{\"color\":\"#4D5663\"},\"title\":{\"font\":{\"color\":\"#4D5663\"},\"text\":\"\"},\"zerolinecolor\":\"#E1E5ED\"},\"yaxis4\":{\"anchor\":\"x4\",\"domain\":[0.8025,1.0],\"gridcolor\":\"#E1E5ED\",\"showgrid\":false,\"tickfont\":{\"color\":\"#4D5663\"},\"title\":{\"font\":{\"color\":\"#4D5663\"},\"text\":\"\"},\"zerolinecolor\":\"#E1E5ED\"},\"xaxis5\":{\"anchor\":\"y5\",\"domain\":[0.0,0.2125],\"gridcolor\":\"#E1E5ED\",\"showgrid\":false,\"tickfont\":{\"color\":\"#4D5663\"},\"title\":{\"font\":{\"color\":\"#4D5663\"},\"text\":\"\"},\"zerolinecolor\":\"#E1E5ED\"},\"yaxis5\":{\"anchor\":\"x5\",\"domain\":[0.535,0.7325],\"gridcolor\":\"#E1E5ED\",\"showgrid\":false,\"tickfont\":{\"color\":\"#4D5663\"},\"title\":{\"font\":{\"color\":\"#4D5663\"},\"text\":\"\"},\"zerolinecolor\":\"#E1E5ED\"},\"xaxis6\":{\"anchor\":\"y6\",\"domain\":[0.2625,0.475],\"gridcolor\":\"#E1E5ED\",\"showgrid\":false,\"tickfont\":{\"color\":\"#4D5663\"},\"title\":{\"font\":{\"color\":\"#4D5663\"},\"text\":\"\"},\"zerolinecolor\":\"#E1E5ED\"},\"yaxis6\":{\"anchor\":\"x6\",\"domain\":[0.535,0.7325],\"gridcolor\":\"#E1E5ED\",\"showgrid\":false,\"tickfont\":{\"color\":\"#4D5663\"},\"title\":{\"font\":{\"color\":\"#4D5663\"},\"text\":\"\"},\"zerolinecolor\":\"#E1E5ED\"},\"xaxis7\":{\"anchor\":\"y7\",\"domain\":[0.525,0.7375],\"gridcolor\":\"#E1E5ED\",\"showgrid\":false,\"tickfont\":{\"color\":\"#4D5663\"},\"title\":{\"font\":{\"color\":\"#4D5663\"},\"text\":\"\"},\"zerolinecolor\":\"#E1E5ED\"},\"yaxis7\":{\"anchor\":\"x7\",\"domain\":[0.535,0.7325],\"gridcolor\":\"#E1E5ED\",\"showgrid\":false,\"tickfont\":{\"color\":\"#4D5663\"},\"title\":{\"font\":{\"color\":\"#4D5663\"},\"text\":\"\"},\"zerolinecolor\":\"#E1E5ED\"},\"xaxis8\":{\"anchor\":\"y8\",\"domain\":[0.7875,1.0],\"gridcolor\":\"#E1E5ED\",\"showgrid\":false,\"tickfont\":{\"color\":\"#4D5663\"},\"title\":{\"font\":{\"color\":\"#4D5663\"},\"text\":\"\"},\"zerolinecolor\":\"#E1E5ED\"},\"yaxis8\":{\"anchor\":\"x8\",\"domain\":[0.535,0.7325],\"gridcolor\":\"#E1E5ED\",\"showgrid\":false,\"tickfont\":{\"color\":\"#4D5663\"},\"title\":{\"font\":{\"color\":\"#4D5663\"},\"text\":\"\"},\"zerolinecolor\":\"#E1E5ED\"},\"xaxis9\":{\"anchor\":\"y9\",\"domain\":[0.0,0.2125],\"gridcolor\":\"#E1E5ED\",\"showgrid\":false,\"tickfont\":{\"color\":\"#4D5663\"},\"title\":{\"font\":{\"color\":\"#4D5663\"},\"text\":\"\"},\"zerolinecolor\":\"#E1E5ED\"},\"yaxis9\":{\"anchor\":\"x9\",\"domain\":[0.2675,0.465],\"gridcolor\":\"#E1E5ED\",\"showgrid\":false,\"tickfont\":{\"color\":\"#4D5663\"},\"title\":{\"font\":{\"color\":\"#4D5663\"},\"text\":\"\"},\"zerolinecolor\":\"#E1E5ED\"},\"xaxis10\":{\"anchor\":\"y10\",\"domain\":[0.2625,0.475],\"gridcolor\":\"#E1E5ED\",\"showgrid\":false,\"tickfont\":{\"color\":\"#4D5663\"},\"title\":{\"font\":{\"color\":\"#4D5663\"},\"text\":\"\"},\"zerolinecolor\":\"#E1E5ED\"},\"yaxis10\":{\"anchor\":\"x10\",\"domain\":[0.2675,0.465],\"gridcolor\":\"#E1E5ED\",\"showgrid\":false,\"tickfont\":{\"color\":\"#4D5663\"},\"title\":{\"font\":{\"color\":\"#4D5663\"},\"text\":\"\"},\"zerolinecolor\":\"#E1E5ED\"},\"xaxis11\":{\"anchor\":\"y11\",\"domain\":[0.525,0.7375],\"gridcolor\":\"#E1E5ED\",\"showgrid\":false,\"tickfont\":{\"color\":\"#4D5663\"},\"title\":{\"font\":{\"color\":\"#4D5663\"},\"text\":\"\"},\"zerolinecolor\":\"#E1E5ED\"},\"yaxis11\":{\"anchor\":\"x11\",\"domain\":[0.2675,0.465],\"gridcolor\":\"#E1E5ED\",\"showgrid\":false,\"tickfont\":{\"color\":\"#4D5663\"},\"title\":{\"font\":{\"color\":\"#4D5663\"},\"text\":\"\"},\"zerolinecolor\":\"#E1E5ED\"},\"xaxis12\":{\"anchor\":\"y12\",\"domain\":[0.7875,1.0],\"gridcolor\":\"#E1E5ED\",\"showgrid\":false,\"tickfont\":{\"color\":\"#4D5663\"},\"title\":{\"font\":{\"color\":\"#4D5663\"},\"text\":\"\"},\"zerolinecolor\":\"#E1E5ED\"},\"yaxis12\":{\"anchor\":\"x12\",\"domain\":[0.2675,0.465],\"gridcolor\":\"#E1E5ED\",\"showgrid\":false,\"tickfont\":{\"color\":\"#4D5663\"},\"title\":{\"font\":{\"color\":\"#4D5663\"},\"text\":\"\"},\"zerolinecolor\":\"#E1E5ED\"},\"xaxis13\":{\"anchor\":\"y13\",\"domain\":[0.0,0.2125],\"gridcolor\":\"#E1E5ED\",\"showgrid\":false,\"tickfont\":{\"color\":\"#4D5663\"},\"title\":{\"font\":{\"color\":\"#4D5663\"},\"text\":\"\"},\"zerolinecolor\":\"#E1E5ED\"},\"yaxis13\":{\"anchor\":\"x13\",\"domain\":[0.0,0.1975],\"gridcolor\":\"#E1E5ED\",\"showgrid\":false,\"tickfont\":{\"color\":\"#4D5663\"},\"title\":{\"font\":{\"color\":\"#4D5663\"},\"text\":\"\"},\"zerolinecolor\":\"#E1E5ED\"},\"xaxis14\":{\"anchor\":\"y14\",\"domain\":[0.2625,0.475],\"gridcolor\":\"#E1E5ED\",\"showgrid\":false,\"tickfont\":{\"color\":\"#4D5663\"},\"title\":{\"font\":{\"color\":\"#4D5663\"},\"text\":\"\"},\"zerolinecolor\":\"#E1E5ED\"},\"yaxis14\":{\"anchor\":\"x14\",\"domain\":[0.0,0.1975],\"gridcolor\":\"#E1E5ED\",\"showgrid\":false,\"tickfont\":{\"color\":\"#4D5663\"},\"title\":{\"font\":{\"color\":\"#4D5663\"},\"text\":\"\"},\"zerolinecolor\":\"#E1E5ED\"},\"xaxis15\":{\"anchor\":\"y15\",\"domain\":[0.525,0.7375],\"gridcolor\":\"#E1E5ED\",\"showgrid\":false,\"tickfont\":{\"color\":\"#4D5663\"},\"title\":{\"font\":{\"color\":\"#4D5663\"},\"text\":\"\"},\"zerolinecolor\":\"#E1E5ED\"},\"yaxis15\":{\"anchor\":\"x15\",\"domain\":[0.0,0.1975],\"gridcolor\":\"#E1E5ED\",\"showgrid\":false,\"tickfont\":{\"color\":\"#4D5663\"},\"title\":{\"font\":{\"color\":\"#4D5663\"},\"text\":\"\"},\"zerolinecolor\":\"#E1E5ED\"},\"xaxis16\":{\"anchor\":\"y16\",\"domain\":[0.7875,1.0],\"gridcolor\":\"#E1E5ED\",\"showgrid\":false,\"tickfont\":{\"color\":\"#4D5663\"},\"title\":{\"font\":{\"color\":\"#4D5663\"},\"text\":\"\"},\"zerolinecolor\":\"#E1E5ED\"},\"yaxis16\":{\"anchor\":\"x16\",\"domain\":[0.0,0.1975],\"gridcolor\":\"#E1E5ED\",\"showgrid\":false,\"tickfont\":{\"color\":\"#4D5663\"},\"title\":{\"font\":{\"color\":\"#4D5663\"},\"text\":\"\"},\"zerolinecolor\":\"#E1E5ED\"}},                        {\"showLink\": true, \"linkText\": \"Export to plot.ly\", \"plotlyServerURL\": \"https://plot.ly\", \"responsive\": true}                    ).then(function(){\n",
       "                            \n",
       "var gd = document.getElementById('2545daff-2e38-48df-9552-feeb687f12b1');\n",
       "var x = new MutationObserver(function (mutations, observer) {{\n",
       "        var display = window.getComputedStyle(gd).display;\n",
       "        if (!display || display === 'none') {{\n",
       "            console.log([gd, 'removed!']);\n",
       "            Plotly.purge(gd);\n",
       "            observer.disconnect();\n",
       "        }}\n",
       "}});\n",
       "\n",
       "// Listen for the removal of the full notebook cells\n",
       "var notebookContainer = gd.closest('#notebook-container');\n",
       "if (notebookContainer) {{\n",
       "    x.observe(notebookContainer, {childList: true});\n",
       "}}\n",
       "\n",
       "// Listen for the clearing of the current output cell\n",
       "var outputEl = gd.closest('.output');\n",
       "if (outputEl) {{\n",
       "    x.observe(outputEl, {childList: true});\n",
       "}}\n",
       "\n",
       "                        })                };                });            </script>        </div>"
      ]
     },
     "metadata": {},
     "output_type": "display_data"
    }
   ],
   "source": [
    "df.scatter_matrix()"
   ]
  },
  {
   "cell_type": "code",
   "execution_count": null,
   "id": "3148b6bf",
   "metadata": {},
   "outputs": [],
   "source": []
  }
 ],
 "metadata": {
  "kernelspec": {
   "display_name": "Python 3 (ipykernel)",
   "language": "python",
   "name": "python3"
  },
  "language_info": {
   "codemirror_mode": {
    "name": "ipython",
    "version": 3
   },
   "file_extension": ".py",
   "mimetype": "text/x-python",
   "name": "python",
   "nbconvert_exporter": "python",
   "pygments_lexer": "ipython3",
   "version": "3.9.15"
  },
  "toc": {
   "base_numbering": 1,
   "nav_menu": {},
   "number_sections": true,
   "sideBar": true,
   "skip_h1_title": false,
   "title_cell": "Table of Contents",
   "title_sidebar": "Contents",
   "toc_cell": false,
   "toc_position": {},
   "toc_section_display": true,
   "toc_window_display": false
  }
 },
 "nbformat": 4,
 "nbformat_minor": 5
}
