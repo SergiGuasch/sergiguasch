{
 "cells": [
  {
   "cell_type": "markdown",
   "id": "e2ef792b",
   "metadata": {},
   "source": [
    "# NumPy Arrays"
   ]
  },
  {
   "cell_type": "code",
   "execution_count": 1,
   "id": "86105c76",
   "metadata": {
    "ExecuteTime": {
     "end_time": "2023-01-04T15:50:05.812430Z",
     "start_time": "2023-01-04T15:50:05.796431Z"
    }
   },
   "outputs": [],
   "source": [
    "my_list = [1,2,3]"
   ]
  },
  {
   "cell_type": "code",
   "execution_count": 2,
   "id": "e11dacdc",
   "metadata": {
    "ExecuteTime": {
     "end_time": "2023-01-04T15:50:09.650393Z",
     "start_time": "2023-01-04T15:50:09.643391Z"
    }
   },
   "outputs": [
    {
     "data": {
      "text/plain": [
       "[1, 2, 3]"
      ]
     },
     "execution_count": 2,
     "metadata": {},
     "output_type": "execute_result"
    }
   ],
   "source": [
    "my_list"
   ]
  },
  {
   "cell_type": "code",
   "execution_count": 3,
   "id": "3f285780",
   "metadata": {
    "ExecuteTime": {
     "end_time": "2023-01-04T15:50:19.138440Z",
     "start_time": "2023-01-04T15:50:18.596599Z"
    }
   },
   "outputs": [],
   "source": [
    "import numpy as np"
   ]
  },
  {
   "cell_type": "code",
   "execution_count": 4,
   "id": "af257635",
   "metadata": {
    "ExecuteTime": {
     "end_time": "2023-01-04T15:50:28.665093Z",
     "start_time": "2023-01-04T15:50:28.644128Z"
    }
   },
   "outputs": [
    {
     "data": {
      "text/plain": [
       "array([1, 2, 3])"
      ]
     },
     "execution_count": 4,
     "metadata": {},
     "output_type": "execute_result"
    }
   ],
   "source": [
    "np.array(my_list)"
   ]
  },
  {
   "cell_type": "code",
   "execution_count": 5,
   "id": "e031e7b1",
   "metadata": {
    "ExecuteTime": {
     "end_time": "2023-01-04T15:50:52.981274Z",
     "start_time": "2023-01-04T15:50:52.972275Z"
    }
   },
   "outputs": [],
   "source": [
    "arr = np.array(my_list)"
   ]
  },
  {
   "cell_type": "code",
   "execution_count": 6,
   "id": "4dd3f93f",
   "metadata": {
    "ExecuteTime": {
     "end_time": "2023-01-04T15:50:54.535156Z",
     "start_time": "2023-01-04T15:50:54.516148Z"
    }
   },
   "outputs": [
    {
     "data": {
      "text/plain": [
       "array([1, 2, 3])"
      ]
     },
     "execution_count": 6,
     "metadata": {},
     "output_type": "execute_result"
    }
   ],
   "source": [
    "arr"
   ]
  },
  {
   "cell_type": "code",
   "execution_count": 7,
   "id": "08f92969",
   "metadata": {
    "ExecuteTime": {
     "end_time": "2023-01-04T15:51:30.689859Z",
     "start_time": "2023-01-04T15:51:30.675833Z"
    }
   },
   "outputs": [],
   "source": [
    "my_mat = [[1,2,3],[4,5,6],[7,8,9]]"
   ]
  },
  {
   "cell_type": "code",
   "execution_count": 8,
   "id": "33520bfd",
   "metadata": {
    "ExecuteTime": {
     "end_time": "2023-01-04T15:51:45.886382Z",
     "start_time": "2023-01-04T15:51:45.875382Z"
    }
   },
   "outputs": [
    {
     "data": {
      "text/plain": [
       "array([[1, 2, 3],\n",
       "       [4, 5, 6],\n",
       "       [7, 8, 9]])"
      ]
     },
     "execution_count": 8,
     "metadata": {},
     "output_type": "execute_result"
    }
   ],
   "source": [
    "np.array(my_mat)"
   ]
  },
  {
   "cell_type": "code",
   "execution_count": 10,
   "id": "d124236f",
   "metadata": {
    "ExecuteTime": {
     "end_time": "2023-01-04T15:53:32.160752Z",
     "start_time": "2023-01-04T15:53:32.148145Z"
    }
   },
   "outputs": [
    {
     "data": {
      "text/plain": [
       "array([ 0,  1,  2,  3,  4,  5,  6,  7,  8,  9, 10])"
      ]
     },
     "execution_count": 10,
     "metadata": {},
     "output_type": "execute_result"
    }
   ],
   "source": [
    "np.arange(0,11)"
   ]
  },
  {
   "cell_type": "code",
   "execution_count": 11,
   "id": "411500a9",
   "metadata": {
    "ExecuteTime": {
     "end_time": "2023-01-04T15:53:44.918892Z",
     "start_time": "2023-01-04T15:53:44.907863Z"
    }
   },
   "outputs": [
    {
     "data": {
      "text/plain": [
       "array([ 0,  2,  4,  6,  8, 10])"
      ]
     },
     "execution_count": 11,
     "metadata": {},
     "output_type": "execute_result"
    }
   ],
   "source": [
    "np.arange(0,11,2)"
   ]
  },
  {
   "cell_type": "code",
   "execution_count": 12,
   "id": "6bebdc3b",
   "metadata": {
    "ExecuteTime": {
     "end_time": "2023-01-04T15:59:11.750836Z",
     "start_time": "2023-01-04T15:59:11.739837Z"
    }
   },
   "outputs": [
    {
     "data": {
      "text/plain": [
       "array([0., 0., 0.])"
      ]
     },
     "execution_count": 12,
     "metadata": {},
     "output_type": "execute_result"
    }
   ],
   "source": [
    "np.zeros(3)"
   ]
  },
  {
   "cell_type": "code",
   "execution_count": 14,
   "id": "d8e9af41",
   "metadata": {
    "ExecuteTime": {
     "end_time": "2023-01-04T15:59:38.605657Z",
     "start_time": "2023-01-04T15:59:38.595685Z"
    }
   },
   "outputs": [
    {
     "data": {
      "text/plain": [
       "array([[0., 0., 0., 0., 0.],\n",
       "       [0., 0., 0., 0., 0.],\n",
       "       [0., 0., 0., 0., 0.],\n",
       "       [0., 0., 0., 0., 0.],\n",
       "       [0., 0., 0., 0., 0.]])"
      ]
     },
     "execution_count": 14,
     "metadata": {},
     "output_type": "execute_result"
    }
   ],
   "source": [
    "np.zeros((5,5))"
   ]
  },
  {
   "cell_type": "code",
   "execution_count": 16,
   "id": "9ff13c9d",
   "metadata": {
    "ExecuteTime": {
     "end_time": "2023-01-04T15:59:54.344851Z",
     "start_time": "2023-01-04T15:59:54.331883Z"
    }
   },
   "outputs": [
    {
     "data": {
      "text/plain": [
       "array([[0., 0., 0.],\n",
       "       [0., 0., 0.]])"
      ]
     },
     "execution_count": 16,
     "metadata": {},
     "output_type": "execute_result"
    }
   ],
   "source": [
    "np.zeros((2,3))"
   ]
  },
  {
   "cell_type": "code",
   "execution_count": 17,
   "id": "21ab9bd2",
   "metadata": {
    "ExecuteTime": {
     "end_time": "2023-01-04T16:00:17.754009Z",
     "start_time": "2023-01-04T16:00:17.740010Z"
    }
   },
   "outputs": [
    {
     "data": {
      "text/plain": [
       "array([[1., 1., 1., 1.],\n",
       "       [1., 1., 1., 1.],\n",
       "       [1., 1., 1., 1.]])"
      ]
     },
     "execution_count": 17,
     "metadata": {},
     "output_type": "execute_result"
    }
   ],
   "source": [
    "np.ones((3,4))"
   ]
  },
  {
   "cell_type": "code",
   "execution_count": 18,
   "id": "ccf84815",
   "metadata": {
    "ExecuteTime": {
     "end_time": "2023-01-04T16:01:16.409908Z",
     "start_time": "2023-01-04T16:01:16.387910Z"
    }
   },
   "outputs": [
    {
     "data": {
      "text/plain": [
       "array([0.        , 0.55555556, 1.11111111, 1.66666667, 2.22222222,\n",
       "       2.77777778, 3.33333333, 3.88888889, 4.44444444, 5.        ])"
      ]
     },
     "execution_count": 18,
     "metadata": {},
     "output_type": "execute_result"
    }
   ],
   "source": [
    "np.linspace(0,5,10)"
   ]
  },
  {
   "cell_type": "code",
   "execution_count": 20,
   "id": "38b65d8d",
   "metadata": {
    "ExecuteTime": {
     "end_time": "2023-01-04T16:01:53.184231Z",
     "start_time": "2023-01-04T16:01:53.164215Z"
    }
   },
   "outputs": [
    {
     "data": {
      "text/plain": [
       "array([0.        , 0.04040404, 0.08080808, 0.12121212, 0.16161616,\n",
       "       0.2020202 , 0.24242424, 0.28282828, 0.32323232, 0.36363636,\n",
       "       0.4040404 , 0.44444444, 0.48484848, 0.52525253, 0.56565657,\n",
       "       0.60606061, 0.64646465, 0.68686869, 0.72727273, 0.76767677,\n",
       "       0.80808081, 0.84848485, 0.88888889, 0.92929293, 0.96969697,\n",
       "       1.01010101, 1.05050505, 1.09090909, 1.13131313, 1.17171717,\n",
       "       1.21212121, 1.25252525, 1.29292929, 1.33333333, 1.37373737,\n",
       "       1.41414141, 1.45454545, 1.49494949, 1.53535354, 1.57575758,\n",
       "       1.61616162, 1.65656566, 1.6969697 , 1.73737374, 1.77777778,\n",
       "       1.81818182, 1.85858586, 1.8989899 , 1.93939394, 1.97979798,\n",
       "       2.02020202, 2.06060606, 2.1010101 , 2.14141414, 2.18181818,\n",
       "       2.22222222, 2.26262626, 2.3030303 , 2.34343434, 2.38383838,\n",
       "       2.42424242, 2.46464646, 2.50505051, 2.54545455, 2.58585859,\n",
       "       2.62626263, 2.66666667, 2.70707071, 2.74747475, 2.78787879,\n",
       "       2.82828283, 2.86868687, 2.90909091, 2.94949495, 2.98989899,\n",
       "       3.03030303, 3.07070707, 3.11111111, 3.15151515, 3.19191919,\n",
       "       3.23232323, 3.27272727, 3.31313131, 3.35353535, 3.39393939,\n",
       "       3.43434343, 3.47474747, 3.51515152, 3.55555556, 3.5959596 ,\n",
       "       3.63636364, 3.67676768, 3.71717172, 3.75757576, 3.7979798 ,\n",
       "       3.83838384, 3.87878788, 3.91919192, 3.95959596, 4.        ])"
      ]
     },
     "execution_count": 20,
     "metadata": {},
     "output_type": "execute_result"
    }
   ],
   "source": [
    "np.linspace(0,4,100)"
   ]
  },
  {
   "cell_type": "code",
   "execution_count": 21,
   "id": "9b1678e5",
   "metadata": {
    "ExecuteTime": {
     "end_time": "2023-01-04T16:02:25.853750Z",
     "start_time": "2023-01-04T16:02:25.843751Z"
    }
   },
   "outputs": [
    {
     "data": {
      "text/plain": [
       "array([[1., 0., 0., 0.],\n",
       "       [0., 1., 0., 0.],\n",
       "       [0., 0., 1., 0.],\n",
       "       [0., 0., 0., 1.]])"
      ]
     },
     "execution_count": 21,
     "metadata": {},
     "output_type": "execute_result"
    }
   ],
   "source": [
    "np.eye(4)"
   ]
  },
  {
   "cell_type": "code",
   "execution_count": 22,
   "id": "7e5fc620",
   "metadata": {
    "ExecuteTime": {
     "end_time": "2023-01-04T16:10:12.922026Z",
     "start_time": "2023-01-04T16:10:12.901043Z"
    }
   },
   "outputs": [
    {
     "data": {
      "text/plain": [
       "array([0.03408862, 0.93125689, 0.54398103, 0.85068382, 0.84130563])"
      ]
     },
     "execution_count": 22,
     "metadata": {},
     "output_type": "execute_result"
    }
   ],
   "source": [
    "np.random.rand(5)"
   ]
  },
  {
   "cell_type": "code",
   "execution_count": 23,
   "id": "8a4804cd",
   "metadata": {
    "ExecuteTime": {
     "end_time": "2023-01-04T16:10:27.370978Z",
     "start_time": "2023-01-04T16:10:27.358949Z"
    }
   },
   "outputs": [
    {
     "data": {
      "text/plain": [
       "array([[0.59965172, 0.70096991, 0.64444336, 0.998836  , 0.56890803],\n",
       "       [0.89041786, 0.54549854, 0.23674681, 0.46540982, 0.72024051],\n",
       "       [0.82872324, 0.25024528, 0.84353172, 0.77525492, 0.6660824 ],\n",
       "       [0.72340555, 0.08222438, 0.02348252, 0.11357294, 0.90652631],\n",
       "       [0.43571075, 0.83684367, 0.43035526, 0.22899212, 0.53170257]])"
      ]
     },
     "execution_count": 23,
     "metadata": {},
     "output_type": "execute_result"
    }
   ],
   "source": [
    "np.random.rand(5,5)"
   ]
  },
  {
   "cell_type": "code",
   "execution_count": 25,
   "id": "20c43dff",
   "metadata": {
    "ExecuteTime": {
     "end_time": "2023-01-04T16:11:38.274687Z",
     "start_time": "2023-01-04T16:11:38.260685Z"
    }
   },
   "outputs": [
    {
     "data": {
      "text/plain": [
       "array([-0.93964003,  0.61554475])"
      ]
     },
     "execution_count": 25,
     "metadata": {},
     "output_type": "execute_result"
    }
   ],
   "source": [
    "np.random.randn(2) # randn for normal distribution or gaussian distribution"
   ]
  },
  {
   "cell_type": "code",
   "execution_count": 26,
   "id": "beb1177b",
   "metadata": {
    "ExecuteTime": {
     "end_time": "2023-01-04T16:11:55.045826Z",
     "start_time": "2023-01-04T16:11:55.028826Z"
    }
   },
   "outputs": [
    {
     "data": {
      "text/plain": [
       "array([[-0.91279475,  0.09602396,  0.03467709, -0.92094411],\n",
       "       [ 0.7910945 , -1.62405267,  0.56480143, -0.68527584],\n",
       "       [-0.33772616, -0.22263364, -2.26400916, -0.69476109],\n",
       "       [ 1.51913135,  1.28831603,  0.25576401,  0.24875232]])"
      ]
     },
     "execution_count": 26,
     "metadata": {},
     "output_type": "execute_result"
    }
   ],
   "source": [
    "np.random.randn(4,4)"
   ]
  },
  {
   "cell_type": "code",
   "execution_count": 29,
   "id": "a807e0d1",
   "metadata": {
    "ExecuteTime": {
     "end_time": "2023-01-04T16:14:11.590093Z",
     "start_time": "2023-01-04T16:14:11.580093Z"
    }
   },
   "outputs": [
    {
     "data": {
      "text/plain": [
       "array([ 91,  47,  -2,  82, -43,  99,  75,  94, -28, -22])"
      ]
     },
     "execution_count": 29,
     "metadata": {},
     "output_type": "execute_result"
    }
   ],
   "source": [
    "np.random.randint(-51,100,10)"
   ]
  },
  {
   "cell_type": "code",
   "execution_count": 30,
   "id": "bc4fa1a9",
   "metadata": {
    "ExecuteTime": {
     "end_time": "2023-01-04T16:15:48.363862Z",
     "start_time": "2023-01-04T16:15:48.356864Z"
    }
   },
   "outputs": [],
   "source": [
    "arr = np.arange(25)"
   ]
  },
  {
   "cell_type": "code",
   "execution_count": 31,
   "id": "5f1033e2",
   "metadata": {
    "ExecuteTime": {
     "end_time": "2023-01-04T16:15:50.299823Z",
     "start_time": "2023-01-04T16:15:50.292823Z"
    }
   },
   "outputs": [
    {
     "data": {
      "text/plain": [
       "array([ 0,  1,  2,  3,  4,  5,  6,  7,  8,  9, 10, 11, 12, 13, 14, 15, 16,\n",
       "       17, 18, 19, 20, 21, 22, 23, 24])"
      ]
     },
     "execution_count": 31,
     "metadata": {},
     "output_type": "execute_result"
    }
   ],
   "source": [
    "arr"
   ]
  },
  {
   "cell_type": "code",
   "execution_count": 34,
   "id": "30c37129",
   "metadata": {
    "ExecuteTime": {
     "end_time": "2023-01-04T16:16:52.821853Z",
     "start_time": "2023-01-04T16:16:52.812817Z"
    }
   },
   "outputs": [],
   "source": [
    "ranarr = np.random.randint(0,50,10)"
   ]
  },
  {
   "cell_type": "code",
   "execution_count": 35,
   "id": "7a88d927",
   "metadata": {
    "ExecuteTime": {
     "end_time": "2023-01-04T16:16:53.287619Z",
     "start_time": "2023-01-04T16:16:53.276618Z"
    }
   },
   "outputs": [
    {
     "data": {
      "text/plain": [
       "array([ 8, 17, 18, 10, 28, 19, 40, 13, 42, 11])"
      ]
     },
     "execution_count": 35,
     "metadata": {},
     "output_type": "execute_result"
    }
   ],
   "source": [
    "ranarr"
   ]
  },
  {
   "cell_type": "code",
   "execution_count": 38,
   "id": "2c1c345a",
   "metadata": {
    "ExecuteTime": {
     "end_time": "2023-01-04T16:19:09.248121Z",
     "start_time": "2023-01-04T16:19:09.236151Z"
    }
   },
   "outputs": [
    {
     "data": {
      "text/plain": [
       "array([[ 0,  1,  2,  3,  4],\n",
       "       [ 5,  6,  7,  8,  9],\n",
       "       [10, 11, 12, 13, 14],\n",
       "       [15, 16, 17, 18, 19],\n",
       "       [20, 21, 22, 23, 24]])"
      ]
     },
     "execution_count": 38,
     "metadata": {},
     "output_type": "execute_result"
    }
   ],
   "source": [
    "arr.reshape(5,5) #if is not possible to fill the arr completely (25 elements) you get an error, \n",
    "                 #so if intead 5,5 you use 5,4 is error"
   ]
  },
  {
   "cell_type": "code",
   "execution_count": 39,
   "id": "9c67fc9d",
   "metadata": {
    "ExecuteTime": {
     "end_time": "2023-01-04T16:25:23.903298Z",
     "start_time": "2023-01-04T16:25:23.885301Z"
    }
   },
   "outputs": [
    {
     "data": {
      "text/plain": [
       "24"
      ]
     },
     "execution_count": 39,
     "metadata": {},
     "output_type": "execute_result"
    }
   ],
   "source": [
    "arr.max()"
   ]
  },
  {
   "cell_type": "code",
   "execution_count": 40,
   "id": "49d8624b",
   "metadata": {
    "ExecuteTime": {
     "end_time": "2023-01-04T16:25:31.046352Z",
     "start_time": "2023-01-04T16:25:31.028353Z"
    }
   },
   "outputs": [
    {
     "data": {
      "text/plain": [
       "42"
      ]
     },
     "execution_count": 40,
     "metadata": {},
     "output_type": "execute_result"
    }
   ],
   "source": [
    "ranarr.max()"
   ]
  },
  {
   "cell_type": "code",
   "execution_count": 41,
   "id": "b5894732",
   "metadata": {
    "ExecuteTime": {
     "end_time": "2023-01-04T16:25:45.254306Z",
     "start_time": "2023-01-04T16:25:45.245303Z"
    }
   },
   "outputs": [
    {
     "data": {
      "text/plain": [
       "8"
      ]
     },
     "execution_count": 41,
     "metadata": {},
     "output_type": "execute_result"
    }
   ],
   "source": [
    "ranarr.min()"
   ]
  },
  {
   "cell_type": "code",
   "execution_count": 42,
   "id": "87b4cb25",
   "metadata": {
    "ExecuteTime": {
     "end_time": "2023-01-04T16:25:55.073599Z",
     "start_time": "2023-01-04T16:25:55.052599Z"
    }
   },
   "outputs": [
    {
     "data": {
      "text/plain": [
       "array([ 8, 17, 18, 10, 28, 19, 40, 13, 42, 11])"
      ]
     },
     "execution_count": 42,
     "metadata": {},
     "output_type": "execute_result"
    }
   ],
   "source": [
    "ranarr"
   ]
  },
  {
   "cell_type": "code",
   "execution_count": 44,
   "id": "7f288f60",
   "metadata": {
    "ExecuteTime": {
     "end_time": "2023-01-04T16:26:42.267052Z",
     "start_time": "2023-01-04T16:26:42.261052Z"
    }
   },
   "outputs": [
    {
     "data": {
      "text/plain": [
       "8"
      ]
     },
     "execution_count": 44,
     "metadata": {},
     "output_type": "execute_result"
    }
   ],
   "source": [
    "ranarr.argmax() #it returns de index location of the max value"
   ]
  },
  {
   "cell_type": "code",
   "execution_count": 45,
   "id": "469c5ffb",
   "metadata": {
    "ExecuteTime": {
     "end_time": "2023-01-04T16:27:12.232108Z",
     "start_time": "2023-01-04T16:27:12.213109Z"
    }
   },
   "outputs": [
    {
     "data": {
      "text/plain": [
       "0"
      ]
     },
     "execution_count": 45,
     "metadata": {},
     "output_type": "execute_result"
    }
   ],
   "source": [
    "ranarr.argmin() #it returns de index location of the min value"
   ]
  },
  {
   "cell_type": "code",
   "execution_count": 48,
   "id": "4709da8b",
   "metadata": {
    "ExecuteTime": {
     "end_time": "2023-01-04T16:28:49.230322Z",
     "start_time": "2023-01-04T16:28:49.213324Z"
    }
   },
   "outputs": [
    {
     "data": {
      "text/plain": [
       "(25,)"
      ]
     },
     "execution_count": 48,
     "metadata": {},
     "output_type": "execute_result"
    }
   ],
   "source": [
    "arr.shape # (25,) indicates this array is just a one dimensional vector"
   ]
  },
  {
   "cell_type": "code",
   "execution_count": 49,
   "id": "b12b8b42",
   "metadata": {
    "ExecuteTime": {
     "end_time": "2023-01-04T16:29:11.360450Z",
     "start_time": "2023-01-04T16:29:11.341451Z"
    }
   },
   "outputs": [],
   "source": [
    "arr2 = arr.reshape(5,5)"
   ]
  },
  {
   "cell_type": "code",
   "execution_count": 52,
   "id": "f6c9539b",
   "metadata": {
    "ExecuteTime": {
     "end_time": "2023-01-04T16:29:54.634204Z",
     "start_time": "2023-01-04T16:29:54.613101Z"
    }
   },
   "outputs": [
    {
     "data": {
      "text/plain": [
       "(5, 5)"
      ]
     },
     "execution_count": 52,
     "metadata": {},
     "output_type": "execute_result"
    }
   ],
   "source": [
    "arr2.shape # (5,5) indicates this array is two dimensional"
   ]
  },
  {
   "cell_type": "code",
   "execution_count": 53,
   "id": "3d906f6c",
   "metadata": {
    "ExecuteTime": {
     "end_time": "2023-01-04T16:30:24.019336Z",
     "start_time": "2023-01-04T16:30:23.997330Z"
    }
   },
   "outputs": [
    {
     "data": {
      "text/plain": [
       "dtype('int32')"
      ]
     },
     "execution_count": 53,
     "metadata": {},
     "output_type": "execute_result"
    }
   ],
   "source": [
    "arr.dtype"
   ]
  },
  {
   "cell_type": "code",
   "execution_count": 56,
   "id": "61f32ad4",
   "metadata": {
    "ExecuteTime": {
     "end_time": "2023-01-04T16:32:59.622633Z",
     "start_time": "2023-01-04T16:32:59.604632Z"
    }
   },
   "outputs": [],
   "source": [
    "from numpy.random import randint # with this yo don't need to write all time np.random.randint, \n",
    "                                 # it lets you write just the import, in that case randint"
   ]
  },
  {
   "cell_type": "code",
   "execution_count": 57,
   "id": "33c55f60",
   "metadata": {
    "ExecuteTime": {
     "end_time": "2023-01-04T16:33:00.230456Z",
     "start_time": "2023-01-04T16:33:00.213454Z"
    }
   },
   "outputs": [
    {
     "data": {
      "text/plain": [
       "6"
      ]
     },
     "execution_count": 57,
     "metadata": {},
     "output_type": "execute_result"
    }
   ],
   "source": [
    "randint(2,10)"
   ]
  },
  {
   "cell_type": "code",
   "execution_count": 58,
   "id": "29000d73",
   "metadata": {
    "ExecuteTime": {
     "end_time": "2023-01-04T16:33:28.189451Z",
     "start_time": "2023-01-04T16:33:28.173453Z"
    }
   },
   "outputs": [
    {
     "data": {
      "text/plain": [
       "array([ 92, -44,  34,  62,  66, -37,  44,  60,  69,  13])"
      ]
     },
     "execution_count": 58,
     "metadata": {},
     "output_type": "execute_result"
    }
   ],
   "source": [
    "randint(-51,100,10)"
   ]
  },
  {
   "cell_type": "markdown",
   "id": "f35a79d7",
   "metadata": {},
   "source": [
    "## Indexing"
   ]
  },
  {
   "cell_type": "code",
   "execution_count": 59,
   "id": "2bfeca57",
   "metadata": {
    "ExecuteTime": {
     "end_time": "2023-01-04T20:21:50.964934Z",
     "start_time": "2023-01-04T20:21:50.945904Z"
    }
   },
   "outputs": [],
   "source": [
    "arr = np.arange(0,11)"
   ]
  },
  {
   "cell_type": "code",
   "execution_count": 60,
   "id": "deb1933c",
   "metadata": {
    "ExecuteTime": {
     "end_time": "2023-01-04T20:21:54.189303Z",
     "start_time": "2023-01-04T20:21:54.177334Z"
    }
   },
   "outputs": [
    {
     "data": {
      "text/plain": [
       "array([ 0,  1,  2,  3,  4,  5,  6,  7,  8,  9, 10])"
      ]
     },
     "execution_count": 60,
     "metadata": {},
     "output_type": "execute_result"
    }
   ],
   "source": [
    "arr"
   ]
  },
  {
   "cell_type": "code",
   "execution_count": 61,
   "id": "0b58cd22",
   "metadata": {
    "ExecuteTime": {
     "end_time": "2023-01-04T20:22:27.384962Z",
     "start_time": "2023-01-04T20:22:27.369931Z"
    }
   },
   "outputs": [
    {
     "data": {
      "text/plain": [
       "8"
      ]
     },
     "execution_count": 61,
     "metadata": {},
     "output_type": "execute_result"
    }
   ],
   "source": [
    "arr[8]"
   ]
  },
  {
   "cell_type": "code",
   "execution_count": 62,
   "id": "49aaa566",
   "metadata": {
    "ExecuteTime": {
     "end_time": "2023-01-04T20:22:45.088842Z",
     "start_time": "2023-01-04T20:22:45.072811Z"
    }
   },
   "outputs": [
    {
     "data": {
      "text/plain": [
       "array([1, 2, 3, 4])"
      ]
     },
     "execution_count": 62,
     "metadata": {},
     "output_type": "execute_result"
    }
   ],
   "source": [
    "arr[1:5]"
   ]
  },
  {
   "cell_type": "code",
   "execution_count": 63,
   "id": "961b069e",
   "metadata": {
    "ExecuteTime": {
     "end_time": "2023-01-04T20:23:04.766997Z",
     "start_time": "2023-01-04T20:23:04.752983Z"
    }
   },
   "outputs": [
    {
     "data": {
      "text/plain": [
       "array([0, 1, 2, 3, 4])"
      ]
     },
     "execution_count": 63,
     "metadata": {},
     "output_type": "execute_result"
    }
   ],
   "source": [
    "arr[0:5]"
   ]
  },
  {
   "cell_type": "code",
   "execution_count": 64,
   "id": "a8a30cfb",
   "metadata": {
    "ExecuteTime": {
     "end_time": "2023-01-04T20:23:23.717572Z",
     "start_time": "2023-01-04T20:23:23.697571Z"
    }
   },
   "outputs": [
    {
     "data": {
      "text/plain": [
       "array([0, 1, 2, 3, 4, 5])"
      ]
     },
     "execution_count": 64,
     "metadata": {},
     "output_type": "execute_result"
    }
   ],
   "source": [
    "arr[:6]"
   ]
  },
  {
   "cell_type": "code",
   "execution_count": 66,
   "id": "0482ecef",
   "metadata": {
    "ExecuteTime": {
     "end_time": "2023-01-04T20:24:00.096881Z",
     "start_time": "2023-01-04T20:24:00.089883Z"
    }
   },
   "outputs": [
    {
     "data": {
      "text/plain": [
       "array([ 5,  6,  7,  8,  9, 10])"
      ]
     },
     "execution_count": 66,
     "metadata": {},
     "output_type": "execute_result"
    }
   ],
   "source": [
    "arr[5:]"
   ]
  },
  {
   "cell_type": "code",
   "execution_count": 67,
   "id": "bff79cd4",
   "metadata": {
    "ExecuteTime": {
     "end_time": "2023-01-04T20:29:47.362810Z",
     "start_time": "2023-01-04T20:29:47.347785Z"
    }
   },
   "outputs": [],
   "source": [
    "arr[0:5] = 100"
   ]
  },
  {
   "cell_type": "code",
   "execution_count": 68,
   "id": "c4652d7b",
   "metadata": {
    "ExecuteTime": {
     "end_time": "2023-01-04T20:29:51.521943Z",
     "start_time": "2023-01-04T20:29:51.512973Z"
    }
   },
   "outputs": [
    {
     "data": {
      "text/plain": [
       "array([100, 100, 100, 100, 100,   5,   6,   7,   8,   9,  10])"
      ]
     },
     "execution_count": 68,
     "metadata": {},
     "output_type": "execute_result"
    }
   ],
   "source": [
    "arr"
   ]
  },
  {
   "cell_type": "code",
   "execution_count": 69,
   "id": "5107a9f4",
   "metadata": {
    "ExecuteTime": {
     "end_time": "2023-01-04T20:30:08.926031Z",
     "start_time": "2023-01-04T20:30:08.921005Z"
    }
   },
   "outputs": [],
   "source": [
    "arr = np.arange(0,11)"
   ]
  },
  {
   "cell_type": "code",
   "execution_count": 70,
   "id": "2e2815fb",
   "metadata": {
    "ExecuteTime": {
     "end_time": "2023-01-04T20:30:10.651275Z",
     "start_time": "2023-01-04T20:30:10.633276Z"
    }
   },
   "outputs": [
    {
     "data": {
      "text/plain": [
       "array([ 0,  1,  2,  3,  4,  5,  6,  7,  8,  9, 10])"
      ]
     },
     "execution_count": 70,
     "metadata": {},
     "output_type": "execute_result"
    }
   ],
   "source": [
    "arr"
   ]
  },
  {
   "cell_type": "code",
   "execution_count": 71,
   "id": "91e6642a",
   "metadata": {
    "ExecuteTime": {
     "end_time": "2023-01-04T20:30:25.677830Z",
     "start_time": "2023-01-04T20:30:25.673842Z"
    }
   },
   "outputs": [],
   "source": [
    "slice_of_arr = arr[0:6]"
   ]
  },
  {
   "cell_type": "code",
   "execution_count": 72,
   "id": "3c0d062b",
   "metadata": {
    "ExecuteTime": {
     "end_time": "2023-01-04T20:30:30.803018Z",
     "start_time": "2023-01-04T20:30:30.793020Z"
    }
   },
   "outputs": [
    {
     "data": {
      "text/plain": [
       "array([0, 1, 2, 3, 4, 5])"
      ]
     },
     "execution_count": 72,
     "metadata": {},
     "output_type": "execute_result"
    }
   ],
   "source": [
    "slice_of_arr"
   ]
  },
  {
   "cell_type": "code",
   "execution_count": 75,
   "id": "fd4fcb95",
   "metadata": {
    "ExecuteTime": {
     "end_time": "2023-01-04T20:30:59.093792Z",
     "start_time": "2023-01-04T20:30:59.089760Z"
    }
   },
   "outputs": [],
   "source": [
    "slice_of_arr[:] = 99"
   ]
  },
  {
   "cell_type": "code",
   "execution_count": 76,
   "id": "0ceac35f",
   "metadata": {
    "ExecuteTime": {
     "end_time": "2023-01-04T20:31:06.038670Z",
     "start_time": "2023-01-04T20:31:06.033669Z"
    }
   },
   "outputs": [
    {
     "data": {
      "text/plain": [
       "array([99, 99, 99, 99, 99, 99])"
      ]
     },
     "execution_count": 76,
     "metadata": {},
     "output_type": "execute_result"
    }
   ],
   "source": [
    "slice_of_arr"
   ]
  },
  {
   "cell_type": "code",
   "execution_count": 77,
   "id": "60d60f9b",
   "metadata": {
    "ExecuteTime": {
     "end_time": "2023-01-04T20:31:12.152434Z",
     "start_time": "2023-01-04T20:31:12.138414Z"
    }
   },
   "outputs": [
    {
     "data": {
      "text/plain": [
       "array([99, 99, 99, 99, 99, 99,  6,  7,  8,  9, 10])"
      ]
     },
     "execution_count": 77,
     "metadata": {},
     "output_type": "execute_result"
    }
   ],
   "source": [
    "arr"
   ]
  },
  {
   "cell_type": "code",
   "execution_count": 78,
   "id": "4d98cc5a",
   "metadata": {
    "ExecuteTime": {
     "end_time": "2023-01-04T20:33:35.883408Z",
     "start_time": "2023-01-04T20:33:35.874408Z"
    }
   },
   "outputs": [],
   "source": [
    "arr_copy = arr.copy()"
   ]
  },
  {
   "cell_type": "code",
   "execution_count": 79,
   "id": "35c15910",
   "metadata": {
    "ExecuteTime": {
     "end_time": "2023-01-04T20:33:40.217377Z",
     "start_time": "2023-01-04T20:33:40.210415Z"
    }
   },
   "outputs": [
    {
     "data": {
      "text/plain": [
       "array([99, 99, 99, 99, 99, 99,  6,  7,  8,  9, 10])"
      ]
     },
     "execution_count": 79,
     "metadata": {},
     "output_type": "execute_result"
    }
   ],
   "source": [
    "arr"
   ]
  },
  {
   "cell_type": "code",
   "execution_count": 80,
   "id": "5c54ba84",
   "metadata": {
    "ExecuteTime": {
     "end_time": "2023-01-04T20:33:55.668701Z",
     "start_time": "2023-01-04T20:33:55.657698Z"
    }
   },
   "outputs": [],
   "source": [
    "arr_copy[:] = 100"
   ]
  },
  {
   "cell_type": "code",
   "execution_count": 81,
   "id": "757886db",
   "metadata": {
    "ExecuteTime": {
     "end_time": "2023-01-04T20:34:01.347794Z",
     "start_time": "2023-01-04T20:34:01.338801Z"
    }
   },
   "outputs": [
    {
     "data": {
      "text/plain": [
       "array([100, 100, 100, 100, 100, 100, 100, 100, 100, 100, 100])"
      ]
     },
     "execution_count": 81,
     "metadata": {},
     "output_type": "execute_result"
    }
   ],
   "source": [
    "arr_copy"
   ]
  },
  {
   "cell_type": "code",
   "execution_count": 82,
   "id": "2b5f991d",
   "metadata": {
    "ExecuteTime": {
     "end_time": "2023-01-04T20:34:23.557796Z",
     "start_time": "2023-01-04T20:34:23.537795Z"
    }
   },
   "outputs": [
    {
     "data": {
      "text/plain": [
       "array([99, 99, 99, 99, 99, 99,  6,  7,  8,  9, 10])"
      ]
     },
     "execution_count": 82,
     "metadata": {},
     "output_type": "execute_result"
    }
   ],
   "source": [
    "arr"
   ]
  },
  {
   "cell_type": "code",
   "execution_count": 83,
   "id": "9db998a2",
   "metadata": {
    "ExecuteTime": {
     "end_time": "2023-01-04T20:37:42.926930Z",
     "start_time": "2023-01-04T20:37:42.913930Z"
    }
   },
   "outputs": [],
   "source": [
    "arr_2d = np.array([[5,10,15],[20,25,30],[35,40,45]])"
   ]
  },
  {
   "cell_type": "code",
   "execution_count": 84,
   "id": "1399b0a2",
   "metadata": {
    "ExecuteTime": {
     "end_time": "2023-01-04T20:37:46.085009Z",
     "start_time": "2023-01-04T20:37:46.067010Z"
    }
   },
   "outputs": [
    {
     "data": {
      "text/plain": [
       "array([[ 5, 10, 15],\n",
       "       [20, 25, 30],\n",
       "       [35, 40, 45]])"
      ]
     },
     "execution_count": 84,
     "metadata": {},
     "output_type": "execute_result"
    }
   ],
   "source": [
    "arr_2d"
   ]
  },
  {
   "cell_type": "code",
   "execution_count": 85,
   "id": "40f18ed2",
   "metadata": {
    "ExecuteTime": {
     "end_time": "2023-01-04T20:38:42.857669Z",
     "start_time": "2023-01-04T20:38:42.841624Z"
    }
   },
   "outputs": [
    {
     "data": {
      "text/plain": [
       "5"
      ]
     },
     "execution_count": 85,
     "metadata": {},
     "output_type": "execute_result"
    }
   ],
   "source": [
    "arr_2d[0][0]"
   ]
  },
  {
   "cell_type": "code",
   "execution_count": 86,
   "id": "5a9d3caa",
   "metadata": {
    "ExecuteTime": {
     "end_time": "2023-01-04T20:38:52.796178Z",
     "start_time": "2023-01-04T20:38:52.778178Z"
    }
   },
   "outputs": [
    {
     "data": {
      "text/plain": [
       "array([ 5, 10, 15])"
      ]
     },
     "execution_count": 86,
     "metadata": {},
     "output_type": "execute_result"
    }
   ],
   "source": [
    "arr_2d[0]"
   ]
  },
  {
   "cell_type": "code",
   "execution_count": 87,
   "id": "316d9729",
   "metadata": {
    "ExecuteTime": {
     "end_time": "2023-01-04T20:39:15.512510Z",
     "start_time": "2023-01-04T20:39:15.497541Z"
    }
   },
   "outputs": [
    {
     "data": {
      "text/plain": [
       "25"
      ]
     },
     "execution_count": 87,
     "metadata": {},
     "output_type": "execute_result"
    }
   ],
   "source": [
    "arr_2d[1][1]"
   ]
  },
  {
   "cell_type": "code",
   "execution_count": 91,
   "id": "f5b13808",
   "metadata": {
    "ExecuteTime": {
     "end_time": "2023-01-04T20:41:46.606567Z",
     "start_time": "2023-01-04T20:41:46.585537Z"
    }
   },
   "outputs": [
    {
     "data": {
      "text/plain": [
       "40"
      ]
     },
     "execution_count": 91,
     "metadata": {},
     "output_type": "execute_result"
    }
   ],
   "source": [
    "arr_2d[2][1]  # first bracket is for index rows, and second bracket is for index column. "
   ]
  },
  {
   "cell_type": "code",
   "execution_count": 90,
   "id": "2f0ef329",
   "metadata": {
    "ExecuteTime": {
     "end_time": "2023-01-04T20:40:38.094861Z",
     "start_time": "2023-01-04T20:40:38.074862Z"
    }
   },
   "outputs": [
    {
     "data": {
      "text/plain": [
       "40"
      ]
     },
     "execution_count": 90,
     "metadata": {},
     "output_type": "execute_result"
    }
   ],
   "source": [
    "arr_2d[2,1]  # Double bracket is optional"
   ]
  },
  {
   "cell_type": "code",
   "execution_count": 95,
   "id": "56f937a5",
   "metadata": {
    "ExecuteTime": {
     "end_time": "2023-01-04T20:46:31.893346Z",
     "start_time": "2023-01-04T20:46:31.874324Z"
    }
   },
   "outputs": [
    {
     "data": {
      "text/plain": [
       "array([[ 5, 10, 15],\n",
       "       [20, 25, 30],\n",
       "       [35, 40, 45]])"
      ]
     },
     "execution_count": 95,
     "metadata": {},
     "output_type": "execute_result"
    }
   ],
   "source": [
    "arr_2d"
   ]
  },
  {
   "cell_type": "code",
   "execution_count": 104,
   "id": "8997f27b",
   "metadata": {
    "ExecuteTime": {
     "end_time": "2023-01-04T20:50:47.430790Z",
     "start_time": "2023-01-04T20:50:47.417820Z"
    }
   },
   "outputs": [
    {
     "data": {
      "text/plain": [
       "array([[10, 15],\n",
       "       [25, 30]])"
      ]
     },
     "execution_count": 104,
     "metadata": {},
     "output_type": "execute_result"
    }
   ],
   "source": [
    "arr_2d[:2,1:]"
   ]
  },
  {
   "cell_type": "code",
   "execution_count": 105,
   "id": "dd6b1d78",
   "metadata": {
    "ExecuteTime": {
     "end_time": "2023-01-04T20:50:54.473364Z",
     "start_time": "2023-01-04T20:50:54.465340Z"
    }
   },
   "outputs": [
    {
     "data": {
      "text/plain": [
       "array([[ 5, 10, 15],\n",
       "       [20, 25, 30]])"
      ]
     },
     "execution_count": 105,
     "metadata": {},
     "output_type": "execute_result"
    }
   ],
   "source": [
    "arr_2d[:2] # remember returns -1"
   ]
  },
  {
   "cell_type": "code",
   "execution_count": 108,
   "id": "0f12e731",
   "metadata": {
    "ExecuteTime": {
     "end_time": "2023-01-04T20:53:35.915789Z",
     "start_time": "2023-01-04T20:53:35.897823Z"
    }
   },
   "outputs": [
    {
     "data": {
      "text/plain": [
       "array([[20, 25, 30],\n",
       "       [35, 40, 45]])"
      ]
     },
     "execution_count": 108,
     "metadata": {},
     "output_type": "execute_result"
    }
   ],
   "source": [
    "arr_2d[1:3]"
   ]
  },
  {
   "cell_type": "code",
   "execution_count": 109,
   "id": "0ec7d845",
   "metadata": {
    "ExecuteTime": {
     "end_time": "2023-01-04T20:56:12.006675Z",
     "start_time": "2023-01-04T20:56:11.987624Z"
    }
   },
   "outputs": [],
   "source": [
    "arr = np.arange(1,11)"
   ]
  },
  {
   "cell_type": "code",
   "execution_count": 110,
   "id": "509da09e",
   "metadata": {
    "ExecuteTime": {
     "end_time": "2023-01-04T20:56:14.549121Z",
     "start_time": "2023-01-04T20:56:14.530126Z"
    }
   },
   "outputs": [
    {
     "data": {
      "text/plain": [
       "array([ 1,  2,  3,  4,  5,  6,  7,  8,  9, 10])"
      ]
     },
     "execution_count": 110,
     "metadata": {},
     "output_type": "execute_result"
    }
   ],
   "source": [
    "arr"
   ]
  },
  {
   "cell_type": "code",
   "execution_count": 111,
   "id": "0f54a520",
   "metadata": {
    "ExecuteTime": {
     "end_time": "2023-01-04T20:56:36.637922Z",
     "start_time": "2023-01-04T20:56:36.626924Z"
    }
   },
   "outputs": [
    {
     "data": {
      "text/plain": [
       "array([False, False, False, False, False,  True,  True,  True,  True,\n",
       "        True])"
      ]
     },
     "execution_count": 111,
     "metadata": {},
     "output_type": "execute_result"
    }
   ],
   "source": [
    "arr > 5"
   ]
  },
  {
   "cell_type": "code",
   "execution_count": 112,
   "id": "53e8a22b",
   "metadata": {
    "ExecuteTime": {
     "end_time": "2023-01-04T20:56:59.159207Z",
     "start_time": "2023-01-04T20:56:59.154201Z"
    }
   },
   "outputs": [],
   "source": [
    "bool_arr = arr > 5"
   ]
  },
  {
   "cell_type": "code",
   "execution_count": 113,
   "id": "ca19561a",
   "metadata": {
    "ExecuteTime": {
     "end_time": "2023-01-04T20:57:05.188285Z",
     "start_time": "2023-01-04T20:57:05.170315Z"
    }
   },
   "outputs": [
    {
     "data": {
      "text/plain": [
       "array([False, False, False, False, False,  True,  True,  True,  True,\n",
       "        True])"
      ]
     },
     "execution_count": 113,
     "metadata": {},
     "output_type": "execute_result"
    }
   ],
   "source": [
    "bool_arr"
   ]
  },
  {
   "cell_type": "code",
   "execution_count": 115,
   "id": "e761fb08",
   "metadata": {
    "ExecuteTime": {
     "end_time": "2023-01-04T20:57:53.073727Z",
     "start_time": "2023-01-04T20:57:53.057737Z"
    },
    "scrolled": true
   },
   "outputs": [
    {
     "data": {
      "text/plain": [
       "array([ 6,  7,  8,  9, 10])"
      ]
     },
     "execution_count": 115,
     "metadata": {},
     "output_type": "execute_result"
    }
   ],
   "source": [
    "arr[bool_arr]  # it returns just the ones are True"
   ]
  },
  {
   "cell_type": "code",
   "execution_count": 117,
   "id": "02d1299a",
   "metadata": {
    "ExecuteTime": {
     "end_time": "2023-01-04T20:58:36.440800Z",
     "start_time": "2023-01-04T20:58:36.433799Z"
    }
   },
   "outputs": [
    {
     "data": {
      "text/plain": [
       "array([ 6,  7,  8,  9, 10])"
      ]
     },
     "execution_count": 117,
     "metadata": {},
     "output_type": "execute_result"
    }
   ],
   "source": [
    "arr[arr>5] # same in just one line"
   ]
  },
  {
   "cell_type": "code",
   "execution_count": 118,
   "id": "36c78b46",
   "metadata": {
    "ExecuteTime": {
     "end_time": "2023-01-04T20:58:53.326836Z",
     "start_time": "2023-01-04T20:58:53.314811Z"
    }
   },
   "outputs": [
    {
     "data": {
      "text/plain": [
       "array([1, 2])"
      ]
     },
     "execution_count": 118,
     "metadata": {},
     "output_type": "execute_result"
    }
   ],
   "source": [
    "arr[arr<3]"
   ]
  },
  {
   "cell_type": "code",
   "execution_count": 119,
   "id": "8f0602d5",
   "metadata": {
    "ExecuteTime": {
     "end_time": "2023-01-04T21:00:14.178166Z",
     "start_time": "2023-01-04T21:00:14.163191Z"
    }
   },
   "outputs": [],
   "source": [
    "arr_2d = np.arange(50).reshape(5,10)"
   ]
  },
  {
   "cell_type": "code",
   "execution_count": 120,
   "id": "5c31015c",
   "metadata": {
    "ExecuteTime": {
     "end_time": "2023-01-04T21:00:18.414325Z",
     "start_time": "2023-01-04T21:00:18.403325Z"
    }
   },
   "outputs": [
    {
     "data": {
      "text/plain": [
       "array([[ 0,  1,  2,  3,  4,  5,  6,  7,  8,  9],\n",
       "       [10, 11, 12, 13, 14, 15, 16, 17, 18, 19],\n",
       "       [20, 21, 22, 23, 24, 25, 26, 27, 28, 29],\n",
       "       [30, 31, 32, 33, 34, 35, 36, 37, 38, 39],\n",
       "       [40, 41, 42, 43, 44, 45, 46, 47, 48, 49]])"
      ]
     },
     "execution_count": 120,
     "metadata": {},
     "output_type": "execute_result"
    }
   ],
   "source": [
    "arr_2d"
   ]
  },
  {
   "cell_type": "code",
   "execution_count": 125,
   "id": "393eca6d",
   "metadata": {
    "ExecuteTime": {
     "end_time": "2023-01-04T21:01:58.248780Z",
     "start_time": "2023-01-04T21:01:58.241780Z"
    }
   },
   "outputs": [
    {
     "data": {
      "text/plain": [
       "array([[13, 14],\n",
       "       [23, 24]])"
      ]
     },
     "execution_count": 125,
     "metadata": {},
     "output_type": "execute_result"
    }
   ],
   "source": [
    "arr_2d[1:3,3:5]"
   ]
  },
  {
   "cell_type": "markdown",
   "id": "176c8215",
   "metadata": {},
   "source": [
    "## Operators"
   ]
  },
  {
   "cell_type": "code",
   "execution_count": 126,
   "id": "36d0f9a0",
   "metadata": {
    "ExecuteTime": {
     "end_time": "2023-01-04T21:06:30.886845Z",
     "start_time": "2023-01-04T21:06:30.875874Z"
    }
   },
   "outputs": [],
   "source": [
    "arr = np.arange(0,11)"
   ]
  },
  {
   "cell_type": "code",
   "execution_count": 127,
   "id": "1e6add5a",
   "metadata": {
    "ExecuteTime": {
     "end_time": "2023-01-04T21:06:32.601023Z",
     "start_time": "2023-01-04T21:06:32.586000Z"
    }
   },
   "outputs": [
    {
     "data": {
      "text/plain": [
       "array([ 0,  1,  2,  3,  4,  5,  6,  7,  8,  9, 10])"
      ]
     },
     "execution_count": 127,
     "metadata": {},
     "output_type": "execute_result"
    }
   ],
   "source": [
    "arr"
   ]
  },
  {
   "cell_type": "code",
   "execution_count": 128,
   "id": "7c7c75a1",
   "metadata": {
    "ExecuteTime": {
     "end_time": "2023-01-04T21:06:55.264586Z",
     "start_time": "2023-01-04T21:06:55.242581Z"
    }
   },
   "outputs": [
    {
     "data": {
      "text/plain": [
       "array([ 0,  2,  4,  6,  8, 10, 12, 14, 16, 18, 20])"
      ]
     },
     "execution_count": 128,
     "metadata": {},
     "output_type": "execute_result"
    }
   ],
   "source": [
    "arr + arr"
   ]
  },
  {
   "cell_type": "code",
   "execution_count": 130,
   "id": "81635ad9",
   "metadata": {
    "ExecuteTime": {
     "end_time": "2023-01-04T21:07:11.168573Z",
     "start_time": "2023-01-04T21:07:11.154539Z"
    }
   },
   "outputs": [
    {
     "data": {
      "text/plain": [
       "array([0, 0, 0, 0, 0, 0, 0, 0, 0, 0, 0])"
      ]
     },
     "execution_count": 130,
     "metadata": {},
     "output_type": "execute_result"
    }
   ],
   "source": [
    "arr - arr"
   ]
  },
  {
   "cell_type": "code",
   "execution_count": 131,
   "id": "1a563d08",
   "metadata": {
    "ExecuteTime": {
     "end_time": "2023-01-04T21:07:17.153841Z",
     "start_time": "2023-01-04T21:07:17.147838Z"
    }
   },
   "outputs": [
    {
     "data": {
      "text/plain": [
       "array([  0,   1,   4,   9,  16,  25,  36,  49,  64,  81, 100])"
      ]
     },
     "execution_count": 131,
     "metadata": {},
     "output_type": "execute_result"
    }
   ],
   "source": [
    "arr * arr"
   ]
  },
  {
   "cell_type": "code",
   "execution_count": 133,
   "id": "6cf2a858",
   "metadata": {
    "ExecuteTime": {
     "end_time": "2023-01-04T21:07:43.791954Z",
     "start_time": "2023-01-04T21:07:43.779949Z"
    }
   },
   "outputs": [
    {
     "data": {
      "text/plain": [
       "array([100, 101, 102, 103, 104, 105, 106, 107, 108, 109, 110])"
      ]
     },
     "execution_count": 133,
     "metadata": {},
     "output_type": "execute_result"
    }
   ],
   "source": [
    "arr + 100 #scaler operations"
   ]
  },
  {
   "cell_type": "code",
   "execution_count": 134,
   "id": "69c43294",
   "metadata": {
    "ExecuteTime": {
     "end_time": "2023-01-04T21:07:52.911039Z",
     "start_time": "2023-01-04T21:07:52.899023Z"
    }
   },
   "outputs": [
    {
     "data": {
      "text/plain": [
       "array([   0,  100,  200,  300,  400,  500,  600,  700,  800,  900, 1000])"
      ]
     },
     "execution_count": 134,
     "metadata": {},
     "output_type": "execute_result"
    }
   ],
   "source": [
    "arr * 100 #scaler operations"
   ]
  },
  {
   "cell_type": "code",
   "execution_count": 135,
   "id": "75ef341b",
   "metadata": {
    "ExecuteTime": {
     "end_time": "2023-01-04T21:08:05.319405Z",
     "start_time": "2023-01-04T21:08:05.299404Z"
    }
   },
   "outputs": [
    {
     "data": {
      "text/plain": [
       "array([-100,  -99,  -98,  -97,  -96,  -95,  -94,  -93,  -92,  -91,  -90])"
      ]
     },
     "execution_count": 135,
     "metadata": {},
     "output_type": "execute_result"
    }
   ],
   "source": [
    "arr - 100 #scaler operations"
   ]
  },
  {
   "cell_type": "code",
   "execution_count": 137,
   "id": "223b9d8d",
   "metadata": {
    "ExecuteTime": {
     "end_time": "2023-01-04T21:19:28.408805Z",
     "start_time": "2023-01-04T21:19:28.394782Z"
    }
   },
   "outputs": [
    {
     "name": "stderr",
     "output_type": "stream",
     "text": [
      "C:\\Users\\Sergi\\AppData\\Local\\Temp\\ipykernel_3724\\749881850.py:1: RuntimeWarning: invalid value encountered in divide\n",
      "  arr / arr # 0/0 is a null value (nan)\n"
     ]
    },
    {
     "data": {
      "text/plain": [
       "array([nan,  1.,  1.,  1.,  1.,  1.,  1.,  1.,  1.,  1.,  1.])"
      ]
     },
     "execution_count": 137,
     "metadata": {},
     "output_type": "execute_result"
    }
   ],
   "source": [
    "arr / arr # 0/0 is a null value (nan)"
   ]
  },
  {
   "cell_type": "code",
   "execution_count": 140,
   "id": "b5a601d1",
   "metadata": {
    "ExecuteTime": {
     "end_time": "2023-01-04T21:20:10.714202Z",
     "start_time": "2023-01-04T21:20:10.691203Z"
    }
   },
   "outputs": [
    {
     "name": "stderr",
     "output_type": "stream",
     "text": [
      "C:\\Users\\Sergi\\AppData\\Local\\Temp\\ipykernel_3724\\1033710555.py:1: RuntimeWarning: divide by zero encountered in divide\n",
      "  1 / arr  # 1/0 is an infinite value (inf)\n"
     ]
    },
    {
     "data": {
      "text/plain": [
       "array([       inf, 1.        , 0.5       , 0.33333333, 0.25      ,\n",
       "       0.2       , 0.16666667, 0.14285714, 0.125     , 0.11111111,\n",
       "       0.1       ])"
      ]
     },
     "execution_count": 140,
     "metadata": {},
     "output_type": "execute_result"
    }
   ],
   "source": [
    "1 / arr  # 1/0 is an infinite value (inf)"
   ]
  },
  {
   "cell_type": "code",
   "execution_count": 144,
   "id": "768e6619",
   "metadata": {
    "ExecuteTime": {
     "end_time": "2023-01-04T21:21:57.644568Z",
     "start_time": "2023-01-04T21:21:57.635551Z"
    }
   },
   "outputs": [
    {
     "data": {
      "text/plain": [
       "array([   0,    1,    8,   27,   64,  125,  216,  343,  512,  729, 1000],\n",
       "      dtype=int32)"
      ]
     },
     "execution_count": 144,
     "metadata": {},
     "output_type": "execute_result"
    }
   ],
   "source": [
    "arr ** 3"
   ]
  },
  {
   "cell_type": "code",
   "execution_count": 145,
   "id": "4dfa7956",
   "metadata": {
    "ExecuteTime": {
     "end_time": "2023-01-04T21:22:42.463670Z",
     "start_time": "2023-01-04T21:22:42.445674Z"
    }
   },
   "outputs": [
    {
     "data": {
      "text/plain": [
       "array([0.        , 1.        , 1.41421356, 1.73205081, 2.        ,\n",
       "       2.23606798, 2.44948974, 2.64575131, 2.82842712, 3.        ,\n",
       "       3.16227766])"
      ]
     },
     "execution_count": 145,
     "metadata": {},
     "output_type": "execute_result"
    }
   ],
   "source": [
    "np.sqrt(arr)"
   ]
  },
  {
   "cell_type": "code",
   "execution_count": 146,
   "id": "49a3b3b6",
   "metadata": {
    "ExecuteTime": {
     "end_time": "2023-01-04T21:22:51.979229Z",
     "start_time": "2023-01-04T21:22:51.964231Z"
    }
   },
   "outputs": [
    {
     "data": {
      "text/plain": [
       "array([1.00000000e+00, 2.71828183e+00, 7.38905610e+00, 2.00855369e+01,\n",
       "       5.45981500e+01, 1.48413159e+02, 4.03428793e+02, 1.09663316e+03,\n",
       "       2.98095799e+03, 8.10308393e+03, 2.20264658e+04])"
      ]
     },
     "execution_count": 146,
     "metadata": {},
     "output_type": "execute_result"
    }
   ],
   "source": [
    "np.exp(arr)"
   ]
  },
  {
   "cell_type": "code",
   "execution_count": 147,
   "id": "c859b043",
   "metadata": {
    "ExecuteTime": {
     "end_time": "2023-01-04T21:23:04.048334Z",
     "start_time": "2023-01-04T21:23:04.036333Z"
    }
   },
   "outputs": [
    {
     "data": {
      "text/plain": [
       "10"
      ]
     },
     "execution_count": 147,
     "metadata": {},
     "output_type": "execute_result"
    }
   ],
   "source": [
    "np.max(arr)"
   ]
  },
  {
   "cell_type": "code",
   "execution_count": 148,
   "id": "5192e75d",
   "metadata": {
    "ExecuteTime": {
     "end_time": "2023-01-04T21:23:16.304021Z",
     "start_time": "2023-01-04T21:23:16.283997Z"
    }
   },
   "outputs": [
    {
     "data": {
      "text/plain": [
       "10"
      ]
     },
     "execution_count": 148,
     "metadata": {},
     "output_type": "execute_result"
    }
   ],
   "source": [
    "arr.max()"
   ]
  },
  {
   "cell_type": "code",
   "execution_count": 149,
   "id": "53cdbdf8",
   "metadata": {
    "ExecuteTime": {
     "end_time": "2023-01-04T21:23:28.095145Z",
     "start_time": "2023-01-04T21:23:28.075142Z"
    }
   },
   "outputs": [
    {
     "data": {
      "text/plain": [
       "array([ 0.        ,  0.84147098,  0.90929743,  0.14112001, -0.7568025 ,\n",
       "       -0.95892427, -0.2794155 ,  0.6569866 ,  0.98935825,  0.41211849,\n",
       "       -0.54402111])"
      ]
     },
     "execution_count": 149,
     "metadata": {},
     "output_type": "execute_result"
    }
   ],
   "source": [
    "np.sin(arr)"
   ]
  },
  {
   "cell_type": "code",
   "execution_count": 151,
   "id": "b5d6242f",
   "metadata": {
    "ExecuteTime": {
     "end_time": "2023-01-04T21:24:04.906518Z",
     "start_time": "2023-01-04T21:24:04.891499Z"
    }
   },
   "outputs": [
    {
     "name": "stderr",
     "output_type": "stream",
     "text": [
      "C:\\Users\\Sergi\\AppData\\Local\\Temp\\ipykernel_3724\\995386163.py:1: RuntimeWarning: divide by zero encountered in log\n",
      "  np.log(arr) # log 0 is infinite\n"
     ]
    },
    {
     "data": {
      "text/plain": [
       "array([      -inf, 0.        , 0.69314718, 1.09861229, 1.38629436,\n",
       "       1.60943791, 1.79175947, 1.94591015, 2.07944154, 2.19722458,\n",
       "       2.30258509])"
      ]
     },
     "execution_count": 151,
     "metadata": {},
     "output_type": "execute_result"
    }
   ],
   "source": [
    "np.log(arr) # log 0 is infinite (-inf)"
   ]
  },
  {
   "cell_type": "code",
   "execution_count": null,
   "id": "4ec877ae",
   "metadata": {},
   "outputs": [],
   "source": []
  }
 ],
 "metadata": {
  "kernelspec": {
   "display_name": "Python 3 (ipykernel)",
   "language": "python",
   "name": "python3"
  },
  "language_info": {
   "codemirror_mode": {
    "name": "ipython",
    "version": 3
   },
   "file_extension": ".py",
   "mimetype": "text/x-python",
   "name": "python",
   "nbconvert_exporter": "python",
   "pygments_lexer": "ipython3",
   "version": "3.9.15"
  },
  "toc": {
   "base_numbering": 1,
   "nav_menu": {},
   "number_sections": true,
   "sideBar": true,
   "skip_h1_title": false,
   "title_cell": "Table of Contents",
   "title_sidebar": "Contents",
   "toc_cell": false,
   "toc_position": {},
   "toc_section_display": true,
   "toc_window_display": false
  }
 },
 "nbformat": 4,
 "nbformat_minor": 5
}
