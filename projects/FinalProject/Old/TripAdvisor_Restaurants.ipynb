{
 "cells": [
  {
   "cell_type": "code",
   "execution_count": 1,
   "id": "73d7f7eb",
   "metadata": {},
   "outputs": [],
   "source": [
    "import time\n",
    "from time import sleep\n",
    "from random import randint\n",
    "from selenium.webdriver.common.keys import Keys\n",
    "from selenium import webdriver\n",
    "from bs4 import BeautifulSoup\n",
    "import requests\n",
    "from tqdm import tqdm\n",
    "import warnings\n",
    "warnings.filterwarnings(\"ignore\")"
   ]
  },
  {
   "cell_type": "code",
   "execution_count": 2,
   "id": "4f26b414",
   "metadata": {},
   "outputs": [],
   "source": [
    "driver = webdriver.Chrome()\n",
    "driver.maximize_window()"
   ]
  },
  {
   "cell_type": "code",
   "execution_count": 3,
   "id": "5fd2433b",
   "metadata": {},
   "outputs": [],
   "source": [
    "url = 'https://www.tripadvisor.es/Restaurants'"
   ]
  },
  {
   "cell_type": "code",
   "execution_count": 4,
   "id": "02280ab3",
   "metadata": {},
   "outputs": [],
   "source": [
    "driver.get(url)"
   ]
  },
  {
   "cell_type": "code",
   "execution_count": 5,
   "id": "bcc3e6a7",
   "metadata": {},
   "outputs": [],
   "source": [
    "x = randint(2,6)\n",
    "sleep(x)"
   ]
  },
  {
   "cell_type": "code",
   "execution_count": 6,
   "id": "e2cbeb58",
   "metadata": {},
   "outputs": [],
   "source": [
    "accept=driver.find_element_by_xpath('//*[@id=\"onetrust-accept-btn-handler\"]')\n",
    "accept.click()"
   ]
  },
  {
   "cell_type": "code",
   "execution_count": 7,
   "id": "2f8287a3",
   "metadata": {},
   "outputs": [],
   "source": [
    "x = randint(2,6)\n",
    "sleep(x)"
   ]
  },
  {
   "cell_type": "code",
   "execution_count": 8,
   "id": "75bf128a",
   "metadata": {},
   "outputs": [],
   "source": [
    "search=driver.find_element_by_xpath('//*[@id=\"component_6\"]/div/div/form/input[1]')\n",
    "search.click()\n",
    "search.send_keys('Barcelona')\n",
    "search.send_keys(Keys.ENTER)"
   ]
  },
  {
   "cell_type": "code",
   "execution_count": 9,
   "id": "670a6afc",
   "metadata": {},
   "outputs": [],
   "source": [
    "x = randint(2,6)\n",
    "sleep(x)"
   ]
  },
  {
   "cell_type": "code",
   "execution_count": 10,
   "id": "a448fb53",
   "metadata": {},
   "outputs": [],
   "source": [
    "restaurants=driver.find_element_by_xpath('//*[@id=\"search-filters\"]/ul/li[4]/a')\n",
    "restaurants.click()"
   ]
  },
  {
   "cell_type": "code",
   "execution_count": 11,
   "id": "6bbfe49f",
   "metadata": {},
   "outputs": [],
   "source": [
    "x = randint(2,6)\n",
    "sleep(x)"
   ]
  },
  {
   "cell_type": "code",
   "execution_count": 12,
   "id": "465de65a",
   "metadata": {},
   "outputs": [],
   "source": [
    "html_txt=driver.page_source\n",
    "soup=BeautifulSoup(html_txt)"
   ]
  },
  {
   "cell_type": "code",
   "execution_count": 13,
   "id": "55195978",
   "metadata": {},
   "outputs": [],
   "source": [
    "x = randint(2,6)\n",
    "sleep(x)"
   ]
  },
  {
   "cell_type": "code",
   "execution_count": 14,
   "id": "597f25ec",
   "metadata": {},
   "outputs": [],
   "source": [
    "ListRestaurants=[]\n",
    "restaurants=soup.find_all('div',class_='result-title')\n",
    "for i in restaurants:\n",
    "    title=i.find('span').getText()\n",
    "    ListRestaurants.append(title)"
   ]
  },
  {
   "cell_type": "code",
   "execution_count": 15,
   "id": "17f4eaad",
   "metadata": {},
   "outputs": [
    {
     "name": "stdout",
     "output_type": "stream",
     "text": [
      "['Barcelona Tapas Puerto Vallarta', 'BelleBuon', 'Fàbrica Moritz Barcelona', 'Ciudad Condal', 'La Peninsular', 'La Patsa Lab', 'Vicky Barcelona', 'Bella Italia', 'Corchos Barcelona -Colina', 'Thai Barcelona | Royal Cuisine', 'Ramen-ya Hiro', 'Le Romane', 'Cervecería Catalana', 'Mirabé', 'Flax & Kale', 'Can Paixano (La Xampanyeria)', 'La Flauta', 'Les Quinze Nits', \"Piazze D'Italia\", 'Can Culleretes', '4 Gats', 'Can Cortada', 'Teresa Carles', 'Bar Tomas', 'Casa Lolea Barcelona', 'Via Veneto', '9 Reinas Barcelona', 'Koku Kitchen Ramen', 'PETIT BANGKOK', '7 Portes']\n"
     ]
    }
   ],
   "source": [
    "print(ListRestaurants)"
   ]
  },
  {
   "cell_type": "code",
   "execution_count": 16,
   "id": "466405a1",
   "metadata": {},
   "outputs": [],
   "source": [
    "pages=driver.find_element_by_xpath('//*[@id=\"BODY_BLOCK_JQUERY_REFLOW\"]/div[2]/div/div[2]/div/div/div/div/div[1]/div/div[1]/div/div[3]/div/div[2]/div/div/div/a[2]')\n",
    "pages.click()"
   ]
  },
  {
   "cell_type": "code",
   "execution_count": 17,
   "id": "13f68fd4",
   "metadata": {},
   "outputs": [
    {
     "name": "stderr",
     "output_type": "stream",
     "text": [
      "100%|██████████| 2/2 [01:56<00:00, 58.14s/it]\n"
     ]
    }
   ],
   "source": [
    "ListRestaurants2=[]\n",
    "for i in tqdm(range(2,4)): #33\n",
    "    html_txt2=driver.page_source\n",
    "    soup2=BeautifulSoup(html_txt2)\n",
    "    restaurants2=soup2.find_all('div',class_='result-title')\n",
    "    x = randint(2,5)\n",
    "    sleep(x)\n",
    "    for i in restaurants2:\n",
    "        title=i.find('span').getText()\n",
    "        ListRestaurants2.append(title)\n",
    "        x = randint(2,5)\n",
    "        sleep(x)\n",
    "        pages=driver.find_element_by_xpath('//*[@id=\"BODY_BLOCK_JQUERY_REFLOW\"]/div[2]/div/div[2]/div/div/div/div/div[1]/div/div[1]/div/div[3]/div/div[2]/div/div/div/a[2]')\n",
    "        pages.click()\n",
    "        \n",
    "\n",
    "# html_txt2=driver.page_source\n",
    "# soup2=BeautifulSoup(html_txt2)    \n",
    "# restaurants2=soup2.find_all('div',class_='result-title')        \n",
    "# page = 0\n",
    "# titles_rest = []\n",
    "# while page != 90:\n",
    "#       x = randint(2,5)\n",
    "#       sleep(x)\n",
    "#       url2 = f\"https://www.tripadvisor.es/Search?q=Barcelona&searchSessionId=51C8E5CE54DA772C3953CD9DA7D126D31646914148673ssid&searchNearby=false&sid=6CE36F5C961D4332A3DC16D3040AA0ED1646914152244&blockRedirect=true&ssrc=e&rf=36&o={page}\"\n",
    "#       response = requests.get(url2)\n",
    "#       html = response.content\n",
    "#       soup = BeautifulSoup(html, \"lxml\")\n",
    "#       for i in restaurants2:\n",
    "#             titles_rest.append(i.get_text(strip=True))\n",
    "#             x = randint(2,5)\n",
    "#             sleep(x)\n",
    "#       page = page + 30"
   ]
  },
  {
   "cell_type": "code",
   "execution_count": null,
   "id": "5ea85e99",
   "metadata": {},
   "outputs": [],
   "source": []
  },
  {
   "cell_type": "code",
   "execution_count": 18,
   "id": "735cfc8c",
   "metadata": {},
   "outputs": [],
   "source": [
    "# ListRestaurants2=[]\n",
    "# for i in range(30,121,30):\n",
    "#     url2=f'https://www.tripadvisor.es/Search?q=Barcelona&searchSessionId=51C8E5CE54DA772C3953CD9DA7D126D31646914148673ssid&searchNearby=false&sid=6CE36F5C961D4332A3DC16D3040AA0ED1646914152244&blockRedirect=true&ssrc=e&rf=36&o={i}'\n",
    "#     x = randint(2,10)\n",
    "#     sleep(x)\n",
    "#     driver.get(url2)\n",
    "#     html_txt2=driver.page_source\n",
    "#     soup2=BeautifulSoup(html_txt2)\n",
    "#     restaurants2=soup2.find_all('div',class_='result-title')\n",
    "#     print(restaurants2)\n",
    "#     for k in restaurants2:\n",
    "#         x = randint(2,5)\n",
    "#         sleep(x)\n",
    "#         title=k.find('span').text\n",
    "#         print(title)\n",
    "#         ListRestaurants2.append(title)"
   ]
  },
  {
   "cell_type": "code",
   "execution_count": 19,
   "id": "98f96d06",
   "metadata": {
    "scrolled": true
   },
   "outputs": [
    {
     "name": "stdout",
     "output_type": "stream",
     "text": [
      "[\"Raco D'en Cesc\", 'Bar Cañete', 'Don Kilo Restaurant', 'Casa Amàlia 1950', 'Carlota Akaneya', 'Shunka', 'Vinitus', 'Babula Bar 1937', 'Paco Meralgo', 'Vivo Tapas', 'L’ Amfora Barcelona', 'Season Restaurant Barcelona', 'Tapeo', 'Restaurante La Boqueria', 'El Xampanyet', 'Viana', 'La Tasqueta De Blai', 'El Pachuco', 'Quimet & Quimet', '9 Nine', 'Restaurante Parrilla Alfonsina', 'Restaurante Kurai', 'La Gastronómica Burgers', 'El Viti Taberna', 'Marina Bay Barcelona', 'Ándele París', 'Anita Flow', 'Uma', 'Robata', 'Escriba Gran Via']\n"
     ]
    }
   ],
   "source": [
    "print(ListRestaurants2)"
   ]
  },
  {
   "cell_type": "code",
   "execution_count": 21,
   "id": "20b64dfe",
   "metadata": {},
   "outputs": [
    {
     "data": {
      "text/plain": [
       "30"
      ]
     },
     "execution_count": 21,
     "metadata": {},
     "output_type": "execute_result"
    }
   ],
   "source": [
    "len(ListRestaurants2)"
   ]
  },
  {
   "cell_type": "code",
   "execution_count": 20,
   "id": "e7afd9fb",
   "metadata": {},
   "outputs": [],
   "source": [
    "# ListRestaurants2=[]\n",
    "# for i in tqdm(range(2,4)): #33\n",
    "#     html_txt2=driver.page_source\n",
    "#     soup2=BeautifulSoup(html_txt2)\n",
    "#     restaurants2=soup2.find_all('div',class_='result-title')\n",
    "#     x = randint(2,5)\n",
    "#     sleep(x)\n",
    "#     for i in restaurants2:\n",
    "#         title=i.find('span').getText()\n",
    "#         ListRestaurants2.append(title)\n",
    "#         x = randint(2,5)\n",
    "#         sleep(x)\n",
    "#         pages=driver.find_element_by_xpath('//*[@id=\"BODY_BLOCK_JQUERY_REFLOW\"]/div[2]/div/div[2]/div/div/div/div/div[1]/div/div[1]/div/div[3]/div/div[2]/div/div/div/a[2]')\n",
    "#         pages.click()"
   ]
  }
 ],
 "metadata": {
  "kernelspec": {
   "display_name": "Python 3 (ipykernel)",
   "language": "python",
   "name": "python3"
  },
  "language_info": {
   "codemirror_mode": {
    "name": "ipython",
    "version": 3
   },
   "file_extension": ".py",
   "mimetype": "text/x-python",
   "name": "python",
   "nbconvert_exporter": "python",
   "pygments_lexer": "ipython3",
   "version": "3.9.10"
  },
  "toc": {
   "base_numbering": 1,
   "nav_menu": {},
   "number_sections": true,
   "sideBar": true,
   "skip_h1_title": false,
   "title_cell": "Table of Contents",
   "title_sidebar": "Contents",
   "toc_cell": false,
   "toc_position": {},
   "toc_section_display": true,
   "toc_window_display": false
  },
  "varInspector": {
   "cols": {
    "lenName": 16,
    "lenType": 16,
    "lenVar": 40
   },
   "kernels_config": {
    "python": {
     "delete_cmd_postfix": "",
     "delete_cmd_prefix": "del ",
     "library": "var_list.py",
     "varRefreshCmd": "print(var_dic_list())"
    },
    "r": {
     "delete_cmd_postfix": ") ",
     "delete_cmd_prefix": "rm(",
     "library": "var_list.r",
     "varRefreshCmd": "cat(var_dic_list()) "
    }
   },
   "types_to_exclude": [
    "module",
    "function",
    "builtin_function_or_method",
    "instance",
    "_Feature"
   ],
   "window_display": false
  }
 },
 "nbformat": 4,
 "nbformat_minor": 5
}
