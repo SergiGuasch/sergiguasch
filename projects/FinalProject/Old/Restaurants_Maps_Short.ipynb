{
 "cells": [
  {
   "cell_type": "code",
   "execution_count": 1,
   "id": "8bade372",
   "metadata": {},
   "outputs": [],
   "source": [
    "from selenium import webdriver\n",
    "driver = webdriver.Chrome()  "
   ]
  },
  {
   "cell_type": "code",
   "execution_count": 2,
   "id": "8ca9adc3",
   "metadata": {},
   "outputs": [],
   "source": [
    "url = 'https://www.google.es/maps/search/Restaurants/@41.4093163,2.1866615,13.75z?hl=en'"
   ]
  },
  {
   "cell_type": "code",
   "execution_count": 3,
   "id": "5602a1fd",
   "metadata": {
    "scrolled": true
   },
   "outputs": [],
   "source": [
    "driver.get(url)"
   ]
  },
  {
   "cell_type": "code",
   "execution_count": 4,
   "id": "aaa4930a",
   "metadata": {},
   "outputs": [],
   "source": [
    "options = webdriver.ChromeOptions()\n",
    "options.add_argument('headless')\n",
    "browser = webdriver.Chrome(options=options)"
   ]
  },
  {
   "cell_type": "code",
   "execution_count": 5,
   "id": "8b0ebb3b",
   "metadata": {},
   "outputs": [],
   "source": [
    "browser.get(url)"
   ]
  },
  {
   "cell_type": "code",
   "execution_count": 14,
   "id": "155b47d3",
   "metadata": {},
   "outputs": [
    {
     "ename": "InvalidArgumentException",
     "evalue": "Message: invalid argument: invalid locator\n  (Session info: headless chrome=99.0.4844.51)\nStacktrace:\nBacktrace:\n\tOrdinal0 [0x00979943+2595139]\n\tOrdinal0 [0x0090C9F1+2148849]\n\tOrdinal0 [0x00804528+1066280]\n\tOrdinal0 [0x00831156+1249622]\n\tOrdinal0 [0x008311CB+1249739]\n\tOrdinal0 [0x0085D84C+1431628]\n\tOrdinal0 [0x0084BA34+1358388]\n\tOrdinal0 [0x0085BAF2+1424114]\n\tOrdinal0 [0x0084B806+1357830]\n\tOrdinal0 [0x00826086+1204358]\n\tOrdinal0 [0x00826F96+1208214]\n\tGetHandleVerifier [0x00B1B232+1658114]\n\tGetHandleVerifier [0x00BD312C+2411516]\n\tGetHandleVerifier [0x00A0F261+560433]\n\tGetHandleVerifier [0x00A0E366+556598]\n\tOrdinal0 [0x0091286B+2173035]\n\tOrdinal0 [0x009175F8+2192888]\n\tOrdinal0 [0x009176E5+2193125]\n\tOrdinal0 [0x009211FC+2232828]\n\tBaseThreadInitThunk [0x76186739+25]\n\tRtlGetFullPathName_UEx [0x772E8E7F+1215]\n\tRtlGetFullPathName_UEx [0x772E8E4D+1165]\n",
     "output_type": "error",
     "traceback": [
      "\u001b[1;31m---------------------------------------------------------------------------\u001b[0m",
      "\u001b[1;31mInvalidArgumentException\u001b[0m                  Traceback (most recent call last)",
      "Input \u001b[1;32mIn [14]\u001b[0m, in \u001b[0;36m<cell line: 1>\u001b[1;34m()\u001b[0m\n\u001b[1;32m----> 1\u001b[0m review_titles \u001b[38;5;241m=\u001b[39m \u001b[43mbrowser\u001b[49m\u001b[38;5;241;43m.\u001b[39;49m\u001b[43mfind_elements\u001b[49m\u001b[43m(\u001b[49m\u001b[38;5;124;43m'\u001b[39;49m\u001b[38;5;124;43ma\u001b[39;49m\u001b[38;5;124;43m'\u001b[39;49m\u001b[43m)\u001b[49m\n",
      "File \u001b[1;32m~\\anaconda3\\envs\\project\\lib\\site-packages\\selenium\\webdriver\\remote\\webdriver.py:1279\u001b[0m, in \u001b[0;36mWebDriver.find_elements\u001b[1;34m(self, by, value)\u001b[0m\n\u001b[0;32m   1275\u001b[0m     value \u001b[38;5;241m=\u001b[39m \u001b[38;5;124m'\u001b[39m\u001b[38;5;124m[name=\u001b[39m\u001b[38;5;124m\"\u001b[39m\u001b[38;5;132;01m%s\u001b[39;00m\u001b[38;5;124m\"\u001b[39m\u001b[38;5;124m]\u001b[39m\u001b[38;5;124m'\u001b[39m \u001b[38;5;241m%\u001b[39m value\n\u001b[0;32m   1277\u001b[0m \u001b[38;5;66;03m# Return empty list if driver returns null\u001b[39;00m\n\u001b[0;32m   1278\u001b[0m \u001b[38;5;66;03m# See https://github.com/SeleniumHQ/selenium/issues/4555\u001b[39;00m\n\u001b[1;32m-> 1279\u001b[0m \u001b[38;5;28;01mreturn\u001b[39;00m \u001b[38;5;28;43mself\u001b[39;49m\u001b[38;5;241;43m.\u001b[39;49m\u001b[43mexecute\u001b[49m\u001b[43m(\u001b[49m\u001b[43mCommand\u001b[49m\u001b[38;5;241;43m.\u001b[39;49m\u001b[43mFIND_ELEMENTS\u001b[49m\u001b[43m,\u001b[49m\u001b[43m \u001b[49m\u001b[43m{\u001b[49m\n\u001b[0;32m   1280\u001b[0m \u001b[43m    \u001b[49m\u001b[38;5;124;43m'\u001b[39;49m\u001b[38;5;124;43musing\u001b[39;49m\u001b[38;5;124;43m'\u001b[39;49m\u001b[43m:\u001b[49m\u001b[43m \u001b[49m\u001b[43mby\u001b[49m\u001b[43m,\u001b[49m\n\u001b[0;32m   1281\u001b[0m \u001b[43m    \u001b[49m\u001b[38;5;124;43m'\u001b[39;49m\u001b[38;5;124;43mvalue\u001b[39;49m\u001b[38;5;124;43m'\u001b[39;49m\u001b[43m:\u001b[49m\u001b[43m \u001b[49m\u001b[43mvalue\u001b[49m\u001b[43m}\u001b[49m\u001b[43m)\u001b[49m[\u001b[38;5;124m'\u001b[39m\u001b[38;5;124mvalue\u001b[39m\u001b[38;5;124m'\u001b[39m] \u001b[38;5;129;01mor\u001b[39;00m []\n",
      "File \u001b[1;32m~\\anaconda3\\envs\\project\\lib\\site-packages\\selenium\\webdriver\\remote\\webdriver.py:424\u001b[0m, in \u001b[0;36mWebDriver.execute\u001b[1;34m(self, driver_command, params)\u001b[0m\n\u001b[0;32m    422\u001b[0m response \u001b[38;5;241m=\u001b[39m \u001b[38;5;28mself\u001b[39m\u001b[38;5;241m.\u001b[39mcommand_executor\u001b[38;5;241m.\u001b[39mexecute(driver_command, params)\n\u001b[0;32m    423\u001b[0m \u001b[38;5;28;01mif\u001b[39;00m response:\n\u001b[1;32m--> 424\u001b[0m     \u001b[38;5;28;43mself\u001b[39;49m\u001b[38;5;241;43m.\u001b[39;49m\u001b[43merror_handler\u001b[49m\u001b[38;5;241;43m.\u001b[39;49m\u001b[43mcheck_response\u001b[49m\u001b[43m(\u001b[49m\u001b[43mresponse\u001b[49m\u001b[43m)\u001b[49m\n\u001b[0;32m    425\u001b[0m     response[\u001b[38;5;124m'\u001b[39m\u001b[38;5;124mvalue\u001b[39m\u001b[38;5;124m'\u001b[39m] \u001b[38;5;241m=\u001b[39m \u001b[38;5;28mself\u001b[39m\u001b[38;5;241m.\u001b[39m_unwrap_value(\n\u001b[0;32m    426\u001b[0m         response\u001b[38;5;241m.\u001b[39mget(\u001b[38;5;124m'\u001b[39m\u001b[38;5;124mvalue\u001b[39m\u001b[38;5;124m'\u001b[39m, \u001b[38;5;28;01mNone\u001b[39;00m))\n\u001b[0;32m    427\u001b[0m     \u001b[38;5;28;01mreturn\u001b[39;00m response\n",
      "File \u001b[1;32m~\\anaconda3\\envs\\project\\lib\\site-packages\\selenium\\webdriver\\remote\\errorhandler.py:247\u001b[0m, in \u001b[0;36mErrorHandler.check_response\u001b[1;34m(self, response)\u001b[0m\n\u001b[0;32m    245\u001b[0m         alert_text \u001b[38;5;241m=\u001b[39m value[\u001b[38;5;124m'\u001b[39m\u001b[38;5;124malert\u001b[39m\u001b[38;5;124m'\u001b[39m]\u001b[38;5;241m.\u001b[39mget(\u001b[38;5;124m'\u001b[39m\u001b[38;5;124mtext\u001b[39m\u001b[38;5;124m'\u001b[39m)\n\u001b[0;32m    246\u001b[0m     \u001b[38;5;28;01mraise\u001b[39;00m exception_class(message, screen, stacktrace, alert_text)  \u001b[38;5;66;03m# type: ignore[call-arg]  # mypy is not smart enough here\u001b[39;00m\n\u001b[1;32m--> 247\u001b[0m \u001b[38;5;28;01mraise\u001b[39;00m exception_class(message, screen, stacktrace)\n",
      "\u001b[1;31mInvalidArgumentException\u001b[0m: Message: invalid argument: invalid locator\n  (Session info: headless chrome=99.0.4844.51)\nStacktrace:\nBacktrace:\n\tOrdinal0 [0x00979943+2595139]\n\tOrdinal0 [0x0090C9F1+2148849]\n\tOrdinal0 [0x00804528+1066280]\n\tOrdinal0 [0x00831156+1249622]\n\tOrdinal0 [0x008311CB+1249739]\n\tOrdinal0 [0x0085D84C+1431628]\n\tOrdinal0 [0x0084BA34+1358388]\n\tOrdinal0 [0x0085BAF2+1424114]\n\tOrdinal0 [0x0084B806+1357830]\n\tOrdinal0 [0x00826086+1204358]\n\tOrdinal0 [0x00826F96+1208214]\n\tGetHandleVerifier [0x00B1B232+1658114]\n\tGetHandleVerifier [0x00BD312C+2411516]\n\tGetHandleVerifier [0x00A0F261+560433]\n\tGetHandleVerifier [0x00A0E366+556598]\n\tOrdinal0 [0x0091286B+2173035]\n\tOrdinal0 [0x009175F8+2192888]\n\tOrdinal0 [0x009176E5+2193125]\n\tOrdinal0 [0x009211FC+2232828]\n\tBaseThreadInitThunk [0x76186739+25]\n\tRtlGetFullPathName_UEx [0x772E8E7F+1215]\n\tRtlGetFullPathName_UEx [0x772E8E4D+1165]\n"
     ]
    }
   ],
   "source": [
    "review_titles = browser.find_elements_by_class_name(a.aria-label)"
   ]
  },
  {
   "cell_type": "code",
   "execution_count": null,
   "id": "8cc12cdd",
   "metadata": {},
   "outputs": [],
   "source": [
    "<a aria-label=\"El Port Bar Restaurante\" jsaction=\"pane.wfvdle12;focus:pane.wfvdle12;blur:pane.wfvdle12;auxclick:pane.wfvdle12;contextmenu:pane.wfvdle12;keydown:pane.wfvdle12;clickmod:pane.wfvdle12\" jstcache=\"53\" href=\"https://www.google.es/maps/place/El+Port+Bar+Restaurante/data=!4m5!3m4!1s0x12a4a30fe559bd07:0x637f1e27151e59fd!8m2!3d41.389742!4d2.194819?authuser=0&amp;hl=en&amp;rclk=1\" class=\"a4gq8e-aVTXAb-haAclf-jRmmHf-hSRGPd\" jsan=\"7.a4gq8e-aVTXAb-haAclf-jRmmHf-hSRGPd,0.aria-label,8.href,0.jsaction\"></a>"
   ]
  },
  {
   "cell_type": "code",
   "execution_count": null,
   "id": "156d6338",
   "metadata": {},
   "outputs": [],
   "source": []
  },
  {
   "cell_type": "code",
   "execution_count": 4,
   "id": "a84556f2",
   "metadata": {},
   "outputs": [],
   "source": [
    "from selenium.webdriver.common.by import By"
   ]
  },
  {
   "cell_type": "code",
   "execution_count": 5,
   "id": "ec64c600",
   "metadata": {},
   "outputs": [],
   "source": [
    "from bs4 import BeautifulSoup"
   ]
  },
  {
   "cell_type": "code",
   "execution_count": 6,
   "id": "bad5dd6b",
   "metadata": {
    "scrolled": true
   },
   "outputs": [
    {
     "ename": "InvalidArgumentException",
     "evalue": "Message: invalid argument: invalid locator\n  (Session info: chrome=99.0.4844.51)\nStacktrace:\nBacktrace:\n\tOrdinal0 [0x01219943+2595139]\n\tOrdinal0 [0x011AC9F1+2148849]\n\tOrdinal0 [0x010A4528+1066280]\n\tOrdinal0 [0x010D1156+1249622]\n\tOrdinal0 [0x010D11CB+1249739]\n\tOrdinal0 [0x010FD812+1431570]\n\tOrdinal0 [0x010EBA34+1358388]\n\tOrdinal0 [0x010FBAF2+1424114]\n\tOrdinal0 [0x010EB806+1357830]\n\tOrdinal0 [0x010C6086+1204358]\n\tOrdinal0 [0x010C6F96+1208214]\n\tGetHandleVerifier [0x013BB232+1658114]\n\tGetHandleVerifier [0x0147312C+2411516]\n\tGetHandleVerifier [0x012AF261+560433]\n\tGetHandleVerifier [0x012AE366+556598]\n\tOrdinal0 [0x011B286B+2173035]\n\tOrdinal0 [0x011B75F8+2192888]\n\tOrdinal0 [0x011B76E5+2193125]\n\tOrdinal0 [0x011C11FC+2232828]\n\tBaseThreadInitThunk [0x769D6739+25]\n\tRtlGetFullPathName_UEx [0x77758E7F+1215]\n\tRtlGetFullPathName_UEx [0x77758E4D+1165]\n",
     "output_type": "error",
     "traceback": [
      "\u001b[1;31m---------------------------------------------------------------------------\u001b[0m",
      "\u001b[1;31mInvalidArgumentException\u001b[0m                  Traceback (most recent call last)",
      "Input \u001b[1;32mIn [6]\u001b[0m, in \u001b[0;36m<cell line: 1>\u001b[1;34m()\u001b[0m\n\u001b[1;32m----> 1\u001b[0m title_restaurants \u001b[38;5;241m=\u001b[39m \u001b[43mdriver\u001b[49m\u001b[38;5;241;43m.\u001b[39;49m\u001b[43mfind_element\u001b[49m\u001b[43m(\u001b[49m\u001b[38;5;124;43m'\u001b[39;49m\u001b[38;5;124;43ma.aria-label\u001b[39;49m\u001b[38;5;124;43m'\u001b[39;49m\u001b[43m)\u001b[49m[\u001b[38;5;241m0\u001b[39m]\n",
      "File \u001b[1;32m~\\anaconda3\\envs\\project\\lib\\site-packages\\selenium\\webdriver\\remote\\webdriver.py:1244\u001b[0m, in \u001b[0;36mWebDriver.find_element\u001b[1;34m(self, by, value)\u001b[0m\n\u001b[0;32m   1241\u001b[0m     by \u001b[38;5;241m=\u001b[39m By\u001b[38;5;241m.\u001b[39mCSS_SELECTOR\n\u001b[0;32m   1242\u001b[0m     value \u001b[38;5;241m=\u001b[39m \u001b[38;5;124m'\u001b[39m\u001b[38;5;124m[name=\u001b[39m\u001b[38;5;124m\"\u001b[39m\u001b[38;5;132;01m%s\u001b[39;00m\u001b[38;5;124m\"\u001b[39m\u001b[38;5;124m]\u001b[39m\u001b[38;5;124m'\u001b[39m \u001b[38;5;241m%\u001b[39m value\n\u001b[1;32m-> 1244\u001b[0m \u001b[38;5;28;01mreturn\u001b[39;00m \u001b[38;5;28;43mself\u001b[39;49m\u001b[38;5;241;43m.\u001b[39;49m\u001b[43mexecute\u001b[49m\u001b[43m(\u001b[49m\u001b[43mCommand\u001b[49m\u001b[38;5;241;43m.\u001b[39;49m\u001b[43mFIND_ELEMENT\u001b[49m\u001b[43m,\u001b[49m\u001b[43m \u001b[49m\u001b[43m{\u001b[49m\n\u001b[0;32m   1245\u001b[0m \u001b[43m    \u001b[49m\u001b[38;5;124;43m'\u001b[39;49m\u001b[38;5;124;43musing\u001b[39;49m\u001b[38;5;124;43m'\u001b[39;49m\u001b[43m:\u001b[49m\u001b[43m \u001b[49m\u001b[43mby\u001b[49m\u001b[43m,\u001b[49m\n\u001b[0;32m   1246\u001b[0m \u001b[43m    \u001b[49m\u001b[38;5;124;43m'\u001b[39;49m\u001b[38;5;124;43mvalue\u001b[39;49m\u001b[38;5;124;43m'\u001b[39;49m\u001b[43m:\u001b[49m\u001b[43m \u001b[49m\u001b[43mvalue\u001b[49m\u001b[43m}\u001b[49m\u001b[43m)\u001b[49m[\u001b[38;5;124m'\u001b[39m\u001b[38;5;124mvalue\u001b[39m\u001b[38;5;124m'\u001b[39m]\n",
      "File \u001b[1;32m~\\anaconda3\\envs\\project\\lib\\site-packages\\selenium\\webdriver\\remote\\webdriver.py:424\u001b[0m, in \u001b[0;36mWebDriver.execute\u001b[1;34m(self, driver_command, params)\u001b[0m\n\u001b[0;32m    422\u001b[0m response \u001b[38;5;241m=\u001b[39m \u001b[38;5;28mself\u001b[39m\u001b[38;5;241m.\u001b[39mcommand_executor\u001b[38;5;241m.\u001b[39mexecute(driver_command, params)\n\u001b[0;32m    423\u001b[0m \u001b[38;5;28;01mif\u001b[39;00m response:\n\u001b[1;32m--> 424\u001b[0m     \u001b[38;5;28;43mself\u001b[39;49m\u001b[38;5;241;43m.\u001b[39;49m\u001b[43merror_handler\u001b[49m\u001b[38;5;241;43m.\u001b[39;49m\u001b[43mcheck_response\u001b[49m\u001b[43m(\u001b[49m\u001b[43mresponse\u001b[49m\u001b[43m)\u001b[49m\n\u001b[0;32m    425\u001b[0m     response[\u001b[38;5;124m'\u001b[39m\u001b[38;5;124mvalue\u001b[39m\u001b[38;5;124m'\u001b[39m] \u001b[38;5;241m=\u001b[39m \u001b[38;5;28mself\u001b[39m\u001b[38;5;241m.\u001b[39m_unwrap_value(\n\u001b[0;32m    426\u001b[0m         response\u001b[38;5;241m.\u001b[39mget(\u001b[38;5;124m'\u001b[39m\u001b[38;5;124mvalue\u001b[39m\u001b[38;5;124m'\u001b[39m, \u001b[38;5;28;01mNone\u001b[39;00m))\n\u001b[0;32m    427\u001b[0m     \u001b[38;5;28;01mreturn\u001b[39;00m response\n",
      "File \u001b[1;32m~\\anaconda3\\envs\\project\\lib\\site-packages\\selenium\\webdriver\\remote\\errorhandler.py:247\u001b[0m, in \u001b[0;36mErrorHandler.check_response\u001b[1;34m(self, response)\u001b[0m\n\u001b[0;32m    245\u001b[0m         alert_text \u001b[38;5;241m=\u001b[39m value[\u001b[38;5;124m'\u001b[39m\u001b[38;5;124malert\u001b[39m\u001b[38;5;124m'\u001b[39m]\u001b[38;5;241m.\u001b[39mget(\u001b[38;5;124m'\u001b[39m\u001b[38;5;124mtext\u001b[39m\u001b[38;5;124m'\u001b[39m)\n\u001b[0;32m    246\u001b[0m     \u001b[38;5;28;01mraise\u001b[39;00m exception_class(message, screen, stacktrace, alert_text)  \u001b[38;5;66;03m# type: ignore[call-arg]  # mypy is not smart enough here\u001b[39;00m\n\u001b[1;32m--> 247\u001b[0m \u001b[38;5;28;01mraise\u001b[39;00m exception_class(message, screen, stacktrace)\n",
      "\u001b[1;31mInvalidArgumentException\u001b[0m: Message: invalid argument: invalid locator\n  (Session info: chrome=99.0.4844.51)\nStacktrace:\nBacktrace:\n\tOrdinal0 [0x01219943+2595139]\n\tOrdinal0 [0x011AC9F1+2148849]\n\tOrdinal0 [0x010A4528+1066280]\n\tOrdinal0 [0x010D1156+1249622]\n\tOrdinal0 [0x010D11CB+1249739]\n\tOrdinal0 [0x010FD812+1431570]\n\tOrdinal0 [0x010EBA34+1358388]\n\tOrdinal0 [0x010FBAF2+1424114]\n\tOrdinal0 [0x010EB806+1357830]\n\tOrdinal0 [0x010C6086+1204358]\n\tOrdinal0 [0x010C6F96+1208214]\n\tGetHandleVerifier [0x013BB232+1658114]\n\tGetHandleVerifier [0x0147312C+2411516]\n\tGetHandleVerifier [0x012AF261+560433]\n\tGetHandleVerifier [0x012AE366+556598]\n\tOrdinal0 [0x011B286B+2173035]\n\tOrdinal0 [0x011B75F8+2192888]\n\tOrdinal0 [0x011B76E5+2193125]\n\tOrdinal0 [0x011C11FC+2232828]\n\tBaseThreadInitThunk [0x769D6739+25]\n\tRtlGetFullPathName_UEx [0x77758E7F+1215]\n\tRtlGetFullPathName_UEx [0x77758E4D+1165]\n"
     ]
    }
   ],
   "source": [
    "title_restaurants = driver.find_element('a.aria-label')[0]"
   ]
  },
  {
   "cell_type": "code",
   "execution_count": null,
   "id": "c7756f9d",
   "metadata": {},
   "outputs": [],
   "source": [
    "<a aria-label=\"El Port Bar Restaurante\" jsaction=\"pane.wfvdle8;focus:pane.wfvdle8;blur:pane.wfvdle8;auxclick:pane.wfvdle8;contextmenu:pane.wfvdle8;keydown:pane.wfvdle8;clickmod:pane.wfvdle8\" jstcache=\"53\" href=\"https://www.google.es/maps/place/El+Port+Bar+Restaurante/data=!4m5!3m4!1s0x12a4a30fe559bd07:0x637f1e27151e59fd!8m2!3d41.389742!4d2.194819?authuser=0&amp;hl=en&amp;rclk=1\" class=\"a4gq8e-aVTXAb-haAclf-jRmmHf-hSRGPd\" jsan=\"7.a4gq8e-aVTXAb-haAclf-jRmmHf-hSRGPd,0.aria-label,8.href,0.jsaction\"></a>"
   ]
  },
  {
   "cell_type": "code",
   "execution_count": 7,
   "id": "65fc2c6c",
   "metadata": {},
   "outputs": [],
   "source": [
    "import requests\n",
    "from bs4 import BeautifulSoup"
   ]
  },
  {
   "cell_type": "code",
   "execution_count": 8,
   "id": "61b2a84c",
   "metadata": {},
   "outputs": [],
   "source": [
    "url2 = 'https://www.google.es/maps/search/Restaurants/@41.4093163,2.1866615,13.75z?hl=en'"
   ]
  },
  {
   "cell_type": "code",
   "execution_count": 9,
   "id": "29da47eb",
   "metadata": {},
   "outputs": [],
   "source": [
    "results=requests.get(url2, headers ={'Accept-Language':'en-US'})"
   ]
  },
  {
   "cell_type": "code",
   "execution_count": 10,
   "id": "c56f9ed6",
   "metadata": {},
   "outputs": [],
   "source": [
    "soup = BeautifulSoup(results.content,'html.parser')"
   ]
  },
  {
   "cell_type": "code",
   "execution_count": 13,
   "id": "3e96d903",
   "metadata": {},
   "outputs": [
    {
     "data": {
      "text/plain": [
       "[<a class=\"basebutton button\" href=\"https://accounts.google.com/ServiceLogin?hl=en&amp;cd=ES&amp;continue=https://www.google.es/maps/search/Restaurants/@41.4093163,2.1866615,13.75z?hl%3Den&amp;gae=cb-\">Sign in</a>,\n",
       " <a href=\"https://policies.google.com/technologies/cookies?hl=en&amp;utm_source=ucb\" target=\"_blank\">cookies</a>,\n",
       " <a class=\"basebutton button\" href=\"https://consent.google.es/dl?continue=https://www.google.es/maps/search/Restaurants/@41.4093163,2.1866615,13.75z?hl%3Den&amp;gl=ES&amp;hl=en&amp;pc=m&amp;src=1\">Customize</a>,\n",
       " <a href=\"https://policies.google.com/privacy?hl=en&amp;utm_source=ucb\">Privacy Policy</a>,\n",
       " <a href=\"https://policies.google.com/terms?hl=en&amp;utm_source=ucb\">Terms of Service</a>]"
      ]
     },
     "execution_count": 13,
     "metadata": {},
     "output_type": "execute_result"
    }
   ],
   "source": [
    "soup.select('a')"
   ]
  },
  {
   "cell_type": "code",
   "execution_count": null,
   "id": "4276e14b",
   "metadata": {},
   "outputs": [],
   "source": [
    "#pane > div > div.Yr7JMd-pane-content.cYB2Ge-oHo7ed > div > div > div.siAUzd-neVct.section-scrollbox.cYB2Ge-oHo7ed.cYB2Ge-ti6hGc.siAUzd-neVct-Q3DXx-BvBYQ > div.siAUzd-neVct.section-scrollbox.cYB2Ge-oHo7ed.cYB2Ge-ti6hGc.siAUzd-neVct-Q3DXx-BvBYQ.siAUzd-neVct-YbohUe-bnBfGc > div:nth-child(9) > div > a"
   ]
  }
 ],
 "metadata": {
  "kernelspec": {
   "display_name": "Python 3 (ipykernel)",
   "language": "python",
   "name": "python3"
  },
  "language_info": {
   "codemirror_mode": {
    "name": "ipython",
    "version": 3
   },
   "file_extension": ".py",
   "mimetype": "text/x-python",
   "name": "python",
   "nbconvert_exporter": "python",
   "pygments_lexer": "ipython3",
   "version": "3.9.10"
  },
  "toc": {
   "base_numbering": 1,
   "nav_menu": {},
   "number_sections": true,
   "sideBar": true,
   "skip_h1_title": false,
   "title_cell": "Table of Contents",
   "title_sidebar": "Contents",
   "toc_cell": false,
   "toc_position": {},
   "toc_section_display": true,
   "toc_window_display": false
  },
  "varInspector": {
   "cols": {
    "lenName": 16,
    "lenType": 16,
    "lenVar": 40
   },
   "kernels_config": {
    "python": {
     "delete_cmd_postfix": "",
     "delete_cmd_prefix": "del ",
     "library": "var_list.py",
     "varRefreshCmd": "print(var_dic_list())"
    },
    "r": {
     "delete_cmd_postfix": ") ",
     "delete_cmd_prefix": "rm(",
     "library": "var_list.r",
     "varRefreshCmd": "cat(var_dic_list()) "
    }
   },
   "types_to_exclude": [
    "module",
    "function",
    "builtin_function_or_method",
    "instance",
    "_Feature"
   ],
   "window_display": false
  }
 },
 "nbformat": 4,
 "nbformat_minor": 5
}
