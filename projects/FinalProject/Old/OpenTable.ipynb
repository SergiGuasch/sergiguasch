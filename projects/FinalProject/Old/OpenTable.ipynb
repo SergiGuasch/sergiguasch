{
 "cells": [
  {
   "cell_type": "code",
   "execution_count": null,
   "id": "a5c24bda",
   "metadata": {},
   "outputs": [],
   "source": [
    "import time\n",
    "from time import sleep\n",
    "from random import randint\n",
    "from selenium.webdriver.common.keys import Keys\n",
    "from selenium import webdriver\n",
    "from bs4 import BeautifulSoup\n",
    "import requests\n",
    "from tqdm import tqdm\n",
    "import lxml\n",
    "import pandas as pd\n",
    "import re\n",
    "# import warnings\n",
    "# warnings.filterwarnings(\"ignore\")"
   ]
  },
  {
   "cell_type": "code",
   "execution_count": null,
   "id": "1ae560f8",
   "metadata": {},
   "outputs": [],
   "source": [
    "def parse_html(html):\n",
    "    data, item = pd.DataFrame(), {}\n",
    "    soup = BeautifulSoup(html, 'lxml')\n",
    "    for i, resto in enumerate(soup.find_all('div', class_='rest-row-info')):\n",
    "        item['name'] = resto.find('span', class_='rest-row-name-text').text\n",
    "\n",
    "        booking = resto.find('div', class_='booking')\n",
    "        item['bookings'] = re.search('\\d+', booking.text).group() if booking else 'NA'\n",
    "\n",
    "        rating = resto.select('div.all-stars.filled')\n",
    "        item['rating'] = int(re.search('\\d+', rating[0].get('style')).group()) if rating else 'NA'\n",
    "\n",
    "        reviews = resto.find('span', class_='star-rating-text--review-text')\n",
    "        item['reviews'] = int(re.search('\\d+', reviews.text).group()) if reviews else 'NA'\n",
    "\n",
    "        item['price'] = int(resto.find('div', class_='rest-row-pricing').find('i').text.count('$'))\n",
    "        item['cuisine'] = resto.find('span', class_='rest-row-meta--cuisine').text\n",
    "        item['location'] = resto.find('span', class_='rest-row-meta--location').text\n",
    "        data[i] = pd.Series(item)\n",
    "    return data.T\n",
    "\n",
    "\n",
    "restaurants = pd.DataFrame()\n",
    "driver = webdriver.Chrome()\n",
    "url = \"https://www.opentable.com/new-york-restaurant-listings\"\n",
    "driver.get(url)\n",
    "# while True:\n",
    "#     sleep(1)\n",
    "    new_data = parse_html(driver.page_source)\n",
    "#     if new_data.empty:\n",
    "#         break\n",
    "    restaurants = pd.concat([restaurants, new_data], ignore_index=True)\n",
    "    print(len(restaurants))\n",
    "   # driver.find_element_by_link_text('Next').click()\n",
    "\n",
    "driver.close()\n",
    "restaurants.to_csv('results2.csv', index=False)\n",
    "print(restaurants)\n"
   ]
  },
  {
   "cell_type": "code",
   "execution_count": 7,
   "id": "80878a02",
   "metadata": {},
   "outputs": [
    {
     "name": "stdout",
     "output_type": "stream",
     "text": [
      "100\n"
     ]
    },
    {
     "name": "stderr",
     "output_type": "stream",
     "text": [
      "C:\\Users\\Sergi\\AppData\\Local\\Temp\\ipykernel_21224\\3192957148.py:49: DeprecationWarning: find_element_by_* commands are deprecated. Please use find_element() instead\n",
      "  driver.find_element_by_link_text('Next').click()\n"
     ]
    },
    {
     "ename": "ElementClickInterceptedException",
     "evalue": "Message: element click intercepted: Element <a href=\"fake url\" class=\"pagination-link pagination-next\">...</a> is not clickable at point (958, 650). Other element would receive the click: <div class=\"ot-sdk-row\">...</div>\n  (Session info: chrome=99.0.4844.51)\nStacktrace:\nBacktrace:\n\tOrdinal0 [0x00839943+2595139]\n\tOrdinal0 [0x007CC9F1+2148849]\n\tOrdinal0 [0x006C4528+1066280]\n\tOrdinal0 [0x006F7621+1275425]\n\tOrdinal0 [0x006F5657+1267287]\n\tOrdinal0 [0x006F333B+1258299]\n\tOrdinal0 [0x006F207D+1253501]\n\tOrdinal0 [0x006E7AB3+1211059]\n\tOrdinal0 [0x0070B9EC+1358316]\n\tOrdinal0 [0x006E7474+1209460]\n\tOrdinal0 [0x0070BC04+1358852]\n\tOrdinal0 [0x0071BAF2+1424114]\n\tOrdinal0 [0x0070B806+1357830]\n\tOrdinal0 [0x006E6086+1204358]\n\tOrdinal0 [0x006E6F96+1208214]\n\tGetHandleVerifier [0x009DB232+1658114]\n\tGetHandleVerifier [0x00A9312C+2411516]\n\tGetHandleVerifier [0x008CF261+560433]\n\tGetHandleVerifier [0x008CE366+556598]\n\tOrdinal0 [0x007D286B+2173035]\n\tOrdinal0 [0x007D75F8+2192888]\n\tOrdinal0 [0x007D76E5+2193125]\n\tOrdinal0 [0x007E11FC+2232828]\n\tBaseThreadInitThunk [0x75EA6739+25]\n\tRtlGetFullPathName_UEx [0x77378E7F+1215]\n\tRtlGetFullPathName_UEx [0x77378E4D+1165]\n",
     "output_type": "error",
     "traceback": [
      "\u001b[1;31m---------------------------------------------------------------------------\u001b[0m",
      "\u001b[1;31mElementClickInterceptedException\u001b[0m          Traceback (most recent call last)",
      "Input \u001b[1;32mIn [7]\u001b[0m, in \u001b[0;36m<cell line: 43>\u001b[1;34m()\u001b[0m\n\u001b[0;32m     47\u001b[0m     restaurants \u001b[38;5;241m=\u001b[39m pd\u001b[38;5;241m.\u001b[39mconcat([restaurants, new_data], ignore_index\u001b[38;5;241m=\u001b[39m\u001b[38;5;28;01mTrue\u001b[39;00m)\n\u001b[0;32m     48\u001b[0m     \u001b[38;5;28mprint\u001b[39m(\u001b[38;5;28mlen\u001b[39m(restaurants))\n\u001b[1;32m---> 49\u001b[0m     \u001b[43mdriver\u001b[49m\u001b[38;5;241;43m.\u001b[39;49m\u001b[43mfind_element_by_link_text\u001b[49m\u001b[43m(\u001b[49m\u001b[38;5;124;43m'\u001b[39;49m\u001b[38;5;124;43mNext\u001b[39;49m\u001b[38;5;124;43m'\u001b[39;49m\u001b[43m)\u001b[49m\u001b[38;5;241;43m.\u001b[39;49m\u001b[43mclick\u001b[49m\u001b[43m(\u001b[49m\u001b[43m)\u001b[49m\n\u001b[0;32m     51\u001b[0m \u001b[38;5;66;03m#driver.close()\u001b[39;00m\n\u001b[0;32m     52\u001b[0m restaurants\u001b[38;5;241m.\u001b[39mto_csv(\u001b[38;5;124m'\u001b[39m\u001b[38;5;124mresults.csv\u001b[39m\u001b[38;5;124m'\u001b[39m, index\u001b[38;5;241m=\u001b[39m\u001b[38;5;28;01mFalse\u001b[39;00m)\n",
      "File \u001b[1;32m~\\anaconda3\\envs\\project\\lib\\site-packages\\selenium\\webdriver\\remote\\webelement.py:81\u001b[0m, in \u001b[0;36mWebElement.click\u001b[1;34m(self)\u001b[0m\n\u001b[0;32m     79\u001b[0m \u001b[38;5;28;01mdef\u001b[39;00m \u001b[38;5;21mclick\u001b[39m(\u001b[38;5;28mself\u001b[39m) \u001b[38;5;241m-\u001b[39m\u001b[38;5;241m>\u001b[39m \u001b[38;5;28;01mNone\u001b[39;00m:\n\u001b[0;32m     80\u001b[0m     \u001b[38;5;124;03m\"\"\"Clicks the element.\"\"\"\u001b[39;00m\n\u001b[1;32m---> 81\u001b[0m     \u001b[38;5;28;43mself\u001b[39;49m\u001b[38;5;241;43m.\u001b[39;49m\u001b[43m_execute\u001b[49m\u001b[43m(\u001b[49m\u001b[43mCommand\u001b[49m\u001b[38;5;241;43m.\u001b[39;49m\u001b[43mCLICK_ELEMENT\u001b[49m\u001b[43m)\u001b[49m\n",
      "File \u001b[1;32m~\\anaconda3\\envs\\project\\lib\\site-packages\\selenium\\webdriver\\remote\\webelement.py:710\u001b[0m, in \u001b[0;36mWebElement._execute\u001b[1;34m(self, command, params)\u001b[0m\n\u001b[0;32m    708\u001b[0m     params \u001b[38;5;241m=\u001b[39m {}\n\u001b[0;32m    709\u001b[0m params[\u001b[38;5;124m'\u001b[39m\u001b[38;5;124mid\u001b[39m\u001b[38;5;124m'\u001b[39m] \u001b[38;5;241m=\u001b[39m \u001b[38;5;28mself\u001b[39m\u001b[38;5;241m.\u001b[39m_id\n\u001b[1;32m--> 710\u001b[0m \u001b[38;5;28;01mreturn\u001b[39;00m \u001b[38;5;28;43mself\u001b[39;49m\u001b[38;5;241;43m.\u001b[39;49m\u001b[43m_parent\u001b[49m\u001b[38;5;241;43m.\u001b[39;49m\u001b[43mexecute\u001b[49m\u001b[43m(\u001b[49m\u001b[43mcommand\u001b[49m\u001b[43m,\u001b[49m\u001b[43m \u001b[49m\u001b[43mparams\u001b[49m\u001b[43m)\u001b[49m\n",
      "File \u001b[1;32m~\\anaconda3\\envs\\project\\lib\\site-packages\\selenium\\webdriver\\remote\\webdriver.py:424\u001b[0m, in \u001b[0;36mWebDriver.execute\u001b[1;34m(self, driver_command, params)\u001b[0m\n\u001b[0;32m    422\u001b[0m response \u001b[38;5;241m=\u001b[39m \u001b[38;5;28mself\u001b[39m\u001b[38;5;241m.\u001b[39mcommand_executor\u001b[38;5;241m.\u001b[39mexecute(driver_command, params)\n\u001b[0;32m    423\u001b[0m \u001b[38;5;28;01mif\u001b[39;00m response:\n\u001b[1;32m--> 424\u001b[0m     \u001b[38;5;28;43mself\u001b[39;49m\u001b[38;5;241;43m.\u001b[39;49m\u001b[43merror_handler\u001b[49m\u001b[38;5;241;43m.\u001b[39;49m\u001b[43mcheck_response\u001b[49m\u001b[43m(\u001b[49m\u001b[43mresponse\u001b[49m\u001b[43m)\u001b[49m\n\u001b[0;32m    425\u001b[0m     response[\u001b[38;5;124m'\u001b[39m\u001b[38;5;124mvalue\u001b[39m\u001b[38;5;124m'\u001b[39m] \u001b[38;5;241m=\u001b[39m \u001b[38;5;28mself\u001b[39m\u001b[38;5;241m.\u001b[39m_unwrap_value(\n\u001b[0;32m    426\u001b[0m         response\u001b[38;5;241m.\u001b[39mget(\u001b[38;5;124m'\u001b[39m\u001b[38;5;124mvalue\u001b[39m\u001b[38;5;124m'\u001b[39m, \u001b[38;5;28;01mNone\u001b[39;00m))\n\u001b[0;32m    427\u001b[0m     \u001b[38;5;28;01mreturn\u001b[39;00m response\n",
      "File \u001b[1;32m~\\anaconda3\\envs\\project\\lib\\site-packages\\selenium\\webdriver\\remote\\errorhandler.py:247\u001b[0m, in \u001b[0;36mErrorHandler.check_response\u001b[1;34m(self, response)\u001b[0m\n\u001b[0;32m    245\u001b[0m         alert_text \u001b[38;5;241m=\u001b[39m value[\u001b[38;5;124m'\u001b[39m\u001b[38;5;124malert\u001b[39m\u001b[38;5;124m'\u001b[39m]\u001b[38;5;241m.\u001b[39mget(\u001b[38;5;124m'\u001b[39m\u001b[38;5;124mtext\u001b[39m\u001b[38;5;124m'\u001b[39m)\n\u001b[0;32m    246\u001b[0m     \u001b[38;5;28;01mraise\u001b[39;00m exception_class(message, screen, stacktrace, alert_text)  \u001b[38;5;66;03m# type: ignore[call-arg]  # mypy is not smart enough here\u001b[39;00m\n\u001b[1;32m--> 247\u001b[0m \u001b[38;5;28;01mraise\u001b[39;00m exception_class(message, screen, stacktrace)\n",
      "\u001b[1;31mElementClickInterceptedException\u001b[0m: Message: element click intercepted: Element <a href=\"fake url\" class=\"pagination-link pagination-next\">...</a> is not clickable at point (958, 650). Other element would receive the click: <div class=\"ot-sdk-row\">...</div>\n  (Session info: chrome=99.0.4844.51)\nStacktrace:\nBacktrace:\n\tOrdinal0 [0x00839943+2595139]\n\tOrdinal0 [0x007CC9F1+2148849]\n\tOrdinal0 [0x006C4528+1066280]\n\tOrdinal0 [0x006F7621+1275425]\n\tOrdinal0 [0x006F5657+1267287]\n\tOrdinal0 [0x006F333B+1258299]\n\tOrdinal0 [0x006F207D+1253501]\n\tOrdinal0 [0x006E7AB3+1211059]\n\tOrdinal0 [0x0070B9EC+1358316]\n\tOrdinal0 [0x006E7474+1209460]\n\tOrdinal0 [0x0070BC04+1358852]\n\tOrdinal0 [0x0071BAF2+1424114]\n\tOrdinal0 [0x0070B806+1357830]\n\tOrdinal0 [0x006E6086+1204358]\n\tOrdinal0 [0x006E6F96+1208214]\n\tGetHandleVerifier [0x009DB232+1658114]\n\tGetHandleVerifier [0x00A9312C+2411516]\n\tGetHandleVerifier [0x008CF261+560433]\n\tGetHandleVerifier [0x008CE366+556598]\n\tOrdinal0 [0x007D286B+2173035]\n\tOrdinal0 [0x007D75F8+2192888]\n\tOrdinal0 [0x007D76E5+2193125]\n\tOrdinal0 [0x007E11FC+2232828]\n\tBaseThreadInitThunk [0x75EA6739+25]\n\tRtlGetFullPathName_UEx [0x77378E7F+1215]\n\tRtlGetFullPathName_UEx [0x77378E4D+1165]\n"
     ]
    }
   ],
   "source": [
    "from selenium import webdriver\n",
    "import pandas as pd\n",
    "from bs4 import BeautifulSoup\n",
    "from time import sleep\n",
    "import re\n",
    "\n",
    "def parse_html(html):\n",
    "    data, item = pd.DataFrame(), {}\n",
    "    soup = BeautifulSoup(html, 'lxml')\n",
    "    for i, resto in enumerate(soup.find_all('div', class_='rest-row-info')):\n",
    "        item['name'] = resto.find('span', class_='rest-row-name-text').text\n",
    "\n",
    "        booking = resto.find('div', class_='booking')\n",
    "        item['bookings'] = re.search('\\d+', booking.text).group() if booking else 'NA'\n",
    "\n",
    "        rating = resto.select('.star-rating .star-rating-score')\n",
    "        #print(rating)\n",
    "        item['rating'] = rating[0]['aria-label'] if rating else 'NA'\n",
    "\n",
    "        reviews = resto.find('span', class_='star-rating-text--review-text')\n",
    "        \n",
    "        reviews = resto.select('div.review-rating-text span')\n",
    "        #print(reviews)\n",
    "        item['reviews'] = reviews[0].text if reviews else 'NA'\n",
    "\n",
    "        item['price'] = int(resto.find('div', class_='rest-row-pricing').find('i').text.count('$'))\n",
    "        \n",
    "        item['cuisine'] = resto.find_all('span', class_='rest-row-meta--cuisine')[-1].text\n",
    "        #print(item['cuisine'])\n",
    "        \n",
    "        item['location'] = resto.find('span', class_='rest-row-meta--location').text\n",
    "        data[i] = pd.Series(item)\n",
    "    return data.T\n",
    "\n",
    "\n",
    "restaurants = pd.DataFrame()\n",
    "#driver = webdriver.Chrome(ChromeDriverManager().install())\n",
    "driver = webdriver.Chrome()\n",
    "url = \"https://www.opentable.com/barcelona-restaurant-listings\"\n",
    "driver.get(url)\n",
    "\n",
    "while True:\n",
    "    sleep(1)\n",
    "    new_data = parse_html(driver.page_source)\n",
    "    if new_data.empty:\n",
    "        break\n",
    "    restaurants = pd.concat([restaurants, new_data], ignore_index=True)\n",
    "    print(len(restaurants))\n",
    "    driver.find_element_by_link_text('Next').click()\n",
    "    \n",
    "#driver.close()\n",
    "restaurants.to_csv('results.csv', index=False)\n",
    "print(restaurants[['rating', 'reviews', 'cuisine']])"
   ]
  },
  {
   "cell_type": "code",
   "execution_count": null,
   "id": "9e21b583",
   "metadata": {},
   "outputs": [],
   "source": []
  }
 ],
 "metadata": {
  "kernelspec": {
   "display_name": "Python 3 (ipykernel)",
   "language": "python",
   "name": "python3"
  },
  "language_info": {
   "codemirror_mode": {
    "name": "ipython",
    "version": 3
   },
   "file_extension": ".py",
   "mimetype": "text/x-python",
   "name": "python",
   "nbconvert_exporter": "python",
   "pygments_lexer": "ipython3",
   "version": "3.9.10"
  },
  "toc": {
   "base_numbering": 1,
   "nav_menu": {},
   "number_sections": true,
   "sideBar": true,
   "skip_h1_title": false,
   "title_cell": "Table of Contents",
   "title_sidebar": "Contents",
   "toc_cell": false,
   "toc_position": {},
   "toc_section_display": true,
   "toc_window_display": false
  },
  "varInspector": {
   "cols": {
    "lenName": 16,
    "lenType": 16,
    "lenVar": 40
   },
   "kernels_config": {
    "python": {
     "delete_cmd_postfix": "",
     "delete_cmd_prefix": "del ",
     "library": "var_list.py",
     "varRefreshCmd": "print(var_dic_list())"
    },
    "r": {
     "delete_cmd_postfix": ") ",
     "delete_cmd_prefix": "rm(",
     "library": "var_list.r",
     "varRefreshCmd": "cat(var_dic_list()) "
    }
   },
   "types_to_exclude": [
    "module",
    "function",
    "builtin_function_or_method",
    "instance",
    "_Feature"
   ],
   "window_display": false
  }
 },
 "nbformat": 4,
 "nbformat_minor": 5
}
