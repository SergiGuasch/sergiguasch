{
 "cells": [
  {
   "cell_type": "code",
   "execution_count": 1,
   "id": "0dd5e5ef",
   "metadata": {},
   "outputs": [],
   "source": [
    "import requests\n",
    "from bs4 import BeautifulSoup"
   ]
  },
  {
   "cell_type": "code",
   "execution_count": 10,
   "id": "4ab14ec2",
   "metadata": {},
   "outputs": [],
   "source": [
    "#url='https://www.thefork.com/restaurants/barcelona-c41710'"
   ]
  },
  {
   "cell_type": "code",
   "execution_count": 2,
   "id": "8edebe2f",
   "metadata": {},
   "outputs": [],
   "source": [
    "url = \"http://api.tripadvisor.com/api/partner/2.0/location/60745/hotels?key=fc875fdd1e46ddb3372d71777454b0e1_sr98766_ooPq87\""
   ]
  },
  {
   "cell_type": "code",
   "execution_count": 3,
   "id": "a66d84f0",
   "metadata": {},
   "outputs": [],
   "source": [
    "results=requests.get(url, headers ={'Accept-Language':'en-US'})"
   ]
  },
  {
   "cell_type": "code",
   "execution_count": 4,
   "id": "c5aff9fb",
   "metadata": {},
   "outputs": [
    {
     "data": {
      "text/plain": [
       "401"
      ]
     },
     "execution_count": 4,
     "metadata": {},
     "output_type": "execute_result"
    }
   ],
   "source": [
    "results.status_code"
   ]
  },
  {
   "cell_type": "code",
   "execution_count": 5,
   "id": "73e6c9d9",
   "metadata": {},
   "outputs": [],
   "source": [
    "soup = BeautifulSoup(results.content,'html.parser')"
   ]
  },
  {
   "cell_type": "code",
   "execution_count": 6,
   "id": "eeb2b38b",
   "metadata": {},
   "outputs": [
    {
     "name": "stdout",
     "output_type": "stream",
     "text": [
      "{\n",
      "  \"error\": {\n",
      "    \"code\": \"160\",\n",
      "    \"type\": \"UnauthorizedException\",\n",
      "    \"message\": \"invalid client key: fc875fdd1e46ddb3372d71777454b0e1_sr98766_ooPq87\"\n",
      "  }\n",
      "}\n",
      "\n"
     ]
    }
   ],
   "source": [
    "print(soup.prettify())"
   ]
  },
  {
   "cell_type": "code",
   "execution_count": null,
   "id": "cc791f03",
   "metadata": {},
   "outputs": [],
   "source": [
    "soup.select('h3.c-title.a-no-trucate')[0].get_text(strip=True)"
   ]
  },
  {
   "cell_type": "code",
   "execution_count": 7,
   "id": "fb90fa9d",
   "metadata": {},
   "outputs": [],
   "source": [
    "restaurant = []\n",
    "for name in soup.findAll('div',{'class':'css-f32k0j ei5oc306'}):\n",
    "    restaurant.append(name.text.strip())"
   ]
  },
  {
   "cell_type": "code",
   "execution_count": 8,
   "id": "5ba190d6",
   "metadata": {},
   "outputs": [
    {
     "data": {
      "text/plain": [
       "[]"
      ]
     },
     "execution_count": 8,
     "metadata": {},
     "output_type": "execute_result"
    }
   ],
   "source": [
    "restaurant"
   ]
  },
  {
   "cell_type": "code",
   "execution_count": null,
   "id": "c9c4730f",
   "metadata": {},
   "outputs": [],
   "source": []
  }
 ],
 "metadata": {
  "kernelspec": {
   "display_name": "Python 3 (ipykernel)",
   "language": "python",
   "name": "python3"
  },
  "language_info": {
   "codemirror_mode": {
    "name": "ipython",
    "version": 3
   },
   "file_extension": ".py",
   "mimetype": "text/x-python",
   "name": "python",
   "nbconvert_exporter": "python",
   "pygments_lexer": "ipython3",
   "version": "3.9.10"
  },
  "toc": {
   "base_numbering": 1,
   "nav_menu": {},
   "number_sections": true,
   "sideBar": true,
   "skip_h1_title": false,
   "title_cell": "Table of Contents",
   "title_sidebar": "Contents",
   "toc_cell": false,
   "toc_position": {},
   "toc_section_display": true,
   "toc_window_display": false
  },
  "varInspector": {
   "cols": {
    "lenName": 16,
    "lenType": 16,
    "lenVar": 40
   },
   "kernels_config": {
    "python": {
     "delete_cmd_postfix": "",
     "delete_cmd_prefix": "del ",
     "library": "var_list.py",
     "varRefreshCmd": "print(var_dic_list())"
    },
    "r": {
     "delete_cmd_postfix": ") ",
     "delete_cmd_prefix": "rm(",
     "library": "var_list.r",
     "varRefreshCmd": "cat(var_dic_list()) "
    }
   },
   "types_to_exclude": [
    "module",
    "function",
    "builtin_function_or_method",
    "instance",
    "_Feature"
   ],
   "window_display": false
  }
 },
 "nbformat": 4,
 "nbformat_minor": 5
}
