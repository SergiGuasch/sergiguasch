{
 "cells": [
  {
   "cell_type": "code",
   "execution_count": 4,
   "id": "38a2276d",
   "metadata": {},
   "outputs": [],
   "source": [
    "import re\n",
    "from time import sleep\n",
    "import pandas as pd\n",
    "from bs4 import BeautifulSoup\n",
    "from selenium import webdriver"
   ]
  },
  {
   "cell_type": "code",
   "execution_count": 5,
   "id": "1d8be6f4",
   "metadata": {},
   "outputs": [],
   "source": [
    "def parse_html(html):\n",
    "    \"\"\"Parse content from various tags from OpenTable restaurants listing\"\"\"\n",
    "    data, item = pd.DataFrame(), {}\n",
    "    soup = BeautifulSoup(html, 'lxml')\n",
    "    for i, resto in enumerate(soup.find_all('div', class_='rest-row-info')):\n",
    "        item['name'] = resto.find('span', class_='rest-row-name-text').text\n",
    "\n",
    "        booking = resto.find('div', class_='booking')\n",
    "        item['bookings'] = re.search('\\d+', booking.text).group() if booking else 'NA'\n",
    "\n",
    "        rating = resto.find('div', class_='star-rating-score')\n",
    "        item['rating'] = float(rating['aria-label'].split()[0]) if rating else 'NA'\n",
    "\n",
    "        reviews = resto.find('span', class_='underline-hover')\n",
    "        item['reviews'] = int(re.search('\\d+', reviews.text).group()) if reviews else 'NA'\n",
    "\n",
    "        item['price'] = int(resto.find('div', class_='rest-row-pricing').find('i').text.count('$'))\n",
    "        item['cuisine'] = resto.find('span', class_='rest-row-meta--cuisine rest-row-meta-text sfx1388addContent').text\n",
    "        item['location'] = resto.find('span', class_='rest-row-meta--location rest-row-meta-text sfx1388addContent').text\n",
    "        data[i] = pd.Series(item)\n",
    "    return data.T"
   ]
  },
  {
   "cell_type": "code",
   "execution_count": 9,
   "id": "3a8c2f8c",
   "metadata": {},
   "outputs": [
    {
     "name": "stdout",
     "output_type": "stream",
     "text": [
      "Page: 1 | Downloaded: 100\n"
     ]
    },
    {
     "name": "stderr",
     "output_type": "stream",
     "text": [
      "C:\\Users\\Sergi\\AppData\\Local\\Temp\\ipykernel_12468\\1278231586.py:19: DeprecationWarning: find_element_by_* commands are deprecated. Please use find_element() instead\n",
      "  driver.find_element_by_xpath('//*[@id=\"results-pagination\"]/li[9]/a/span').click()\n"
     ]
    },
    {
     "name": "stdout",
     "output_type": "stream",
     "text": [
      "End\n",
      "                                                 name  bookings  rating  \\\n",
      "0                          Hard Rock Cafe - Barcelona      22.0     4.4   \n",
      "1                      Pura Brasa Rambla Catalunya 13       1.0     4.1   \n",
      "2                             Gandhi Restaurant Hindu       NaN     4.7   \n",
      "3                                  Rumbo Bar & Eatery       NaN     3.4   \n",
      "4                                 MR PORTER BARCELONA      26.0     4.6   \n",
      "..                                                ...       ...     ...   \n",
      "95                 Taller de Tapas - Rambla Catalunya       NaN     4.0   \n",
      "96                                              Musiu       NaN     4.4   \n",
      "97  DOQ Restaurant & Cocktail Bar  - Hotel Indigo ...       NaN     NaN   \n",
      "98                                       Tengo Hambre       NaN     NaN   \n",
      "99                               La Padella Barcelona       NaN     3.0   \n",
      "\n",
      "    reviews  price               cuisine                         location  \n",
      "0     718.0      2              American                         El Gòtic  \n",
      "1       8.0      2               Spanish              Dreta de l'Eixample  \n",
      "2       1.0      2                Indian  L'Antiga Esquerra de l'Eixample  \n",
      "3       1.0      3         Mediterranean              Dreta de l'Eixample  \n",
      "4     128.0      4            Steakhouse  L'Antiga Esquerra de l'Eixample  \n",
      "..      ...    ...                   ...                              ...  \n",
      "95     10.0      2  Tapas / Small Plates              Dreta de l'Eixample  \n",
      "96      1.0      2               Italian           Sant Gervasi - Galvany  \n",
      "97      NaN      3         Mediterranean              Dreta de l'Eixample  \n",
      "98      NaN      2               Italian              Dreta de l'Eixample  \n",
      "99      3.0      2               Italian              Dreta de l'Eixample  \n",
      "\n",
      "[100 rows x 7 columns]\n"
     ]
    }
   ],
   "source": [
    "driver = webdriver.Chrome()\n",
    "url =\"https://www.opentable.com/barcelona-restaurant-listings\"\n",
    "driver.get(url)\n",
    "page = collected = 0\n",
    "x = True\n",
    "while x == True:\n",
    "    sleep(1)\n",
    "    new_data = parse_html(driver.page_source)\n",
    "    if new_data.empty:\n",
    "        break\n",
    "    if page == 0:\n",
    "        new_data.to_csv('results.csv', index=False)\n",
    "    elif page > 0:\n",
    "        new_data.to_csv('results.csv', index=False, header=None, mode='a')\n",
    "    page += 1\n",
    "    collected += len(new_data)\n",
    "    print(f'Page: {page} | Downloaded: {collected}')\n",
    "    try:\n",
    "        driver.find_element('Next').click()\n",
    "    except:\n",
    "        print(\"End\")\n",
    "        x=False\n",
    "driver.close()\n",
    "restaurants = pd.read_csv('results.csv')\n",
    "print(restaurants)"
   ]
  },
  {
   "cell_type": "code",
   "execution_count": 10,
   "id": "1a909350",
   "metadata": {},
   "outputs": [
    {
     "name": "stdout",
     "output_type": "stream",
     "text": [
      "Page: 1 | Downloaded: 100\n",
      "End\n",
      "                                   name  bookings  rating  reviews  price  \\\n",
      "0   Valentino's Cerveceria Gastronomica       NaN     NaN      NaN      2   \n",
      "1                    Fratelli la Bufala       NaN     NaN      NaN      2   \n",
      "2                 Patagonia Beef & Wine       NaN     NaN      NaN      2   \n",
      "3              FitKitchen -  Diputación       NaN     4.0      4.0      2   \n",
      "4                  Alsur Cafe ( Lluria)       NaN     4.3      4.0      2   \n",
      "..                                  ...       ...     ...      ...    ...   \n",
      "95                           Bitxarracu       NaN     NaN      NaN      2   \n",
      "96                             Bar Lobo       NaN     NaN      NaN      2   \n",
      "97           Restaurant Nou Mediterrani       NaN     NaN      NaN      3   \n",
      "98                     101 Mini Burgers       NaN     NaN      NaN      2   \n",
      "99                             Yamadori       NaN     NaN      NaN      2   \n",
      "\n",
      "                          cuisine                location  \n",
      "0   Bar / Lounge / Bottle Service  Sant Gervasi - Galvany  \n",
      "1                         Italian  Sant Gervasi - Galvany  \n",
      "2                      Steakhouse  Sant Gervasi - Galvany  \n",
      "3                   International     Dreta de l'Eixample  \n",
      "4                       Breakfast     Dreta de l'Eixample  \n",
      "..                            ...                     ...  \n",
      "95                  Mediterranean  Sant Gervasi - Galvany  \n",
      "96  Bar / Lounge / Bottle Service                El Raval  \n",
      "97                  Mediterranean     Dreta de l'Eixample  \n",
      "98                  Mediterranean                El Raval  \n",
      "99                       Japanese  Sant Gervasi - Galvany  \n",
      "\n",
      "[100 rows x 7 columns]\n"
     ]
    }
   ],
   "source": [
    "driver = webdriver.Chrome()\n",
    "url =\"https://www.opentable.com/barcelona-restaurant-listings?covers=2&currentview=list&datetime=2022-03-11+19%3A00&latitude=41.3889465&longitude=2.167456&metroid=3403&size=100&sort=Popularity&from=100\"\n",
    "driver.get(url)\n",
    "page = collected = 0\n",
    "x = True\n",
    "while x == True:\n",
    "    sleep(1)\n",
    "    new_data = parse_html(driver.page_source)\n",
    "    if new_data.empty:\n",
    "        break\n",
    "    if page == 0:\n",
    "        new_data.to_csv('results2.csv', index=False)\n",
    "    elif page > 0:\n",
    "        new_data.to_csv('results2.csv', index=False, header=None, mode='a')\n",
    "    page += 1\n",
    "    collected += len(new_data)\n",
    "    print(f'Page: {page} | Downloaded: {collected}')\n",
    "    try:\n",
    "        driver.find_element('Next').click()      \n",
    "    except:\n",
    "        print(\"End\")\n",
    "        x=False\n",
    "driver.close()\n",
    "restaurants2 = pd.read_csv('results2.csv')\n",
    "print(restaurants2)"
   ]
  },
  {
   "cell_type": "code",
   "execution_count": null,
   "id": "7a6cdfc0",
   "metadata": {},
   "outputs": [],
   "source": []
  }
 ],
 "metadata": {
  "kernelspec": {
   "display_name": "Python 3 (ipykernel)",
   "language": "python",
   "name": "python3"
  },
  "language_info": {
   "codemirror_mode": {
    "name": "ipython",
    "version": 3
   },
   "file_extension": ".py",
   "mimetype": "text/x-python",
   "name": "python",
   "nbconvert_exporter": "python",
   "pygments_lexer": "ipython3",
   "version": "3.9.10"
  },
  "toc": {
   "base_numbering": 1,
   "nav_menu": {},
   "number_sections": true,
   "sideBar": true,
   "skip_h1_title": false,
   "title_cell": "Table of Contents",
   "title_sidebar": "Contents",
   "toc_cell": false,
   "toc_position": {},
   "toc_section_display": true,
   "toc_window_display": false
  },
  "varInspector": {
   "cols": {
    "lenName": 16,
    "lenType": 16,
    "lenVar": 40
   },
   "kernels_config": {
    "python": {
     "delete_cmd_postfix": "",
     "delete_cmd_prefix": "del ",
     "library": "var_list.py",
     "varRefreshCmd": "print(var_dic_list())"
    },
    "r": {
     "delete_cmd_postfix": ") ",
     "delete_cmd_prefix": "rm(",
     "library": "var_list.r",
     "varRefreshCmd": "cat(var_dic_list()) "
    }
   },
   "types_to_exclude": [
    "module",
    "function",
    "builtin_function_or_method",
    "instance",
    "_Feature"
   ],
   "window_display": false
  }
 },
 "nbformat": 4,
 "nbformat_minor": 5
}
